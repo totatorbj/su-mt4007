{
 "cells": [
  {
   "cell_type": "markdown",
   "id": "78623384-8353-4a88-8112-613ffb3246f2",
   "metadata": {},
   "source": [
    "## Homework 1"
   ]
  },
  {
   "cell_type": "markdown",
   "id": "177d32d6-7057-444d-8fe8-d7ac79fabfab",
   "metadata": {},
   "source": [
    "I study single courses in mathematical statistics, mathematics and computer science, with the goal of a master degree."
   ]
  },
  {
   "cell_type": "markdown",
   "id": "ca3e937c-b2b4-4cc6-ac7d-b2ed4353c97a",
   "metadata": {},
   "source": [
    "I have taken a course in basic Python, including pandas, numpy and matplotlib. It was not specifically focused on data science."
   ]
  },
  {
   "cell_type": "code",
   "execution_count": null,
   "id": "56c42964-a2a5-4698-845c-b24facc310d6",
   "metadata": {},
   "outputs": [],
   "source": []
  }
 ],
 "metadata": {
  "kernelspec": {
   "display_name": "Python 3 (ipykernel)",
   "language": "python",
   "name": "python3"
  },
  "language_info": {
   "codemirror_mode": {
    "name": "ipython",
    "version": 3
   },
   "file_extension": ".py",
   "mimetype": "text/x-python",
   "name": "python",
   "nbconvert_exporter": "python",
   "pygments_lexer": "ipython3",
   "version": "3.13.0"
  }
 },
 "nbformat": 4,
 "nbformat_minor": 5
}

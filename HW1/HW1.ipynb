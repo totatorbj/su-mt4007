{
 "cells": [
  {
   "cell_type": "markdown",
   "id": "f2ff764f-03da-409a-885a-3290fac97041",
   "metadata": {},
   "source": [
    "## Homework 1"
   ]
  },
  {
   "cell_type": "markdown",
   "id": "1e8fc0d6-ef41-40be-8ea9-0bea5c27fdd3",
   "metadata": {},
   "source": [
    "##### A brief description of myself"
   ]
  },
  {
   "cell_type": "markdown",
   "id": "e45a727d-a946-4414-85a9-2963c733a8f0",
   "metadata": {},
   "source": [
    "I study single courses in mathematical statistics, mathematics and computer science, with the goal of a master degree. Since I work as a software engineer, I study part time."
   ]
  },
  {
   "cell_type": "markdown",
   "id": "d3cbf560-6535-4ad0-9d4a-e18bc73f0904",
   "metadata": {},
   "source": [
    "##### A brief description of my previous experience with Data Science."
   ]
  },
  {
   "cell_type": "markdown",
   "id": "66437836-35b8-4e6a-a64c-d74ccb23d152",
   "metadata": {},
   "source": [
    "I have taken a course in basic Python, including pandas, numpy and matplotlib. It was not specifically focused on data science. I have not worked with data science tasks."
   ]
  }
 ],
 "metadata": {
  "kernelspec": {
   "display_name": "Python 3 (ipykernel)",
   "language": "python",
   "name": "python3"
  },
  "language_info": {
   "codemirror_mode": {
    "name": "ipython",
    "version": 3
   },
   "file_extension": ".py",
   "mimetype": "text/x-python",
   "name": "python",
   "nbconvert_exporter": "python",
   "pygments_lexer": "ipython3",
   "version": "3.13.0"
  }
 },
 "nbformat": 4,
 "nbformat_minor": 5
}

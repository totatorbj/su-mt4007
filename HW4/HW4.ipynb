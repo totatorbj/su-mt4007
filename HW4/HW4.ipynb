{
 "cells": [
  {
   "cell_type": "markdown",
   "id": "4a671dba-0c16-4d98-98dd-46666d4c70cf",
   "metadata": {},
   "source": [
    "\n",
    "# Homework 4\n"
   ]
  },
  {
   "cell_type": "markdown",
   "id": "a64fa077-ebe7-48c7-b57a-0f13af532c47",
   "metadata": {},
   "source": [
    "Some initializations"
   ]
  },
  {
   "cell_type": "code",
   "execution_count": 1,
   "id": "3e778b76-66bf-425b-a20b-0fd1499cfda1",
   "metadata": {},
   "outputs": [],
   "source": [
    "import numpy as np\n",
    "import pandas as pd\n",
    "import re\n",
    "import matplotlib.pyplot as plt\n",
    "import seaborn as sns\n",
    "import sqlite3 as sql\n",
    "pd.set_option('display.max_columns', 220) # to see all columns \n",
    "\n",
    "pd.options.mode.copy_on_write = True # to avoid warnings when replacing values in a column and other commands\n",
    "# see https://pandas.pydata.org/pandas-docs/stable/user_guide/copy_on_write.html#copy-on-write-chained-assignment"
   ]
  },
  {
   "cell_type": "markdown",
   "id": "e8b1af13-893f-495e-a67e-660d0146a195",
   "metadata": {},
   "source": [
    "\n",
    "## Joining data\n"
   ]
  },
  {
   "cell_type": "markdown",
   "id": "a8d694ec-fdbc-4756-9f91-c03fce1c4040",
   "metadata": {},
   "source": [
    "\n",
    "#### Loading data\n"
   ]
  },
  {
   "cell_type": "code",
   "execution_count": 2,
   "id": "761d02e3-88f7-444b-ab40-1fd6cb9afd65",
   "metadata": {},
   "outputs": [],
   "source": [
    "# ![Upper left corner of the file opened in Jupyter](cleared_cell_phones_total-csv.jpg \"'Delimiter' shows the sep parameter value to use\")<br><br>"
   ]
  },
  {
   "cell_type": "code",
   "execution_count": 3,
   "id": "958e8af4-e6ee-4679-ab8f-f8edbac55644",
   "metadata": {},
   "outputs": [],
   "source": [
    "cleaned_cell_phones_total_df = pd.read_csv('cleaned_cell_phones_total.csv', index_col='iso-3')"
   ]
  },
  {
   "cell_type": "code",
   "execution_count": 4,
   "id": "4b40af6d-5bc2-47fc-aaa1-965bc5954454",
   "metadata": {},
   "outputs": [],
   "source": [
    "# cleared_cell_phones_total_data_df = pd.read_csv('cleared_cell_phones_total.csv', index_col='iso-3')"
   ]
  },
  {
   "cell_type": "code",
   "execution_count": 5,
   "id": "cbf50e56-9817-4fe8-8f71-7a9d1cf07519",
   "metadata": {},
   "outputs": [],
   "source": [
    "# ![Upper left corner of the file opened in Jupyter](country_data-csv.jpg \"'Delimiter' shows the sep parameter value to use\")<br><br>"
   ]
  },
  {
   "cell_type": "code",
   "execution_count": 6,
   "id": "d83c3d5c-2e24-4aca-a398-bb467f28c0f6",
   "metadata": {},
   "outputs": [],
   "source": [
    "country_data_df = pd.read_csv(\"country_data.csv\", index_col='alpha-3')"
   ]
  },
  {
   "cell_type": "code",
   "execution_count": 7,
   "id": "3365ef69-ee10-4dc9-8ea8-d4adc2dde2c6",
   "metadata": {},
   "outputs": [],
   "source": [
    "# country_data_df = pd.read_csv(\"https://github.com/su-mt4007/data/country_data.csv\", index_col='alpha-3')"
   ]
  },
  {
   "cell_type": "code",
   "execution_count": 8,
   "id": "3c5f6301-5690-4264-bac9-ee66c6cd72f9",
   "metadata": {},
   "outputs": [],
   "source": [
    "# ![Upper left corner of the file opened in Jupyter](pop_data-csv.jpg \"'Delimiter' shows the sep parameter value to use\")<br><br>"
   ]
  },
  {
   "cell_type": "code",
   "execution_count": 9,
   "id": "67021c88-8894-49ae-aa86-4bb7b6025eb8",
   "metadata": {},
   "outputs": [],
   "source": [
    "pop_data_df = pd.read_csv('pop_data.csv', index_col='iso-3')"
   ]
  },
  {
   "cell_type": "code",
   "execution_count": 10,
   "id": "05a97437-0d23-4a46-b802-40b88495e547",
   "metadata": {},
   "outputs": [],
   "source": [
    "# pop_data_df = pd.read_csv('https://github.com/su-mt4007/data/pop_data.csv', index_col='iso-3')"
   ]
  },
  {
   "cell_type": "markdown",
   "id": "d1000803-2024-418e-aac0-bedded138c91",
   "metadata": {},
   "source": [
    "\n",
    "#### Structure of data\n"
   ]
  },
  {
   "cell_type": "markdown",
   "id": "7b23d17e-0188-49e0-97a0-0806df4838df",
   "metadata": {},
   "source": [
    "Cell phones"
   ]
  },
  {
   "cell_type": "code",
   "execution_count": 11,
   "id": "3a8597c8-a6a5-4e3f-af73-9ec92e2ede78",
   "metadata": {},
   "outputs": [
    {
     "name": "stdout",
     "output_type": "stream",
     "text": [
      "<class 'pandas.core.frame.DataFrame'>\n",
      "Index: 214 entries, ABW to ZWE\n",
      "Data columns (total 56 columns):\n",
      " #   Column  Non-Null Count  Dtype  \n",
      "---  ------  --------------  -----  \n",
      " 0   1960    214 non-null    float64\n",
      " 1   1965    214 non-null    float64\n",
      " 2   1966    214 non-null    float64\n",
      " 3   1967    214 non-null    float64\n",
      " 4   1968    214 non-null    float64\n",
      " 5   1969    214 non-null    float64\n",
      " 6   1970    214 non-null    float64\n",
      " 7   1971    214 non-null    float64\n",
      " 8   1972    214 non-null    float64\n",
      " 9   1973    214 non-null    float64\n",
      " 10  1974    214 non-null    float64\n",
      " 11  1975    214 non-null    float64\n",
      " 12  1976    214 non-null    float64\n",
      " 13  1977    214 non-null    float64\n",
      " 14  1978    214 non-null    float64\n",
      " 15  1979    214 non-null    float64\n",
      " 16  1980    214 non-null    float64\n",
      " 17  1981    214 non-null    float64\n",
      " 18  1982    214 non-null    float64\n",
      " 19  1983    214 non-null    float64\n",
      " 20  1984    214 non-null    float64\n",
      " 21  1985    214 non-null    float64\n",
      " 22  1986    214 non-null    float64\n",
      " 23  1987    214 non-null    float64\n",
      " 24  1988    214 non-null    float64\n",
      " 25  1989    214 non-null    float64\n",
      " 26  1990    214 non-null    float64\n",
      " 27  1991    214 non-null    float64\n",
      " 28  1992    214 non-null    float64\n",
      " 29  1993    214 non-null    float64\n",
      " 30  1994    214 non-null    float64\n",
      " 31  1995    214 non-null    float64\n",
      " 32  1996    214 non-null    float64\n",
      " 33  1997    214 non-null    float64\n",
      " 34  1998    214 non-null    float64\n",
      " 35  1999    214 non-null    float64\n",
      " 36  2000    214 non-null    float64\n",
      " 37  2001    214 non-null    float64\n",
      " 38  2002    214 non-null    float64\n",
      " 39  2003    214 non-null    float64\n",
      " 40  2004    214 non-null    float64\n",
      " 41  2005    214 non-null    float64\n",
      " 42  2006    214 non-null    float64\n",
      " 43  2007    214 non-null    float64\n",
      " 44  2008    214 non-null    float64\n",
      " 45  2009    214 non-null    float64\n",
      " 46  2010    214 non-null    float64\n",
      " 47  2011    214 non-null    float64\n",
      " 48  2012    214 non-null    float64\n",
      " 49  2013    214 non-null    float64\n",
      " 50  2014    214 non-null    float64\n",
      " 51  2015    214 non-null    float64\n",
      " 52  2016    214 non-null    float64\n",
      " 53  2017    214 non-null    float64\n",
      " 54  2018    214 non-null    float64\n",
      " 55  2019    214 non-null    float64\n",
      "dtypes: float64(56)\n",
      "memory usage: 95.3+ KB\n"
     ]
    }
   ],
   "source": [
    "cleaned_cell_phones_total_df.info()"
   ]
  },
  {
   "cell_type": "code",
   "execution_count": 12,
   "id": "ddb4918d-6913-4a4f-85c8-d9012ceeddcb",
   "metadata": {},
   "outputs": [
    {
     "data": {
      "text/plain": [
       "'iso-3'"
      ]
     },
     "execution_count": 12,
     "metadata": {},
     "output_type": "execute_result"
    }
   ],
   "source": [
    "cleaned_cell_phones_total_df.index.name"
   ]
  },
  {
   "cell_type": "markdown",
   "id": "70d7cf8d-3f0f-4daf-844a-6697989ed3da",
   "metadata": {},
   "source": [
    "Countries"
   ]
  },
  {
   "cell_type": "code",
   "execution_count": 13,
   "id": "18489eda-6676-4167-b378-1523aa98497c",
   "metadata": {},
   "outputs": [
    {
     "name": "stdout",
     "output_type": "stream",
     "text": [
      "<class 'pandas.core.frame.DataFrame'>\n",
      "Index: 249 entries, AFG to ZWE\n",
      "Data columns (total 10 columns):\n",
      " #   Column                    Non-Null Count  Dtype  \n",
      "---  ------                    --------------  -----  \n",
      " 0   name                      249 non-null    object \n",
      " 1   alpha-2                   248 non-null    object \n",
      " 2   country-code              249 non-null    int64  \n",
      " 3   iso_3166-2                249 non-null    object \n",
      " 4   region                    248 non-null    object \n",
      " 5   sub-region                248 non-null    object \n",
      " 6   intermediate-region       107 non-null    object \n",
      " 7   region-code               248 non-null    float64\n",
      " 8   sub-region-code           248 non-null    float64\n",
      " 9   intermediate-region-code  107 non-null    float64\n",
      "dtypes: float64(3), int64(1), object(6)\n",
      "memory usage: 21.4+ KB\n"
     ]
    }
   ],
   "source": [
    "country_data_df.info()"
   ]
  },
  {
   "cell_type": "code",
   "execution_count": 14,
   "id": "17992491-568c-4fba-9550-72b31caa2a43",
   "metadata": {},
   "outputs": [
    {
     "data": {
      "text/plain": [
       "'alpha-3'"
      ]
     },
     "execution_count": 14,
     "metadata": {},
     "output_type": "execute_result"
    }
   ],
   "source": [
    "country_data_df.index.name"
   ]
  },
  {
   "cell_type": "code",
   "execution_count": 15,
   "id": "59684aa2-1651-42ab-82fa-94dbb1f2c6a8",
   "metadata": {},
   "outputs": [
    {
     "name": "stdout",
     "output_type": "stream",
     "text": [
      "0\n"
     ]
    }
   ],
   "source": [
    "print(country_data_df.duplicated().sum()) # are there any duplicates"
   ]
  },
  {
   "cell_type": "markdown",
   "id": "8d6ef626-2823-49f2-90e0-b362171e76d9",
   "metadata": {},
   "source": [
    "Some more data"
   ]
  },
  {
   "cell_type": "code",
   "execution_count": 16,
   "id": "60743c26-c9d9-412b-8c0a-9328cb2efd5b",
   "metadata": {},
   "outputs": [
    {
     "data": {
      "text/html": [
       "<div>\n",
       "<style scoped>\n",
       "    .dataframe tbody tr th:only-of-type {\n",
       "        vertical-align: middle;\n",
       "    }\n",
       "\n",
       "    .dataframe tbody tr th {\n",
       "        vertical-align: top;\n",
       "    }\n",
       "\n",
       "    .dataframe thead th {\n",
       "        text-align: right;\n",
       "    }\n",
       "</style>\n",
       "<table border=\"1\" class=\"dataframe\">\n",
       "  <thead>\n",
       "    <tr style=\"text-align: right;\">\n",
       "      <th></th>\n",
       "      <th>name</th>\n",
       "      <th>alpha-2</th>\n",
       "      <th>country-code</th>\n",
       "      <th>iso_3166-2</th>\n",
       "      <th>region</th>\n",
       "      <th>sub-region</th>\n",
       "      <th>intermediate-region</th>\n",
       "      <th>region-code</th>\n",
       "      <th>sub-region-code</th>\n",
       "      <th>intermediate-region-code</th>\n",
       "    </tr>\n",
       "    <tr>\n",
       "      <th>alpha-3</th>\n",
       "      <th></th>\n",
       "      <th></th>\n",
       "      <th></th>\n",
       "      <th></th>\n",
       "      <th></th>\n",
       "      <th></th>\n",
       "      <th></th>\n",
       "      <th></th>\n",
       "      <th></th>\n",
       "      <th></th>\n",
       "    </tr>\n",
       "  </thead>\n",
       "  <tbody>\n",
       "    <tr>\n",
       "      <th>AFG</th>\n",
       "      <td>Afghanistan</td>\n",
       "      <td>AF</td>\n",
       "      <td>4</td>\n",
       "      <td>ISO 3166-2:AF</td>\n",
       "      <td>Asia</td>\n",
       "      <td>Southern Asia</td>\n",
       "      <td>NaN</td>\n",
       "      <td>142.0</td>\n",
       "      <td>34.0</td>\n",
       "      <td>NaN</td>\n",
       "    </tr>\n",
       "    <tr>\n",
       "      <th>ALA</th>\n",
       "      <td>Åland Islands</td>\n",
       "      <td>AX</td>\n",
       "      <td>248</td>\n",
       "      <td>ISO 3166-2:AX</td>\n",
       "      <td>Europe</td>\n",
       "      <td>Northern Europe</td>\n",
       "      <td>NaN</td>\n",
       "      <td>150.0</td>\n",
       "      <td>154.0</td>\n",
       "      <td>NaN</td>\n",
       "    </tr>\n",
       "    <tr>\n",
       "      <th>ALB</th>\n",
       "      <td>Albania</td>\n",
       "      <td>AL</td>\n",
       "      <td>8</td>\n",
       "      <td>ISO 3166-2:AL</td>\n",
       "      <td>Europe</td>\n",
       "      <td>Southern Europe</td>\n",
       "      <td>NaN</td>\n",
       "      <td>150.0</td>\n",
       "      <td>39.0</td>\n",
       "      <td>NaN</td>\n",
       "    </tr>\n",
       "    <tr>\n",
       "      <th>DZA</th>\n",
       "      <td>Algeria</td>\n",
       "      <td>DZ</td>\n",
       "      <td>12</td>\n",
       "      <td>ISO 3166-2:DZ</td>\n",
       "      <td>Africa</td>\n",
       "      <td>Northern Africa</td>\n",
       "      <td>NaN</td>\n",
       "      <td>2.0</td>\n",
       "      <td>15.0</td>\n",
       "      <td>NaN</td>\n",
       "    </tr>\n",
       "    <tr>\n",
       "      <th>ASM</th>\n",
       "      <td>American Samoa</td>\n",
       "      <td>AS</td>\n",
       "      <td>16</td>\n",
       "      <td>ISO 3166-2:AS</td>\n",
       "      <td>Oceania</td>\n",
       "      <td>Polynesia</td>\n",
       "      <td>NaN</td>\n",
       "      <td>9.0</td>\n",
       "      <td>61.0</td>\n",
       "      <td>NaN</td>\n",
       "    </tr>\n",
       "  </tbody>\n",
       "</table>\n",
       "</div>"
      ],
      "text/plain": [
       "                   name alpha-2  country-code     iso_3166-2   region  \\\n",
       "alpha-3                                                                 \n",
       "AFG         Afghanistan      AF             4  ISO 3166-2:AF     Asia   \n",
       "ALA       Åland Islands      AX           248  ISO 3166-2:AX   Europe   \n",
       "ALB             Albania      AL             8  ISO 3166-2:AL   Europe   \n",
       "DZA             Algeria      DZ            12  ISO 3166-2:DZ   Africa   \n",
       "ASM      American Samoa      AS            16  ISO 3166-2:AS  Oceania   \n",
       "\n",
       "              sub-region intermediate-region  region-code  sub-region-code  \\\n",
       "alpha-3                                                                      \n",
       "AFG        Southern Asia                 NaN        142.0             34.0   \n",
       "ALA      Northern Europe                 NaN        150.0            154.0   \n",
       "ALB      Southern Europe                 NaN        150.0             39.0   \n",
       "DZA      Northern Africa                 NaN          2.0             15.0   \n",
       "ASM            Polynesia                 NaN          9.0             61.0   \n",
       "\n",
       "         intermediate-region-code  \n",
       "alpha-3                            \n",
       "AFG                           NaN  \n",
       "ALA                           NaN  \n",
       "ALB                           NaN  \n",
       "DZA                           NaN  \n",
       "ASM                           NaN  "
      ]
     },
     "execution_count": 16,
     "metadata": {},
     "output_type": "execute_result"
    }
   ],
   "source": [
    "country_data_df.head()"
   ]
  },
  {
   "cell_type": "markdown",
   "id": "1c378a79-3638-4a9b-87c6-4dcd56f8d1fd",
   "metadata": {},
   "source": [
    "Populations"
   ]
  },
  {
   "cell_type": "code",
   "execution_count": 17,
   "id": "5266469c-add4-441a-8d26-dcf33f5d1cb1",
   "metadata": {},
   "outputs": [
    {
     "name": "stdout",
     "output_type": "stream",
     "text": [
      "<class 'pandas.core.frame.DataFrame'>\n",
      "Index: 266 entries, ABW to ZWE\n",
      "Data columns (total 62 columns):\n",
      " #   Column      Non-Null Count  Dtype  \n",
      "---  ------      --------------  -----  \n",
      " 0   Unnamed: 0  266 non-null    int64  \n",
      " 1   1960        264 non-null    float64\n",
      " 2   1961        264 non-null    float64\n",
      " 3   1962        264 non-null    float64\n",
      " 4   1963        264 non-null    float64\n",
      " 5   1964        264 non-null    float64\n",
      " 6   1965        264 non-null    float64\n",
      " 7   1966        264 non-null    float64\n",
      " 8   1967        264 non-null    float64\n",
      " 9   1968        264 non-null    float64\n",
      " 10  1969        264 non-null    float64\n",
      " 11  1970        264 non-null    float64\n",
      " 12  1971        264 non-null    float64\n",
      " 13  1972        264 non-null    float64\n",
      " 14  1973        264 non-null    float64\n",
      " 15  1974        264 non-null    float64\n",
      " 16  1975        264 non-null    float64\n",
      " 17  1976        264 non-null    float64\n",
      " 18  1977        264 non-null    float64\n",
      " 19  1978        264 non-null    float64\n",
      " 20  1979        264 non-null    float64\n",
      " 21  1980        264 non-null    float64\n",
      " 22  1981        264 non-null    float64\n",
      " 23  1982        264 non-null    float64\n",
      " 24  1983        264 non-null    float64\n",
      " 25  1984        264 non-null    float64\n",
      " 26  1985        264 non-null    float64\n",
      " 27  1986        264 non-null    float64\n",
      " 28  1987        264 non-null    float64\n",
      " 29  1988        264 non-null    float64\n",
      " 30  1989        264 non-null    float64\n",
      " 31  1990        265 non-null    float64\n",
      " 32  1991        265 non-null    float64\n",
      " 33  1992        265 non-null    float64\n",
      " 34  1993        265 non-null    float64\n",
      " 35  1994        265 non-null    float64\n",
      " 36  1995        265 non-null    float64\n",
      " 37  1996        265 non-null    float64\n",
      " 38  1997        265 non-null    float64\n",
      " 39  1998        265 non-null    float64\n",
      " 40  1999        265 non-null    float64\n",
      " 41  2000        265 non-null    float64\n",
      " 42  2001        265 non-null    float64\n",
      " 43  2002        265 non-null    float64\n",
      " 44  2003        265 non-null    float64\n",
      " 45  2004        265 non-null    float64\n",
      " 46  2005        265 non-null    float64\n",
      " 47  2006        265 non-null    float64\n",
      " 48  2007        265 non-null    float64\n",
      " 49  2008        265 non-null    float64\n",
      " 50  2009        265 non-null    float64\n",
      " 51  2010        265 non-null    float64\n",
      " 52  2011        265 non-null    float64\n",
      " 53  2012        265 non-null    float64\n",
      " 54  2013        265 non-null    float64\n",
      " 55  2014        265 non-null    float64\n",
      " 56  2015        265 non-null    float64\n",
      " 57  2016        265 non-null    float64\n",
      " 58  2017        265 non-null    float64\n",
      " 59  2018        265 non-null    float64\n",
      " 60  2019        265 non-null    float64\n",
      " 61  2020        265 non-null    float64\n",
      "dtypes: float64(61), int64(1)\n",
      "memory usage: 130.9+ KB\n"
     ]
    }
   ],
   "source": [
    "pop_data_df.info()"
   ]
  },
  {
   "cell_type": "code",
   "execution_count": 18,
   "id": "5d97b281-e617-4271-8a6d-ceb49a52a4c4",
   "metadata": {},
   "outputs": [
    {
     "data": {
      "text/plain": [
       "'iso-3'"
      ]
     },
     "execution_count": 18,
     "metadata": {},
     "output_type": "execute_result"
    }
   ],
   "source": [
    "pop_data_df.index.name"
   ]
  },
  {
   "cell_type": "code",
   "execution_count": 19,
   "id": "fb722438-bb43-4133-9601-45ad610f89bb",
   "metadata": {},
   "outputs": [
    {
     "name": "stdout",
     "output_type": "stream",
     "text": [
      "0\n"
     ]
    }
   ],
   "source": [
    "print(pop_data_df.duplicated().sum())"
   ]
  },
  {
   "cell_type": "markdown",
   "id": "b2d4c777-6fbb-4db4-9714-25adbd2448db",
   "metadata": {},
   "source": [
    "Some more data"
   ]
  },
  {
   "cell_type": "code",
   "execution_count": 20,
   "id": "bb9c7dea-9324-4673-9e6a-13a4f5153849",
   "metadata": {},
   "outputs": [
    {
     "data": {
      "text/html": [
       "<div>\n",
       "<style scoped>\n",
       "    .dataframe tbody tr th:only-of-type {\n",
       "        vertical-align: middle;\n",
       "    }\n",
       "\n",
       "    .dataframe tbody tr th {\n",
       "        vertical-align: top;\n",
       "    }\n",
       "\n",
       "    .dataframe thead th {\n",
       "        text-align: right;\n",
       "    }\n",
       "</style>\n",
       "<table border=\"1\" class=\"dataframe\">\n",
       "  <thead>\n",
       "    <tr style=\"text-align: right;\">\n",
       "      <th></th>\n",
       "      <th>Unnamed: 0</th>\n",
       "      <th>1960</th>\n",
       "      <th>1961</th>\n",
       "      <th>1962</th>\n",
       "      <th>1963</th>\n",
       "      <th>1964</th>\n",
       "      <th>1965</th>\n",
       "      <th>1966</th>\n",
       "      <th>1967</th>\n",
       "      <th>1968</th>\n",
       "      <th>1969</th>\n",
       "      <th>1970</th>\n",
       "      <th>1971</th>\n",
       "      <th>1972</th>\n",
       "      <th>1973</th>\n",
       "      <th>1974</th>\n",
       "      <th>1975</th>\n",
       "      <th>1976</th>\n",
       "      <th>1977</th>\n",
       "      <th>1978</th>\n",
       "      <th>1979</th>\n",
       "      <th>1980</th>\n",
       "      <th>1981</th>\n",
       "      <th>1982</th>\n",
       "      <th>1983</th>\n",
       "      <th>1984</th>\n",
       "      <th>1985</th>\n",
       "      <th>1986</th>\n",
       "      <th>1987</th>\n",
       "      <th>1988</th>\n",
       "      <th>1989</th>\n",
       "      <th>1990</th>\n",
       "      <th>1991</th>\n",
       "      <th>1992</th>\n",
       "      <th>1993</th>\n",
       "      <th>1994</th>\n",
       "      <th>1995</th>\n",
       "      <th>1996</th>\n",
       "      <th>1997</th>\n",
       "      <th>1998</th>\n",
       "      <th>1999</th>\n",
       "      <th>2000</th>\n",
       "      <th>2001</th>\n",
       "      <th>2002</th>\n",
       "      <th>2003</th>\n",
       "      <th>2004</th>\n",
       "      <th>2005</th>\n",
       "      <th>2006</th>\n",
       "      <th>2007</th>\n",
       "      <th>2008</th>\n",
       "      <th>2009</th>\n",
       "      <th>2010</th>\n",
       "      <th>2011</th>\n",
       "      <th>2012</th>\n",
       "      <th>2013</th>\n",
       "      <th>2014</th>\n",
       "      <th>2015</th>\n",
       "      <th>2016</th>\n",
       "      <th>2017</th>\n",
       "      <th>2018</th>\n",
       "      <th>2019</th>\n",
       "      <th>2020</th>\n",
       "    </tr>\n",
       "    <tr>\n",
       "      <th>iso-3</th>\n",
       "      <th></th>\n",
       "      <th></th>\n",
       "      <th></th>\n",
       "      <th></th>\n",
       "      <th></th>\n",
       "      <th></th>\n",
       "      <th></th>\n",
       "      <th></th>\n",
       "      <th></th>\n",
       "      <th></th>\n",
       "      <th></th>\n",
       "      <th></th>\n",
       "      <th></th>\n",
       "      <th></th>\n",
       "      <th></th>\n",
       "      <th></th>\n",
       "      <th></th>\n",
       "      <th></th>\n",
       "      <th></th>\n",
       "      <th></th>\n",
       "      <th></th>\n",
       "      <th></th>\n",
       "      <th></th>\n",
       "      <th></th>\n",
       "      <th></th>\n",
       "      <th></th>\n",
       "      <th></th>\n",
       "      <th></th>\n",
       "      <th></th>\n",
       "      <th></th>\n",
       "      <th></th>\n",
       "      <th></th>\n",
       "      <th></th>\n",
       "      <th></th>\n",
       "      <th></th>\n",
       "      <th></th>\n",
       "      <th></th>\n",
       "      <th></th>\n",
       "      <th></th>\n",
       "      <th></th>\n",
       "      <th></th>\n",
       "      <th></th>\n",
       "      <th></th>\n",
       "      <th></th>\n",
       "      <th></th>\n",
       "      <th></th>\n",
       "      <th></th>\n",
       "      <th></th>\n",
       "      <th></th>\n",
       "      <th></th>\n",
       "      <th></th>\n",
       "      <th></th>\n",
       "      <th></th>\n",
       "      <th></th>\n",
       "      <th></th>\n",
       "      <th></th>\n",
       "      <th></th>\n",
       "      <th></th>\n",
       "      <th></th>\n",
       "      <th></th>\n",
       "      <th></th>\n",
       "      <th></th>\n",
       "    </tr>\n",
       "  </thead>\n",
       "  <tbody>\n",
       "    <tr>\n",
       "      <th>XKX</th>\n",
       "      <td>261</td>\n",
       "      <td>947000.0</td>\n",
       "      <td>966000.0</td>\n",
       "      <td>994000.0</td>\n",
       "      <td>1022000.0</td>\n",
       "      <td>1050000.0</td>\n",
       "      <td>1078000.0</td>\n",
       "      <td>1106000.0</td>\n",
       "      <td>1135000.0</td>\n",
       "      <td>1163000.0</td>\n",
       "      <td>1191000.0</td>\n",
       "      <td>1219000.0</td>\n",
       "      <td>1247000.0</td>\n",
       "      <td>1278000.0</td>\n",
       "      <td>1308000.0</td>\n",
       "      <td>1339000.0</td>\n",
       "      <td>1369000.0</td>\n",
       "      <td>1400000.0</td>\n",
       "      <td>1430000.0</td>\n",
       "      <td>1460000.0</td>\n",
       "      <td>1491000.0</td>\n",
       "      <td>1521000.0</td>\n",
       "      <td>1552000.0</td>\n",
       "      <td>1582000.0</td>\n",
       "      <td>1614000.0</td>\n",
       "      <td>1647000.0</td>\n",
       "      <td>1682000.0</td>\n",
       "      <td>1717000.0</td>\n",
       "      <td>1753000.0</td>\n",
       "      <td>1791000.0</td>\n",
       "      <td>1827000.0</td>\n",
       "      <td>1862000.0</td>\n",
       "      <td>1898000.0</td>\n",
       "      <td>1932000.0</td>\n",
       "      <td>1965000.0</td>\n",
       "      <td>1997000.0</td>\n",
       "      <td>2029000.0</td>\n",
       "      <td>2059000.0</td>\n",
       "      <td>2086000.0</td>\n",
       "      <td>1966000.0</td>\n",
       "      <td>1762000.0</td>\n",
       "      <td>1700000.0</td>\n",
       "      <td>1701154.0</td>\n",
       "      <td>1702310.0</td>\n",
       "      <td>1703466.0</td>\n",
       "      <td>1704622.0</td>\n",
       "      <td>1705780.0</td>\n",
       "      <td>1719536.0</td>\n",
       "      <td>1733404.0</td>\n",
       "      <td>1747383.0</td>\n",
       "      <td>1761474.0</td>\n",
       "      <td>1775680.0</td>\n",
       "      <td>1791000.0</td>\n",
       "      <td>1807106.0</td>\n",
       "      <td>1818117.0</td>\n",
       "      <td>1812771.0</td>\n",
       "      <td>1788196.0</td>\n",
       "      <td>1777557.0</td>\n",
       "      <td>1791003.0</td>\n",
       "      <td>1797085.0</td>\n",
       "      <td>1788878.0</td>\n",
       "      <td>1790133.0</td>\n",
       "    </tr>\n",
       "    <tr>\n",
       "      <th>YEM</th>\n",
       "      <td>262</td>\n",
       "      <td>5542459.0</td>\n",
       "      <td>5646668.0</td>\n",
       "      <td>5753386.0</td>\n",
       "      <td>5860197.0</td>\n",
       "      <td>5973803.0</td>\n",
       "      <td>6097298.0</td>\n",
       "      <td>6228430.0</td>\n",
       "      <td>6368014.0</td>\n",
       "      <td>6515904.0</td>\n",
       "      <td>6673981.0</td>\n",
       "      <td>6843607.0</td>\n",
       "      <td>7024196.0</td>\n",
       "      <td>7215835.0</td>\n",
       "      <td>7417736.0</td>\n",
       "      <td>7630190.0</td>\n",
       "      <td>7855657.0</td>\n",
       "      <td>8094985.0</td>\n",
       "      <td>8348182.0</td>\n",
       "      <td>8615301.0</td>\n",
       "      <td>8899922.0</td>\n",
       "      <td>9204938.0</td>\n",
       "      <td>9529105.0</td>\n",
       "      <td>9872292.0</td>\n",
       "      <td>10237391.0</td>\n",
       "      <td>10625687.0</td>\n",
       "      <td>11036918.0</td>\n",
       "      <td>11465444.0</td>\n",
       "      <td>11915563.0</td>\n",
       "      <td>12387238.0</td>\n",
       "      <td>12872362.0</td>\n",
       "      <td>13375121.0</td>\n",
       "      <td>13895851.0</td>\n",
       "      <td>14433771.0</td>\n",
       "      <td>14988047.0</td>\n",
       "      <td>15553171.0</td>\n",
       "      <td>16103339.0</td>\n",
       "      <td>16614326.0</td>\n",
       "      <td>17108681.0</td>\n",
       "      <td>17608133.0</td>\n",
       "      <td>18114552.0</td>\n",
       "      <td>18628700.0</td>\n",
       "      <td>19143457.0</td>\n",
       "      <td>19660653.0</td>\n",
       "      <td>20188799.0</td>\n",
       "      <td>20733406.0</td>\n",
       "      <td>21320671.0</td>\n",
       "      <td>21966298.0</td>\n",
       "      <td>22641538.0</td>\n",
       "      <td>23329004.0</td>\n",
       "      <td>24029589.0</td>\n",
       "      <td>24743946.0</td>\n",
       "      <td>25475610.0</td>\n",
       "      <td>26223391.0</td>\n",
       "      <td>26984002.0</td>\n",
       "      <td>27753304.0</td>\n",
       "      <td>28516545.0</td>\n",
       "      <td>29274002.0</td>\n",
       "      <td>30034389.0</td>\n",
       "      <td>30790513.0</td>\n",
       "      <td>31546691.0</td>\n",
       "      <td>32284046.0</td>\n",
       "    </tr>\n",
       "    <tr>\n",
       "      <th>ZAF</th>\n",
       "      <td>263</td>\n",
       "      <td>16520441.0</td>\n",
       "      <td>16989464.0</td>\n",
       "      <td>17503133.0</td>\n",
       "      <td>18042215.0</td>\n",
       "      <td>18603097.0</td>\n",
       "      <td>19187194.0</td>\n",
       "      <td>19789771.0</td>\n",
       "      <td>20410677.0</td>\n",
       "      <td>21050540.0</td>\n",
       "      <td>21704214.0</td>\n",
       "      <td>22368306.0</td>\n",
       "      <td>23031441.0</td>\n",
       "      <td>23698507.0</td>\n",
       "      <td>24382513.0</td>\n",
       "      <td>25077016.0</td>\n",
       "      <td>25777964.0</td>\n",
       "      <td>26480300.0</td>\n",
       "      <td>27199838.0</td>\n",
       "      <td>27943445.0</td>\n",
       "      <td>28697014.0</td>\n",
       "      <td>29463549.0</td>\n",
       "      <td>30232561.0</td>\n",
       "      <td>31022417.0</td>\n",
       "      <td>31865176.0</td>\n",
       "      <td>32768207.0</td>\n",
       "      <td>33752964.0</td>\n",
       "      <td>34877834.0</td>\n",
       "      <td>36119333.0</td>\n",
       "      <td>37393853.0</td>\n",
       "      <td>38668684.0</td>\n",
       "      <td>39877570.0</td>\n",
       "      <td>40910959.0</td>\n",
       "      <td>41760755.0</td>\n",
       "      <td>42525440.0</td>\n",
       "      <td>43267982.0</td>\n",
       "      <td>43986084.0</td>\n",
       "      <td>44661603.0</td>\n",
       "      <td>45285048.0</td>\n",
       "      <td>45852166.0</td>\n",
       "      <td>46364681.0</td>\n",
       "      <td>46813266.0</td>\n",
       "      <td>47229714.0</td>\n",
       "      <td>47661514.0</td>\n",
       "      <td>48104048.0</td>\n",
       "      <td>48556071.0</td>\n",
       "      <td>49017147.0</td>\n",
       "      <td>49491756.0</td>\n",
       "      <td>49996094.0</td>\n",
       "      <td>50565812.0</td>\n",
       "      <td>51170779.0</td>\n",
       "      <td>51784921.0</td>\n",
       "      <td>52443325.0</td>\n",
       "      <td>53145033.0</td>\n",
       "      <td>53873616.0</td>\n",
       "      <td>54729551.0</td>\n",
       "      <td>55876504.0</td>\n",
       "      <td>56422274.0</td>\n",
       "      <td>56641209.0</td>\n",
       "      <td>57339635.0</td>\n",
       "      <td>58087055.0</td>\n",
       "      <td>58801927.0</td>\n",
       "    </tr>\n",
       "    <tr>\n",
       "      <th>ZMB</th>\n",
       "      <td>264</td>\n",
       "      <td>3119430.0</td>\n",
       "      <td>3219451.0</td>\n",
       "      <td>3323427.0</td>\n",
       "      <td>3431381.0</td>\n",
       "      <td>3542764.0</td>\n",
       "      <td>3658024.0</td>\n",
       "      <td>3777680.0</td>\n",
       "      <td>3901288.0</td>\n",
       "      <td>4029173.0</td>\n",
       "      <td>4159007.0</td>\n",
       "      <td>4281671.0</td>\n",
       "      <td>4399919.0</td>\n",
       "      <td>4523581.0</td>\n",
       "      <td>4653289.0</td>\n",
       "      <td>4789038.0</td>\n",
       "      <td>4931249.0</td>\n",
       "      <td>5079672.0</td>\n",
       "      <td>5233292.0</td>\n",
       "      <td>5391355.0</td>\n",
       "      <td>5553462.0</td>\n",
       "      <td>5720438.0</td>\n",
       "      <td>5897481.0</td>\n",
       "      <td>6090818.0</td>\n",
       "      <td>6291070.0</td>\n",
       "      <td>6488072.0</td>\n",
       "      <td>6686449.0</td>\n",
       "      <td>6890967.0</td>\n",
       "      <td>7095185.0</td>\n",
       "      <td>7294325.0</td>\n",
       "      <td>7491275.0</td>\n",
       "      <td>7686401.0</td>\n",
       "      <td>7880466.0</td>\n",
       "      <td>8074337.0</td>\n",
       "      <td>8270917.0</td>\n",
       "      <td>8474216.0</td>\n",
       "      <td>8684135.0</td>\n",
       "      <td>8902019.0</td>\n",
       "      <td>9133156.0</td>\n",
       "      <td>9372430.0</td>\n",
       "      <td>9621238.0</td>\n",
       "      <td>9891136.0</td>\n",
       "      <td>10191964.0</td>\n",
       "      <td>10508294.0</td>\n",
       "      <td>10837973.0</td>\n",
       "      <td>11188040.0</td>\n",
       "      <td>11564870.0</td>\n",
       "      <td>11971567.0</td>\n",
       "      <td>12402073.0</td>\n",
       "      <td>12852966.0</td>\n",
       "      <td>13318087.0</td>\n",
       "      <td>13792086.0</td>\n",
       "      <td>14265814.0</td>\n",
       "      <td>14744658.0</td>\n",
       "      <td>15234976.0</td>\n",
       "      <td>15737793.0</td>\n",
       "      <td>16248230.0</td>\n",
       "      <td>16767761.0</td>\n",
       "      <td>17298054.0</td>\n",
       "      <td>17835893.0</td>\n",
       "      <td>18380477.0</td>\n",
       "      <td>18927715.0</td>\n",
       "    </tr>\n",
       "    <tr>\n",
       "      <th>ZWE</th>\n",
       "      <td>265</td>\n",
       "      <td>3806310.0</td>\n",
       "      <td>3925952.0</td>\n",
       "      <td>4049778.0</td>\n",
       "      <td>4177931.0</td>\n",
       "      <td>4310332.0</td>\n",
       "      <td>4447149.0</td>\n",
       "      <td>4588529.0</td>\n",
       "      <td>4734694.0</td>\n",
       "      <td>4886347.0</td>\n",
       "      <td>5044163.0</td>\n",
       "      <td>5202918.0</td>\n",
       "      <td>5363423.0</td>\n",
       "      <td>5532842.0</td>\n",
       "      <td>5712712.0</td>\n",
       "      <td>5903530.0</td>\n",
       "      <td>6097083.0</td>\n",
       "      <td>6288387.0</td>\n",
       "      <td>6453044.0</td>\n",
       "      <td>6549349.0</td>\n",
       "      <td>6655833.0</td>\n",
       "      <td>7049926.0</td>\n",
       "      <td>7506526.0</td>\n",
       "      <td>7803855.0</td>\n",
       "      <td>8106356.0</td>\n",
       "      <td>8398567.0</td>\n",
       "      <td>8690515.0</td>\n",
       "      <td>8983044.0</td>\n",
       "      <td>9277488.0</td>\n",
       "      <td>9568739.0</td>\n",
       "      <td>9846346.0</td>\n",
       "      <td>10113893.0</td>\n",
       "      <td>10377815.0</td>\n",
       "      <td>10641501.0</td>\n",
       "      <td>10794918.0</td>\n",
       "      <td>10858594.0</td>\n",
       "      <td>10994041.0</td>\n",
       "      <td>11178171.0</td>\n",
       "      <td>11362401.0</td>\n",
       "      <td>11548364.0</td>\n",
       "      <td>11716454.0</td>\n",
       "      <td>11834676.0</td>\n",
       "      <td>11910978.0</td>\n",
       "      <td>11984644.0</td>\n",
       "      <td>12075828.0</td>\n",
       "      <td>12160881.0</td>\n",
       "      <td>12224753.0</td>\n",
       "      <td>12330490.0</td>\n",
       "      <td>12450568.0</td>\n",
       "      <td>12550347.0</td>\n",
       "      <td>12679810.0</td>\n",
       "      <td>12839771.0</td>\n",
       "      <td>13025785.0</td>\n",
       "      <td>13265331.0</td>\n",
       "      <td>13555422.0</td>\n",
       "      <td>13855753.0</td>\n",
       "      <td>14154937.0</td>\n",
       "      <td>14452704.0</td>\n",
       "      <td>14751101.0</td>\n",
       "      <td>15052184.0</td>\n",
       "      <td>15354608.0</td>\n",
       "      <td>15669666.0</td>\n",
       "    </tr>\n",
       "  </tbody>\n",
       "</table>\n",
       "</div>"
      ],
      "text/plain": [
       "       Unnamed: 0        1960        1961        1962        1963        1964  \\\n",
       "iso-3                                                                           \n",
       "XKX           261    947000.0    966000.0    994000.0   1022000.0   1050000.0   \n",
       "YEM           262   5542459.0   5646668.0   5753386.0   5860197.0   5973803.0   \n",
       "ZAF           263  16520441.0  16989464.0  17503133.0  18042215.0  18603097.0   \n",
       "ZMB           264   3119430.0   3219451.0   3323427.0   3431381.0   3542764.0   \n",
       "ZWE           265   3806310.0   3925952.0   4049778.0   4177931.0   4310332.0   \n",
       "\n",
       "             1965        1966        1967        1968        1969        1970  \\\n",
       "iso-3                                                                           \n",
       "XKX     1078000.0   1106000.0   1135000.0   1163000.0   1191000.0   1219000.0   \n",
       "YEM     6097298.0   6228430.0   6368014.0   6515904.0   6673981.0   6843607.0   \n",
       "ZAF    19187194.0  19789771.0  20410677.0  21050540.0  21704214.0  22368306.0   \n",
       "ZMB     3658024.0   3777680.0   3901288.0   4029173.0   4159007.0   4281671.0   \n",
       "ZWE     4447149.0   4588529.0   4734694.0   4886347.0   5044163.0   5202918.0   \n",
       "\n",
       "             1971        1972        1973        1974        1975        1976  \\\n",
       "iso-3                                                                           \n",
       "XKX     1247000.0   1278000.0   1308000.0   1339000.0   1369000.0   1400000.0   \n",
       "YEM     7024196.0   7215835.0   7417736.0   7630190.0   7855657.0   8094985.0   \n",
       "ZAF    23031441.0  23698507.0  24382513.0  25077016.0  25777964.0  26480300.0   \n",
       "ZMB     4399919.0   4523581.0   4653289.0   4789038.0   4931249.0   5079672.0   \n",
       "ZWE     5363423.0   5532842.0   5712712.0   5903530.0   6097083.0   6288387.0   \n",
       "\n",
       "             1977        1978        1979        1980        1981        1982  \\\n",
       "iso-3                                                                           \n",
       "XKX     1430000.0   1460000.0   1491000.0   1521000.0   1552000.0   1582000.0   \n",
       "YEM     8348182.0   8615301.0   8899922.0   9204938.0   9529105.0   9872292.0   \n",
       "ZAF    27199838.0  27943445.0  28697014.0  29463549.0  30232561.0  31022417.0   \n",
       "ZMB     5233292.0   5391355.0   5553462.0   5720438.0   5897481.0   6090818.0   \n",
       "ZWE     6453044.0   6549349.0   6655833.0   7049926.0   7506526.0   7803855.0   \n",
       "\n",
       "             1983        1984        1985        1986        1987        1988  \\\n",
       "iso-3                                                                           \n",
       "XKX     1614000.0   1647000.0   1682000.0   1717000.0   1753000.0   1791000.0   \n",
       "YEM    10237391.0  10625687.0  11036918.0  11465444.0  11915563.0  12387238.0   \n",
       "ZAF    31865176.0  32768207.0  33752964.0  34877834.0  36119333.0  37393853.0   \n",
       "ZMB     6291070.0   6488072.0   6686449.0   6890967.0   7095185.0   7294325.0   \n",
       "ZWE     8106356.0   8398567.0   8690515.0   8983044.0   9277488.0   9568739.0   \n",
       "\n",
       "             1989        1990        1991        1992        1993        1994  \\\n",
       "iso-3                                                                           \n",
       "XKX     1827000.0   1862000.0   1898000.0   1932000.0   1965000.0   1997000.0   \n",
       "YEM    12872362.0  13375121.0  13895851.0  14433771.0  14988047.0  15553171.0   \n",
       "ZAF    38668684.0  39877570.0  40910959.0  41760755.0  42525440.0  43267982.0   \n",
       "ZMB     7491275.0   7686401.0   7880466.0   8074337.0   8270917.0   8474216.0   \n",
       "ZWE     9846346.0  10113893.0  10377815.0  10641501.0  10794918.0  10858594.0   \n",
       "\n",
       "             1995        1996        1997        1998        1999        2000  \\\n",
       "iso-3                                                                           \n",
       "XKX     2029000.0   2059000.0   2086000.0   1966000.0   1762000.0   1700000.0   \n",
       "YEM    16103339.0  16614326.0  17108681.0  17608133.0  18114552.0  18628700.0   \n",
       "ZAF    43986084.0  44661603.0  45285048.0  45852166.0  46364681.0  46813266.0   \n",
       "ZMB     8684135.0   8902019.0   9133156.0   9372430.0   9621238.0   9891136.0   \n",
       "ZWE    10994041.0  11178171.0  11362401.0  11548364.0  11716454.0  11834676.0   \n",
       "\n",
       "             2001        2002        2003        2004        2005        2006  \\\n",
       "iso-3                                                                           \n",
       "XKX     1701154.0   1702310.0   1703466.0   1704622.0   1705780.0   1719536.0   \n",
       "YEM    19143457.0  19660653.0  20188799.0  20733406.0  21320671.0  21966298.0   \n",
       "ZAF    47229714.0  47661514.0  48104048.0  48556071.0  49017147.0  49491756.0   \n",
       "ZMB    10191964.0  10508294.0  10837973.0  11188040.0  11564870.0  11971567.0   \n",
       "ZWE    11910978.0  11984644.0  12075828.0  12160881.0  12224753.0  12330490.0   \n",
       "\n",
       "             2007        2008        2009        2010        2011        2012  \\\n",
       "iso-3                                                                           \n",
       "XKX     1733404.0   1747383.0   1761474.0   1775680.0   1791000.0   1807106.0   \n",
       "YEM    22641538.0  23329004.0  24029589.0  24743946.0  25475610.0  26223391.0   \n",
       "ZAF    49996094.0  50565812.0  51170779.0  51784921.0  52443325.0  53145033.0   \n",
       "ZMB    12402073.0  12852966.0  13318087.0  13792086.0  14265814.0  14744658.0   \n",
       "ZWE    12450568.0  12550347.0  12679810.0  12839771.0  13025785.0  13265331.0   \n",
       "\n",
       "             2013        2014        2015        2016        2017        2018  \\\n",
       "iso-3                                                                           \n",
       "XKX     1818117.0   1812771.0   1788196.0   1777557.0   1791003.0   1797085.0   \n",
       "YEM    26984002.0  27753304.0  28516545.0  29274002.0  30034389.0  30790513.0   \n",
       "ZAF    53873616.0  54729551.0  55876504.0  56422274.0  56641209.0  57339635.0   \n",
       "ZMB    15234976.0  15737793.0  16248230.0  16767761.0  17298054.0  17835893.0   \n",
       "ZWE    13555422.0  13855753.0  14154937.0  14452704.0  14751101.0  15052184.0   \n",
       "\n",
       "             2019        2020  \n",
       "iso-3                          \n",
       "XKX     1788878.0   1790133.0  \n",
       "YEM    31546691.0  32284046.0  \n",
       "ZAF    58087055.0  58801927.0  \n",
       "ZMB    18380477.0  18927715.0  \n",
       "ZWE    15354608.0  15669666.0  "
      ]
     },
     "execution_count": 20,
     "metadata": {},
     "output_type": "execute_result"
    }
   ],
   "source": [
    "pop_data_df.tail()"
   ]
  },
  {
   "cell_type": "markdown",
   "id": "dac9b7dc-5cdb-4091-8c2d-eba9d1c42ec6",
   "metadata": {},
   "source": [
    "\n",
    "#### Cleaning data\n"
   ]
  },
  {
   "cell_type": "markdown",
   "id": "c81c4b58-1ab2-4f5e-ad38-8fa5816ec932",
   "metadata": {},
   "source": [
    "We know that the data in **cleaned_cell_phones_total_df** is cleaned already."
   ]
  },
  {
   "cell_type": "markdown",
   "id": "98d92ddd-c078-4ebc-9453-70d956f442e4",
   "metadata": {},
   "source": [
    "In **country_data_df** there are many null values. To save a lot of work and time, it would be good to only clean data that will be needed to solve the assignment."
   ]
  },
  {
   "cell_type": "markdown",
   "id": "ff85e018-189e-47b5-a472-7315b43cfd47",
   "metadata": {},
   "source": [
    "It seems that only the index **alpha-3** and **name** column will be used. The column has no null values, but its Dtype is object. Converting this to Dtype string would be beneficial."
   ]
  },
  {
   "cell_type": "markdown",
   "id": "1b7b492d-7db0-4c80-89eb-1e01ca645928",
   "metadata": {},
   "source": [
    "First, make a deep copy of country_data_df."
   ]
  },
  {
   "cell_type": "code",
   "execution_count": 21,
   "id": "2092bee1-651f-4944-96a5-88d1450cc79d",
   "metadata": {},
   "outputs": [],
   "source": [
    "name_strings_country_data_df = country_data_df.copy()"
   ]
  },
  {
   "cell_type": "markdown",
   "id": "ca2f5f03-632e-4cc5-a469-63526c3c73aa",
   "metadata": {},
   "source": [
    "Now, convert the values in the name column to strings."
   ]
  },
  {
   "cell_type": "code",
   "execution_count": 22,
   "id": "2a41456b-a613-49d4-a419-01a1b7a261d7",
   "metadata": {},
   "outputs": [],
   "source": [
    "name_strings_country_data_df['name'] = country_data_df['name'].astype(\"string\")"
   ]
  },
  {
   "cell_type": "code",
   "execution_count": 23,
   "id": "e6230f25-575a-4c72-9c1f-aa5e771bd7ff",
   "metadata": {},
   "outputs": [
    {
     "name": "stdout",
     "output_type": "stream",
     "text": [
      "<class 'pandas.core.frame.DataFrame'>\n",
      "Index: 249 entries, AFG to ZWE\n",
      "Data columns (total 10 columns):\n",
      " #   Column                    Non-Null Count  Dtype  \n",
      "---  ------                    --------------  -----  \n",
      " 0   name                      249 non-null    string \n",
      " 1   alpha-2                   248 non-null    object \n",
      " 2   country-code              249 non-null    int64  \n",
      " 3   iso_3166-2                249 non-null    object \n",
      " 4   region                    248 non-null    object \n",
      " 5   sub-region                248 non-null    object \n",
      " 6   intermediate-region       107 non-null    object \n",
      " 7   region-code               248 non-null    float64\n",
      " 8   sub-region-code           248 non-null    float64\n",
      " 9   intermediate-region-code  107 non-null    float64\n",
      "dtypes: float64(3), int64(1), object(5), string(1)\n",
      "memory usage: 21.4+ KB\n"
     ]
    }
   ],
   "source": [
    "name_strings_country_data_df.info()"
   ]
  },
  {
   "cell_type": "markdown",
   "id": "50912c60-dbf5-400e-8e8c-00e18d5e97bb",
   "metadata": {},
   "source": [
    "In **pop_data_df** there is a column we don´t need, so we drop it."
   ]
  },
  {
   "cell_type": "code",
   "execution_count": 24,
   "id": "5df355e1-d3c3-4876-abfd-23e38a94ecd0",
   "metadata": {},
   "outputs": [],
   "source": [
    "# pop_data_df.columns"
   ]
  },
  {
   "cell_type": "code",
   "execution_count": 25,
   "id": "60af4e36-a311-42f4-b2cc-2f33ceb07a00",
   "metadata": {},
   "outputs": [],
   "source": [
    "dropped_pop_data_df = pop_data_df.drop(columns='Unnamed: 0')"
   ]
  },
  {
   "cell_type": "code",
   "execution_count": 26,
   "id": "2251f7e1-3c45-4eff-91d7-6ac312864c3d",
   "metadata": {},
   "outputs": [],
   "source": [
    "# dropped_pop_data_df.info()"
   ]
  },
  {
   "cell_type": "markdown",
   "id": "9fba7372-6ccc-474d-b6ef-4667533a04b5",
   "metadata": {},
   "source": [
    "\n",
    "#### Merge dataframes\n"
   ]
  },
  {
   "cell_type": "markdown",
   "id": "6615b9ba-e283-41e9-9a0b-c828f25cf0d5",
   "metadata": {},
   "source": [
    "To create the first table in the assignment we can join, merge, cleaned_cell_phones_total_df and pop_data_df. Since there are fewer countries \n",
    "in cleaned_cell_phones_total_df, 214, than in pop_data_df, 266, we will make an inner join that only includes the countries where we have data \n",
    "both on the number of cellphones and the sizes of the populations. \n",
    "\n",
    "There are also fewer years in cleaned_cell_phones_total_df, 56, than in dropped_pop_data_df, 61, which also motivates an inner join.\n",
    "\n",
    "For every year in pop_data_df there is one or two countries that have no value. It is first after the join that we can find out if some of the\n",
    "included countries is affected by missing values."
   ]
  },
  {
   "cell_type": "markdown",
   "id": "43571a41-476c-4b19-8e10-d571cb784204",
   "metadata": {},
   "source": [
    "To get the right format for the first table we have to make multi-indices, 'iso-3' and 'year', on both dataframes."
   ]
  },
  {
   "cell_type": "code",
   "execution_count": 27,
   "id": "9d9063f0-6eb3-4663-a9fa-35d21e661e39",
   "metadata": {},
   "outputs": [],
   "source": [
    "stacked_cleaned_cell_phones_total_df = cleaned_cell_phones_total_df.stack()"
   ]
  },
  {
   "cell_type": "code",
   "execution_count": 28,
   "id": "6b7ef075-d9c2-4c72-824e-10f493873e05",
   "metadata": {},
   "outputs": [
    {
     "name": "stdout",
     "output_type": "stream",
     "text": [
      "<class 'pandas.core.series.Series'>\n",
      "MultiIndex: 11984 entries, ('ABW', '1960') to ('ZWE', '2019')\n",
      "Series name: None\n",
      "Non-Null Count  Dtype  \n",
      "--------------  -----  \n",
      "11984 non-null  float64\n",
      "dtypes: float64(1)\n",
      "memory usage: 141.1+ KB\n"
     ]
    }
   ],
   "source": [
    "stacked_cleaned_cell_phones_total_df.info()"
   ]
  },
  {
   "cell_type": "code",
   "execution_count": 29,
   "id": "f9ce158b-5feb-498d-90b2-35fdb918a400",
   "metadata": {},
   "outputs": [],
   "source": [
    "# stacked_cleaned_cell_phones_total_df.index.names"
   ]
  },
  {
   "cell_type": "code",
   "execution_count": 30,
   "id": "44880ca3-427f-440a-a410-7bb6b622f9a2",
   "metadata": {},
   "outputs": [],
   "source": [
    "stacked_cleaned_cell_phones_total_df.index.names = ['iso-3', 'year']"
   ]
  },
  {
   "cell_type": "code",
   "execution_count": 31,
   "id": "6d4e7439-9120-444d-a37e-3b969abc07ea",
   "metadata": {},
   "outputs": [],
   "source": [
    "# stacked_cleaned_cell_phones_total_df.columns.name = ['n_cellphones']"
   ]
  },
  {
   "cell_type": "code",
   "execution_count": 32,
   "id": "69e83bed-9f6b-4075-93fc-7ce94459991b",
   "metadata": {},
   "outputs": [
    {
     "data": {
      "text/plain": [
       "iso-3  year\n",
       "ABW    1960    0.0\n",
       "       1965    0.0\n",
       "       1966    0.0\n",
       "       1967    0.0\n",
       "       1968    0.0\n",
       "dtype: float64"
      ]
     },
     "execution_count": 32,
     "metadata": {},
     "output_type": "execute_result"
    }
   ],
   "source": [
    "stacked_cleaned_cell_phones_total_df.head()"
   ]
  },
  {
   "cell_type": "code",
   "execution_count": 33,
   "id": "d5b3f2ab-614a-4bee-824c-df38e65ed60e",
   "metadata": {},
   "outputs": [
    {
     "data": {
      "text/plain": [
       "iso-3  year\n",
       "ZWE    2015    12800000.0\n",
       "       2016    12900000.0\n",
       "       2017    14100000.0\n",
       "       2018    12900000.0\n",
       "       2019    13200000.0\n",
       "dtype: float64"
      ]
     },
     "execution_count": 33,
     "metadata": {},
     "output_type": "execute_result"
    }
   ],
   "source": [
    "stacked_cleaned_cell_phones_total_df.tail()"
   ]
  },
  {
   "cell_type": "code",
   "execution_count": 34,
   "id": "940afe47-3ae8-44df-a42e-73f8db31bade",
   "metadata": {},
   "outputs": [],
   "source": [
    "stacked_dropped_pop_data_df = dropped_pop_data_df.stack()"
   ]
  },
  {
   "cell_type": "code",
   "execution_count": 35,
   "id": "067f242c-ee19-43ea-ab54-83165b015318",
   "metadata": {},
   "outputs": [
    {
     "name": "stdout",
     "output_type": "stream",
     "text": [
      "<class 'pandas.core.series.Series'>\n",
      "MultiIndex: 16135 entries, ('ABW', '1960') to ('ZWE', '2020')\n",
      "Series name: None\n",
      "Non-Null Count  Dtype  \n",
      "--------------  -----  \n",
      "16135 non-null  float64\n",
      "dtypes: float64(1)\n",
      "memory usage: 186.1+ KB\n"
     ]
    }
   ],
   "source": [
    "stacked_dropped_pop_data_df.info()"
   ]
  },
  {
   "cell_type": "code",
   "execution_count": 36,
   "id": "8b6ea68f-29bf-4e60-81d5-a4e3e6ad545e",
   "metadata": {},
   "outputs": [],
   "source": [
    "stacked_dropped_pop_data_df.index.names = ['iso-3', 'year']"
   ]
  },
  {
   "cell_type": "code",
   "execution_count": 37,
   "id": "48eedaf0-f207-4977-a9b1-8689cf10d306",
   "metadata": {},
   "outputs": [
    {
     "data": {
      "text/plain": [
       "FrozenList(['iso-3', 'year'])"
      ]
     },
     "execution_count": 37,
     "metadata": {},
     "output_type": "execute_result"
    }
   ],
   "source": [
    "stacked_dropped_pop_data_df.index.names"
   ]
  },
  {
   "cell_type": "code",
   "execution_count": 38,
   "id": "24a3ea4e-c472-41ee-a575-c4d35b7ff3c9",
   "metadata": {},
   "outputs": [
    {
     "data": {
      "text/plain": [
       "iso-3  year\n",
       "ABW    1960    54608.0\n",
       "       1961    55811.0\n",
       "       1962    56682.0\n",
       "       1963    57475.0\n",
       "       1964    58178.0\n",
       "dtype: float64"
      ]
     },
     "execution_count": 38,
     "metadata": {},
     "output_type": "execute_result"
    }
   ],
   "source": [
    "stacked_dropped_pop_data_df.head()"
   ]
  },
  {
   "cell_type": "code",
   "execution_count": 39,
   "id": "01c20b97-d156-4965-8ce0-69627c21999a",
   "metadata": {},
   "outputs": [
    {
     "data": {
      "text/plain": [
       "iso-3  year\n",
       "ZWE    2016    14452704.0\n",
       "       2017    14751101.0\n",
       "       2018    15052184.0\n",
       "       2019    15354608.0\n",
       "       2020    15669666.0\n",
       "dtype: float64"
      ]
     },
     "execution_count": 39,
     "metadata": {},
     "output_type": "execute_result"
    }
   ],
   "source": [
    "stacked_dropped_pop_data_df.tail()"
   ]
  },
  {
   "cell_type": "markdown",
   "id": "283c4d35-b12c-48eb-af4e-bb443fc58961",
   "metadata": {},
   "source": [
    "Now we can merge the two series to a dataframe. They must be named to be able to merge."
   ]
  },
  {
   "cell_type": "code",
   "execution_count": 40,
   "id": "0567ebfd-9b8c-4c91-a194-effc48dcc3d8",
   "metadata": {},
   "outputs": [],
   "source": [
    "stacked_cleaned_cell_phones_total_df.name = 'n_cellphones'"
   ]
  },
  {
   "cell_type": "code",
   "execution_count": 41,
   "id": "47074cae-7d55-4ac4-8aa9-56ceb1266414",
   "metadata": {},
   "outputs": [
    {
     "name": "stdout",
     "output_type": "stream",
     "text": [
      "<class 'pandas.core.series.Series'>\n",
      "MultiIndex: 11984 entries, ('ABW', '1960') to ('ZWE', '2019')\n",
      "Series name: n_cellphones\n",
      "Non-Null Count  Dtype  \n",
      "--------------  -----  \n",
      "11984 non-null  float64\n",
      "dtypes: float64(1)\n",
      "memory usage: 141.1+ KB\n"
     ]
    }
   ],
   "source": [
    "stacked_cleaned_cell_phones_total_df.info()"
   ]
  },
  {
   "cell_type": "code",
   "execution_count": 42,
   "id": "cc0b4728-0280-415a-ad2f-59d4cc29b0ce",
   "metadata": {},
   "outputs": [],
   "source": [
    "stacked_dropped_pop_data_df.name = 'population'"
   ]
  },
  {
   "cell_type": "code",
   "execution_count": 43,
   "id": "882455e6-1c83-4df9-8f73-db0fbabd176f",
   "metadata": {},
   "outputs": [
    {
     "name": "stdout",
     "output_type": "stream",
     "text": [
      "<class 'pandas.core.series.Series'>\n",
      "MultiIndex: 16135 entries, ('ABW', '1960') to ('ZWE', '2020')\n",
      "Series name: population\n",
      "Non-Null Count  Dtype  \n",
      "--------------  -----  \n",
      "16135 non-null  float64\n",
      "dtypes: float64(1)\n",
      "memory usage: 186.1+ KB\n"
     ]
    }
   ],
   "source": [
    "stacked_dropped_pop_data_df.info()"
   ]
  },
  {
   "cell_type": "code",
   "execution_count": 44,
   "id": "c19cfe9f-44ff-4b2d-9b49-c79a67d72dda",
   "metadata": {},
   "outputs": [],
   "source": [
    "# table_1 = stacked_cleaned_cell_phones_total_df.merge(stacked_dropped_pop_data_df, how='inner', on=['iso-3', 'year'], )"
   ]
  },
  {
   "cell_type": "code",
   "execution_count": 45,
   "id": "a4db3725-304f-466e-b92a-535bfc60e90c",
   "metadata": {},
   "outputs": [],
   "source": [
    "table_1 = pd.merge(left=stacked_cleaned_cell_phones_total_df, right=stacked_dropped_pop_data_df, how='inner', on=['iso-3', 'year'])"
   ]
  },
  {
   "cell_type": "code",
   "execution_count": 46,
   "id": "6351a7cc-a466-47cf-badf-7c45791a5e87",
   "metadata": {},
   "outputs": [
    {
     "name": "stdout",
     "output_type": "stream",
     "text": [
      "<class 'pandas.core.frame.DataFrame'>\n",
      "MultiIndex: 11958 entries, ('ABW', '1960') to ('ZWE', '2019')\n",
      "Data columns (total 2 columns):\n",
      " #   Column        Non-Null Count  Dtype  \n",
      "---  ------        --------------  -----  \n",
      " 0   n_cellphones  11958 non-null  float64\n",
      " 1   population    11958 non-null  float64\n",
      "dtypes: float64(2)\n",
      "memory usage: 234.2+ KB\n"
     ]
    }
   ],
   "source": [
    "table_1.info()"
   ]
  },
  {
   "cell_type": "code",
   "execution_count": 47,
   "id": "2a560a69-9969-4074-acfe-349b578d1453",
   "metadata": {},
   "outputs": [
    {
     "data": {
      "text/html": [
       "<div>\n",
       "<style scoped>\n",
       "    .dataframe tbody tr th:only-of-type {\n",
       "        vertical-align: middle;\n",
       "    }\n",
       "\n",
       "    .dataframe tbody tr th {\n",
       "        vertical-align: top;\n",
       "    }\n",
       "\n",
       "    .dataframe thead th {\n",
       "        text-align: right;\n",
       "    }\n",
       "</style>\n",
       "<table border=\"1\" class=\"dataframe\">\n",
       "  <thead>\n",
       "    <tr style=\"text-align: right;\">\n",
       "      <th></th>\n",
       "      <th></th>\n",
       "      <th>n_cellphones</th>\n",
       "      <th>population</th>\n",
       "    </tr>\n",
       "    <tr>\n",
       "      <th>iso-3</th>\n",
       "      <th>year</th>\n",
       "      <th></th>\n",
       "      <th></th>\n",
       "    </tr>\n",
       "  </thead>\n",
       "  <tbody>\n",
       "    <tr>\n",
       "      <th rowspan=\"5\" valign=\"top\">ABW</th>\n",
       "      <th>1960</th>\n",
       "      <td>0.0</td>\n",
       "      <td>54608.0</td>\n",
       "    </tr>\n",
       "    <tr>\n",
       "      <th>1965</th>\n",
       "      <td>0.0</td>\n",
       "      <td>58782.0</td>\n",
       "    </tr>\n",
       "    <tr>\n",
       "      <th>1966</th>\n",
       "      <td>0.0</td>\n",
       "      <td>59291.0</td>\n",
       "    </tr>\n",
       "    <tr>\n",
       "      <th>1967</th>\n",
       "      <td>0.0</td>\n",
       "      <td>59522.0</td>\n",
       "    </tr>\n",
       "    <tr>\n",
       "      <th>1968</th>\n",
       "      <td>0.0</td>\n",
       "      <td>59471.0</td>\n",
       "    </tr>\n",
       "  </tbody>\n",
       "</table>\n",
       "</div>"
      ],
      "text/plain": [
       "            n_cellphones  population\n",
       "iso-3 year                          \n",
       "ABW   1960           0.0     54608.0\n",
       "      1965           0.0     58782.0\n",
       "      1966           0.0     59291.0\n",
       "      1967           0.0     59522.0\n",
       "      1968           0.0     59471.0"
      ]
     },
     "execution_count": 47,
     "metadata": {},
     "output_type": "execute_result"
    }
   ],
   "source": [
    "table_1.head()"
   ]
  },
  {
   "cell_type": "code",
   "execution_count": 48,
   "id": "9ca4af69-a3d7-42ef-a350-d9214ae9f710",
   "metadata": {},
   "outputs": [
    {
     "data": {
      "text/html": [
       "<div>\n",
       "<style scoped>\n",
       "    .dataframe tbody tr th:only-of-type {\n",
       "        vertical-align: middle;\n",
       "    }\n",
       "\n",
       "    .dataframe tbody tr th {\n",
       "        vertical-align: top;\n",
       "    }\n",
       "\n",
       "    .dataframe thead th {\n",
       "        text-align: right;\n",
       "    }\n",
       "</style>\n",
       "<table border=\"1\" class=\"dataframe\">\n",
       "  <thead>\n",
       "    <tr style=\"text-align: right;\">\n",
       "      <th></th>\n",
       "      <th></th>\n",
       "      <th>n_cellphones</th>\n",
       "      <th>population</th>\n",
       "    </tr>\n",
       "    <tr>\n",
       "      <th>iso-3</th>\n",
       "      <th>year</th>\n",
       "      <th></th>\n",
       "      <th></th>\n",
       "    </tr>\n",
       "  </thead>\n",
       "  <tbody>\n",
       "    <tr>\n",
       "      <th rowspan=\"5\" valign=\"top\">ZWE</th>\n",
       "      <th>2015</th>\n",
       "      <td>12800000.0</td>\n",
       "      <td>14154937.0</td>\n",
       "    </tr>\n",
       "    <tr>\n",
       "      <th>2016</th>\n",
       "      <td>12900000.0</td>\n",
       "      <td>14452704.0</td>\n",
       "    </tr>\n",
       "    <tr>\n",
       "      <th>2017</th>\n",
       "      <td>14100000.0</td>\n",
       "      <td>14751101.0</td>\n",
       "    </tr>\n",
       "    <tr>\n",
       "      <th>2018</th>\n",
       "      <td>12900000.0</td>\n",
       "      <td>15052184.0</td>\n",
       "    </tr>\n",
       "    <tr>\n",
       "      <th>2019</th>\n",
       "      <td>13200000.0</td>\n",
       "      <td>15354608.0</td>\n",
       "    </tr>\n",
       "  </tbody>\n",
       "</table>\n",
       "</div>"
      ],
      "text/plain": [
       "            n_cellphones  population\n",
       "iso-3 year                          \n",
       "ZWE   2015    12800000.0  14154937.0\n",
       "      2016    12900000.0  14452704.0\n",
       "      2017    14100000.0  14751101.0\n",
       "      2018    12900000.0  15052184.0\n",
       "      2019    13200000.0  15354608.0"
      ]
     },
     "execution_count": 48,
     "metadata": {},
     "output_type": "execute_result"
    }
   ],
   "source": [
    "table_1.tail()"
   ]
  },
  {
   "cell_type": "code",
   "execution_count": 49,
   "id": "c0a38aa5-984c-4031-b29e-112a388b4b43",
   "metadata": {},
   "outputs": [],
   "source": [
    "resetted_table_1 = table_1.reset_index()"
   ]
  },
  {
   "cell_type": "code",
   "execution_count": 50,
   "id": "94a27ad3-cb70-4442-9b9f-4e312e2c103d",
   "metadata": {},
   "outputs": [
    {
     "data": {
      "text/html": [
       "<div>\n",
       "<style scoped>\n",
       "    .dataframe tbody tr th:only-of-type {\n",
       "        vertical-align: middle;\n",
       "    }\n",
       "\n",
       "    .dataframe tbody tr th {\n",
       "        vertical-align: top;\n",
       "    }\n",
       "\n",
       "    .dataframe thead th {\n",
       "        text-align: right;\n",
       "    }\n",
       "</style>\n",
       "<table border=\"1\" class=\"dataframe\">\n",
       "  <thead>\n",
       "    <tr style=\"text-align: right;\">\n",
       "      <th></th>\n",
       "      <th>iso-3</th>\n",
       "      <th>year</th>\n",
       "      <th>n_cellphones</th>\n",
       "      <th>population</th>\n",
       "    </tr>\n",
       "  </thead>\n",
       "  <tbody>\n",
       "    <tr>\n",
       "      <th>0</th>\n",
       "      <td>ABW</td>\n",
       "      <td>1960</td>\n",
       "      <td>0.0</td>\n",
       "      <td>54608.0</td>\n",
       "    </tr>\n",
       "    <tr>\n",
       "      <th>1</th>\n",
       "      <td>ABW</td>\n",
       "      <td>1965</td>\n",
       "      <td>0.0</td>\n",
       "      <td>58782.0</td>\n",
       "    </tr>\n",
       "    <tr>\n",
       "      <th>2</th>\n",
       "      <td>ABW</td>\n",
       "      <td>1966</td>\n",
       "      <td>0.0</td>\n",
       "      <td>59291.0</td>\n",
       "    </tr>\n",
       "    <tr>\n",
       "      <th>3</th>\n",
       "      <td>ABW</td>\n",
       "      <td>1967</td>\n",
       "      <td>0.0</td>\n",
       "      <td>59522.0</td>\n",
       "    </tr>\n",
       "    <tr>\n",
       "      <th>4</th>\n",
       "      <td>ABW</td>\n",
       "      <td>1968</td>\n",
       "      <td>0.0</td>\n",
       "      <td>59471.0</td>\n",
       "    </tr>\n",
       "  </tbody>\n",
       "</table>\n",
       "</div>"
      ],
      "text/plain": [
       "  iso-3  year  n_cellphones  population\n",
       "0   ABW  1960           0.0     54608.0\n",
       "1   ABW  1965           0.0     58782.0\n",
       "2   ABW  1966           0.0     59291.0\n",
       "3   ABW  1967           0.0     59522.0\n",
       "4   ABW  1968           0.0     59471.0"
      ]
     },
     "execution_count": 50,
     "metadata": {},
     "output_type": "execute_result"
    }
   ],
   "source": [
    "resetted_table_1.head()"
   ]
  },
  {
   "cell_type": "code",
   "execution_count": 51,
   "id": "c04cbe22-2f1b-4326-af68-21ddd7fe1df5",
   "metadata": {},
   "outputs": [],
   "source": [
    "sorted_resetted_table_1 = resetted_table_1.sort_values(by=['year', 'iso-3'])"
   ]
  },
  {
   "cell_type": "code",
   "execution_count": 52,
   "id": "a5c2a7f0-328e-4246-a271-f67086823cd6",
   "metadata": {},
   "outputs": [
    {
     "data": {
      "text/html": [
       "<div>\n",
       "<style scoped>\n",
       "    .dataframe tbody tr th:only-of-type {\n",
       "        vertical-align: middle;\n",
       "    }\n",
       "\n",
       "    .dataframe tbody tr th {\n",
       "        vertical-align: top;\n",
       "    }\n",
       "\n",
       "    .dataframe thead th {\n",
       "        text-align: right;\n",
       "    }\n",
       "</style>\n",
       "<table border=\"1\" class=\"dataframe\">\n",
       "  <thead>\n",
       "    <tr style=\"text-align: right;\">\n",
       "      <th></th>\n",
       "      <th>iso-3</th>\n",
       "      <th>year</th>\n",
       "      <th>n_cellphones</th>\n",
       "      <th>population</th>\n",
       "    </tr>\n",
       "  </thead>\n",
       "  <tbody>\n",
       "    <tr>\n",
       "      <th>0</th>\n",
       "      <td>ABW</td>\n",
       "      <td>1960</td>\n",
       "      <td>0.0</td>\n",
       "      <td>54608.0</td>\n",
       "    </tr>\n",
       "    <tr>\n",
       "      <th>56</th>\n",
       "      <td>AFG</td>\n",
       "      <td>1960</td>\n",
       "      <td>0.0</td>\n",
       "      <td>8622466.0</td>\n",
       "    </tr>\n",
       "    <tr>\n",
       "      <th>112</th>\n",
       "      <td>AGO</td>\n",
       "      <td>1960</td>\n",
       "      <td>0.0</td>\n",
       "      <td>5357195.0</td>\n",
       "    </tr>\n",
       "    <tr>\n",
       "      <th>168</th>\n",
       "      <td>ALB</td>\n",
       "      <td>1960</td>\n",
       "      <td>0.0</td>\n",
       "      <td>1608800.0</td>\n",
       "    </tr>\n",
       "    <tr>\n",
       "      <th>224</th>\n",
       "      <td>AND</td>\n",
       "      <td>1960</td>\n",
       "      <td>0.0</td>\n",
       "      <td>9443.0</td>\n",
       "    </tr>\n",
       "  </tbody>\n",
       "</table>\n",
       "</div>"
      ],
      "text/plain": [
       "    iso-3  year  n_cellphones  population\n",
       "0     ABW  1960           0.0     54608.0\n",
       "56    AFG  1960           0.0   8622466.0\n",
       "112   AGO  1960           0.0   5357195.0\n",
       "168   ALB  1960           0.0   1608800.0\n",
       "224   AND  1960           0.0      9443.0"
      ]
     },
     "execution_count": 52,
     "metadata": {},
     "output_type": "execute_result"
    }
   ],
   "source": [
    "sorted_resetted_table_1.head()"
   ]
  },
  {
   "cell_type": "code",
   "execution_count": 53,
   "id": "a457022c-381a-418e-a181-bf1df3f03fa2",
   "metadata": {},
   "outputs": [
    {
     "data": {
      "text/html": [
       "<div>\n",
       "<style scoped>\n",
       "    .dataframe tbody tr th:only-of-type {\n",
       "        vertical-align: middle;\n",
       "    }\n",
       "\n",
       "    .dataframe tbody tr th {\n",
       "        vertical-align: top;\n",
       "    }\n",
       "\n",
       "    .dataframe thead th {\n",
       "        text-align: right;\n",
       "    }\n",
       "</style>\n",
       "<table border=\"1\" class=\"dataframe\">\n",
       "  <thead>\n",
       "    <tr style=\"text-align: right;\">\n",
       "      <th></th>\n",
       "      <th>iso-3</th>\n",
       "      <th>year</th>\n",
       "      <th>n_cellphones</th>\n",
       "      <th>population</th>\n",
       "    </tr>\n",
       "  </thead>\n",
       "  <tbody>\n",
       "    <tr>\n",
       "      <th>11733</th>\n",
       "      <td>XKX</td>\n",
       "      <td>2019</td>\n",
       "      <td>562000.0</td>\n",
       "      <td>1788878.0</td>\n",
       "    </tr>\n",
       "    <tr>\n",
       "      <th>11789</th>\n",
       "      <td>YEM</td>\n",
       "      <td>2019</td>\n",
       "      <td>15300000.0</td>\n",
       "      <td>31546691.0</td>\n",
       "    </tr>\n",
       "    <tr>\n",
       "      <th>11845</th>\n",
       "      <td>ZAF</td>\n",
       "      <td>2019</td>\n",
       "      <td>97000000.0</td>\n",
       "      <td>58087055.0</td>\n",
       "    </tr>\n",
       "    <tr>\n",
       "      <th>11901</th>\n",
       "      <td>ZMB</td>\n",
       "      <td>2019</td>\n",
       "      <td>17200000.0</td>\n",
       "      <td>18380477.0</td>\n",
       "    </tr>\n",
       "    <tr>\n",
       "      <th>11957</th>\n",
       "      <td>ZWE</td>\n",
       "      <td>2019</td>\n",
       "      <td>13200000.0</td>\n",
       "      <td>15354608.0</td>\n",
       "    </tr>\n",
       "  </tbody>\n",
       "</table>\n",
       "</div>"
      ],
      "text/plain": [
       "      iso-3  year  n_cellphones  population\n",
       "11733   XKX  2019      562000.0   1788878.0\n",
       "11789   YEM  2019    15300000.0  31546691.0\n",
       "11845   ZAF  2019    97000000.0  58087055.0\n",
       "11901   ZMB  2019    17200000.0  18380477.0\n",
       "11957   ZWE  2019    13200000.0  15354608.0"
      ]
     },
     "execution_count": 53,
     "metadata": {},
     "output_type": "execute_result"
    }
   ],
   "source": [
    "sorted_resetted_table_1.tail()"
   ]
  },
  {
   "cell_type": "code",
   "execution_count": 54,
   "id": "9719f0e3-a25e-42e4-83f1-98c4b7bcfe86",
   "metadata": {},
   "outputs": [],
   "source": [
    "def scientific_float_2_decimals(x):\n",
    "    if type(x) == float:        \n",
    "        return '{:.6g}'.format(x)\n",
    "    else:\n",
    "        return x\n",
    "    # return '{:.2e}'.format(x)"
   ]
  },
  {
   "cell_type": "code",
   "execution_count": 55,
   "id": "5b5bb742-0863-4a7c-822d-d85db3dae0e3",
   "metadata": {},
   "outputs": [],
   "source": [
    "test_variable = 2.34"
   ]
  },
  {
   "cell_type": "code",
   "execution_count": 56,
   "id": "ddbbbffb-7e99-4014-b622-2734d7aa433a",
   "metadata": {},
   "outputs": [
    {
     "data": {
      "text/plain": [
       "float"
      ]
     },
     "execution_count": 56,
     "metadata": {},
     "output_type": "execute_result"
    }
   ],
   "source": [
    "type(test_variable)"
   ]
  },
  {
   "cell_type": "code",
   "execution_count": 57,
   "id": "d52e33ff-3767-42b8-a228-10b642842658",
   "metadata": {},
   "outputs": [
    {
     "data": {
      "text/plain": [
       "False"
      ]
     },
     "execution_count": 57,
     "metadata": {},
     "output_type": "execute_result"
    }
   ],
   "source": [
    "test_variable.is_integer()"
   ]
  },
  {
   "cell_type": "code",
   "execution_count": 58,
   "id": "4b0a6410-747e-450d-b0e7-b29c1af0407c",
   "metadata": {},
   "outputs": [],
   "source": [
    "# table = sorted_resetted_table_1[['n_cellphones', 'population']].map(scientific_float_2_decimals)"
   ]
  },
  {
   "cell_type": "code",
   "execution_count": 59,
   "id": "a751c969-f79f-4b3e-ae20-bbf8e7131053",
   "metadata": {},
   "outputs": [],
   "source": [
    "table = sorted_resetted_table_1.map(scientific_float_2_decimals)"
   ]
  },
  {
   "cell_type": "code",
   "execution_count": 60,
   "id": "1184ca71-047f-4aec-90c7-3e8252706281",
   "metadata": {},
   "outputs": [
    {
     "data": {
      "text/html": [
       "<div>\n",
       "<style scoped>\n",
       "    .dataframe tbody tr th:only-of-type {\n",
       "        vertical-align: middle;\n",
       "    }\n",
       "\n",
       "    .dataframe tbody tr th {\n",
       "        vertical-align: top;\n",
       "    }\n",
       "\n",
       "    .dataframe thead th {\n",
       "        text-align: right;\n",
       "    }\n",
       "</style>\n",
       "<table border=\"1\" class=\"dataframe\">\n",
       "  <thead>\n",
       "    <tr style=\"text-align: right;\">\n",
       "      <th></th>\n",
       "      <th>iso-3</th>\n",
       "      <th>year</th>\n",
       "      <th>n_cellphones</th>\n",
       "      <th>population</th>\n",
       "    </tr>\n",
       "  </thead>\n",
       "  <tbody>\n",
       "    <tr>\n",
       "      <th>0</th>\n",
       "      <td>ABW</td>\n",
       "      <td>1960</td>\n",
       "      <td>0</td>\n",
       "      <td>54608</td>\n",
       "    </tr>\n",
       "    <tr>\n",
       "      <th>56</th>\n",
       "      <td>AFG</td>\n",
       "      <td>1960</td>\n",
       "      <td>0</td>\n",
       "      <td>8.62247e+06</td>\n",
       "    </tr>\n",
       "    <tr>\n",
       "      <th>112</th>\n",
       "      <td>AGO</td>\n",
       "      <td>1960</td>\n",
       "      <td>0</td>\n",
       "      <td>5.3572e+06</td>\n",
       "    </tr>\n",
       "    <tr>\n",
       "      <th>168</th>\n",
       "      <td>ALB</td>\n",
       "      <td>1960</td>\n",
       "      <td>0</td>\n",
       "      <td>1.6088e+06</td>\n",
       "    </tr>\n",
       "    <tr>\n",
       "      <th>224</th>\n",
       "      <td>AND</td>\n",
       "      <td>1960</td>\n",
       "      <td>0</td>\n",
       "      <td>9443</td>\n",
       "    </tr>\n",
       "  </tbody>\n",
       "</table>\n",
       "</div>"
      ],
      "text/plain": [
       "    iso-3  year n_cellphones   population\n",
       "0     ABW  1960            0        54608\n",
       "56    AFG  1960            0  8.62247e+06\n",
       "112   AGO  1960            0   5.3572e+06\n",
       "168   ALB  1960            0   1.6088e+06\n",
       "224   AND  1960            0         9443"
      ]
     },
     "execution_count": 60,
     "metadata": {},
     "output_type": "execute_result"
    }
   ],
   "source": [
    "table.head()"
   ]
  },
  {
   "cell_type": "code",
   "execution_count": 61,
   "id": "aad571aa-bc63-48a7-bb0b-29245834af00",
   "metadata": {},
   "outputs": [],
   "source": [
    "styled_table  = table.iloc[:5,:].style\\\n",
    "                        .hide(axis='index')"
   ]
  },
  {
   "cell_type": "markdown",
   "id": "18320bb4-1087-4ff4-864a-28d6be343723",
   "metadata": {},
   "source": [
    "\n",
    "#### The first table\n"
   ]
  },
  {
   "cell_type": "code",
   "execution_count": 62,
   "id": "28dfbba9-33fd-40d4-8b23-16e307292a92",
   "metadata": {},
   "outputs": [
    {
     "data": {
      "text/html": [
       "<style type=\"text/css\">\n",
       "</style>\n",
       "<table id=\"T_65710\">\n",
       "  <thead>\n",
       "    <tr>\n",
       "      <th id=\"T_65710_level0_col0\" class=\"col_heading level0 col0\" >iso-3</th>\n",
       "      <th id=\"T_65710_level0_col1\" class=\"col_heading level0 col1\" >year</th>\n",
       "      <th id=\"T_65710_level0_col2\" class=\"col_heading level0 col2\" >n_cellphones</th>\n",
       "      <th id=\"T_65710_level0_col3\" class=\"col_heading level0 col3\" >population</th>\n",
       "    </tr>\n",
       "  </thead>\n",
       "  <tbody>\n",
       "    <tr>\n",
       "      <td id=\"T_65710_row0_col0\" class=\"data row0 col0\" >ABW</td>\n",
       "      <td id=\"T_65710_row0_col1\" class=\"data row0 col1\" >1960</td>\n",
       "      <td id=\"T_65710_row0_col2\" class=\"data row0 col2\" >0</td>\n",
       "      <td id=\"T_65710_row0_col3\" class=\"data row0 col3\" >54608</td>\n",
       "    </tr>\n",
       "    <tr>\n",
       "      <td id=\"T_65710_row1_col0\" class=\"data row1 col0\" >AFG</td>\n",
       "      <td id=\"T_65710_row1_col1\" class=\"data row1 col1\" >1960</td>\n",
       "      <td id=\"T_65710_row1_col2\" class=\"data row1 col2\" >0</td>\n",
       "      <td id=\"T_65710_row1_col3\" class=\"data row1 col3\" >8.62247e+06</td>\n",
       "    </tr>\n",
       "    <tr>\n",
       "      <td id=\"T_65710_row2_col0\" class=\"data row2 col0\" >AGO</td>\n",
       "      <td id=\"T_65710_row2_col1\" class=\"data row2 col1\" >1960</td>\n",
       "      <td id=\"T_65710_row2_col2\" class=\"data row2 col2\" >0</td>\n",
       "      <td id=\"T_65710_row2_col3\" class=\"data row2 col3\" >5.3572e+06</td>\n",
       "    </tr>\n",
       "    <tr>\n",
       "      <td id=\"T_65710_row3_col0\" class=\"data row3 col0\" >ALB</td>\n",
       "      <td id=\"T_65710_row3_col1\" class=\"data row3 col1\" >1960</td>\n",
       "      <td id=\"T_65710_row3_col2\" class=\"data row3 col2\" >0</td>\n",
       "      <td id=\"T_65710_row3_col3\" class=\"data row3 col3\" >1.6088e+06</td>\n",
       "    </tr>\n",
       "    <tr>\n",
       "      <td id=\"T_65710_row4_col0\" class=\"data row4 col0\" >AND</td>\n",
       "      <td id=\"T_65710_row4_col1\" class=\"data row4 col1\" >1960</td>\n",
       "      <td id=\"T_65710_row4_col2\" class=\"data row4 col2\" >0</td>\n",
       "      <td id=\"T_65710_row4_col3\" class=\"data row4 col3\" >9443</td>\n",
       "    </tr>\n",
       "  </tbody>\n",
       "</table>\n"
      ],
      "text/plain": [
       "<pandas.io.formats.style.Styler at 0x23e3b45acf0>"
      ]
     },
     "execution_count": 62,
     "metadata": {},
     "output_type": "execute_result"
    }
   ],
   "source": [
    "styled_table"
   ]
  },
  {
   "cell_type": "code",
   "execution_count": 63,
   "id": "c6410afb-acba-4df1-83a2-5ca60ca788cf",
   "metadata": {},
   "outputs": [],
   "source": [
    "styled_sorted_resetted_table_3 = sorted_resetted_table_1.iloc[:5,:].style\\\n",
    "                         .hide(axis='index')"
   ]
  },
  {
   "cell_type": "code",
   "execution_count": 64,
   "id": "26be10f5-2213-4362-bb12-35d71429a813",
   "metadata": {},
   "outputs": [
    {
     "data": {
      "text/html": [
       "<style type=\"text/css\">\n",
       "</style>\n",
       "<table id=\"T_0d137\">\n",
       "  <thead>\n",
       "    <tr>\n",
       "      <th id=\"T_0d137_level0_col0\" class=\"col_heading level0 col0\" >iso-3</th>\n",
       "      <th id=\"T_0d137_level0_col1\" class=\"col_heading level0 col1\" >year</th>\n",
       "      <th id=\"T_0d137_level0_col2\" class=\"col_heading level0 col2\" >n_cellphones</th>\n",
       "      <th id=\"T_0d137_level0_col3\" class=\"col_heading level0 col3\" >population</th>\n",
       "    </tr>\n",
       "  </thead>\n",
       "  <tbody>\n",
       "    <tr>\n",
       "      <td id=\"T_0d137_row0_col0\" class=\"data row0 col0\" >ABW</td>\n",
       "      <td id=\"T_0d137_row0_col1\" class=\"data row0 col1\" >1960</td>\n",
       "      <td id=\"T_0d137_row0_col2\" class=\"data row0 col2\" >0.000000</td>\n",
       "      <td id=\"T_0d137_row0_col3\" class=\"data row0 col3\" >54608.000000</td>\n",
       "    </tr>\n",
       "    <tr>\n",
       "      <td id=\"T_0d137_row1_col0\" class=\"data row1 col0\" >AFG</td>\n",
       "      <td id=\"T_0d137_row1_col1\" class=\"data row1 col1\" >1960</td>\n",
       "      <td id=\"T_0d137_row1_col2\" class=\"data row1 col2\" >0.000000</td>\n",
       "      <td id=\"T_0d137_row1_col3\" class=\"data row1 col3\" >8622466.000000</td>\n",
       "    </tr>\n",
       "    <tr>\n",
       "      <td id=\"T_0d137_row2_col0\" class=\"data row2 col0\" >AGO</td>\n",
       "      <td id=\"T_0d137_row2_col1\" class=\"data row2 col1\" >1960</td>\n",
       "      <td id=\"T_0d137_row2_col2\" class=\"data row2 col2\" >0.000000</td>\n",
       "      <td id=\"T_0d137_row2_col3\" class=\"data row2 col3\" >5357195.000000</td>\n",
       "    </tr>\n",
       "    <tr>\n",
       "      <td id=\"T_0d137_row3_col0\" class=\"data row3 col0\" >ALB</td>\n",
       "      <td id=\"T_0d137_row3_col1\" class=\"data row3 col1\" >1960</td>\n",
       "      <td id=\"T_0d137_row3_col2\" class=\"data row3 col2\" >0.000000</td>\n",
       "      <td id=\"T_0d137_row3_col3\" class=\"data row3 col3\" >1608800.000000</td>\n",
       "    </tr>\n",
       "    <tr>\n",
       "      <td id=\"T_0d137_row4_col0\" class=\"data row4 col0\" >AND</td>\n",
       "      <td id=\"T_0d137_row4_col1\" class=\"data row4 col1\" >1960</td>\n",
       "      <td id=\"T_0d137_row4_col2\" class=\"data row4 col2\" >0.000000</td>\n",
       "      <td id=\"T_0d137_row4_col3\" class=\"data row4 col3\" >9443.000000</td>\n",
       "    </tr>\n",
       "  </tbody>\n",
       "</table>\n"
      ],
      "text/plain": [
       "<pandas.io.formats.style.Styler at 0x23e3b2abd90>"
      ]
     },
     "execution_count": 64,
     "metadata": {},
     "output_type": "execute_result"
    }
   ],
   "source": [
    "styled_sorted_resetted_table_3"
   ]
  },
  {
   "cell_type": "code",
   "execution_count": 65,
   "id": "f0aeefb9-8704-49e4-8799-667ccb7f4676",
   "metadata": {},
   "outputs": [],
   "source": [
    "styled_sorted_resetted_table_1 = sorted_resetted_table_1.iloc[:10,:].style\\\n",
    "                        .hide(axis='index')"
   ]
  },
  {
   "cell_type": "code",
   "execution_count": 66,
   "id": "d0ea4f41-379f-4de1-aaa5-bb4b48ec5bba",
   "metadata": {},
   "outputs": [
    {
     "data": {
      "text/html": [
       "<style type=\"text/css\">\n",
       "</style>\n",
       "<table id=\"T_365ed\">\n",
       "  <thead>\n",
       "    <tr>\n",
       "      <th id=\"T_365ed_level0_col0\" class=\"col_heading level0 col0\" >iso-3</th>\n",
       "      <th id=\"T_365ed_level0_col1\" class=\"col_heading level0 col1\" >year</th>\n",
       "      <th id=\"T_365ed_level0_col2\" class=\"col_heading level0 col2\" >n_cellphones</th>\n",
       "      <th id=\"T_365ed_level0_col3\" class=\"col_heading level0 col3\" >population</th>\n",
       "    </tr>\n",
       "  </thead>\n",
       "  <tbody>\n",
       "    <tr>\n",
       "      <td id=\"T_365ed_row0_col0\" class=\"data row0 col0\" >ABW</td>\n",
       "      <td id=\"T_365ed_row0_col1\" class=\"data row0 col1\" >1960</td>\n",
       "      <td id=\"T_365ed_row0_col2\" class=\"data row0 col2\" >0.000000</td>\n",
       "      <td id=\"T_365ed_row0_col3\" class=\"data row0 col3\" >54608.000000</td>\n",
       "    </tr>\n",
       "    <tr>\n",
       "      <td id=\"T_365ed_row1_col0\" class=\"data row1 col0\" >AFG</td>\n",
       "      <td id=\"T_365ed_row1_col1\" class=\"data row1 col1\" >1960</td>\n",
       "      <td id=\"T_365ed_row1_col2\" class=\"data row1 col2\" >0.000000</td>\n",
       "      <td id=\"T_365ed_row1_col3\" class=\"data row1 col3\" >8622466.000000</td>\n",
       "    </tr>\n",
       "    <tr>\n",
       "      <td id=\"T_365ed_row2_col0\" class=\"data row2 col0\" >AGO</td>\n",
       "      <td id=\"T_365ed_row2_col1\" class=\"data row2 col1\" >1960</td>\n",
       "      <td id=\"T_365ed_row2_col2\" class=\"data row2 col2\" >0.000000</td>\n",
       "      <td id=\"T_365ed_row2_col3\" class=\"data row2 col3\" >5357195.000000</td>\n",
       "    </tr>\n",
       "    <tr>\n",
       "      <td id=\"T_365ed_row3_col0\" class=\"data row3 col0\" >ALB</td>\n",
       "      <td id=\"T_365ed_row3_col1\" class=\"data row3 col1\" >1960</td>\n",
       "      <td id=\"T_365ed_row3_col2\" class=\"data row3 col2\" >0.000000</td>\n",
       "      <td id=\"T_365ed_row3_col3\" class=\"data row3 col3\" >1608800.000000</td>\n",
       "    </tr>\n",
       "    <tr>\n",
       "      <td id=\"T_365ed_row4_col0\" class=\"data row4 col0\" >AND</td>\n",
       "      <td id=\"T_365ed_row4_col1\" class=\"data row4 col1\" >1960</td>\n",
       "      <td id=\"T_365ed_row4_col2\" class=\"data row4 col2\" >0.000000</td>\n",
       "      <td id=\"T_365ed_row4_col3\" class=\"data row4 col3\" >9443.000000</td>\n",
       "    </tr>\n",
       "    <tr>\n",
       "      <td id=\"T_365ed_row5_col0\" class=\"data row5 col0\" >ARE</td>\n",
       "      <td id=\"T_365ed_row5_col1\" class=\"data row5 col1\" >1960</td>\n",
       "      <td id=\"T_365ed_row5_col2\" class=\"data row5 col2\" >0.000000</td>\n",
       "      <td id=\"T_365ed_row5_col3\" class=\"data row5 col3\" >133426.000000</td>\n",
       "    </tr>\n",
       "    <tr>\n",
       "      <td id=\"T_365ed_row6_col0\" class=\"data row6 col0\" >ARG</td>\n",
       "      <td id=\"T_365ed_row6_col1\" class=\"data row6 col1\" >1960</td>\n",
       "      <td id=\"T_365ed_row6_col2\" class=\"data row6 col2\" >0.000000</td>\n",
       "      <td id=\"T_365ed_row6_col3\" class=\"data row6 col3\" >20349744.000000</td>\n",
       "    </tr>\n",
       "    <tr>\n",
       "      <td id=\"T_365ed_row7_col0\" class=\"data row7 col0\" >ARM</td>\n",
       "      <td id=\"T_365ed_row7_col1\" class=\"data row7 col1\" >1960</td>\n",
       "      <td id=\"T_365ed_row7_col2\" class=\"data row7 col2\" >0.000000</td>\n",
       "      <td id=\"T_365ed_row7_col3\" class=\"data row7 col3\" >1904148.000000</td>\n",
       "    </tr>\n",
       "    <tr>\n",
       "      <td id=\"T_365ed_row8_col0\" class=\"data row8 col0\" >ASM</td>\n",
       "      <td id=\"T_365ed_row8_col1\" class=\"data row8 col1\" >1960</td>\n",
       "      <td id=\"T_365ed_row8_col2\" class=\"data row8 col2\" >0.000000</td>\n",
       "      <td id=\"T_365ed_row8_col3\" class=\"data row8 col3\" >20085.000000</td>\n",
       "    </tr>\n",
       "    <tr>\n",
       "      <td id=\"T_365ed_row9_col0\" class=\"data row9 col0\" >ATG</td>\n",
       "      <td id=\"T_365ed_row9_col1\" class=\"data row9 col1\" >1960</td>\n",
       "      <td id=\"T_365ed_row9_col2\" class=\"data row9 col2\" >0.000000</td>\n",
       "      <td id=\"T_365ed_row9_col3\" class=\"data row9 col3\" >55342.000000</td>\n",
       "    </tr>\n",
       "  </tbody>\n",
       "</table>\n"
      ],
      "text/plain": [
       "<pandas.io.formats.style.Styler at 0x23e3b4c8050>"
      ]
     },
     "execution_count": 66,
     "metadata": {},
     "output_type": "execute_result"
    }
   ],
   "source": [
    "styled_sorted_resetted_table_1"
   ]
  },
  {
   "cell_type": "code",
   "execution_count": 67,
   "id": "dd3c8ec7-4701-407c-9107-2d05356472ab",
   "metadata": {},
   "outputs": [],
   "source": [
    "styled_sorted_resetted_table_2 = sorted_resetted_table_1.iloc[-10:,:].style\\\n",
    "                        .hide(axis='index')"
   ]
  },
  {
   "cell_type": "code",
   "execution_count": 68,
   "id": "321e46db-967a-40ba-8353-811725755687",
   "metadata": {},
   "outputs": [
    {
     "data": {
      "text/html": [
       "<style type=\"text/css\">\n",
       "</style>\n",
       "<table id=\"T_6a588\">\n",
       "  <thead>\n",
       "    <tr>\n",
       "      <th id=\"T_6a588_level0_col0\" class=\"col_heading level0 col0\" >iso-3</th>\n",
       "      <th id=\"T_6a588_level0_col1\" class=\"col_heading level0 col1\" >year</th>\n",
       "      <th id=\"T_6a588_level0_col2\" class=\"col_heading level0 col2\" >n_cellphones</th>\n",
       "      <th id=\"T_6a588_level0_col3\" class=\"col_heading level0 col3\" >population</th>\n",
       "    </tr>\n",
       "  </thead>\n",
       "  <tbody>\n",
       "    <tr>\n",
       "      <td id=\"T_6a588_row0_col0\" class=\"data row0 col0\" >VGB</td>\n",
       "      <td id=\"T_6a588_row0_col1\" class=\"data row0 col1\" >2019</td>\n",
       "      <td id=\"T_6a588_row0_col2\" class=\"data row0 col2\" >40000.000000</td>\n",
       "      <td id=\"T_6a588_row0_col3\" class=\"data row0 col3\" >30610.000000</td>\n",
       "    </tr>\n",
       "    <tr>\n",
       "      <td id=\"T_6a588_row1_col0\" class=\"data row1 col0\" >VIR</td>\n",
       "      <td id=\"T_6a588_row1_col1\" class=\"data row1 col1\" >2019</td>\n",
       "      <td id=\"T_6a588_row1_col2\" class=\"data row1 col2\" >80300.000000</td>\n",
       "      <td id=\"T_6a588_row1_col3\" class=\"data row1 col3\" >106669.000000</td>\n",
       "    </tr>\n",
       "    <tr>\n",
       "      <td id=\"T_6a588_row2_col0\" class=\"data row2 col0\" >VNM</td>\n",
       "      <td id=\"T_6a588_row2_col1\" class=\"data row2 col1\" >2019</td>\n",
       "      <td id=\"T_6a588_row2_col2\" class=\"data row2 col2\" >136000000.000000</td>\n",
       "      <td id=\"T_6a588_row2_col3\" class=\"data row2 col3\" >95776716.000000</td>\n",
       "    </tr>\n",
       "    <tr>\n",
       "      <td id=\"T_6a588_row3_col0\" class=\"data row3 col0\" >VUT</td>\n",
       "      <td id=\"T_6a588_row3_col1\" class=\"data row3 col1\" >2019</td>\n",
       "      <td id=\"T_6a588_row3_col2\" class=\"data row3 col2\" >265000.000000</td>\n",
       "      <td id=\"T_6a588_row3_col3\" class=\"data row3 col3\" >304404.000000</td>\n",
       "    </tr>\n",
       "    <tr>\n",
       "      <td id=\"T_6a588_row4_col0\" class=\"data row4 col0\" >WSM</td>\n",
       "      <td id=\"T_6a588_row4_col1\" class=\"data row4 col1\" >2019</td>\n",
       "      <td id=\"T_6a588_row4_col2\" class=\"data row4 col2\" >124000.000000</td>\n",
       "      <td id=\"T_6a588_row4_col3\" class=\"data row4 col3\" >211905.000000</td>\n",
       "    </tr>\n",
       "    <tr>\n",
       "      <td id=\"T_6a588_row5_col0\" class=\"data row5 col0\" >XKX</td>\n",
       "      <td id=\"T_6a588_row5_col1\" class=\"data row5 col1\" >2019</td>\n",
       "      <td id=\"T_6a588_row5_col2\" class=\"data row5 col2\" >562000.000000</td>\n",
       "      <td id=\"T_6a588_row5_col3\" class=\"data row5 col3\" >1788878.000000</td>\n",
       "    </tr>\n",
       "    <tr>\n",
       "      <td id=\"T_6a588_row6_col0\" class=\"data row6 col0\" >YEM</td>\n",
       "      <td id=\"T_6a588_row6_col1\" class=\"data row6 col1\" >2019</td>\n",
       "      <td id=\"T_6a588_row6_col2\" class=\"data row6 col2\" >15300000.000000</td>\n",
       "      <td id=\"T_6a588_row6_col3\" class=\"data row6 col3\" >31546691.000000</td>\n",
       "    </tr>\n",
       "    <tr>\n",
       "      <td id=\"T_6a588_row7_col0\" class=\"data row7 col0\" >ZAF</td>\n",
       "      <td id=\"T_6a588_row7_col1\" class=\"data row7 col1\" >2019</td>\n",
       "      <td id=\"T_6a588_row7_col2\" class=\"data row7 col2\" >97000000.000000</td>\n",
       "      <td id=\"T_6a588_row7_col3\" class=\"data row7 col3\" >58087055.000000</td>\n",
       "    </tr>\n",
       "    <tr>\n",
       "      <td id=\"T_6a588_row8_col0\" class=\"data row8 col0\" >ZMB</td>\n",
       "      <td id=\"T_6a588_row8_col1\" class=\"data row8 col1\" >2019</td>\n",
       "      <td id=\"T_6a588_row8_col2\" class=\"data row8 col2\" >17200000.000000</td>\n",
       "      <td id=\"T_6a588_row8_col3\" class=\"data row8 col3\" >18380477.000000</td>\n",
       "    </tr>\n",
       "    <tr>\n",
       "      <td id=\"T_6a588_row9_col0\" class=\"data row9 col0\" >ZWE</td>\n",
       "      <td id=\"T_6a588_row9_col1\" class=\"data row9 col1\" >2019</td>\n",
       "      <td id=\"T_6a588_row9_col2\" class=\"data row9 col2\" >13200000.000000</td>\n",
       "      <td id=\"T_6a588_row9_col3\" class=\"data row9 col3\" >15354608.000000</td>\n",
       "    </tr>\n",
       "  </tbody>\n",
       "</table>\n"
      ],
      "text/plain": [
       "<pandas.io.formats.style.Styler at 0x23e3b4c82d0>"
      ]
     },
     "execution_count": 68,
     "metadata": {},
     "output_type": "execute_result"
    }
   ],
   "source": [
    "styled_sorted_resetted_table_2"
   ]
  },
  {
   "cell_type": "markdown",
   "id": "e71c6373-4824-42ab-9f80-ec4b76d5cfb7",
   "metadata": {},
   "source": [
    "Now we can start creating the second table. First we make a copy of the first table."
   ]
  },
  {
   "cell_type": "code",
   "execution_count": 69,
   "id": "ee15f0ca-bf2f-4b17-8cb7-379eaf44e189",
   "metadata": {},
   "outputs": [],
   "source": [
    "second_table = sorted_resetted_table_1.copy()"
   ]
  },
  {
   "cell_type": "code",
   "execution_count": 70,
   "id": "083c2bb6-be3b-478b-bb57-78209a7d08ef",
   "metadata": {},
   "outputs": [],
   "source": [
    "second_table['phones_per_capita'] = second_table['n_cellphones'] / second_table['population'] # compute new column"
   ]
  },
  {
   "cell_type": "code",
   "execution_count": 71,
   "id": "56e3af08-a434-4121-a46c-2321f0fdd114",
   "metadata": {},
   "outputs": [
    {
     "data": {
      "text/html": [
       "<div>\n",
       "<style scoped>\n",
       "    .dataframe tbody tr th:only-of-type {\n",
       "        vertical-align: middle;\n",
       "    }\n",
       "\n",
       "    .dataframe tbody tr th {\n",
       "        vertical-align: top;\n",
       "    }\n",
       "\n",
       "    .dataframe thead th {\n",
       "        text-align: right;\n",
       "    }\n",
       "</style>\n",
       "<table border=\"1\" class=\"dataframe\">\n",
       "  <thead>\n",
       "    <tr style=\"text-align: right;\">\n",
       "      <th></th>\n",
       "      <th>iso-3</th>\n",
       "      <th>year</th>\n",
       "      <th>n_cellphones</th>\n",
       "      <th>population</th>\n",
       "      <th>phones_per_capita</th>\n",
       "    </tr>\n",
       "  </thead>\n",
       "  <tbody>\n",
       "    <tr>\n",
       "      <th>0</th>\n",
       "      <td>ABW</td>\n",
       "      <td>1960</td>\n",
       "      <td>0.0</td>\n",
       "      <td>54608.0</td>\n",
       "      <td>0.0</td>\n",
       "    </tr>\n",
       "    <tr>\n",
       "      <th>56</th>\n",
       "      <td>AFG</td>\n",
       "      <td>1960</td>\n",
       "      <td>0.0</td>\n",
       "      <td>8622466.0</td>\n",
       "      <td>0.0</td>\n",
       "    </tr>\n",
       "    <tr>\n",
       "      <th>112</th>\n",
       "      <td>AGO</td>\n",
       "      <td>1960</td>\n",
       "      <td>0.0</td>\n",
       "      <td>5357195.0</td>\n",
       "      <td>0.0</td>\n",
       "    </tr>\n",
       "    <tr>\n",
       "      <th>168</th>\n",
       "      <td>ALB</td>\n",
       "      <td>1960</td>\n",
       "      <td>0.0</td>\n",
       "      <td>1608800.0</td>\n",
       "      <td>0.0</td>\n",
       "    </tr>\n",
       "    <tr>\n",
       "      <th>224</th>\n",
       "      <td>AND</td>\n",
       "      <td>1960</td>\n",
       "      <td>0.0</td>\n",
       "      <td>9443.0</td>\n",
       "      <td>0.0</td>\n",
       "    </tr>\n",
       "  </tbody>\n",
       "</table>\n",
       "</div>"
      ],
      "text/plain": [
       "    iso-3  year  n_cellphones  population  phones_per_capita\n",
       "0     ABW  1960           0.0     54608.0                0.0\n",
       "56    AFG  1960           0.0   8622466.0                0.0\n",
       "112   AGO  1960           0.0   5357195.0                0.0\n",
       "168   ALB  1960           0.0   1608800.0                0.0\n",
       "224   AND  1960           0.0      9443.0                0.0"
      ]
     },
     "execution_count": 71,
     "metadata": {},
     "output_type": "execute_result"
    }
   ],
   "source": [
    "second_table.head()"
   ]
  },
  {
   "cell_type": "code",
   "execution_count": 72,
   "id": "65488913-9c31-4f90-9580-615451e58fb3",
   "metadata": {},
   "outputs": [
    {
     "data": {
      "text/html": [
       "<div>\n",
       "<style scoped>\n",
       "    .dataframe tbody tr th:only-of-type {\n",
       "        vertical-align: middle;\n",
       "    }\n",
       "\n",
       "    .dataframe tbody tr th {\n",
       "        vertical-align: top;\n",
       "    }\n",
       "\n",
       "    .dataframe thead th {\n",
       "        text-align: right;\n",
       "    }\n",
       "</style>\n",
       "<table border=\"1\" class=\"dataframe\">\n",
       "  <thead>\n",
       "    <tr style=\"text-align: right;\">\n",
       "      <th></th>\n",
       "      <th>iso-3</th>\n",
       "      <th>year</th>\n",
       "      <th>n_cellphones</th>\n",
       "      <th>population</th>\n",
       "      <th>phones_per_capita</th>\n",
       "    </tr>\n",
       "  </thead>\n",
       "  <tbody>\n",
       "    <tr>\n",
       "      <th>11733</th>\n",
       "      <td>XKX</td>\n",
       "      <td>2019</td>\n",
       "      <td>562000.0</td>\n",
       "      <td>1788878.0</td>\n",
       "      <td>0.314163</td>\n",
       "    </tr>\n",
       "    <tr>\n",
       "      <th>11789</th>\n",
       "      <td>YEM</td>\n",
       "      <td>2019</td>\n",
       "      <td>15300000.0</td>\n",
       "      <td>31546691.0</td>\n",
       "      <td>0.484995</td>\n",
       "    </tr>\n",
       "    <tr>\n",
       "      <th>11845</th>\n",
       "      <td>ZAF</td>\n",
       "      <td>2019</td>\n",
       "      <td>97000000.0</td>\n",
       "      <td>58087055.0</td>\n",
       "      <td>1.669907</td>\n",
       "    </tr>\n",
       "    <tr>\n",
       "      <th>11901</th>\n",
       "      <td>ZMB</td>\n",
       "      <td>2019</td>\n",
       "      <td>17200000.0</td>\n",
       "      <td>18380477.0</td>\n",
       "      <td>0.935775</td>\n",
       "    </tr>\n",
       "    <tr>\n",
       "      <th>11957</th>\n",
       "      <td>ZWE</td>\n",
       "      <td>2019</td>\n",
       "      <td>13200000.0</td>\n",
       "      <td>15354608.0</td>\n",
       "      <td>0.859677</td>\n",
       "    </tr>\n",
       "  </tbody>\n",
       "</table>\n",
       "</div>"
      ],
      "text/plain": [
       "      iso-3  year  n_cellphones  population  phones_per_capita\n",
       "11733   XKX  2019      562000.0   1788878.0           0.314163\n",
       "11789   YEM  2019    15300000.0  31546691.0           0.484995\n",
       "11845   ZAF  2019    97000000.0  58087055.0           1.669907\n",
       "11901   ZMB  2019    17200000.0  18380477.0           0.935775\n",
       "11957   ZWE  2019    13200000.0  15354608.0           0.859677"
      ]
     },
     "execution_count": 72,
     "metadata": {},
     "output_type": "execute_result"
    }
   ],
   "source": [
    "second_table.tail()"
   ]
  },
  {
   "cell_type": "code",
   "execution_count": 73,
   "id": "eb96073e-6c13-408e-95a6-75429fda8a29",
   "metadata": {},
   "outputs": [],
   "source": [
    "reduced_second_table = second_table.copy() # to drop not needed columns"
   ]
  },
  {
   "cell_type": "code",
   "execution_count": 74,
   "id": "e58c046c-8af2-440c-ba40-fde2f13392fe",
   "metadata": {},
   "outputs": [],
   "source": [
    "reduced_second_table = second_table.drop(columns=['n_cellphones', 'population'])"
   ]
  },
  {
   "cell_type": "code",
   "execution_count": 75,
   "id": "d335c46b-0251-4de1-88f3-0cfc9ae5b46d",
   "metadata": {},
   "outputs": [
    {
     "data": {
      "text/html": [
       "<div>\n",
       "<style scoped>\n",
       "    .dataframe tbody tr th:only-of-type {\n",
       "        vertical-align: middle;\n",
       "    }\n",
       "\n",
       "    .dataframe tbody tr th {\n",
       "        vertical-align: top;\n",
       "    }\n",
       "\n",
       "    .dataframe thead th {\n",
       "        text-align: right;\n",
       "    }\n",
       "</style>\n",
       "<table border=\"1\" class=\"dataframe\">\n",
       "  <thead>\n",
       "    <tr style=\"text-align: right;\">\n",
       "      <th></th>\n",
       "      <th>iso-3</th>\n",
       "      <th>year</th>\n",
       "      <th>n_cellphones</th>\n",
       "      <th>population</th>\n",
       "      <th>phones_per_capita</th>\n",
       "    </tr>\n",
       "  </thead>\n",
       "  <tbody>\n",
       "    <tr>\n",
       "      <th>11733</th>\n",
       "      <td>XKX</td>\n",
       "      <td>2019</td>\n",
       "      <td>562000.0</td>\n",
       "      <td>1788878.0</td>\n",
       "      <td>0.314163</td>\n",
       "    </tr>\n",
       "    <tr>\n",
       "      <th>11789</th>\n",
       "      <td>YEM</td>\n",
       "      <td>2019</td>\n",
       "      <td>15300000.0</td>\n",
       "      <td>31546691.0</td>\n",
       "      <td>0.484995</td>\n",
       "    </tr>\n",
       "    <tr>\n",
       "      <th>11845</th>\n",
       "      <td>ZAF</td>\n",
       "      <td>2019</td>\n",
       "      <td>97000000.0</td>\n",
       "      <td>58087055.0</td>\n",
       "      <td>1.669907</td>\n",
       "    </tr>\n",
       "    <tr>\n",
       "      <th>11901</th>\n",
       "      <td>ZMB</td>\n",
       "      <td>2019</td>\n",
       "      <td>17200000.0</td>\n",
       "      <td>18380477.0</td>\n",
       "      <td>0.935775</td>\n",
       "    </tr>\n",
       "    <tr>\n",
       "      <th>11957</th>\n",
       "      <td>ZWE</td>\n",
       "      <td>2019</td>\n",
       "      <td>13200000.0</td>\n",
       "      <td>15354608.0</td>\n",
       "      <td>0.859677</td>\n",
       "    </tr>\n",
       "  </tbody>\n",
       "</table>\n",
       "</div>"
      ],
      "text/plain": [
       "      iso-3  year  n_cellphones  population  phones_per_capita\n",
       "11733   XKX  2019      562000.0   1788878.0           0.314163\n",
       "11789   YEM  2019    15300000.0  31546691.0           0.484995\n",
       "11845   ZAF  2019    97000000.0  58087055.0           1.669907\n",
       "11901   ZMB  2019    17200000.0  18380477.0           0.935775\n",
       "11957   ZWE  2019    13200000.0  15354608.0           0.859677"
      ]
     },
     "execution_count": 75,
     "metadata": {},
     "output_type": "execute_result"
    }
   ],
   "source": [
    "second_table.tail()"
   ]
  },
  {
   "cell_type": "code",
   "execution_count": 76,
   "id": "94cd4e1f-3c2a-4a23-93ed-362c7547c7b2",
   "metadata": {},
   "outputs": [
    {
     "data": {
      "text/html": [
       "<div>\n",
       "<style scoped>\n",
       "    .dataframe tbody tr th:only-of-type {\n",
       "        vertical-align: middle;\n",
       "    }\n",
       "\n",
       "    .dataframe tbody tr th {\n",
       "        vertical-align: top;\n",
       "    }\n",
       "\n",
       "    .dataframe thead th {\n",
       "        text-align: right;\n",
       "    }\n",
       "</style>\n",
       "<table border=\"1\" class=\"dataframe\">\n",
       "  <thead>\n",
       "    <tr style=\"text-align: right;\">\n",
       "      <th></th>\n",
       "      <th>iso-3</th>\n",
       "      <th>year</th>\n",
       "      <th>phones_per_capita</th>\n",
       "    </tr>\n",
       "  </thead>\n",
       "  <tbody>\n",
       "    <tr>\n",
       "      <th>11733</th>\n",
       "      <td>XKX</td>\n",
       "      <td>2019</td>\n",
       "      <td>0.314163</td>\n",
       "    </tr>\n",
       "    <tr>\n",
       "      <th>11789</th>\n",
       "      <td>YEM</td>\n",
       "      <td>2019</td>\n",
       "      <td>0.484995</td>\n",
       "    </tr>\n",
       "    <tr>\n",
       "      <th>11845</th>\n",
       "      <td>ZAF</td>\n",
       "      <td>2019</td>\n",
       "      <td>1.669907</td>\n",
       "    </tr>\n",
       "    <tr>\n",
       "      <th>11901</th>\n",
       "      <td>ZMB</td>\n",
       "      <td>2019</td>\n",
       "      <td>0.935775</td>\n",
       "    </tr>\n",
       "    <tr>\n",
       "      <th>11957</th>\n",
       "      <td>ZWE</td>\n",
       "      <td>2019</td>\n",
       "      <td>0.859677</td>\n",
       "    </tr>\n",
       "  </tbody>\n",
       "</table>\n",
       "</div>"
      ],
      "text/plain": [
       "      iso-3  year  phones_per_capita\n",
       "11733   XKX  2019           0.314163\n",
       "11789   YEM  2019           0.484995\n",
       "11845   ZAF  2019           1.669907\n",
       "11901   ZMB  2019           0.935775\n",
       "11957   ZWE  2019           0.859677"
      ]
     },
     "execution_count": 76,
     "metadata": {},
     "output_type": "execute_result"
    }
   ],
   "source": [
    "reduced_second_table.tail()"
   ]
  },
  {
   "cell_type": "code",
   "execution_count": 77,
   "id": "1a8e2edf-2031-47c3-9b76-422dd3a545f4",
   "metadata": {},
   "outputs": [],
   "source": [
    "indexed_reduced_second_table = reduced_second_table.set_index('iso-3') # make country code to index"
   ]
  },
  {
   "cell_type": "code",
   "execution_count": 78,
   "id": "031ebe93-928b-47f9-a9fa-c1a1a01f3e67",
   "metadata": {},
   "outputs": [
    {
     "data": {
      "text/html": [
       "<div>\n",
       "<style scoped>\n",
       "    .dataframe tbody tr th:only-of-type {\n",
       "        vertical-align: middle;\n",
       "    }\n",
       "\n",
       "    .dataframe tbody tr th {\n",
       "        vertical-align: top;\n",
       "    }\n",
       "\n",
       "    .dataframe thead th {\n",
       "        text-align: right;\n",
       "    }\n",
       "</style>\n",
       "<table border=\"1\" class=\"dataframe\">\n",
       "  <thead>\n",
       "    <tr style=\"text-align: right;\">\n",
       "      <th></th>\n",
       "      <th>year</th>\n",
       "      <th>phones_per_capita</th>\n",
       "    </tr>\n",
       "    <tr>\n",
       "      <th>iso-3</th>\n",
       "      <th></th>\n",
       "      <th></th>\n",
       "    </tr>\n",
       "  </thead>\n",
       "  <tbody>\n",
       "    <tr>\n",
       "      <th>XKX</th>\n",
       "      <td>2019</td>\n",
       "      <td>0.314163</td>\n",
       "    </tr>\n",
       "    <tr>\n",
       "      <th>YEM</th>\n",
       "      <td>2019</td>\n",
       "      <td>0.484995</td>\n",
       "    </tr>\n",
       "    <tr>\n",
       "      <th>ZAF</th>\n",
       "      <td>2019</td>\n",
       "      <td>1.669907</td>\n",
       "    </tr>\n",
       "    <tr>\n",
       "      <th>ZMB</th>\n",
       "      <td>2019</td>\n",
       "      <td>0.935775</td>\n",
       "    </tr>\n",
       "    <tr>\n",
       "      <th>ZWE</th>\n",
       "      <td>2019</td>\n",
       "      <td>0.859677</td>\n",
       "    </tr>\n",
       "  </tbody>\n",
       "</table>\n",
       "</div>"
      ],
      "text/plain": [
       "       year  phones_per_capita\n",
       "iso-3                         \n",
       "XKX    2019           0.314163\n",
       "YEM    2019           0.484995\n",
       "ZAF    2019           1.669907\n",
       "ZMB    2019           0.935775\n",
       "ZWE    2019           0.859677"
      ]
     },
     "execution_count": 78,
     "metadata": {},
     "output_type": "execute_result"
    }
   ],
   "source": [
    "indexed_reduced_second_table.tail()"
   ]
  },
  {
   "cell_type": "markdown",
   "id": "15ea5e85-c4cc-401b-9d95-3e64397a2da8",
   "metadata": {},
   "source": [
    "Now we can prepare the dataframe with country names for merging."
   ]
  },
  {
   "cell_type": "code",
   "execution_count": 79,
   "id": "1d68af8a-e09b-4776-89ab-631e1c9b2627",
   "metadata": {},
   "outputs": [],
   "source": [
    "reduced_name_strings_country_data_df = name_strings_country_data_df['name'].copy()"
   ]
  },
  {
   "cell_type": "code",
   "execution_count": 80,
   "id": "8ef1925e-c154-48d0-b034-5b518c962edb",
   "metadata": {},
   "outputs": [
    {
     "data": {
      "text/plain": [
       "pandas.core.series.Series"
      ]
     },
     "execution_count": 80,
     "metadata": {},
     "output_type": "execute_result"
    }
   ],
   "source": [
    "type(reduced_name_strings_country_data_df)"
   ]
  },
  {
   "cell_type": "code",
   "execution_count": 81,
   "id": "89579cb4-cd01-4d75-8fac-9056add626d7",
   "metadata": {},
   "outputs": [
    {
     "data": {
      "text/plain": [
       "alpha-3\n",
       "AFG       Afghanistan\n",
       "ALA     Åland Islands\n",
       "ALB           Albania\n",
       "DZA           Algeria\n",
       "ASM    American Samoa\n",
       "Name: name, dtype: string"
      ]
     },
     "execution_count": 81,
     "metadata": {},
     "output_type": "execute_result"
    }
   ],
   "source": [
    "reduced_name_strings_country_data_df.head()"
   ]
  },
  {
   "cell_type": "markdown",
   "id": "ede29005-7008-44f0-8e10-d393827e0e21",
   "metadata": {},
   "source": [
    "Merge dataframe with Series"
   ]
  },
  {
   "cell_type": "code",
   "execution_count": 82,
   "id": "b8582118-a29e-4729-b4d0-5e2df6da237b",
   "metadata": {},
   "outputs": [],
   "source": [
    "merged_second_table_df = indexed_reduced_second_table.merge(reduced_name_strings_country_data_df, how='inner', left_on='iso-3', right_on='alpha-3')"
   ]
  },
  {
   "cell_type": "code",
   "execution_count": 83,
   "id": "c559996a-5063-4e9f-ab40-d049dbb10710",
   "metadata": {},
   "outputs": [
    {
     "name": "stdout",
     "output_type": "stream",
     "text": [
      "<class 'pandas.core.frame.DataFrame'>\n",
      "RangeIndex: 11902 entries, 0 to 11901\n",
      "Data columns (total 3 columns):\n",
      " #   Column             Non-Null Count  Dtype  \n",
      "---  ------             --------------  -----  \n",
      " 0   year               11902 non-null  object \n",
      " 1   phones_per_capita  11902 non-null  float64\n",
      " 2   name               11902 non-null  string \n",
      "dtypes: float64(1), object(1), string(1)\n",
      "memory usage: 279.1+ KB\n"
     ]
    }
   ],
   "source": [
    "merged_second_table_df.info()"
   ]
  },
  {
   "cell_type": "code",
   "execution_count": 84,
   "id": "c6cb3753-20b5-4b7e-81a9-b33a1f15e7fc",
   "metadata": {},
   "outputs": [
    {
     "data": {
      "text/html": [
       "<div>\n",
       "<style scoped>\n",
       "    .dataframe tbody tr th:only-of-type {\n",
       "        vertical-align: middle;\n",
       "    }\n",
       "\n",
       "    .dataframe tbody tr th {\n",
       "        vertical-align: top;\n",
       "    }\n",
       "\n",
       "    .dataframe thead th {\n",
       "        text-align: right;\n",
       "    }\n",
       "</style>\n",
       "<table border=\"1\" class=\"dataframe\">\n",
       "  <thead>\n",
       "    <tr style=\"text-align: right;\">\n",
       "      <th></th>\n",
       "      <th>year</th>\n",
       "      <th>phones_per_capita</th>\n",
       "      <th>name</th>\n",
       "    </tr>\n",
       "  </thead>\n",
       "  <tbody>\n",
       "    <tr>\n",
       "      <th>0</th>\n",
       "      <td>1960</td>\n",
       "      <td>0.0</td>\n",
       "      <td>Aruba</td>\n",
       "    </tr>\n",
       "    <tr>\n",
       "      <th>1</th>\n",
       "      <td>1960</td>\n",
       "      <td>0.0</td>\n",
       "      <td>Afghanistan</td>\n",
       "    </tr>\n",
       "    <tr>\n",
       "      <th>2</th>\n",
       "      <td>1960</td>\n",
       "      <td>0.0</td>\n",
       "      <td>Angola</td>\n",
       "    </tr>\n",
       "    <tr>\n",
       "      <th>3</th>\n",
       "      <td>1960</td>\n",
       "      <td>0.0</td>\n",
       "      <td>Albania</td>\n",
       "    </tr>\n",
       "    <tr>\n",
       "      <th>4</th>\n",
       "      <td>1960</td>\n",
       "      <td>0.0</td>\n",
       "      <td>Andorra</td>\n",
       "    </tr>\n",
       "  </tbody>\n",
       "</table>\n",
       "</div>"
      ],
      "text/plain": [
       "   year  phones_per_capita         name\n",
       "0  1960                0.0        Aruba\n",
       "1  1960                0.0  Afghanistan\n",
       "2  1960                0.0       Angola\n",
       "3  1960                0.0      Albania\n",
       "4  1960                0.0      Andorra"
      ]
     },
     "execution_count": 84,
     "metadata": {},
     "output_type": "execute_result"
    }
   ],
   "source": [
    "merged_second_table_df.head()"
   ]
  },
  {
   "cell_type": "code",
   "execution_count": 85,
   "id": "f59a5aba-7c63-46bf-94a7-9b1bd0600a35",
   "metadata": {},
   "outputs": [
    {
     "data": {
      "text/html": [
       "<div>\n",
       "<style scoped>\n",
       "    .dataframe tbody tr th:only-of-type {\n",
       "        vertical-align: middle;\n",
       "    }\n",
       "\n",
       "    .dataframe tbody tr th {\n",
       "        vertical-align: top;\n",
       "    }\n",
       "\n",
       "    .dataframe thead th {\n",
       "        text-align: right;\n",
       "    }\n",
       "</style>\n",
       "<table border=\"1\" class=\"dataframe\">\n",
       "  <thead>\n",
       "    <tr style=\"text-align: right;\">\n",
       "      <th></th>\n",
       "      <th>year</th>\n",
       "      <th>phones_per_capita</th>\n",
       "      <th>name</th>\n",
       "    </tr>\n",
       "  </thead>\n",
       "  <tbody>\n",
       "    <tr>\n",
       "      <th>11897</th>\n",
       "      <td>2019</td>\n",
       "      <td>0.585168</td>\n",
       "      <td>Samoa</td>\n",
       "    </tr>\n",
       "    <tr>\n",
       "      <th>11898</th>\n",
       "      <td>2019</td>\n",
       "      <td>0.484995</td>\n",
       "      <td>Yemen</td>\n",
       "    </tr>\n",
       "    <tr>\n",
       "      <th>11899</th>\n",
       "      <td>2019</td>\n",
       "      <td>1.669907</td>\n",
       "      <td>South Africa</td>\n",
       "    </tr>\n",
       "    <tr>\n",
       "      <th>11900</th>\n",
       "      <td>2019</td>\n",
       "      <td>0.935775</td>\n",
       "      <td>Zambia</td>\n",
       "    </tr>\n",
       "    <tr>\n",
       "      <th>11901</th>\n",
       "      <td>2019</td>\n",
       "      <td>0.859677</td>\n",
       "      <td>Zimbabwe</td>\n",
       "    </tr>\n",
       "  </tbody>\n",
       "</table>\n",
       "</div>"
      ],
      "text/plain": [
       "       year  phones_per_capita          name\n",
       "11897  2019           0.585168         Samoa\n",
       "11898  2019           0.484995         Yemen\n",
       "11899  2019           1.669907  South Africa\n",
       "11900  2019           0.935775        Zambia\n",
       "11901  2019           0.859677      Zimbabwe"
      ]
     },
     "execution_count": 85,
     "metadata": {},
     "output_type": "execute_result"
    }
   ],
   "source": [
    "merged_second_table_df.tail()"
   ]
  },
  {
   "cell_type": "markdown",
   "id": "8955ce4f-e28e-4efd-a8ae-a902cd5f23ae",
   "metadata": {},
   "source": [
    "Pivot the table"
   ]
  },
  {
   "cell_type": "code",
   "execution_count": 86,
   "id": "ce4ed473-7d13-4095-a907-895f9a67714c",
   "metadata": {},
   "outputs": [],
   "source": [
    "pivoted_merged_second_table_df = merged_second_table_df.pivot(index='year', columns='name', values='phones_per_capita')"
   ]
  },
  {
   "cell_type": "code",
   "execution_count": 87,
   "id": "041ea776-f33a-4584-bd07-029845803e3c",
   "metadata": {},
   "outputs": [
    {
     "data": {
      "text/html": [
       "<div>\n",
       "<style scoped>\n",
       "    .dataframe tbody tr th:only-of-type {\n",
       "        vertical-align: middle;\n",
       "    }\n",
       "\n",
       "    .dataframe tbody tr th {\n",
       "        vertical-align: top;\n",
       "    }\n",
       "\n",
       "    .dataframe thead th {\n",
       "        text-align: right;\n",
       "    }\n",
       "</style>\n",
       "<table border=\"1\" class=\"dataframe\">\n",
       "  <thead>\n",
       "    <tr style=\"text-align: right;\">\n",
       "      <th>name</th>\n",
       "      <th>Afghanistan</th>\n",
       "      <th>Albania</th>\n",
       "      <th>Algeria</th>\n",
       "      <th>American Samoa</th>\n",
       "      <th>Andorra</th>\n",
       "      <th>Angola</th>\n",
       "      <th>Antigua and Barbuda</th>\n",
       "      <th>Argentina</th>\n",
       "      <th>Armenia</th>\n",
       "      <th>Aruba</th>\n",
       "      <th>Australia</th>\n",
       "      <th>Austria</th>\n",
       "      <th>Azerbaijan</th>\n",
       "      <th>Bahamas</th>\n",
       "      <th>Bahrain</th>\n",
       "      <th>Bangladesh</th>\n",
       "      <th>Barbados</th>\n",
       "      <th>Belarus</th>\n",
       "      <th>Belgium</th>\n",
       "      <th>Belize</th>\n",
       "      <th>Benin</th>\n",
       "      <th>Bermuda</th>\n",
       "      <th>Bhutan</th>\n",
       "      <th>Bolivia (Plurinational State of)</th>\n",
       "      <th>Bosnia and Herzegovina</th>\n",
       "      <th>Botswana</th>\n",
       "      <th>Brazil</th>\n",
       "      <th>Brunei Darussalam</th>\n",
       "      <th>Bulgaria</th>\n",
       "      <th>Burkina Faso</th>\n",
       "      <th>Burundi</th>\n",
       "      <th>Cabo Verde</th>\n",
       "      <th>Cambodia</th>\n",
       "      <th>Cameroon</th>\n",
       "      <th>Canada</th>\n",
       "      <th>Cayman Islands</th>\n",
       "      <th>Central African Republic</th>\n",
       "      <th>Chad</th>\n",
       "      <th>Chile</th>\n",
       "      <th>China</th>\n",
       "      <th>Colombia</th>\n",
       "      <th>Comoros</th>\n",
       "      <th>Congo</th>\n",
       "      <th>Congo, Democratic Republic of the</th>\n",
       "      <th>Costa Rica</th>\n",
       "      <th>Croatia</th>\n",
       "      <th>Cuba</th>\n",
       "      <th>Curaçao</th>\n",
       "      <th>Cyprus</th>\n",
       "      <th>Czechia</th>\n",
       "      <th>Côte d'Ivoire</th>\n",
       "      <th>Denmark</th>\n",
       "      <th>Djibouti</th>\n",
       "      <th>Dominica</th>\n",
       "      <th>Dominican Republic</th>\n",
       "      <th>Ecuador</th>\n",
       "      <th>Egypt</th>\n",
       "      <th>El Salvador</th>\n",
       "      <th>Equatorial Guinea</th>\n",
       "      <th>Eritrea</th>\n",
       "      <th>Estonia</th>\n",
       "      <th>Eswatini</th>\n",
       "      <th>Ethiopia</th>\n",
       "      <th>Faroe Islands</th>\n",
       "      <th>Fiji</th>\n",
       "      <th>Finland</th>\n",
       "      <th>France</th>\n",
       "      <th>French Polynesia</th>\n",
       "      <th>Gabon</th>\n",
       "      <th>Gambia</th>\n",
       "      <th>Georgia</th>\n",
       "      <th>Germany</th>\n",
       "      <th>Ghana</th>\n",
       "      <th>Gibraltar</th>\n",
       "      <th>Greece</th>\n",
       "      <th>Greenland</th>\n",
       "      <th>Grenada</th>\n",
       "      <th>Guam</th>\n",
       "      <th>Guatemala</th>\n",
       "      <th>Guinea</th>\n",
       "      <th>Guinea-Bissau</th>\n",
       "      <th>Guyana</th>\n",
       "      <th>Haiti</th>\n",
       "      <th>Honduras</th>\n",
       "      <th>Hong Kong</th>\n",
       "      <th>Hungary</th>\n",
       "      <th>Iceland</th>\n",
       "      <th>India</th>\n",
       "      <th>Indonesia</th>\n",
       "      <th>Iran (Islamic Republic of)</th>\n",
       "      <th>Iraq</th>\n",
       "      <th>Ireland</th>\n",
       "      <th>Israel</th>\n",
       "      <th>Italy</th>\n",
       "      <th>Jamaica</th>\n",
       "      <th>Japan</th>\n",
       "      <th>Jordan</th>\n",
       "      <th>Kazakhstan</th>\n",
       "      <th>Kenya</th>\n",
       "      <th>Kiribati</th>\n",
       "      <th>Korea (Democratic People's Republic of)</th>\n",
       "      <th>Korea, Republic of</th>\n",
       "      <th>Kuwait</th>\n",
       "      <th>Kyrgyzstan</th>\n",
       "      <th>Lao People's Democratic Republic</th>\n",
       "      <th>Latvia</th>\n",
       "      <th>Lebanon</th>\n",
       "      <th>Lesotho</th>\n",
       "      <th>Liberia</th>\n",
       "      <th>Libya</th>\n",
       "      <th>Liechtenstein</th>\n",
       "      <th>Lithuania</th>\n",
       "      <th>Luxembourg</th>\n",
       "      <th>Macao</th>\n",
       "      <th>Madagascar</th>\n",
       "      <th>Malawi</th>\n",
       "      <th>Malaysia</th>\n",
       "      <th>Maldives</th>\n",
       "      <th>Mali</th>\n",
       "      <th>Malta</th>\n",
       "      <th>Marshall Islands</th>\n",
       "      <th>Mauritania</th>\n",
       "      <th>Mauritius</th>\n",
       "      <th>Mexico</th>\n",
       "      <th>Micronesia (Federated States of)</th>\n",
       "      <th>Moldova, Republic of</th>\n",
       "      <th>Monaco</th>\n",
       "      <th>Mongolia</th>\n",
       "      <th>Montenegro</th>\n",
       "      <th>Morocco</th>\n",
       "      <th>Mozambique</th>\n",
       "      <th>Myanmar</th>\n",
       "      <th>Namibia</th>\n",
       "      <th>Nauru</th>\n",
       "      <th>Nepal</th>\n",
       "      <th>Netherlands</th>\n",
       "      <th>New Caledonia</th>\n",
       "      <th>New Zealand</th>\n",
       "      <th>Nicaragua</th>\n",
       "      <th>Niger</th>\n",
       "      <th>Nigeria</th>\n",
       "      <th>North Macedonia</th>\n",
       "      <th>Northern Mariana Islands</th>\n",
       "      <th>Norway</th>\n",
       "      <th>Oman</th>\n",
       "      <th>Pakistan</th>\n",
       "      <th>Palau</th>\n",
       "      <th>Palestine, State of</th>\n",
       "      <th>Panama</th>\n",
       "      <th>Papua New Guinea</th>\n",
       "      <th>Paraguay</th>\n",
       "      <th>Peru</th>\n",
       "      <th>Philippines</th>\n",
       "      <th>Poland</th>\n",
       "      <th>Portugal</th>\n",
       "      <th>Puerto Rico</th>\n",
       "      <th>Qatar</th>\n",
       "      <th>Romania</th>\n",
       "      <th>Russian Federation</th>\n",
       "      <th>Rwanda</th>\n",
       "      <th>Saint Kitts and Nevis</th>\n",
       "      <th>Saint Lucia</th>\n",
       "      <th>Saint Vincent and the Grenadines</th>\n",
       "      <th>Samoa</th>\n",
       "      <th>San Marino</th>\n",
       "      <th>Sao Tome and Principe</th>\n",
       "      <th>Saudi Arabia</th>\n",
       "      <th>Senegal</th>\n",
       "      <th>Serbia</th>\n",
       "      <th>Seychelles</th>\n",
       "      <th>Sierra Leone</th>\n",
       "      <th>Singapore</th>\n",
       "      <th>Sint Maarten (Dutch part)</th>\n",
       "      <th>Slovakia</th>\n",
       "      <th>Slovenia</th>\n",
       "      <th>Solomon Islands</th>\n",
       "      <th>Somalia</th>\n",
       "      <th>South Africa</th>\n",
       "      <th>South Sudan</th>\n",
       "      <th>Spain</th>\n",
       "      <th>Sri Lanka</th>\n",
       "      <th>Sudan</th>\n",
       "      <th>Suriname</th>\n",
       "      <th>Sweden</th>\n",
       "      <th>Switzerland</th>\n",
       "      <th>Syrian Arab Republic</th>\n",
       "      <th>Tajikistan</th>\n",
       "      <th>Tanzania, United Republic of</th>\n",
       "      <th>Thailand</th>\n",
       "      <th>Timor-Leste</th>\n",
       "      <th>Togo</th>\n",
       "      <th>Tonga</th>\n",
       "      <th>Trinidad and Tobago</th>\n",
       "      <th>Tunisia</th>\n",
       "      <th>Turkey</th>\n",
       "      <th>Turkmenistan</th>\n",
       "      <th>Turks and Caicos Islands</th>\n",
       "      <th>Tuvalu</th>\n",
       "      <th>Uganda</th>\n",
       "      <th>Ukraine</th>\n",
       "      <th>United Arab Emirates</th>\n",
       "      <th>United Kingdom of Great Britain and Northern Ireland</th>\n",
       "      <th>United States of America</th>\n",
       "      <th>Uruguay</th>\n",
       "      <th>Uzbekistan</th>\n",
       "      <th>Vanuatu</th>\n",
       "      <th>Venezuela (Bolivarian Republic of)</th>\n",
       "      <th>Viet Nam</th>\n",
       "      <th>Virgin Islands (British)</th>\n",
       "      <th>Virgin Islands (U.S.)</th>\n",
       "      <th>Yemen</th>\n",
       "      <th>Zambia</th>\n",
       "      <th>Zimbabwe</th>\n",
       "    </tr>\n",
       "    <tr>\n",
       "      <th>year</th>\n",
       "      <th></th>\n",
       "      <th></th>\n",
       "      <th></th>\n",
       "      <th></th>\n",
       "      <th></th>\n",
       "      <th></th>\n",
       "      <th></th>\n",
       "      <th></th>\n",
       "      <th></th>\n",
       "      <th></th>\n",
       "      <th></th>\n",
       "      <th></th>\n",
       "      <th></th>\n",
       "      <th></th>\n",
       "      <th></th>\n",
       "      <th></th>\n",
       "      <th></th>\n",
       "      <th></th>\n",
       "      <th></th>\n",
       "      <th></th>\n",
       "      <th></th>\n",
       "      <th></th>\n",
       "      <th></th>\n",
       "      <th></th>\n",
       "      <th></th>\n",
       "      <th></th>\n",
       "      <th></th>\n",
       "      <th></th>\n",
       "      <th></th>\n",
       "      <th></th>\n",
       "      <th></th>\n",
       "      <th></th>\n",
       "      <th></th>\n",
       "      <th></th>\n",
       "      <th></th>\n",
       "      <th></th>\n",
       "      <th></th>\n",
       "      <th></th>\n",
       "      <th></th>\n",
       "      <th></th>\n",
       "      <th></th>\n",
       "      <th></th>\n",
       "      <th></th>\n",
       "      <th></th>\n",
       "      <th></th>\n",
       "      <th></th>\n",
       "      <th></th>\n",
       "      <th></th>\n",
       "      <th></th>\n",
       "      <th></th>\n",
       "      <th></th>\n",
       "      <th></th>\n",
       "      <th></th>\n",
       "      <th></th>\n",
       "      <th></th>\n",
       "      <th></th>\n",
       "      <th></th>\n",
       "      <th></th>\n",
       "      <th></th>\n",
       "      <th></th>\n",
       "      <th></th>\n",
       "      <th></th>\n",
       "      <th></th>\n",
       "      <th></th>\n",
       "      <th></th>\n",
       "      <th></th>\n",
       "      <th></th>\n",
       "      <th></th>\n",
       "      <th></th>\n",
       "      <th></th>\n",
       "      <th></th>\n",
       "      <th></th>\n",
       "      <th></th>\n",
       "      <th></th>\n",
       "      <th></th>\n",
       "      <th></th>\n",
       "      <th></th>\n",
       "      <th></th>\n",
       "      <th></th>\n",
       "      <th></th>\n",
       "      <th></th>\n",
       "      <th></th>\n",
       "      <th></th>\n",
       "      <th></th>\n",
       "      <th></th>\n",
       "      <th></th>\n",
       "      <th></th>\n",
       "      <th></th>\n",
       "      <th></th>\n",
       "      <th></th>\n",
       "      <th></th>\n",
       "      <th></th>\n",
       "      <th></th>\n",
       "      <th></th>\n",
       "      <th></th>\n",
       "      <th></th>\n",
       "      <th></th>\n",
       "      <th></th>\n",
       "      <th></th>\n",
       "      <th></th>\n",
       "      <th></th>\n",
       "      <th></th>\n",
       "      <th></th>\n",
       "      <th></th>\n",
       "      <th></th>\n",
       "      <th></th>\n",
       "      <th></th>\n",
       "      <th></th>\n",
       "      <th></th>\n",
       "      <th></th>\n",
       "      <th></th>\n",
       "      <th></th>\n",
       "      <th></th>\n",
       "      <th></th>\n",
       "      <th></th>\n",
       "      <th></th>\n",
       "      <th></th>\n",
       "      <th></th>\n",
       "      <th></th>\n",
       "      <th></th>\n",
       "      <th></th>\n",
       "      <th></th>\n",
       "      <th></th>\n",
       "      <th></th>\n",
       "      <th></th>\n",
       "      <th></th>\n",
       "      <th></th>\n",
       "      <th></th>\n",
       "      <th></th>\n",
       "      <th></th>\n",
       "      <th></th>\n",
       "      <th></th>\n",
       "      <th></th>\n",
       "      <th></th>\n",
       "      <th></th>\n",
       "      <th></th>\n",
       "      <th></th>\n",
       "      <th></th>\n",
       "      <th></th>\n",
       "      <th></th>\n",
       "      <th></th>\n",
       "      <th></th>\n",
       "      <th></th>\n",
       "      <th></th>\n",
       "      <th></th>\n",
       "      <th></th>\n",
       "      <th></th>\n",
       "      <th></th>\n",
       "      <th></th>\n",
       "      <th></th>\n",
       "      <th></th>\n",
       "      <th></th>\n",
       "      <th></th>\n",
       "      <th></th>\n",
       "      <th></th>\n",
       "      <th></th>\n",
       "      <th></th>\n",
       "      <th></th>\n",
       "      <th></th>\n",
       "      <th></th>\n",
       "      <th></th>\n",
       "      <th></th>\n",
       "      <th></th>\n",
       "      <th></th>\n",
       "      <th></th>\n",
       "      <th></th>\n",
       "      <th></th>\n",
       "      <th></th>\n",
       "      <th></th>\n",
       "      <th></th>\n",
       "      <th></th>\n",
       "      <th></th>\n",
       "      <th></th>\n",
       "      <th></th>\n",
       "      <th></th>\n",
       "      <th></th>\n",
       "      <th></th>\n",
       "      <th></th>\n",
       "      <th></th>\n",
       "      <th></th>\n",
       "      <th></th>\n",
       "      <th></th>\n",
       "      <th></th>\n",
       "      <th></th>\n",
       "      <th></th>\n",
       "      <th></th>\n",
       "      <th></th>\n",
       "      <th></th>\n",
       "      <th></th>\n",
       "      <th></th>\n",
       "      <th></th>\n",
       "      <th></th>\n",
       "      <th></th>\n",
       "      <th></th>\n",
       "      <th></th>\n",
       "      <th></th>\n",
       "      <th></th>\n",
       "      <th></th>\n",
       "      <th></th>\n",
       "      <th></th>\n",
       "      <th></th>\n",
       "      <th></th>\n",
       "      <th></th>\n",
       "      <th></th>\n",
       "      <th></th>\n",
       "      <th></th>\n",
       "      <th></th>\n",
       "      <th></th>\n",
       "      <th></th>\n",
       "      <th></th>\n",
       "      <th></th>\n",
       "      <th></th>\n",
       "      <th></th>\n",
       "    </tr>\n",
       "  </thead>\n",
       "  <tbody>\n",
       "    <tr>\n",
       "      <th>2015</th>\n",
       "      <td>0.583643</td>\n",
       "      <td>1.180267</td>\n",
       "      <td>1.092477</td>\n",
       "      <td>0.043802</td>\n",
       "      <td>0.993784</td>\n",
       "      <td>0.494174</td>\n",
       "      <td>1.956838</td>\n",
       "      <td>1.432812</td>\n",
       "      <td>1.201975</td>\n",
       "      <td>1.352427</td>\n",
       "      <td>1.083306</td>\n",
       "      <td>1.562012</td>\n",
       "      <td>1.108884</td>\n",
       "      <td>0.791959</td>\n",
       "      <td>1.850027</td>\n",
       "      <td>0.830007</td>\n",
       "      <td>1.204676</td>\n",
       "      <td>1.204937</td>\n",
       "      <td>1.135336</td>\n",
       "      <td>0.589100</td>\n",
       "      <td>0.852482</td>\n",
       "      <td>0.582492</td>\n",
       "      <td>0.909490</td>\n",
       "      <td>0.919740</td>\n",
       "      <td>0.976074</td>\n",
       "      <td>1.509649</td>\n",
       "      <td>1.257382</td>\n",
       "      <td>1.098622</td>\n",
       "      <td>1.280303</td>\n",
       "      <td>0.769312</td>\n",
       "      <td>0.466107</td>\n",
       "      <td>1.106551</td>\n",
       "      <td>1.355600</td>\n",
       "      <td>0.790870</td>\n",
       "      <td>0.834666</td>\n",
       "      <td>1.530101</td>\n",
       "      <td>0.257297</td>\n",
       "      <td>0.386838</td>\n",
       "      <td>1.298256</td>\n",
       "      <td>0.934877</td>\n",
       "      <td>1.216051</td>\n",
       "      <td>0.582020</td>\n",
       "      <td>1.030727</td>\n",
       "      <td>0.480568</td>\n",
       "      <td>1.540271</td>\n",
       "      <td>1.051479</td>\n",
       "      <td>0.294535</td>\n",
       "      <td>1.202684</td>\n",
       "      <td>0.934910</td>\n",
       "      <td>1.185277</td>\n",
       "      <td>1.076420</td>\n",
       "      <td>1.245715</td>\n",
       "      <td>0.312047</td>\n",
       "      <td>1.104175</td>\n",
       "      <td>0.845680</td>\n",
       "      <td>0.796498</td>\n",
       "      <td>0.961895</td>\n",
       "      <td>1.497336</td>\n",
       "      <td>0.395702</td>\n",
       "      <td>0.142215</td>\n",
       "      <td>1.444420</td>\n",
       "      <td>0.829853</td>\n",
       "      <td>0.412796</td>\n",
       "      <td>1.089807</td>\n",
       "      <td>1.053205</td>\n",
       "      <td>1.350481</td>\n",
       "      <td>1.002280</td>\n",
       "      <td>0.918478</td>\n",
       "      <td>1.390178</td>\n",
       "      <td>1.207208</td>\n",
       "      <td>1.489822</td>\n",
       "      <td>1.180120</td>\n",
       "      <td>1.212292</td>\n",
       "      <td>1.273063</td>\n",
       "      <td>1.164415</td>\n",
       "      <td>1.087073</td>\n",
       "      <td>1.008573</td>\n",
       "      <td>0.583410</td>\n",
       "      <td>1.162685</td>\n",
       "      <td>0.928953</td>\n",
       "      <td>0.693156</td>\n",
       "      <td>0.719176</td>\n",
       "      <td>0.691042</td>\n",
       "      <td>0.866103</td>\n",
       "      <td>2.290401</td>\n",
       "      <td>1.005788</td>\n",
       "      <td>1.160770</td>\n",
       "      <td>0.755934</td>\n",
       "      <td>1.308416</td>\n",
       "      <td>0.907192</td>\n",
       "      <td>0.889882</td>\n",
       "      <td>1.042119</td>\n",
       "      <td>1.264901</td>\n",
       "      <td>1.444083</td>\n",
       "      <td>1.123658</td>\n",
       "      <td>1.266311</td>\n",
       "      <td>1.453512</td>\n",
       "      <td>1.499190</td>\n",
       "      <td>0.804670</td>\n",
       "      <td>0.351307</td>\n",
       "      <td>0.128276</td>\n",
       "      <td>1.154564</td>\n",
       "      <td>1.959709</td>\n",
       "      <td>1.272474</td>\n",
       "      <td>0.549546</td>\n",
       "      <td>1.309717</td>\n",
       "      <td>0.728246</td>\n",
       "      <td>1.010139</td>\n",
       "      <td>0.791357</td>\n",
       "      <td>1.574553</td>\n",
       "      <td>1.097577</td>\n",
       "      <td>1.438943</td>\n",
       "      <td>1.416774</td>\n",
       "      <td>3.088231</td>\n",
       "      <td>0.430568</td>\n",
       "      <td>0.387864</td>\n",
       "      <td>1.419429</td>\n",
       "      <td>1.698876</td>\n",
       "      <td>1.253250</td>\n",
       "      <td>1.177388</td>\n",
       "      <td>0.313702</td>\n",
       "      <td>0.922402</td>\n",
       "      <td>1.393641</td>\n",
       "      <td>0.898877</td>\n",
       "      <td>0.205551</td>\n",
       "      <td>1.308191</td>\n",
       "      <td>0.924918</td>\n",
       "      <td>1.035501</td>\n",
       "      <td>1.623379</td>\n",
       "      <td>1.242775</td>\n",
       "      <td>0.748792</td>\n",
       "      <td>0.796365</td>\n",
       "      <td>1.117096</td>\n",
       "      <td>0.840411</td>\n",
       "      <td>0.996004</td>\n",
       "      <td>1.227869</td>\n",
       "      <td>0.964893</td>\n",
       "      <td>1.214909</td>\n",
       "      <td>1.152637</td>\n",
       "      <td>0.445148</td>\n",
       "      <td>0.820671</td>\n",
       "      <td>1.004721</td>\n",
       "      <td>0.397950</td>\n",
       "      <td>1.100488</td>\n",
       "      <td>1.586440</td>\n",
       "      <td>0.597243</td>\n",
       "      <td>1.331910</td>\n",
       "      <td>0.826680</td>\n",
       "      <td>1.450558</td>\n",
       "      <td>0.410036</td>\n",
       "      <td>1.199427</td>\n",
       "      <td>1.113576</td>\n",
       "      <td>1.145282</td>\n",
       "      <td>1.434724</td>\n",
       "      <td>1.129553</td>\n",
       "      <td>0.921332</td>\n",
       "      <td>1.548928</td>\n",
       "      <td>1.165747</td>\n",
       "      <td>1.575329</td>\n",
       "      <td>0.752386</td>\n",
       "      <td>1.527516</td>\n",
       "      <td>1.070475</td>\n",
       "      <td>1.061212</td>\n",
       "      <td>0.594387</td>\n",
       "      <td>1.090259</td>\n",
       "      <td>0.919831</td>\n",
       "      <td>1.612221</td>\n",
       "      <td>1.044846</td>\n",
       "      <td>1.290980</td>\n",
       "      <td>1.584260</td>\n",
       "      <td>0.773777</td>\n",
       "      <td>1.486901</td>\n",
       "      <td>1.772054</td>\n",
       "      <td>1.231609</td>\n",
       "      <td>1.138825</td>\n",
       "      <td>0.693696</td>\n",
       "      <td>0.424298</td>\n",
       "      <td>1.574902</td>\n",
       "      <td>0.259060</td>\n",
       "      <td>1.100230</td>\n",
       "      <td>1.120136</td>\n",
       "      <td>0.730918</td>\n",
       "      <td>1.303271</td>\n",
       "      <td>1.285821</td>\n",
       "      <td>1.352266</td>\n",
       "      <td>0.744591</td>\n",
       "      <td>0.996004</td>\n",
       "      <td>0.755574</td>\n",
       "      <td>1.465266</td>\n",
       "      <td>1.144456</td>\n",
       "      <td>0.650321</td>\n",
       "      <td>0.692599</td>\n",
       "      <td>1.451879</td>\n",
       "      <td>1.263218</td>\n",
       "      <td>0.924087</td>\n",
       "      <td>1.359593</td>\n",
       "      <td>0.686956</td>\n",
       "      <td>0.606785</td>\n",
       "      <td>0.538992</td>\n",
       "      <td>1.344287</td>\n",
       "      <td>2.007424</td>\n",
       "      <td>1.217823</td>\n",
       "      <td>1.191000</td>\n",
       "      <td>1.519329</td>\n",
       "      <td>0.696510</td>\n",
       "      <td>0.633053</td>\n",
       "      <td>0.953170</td>\n",
       "      <td>1.301640</td>\n",
       "      <td>1.947831</td>\n",
       "      <td>0.745507</td>\n",
       "      <td>0.526010</td>\n",
       "      <td>0.713924</td>\n",
       "      <td>0.904278</td>\n",
       "    </tr>\n",
       "    <tr>\n",
       "      <th>2016</th>\n",
       "      <td>0.623625</td>\n",
       "      <td>1.171725</td>\n",
       "      <td>1.165116</td>\n",
       "      <td>0.044600</td>\n",
       "      <td>1.049076</td>\n",
       "      <td>0.445897</td>\n",
       "      <td>1.987545</td>\n",
       "      <td>1.461332</td>\n",
       "      <td>1.196859</td>\n",
       "      <td>1.344471</td>\n",
       "      <td>1.099587</td>\n",
       "      <td>1.270507</td>\n",
       "      <td>1.045316</td>\n",
       "      <td>0.909146</td>\n",
       "      <td>2.121077</td>\n",
       "      <td>0.851146</td>\n",
       "      <td>1.191463</td>\n",
       "      <td>1.203880</td>\n",
       "      <td>1.111952</td>\n",
       "      <td>0.607112</td>\n",
       "      <td>0.789514</td>\n",
       "      <td>0.989869</td>\n",
       "      <td>0.930963</td>\n",
       "      <td>0.896740</td>\n",
       "      <td>0.976735</td>\n",
       "      <td>1.398562</td>\n",
       "      <td>1.179544</td>\n",
       "      <td>1.227717</td>\n",
       "      <td>1.258449</td>\n",
       "      <td>0.798942</td>\n",
       "      <td>0.491593</td>\n",
       "      <td>1.078092</td>\n",
       "      <td>1.273634</td>\n",
       "      <td>0.788643</td>\n",
       "      <td>0.852961</td>\n",
       "      <td>1.537226</td>\n",
       "      <td>0.254885</td>\n",
       "      <td>0.383071</td>\n",
       "      <td>1.288440</td>\n",
       "      <td>0.979975</td>\n",
       "      <td>1.232521</td>\n",
       "      <td>0.608390</td>\n",
       "      <td>1.044955</td>\n",
       "      <td>0.354902</td>\n",
       "      <td>1.684460</td>\n",
       "      <td>1.056452</td>\n",
       "      <td>0.351789</td>\n",
       "      <td>1.171210</td>\n",
       "      <td>0.943332</td>\n",
       "      <td>1.183003</td>\n",
       "      <td>1.135724</td>\n",
       "      <td>1.220319</td>\n",
       "      <td>0.337157</td>\n",
       "      <td>1.118801</td>\n",
       "      <td>0.827350</td>\n",
       "      <td>0.845520</td>\n",
       "      <td>0.980117</td>\n",
       "      <td>1.542274</td>\n",
       "      <td>0.411744</td>\n",
       "      <td>0.150359</td>\n",
       "      <td>1.443999</td>\n",
       "      <td>0.870879</td>\n",
       "      <td>0.486261</td>\n",
       "      <td>1.101010</td>\n",
       "      <td>1.132440</td>\n",
       "      <td>1.313849</td>\n",
       "      <td>1.013127</td>\n",
       "      <td>0.953870</td>\n",
       "      <td>1.418844</td>\n",
       "      <td>1.225614</td>\n",
       "      <td>1.483566</td>\n",
       "      <td>1.250779</td>\n",
       "      <td>1.295920</td>\n",
       "      <td>1.262091</td>\n",
       "      <td>1.159988</td>\n",
       "      <td>1.096359</td>\n",
       "      <td>0.991948</td>\n",
       "      <td>0.582134</td>\n",
       "      <td>1.156202</td>\n",
       "      <td>0.930351</td>\n",
       "      <td>0.703169</td>\n",
       "      <td>0.770663</td>\n",
       "      <td>0.606691</td>\n",
       "      <td>0.827626</td>\n",
       "      <td>2.398931</td>\n",
       "      <td>1.013855</td>\n",
       "      <td>1.198430</td>\n",
       "      <td>0.844143</td>\n",
       "      <td>1.474125</td>\n",
       "      <td>0.966314</td>\n",
       "      <td>0.863095</td>\n",
       "      <td>1.026216</td>\n",
       "      <td>1.240346</td>\n",
       "      <td>1.418498</td>\n",
       "      <td>1.166734</td>\n",
       "      <td>1.314174</td>\n",
       "      <td>0.985483</td>\n",
       "      <td>1.433063</td>\n",
       "      <td>0.814287</td>\n",
       "      <td>0.438770</td>\n",
       "      <td>0.142184</td>\n",
       "      <td>1.196849</td>\n",
       "      <td>1.892253</td>\n",
       "      <td>1.251748</td>\n",
       "      <td>0.574632</td>\n",
       "      <td>1.352360</td>\n",
       "      <td>0.683857</td>\n",
       "      <td>1.063496</td>\n",
       "      <td>0.662970</td>\n",
       "      <td>1.219319</td>\n",
       "      <td>1.177910</td>\n",
       "      <td>1.464317</td>\n",
       "      <td>1.312683</td>\n",
       "      <td>3.143510</td>\n",
       "      <td>0.313702</td>\n",
       "      <td>0.412510</td>\n",
       "      <td>1.379795</td>\n",
       "      <td>1.787554</td>\n",
       "      <td>1.080208</td>\n",
       "      <td>1.284709</td>\n",
       "      <td>0.325891</td>\n",
       "      <td>0.890942</td>\n",
       "      <td>1.432249</td>\n",
       "      <td>0.921665</td>\n",
       "      <td>0.212872</td>\n",
       "      <td>1.352033</td>\n",
       "      <td>0.898276</td>\n",
       "      <td>1.112375</td>\n",
       "      <td>1.671212</td>\n",
       "      <td>1.182092</td>\n",
       "      <td>0.541585</td>\n",
       "      <td>0.975096</td>\n",
       "      <td>1.144898</td>\n",
       "      <td>0.865612</td>\n",
       "      <td>1.152140</td>\n",
       "      <td>1.227223</td>\n",
       "      <td>0.962179</td>\n",
       "      <td>1.293990</td>\n",
       "      <td>1.212978</td>\n",
       "      <td>0.357045</td>\n",
       "      <td>0.816253</td>\n",
       "      <td>0.989148</td>\n",
       "      <td>0.400915</td>\n",
       "      <td>1.094656</td>\n",
       "      <td>1.562049</td>\n",
       "      <td>0.636928</td>\n",
       "      <td>1.330265</td>\n",
       "      <td>0.849536</td>\n",
       "      <td>1.276595</td>\n",
       "      <td>0.424759</td>\n",
       "      <td>1.195223</td>\n",
       "      <td>1.185246</td>\n",
       "      <td>1.144216</td>\n",
       "      <td>1.395836</td>\n",
       "      <td>1.123438</td>\n",
       "      <td>0.954010</td>\n",
       "      <td>1.406461</td>\n",
       "      <td>1.162303</td>\n",
       "      <td>1.586505</td>\n",
       "      <td>0.747639</td>\n",
       "      <td>1.602913</td>\n",
       "      <td>1.003327</td>\n",
       "      <td>1.066410</td>\n",
       "      <td>0.734636</td>\n",
       "      <td>1.081752</td>\n",
       "      <td>0.869854</td>\n",
       "      <td>1.433433</td>\n",
       "      <td>1.030414</td>\n",
       "      <td>1.287842</td>\n",
       "      <td>1.605459</td>\n",
       "      <td>0.838013</td>\n",
       "      <td>1.508752</td>\n",
       "      <td>1.721334</td>\n",
       "      <td>1.287104</td>\n",
       "      <td>1.157361</td>\n",
       "      <td>0.663905</td>\n",
       "      <td>0.465268</td>\n",
       "      <td>1.460416</td>\n",
       "      <td>0.243988</td>\n",
       "      <td>1.107907</td>\n",
       "      <td>1.204173</td>\n",
       "      <td>0.705993</td>\n",
       "      <td>1.387902</td>\n",
       "      <td>1.259689</td>\n",
       "      <td>1.337579</td>\n",
       "      <td>0.701320</td>\n",
       "      <td>1.077325</td>\n",
       "      <td>0.735270</td>\n",
       "      <td>1.699547</td>\n",
       "      <td>1.216762</td>\n",
       "      <td>0.719194</td>\n",
       "      <td>0.756809</td>\n",
       "      <td>1.476864</td>\n",
       "      <td>1.223721</td>\n",
       "      <td>0.926939</td>\n",
       "      <td>1.460324</td>\n",
       "      <td>0.656278</td>\n",
       "      <td>0.700332</td>\n",
       "      <td>0.588413</td>\n",
       "      <td>1.259869</td>\n",
       "      <td>2.212521</td>\n",
       "      <td>1.202531</td>\n",
       "      <td>1.225734</td>\n",
       "      <td>1.499810</td>\n",
       "      <td>0.731602</td>\n",
       "      <td>0.773256</td>\n",
       "      <td>0.897810</td>\n",
       "      <td>1.299308</td>\n",
       "      <td>1.334947</td>\n",
       "      <td>0.746866</td>\n",
       "      <td>0.560224</td>\n",
       "      <td>0.715659</td>\n",
       "      <td>0.892567</td>\n",
       "    </tr>\n",
       "    <tr>\n",
       "      <th>2017</th>\n",
       "      <td>0.670531</td>\n",
       "      <td>1.263287</td>\n",
       "      <td>1.113365</td>\n",
       "      <td>0.045489</td>\n",
       "      <td>1.087531</td>\n",
       "      <td>0.440272</td>\n",
       "      <td>2.019337</td>\n",
       "      <td>1.405387</td>\n",
       "      <td>1.223736</td>\n",
       "      <td>1.337266</td>\n",
       "      <td>1.085622</td>\n",
       "      <td>1.238979</td>\n",
       "      <td>1.024961</td>\n",
       "      <td>0.887174</td>\n",
       "      <td>1.619951</td>\n",
       "      <td>0.933286</td>\n",
       "      <td>1.182003</td>\n",
       "      <td>1.205203</td>\n",
       "      <td>1.002184</td>\n",
       "      <td>0.637856</td>\n",
       "      <td>0.756244</td>\n",
       "      <td>1.017644</td>\n",
       "      <td>0.966776</td>\n",
       "      <td>0.961914</td>\n",
       "      <td>0.999992</td>\n",
       "      <td>1.348966</td>\n",
       "      <td>1.045539</td>\n",
       "      <td>1.266629</td>\n",
       "      <td>1.205492</td>\n",
       "      <td>0.902406</td>\n",
       "      <td>0.530676</td>\n",
       "      <td>1.083274</td>\n",
       "      <td>1.174933</td>\n",
       "      <td>0.824001</td>\n",
       "      <td>0.867418</td>\n",
       "      <td>1.520895</td>\n",
       "      <td>0.236154</td>\n",
       "      <td>0.422249</td>\n",
       "      <td>1.252138</td>\n",
       "      <td>1.052846</td>\n",
       "      <td>1.286408</td>\n",
       "      <td>0.615757</td>\n",
       "      <td>0.952499</td>\n",
       "      <td>0.420012</td>\n",
       "      <td>1.770180</td>\n",
       "      <td>1.047392</td>\n",
       "      <td>0.406654</td>\n",
       "      <td>1.167473</td>\n",
       "      <td>0.976398</td>\n",
       "      <td>1.189303</td>\n",
       "      <td>1.275756</td>\n",
       "      <td>1.238513</td>\n",
       "      <td>0.358574</td>\n",
       "      <td>1.068136</td>\n",
       "      <td>0.823687</td>\n",
       "      <td>0.880401</td>\n",
       "      <td>1.011893</td>\n",
       "      <td>1.512769</td>\n",
       "      <td>0.390158</td>\n",
       "      <td>0.204596</td>\n",
       "      <td>1.442252</td>\n",
       "      <td>0.911941</td>\n",
       "      <td>0.365996</td>\n",
       "      <td>1.126817</td>\n",
       "      <td>1.120760</td>\n",
       "      <td>1.299877</td>\n",
       "      <td>1.031112</td>\n",
       "      <td>0.974784</td>\n",
       "      <td>1.242866</td>\n",
       "      <td>1.247280</td>\n",
       "      <td>1.475320</td>\n",
       "      <td>1.330801</td>\n",
       "      <td>1.217645</td>\n",
       "      <td>1.257592</td>\n",
       "      <td>1.199478</td>\n",
       "      <td>1.107313</td>\n",
       "      <td>0.934494</td>\n",
       "      <td>0.581237</td>\n",
       "      <td>1.243208</td>\n",
       "      <td>0.955821</td>\n",
       "      <td>0.760709</td>\n",
       "      <td>0.842448</td>\n",
       "      <td>0.580842</td>\n",
       "      <td>0.854901</td>\n",
       "      <td>2.488773</td>\n",
       "      <td>1.016554</td>\n",
       "      <td>1.167734</td>\n",
       "      <td>0.863981</td>\n",
       "      <td>1.644620</td>\n",
       "      <td>1.029524</td>\n",
       "      <td>0.842984</td>\n",
       "      <td>1.019265</td>\n",
       "      <td>1.205054</td>\n",
       "      <td>1.385936</td>\n",
       "      <td>1.100280</td>\n",
       "      <td>1.362505</td>\n",
       "      <td>0.949549</td>\n",
       "      <td>1.480227</td>\n",
       "      <td>0.874395</td>\n",
       "      <td>0.383011</td>\n",
       "      <td>0.149316</td>\n",
       "      <td>1.240219</td>\n",
       "      <td>1.730949</td>\n",
       "      <td>1.366526</td>\n",
       "      <td>0.530158</td>\n",
       "      <td>1.266574</td>\n",
       "      <td>0.720219</td>\n",
       "      <td>1.096462</td>\n",
       "      <td>0.554556</td>\n",
       "      <td>0.943831</td>\n",
       "      <td>1.224630</td>\n",
       "      <td>1.541506</td>\n",
       "      <td>1.331464</td>\n",
       "      <td>3.210102</td>\n",
       "      <td>0.333594</td>\n",
       "      <td>0.434535</td>\n",
       "      <td>1.322875</td>\n",
       "      <td>1.904996</td>\n",
       "      <td>1.139226</td>\n",
       "      <td>1.292738</td>\n",
       "      <td>0.339076</td>\n",
       "      <td>0.978362</td>\n",
       "      <td>1.454675</td>\n",
       "      <td>0.928042</td>\n",
       "      <td>0.209182</td>\n",
       "      <td>1.361068</td>\n",
       "      <td>0.890833</td>\n",
       "      <td>1.256448</td>\n",
       "      <td>1.671024</td>\n",
       "      <td>1.235641</td>\n",
       "      <td>0.416529</td>\n",
       "      <td>0.916074</td>\n",
       "      <td>1.133416</td>\n",
       "      <td>0.856018</td>\n",
       "      <td>1.280895</td>\n",
       "      <td>1.196640</td>\n",
       "      <td>0.960083</td>\n",
       "      <td>1.329566</td>\n",
       "      <td>1.262242</td>\n",
       "      <td>0.403902</td>\n",
       "      <td>0.749370</td>\n",
       "      <td>0.968907</td>\n",
       "      <td>0.404108</td>\n",
       "      <td>1.083956</td>\n",
       "      <td>1.528010</td>\n",
       "      <td>0.670118</td>\n",
       "      <td>1.328699</td>\n",
       "      <td>0.897907</td>\n",
       "      <td>1.289043</td>\n",
       "      <td>0.441041</td>\n",
       "      <td>1.175378</td>\n",
       "      <td>1.230799</td>\n",
       "      <td>1.086768</td>\n",
       "      <td>1.329828</td>\n",
       "      <td>1.145598</td>\n",
       "      <td>1.019461</td>\n",
       "      <td>1.471372</td>\n",
       "      <td>1.143516</td>\n",
       "      <td>1.570970</td>\n",
       "      <td>0.721157</td>\n",
       "      <td>1.609292</td>\n",
       "      <td>0.999080</td>\n",
       "      <td>1.099016</td>\n",
       "      <td>0.597216</td>\n",
       "      <td>1.115809</td>\n",
       "      <td>0.836394</td>\n",
       "      <td>1.175675</td>\n",
       "      <td>1.042368</td>\n",
       "      <td>1.227770</td>\n",
       "      <td>1.742433</td>\n",
       "      <td>0.863555</td>\n",
       "      <td>1.493161</td>\n",
       "      <td>1.695667</td>\n",
       "      <td>1.309008</td>\n",
       "      <td>1.180804</td>\n",
       "      <td>0.722460</td>\n",
       "      <td>0.479003</td>\n",
       "      <td>1.562467</td>\n",
       "      <td>0.261770</td>\n",
       "      <td>1.126773</td>\n",
       "      <td>1.311212</td>\n",
       "      <td>0.703051</td>\n",
       "      <td>1.354758</td>\n",
       "      <td>1.242829</td>\n",
       "      <td>1.313323</td>\n",
       "      <td>0.811236</td>\n",
       "      <td>1.109178</td>\n",
       "      <td>0.710896</td>\n",
       "      <td>1.720777</td>\n",
       "      <td>1.254791</td>\n",
       "      <td>0.772973</td>\n",
       "      <td>1.024522</td>\n",
       "      <td>1.372914</td>\n",
       "      <td>1.210690</td>\n",
       "      <td>0.947742</td>\n",
       "      <td>1.571615</td>\n",
       "      <td>0.629957</td>\n",
       "      <td>0.738825</td>\n",
       "      <td>0.620529</td>\n",
       "      <td>1.242440</td>\n",
       "      <td>2.183431</td>\n",
       "      <td>1.197417</td>\n",
       "      <td>1.230307</td>\n",
       "      <td>1.490269</td>\n",
       "      <td>0.750264</td>\n",
       "      <td>0.785559</td>\n",
       "      <td>0.801612</td>\n",
       "      <td>1.276147</td>\n",
       "      <td>1.463739</td>\n",
       "      <td>0.748502</td>\n",
       "      <td>0.512746</td>\n",
       "      <td>0.774654</td>\n",
       "      <td>0.955861</td>\n",
       "    </tr>\n",
       "    <tr>\n",
       "      <th>2018</th>\n",
       "      <td>0.599671</td>\n",
       "      <td>0.945445</td>\n",
       "      <td>1.125766</td>\n",
       "      <td>0.046465</td>\n",
       "      <td>1.101142</td>\n",
       "      <td>0.425280</td>\n",
       "      <td>2.008164</td>\n",
       "      <td>1.317017</td>\n",
       "      <td>1.262093</td>\n",
       "      <td>1.330666</td>\n",
       "      <td>1.105475</td>\n",
       "      <td>1.244271</td>\n",
       "      <td>1.036241</td>\n",
       "      <td>0.967888</td>\n",
       "      <td>1.405193</td>\n",
       "      <td>0.989712</td>\n",
       "      <td>1.176311</td>\n",
       "      <td>1.228972</td>\n",
       "      <td>0.997632</td>\n",
       "      <td>0.643868</td>\n",
       "      <td>0.792249</td>\n",
       "      <td>1.016928</td>\n",
       "      <td>0.923768</td>\n",
       "      <td>0.982174</td>\n",
       "      <td>1.017608</td>\n",
       "      <td>1.378799</td>\n",
       "      <td>0.984933</td>\n",
       "      <td>1.303325</td>\n",
       "      <td>1.194300</td>\n",
       "      <td>0.946416</td>\n",
       "      <td>0.549877</td>\n",
       "      <td>1.067923</td>\n",
       "      <td>1.210590</td>\n",
       "      <td>0.737735</td>\n",
       "      <td>0.895722</td>\n",
       "      <td>1.490352</td>\n",
       "      <td>0.251238</td>\n",
       "      <td>0.447315</td>\n",
       "      <td>1.347489</td>\n",
       "      <td>1.176253</td>\n",
       "      <td>1.308928</td>\n",
       "      <td>0.642782</td>\n",
       "      <td>0.918938</td>\n",
       "      <td>0.419119</td>\n",
       "      <td>1.686262</td>\n",
       "      <td>1.073916</td>\n",
       "      <td>0.474036</td>\n",
       "      <td>1.167344</td>\n",
       "      <td>0.984550</td>\n",
       "      <td>1.194740</td>\n",
       "      <td>1.325803</td>\n",
       "      <td>1.246195</td>\n",
       "      <td>0.373629</td>\n",
       "      <td>1.070274</td>\n",
       "      <td>0.830428</td>\n",
       "      <td>0.928556</td>\n",
       "      <td>0.904177</td>\n",
       "      <td>1.502468</td>\n",
       "      <td>0.393452</td>\n",
       "      <td>0.201720</td>\n",
       "      <td>1.452370</td>\n",
       "      <td>0.904839</td>\n",
       "      <td>0.356341</td>\n",
       "      <td>1.114709</td>\n",
       "      <td>1.120788</td>\n",
       "      <td>1.296341</td>\n",
       "      <td>1.048269</td>\n",
       "      <td>1.018125</td>\n",
       "      <td>1.336672</td>\n",
       "      <td>1.300658</td>\n",
       "      <td>1.465163</td>\n",
       "      <td>1.302684</td>\n",
       "      <td>1.324883</td>\n",
       "      <td>1.255820</td>\n",
       "      <td>1.136694</td>\n",
       "      <td>1.115613</td>\n",
       "      <td>0.952084</td>\n",
       "      <td>0.580989</td>\n",
       "      <td>1.254057</td>\n",
       "      <td>0.955805</td>\n",
       "      <td>0.768849</td>\n",
       "      <td>0.818572</td>\n",
       "      <td>0.581162</td>\n",
       "      <td>0.775055</td>\n",
       "      <td>2.670209</td>\n",
       "      <td>1.022959</td>\n",
       "      <td>1.165227</td>\n",
       "      <td>0.861941</td>\n",
       "      <td>1.194458</td>\n",
       "      <td>1.036002</td>\n",
       "      <td>0.899221</td>\n",
       "      <td>1.021097</td>\n",
       "      <td>1.204575</td>\n",
       "      <td>1.378642</td>\n",
       "      <td>1.052693</td>\n",
       "      <td>1.419435</td>\n",
       "      <td>0.834619</td>\n",
       "      <td>1.428067</td>\n",
       "      <td>0.990925</td>\n",
       "      <td>0.435953</td>\n",
       "      <td>0.148607</td>\n",
       "      <td>1.287194</td>\n",
       "      <td>1.644590</td>\n",
       "      <td>1.382299</td>\n",
       "      <td>0.515130</td>\n",
       "      <td>1.074112</td>\n",
       "      <td>0.742752</td>\n",
       "      <td>1.082794</td>\n",
       "      <td>0.544035</td>\n",
       "      <td>0.929329</td>\n",
       "      <td>1.238836</td>\n",
       "      <td>1.638383</td>\n",
       "      <td>1.314253</td>\n",
       "      <td>3.348741</td>\n",
       "      <td>0.398562</td>\n",
       "      <td>0.385455</td>\n",
       "      <td>1.308671</td>\n",
       "      <td>1.751886</td>\n",
       "      <td>1.103626</td>\n",
       "      <td>1.271073</td>\n",
       "      <td>0.347909</td>\n",
       "      <td>1.070079</td>\n",
       "      <td>1.517095</td>\n",
       "      <td>0.967634</td>\n",
       "      <td>0.208241</td>\n",
       "      <td>1.344561</td>\n",
       "      <td>0.883092</td>\n",
       "      <td>1.333759</td>\n",
       "      <td>1.816057</td>\n",
       "      <td>1.244172</td>\n",
       "      <td>0.479203</td>\n",
       "      <td>1.160141</td>\n",
       "      <td>1.147285</td>\n",
       "      <td>0.838645</td>\n",
       "      <td>1.375115</td>\n",
       "      <td>1.224493</td>\n",
       "      <td>0.958808</td>\n",
       "      <td>1.305963</td>\n",
       "      <td>1.132035</td>\n",
       "      <td>0.388890</td>\n",
       "      <td>0.872030</td>\n",
       "      <td>0.948841</td>\n",
       "      <td>0.407522</td>\n",
       "      <td>1.076824</td>\n",
       "      <td>1.399648</td>\n",
       "      <td>0.700855</td>\n",
       "      <td>1.326691</td>\n",
       "      <td>0.958616</td>\n",
       "      <td>1.373265</td>\n",
       "      <td>0.430904</td>\n",
       "      <td>1.154683</td>\n",
       "      <td>1.310399</td>\n",
       "      <td>1.243451</td>\n",
       "      <td>1.345631</td>\n",
       "      <td>1.157157</td>\n",
       "      <td>1.042791</td>\n",
       "      <td>1.427677</td>\n",
       "      <td>1.160524</td>\n",
       "      <td>1.585018</td>\n",
       "      <td>0.774030</td>\n",
       "      <td>1.610100</td>\n",
       "      <td>1.039980</td>\n",
       "      <td>1.006829</td>\n",
       "      <td>0.591318</td>\n",
       "      <td>1.127181</td>\n",
       "      <td>0.771254</td>\n",
       "      <td>1.179389</td>\n",
       "      <td>1.065817</td>\n",
       "      <td>1.207286</td>\n",
       "      <td>1.849900</td>\n",
       "      <td>0.809028</td>\n",
       "      <td>1.519860</td>\n",
       "      <td>1.682357</td>\n",
       "      <td>1.329228</td>\n",
       "      <td>1.190996</td>\n",
       "      <td>0.731135</td>\n",
       "      <td>0.496396</td>\n",
       "      <td>1.611451</td>\n",
       "      <td>0.353043</td>\n",
       "      <td>1.158175</td>\n",
       "      <td>1.398246</td>\n",
       "      <td>0.716683</td>\n",
       "      <td>1.266601</td>\n",
       "      <td>1.238303</td>\n",
       "      <td>1.268450</td>\n",
       "      <td>0.884477</td>\n",
       "      <td>1.084559</td>\n",
       "      <td>0.748832</td>\n",
       "      <td>1.757400</td>\n",
       "      <td>1.164961</td>\n",
       "      <td>0.763048</td>\n",
       "      <td>1.027104</td>\n",
       "      <td>1.309223</td>\n",
       "      <td>1.240254</td>\n",
       "      <td>0.967283</td>\n",
       "      <td>1.546562</td>\n",
       "      <td>0.605009</td>\n",
       "      <td>0.736309</td>\n",
       "      <td>0.590143</td>\n",
       "      <td>1.207910</td>\n",
       "      <td>2.199084</td>\n",
       "      <td>1.196202</td>\n",
       "      <td>1.291159</td>\n",
       "      <td>1.508590</td>\n",
       "      <td>0.703967</td>\n",
       "      <td>0.844271</td>\n",
       "      <td>0.694033</td>\n",
       "      <td>1.485550</td>\n",
       "      <td>1.318609</td>\n",
       "      <td>0.750460</td>\n",
       "      <td>0.496906</td>\n",
       "      <td>0.869034</td>\n",
       "      <td>0.857018</td>\n",
       "    </tr>\n",
       "    <tr>\n",
       "      <th>2019</th>\n",
       "      <td>0.598366</td>\n",
       "      <td>0.921452</td>\n",
       "      <td>1.102906</td>\n",
       "      <td>0.047548</td>\n",
       "      <td>1.151383</td>\n",
       "      <td>0.457445</td>\n",
       "      <td>1.997460</td>\n",
       "      <td>1.303998</td>\n",
       "      <td>1.283414</td>\n",
       "      <td>1.324665</td>\n",
       "      <td>1.101017</td>\n",
       "      <td>1.204966</td>\n",
       "      <td>1.077384</td>\n",
       "      <td>1.053004</td>\n",
       "      <td>1.271594</td>\n",
       "      <td>1.002923</td>\n",
       "      <td>1.113570</td>\n",
       "      <td>1.231454</td>\n",
       "      <td>1.000959</td>\n",
       "      <td>0.655367</td>\n",
       "      <td>0.838049</td>\n",
       "      <td>1.017039</td>\n",
       "      <td>0.949888</td>\n",
       "      <td>0.967963</td>\n",
       "      <td>1.097982</td>\n",
       "      <td>1.600191</td>\n",
       "      <td>0.977416</td>\n",
       "      <td>1.271550</td>\n",
       "      <td>1.165464</td>\n",
       "      <td>0.973671</td>\n",
       "      <td>0.559166</td>\n",
       "      <td>1.032875</td>\n",
       "      <td>1.320356</td>\n",
       "      <td>0.822268</td>\n",
       "      <td>0.920183</td>\n",
       "      <td>1.462183</td>\n",
       "      <td>0.293704</td>\n",
       "      <td>0.474984</td>\n",
       "      <td>1.318313</td>\n",
       "      <td>1.228916</td>\n",
       "      <td>1.321049</td>\n",
       "      <td>0.726941</td>\n",
       "      <td>0.897548</td>\n",
       "      <td>0.412649</td>\n",
       "      <td>1.606834</td>\n",
       "      <td>1.082343</td>\n",
       "      <td>0.533725</td>\n",
       "      <td>1.181395</td>\n",
       "      <td>1.009085</td>\n",
       "      <td>1.236897</td>\n",
       "      <td>1.430344</td>\n",
       "      <td>1.245180</td>\n",
       "      <td>0.367786</td>\n",
       "      <td>1.061208</td>\n",
       "      <td>0.822468</td>\n",
       "      <td>0.916757</td>\n",
       "      <td>0.902303</td>\n",
       "      <td>1.501540</td>\n",
       "      <td>0.380546</td>\n",
       "      <td>0.198639</td>\n",
       "      <td>1.469593</td>\n",
       "      <td>0.897733</td>\n",
       "      <td>0.347001</td>\n",
       "      <td>1.099050</td>\n",
       "      <td>1.121436</td>\n",
       "      <td>1.294913</td>\n",
       "      <td>1.068439</td>\n",
       "      <td>1.010954</td>\n",
       "      <td>1.306411</td>\n",
       "      <td>1.267496</td>\n",
       "      <td>1.446174</td>\n",
       "      <td>1.287714</td>\n",
       "      <td>1.297495</td>\n",
       "      <td>1.239101</td>\n",
       "      <td>1.109911</td>\n",
       "      <td>1.154291</td>\n",
       "      <td>0.945210</td>\n",
       "      <td>0.581175</td>\n",
       "      <td>1.258731</td>\n",
       "      <td>1.001744</td>\n",
       "      <td>0.806919</td>\n",
       "      <td>0.805005</td>\n",
       "      <td>0.573454</td>\n",
       "      <td>0.711931</td>\n",
       "      <td>2.863650</td>\n",
       "      <td>1.054125</td>\n",
       "      <td>1.145431</td>\n",
       "      <td>0.831458</td>\n",
       "      <td>1.279755</td>\n",
       "      <td>1.363150</td>\n",
       "      <td>0.878174</td>\n",
       "      <td>1.043706</td>\n",
       "      <td>1.192843</td>\n",
       "      <td>1.349426</td>\n",
       "      <td>1.073292</td>\n",
       "      <td>1.421430</td>\n",
       "      <td>0.727192</td>\n",
       "      <td>1.388163</td>\n",
       "      <td>1.071608</td>\n",
       "      <td>0.440273</td>\n",
       "      <td>0.147930</td>\n",
       "      <td>1.331020</td>\n",
       "      <td>1.650492</td>\n",
       "      <td>1.335151</td>\n",
       "      <td>0.604544</td>\n",
       "      <td>1.081605</td>\n",
       "      <td>0.733322</td>\n",
       "      <td>1.069326</td>\n",
       "      <td>0.533570</td>\n",
       "      <td>0.916413</td>\n",
       "      <td>1.255132</td>\n",
       "      <td>1.667778</td>\n",
       "      <td>1.348385</td>\n",
       "      <td>3.284849</td>\n",
       "      <td>0.388623</td>\n",
       "      <td>0.471715</td>\n",
       "      <td>1.359589</td>\n",
       "      <td>1.641203</td>\n",
       "      <td>1.069653</td>\n",
       "      <td>1.259766</td>\n",
       "      <td>0.357718</td>\n",
       "      <td>1.074398</td>\n",
       "      <td>1.516606</td>\n",
       "      <td>0.967340</td>\n",
       "      <td>0.207400</td>\n",
       "      <td>1.354991</td>\n",
       "      <td>0.912675</td>\n",
       "      <td>1.367392</td>\n",
       "      <td>1.848791</td>\n",
       "      <td>1.286345</td>\n",
       "      <td>0.465568</td>\n",
       "      <td>1.151956</td>\n",
       "      <td>1.152599</td>\n",
       "      <td>0.824266</td>\n",
       "      <td>1.359577</td>\n",
       "      <td>1.256855</td>\n",
       "      <td>0.958561</td>\n",
       "      <td>1.285347</td>\n",
       "      <td>0.868857</td>\n",
       "      <td>0.374519</td>\n",
       "      <td>0.850940</td>\n",
       "      <td>0.991961</td>\n",
       "      <td>0.411168</td>\n",
       "      <td>1.069580</td>\n",
       "      <td>1.386122</td>\n",
       "      <td>0.738938</td>\n",
       "      <td>1.322840</td>\n",
       "      <td>0.934838</td>\n",
       "      <td>1.323085</td>\n",
       "      <td>0.421274</td>\n",
       "      <td>1.139352</td>\n",
       "      <td>1.285611</td>\n",
       "      <td>1.512944</td>\n",
       "      <td>1.377567</td>\n",
       "      <td>1.156883</td>\n",
       "      <td>1.055204</td>\n",
       "      <td>1.396392</td>\n",
       "      <td>1.171816</td>\n",
       "      <td>1.661978</td>\n",
       "      <td>0.752628</td>\n",
       "      <td>1.611754</td>\n",
       "      <td>1.035933</td>\n",
       "      <td>0.981663</td>\n",
       "      <td>0.585168</td>\n",
       "      <td>1.135233</td>\n",
       "      <td>0.773536</td>\n",
       "      <td>1.152750</td>\n",
       "      <td>1.118695</td>\n",
       "      <td>1.216661</td>\n",
       "      <td>1.987196</td>\n",
       "      <td>0.836354</td>\n",
       "      <td>1.591986</td>\n",
       "      <td>1.653528</td>\n",
       "      <td>1.356766</td>\n",
       "      <td>1.201886</td>\n",
       "      <td>0.708155</td>\n",
       "      <td>0.478684</td>\n",
       "      <td>1.669907</td>\n",
       "      <td>0.351275</td>\n",
       "      <td>1.173230</td>\n",
       "      <td>1.389717</td>\n",
       "      <td>0.763322</td>\n",
       "      <td>1.355986</td>\n",
       "      <td>1.235542</td>\n",
       "      <td>1.271096</td>\n",
       "      <td>0.965258</td>\n",
       "      <td>1.060297</td>\n",
       "      <td>0.796692</td>\n",
       "      <td>1.823083</td>\n",
       "      <td>1.116805</td>\n",
       "      <td>0.756997</td>\n",
       "      <td>0.591705</td>\n",
       "      <td>1.421095</td>\n",
       "      <td>1.228286</td>\n",
       "      <td>0.967877</td>\n",
       "      <td>1.523118</td>\n",
       "      <td>0.582637</td>\n",
       "      <td>0.730194</td>\n",
       "      <td>0.570443</td>\n",
       "      <td>1.234618</td>\n",
       "      <td>2.127739</td>\n",
       "      <td>1.189473</td>\n",
       "      <td>1.285292</td>\n",
       "      <td>1.394233</td>\n",
       "      <td>0.994629</td>\n",
       "      <td>0.870554</td>\n",
       "      <td>0.572973</td>\n",
       "      <td>1.419969</td>\n",
       "      <td>1.306762</td>\n",
       "      <td>0.752796</td>\n",
       "      <td>0.484995</td>\n",
       "      <td>0.935775</td>\n",
       "      <td>0.859677</td>\n",
       "    </tr>\n",
       "  </tbody>\n",
       "</table>\n",
       "</div>"
      ],
      "text/plain": [
       "name  Afghanistan   Albania   Algeria  American Samoa   Andorra    Angola  \\\n",
       "year                                                                        \n",
       "2015     0.583643  1.180267  1.092477        0.043802  0.993784  0.494174   \n",
       "2016     0.623625  1.171725  1.165116        0.044600  1.049076  0.445897   \n",
       "2017     0.670531  1.263287  1.113365        0.045489  1.087531  0.440272   \n",
       "2018     0.599671  0.945445  1.125766        0.046465  1.101142  0.425280   \n",
       "2019     0.598366  0.921452  1.102906        0.047548  1.151383  0.457445   \n",
       "\n",
       "name  Antigua and Barbuda  Argentina   Armenia     Aruba  Australia   Austria  \\\n",
       "year                                                                            \n",
       "2015             1.956838   1.432812  1.201975  1.352427   1.083306  1.562012   \n",
       "2016             1.987545   1.461332  1.196859  1.344471   1.099587  1.270507   \n",
       "2017             2.019337   1.405387  1.223736  1.337266   1.085622  1.238979   \n",
       "2018             2.008164   1.317017  1.262093  1.330666   1.105475  1.244271   \n",
       "2019             1.997460   1.303998  1.283414  1.324665   1.101017  1.204966   \n",
       "\n",
       "name  Azerbaijan   Bahamas   Bahrain  Bangladesh  Barbados   Belarus  \\\n",
       "year                                                                   \n",
       "2015    1.108884  0.791959  1.850027    0.830007  1.204676  1.204937   \n",
       "2016    1.045316  0.909146  2.121077    0.851146  1.191463  1.203880   \n",
       "2017    1.024961  0.887174  1.619951    0.933286  1.182003  1.205203   \n",
       "2018    1.036241  0.967888  1.405193    0.989712  1.176311  1.228972   \n",
       "2019    1.077384  1.053004  1.271594    1.002923  1.113570  1.231454   \n",
       "\n",
       "name   Belgium    Belize     Benin   Bermuda    Bhutan  \\\n",
       "year                                                     \n",
       "2015  1.135336  0.589100  0.852482  0.582492  0.909490   \n",
       "2016  1.111952  0.607112  0.789514  0.989869  0.930963   \n",
       "2017  1.002184  0.637856  0.756244  1.017644  0.966776   \n",
       "2018  0.997632  0.643868  0.792249  1.016928  0.923768   \n",
       "2019  1.000959  0.655367  0.838049  1.017039  0.949888   \n",
       "\n",
       "name  Bolivia (Plurinational State of)  Bosnia and Herzegovina  Botswana  \\\n",
       "year                                                                       \n",
       "2015                          0.919740                0.976074  1.509649   \n",
       "2016                          0.896740                0.976735  1.398562   \n",
       "2017                          0.961914                0.999992  1.348966   \n",
       "2018                          0.982174                1.017608  1.378799   \n",
       "2019                          0.967963                1.097982  1.600191   \n",
       "\n",
       "name    Brazil  Brunei Darussalam  Bulgaria  Burkina Faso   Burundi  \\\n",
       "year                                                                  \n",
       "2015  1.257382           1.098622  1.280303      0.769312  0.466107   \n",
       "2016  1.179544           1.227717  1.258449      0.798942  0.491593   \n",
       "2017  1.045539           1.266629  1.205492      0.902406  0.530676   \n",
       "2018  0.984933           1.303325  1.194300      0.946416  0.549877   \n",
       "2019  0.977416           1.271550  1.165464      0.973671  0.559166   \n",
       "\n",
       "name  Cabo Verde  Cambodia  Cameroon    Canada  Cayman Islands  \\\n",
       "year                                                             \n",
       "2015    1.106551  1.355600  0.790870  0.834666        1.530101   \n",
       "2016    1.078092  1.273634  0.788643  0.852961        1.537226   \n",
       "2017    1.083274  1.174933  0.824001  0.867418        1.520895   \n",
       "2018    1.067923  1.210590  0.737735  0.895722        1.490352   \n",
       "2019    1.032875  1.320356  0.822268  0.920183        1.462183   \n",
       "\n",
       "name  Central African Republic      Chad     Chile     China  Colombia  \\\n",
       "year                                                                     \n",
       "2015                  0.257297  0.386838  1.298256  0.934877  1.216051   \n",
       "2016                  0.254885  0.383071  1.288440  0.979975  1.232521   \n",
       "2017                  0.236154  0.422249  1.252138  1.052846  1.286408   \n",
       "2018                  0.251238  0.447315  1.347489  1.176253  1.308928   \n",
       "2019                  0.293704  0.474984  1.318313  1.228916  1.321049   \n",
       "\n",
       "name   Comoros     Congo  Congo, Democratic Republic of the  Costa Rica  \\\n",
       "year                                                                      \n",
       "2015  0.582020  1.030727                           0.480568    1.540271   \n",
       "2016  0.608390  1.044955                           0.354902    1.684460   \n",
       "2017  0.615757  0.952499                           0.420012    1.770180   \n",
       "2018  0.642782  0.918938                           0.419119    1.686262   \n",
       "2019  0.726941  0.897548                           0.412649    1.606834   \n",
       "\n",
       "name   Croatia      Cuba   Curaçao    Cyprus   Czechia  Côte d'Ivoire  \\\n",
       "year                                                                    \n",
       "2015  1.051479  0.294535  1.202684  0.934910  1.185277       1.076420   \n",
       "2016  1.056452  0.351789  1.171210  0.943332  1.183003       1.135724   \n",
       "2017  1.047392  0.406654  1.167473  0.976398  1.189303       1.275756   \n",
       "2018  1.073916  0.474036  1.167344  0.984550  1.194740       1.325803   \n",
       "2019  1.082343  0.533725  1.181395  1.009085  1.236897       1.430344   \n",
       "\n",
       "name   Denmark  Djibouti  Dominica  Dominican Republic   Ecuador     Egypt  \\\n",
       "year                                                                         \n",
       "2015  1.245715  0.312047  1.104175            0.845680  0.796498  0.961895   \n",
       "2016  1.220319  0.337157  1.118801            0.827350  0.845520  0.980117   \n",
       "2017  1.238513  0.358574  1.068136            0.823687  0.880401  1.011893   \n",
       "2018  1.246195  0.373629  1.070274            0.830428  0.928556  0.904177   \n",
       "2019  1.245180  0.367786  1.061208            0.822468  0.916757  0.902303   \n",
       "\n",
       "name  El Salvador  Equatorial Guinea   Eritrea   Estonia  Eswatini  Ethiopia  \\\n",
       "year                                                                           \n",
       "2015     1.497336           0.395702  0.142215  1.444420  0.829853  0.412796   \n",
       "2016     1.542274           0.411744  0.150359  1.443999  0.870879  0.486261   \n",
       "2017     1.512769           0.390158  0.204596  1.442252  0.911941  0.365996   \n",
       "2018     1.502468           0.393452  0.201720  1.452370  0.904839  0.356341   \n",
       "2019     1.501540           0.380546  0.198639  1.469593  0.897733  0.347001   \n",
       "\n",
       "name  Faroe Islands      Fiji   Finland    France  French Polynesia     Gabon  \\\n",
       "year                                                                            \n",
       "2015       1.089807  1.053205  1.350481  1.002280          0.918478  1.390178   \n",
       "2016       1.101010  1.132440  1.313849  1.013127          0.953870  1.418844   \n",
       "2017       1.126817  1.120760  1.299877  1.031112          0.974784  1.242866   \n",
       "2018       1.114709  1.120788  1.296341  1.048269          1.018125  1.336672   \n",
       "2019       1.099050  1.121436  1.294913  1.068439          1.010954  1.306411   \n",
       "\n",
       "name    Gambia   Georgia   Germany     Ghana  Gibraltar    Greece  Greenland  \\\n",
       "year                                                                           \n",
       "2015  1.207208  1.489822  1.180120  1.212292   1.273063  1.164415   1.087073   \n",
       "2016  1.225614  1.483566  1.250779  1.295920   1.262091  1.159988   1.096359   \n",
       "2017  1.247280  1.475320  1.330801  1.217645   1.257592  1.199478   1.107313   \n",
       "2018  1.300658  1.465163  1.302684  1.324883   1.255820  1.136694   1.115613   \n",
       "2019  1.267496  1.446174  1.287714  1.297495   1.239101  1.109911   1.154291   \n",
       "\n",
       "name   Grenada      Guam  Guatemala    Guinea  Guinea-Bissau    Guyana  \\\n",
       "year                                                                     \n",
       "2015  1.008573  0.583410   1.162685  0.928953       0.693156  0.719176   \n",
       "2016  0.991948  0.582134   1.156202  0.930351       0.703169  0.770663   \n",
       "2017  0.934494  0.581237   1.243208  0.955821       0.760709  0.842448   \n",
       "2018  0.952084  0.580989   1.254057  0.955805       0.768849  0.818572   \n",
       "2019  0.945210  0.581175   1.258731  1.001744       0.806919  0.805005   \n",
       "\n",
       "name     Haiti  Honduras  Hong Kong   Hungary   Iceland     India  Indonesia  \\\n",
       "year                                                                           \n",
       "2015  0.691042  0.866103   2.290401  1.005788  1.160770  0.755934   1.308416   \n",
       "2016  0.606691  0.827626   2.398931  1.013855  1.198430  0.844143   1.474125   \n",
       "2017  0.580842  0.854901   2.488773  1.016554  1.167734  0.863981   1.644620   \n",
       "2018  0.581162  0.775055   2.670209  1.022959  1.165227  0.861941   1.194458   \n",
       "2019  0.573454  0.711931   2.863650  1.054125  1.145431  0.831458   1.279755   \n",
       "\n",
       "name  Iran (Islamic Republic of)      Iraq   Ireland    Israel     Italy  \\\n",
       "year                                                                       \n",
       "2015                    0.907192  0.889882  1.042119  1.264901  1.444083   \n",
       "2016                    0.966314  0.863095  1.026216  1.240346  1.418498   \n",
       "2017                    1.029524  0.842984  1.019265  1.205054  1.385936   \n",
       "2018                    1.036002  0.899221  1.021097  1.204575  1.378642   \n",
       "2019                    1.363150  0.878174  1.043706  1.192843  1.349426   \n",
       "\n",
       "name   Jamaica     Japan    Jordan  Kazakhstan     Kenya  Kiribati  \\\n",
       "year                                                                 \n",
       "2015  1.123658  1.266311  1.453512    1.499190  0.804670  0.351307   \n",
       "2016  1.166734  1.314174  0.985483    1.433063  0.814287  0.438770   \n",
       "2017  1.100280  1.362505  0.949549    1.480227  0.874395  0.383011   \n",
       "2018  1.052693  1.419435  0.834619    1.428067  0.990925  0.435953   \n",
       "2019  1.073292  1.421430  0.727192    1.388163  1.071608  0.440273   \n",
       "\n",
       "name  Korea (Democratic People's Republic of)  Korea, Republic of    Kuwait  \\\n",
       "year                                                                          \n",
       "2015                                 0.128276            1.154564  1.959709   \n",
       "2016                                 0.142184            1.196849  1.892253   \n",
       "2017                                 0.149316            1.240219  1.730949   \n",
       "2018                                 0.148607            1.287194  1.644590   \n",
       "2019                                 0.147930            1.331020  1.650492   \n",
       "\n",
       "name  Kyrgyzstan  Lao People's Democratic Republic    Latvia   Lebanon  \\\n",
       "year                                                                     \n",
       "2015    1.272474                          0.549546  1.309717  0.728246   \n",
       "2016    1.251748                          0.574632  1.352360  0.683857   \n",
       "2017    1.366526                          0.530158  1.266574  0.720219   \n",
       "2018    1.382299                          0.515130  1.074112  0.742752   \n",
       "2019    1.335151                          0.604544  1.081605  0.733322   \n",
       "\n",
       "name   Lesotho   Liberia     Libya  Liechtenstein  Lithuania  Luxembourg  \\\n",
       "year                                                                       \n",
       "2015  1.010139  0.791357  1.574553       1.097577   1.438943    1.416774   \n",
       "2016  1.063496  0.662970  1.219319       1.177910   1.464317    1.312683   \n",
       "2017  1.096462  0.554556  0.943831       1.224630   1.541506    1.331464   \n",
       "2018  1.082794  0.544035  0.929329       1.238836   1.638383    1.314253   \n",
       "2019  1.069326  0.533570  0.916413       1.255132   1.667778    1.348385   \n",
       "\n",
       "name     Macao  Madagascar    Malawi  Malaysia  Maldives      Mali     Malta  \\\n",
       "year                                                                           \n",
       "2015  3.088231    0.430568  0.387864  1.419429  1.698876  1.253250  1.177388   \n",
       "2016  3.143510    0.313702  0.412510  1.379795  1.787554  1.080208  1.284709   \n",
       "2017  3.210102    0.333594  0.434535  1.322875  1.904996  1.139226  1.292738   \n",
       "2018  3.348741    0.398562  0.385455  1.308671  1.751886  1.103626  1.271073   \n",
       "2019  3.284849    0.388623  0.471715  1.359589  1.641203  1.069653  1.259766   \n",
       "\n",
       "name  Marshall Islands  Mauritania  Mauritius    Mexico  \\\n",
       "year                                                      \n",
       "2015          0.313702    0.922402   1.393641  0.898877   \n",
       "2016          0.325891    0.890942   1.432249  0.921665   \n",
       "2017          0.339076    0.978362   1.454675  0.928042   \n",
       "2018          0.347909    1.070079   1.517095  0.967634   \n",
       "2019          0.357718    1.074398   1.516606  0.967340   \n",
       "\n",
       "name  Micronesia (Federated States of)  Moldova, Republic of    Monaco  \\\n",
       "year                                                                     \n",
       "2015                          0.205551              1.308191  0.924918   \n",
       "2016                          0.212872              1.352033  0.898276   \n",
       "2017                          0.209182              1.361068  0.890833   \n",
       "2018                          0.208241              1.344561  0.883092   \n",
       "2019                          0.207400              1.354991  0.912675   \n",
       "\n",
       "name  Mongolia  Montenegro   Morocco  Mozambique   Myanmar   Namibia  \\\n",
       "year                                                                   \n",
       "2015  1.035501    1.623379  1.242775    0.748792  0.796365  1.117096   \n",
       "2016  1.112375    1.671212  1.182092    0.541585  0.975096  1.144898   \n",
       "2017  1.256448    1.671024  1.235641    0.416529  0.916074  1.133416   \n",
       "2018  1.333759    1.816057  1.244172    0.479203  1.160141  1.147285   \n",
       "2019  1.367392    1.848791  1.286345    0.465568  1.151956  1.152599   \n",
       "\n",
       "name     Nauru     Nepal  Netherlands  New Caledonia  New Zealand  Nicaragua  \\\n",
       "year                                                                           \n",
       "2015  0.840411  0.996004     1.227869       0.964893     1.214909   1.152637   \n",
       "2016  0.865612  1.152140     1.227223       0.962179     1.293990   1.212978   \n",
       "2017  0.856018  1.280895     1.196640       0.960083     1.329566   1.262242   \n",
       "2018  0.838645  1.375115     1.224493       0.958808     1.305963   1.132035   \n",
       "2019  0.824266  1.359577     1.256855       0.958561     1.285347   0.868857   \n",
       "\n",
       "name     Niger   Nigeria  North Macedonia  Northern Mariana Islands    Norway  \\\n",
       "year                                                                            \n",
       "2015  0.445148  0.820671         1.004721                  0.397950  1.100488   \n",
       "2016  0.357045  0.816253         0.989148                  0.400915  1.094656   \n",
       "2017  0.403902  0.749370         0.968907                  0.404108  1.083956   \n",
       "2018  0.388890  0.872030         0.948841                  0.407522  1.076824   \n",
       "2019  0.374519  0.850940         0.991961                  0.411168  1.069580   \n",
       "\n",
       "name      Oman  Pakistan     Palau  Palestine, State of    Panama  \\\n",
       "year                                                                \n",
       "2015  1.586440  0.597243  1.331910             0.826680  1.450558   \n",
       "2016  1.562049  0.636928  1.330265             0.849536  1.276595   \n",
       "2017  1.528010  0.670118  1.328699             0.897907  1.289043   \n",
       "2018  1.399648  0.700855  1.326691             0.958616  1.373265   \n",
       "2019  1.386122  0.738938  1.322840             0.934838  1.323085   \n",
       "\n",
       "name  Papua New Guinea  Paraguay      Peru  Philippines    Poland  Portugal  \\\n",
       "year                                                                          \n",
       "2015          0.410036  1.199427  1.113576     1.145282  1.434724  1.129553   \n",
       "2016          0.424759  1.195223  1.185246     1.144216  1.395836  1.123438   \n",
       "2017          0.441041  1.175378  1.230799     1.086768  1.329828  1.145598   \n",
       "2018          0.430904  1.154683  1.310399     1.243451  1.345631  1.157157   \n",
       "2019          0.421274  1.139352  1.285611     1.512944  1.377567  1.156883   \n",
       "\n",
       "name  Puerto Rico     Qatar   Romania  Russian Federation    Rwanda  \\\n",
       "year                                                                  \n",
       "2015     0.921332  1.548928  1.165747            1.575329  0.752386   \n",
       "2016     0.954010  1.406461  1.162303            1.586505  0.747639   \n",
       "2017     1.019461  1.471372  1.143516            1.570970  0.721157   \n",
       "2018     1.042791  1.427677  1.160524            1.585018  0.774030   \n",
       "2019     1.055204  1.396392  1.171816            1.661978  0.752628   \n",
       "\n",
       "name  Saint Kitts and Nevis  Saint Lucia  Saint Vincent and the Grenadines  \\\n",
       "year                                                                         \n",
       "2015               1.527516     1.070475                          1.061212   \n",
       "2016               1.602913     1.003327                          1.066410   \n",
       "2017               1.609292     0.999080                          1.099016   \n",
       "2018               1.610100     1.039980                          1.006829   \n",
       "2019               1.611754     1.035933                          0.981663   \n",
       "\n",
       "name     Samoa  San Marino  Sao Tome and Principe  Saudi Arabia   Senegal  \\\n",
       "year                                                                        \n",
       "2015  0.594387    1.090259               0.919831      1.612221  1.044846   \n",
       "2016  0.734636    1.081752               0.869854      1.433433  1.030414   \n",
       "2017  0.597216    1.115809               0.836394      1.175675  1.042368   \n",
       "2018  0.591318    1.127181               0.771254      1.179389  1.065817   \n",
       "2019  0.585168    1.135233               0.773536      1.152750  1.118695   \n",
       "\n",
       "name    Serbia  Seychelles  Sierra Leone  Singapore  \\\n",
       "year                                                  \n",
       "2015  1.290980    1.584260      0.773777   1.486901   \n",
       "2016  1.287842    1.605459      0.838013   1.508752   \n",
       "2017  1.227770    1.742433      0.863555   1.493161   \n",
       "2018  1.207286    1.849900      0.809028   1.519860   \n",
       "2019  1.216661    1.987196      0.836354   1.591986   \n",
       "\n",
       "name  Sint Maarten (Dutch part)  Slovakia  Slovenia  Solomon Islands  \\\n",
       "year                                                                   \n",
       "2015                   1.772054  1.231609  1.138825         0.693696   \n",
       "2016                   1.721334  1.287104  1.157361         0.663905   \n",
       "2017                   1.695667  1.309008  1.180804         0.722460   \n",
       "2018                   1.682357  1.329228  1.190996         0.731135   \n",
       "2019                   1.653528  1.356766  1.201886         0.708155   \n",
       "\n",
       "name   Somalia  South Africa  South Sudan     Spain  Sri Lanka     Sudan  \\\n",
       "year                                                                       \n",
       "2015  0.424298      1.574902     0.259060  1.100230   1.120136  0.730918   \n",
       "2016  0.465268      1.460416     0.243988  1.107907   1.204173  0.705993   \n",
       "2017  0.479003      1.562467     0.261770  1.126773   1.311212  0.703051   \n",
       "2018  0.496396      1.611451     0.353043  1.158175   1.398246  0.716683   \n",
       "2019  0.478684      1.669907     0.351275  1.173230   1.389717  0.763322   \n",
       "\n",
       "name  Suriname    Sweden  Switzerland  Syrian Arab Republic  Tajikistan  \\\n",
       "year                                                                      \n",
       "2015  1.303271  1.285821     1.352266              0.744591    0.996004   \n",
       "2016  1.387902  1.259689     1.337579              0.701320    1.077325   \n",
       "2017  1.354758  1.242829     1.313323              0.811236    1.109178   \n",
       "2018  1.266601  1.238303     1.268450              0.884477    1.084559   \n",
       "2019  1.355986  1.235542     1.271096              0.965258    1.060297   \n",
       "\n",
       "name  Tanzania, United Republic of  Thailand  Timor-Leste      Togo     Tonga  \\\n",
       "year                                                                            \n",
       "2015                      0.755574  1.465266     1.144456  0.650321  0.692599   \n",
       "2016                      0.735270  1.699547     1.216762  0.719194  0.756809   \n",
       "2017                      0.710896  1.720777     1.254791  0.772973  1.024522   \n",
       "2018                      0.748832  1.757400     1.164961  0.763048  1.027104   \n",
       "2019                      0.796692  1.823083     1.116805  0.756997  0.591705   \n",
       "\n",
       "name  Trinidad and Tobago   Tunisia    Turkey  Turkmenistan  \\\n",
       "year                                                          \n",
       "2015             1.451879  1.263218  0.924087      1.359593   \n",
       "2016             1.476864  1.223721  0.926939      1.460324   \n",
       "2017             1.372914  1.210690  0.947742      1.571615   \n",
       "2018             1.309223  1.240254  0.967283      1.546562   \n",
       "2019             1.421095  1.228286  0.967877      1.523118   \n",
       "\n",
       "name  Turks and Caicos Islands    Tuvalu    Uganda   Ukraine  \\\n",
       "year                                                           \n",
       "2015                  0.686956  0.606785  0.538992  1.344287   \n",
       "2016                  0.656278  0.700332  0.588413  1.259869   \n",
       "2017                  0.629957  0.738825  0.620529  1.242440   \n",
       "2018                  0.605009  0.736309  0.590143  1.207910   \n",
       "2019                  0.582637  0.730194  0.570443  1.234618   \n",
       "\n",
       "name  United Arab Emirates  \\\n",
       "year                         \n",
       "2015              2.007424   \n",
       "2016              2.212521   \n",
       "2017              2.183431   \n",
       "2018              2.199084   \n",
       "2019              2.127739   \n",
       "\n",
       "name  United Kingdom of Great Britain and Northern Ireland  \\\n",
       "year                                                         \n",
       "2015                                           1.217823      \n",
       "2016                                           1.202531      \n",
       "2017                                           1.197417      \n",
       "2018                                           1.196202      \n",
       "2019                                           1.189473      \n",
       "\n",
       "name  United States of America   Uruguay  Uzbekistan   Vanuatu  \\\n",
       "year                                                             \n",
       "2015                  1.191000  1.519329    0.696510  0.633053   \n",
       "2016                  1.225734  1.499810    0.731602  0.773256   \n",
       "2017                  1.230307  1.490269    0.750264  0.785559   \n",
       "2018                  1.291159  1.508590    0.703967  0.844271   \n",
       "2019                  1.285292  1.394233    0.994629  0.870554   \n",
       "\n",
       "name  Venezuela (Bolivarian Republic of)  Viet Nam  Virgin Islands (British)  \\\n",
       "year                                                                           \n",
       "2015                            0.953170  1.301640                  1.947831   \n",
       "2016                            0.897810  1.299308                  1.334947   \n",
       "2017                            0.801612  1.276147                  1.463739   \n",
       "2018                            0.694033  1.485550                  1.318609   \n",
       "2019                            0.572973  1.419969                  1.306762   \n",
       "\n",
       "name  Virgin Islands (U.S.)     Yemen    Zambia  Zimbabwe  \n",
       "year                                                       \n",
       "2015               0.745507  0.526010  0.713924  0.904278  \n",
       "2016               0.746866  0.560224  0.715659  0.892567  \n",
       "2017               0.748502  0.512746  0.774654  0.955861  \n",
       "2018               0.750460  0.496906  0.869034  0.857018  \n",
       "2019               0.752796  0.484995  0.935775  0.859677  "
      ]
     },
     "execution_count": 87,
     "metadata": {},
     "output_type": "execute_result"
    }
   ],
   "source": [
    "pivoted_merged_second_table_df.tail()"
   ]
  },
  {
   "cell_type": "code",
   "execution_count": null,
   "id": "c7557ba7-145b-47e9-9ccc-c752fc69798e",
   "metadata": {},
   "outputs": [],
   "source": []
  },
  {
   "cell_type": "code",
   "execution_count": null,
   "id": "655dff0c-70f4-4a5b-b4c8-3c6273a12af3",
   "metadata": {},
   "outputs": [],
   "source": []
  },
  {
   "cell_type": "markdown",
   "id": "6bae52a3-c870-4966-ad07-b27a89a50489",
   "metadata": {},
   "source": [
    "Select the interesting years and countries."
   ]
  },
  {
   "cell_type": "code",
   "execution_count": 88,
   "id": "c509a262-3399-44ef-b2c8-f8534074a96c",
   "metadata": {},
   "outputs": [],
   "source": [
    "interesting_years = ['2010', '2011', '2012', '2013', '2014', '2015', '2016', '2017', '2018', '2019']"
   ]
  },
  {
   "cell_type": "code",
   "execution_count": 89,
   "id": "4290cad3-5f21-4e54-9e58-22b4495925e2",
   "metadata": {},
   "outputs": [],
   "source": [
    "interesting_countries = ['Macao', 'Hong Kong', 'United Arab Emirates', 'Antigua and Barbuda', 'Seychelles']"
   ]
  },
  {
   "cell_type": "code",
   "execution_count": 90,
   "id": "8faed6d4-f3ab-4976-b93e-1d1d9c8a5530",
   "metadata": {},
   "outputs": [],
   "source": [
    "selected_pivoted_merged_second_table_df = pivoted_merged_second_table_df.loc[interesting_years, interesting_countries].copy()"
   ]
  },
  {
   "cell_type": "code",
   "execution_count": 91,
   "id": "805bec68-d82a-4644-abea-7ad18f1a9aab",
   "metadata": {},
   "outputs": [
    {
     "data": {
      "text/html": [
       "<div>\n",
       "<style scoped>\n",
       "    .dataframe tbody tr th:only-of-type {\n",
       "        vertical-align: middle;\n",
       "    }\n",
       "\n",
       "    .dataframe tbody tr th {\n",
       "        vertical-align: top;\n",
       "    }\n",
       "\n",
       "    .dataframe thead th {\n",
       "        text-align: right;\n",
       "    }\n",
       "</style>\n",
       "<table border=\"1\" class=\"dataframe\">\n",
       "  <thead>\n",
       "    <tr style=\"text-align: right;\">\n",
       "      <th>name</th>\n",
       "      <th>Macao</th>\n",
       "      <th>Hong Kong</th>\n",
       "      <th>United Arab Emirates</th>\n",
       "      <th>Antigua and Barbuda</th>\n",
       "      <th>Seychelles</th>\n",
       "    </tr>\n",
       "    <tr>\n",
       "      <th>year</th>\n",
       "      <th></th>\n",
       "      <th></th>\n",
       "      <th></th>\n",
       "      <th></th>\n",
       "      <th></th>\n",
       "    </tr>\n",
       "  </thead>\n",
       "  <tbody>\n",
       "    <tr>\n",
       "      <th>2010</th>\n",
       "      <td>2.009700</td>\n",
       "      <td>1.964637</td>\n",
       "      <td>1.285109</td>\n",
       "      <td>1.960441</td>\n",
       "      <td>1.314470</td>\n",
       "    </tr>\n",
       "    <tr>\n",
       "      <th>2011</th>\n",
       "      <td>2.364261</td>\n",
       "      <td>2.163584</td>\n",
       "      <td>1.364399</td>\n",
       "      <td>2.029310</td>\n",
       "      <td>1.452408</td>\n",
       "    </tr>\n",
       "    <tr>\n",
       "      <th>2012</th>\n",
       "      <td>2.762687</td>\n",
       "      <td>2.293674</td>\n",
       "      <td>1.592620</td>\n",
       "      <td>1.448548</td>\n",
       "      <td>1.540152</td>\n",
       "    </tr>\n",
       "    <tr>\n",
       "      <th>2013</th>\n",
       "      <td>2.898678</td>\n",
       "      <td>2.368051</td>\n",
       "      <td>1.839612</td>\n",
       "      <td>1.288179</td>\n",
       "      <td>1.523085</td>\n",
       "    </tr>\n",
       "    <tr>\n",
       "      <th>2014</th>\n",
       "      <td>3.078619</td>\n",
       "      <td>2.351477</td>\n",
       "      <td>1.901323</td>\n",
       "      <td>1.344749</td>\n",
       "      <td>1.652820</td>\n",
       "    </tr>\n",
       "    <tr>\n",
       "      <th>2015</th>\n",
       "      <td>3.088231</td>\n",
       "      <td>2.290401</td>\n",
       "      <td>2.007424</td>\n",
       "      <td>1.956838</td>\n",
       "      <td>1.584260</td>\n",
       "    </tr>\n",
       "    <tr>\n",
       "      <th>2016</th>\n",
       "      <td>3.143510</td>\n",
       "      <td>2.398931</td>\n",
       "      <td>2.212521</td>\n",
       "      <td>1.987545</td>\n",
       "      <td>1.605459</td>\n",
       "    </tr>\n",
       "    <tr>\n",
       "      <th>2017</th>\n",
       "      <td>3.210102</td>\n",
       "      <td>2.488773</td>\n",
       "      <td>2.183431</td>\n",
       "      <td>2.019337</td>\n",
       "      <td>1.742433</td>\n",
       "    </tr>\n",
       "    <tr>\n",
       "      <th>2018</th>\n",
       "      <td>3.348741</td>\n",
       "      <td>2.670209</td>\n",
       "      <td>2.199084</td>\n",
       "      <td>2.008164</td>\n",
       "      <td>1.849900</td>\n",
       "    </tr>\n",
       "    <tr>\n",
       "      <th>2019</th>\n",
       "      <td>3.284849</td>\n",
       "      <td>2.863650</td>\n",
       "      <td>2.127739</td>\n",
       "      <td>1.997460</td>\n",
       "      <td>1.987196</td>\n",
       "    </tr>\n",
       "  </tbody>\n",
       "</table>\n",
       "</div>"
      ],
      "text/plain": [
       "name     Macao  Hong Kong  United Arab Emirates  Antigua and Barbuda  \\\n",
       "year                                                                   \n",
       "2010  2.009700   1.964637              1.285109             1.960441   \n",
       "2011  2.364261   2.163584              1.364399             2.029310   \n",
       "2012  2.762687   2.293674              1.592620             1.448548   \n",
       "2013  2.898678   2.368051              1.839612             1.288179   \n",
       "2014  3.078619   2.351477              1.901323             1.344749   \n",
       "2015  3.088231   2.290401              2.007424             1.956838   \n",
       "2016  3.143510   2.398931              2.212521             1.987545   \n",
       "2017  3.210102   2.488773              2.183431             2.019337   \n",
       "2018  3.348741   2.670209              2.199084             2.008164   \n",
       "2019  3.284849   2.863650              2.127739             1.997460   \n",
       "\n",
       "name  Seychelles  \n",
       "year              \n",
       "2010    1.314470  \n",
       "2011    1.452408  \n",
       "2012    1.540152  \n",
       "2013    1.523085  \n",
       "2014    1.652820  \n",
       "2015    1.584260  \n",
       "2016    1.605459  \n",
       "2017    1.742433  \n",
       "2018    1.849900  \n",
       "2019    1.987196  "
      ]
     },
     "execution_count": 91,
     "metadata": {},
     "output_type": "execute_result"
    }
   ],
   "source": [
    "selected_pivoted_merged_second_table_df"
   ]
  },
  {
   "cell_type": "code",
   "execution_count": 92,
   "id": "15879230-1acd-4e27-8e40-9131277bb173",
   "metadata": {},
   "outputs": [
    {
     "data": {
      "text/plain": [
       "'name'"
      ]
     },
     "execution_count": 92,
     "metadata": {},
     "output_type": "execute_result"
    }
   ],
   "source": [
    "selected_pivoted_merged_second_table_df.columns.name"
   ]
  },
  {
   "cell_type": "code",
   "execution_count": 93,
   "id": "d87b0123-dc90-476d-9f50-2455d55c8d0d",
   "metadata": {},
   "outputs": [],
   "source": [
    "selected_pivoted_merged_second_table_df.columns.name = ''"
   ]
  },
  {
   "cell_type": "code",
   "execution_count": 94,
   "id": "72e622c7-d34e-451e-9d5a-46b9bfef8775",
   "metadata": {},
   "outputs": [
    {
     "data": {
      "text/plain": [
       "''"
      ]
     },
     "execution_count": 94,
     "metadata": {},
     "output_type": "execute_result"
    }
   ],
   "source": [
    "selected_pivoted_merged_second_table_df.columns.name"
   ]
  },
  {
   "cell_type": "code",
   "execution_count": 95,
   "id": "dc541701-9a66-4a2f-8fe5-713a13599df4",
   "metadata": {},
   "outputs": [
    {
     "data": {
      "text/html": [
       "<div>\n",
       "<style scoped>\n",
       "    .dataframe tbody tr th:only-of-type {\n",
       "        vertical-align: middle;\n",
       "    }\n",
       "\n",
       "    .dataframe tbody tr th {\n",
       "        vertical-align: top;\n",
       "    }\n",
       "\n",
       "    .dataframe thead th {\n",
       "        text-align: right;\n",
       "    }\n",
       "</style>\n",
       "<table border=\"1\" class=\"dataframe\">\n",
       "  <thead>\n",
       "    <tr style=\"text-align: right;\">\n",
       "      <th></th>\n",
       "      <th>Macao</th>\n",
       "      <th>Hong Kong</th>\n",
       "      <th>United Arab Emirates</th>\n",
       "      <th>Antigua and Barbuda</th>\n",
       "      <th>Seychelles</th>\n",
       "    </tr>\n",
       "    <tr>\n",
       "      <th>year</th>\n",
       "      <th></th>\n",
       "      <th></th>\n",
       "      <th></th>\n",
       "      <th></th>\n",
       "      <th></th>\n",
       "    </tr>\n",
       "  </thead>\n",
       "  <tbody>\n",
       "    <tr>\n",
       "      <th>2010</th>\n",
       "      <td>2.009700</td>\n",
       "      <td>1.964637</td>\n",
       "      <td>1.285109</td>\n",
       "      <td>1.960441</td>\n",
       "      <td>1.314470</td>\n",
       "    </tr>\n",
       "    <tr>\n",
       "      <th>2011</th>\n",
       "      <td>2.364261</td>\n",
       "      <td>2.163584</td>\n",
       "      <td>1.364399</td>\n",
       "      <td>2.029310</td>\n",
       "      <td>1.452408</td>\n",
       "    </tr>\n",
       "    <tr>\n",
       "      <th>2012</th>\n",
       "      <td>2.762687</td>\n",
       "      <td>2.293674</td>\n",
       "      <td>1.592620</td>\n",
       "      <td>1.448548</td>\n",
       "      <td>1.540152</td>\n",
       "    </tr>\n",
       "    <tr>\n",
       "      <th>2013</th>\n",
       "      <td>2.898678</td>\n",
       "      <td>2.368051</td>\n",
       "      <td>1.839612</td>\n",
       "      <td>1.288179</td>\n",
       "      <td>1.523085</td>\n",
       "    </tr>\n",
       "    <tr>\n",
       "      <th>2014</th>\n",
       "      <td>3.078619</td>\n",
       "      <td>2.351477</td>\n",
       "      <td>1.901323</td>\n",
       "      <td>1.344749</td>\n",
       "      <td>1.652820</td>\n",
       "    </tr>\n",
       "    <tr>\n",
       "      <th>2015</th>\n",
       "      <td>3.088231</td>\n",
       "      <td>2.290401</td>\n",
       "      <td>2.007424</td>\n",
       "      <td>1.956838</td>\n",
       "      <td>1.584260</td>\n",
       "    </tr>\n",
       "    <tr>\n",
       "      <th>2016</th>\n",
       "      <td>3.143510</td>\n",
       "      <td>2.398931</td>\n",
       "      <td>2.212521</td>\n",
       "      <td>1.987545</td>\n",
       "      <td>1.605459</td>\n",
       "    </tr>\n",
       "    <tr>\n",
       "      <th>2017</th>\n",
       "      <td>3.210102</td>\n",
       "      <td>2.488773</td>\n",
       "      <td>2.183431</td>\n",
       "      <td>2.019337</td>\n",
       "      <td>1.742433</td>\n",
       "    </tr>\n",
       "    <tr>\n",
       "      <th>2018</th>\n",
       "      <td>3.348741</td>\n",
       "      <td>2.670209</td>\n",
       "      <td>2.199084</td>\n",
       "      <td>2.008164</td>\n",
       "      <td>1.849900</td>\n",
       "    </tr>\n",
       "    <tr>\n",
       "      <th>2019</th>\n",
       "      <td>3.284849</td>\n",
       "      <td>2.863650</td>\n",
       "      <td>2.127739</td>\n",
       "      <td>1.997460</td>\n",
       "      <td>1.987196</td>\n",
       "    </tr>\n",
       "  </tbody>\n",
       "</table>\n",
       "</div>"
      ],
      "text/plain": [
       "         Macao  Hong Kong  United Arab Emirates  Antigua and Barbuda  \\\n",
       "year                                                                   \n",
       "2010  2.009700   1.964637              1.285109             1.960441   \n",
       "2011  2.364261   2.163584              1.364399             2.029310   \n",
       "2012  2.762687   2.293674              1.592620             1.448548   \n",
       "2013  2.898678   2.368051              1.839612             1.288179   \n",
       "2014  3.078619   2.351477              1.901323             1.344749   \n",
       "2015  3.088231   2.290401              2.007424             1.956838   \n",
       "2016  3.143510   2.398931              2.212521             1.987545   \n",
       "2017  3.210102   2.488773              2.183431             2.019337   \n",
       "2018  3.348741   2.670209              2.199084             2.008164   \n",
       "2019  3.284849   2.863650              2.127739             1.997460   \n",
       "\n",
       "      Seychelles  \n",
       "year              \n",
       "2010    1.314470  \n",
       "2011    1.452408  \n",
       "2012    1.540152  \n",
       "2013    1.523085  \n",
       "2014    1.652820  \n",
       "2015    1.584260  \n",
       "2016    1.605459  \n",
       "2017    1.742433  \n",
       "2018    1.849900  \n",
       "2019    1.987196  "
      ]
     },
     "execution_count": 95,
     "metadata": {},
     "output_type": "execute_result"
    }
   ],
   "source": [
    "selected_pivoted_merged_second_table_df"
   ]
  },
  {
   "cell_type": "code",
   "execution_count": 96,
   "id": "fed61149-e727-4067-a588-6baddc9275dc",
   "metadata": {},
   "outputs": [],
   "source": [
    "second_table_years = ['2015', '2016', '2017', '2018', '2019']"
   ]
  },
  {
   "cell_type": "code",
   "execution_count": 97,
   "id": "46b3700a-91dd-4fc0-a2d5-5fac46e5a160",
   "metadata": {},
   "outputs": [],
   "source": [
    "reduced_selected_pivoted_merged_second_table_df = selected_pivoted_merged_second_table_df.loc[second_table_years,:]"
   ]
  },
  {
   "cell_type": "code",
   "execution_count": 98,
   "id": "035ed67b-203a-49bd-a431-df6ca42b8192",
   "metadata": {},
   "outputs": [],
   "source": [
    "resetted_reduced_selected_pivoted_merged_second_table_df = reduced_selected_pivoted_merged_second_table_df.reset_index()"
   ]
  },
  {
   "cell_type": "markdown",
   "id": "49bd0d44-b671-41eb-ad2b-a79023f4c05b",
   "metadata": {},
   "source": [
    "\n",
    "#### Second table\n"
   ]
  },
  {
   "cell_type": "code",
   "execution_count": 99,
   "id": "9486d340-d11d-4f0d-84d9-4d223048d3e1",
   "metadata": {},
   "outputs": [
    {
     "data": {
      "text/html": [
       "<style type=\"text/css\">\n",
       "</style>\n",
       "<table id=\"T_1a4b4\">\n",
       "  <thead>\n",
       "    <tr>\n",
       "      <th id=\"T_1a4b4_level0_col0\" class=\"col_heading level0 col0\" >year</th>\n",
       "      <th id=\"T_1a4b4_level0_col1\" class=\"col_heading level0 col1\" >Macao</th>\n",
       "      <th id=\"T_1a4b4_level0_col2\" class=\"col_heading level0 col2\" >Hong Kong</th>\n",
       "      <th id=\"T_1a4b4_level0_col3\" class=\"col_heading level0 col3\" >United Arab Emirates</th>\n",
       "      <th id=\"T_1a4b4_level0_col4\" class=\"col_heading level0 col4\" >Antigua and Barbuda</th>\n",
       "      <th id=\"T_1a4b4_level0_col5\" class=\"col_heading level0 col5\" >Seychelles</th>\n",
       "    </tr>\n",
       "  </thead>\n",
       "  <tbody>\n",
       "    <tr>\n",
       "      <td id=\"T_1a4b4_row0_col0\" class=\"data row0 col0\" >2015</td>\n",
       "      <td id=\"T_1a4b4_row0_col1\" class=\"data row0 col1\" >3.088231</td>\n",
       "      <td id=\"T_1a4b4_row0_col2\" class=\"data row0 col2\" >2.290401</td>\n",
       "      <td id=\"T_1a4b4_row0_col3\" class=\"data row0 col3\" >2.007424</td>\n",
       "      <td id=\"T_1a4b4_row0_col4\" class=\"data row0 col4\" >1.956838</td>\n",
       "      <td id=\"T_1a4b4_row0_col5\" class=\"data row0 col5\" >1.584260</td>\n",
       "    </tr>\n",
       "    <tr>\n",
       "      <td id=\"T_1a4b4_row1_col0\" class=\"data row1 col0\" >2016</td>\n",
       "      <td id=\"T_1a4b4_row1_col1\" class=\"data row1 col1\" >3.143510</td>\n",
       "      <td id=\"T_1a4b4_row1_col2\" class=\"data row1 col2\" >2.398931</td>\n",
       "      <td id=\"T_1a4b4_row1_col3\" class=\"data row1 col3\" >2.212521</td>\n",
       "      <td id=\"T_1a4b4_row1_col4\" class=\"data row1 col4\" >1.987545</td>\n",
       "      <td id=\"T_1a4b4_row1_col5\" class=\"data row1 col5\" >1.605459</td>\n",
       "    </tr>\n",
       "    <tr>\n",
       "      <td id=\"T_1a4b4_row2_col0\" class=\"data row2 col0\" >2017</td>\n",
       "      <td id=\"T_1a4b4_row2_col1\" class=\"data row2 col1\" >3.210102</td>\n",
       "      <td id=\"T_1a4b4_row2_col2\" class=\"data row2 col2\" >2.488773</td>\n",
       "      <td id=\"T_1a4b4_row2_col3\" class=\"data row2 col3\" >2.183431</td>\n",
       "      <td id=\"T_1a4b4_row2_col4\" class=\"data row2 col4\" >2.019337</td>\n",
       "      <td id=\"T_1a4b4_row2_col5\" class=\"data row2 col5\" >1.742433</td>\n",
       "    </tr>\n",
       "    <tr>\n",
       "      <td id=\"T_1a4b4_row3_col0\" class=\"data row3 col0\" >2018</td>\n",
       "      <td id=\"T_1a4b4_row3_col1\" class=\"data row3 col1\" >3.348741</td>\n",
       "      <td id=\"T_1a4b4_row3_col2\" class=\"data row3 col2\" >2.670209</td>\n",
       "      <td id=\"T_1a4b4_row3_col3\" class=\"data row3 col3\" >2.199084</td>\n",
       "      <td id=\"T_1a4b4_row3_col4\" class=\"data row3 col4\" >2.008164</td>\n",
       "      <td id=\"T_1a4b4_row3_col5\" class=\"data row3 col5\" >1.849900</td>\n",
       "    </tr>\n",
       "    <tr>\n",
       "      <td id=\"T_1a4b4_row4_col0\" class=\"data row4 col0\" >2019</td>\n",
       "      <td id=\"T_1a4b4_row4_col1\" class=\"data row4 col1\" >3.284849</td>\n",
       "      <td id=\"T_1a4b4_row4_col2\" class=\"data row4 col2\" >2.863650</td>\n",
       "      <td id=\"T_1a4b4_row4_col3\" class=\"data row4 col3\" >2.127739</td>\n",
       "      <td id=\"T_1a4b4_row4_col4\" class=\"data row4 col4\" >1.997460</td>\n",
       "      <td id=\"T_1a4b4_row4_col5\" class=\"data row4 col5\" >1.987196</td>\n",
       "    </tr>\n",
       "  </tbody>\n",
       "</table>\n"
      ],
      "text/plain": [
       "<pandas.io.formats.style.Styler at 0x23e3b4c8550>"
      ]
     },
     "execution_count": 99,
     "metadata": {},
     "output_type": "execute_result"
    }
   ],
   "source": [
    "resetted_reduced_selected_pivoted_merged_second_table_df.style\\\n",
    "                        .hide(axis='index')"
   ]
  },
  {
   "cell_type": "markdown",
   "id": "2452fbf7-6c2f-4862-b886-715cc66c409f",
   "metadata": {},
   "source": [
    "The plot"
   ]
  },
  {
   "cell_type": "code",
   "execution_count": 100,
   "id": "b05fcf8b-6632-48fa-89cf-2ee6d2322419",
   "metadata": {},
   "outputs": [],
   "source": [
    "x_years = selected_pivoted_merged_second_table_df.index"
   ]
  },
  {
   "cell_type": "code",
   "execution_count": 101,
   "id": "85648ab4-2cbd-40e1-ad7f-c76d990997a9",
   "metadata": {},
   "outputs": [
    {
     "data": {
      "text/plain": [
       "Index(['2010', '2011', '2012', '2013', '2014', '2015', '2016', '2017', '2018',\n",
       "       '2019'],\n",
       "      dtype='object', name='year')"
      ]
     },
     "execution_count": 101,
     "metadata": {},
     "output_type": "execute_result"
    }
   ],
   "source": [
    "x_years"
   ]
  },
  {
   "cell_type": "code",
   "execution_count": 102,
   "id": "3de99f70-3fcf-423c-b329-936e24cd038b",
   "metadata": {},
   "outputs": [],
   "source": [
    "y_M = selected_pivoted_merged_second_table_df['Macao']"
   ]
  },
  {
   "cell_type": "code",
   "execution_count": 103,
   "id": "e19390e8-d4b7-42ea-bd14-c34fa21adb57",
   "metadata": {},
   "outputs": [
    {
     "data": {
      "text/plain": [
       "year\n",
       "2010    2.009700\n",
       "2011    2.364261\n",
       "2012    2.762687\n",
       "2013    2.898678\n",
       "2014    3.078619\n",
       "2015    3.088231\n",
       "2016    3.143510\n",
       "2017    3.210102\n",
       "2018    3.348741\n",
       "2019    3.284849\n",
       "Name: Macao, dtype: float64"
      ]
     },
     "execution_count": 103,
     "metadata": {},
     "output_type": "execute_result"
    }
   ],
   "source": [
    "y_M"
   ]
  },
  {
   "cell_type": "code",
   "execution_count": 104,
   "id": "cc4bd0bd-0d64-4bc1-8392-fc233b3ffeca",
   "metadata": {},
   "outputs": [],
   "source": [
    "y_HK = selected_pivoted_merged_second_table_df['Hong Kong']"
   ]
  },
  {
   "cell_type": "code",
   "execution_count": 105,
   "id": "04aebb68-57a0-479b-8702-1a62f7b410f8",
   "metadata": {},
   "outputs": [],
   "source": [
    "y_UAE = selected_pivoted_merged_second_table_df['United Arab Emirates']"
   ]
  },
  {
   "cell_type": "code",
   "execution_count": 106,
   "id": "2d8368ac-36e7-4c46-aaef-dfb5e7583f91",
   "metadata": {},
   "outputs": [],
   "source": [
    "y_AaB = selected_pivoted_merged_second_table_df['Antigua and Barbuda']"
   ]
  },
  {
   "cell_type": "code",
   "execution_count": 107,
   "id": "f4602717-349f-4a03-8a0f-8b139c619319",
   "metadata": {},
   "outputs": [],
   "source": [
    "y_S = selected_pivoted_merged_second_table_df['Seychelles']"
   ]
  },
  {
   "cell_type": "markdown",
   "id": "79336f9f-d206-49db-80e2-529adce5447b",
   "metadata": {},
   "source": [
    "\n",
    "#### Plot of growth rates\n"
   ]
  },
  {
   "cell_type": "code",
   "execution_count": 108,
   "id": "9e6076e7-51fa-4ae0-b8da-15deeaf9d877",
   "metadata": {},
   "outputs": [
    {
     "data": {
      "image/png": "[encoded data removed]",
      "text/plain": [
       "<Figure size 1400x700 with 1 Axes>"
      ]
     },
     "metadata": {},
     "output_type": "display_data"
    }
   ],
   "source": [
    "fig, axs = plt.subplots(figsize= (14,7))\n",
    "axs.plot(x_years, y_M, label='Macao')\n",
    "axs.plot(x_years, y_HK, label='Hong Kong')\n",
    "axs.plot(x_years, y_UAE, label='United Arab Emirates')\n",
    "axs.plot(x_years, y_AaB, label='Antigua and Barbuda')\n",
    "axs.plot(x_years, y_S, label='Seychelles')\n",
    "axs.set_title('Cell phones per capita')\n",
    "axs.grid()\n",
    "axs.legend();"
   ]
  },
  {
   "cell_type": "code",
   "execution_count": 109,
   "id": "e92eb34d-1532-4d4a-a014-8a3c10f003b6",
   "metadata": {},
   "outputs": [],
   "source": [
    "#  = merged_second_table_df.pivot(index='year', columns='name', values='phones_per_capita')"
   ]
  },
  {
   "cell_type": "code",
   "execution_count": 110,
   "id": "f4c146e3-9158-4bd2-86c8-97a14853deaf",
   "metadata": {},
   "outputs": [],
   "source": [
    "# pivoted_merged_second_table_df.tail()"
   ]
  },
  {
   "cell_type": "code",
   "execution_count": 111,
   "id": "3bb90d4b-a225-4f47-9e9e-f665dd424d25",
   "metadata": {},
   "outputs": [],
   "source": [
    "single_indexed_merged_second_table_df = merged_second_table_df.set_index('year')"
   ]
  },
  {
   "cell_type": "code",
   "execution_count": 112,
   "id": "ce65ec37-68b8-41bc-af6b-17bc0a04efa5",
   "metadata": {},
   "outputs": [
    {
     "data": {
      "text/html": [
       "<div>\n",
       "<style scoped>\n",
       "    .dataframe tbody tr th:only-of-type {\n",
       "        vertical-align: middle;\n",
       "    }\n",
       "\n",
       "    .dataframe tbody tr th {\n",
       "        vertical-align: top;\n",
       "    }\n",
       "\n",
       "    .dataframe thead th {\n",
       "        text-align: right;\n",
       "    }\n",
       "</style>\n",
       "<table border=\"1\" class=\"dataframe\">\n",
       "  <thead>\n",
       "    <tr style=\"text-align: right;\">\n",
       "      <th></th>\n",
       "      <th>phones_per_capita</th>\n",
       "      <th>name</th>\n",
       "    </tr>\n",
       "    <tr>\n",
       "      <th>year</th>\n",
       "      <th></th>\n",
       "      <th></th>\n",
       "    </tr>\n",
       "  </thead>\n",
       "  <tbody>\n",
       "    <tr>\n",
       "      <th>2019</th>\n",
       "      <td>0.585168</td>\n",
       "      <td>Samoa</td>\n",
       "    </tr>\n",
       "    <tr>\n",
       "      <th>2019</th>\n",
       "      <td>0.484995</td>\n",
       "      <td>Yemen</td>\n",
       "    </tr>\n",
       "    <tr>\n",
       "      <th>2019</th>\n",
       "      <td>1.669907</td>\n",
       "      <td>South Africa</td>\n",
       "    </tr>\n",
       "    <tr>\n",
       "      <th>2019</th>\n",
       "      <td>0.935775</td>\n",
       "      <td>Zambia</td>\n",
       "    </tr>\n",
       "    <tr>\n",
       "      <th>2019</th>\n",
       "      <td>0.859677</td>\n",
       "      <td>Zimbabwe</td>\n",
       "    </tr>\n",
       "  </tbody>\n",
       "</table>\n",
       "</div>"
      ],
      "text/plain": [
       "      phones_per_capita          name\n",
       "year                                 \n",
       "2019           0.585168         Samoa\n",
       "2019           0.484995         Yemen\n",
       "2019           1.669907  South Africa\n",
       "2019           0.935775        Zambia\n",
       "2019           0.859677      Zimbabwe"
      ]
     },
     "execution_count": 112,
     "metadata": {},
     "output_type": "execute_result"
    }
   ],
   "source": [
    "single_indexed_merged_second_table_df.tail()"
   ]
  },
  {
   "cell_type": "code",
   "execution_count": 113,
   "id": "127d5fa4-a575-4c72-8e99-b89b92450cf1",
   "metadata": {},
   "outputs": [],
   "source": [
    "indexed_merged_second_table_df = merged_second_table_df.set_index(['year', 'name'])"
   ]
  },
  {
   "cell_type": "code",
   "execution_count": 114,
   "id": "3cf44c8e-5b36-45dd-8e91-fc4d7ff552d6",
   "metadata": {},
   "outputs": [
    {
     "data": {
      "text/html": [
       "<div>\n",
       "<style scoped>\n",
       "    .dataframe tbody tr th:only-of-type {\n",
       "        vertical-align: middle;\n",
       "    }\n",
       "\n",
       "    .dataframe tbody tr th {\n",
       "        vertical-align: top;\n",
       "    }\n",
       "\n",
       "    .dataframe thead th {\n",
       "        text-align: right;\n",
       "    }\n",
       "</style>\n",
       "<table border=\"1\" class=\"dataframe\">\n",
       "  <thead>\n",
       "    <tr style=\"text-align: right;\">\n",
       "      <th></th>\n",
       "      <th></th>\n",
       "      <th>phones_per_capita</th>\n",
       "    </tr>\n",
       "    <tr>\n",
       "      <th>year</th>\n",
       "      <th>name</th>\n",
       "      <th></th>\n",
       "    </tr>\n",
       "  </thead>\n",
       "  <tbody>\n",
       "    <tr>\n",
       "      <th rowspan=\"5\" valign=\"top\">1960</th>\n",
       "      <th>Aruba</th>\n",
       "      <td>0.000000</td>\n",
       "    </tr>\n",
       "    <tr>\n",
       "      <th>Afghanistan</th>\n",
       "      <td>0.000000</td>\n",
       "    </tr>\n",
       "    <tr>\n",
       "      <th>Angola</th>\n",
       "      <td>0.000000</td>\n",
       "    </tr>\n",
       "    <tr>\n",
       "      <th>Albania</th>\n",
       "      <td>0.000000</td>\n",
       "    </tr>\n",
       "    <tr>\n",
       "      <th>Andorra</th>\n",
       "      <td>0.000000</td>\n",
       "    </tr>\n",
       "    <tr>\n",
       "      <th>...</th>\n",
       "      <th>...</th>\n",
       "      <td>...</td>\n",
       "    </tr>\n",
       "    <tr>\n",
       "      <th rowspan=\"5\" valign=\"top\">2019</th>\n",
       "      <th>Samoa</th>\n",
       "      <td>0.585168</td>\n",
       "    </tr>\n",
       "    <tr>\n",
       "      <th>Yemen</th>\n",
       "      <td>0.484995</td>\n",
       "    </tr>\n",
       "    <tr>\n",
       "      <th>South Africa</th>\n",
       "      <td>1.669907</td>\n",
       "    </tr>\n",
       "    <tr>\n",
       "      <th>Zambia</th>\n",
       "      <td>0.935775</td>\n",
       "    </tr>\n",
       "    <tr>\n",
       "      <th>Zimbabwe</th>\n",
       "      <td>0.859677</td>\n",
       "    </tr>\n",
       "  </tbody>\n",
       "</table>\n",
       "<p>11902 rows × 1 columns</p>\n",
       "</div>"
      ],
      "text/plain": [
       "                   phones_per_capita\n",
       "year name                           \n",
       "1960 Aruba                  0.000000\n",
       "     Afghanistan            0.000000\n",
       "     Angola                 0.000000\n",
       "     Albania                0.000000\n",
       "     Andorra                0.000000\n",
       "...                              ...\n",
       "2019 Samoa                  0.585168\n",
       "     Yemen                  0.484995\n",
       "     South Africa           1.669907\n",
       "     Zambia                 0.935775\n",
       "     Zimbabwe               0.859677\n",
       "\n",
       "[11902 rows x 1 columns]"
      ]
     },
     "execution_count": 114,
     "metadata": {},
     "output_type": "execute_result"
    }
   ],
   "source": [
    "indexed_merged_second_table_df"
   ]
  },
  {
   "cell_type": "code",
   "execution_count": 115,
   "id": "11f55042-cd82-43c7-a0d6-42c8d30770d0",
   "metadata": {},
   "outputs": [
    {
     "name": "stdout",
     "output_type": "stream",
     "text": [
      "<class 'pandas.core.frame.DataFrame'>\n",
      "MultiIndex: 11902 entries, ('1960', 'Aruba') to ('2019', 'Zimbabwe')\n",
      "Data columns (total 1 columns):\n",
      " #   Column             Non-Null Count  Dtype  \n",
      "---  ------             --------------  -----  \n",
      " 0   phones_per_capita  11902 non-null  float64\n",
      "dtypes: float64(1)\n",
      "memory usage: 140.2+ KB\n"
     ]
    }
   ],
   "source": [
    "indexed_merged_second_table_df.info()"
   ]
  },
  {
   "cell_type": "code",
   "execution_count": 116,
   "id": "a765dcdc-aa32-48cb-af72-68cc07f344d3",
   "metadata": {},
   "outputs": [],
   "source": [
    "unstacked_indexed_merged_second_table_df = indexed_merged_second_table_df.unstack()"
   ]
  },
  {
   "cell_type": "code",
   "execution_count": 117,
   "id": "78839b83-d742-401d-a751-30bede7df43f",
   "metadata": {},
   "outputs": [
    {
     "name": "stdout",
     "output_type": "stream",
     "text": [
      "<class 'pandas.core.frame.DataFrame'>\n",
      "Index: 56 entries, 1960 to 2019\n",
      "Columns: 213 entries, ('phones_per_capita', 'Afghanistan') to ('phones_per_capita', 'Zimbabwe')\n",
      "dtypes: float64(213)\n",
      "memory usage: 93.6+ KB\n"
     ]
    }
   ],
   "source": [
    "unstacked_indexed_merged_second_table_df.info()"
   ]
  },
  {
   "cell_type": "code",
   "execution_count": 118,
   "id": "8db05845-5604-4568-a9c5-0ef6cf33dc88",
   "metadata": {},
   "outputs": [
    {
     "data": {
      "text/plain": [
       "FrozenList([None, 'name'])"
      ]
     },
     "execution_count": 118,
     "metadata": {},
     "output_type": "execute_result"
    }
   ],
   "source": [
    "unstacked_indexed_merged_second_table_df.columns.names # hur få fram \"phones_per_capita\" ? values ?"
   ]
  },
  {
   "cell_type": "code",
   "execution_count": 119,
   "id": "0d4050e8-2275-491e-acbe-b6faa1f39704",
   "metadata": {},
   "outputs": [],
   "source": [
    "unstacked_indexed_merged_second_table_df.columns.names = ['Col-level 0','Country name'] # hur få fram \"phones_per_capita\" ? values ?"
   ]
  },
  {
   "cell_type": "code",
   "execution_count": 120,
   "id": "821ef6e3-e8e6-4772-9283-0860efa7dacc",
   "metadata": {},
   "outputs": [
    {
     "data": {
      "text/plain": [
       "FrozenList(['Col-level 0', 'Country name'])"
      ]
     },
     "execution_count": 120,
     "metadata": {},
     "output_type": "execute_result"
    }
   ],
   "source": [
    "unstacked_indexed_merged_second_table_df.columns.names # hur få fram \"phones_per_capita\" ? values ?"
   ]
  },
  {
   "cell_type": "code",
   "execution_count": 121,
   "id": "f5b54886-33c0-4230-bf71-42fca73f712e",
   "metadata": {},
   "outputs": [
    {
     "data": {
      "text/plain": [
       "array([[0.        , 0.        , 0.        , ..., 0.        , 0.        ,\n",
       "        0.        ],\n",
       "       [0.        , 0.        , 0.        , ..., 0.        , 0.        ,\n",
       "        0.        ],\n",
       "       [0.        , 0.        , 0.        , ..., 0.        , 0.        ,\n",
       "        0.        ],\n",
       "       ...,\n",
       "       [0.67053053, 1.2632867 , 1.11336523, ..., 0.51274557, 0.77465361,\n",
       "        0.95586085],\n",
       "       [0.59967099, 0.9454447 , 1.12576602, ..., 0.4969063 , 0.86903414,\n",
       "        0.85701849],\n",
       "       [0.59836642, 0.921452  , 1.10290585, ..., 0.4849954 , 0.9357755 ,\n",
       "        0.85967678]], shape=(56, 213))"
      ]
     },
     "execution_count": 121,
     "metadata": {},
     "output_type": "execute_result"
    }
   ],
   "source": [
    "unstacked_indexed_merged_second_table_df.values # hur få fram \"phones_per_capita\" ? values ?"
   ]
  },
  {
   "cell_type": "code",
   "execution_count": 122,
   "id": "92c269f5-3afd-4f17-bf4f-203ba2945672",
   "metadata": {},
   "outputs": [],
   "source": [
    "interesting_years = ['2015', '2016', '2017', '2018', '2019']"
   ]
  },
  {
   "cell_type": "code",
   "execution_count": 123,
   "id": "6343d566-1c06-49f6-b022-acb7903dbc32",
   "metadata": {},
   "outputs": [],
   "source": [
    "# interesting_countries = ['Macao', 'Hong Kong', 'United Arab Emirates', 'Antigua and Barbuda', 'Seychelles']"
   ]
  },
  {
   "cell_type": "code",
   "execution_count": 124,
   "id": "e79ed813-b55a-451b-be1d-d417dceae628",
   "metadata": {},
   "outputs": [],
   "source": [
    "interesting_countries = [('phones_per_capita' , 'Macao'), ('phones_per_capita' ,'Hong Kong') , \n",
    "                         ('phones_per_capita' ,'United Arab Emirates') , ('phones_per_capita' ,'Antigua and Barbuda') , \n",
    "                         ('phones_per_capita' ,'Seychelles')]"
   ]
  },
  {
   "cell_type": "code",
   "execution_count": 125,
   "id": "2211bc07-92ac-43d0-b947-132857495e2a",
   "metadata": {},
   "outputs": [],
   "source": [
    "# part_interesting_countries = ['Macao',  'Seychelles']"
   ]
  },
  {
   "cell_type": "code",
   "execution_count": 126,
   "id": "008c9786-3d73-4d38-9c78-7097984a0147",
   "metadata": {},
   "outputs": [
    {
     "data": {
      "text/plain": [
       "year\n",
       "2015    3.088231\n",
       "2016    3.143510\n",
       "2017    3.210102\n",
       "2018    3.348741\n",
       "2019    3.284849\n",
       "Name: (phones_per_capita, Macao), dtype: float64"
      ]
     },
     "execution_count": 126,
     "metadata": {},
     "output_type": "execute_result"
    }
   ],
   "source": [
    "unstacked_indexed_merged_second_table_df.loc[interesting_years , ('phones_per_capita' , 'Macao')]"
   ]
  },
  {
   "cell_type": "code",
   "execution_count": 127,
   "id": "3f173fe0-1004-42e4-81aa-d9e671330ff2",
   "metadata": {},
   "outputs": [
    {
     "data": {
      "text/html": [
       "<div>\n",
       "<style scoped>\n",
       "    .dataframe tbody tr th:only-of-type {\n",
       "        vertical-align: middle;\n",
       "    }\n",
       "\n",
       "    .dataframe tbody tr th {\n",
       "        vertical-align: top;\n",
       "    }\n",
       "\n",
       "    .dataframe thead tr th {\n",
       "        text-align: left;\n",
       "    }\n",
       "\n",
       "    .dataframe thead tr:last-of-type th {\n",
       "        text-align: right;\n",
       "    }\n",
       "</style>\n",
       "<table border=\"1\" class=\"dataframe\">\n",
       "  <thead>\n",
       "    <tr>\n",
       "      <th>Col-level 0</th>\n",
       "      <th colspan=\"5\" halign=\"left\">phones_per_capita</th>\n",
       "    </tr>\n",
       "    <tr>\n",
       "      <th>Country name</th>\n",
       "      <th>Macao</th>\n",
       "      <th>Hong Kong</th>\n",
       "      <th>United Arab Emirates</th>\n",
       "      <th>Antigua and Barbuda</th>\n",
       "      <th>Seychelles</th>\n",
       "    </tr>\n",
       "    <tr>\n",
       "      <th>year</th>\n",
       "      <th></th>\n",
       "      <th></th>\n",
       "      <th></th>\n",
       "      <th></th>\n",
       "      <th></th>\n",
       "    </tr>\n",
       "  </thead>\n",
       "  <tbody>\n",
       "    <tr>\n",
       "      <th>2015</th>\n",
       "      <td>3.088231</td>\n",
       "      <td>2.290401</td>\n",
       "      <td>2.007424</td>\n",
       "      <td>1.956838</td>\n",
       "      <td>1.584260</td>\n",
       "    </tr>\n",
       "    <tr>\n",
       "      <th>2016</th>\n",
       "      <td>3.143510</td>\n",
       "      <td>2.398931</td>\n",
       "      <td>2.212521</td>\n",
       "      <td>1.987545</td>\n",
       "      <td>1.605459</td>\n",
       "    </tr>\n",
       "    <tr>\n",
       "      <th>2017</th>\n",
       "      <td>3.210102</td>\n",
       "      <td>2.488773</td>\n",
       "      <td>2.183431</td>\n",
       "      <td>2.019337</td>\n",
       "      <td>1.742433</td>\n",
       "    </tr>\n",
       "    <tr>\n",
       "      <th>2018</th>\n",
       "      <td>3.348741</td>\n",
       "      <td>2.670209</td>\n",
       "      <td>2.199084</td>\n",
       "      <td>2.008164</td>\n",
       "      <td>1.849900</td>\n",
       "    </tr>\n",
       "    <tr>\n",
       "      <th>2019</th>\n",
       "      <td>3.284849</td>\n",
       "      <td>2.863650</td>\n",
       "      <td>2.127739</td>\n",
       "      <td>1.997460</td>\n",
       "      <td>1.987196</td>\n",
       "    </tr>\n",
       "  </tbody>\n",
       "</table>\n",
       "</div>"
      ],
      "text/plain": [
       "Col-level 0  phones_per_capita                                 \\\n",
       "Country name             Macao Hong Kong United Arab Emirates   \n",
       "year                                                            \n",
       "2015                  3.088231  2.290401             2.007424   \n",
       "2016                  3.143510  2.398931             2.212521   \n",
       "2017                  3.210102  2.488773             2.183431   \n",
       "2018                  3.348741  2.670209             2.199084   \n",
       "2019                  3.284849  2.863650             2.127739   \n",
       "\n",
       "Col-level 0                                  \n",
       "Country name Antigua and Barbuda Seychelles  \n",
       "year                                         \n",
       "2015                    1.956838   1.584260  \n",
       "2016                    1.987545   1.605459  \n",
       "2017                    2.019337   1.742433  \n",
       "2018                    2.008164   1.849900  \n",
       "2019                    1.997460   1.987196  "
      ]
     },
     "execution_count": 127,
     "metadata": {},
     "output_type": "execute_result"
    }
   ],
   "source": [
    "unstacked_indexed_merged_second_table_df.loc[interesting_years , interesting_countries]"
   ]
  },
  {
   "cell_type": "code",
   "execution_count": 128,
   "id": "ea2b57ee-e67b-45a8-aeab-5d11631e26b7",
   "metadata": {},
   "outputs": [],
   "source": [
    "resetted_unstacked_indexed_merged_second_table_df =\\\n",
    "unstacked_indexed_merged_second_table_df.loc[interesting_years , interesting_countries].reset_index(col_level=1, col_fill='phones_per_capita')"
   ]
  },
  {
   "cell_type": "code",
   "execution_count": 129,
   "id": "57be5b45-ec2a-44cc-9495-698ceedcc30d",
   "metadata": {},
   "outputs": [
    {
     "data": {
      "text/html": [
       "<div>\n",
       "<style scoped>\n",
       "    .dataframe tbody tr th:only-of-type {\n",
       "        vertical-align: middle;\n",
       "    }\n",
       "\n",
       "    .dataframe tbody tr th {\n",
       "        vertical-align: top;\n",
       "    }\n",
       "\n",
       "    .dataframe thead tr th {\n",
       "        text-align: left;\n",
       "    }\n",
       "</style>\n",
       "<table border=\"1\" class=\"dataframe\">\n",
       "  <thead>\n",
       "    <tr>\n",
       "      <th>Col-level 0</th>\n",
       "      <th colspan=\"6\" halign=\"left\">phones_per_capita</th>\n",
       "    </tr>\n",
       "    <tr>\n",
       "      <th>Country name</th>\n",
       "      <th>year</th>\n",
       "      <th>Macao</th>\n",
       "      <th>Hong Kong</th>\n",
       "      <th>United Arab Emirates</th>\n",
       "      <th>Antigua and Barbuda</th>\n",
       "      <th>Seychelles</th>\n",
       "    </tr>\n",
       "  </thead>\n",
       "  <tbody>\n",
       "    <tr>\n",
       "      <th>0</th>\n",
       "      <td>2015</td>\n",
       "      <td>3.088231</td>\n",
       "      <td>2.290401</td>\n",
       "      <td>2.007424</td>\n",
       "      <td>1.956838</td>\n",
       "      <td>1.584260</td>\n",
       "    </tr>\n",
       "    <tr>\n",
       "      <th>1</th>\n",
       "      <td>2016</td>\n",
       "      <td>3.143510</td>\n",
       "      <td>2.398931</td>\n",
       "      <td>2.212521</td>\n",
       "      <td>1.987545</td>\n",
       "      <td>1.605459</td>\n",
       "    </tr>\n",
       "    <tr>\n",
       "      <th>2</th>\n",
       "      <td>2017</td>\n",
       "      <td>3.210102</td>\n",
       "      <td>2.488773</td>\n",
       "      <td>2.183431</td>\n",
       "      <td>2.019337</td>\n",
       "      <td>1.742433</td>\n",
       "    </tr>\n",
       "    <tr>\n",
       "      <th>3</th>\n",
       "      <td>2018</td>\n",
       "      <td>3.348741</td>\n",
       "      <td>2.670209</td>\n",
       "      <td>2.199084</td>\n",
       "      <td>2.008164</td>\n",
       "      <td>1.849900</td>\n",
       "    </tr>\n",
       "    <tr>\n",
       "      <th>4</th>\n",
       "      <td>2019</td>\n",
       "      <td>3.284849</td>\n",
       "      <td>2.863650</td>\n",
       "      <td>2.127739</td>\n",
       "      <td>1.997460</td>\n",
       "      <td>1.987196</td>\n",
       "    </tr>\n",
       "  </tbody>\n",
       "</table>\n",
       "</div>"
      ],
      "text/plain": [
       "Col-level 0  phones_per_capita                                           \\\n",
       "Country name              year     Macao Hong Kong United Arab Emirates   \n",
       "0                         2015  3.088231  2.290401             2.007424   \n",
       "1                         2016  3.143510  2.398931             2.212521   \n",
       "2                         2017  3.210102  2.488773             2.183431   \n",
       "3                         2018  3.348741  2.670209             2.199084   \n",
       "4                         2019  3.284849  2.863650             2.127739   \n",
       "\n",
       "Col-level 0                                  \n",
       "Country name Antigua and Barbuda Seychelles  \n",
       "0                       1.956838   1.584260  \n",
       "1                       1.987545   1.605459  \n",
       "2                       2.019337   1.742433  \n",
       "3                       2.008164   1.849900  \n",
       "4                       1.997460   1.987196  "
      ]
     },
     "execution_count": 129,
     "metadata": {},
     "output_type": "execute_result"
    }
   ],
   "source": [
    "resetted_unstacked_indexed_merged_second_table_df "
   ]
  },
  {
   "cell_type": "code",
   "execution_count": 130,
   "id": "f9980274-7ea8-4469-bd57-8b18b12ba3d9",
   "metadata": {},
   "outputs": [
    {
     "data": {
      "text/plain": [
       "MultiIndex([('phones_per_capita',                 'year'),\n",
       "            ('phones_per_capita',                'Macao'),\n",
       "            ('phones_per_capita',            'Hong Kong'),\n",
       "            ('phones_per_capita', 'United Arab Emirates'),\n",
       "            ('phones_per_capita',  'Antigua and Barbuda'),\n",
       "            ('phones_per_capita',           'Seychelles')],\n",
       "           names=['Col-level 0', 'Country name'])"
      ]
     },
     "execution_count": 130,
     "metadata": {},
     "output_type": "execute_result"
    }
   ],
   "source": [
    "resetted_unstacked_indexed_merged_second_table_df.columns"
   ]
  },
  {
   "cell_type": "code",
   "execution_count": 131,
   "id": "eab9a41f-19cf-49ec-a932-a9f79e3ed79f",
   "metadata": {},
   "outputs": [
    {
     "data": {
      "text/plain": [
       "1"
      ]
     },
     "execution_count": 131,
     "metadata": {},
     "output_type": "execute_result"
    }
   ],
   "source": [
    "resetted_unstacked_indexed_merged_second_table_df.index.nlevels"
   ]
  },
  {
   "cell_type": "code",
   "execution_count": 132,
   "id": "e86e13ab-cd10-42f2-9134-24422d598af5",
   "metadata": {},
   "outputs": [
    {
     "data": {
      "text/plain": [
       "2"
      ]
     },
     "execution_count": 132,
     "metadata": {},
     "output_type": "execute_result"
    }
   ],
   "source": [
    "resetted_unstacked_indexed_merged_second_table_df.columns.nlevels"
   ]
  },
  {
   "cell_type": "code",
   "execution_count": 133,
   "id": "01139ef0-1d76-40e3-8f16-aec8919a3fb4",
   "metadata": {},
   "outputs": [
    {
     "name": "stdout",
     "output_type": "stream",
     "text": [
      "<class 'pandas.core.frame.DataFrame'>\n",
      "RangeIndex: 5 entries, 0 to 4\n",
      "Data columns (total 6 columns):\n",
      " #   Column                                     Non-Null Count  Dtype  \n",
      "---  ------                                     --------------  -----  \n",
      " 0   (phones_per_capita, year)                  5 non-null      object \n",
      " 1   (phones_per_capita, Macao)                 5 non-null      float64\n",
      " 2   (phones_per_capita, Hong Kong)             5 non-null      float64\n",
      " 3   (phones_per_capita, United Arab Emirates)  5 non-null      float64\n",
      " 4   (phones_per_capita, Antigua and Barbuda)   5 non-null      float64\n",
      " 5   (phones_per_capita, Seychelles)            5 non-null      float64\n",
      "dtypes: float64(5), object(1)\n",
      "memory usage: 372.0+ bytes\n"
     ]
    }
   ],
   "source": [
    "resetted_unstacked_indexed_merged_second_table_df.info()"
   ]
  },
  {
   "cell_type": "code",
   "execution_count": 134,
   "id": "c9541499-9bd9-478f-b1c5-4fed9cc26e42",
   "metadata": {},
   "outputs": [],
   "source": [
    "reduced_resetted_unstacked_indexed_merged_second_table_df = resetted_unstacked_indexed_merged_second_table_df.copy()"
   ]
  },
  {
   "cell_type": "code",
   "execution_count": 135,
   "id": "ee482317-0ecf-4106-947e-cf7c8668f5af",
   "metadata": {},
   "outputs": [],
   "source": [
    "reduced_resetted_unstacked_indexed_merged_second_table_df = resetted_unstacked_indexed_merged_second_table_df.loc[:,]"
   ]
  },
  {
   "cell_type": "code",
   "execution_count": 136,
   "id": "3d45968b-dfa5-4c9e-82a8-45a79a808d1c",
   "metadata": {},
   "outputs": [
    {
     "data": {
      "text/html": [
       "<div>\n",
       "<style scoped>\n",
       "    .dataframe tbody tr th:only-of-type {\n",
       "        vertical-align: middle;\n",
       "    }\n",
       "\n",
       "    .dataframe tbody tr th {\n",
       "        vertical-align: top;\n",
       "    }\n",
       "\n",
       "    .dataframe thead tr th {\n",
       "        text-align: left;\n",
       "    }\n",
       "</style>\n",
       "<table border=\"1\" class=\"dataframe\">\n",
       "  <thead>\n",
       "    <tr>\n",
       "      <th>Col-level 0</th>\n",
       "      <th colspan=\"6\" halign=\"left\">phones_per_capita</th>\n",
       "    </tr>\n",
       "    <tr>\n",
       "      <th>Country name</th>\n",
       "      <th>year</th>\n",
       "      <th>Macao</th>\n",
       "      <th>Hong Kong</th>\n",
       "      <th>United Arab Emirates</th>\n",
       "      <th>Antigua and Barbuda</th>\n",
       "      <th>Seychelles</th>\n",
       "    </tr>\n",
       "  </thead>\n",
       "  <tbody>\n",
       "    <tr>\n",
       "      <th>0</th>\n",
       "      <td>2015</td>\n",
       "      <td>3.088231</td>\n",
       "      <td>2.290401</td>\n",
       "      <td>2.007424</td>\n",
       "      <td>1.956838</td>\n",
       "      <td>1.584260</td>\n",
       "    </tr>\n",
       "    <tr>\n",
       "      <th>1</th>\n",
       "      <td>2016</td>\n",
       "      <td>3.143510</td>\n",
       "      <td>2.398931</td>\n",
       "      <td>2.212521</td>\n",
       "      <td>1.987545</td>\n",
       "      <td>1.605459</td>\n",
       "    </tr>\n",
       "    <tr>\n",
       "      <th>2</th>\n",
       "      <td>2017</td>\n",
       "      <td>3.210102</td>\n",
       "      <td>2.488773</td>\n",
       "      <td>2.183431</td>\n",
       "      <td>2.019337</td>\n",
       "      <td>1.742433</td>\n",
       "    </tr>\n",
       "    <tr>\n",
       "      <th>3</th>\n",
       "      <td>2018</td>\n",
       "      <td>3.348741</td>\n",
       "      <td>2.670209</td>\n",
       "      <td>2.199084</td>\n",
       "      <td>2.008164</td>\n",
       "      <td>1.849900</td>\n",
       "    </tr>\n",
       "    <tr>\n",
       "      <th>4</th>\n",
       "      <td>2019</td>\n",
       "      <td>3.284849</td>\n",
       "      <td>2.863650</td>\n",
       "      <td>2.127739</td>\n",
       "      <td>1.997460</td>\n",
       "      <td>1.987196</td>\n",
       "    </tr>\n",
       "  </tbody>\n",
       "</table>\n",
       "</div>"
      ],
      "text/plain": [
       "Col-level 0  phones_per_capita                                           \\\n",
       "Country name              year     Macao Hong Kong United Arab Emirates   \n",
       "0                         2015  3.088231  2.290401             2.007424   \n",
       "1                         2016  3.143510  2.398931             2.212521   \n",
       "2                         2017  3.210102  2.488773             2.183431   \n",
       "3                         2018  3.348741  2.670209             2.199084   \n",
       "4                         2019  3.284849  2.863650             2.127739   \n",
       "\n",
       "Col-level 0                                  \n",
       "Country name Antigua and Barbuda Seychelles  \n",
       "0                       1.956838   1.584260  \n",
       "1                       1.987545   1.605459  \n",
       "2                       2.019337   1.742433  \n",
       "3                       2.008164   1.849900  \n",
       "4                       1.997460   1.987196  "
      ]
     },
     "execution_count": 136,
     "metadata": {},
     "output_type": "execute_result"
    }
   ],
   "source": [
    "reduced_resetted_unstacked_indexed_merged_second_table_df"
   ]
  },
  {
   "cell_type": "code",
   "execution_count": 137,
   "id": "06192b38-643d-4a56-b32e-b9a2091f63fc",
   "metadata": {},
   "outputs": [],
   "source": [
    "test_reduced_resetted_unstacked_indexed_merged_second_table_df = reduced_resetted_unstacked_indexed_merged_second_table_df.set_index('phones_per_capita')"
   ]
  },
  {
   "cell_type": "code",
   "execution_count": 138,
   "id": "58d2bb1e-f6ac-4572-919f-25126d7e7be2",
   "metadata": {},
   "outputs": [
    {
     "data": {
      "text/html": [
       "<div>\n",
       "<style scoped>\n",
       "    .dataframe tbody tr th:only-of-type {\n",
       "        vertical-align: middle;\n",
       "    }\n",
       "\n",
       "    .dataframe tbody tr th {\n",
       "        vertical-align: top;\n",
       "    }\n",
       "\n",
       "    .dataframe thead tr th {\n",
       "        text-align: left;\n",
       "    }\n",
       "\n",
       "    .dataframe thead tr:last-of-type th {\n",
       "        text-align: right;\n",
       "    }\n",
       "</style>\n",
       "<table border=\"1\" class=\"dataframe\">\n",
       "  <thead>\n",
       "    <tr>\n",
       "      <th>phones_per_capita</th>\n",
       "    </tr>\n",
       "  </thead>\n",
       "  <tbody>\n",
       "    <tr>\n",
       "      <th>(2015, 3.0882307526018344, 2.290400888730405, 2.0074243299155907, 1.9568383718215274, 1.5842601612091758)</th>\n",
       "    </tr>\n",
       "    <tr>\n",
       "      <th>(2016, 3.1435100081699345, 2.398931385110269, 2.212521470630779, 1.9875447197561946, 1.6054585591009431)</th>\n",
       "    </tr>\n",
       "    <tr>\n",
       "      <th>(2017, 3.2101019559699284, 2.4887734675106854, 2.1834311539896802, 2.0193373500587146, 1.742432937199378)</th>\n",
       "    </tr>\n",
       "    <tr>\n",
       "      <th>(2018, 3.3487406123894186, 2.670209054558141, 2.1990840650758208, 2.008163621679436, 1.8498997540356752)</th>\n",
       "    </tr>\n",
       "    <tr>\n",
       "      <th>(2019, 3.284849160630631, 2.8636502883629245, 2.127738798785061, 1.9974597522715676, 1.9871959026888604)</th>\n",
       "    </tr>\n",
       "  </tbody>\n",
       "</table>\n",
       "</div>"
      ],
      "text/plain": [
       "Empty DataFrame\n",
       "Columns: []\n",
       "Index: [(2015, 3.0882307526018344, 2.290400888730405, 2.0074243299155907, 1.9568383718215274, 1.5842601612091758), (2016, 3.1435100081699345, 2.398931385110269, 2.212521470630779, 1.9875447197561946, 1.6054585591009431), (2017, 3.2101019559699284, 2.4887734675106854, 2.1834311539896802, 2.0193373500587146, 1.742432937199378), (2018, 3.3487406123894186, 2.670209054558141, 2.1990840650758208, 2.008163621679436, 1.8498997540356752), (2019, 3.284849160630631, 2.8636502883629245, 2.127738798785061, 1.9974597522715676, 1.9871959026888604)]"
      ]
     },
     "execution_count": 138,
     "metadata": {},
     "output_type": "execute_result"
    }
   ],
   "source": [
    "test_reduced_resetted_unstacked_indexed_merged_second_table_df # Inge bra"
   ]
  },
  {
   "cell_type": "code",
   "execution_count": 139,
   "id": "aead71af-37ba-4be0-8fee-cacddef9635e",
   "metadata": {},
   "outputs": [
    {
     "data": {
      "text/html": [
       "<div>\n",
       "<style scoped>\n",
       "    .dataframe tbody tr th:only-of-type {\n",
       "        vertical-align: middle;\n",
       "    }\n",
       "\n",
       "    .dataframe tbody tr th {\n",
       "        vertical-align: top;\n",
       "    }\n",
       "\n",
       "    .dataframe thead tr th {\n",
       "        text-align: left;\n",
       "    }\n",
       "</style>\n",
       "<table border=\"1\" class=\"dataframe\">\n",
       "  <thead>\n",
       "  </thead>\n",
       "  <tbody>\n",
       "    <tr>\n",
       "      <th>0</th>\n",
       "    </tr>\n",
       "    <tr>\n",
       "      <th>1</th>\n",
       "    </tr>\n",
       "    <tr>\n",
       "      <th>2</th>\n",
       "    </tr>\n",
       "    <tr>\n",
       "      <th>3</th>\n",
       "    </tr>\n",
       "    <tr>\n",
       "      <th>4</th>\n",
       "    </tr>\n",
       "  </tbody>\n",
       "</table>\n",
       "</div>"
      ],
      "text/plain": [
       "Empty DataFrame\n",
       "Columns: []\n",
       "Index: [0, 1, 2, 3, 4]"
      ]
     },
     "execution_count": 139,
     "metadata": {},
     "output_type": "execute_result"
    }
   ],
   "source": [
    "test_reduced_resetted_unstacked_indexed_merged_second_table_df.reset_index(drop=True) # Inge bra"
   ]
  },
  {
   "cell_type": "code",
   "execution_count": null,
   "id": "5eeac031-ad5c-4ae6-bb56-495caf8ef534",
   "metadata": {},
   "outputs": [],
   "source": []
  },
  {
   "cell_type": "code",
   "execution_count": null,
   "id": "4bd7d63e-db58-40a8-810d-6fb265992da1",
   "metadata": {},
   "outputs": [],
   "source": []
  },
  {
   "cell_type": "markdown",
   "id": "b670c124-c724-4dbc-b3c7-8ce99015335b",
   "metadata": {},
   "source": [
    "\n",
    "#### The second table\n"
   ]
  },
  {
   "cell_type": "code",
   "execution_count": 140,
   "id": "511c22af-6f16-4766-9b47-4ee4856eb8f6",
   "metadata": {},
   "outputs": [],
   "source": [
    "# code above needs finish"
   ]
  },
  {
   "cell_type": "code",
   "execution_count": 141,
   "id": "0604e6ce-255c-418c-8966-b00c88d44e84",
   "metadata": {},
   "outputs": [],
   "source": [
    "# unstacked_reduced_second_table = reduced_second_table.unstack()"
   ]
  },
  {
   "cell_type": "code",
   "execution_count": 142,
   "id": "76949db9-c9f4-42c5-8fe9-4b41b9269692",
   "metadata": {},
   "outputs": [],
   "source": [
    "# unstacked_reduced_second_table.tail(10)"
   ]
  },
  {
   "cell_type": "code",
   "execution_count": 143,
   "id": "f714a396-7cb6-4173-b6c4-05b034c052d8",
   "metadata": {},
   "outputs": [],
   "source": [
    "# reduced_second_table.drop(columns=[reduced_second_table['n_cellphones'], reduced_second_table['population']]])"
   ]
  },
  {
   "cell_type": "markdown",
   "id": "56bce783-a689-40e3-8c53-5681f5902bc4",
   "metadata": {},
   "source": [
    "\n",
    "#### Plot of growth rates\n"
   ]
  },
  {
   "cell_type": "code",
   "execution_count": 144,
   "id": "f6a66748-26b8-42c9-a76f-b07ab4754738",
   "metadata": {},
   "outputs": [],
   "source": [
    "y_years = ['2010', '2011', '2012', '2013', '2014','2015', '2016', '2017', '2018', '2019']"
   ]
  },
  {
   "cell_type": "code",
   "execution_count": 145,
   "id": "1d1bd71a-ebf7-4cbf-9ee1-cfbb083662f1",
   "metadata": {},
   "outputs": [],
   "source": [
    "y_M = unstacked_indexed_merged_second_table_df.loc[ y_years, ('phones_per_capita' , 'Macao')]"
   ]
  },
  {
   "cell_type": "code",
   "execution_count": 146,
   "id": "328acfbc-2243-4cb5-b07e-a40513ad7b48",
   "metadata": {},
   "outputs": [
    {
     "data": {
      "text/plain": [
       "pandas.core.series.Series"
      ]
     },
     "execution_count": 146,
     "metadata": {},
     "output_type": "execute_result"
    }
   ],
   "source": [
    "type(y_M)"
   ]
  },
  {
   "cell_type": "code",
   "execution_count": 147,
   "id": "ffe310cb-0c96-4dd1-a002-f1b0fcc89426",
   "metadata": {},
   "outputs": [
    {
     "name": "stdout",
     "output_type": "stream",
     "text": [
      "<class 'pandas.core.series.Series'>\n",
      "Index: 10 entries, 2010 to 2019\n",
      "Series name: ('phones_per_capita', 'Macao')\n",
      "Non-Null Count  Dtype  \n",
      "--------------  -----  \n",
      "10 non-null     float64\n",
      "dtypes: float64(1)\n",
      "memory usage: 160.0+ bytes\n"
     ]
    }
   ],
   "source": [
    "y_M.info()"
   ]
  },
  {
   "cell_type": "code",
   "execution_count": 148,
   "id": "e2a0179c-da7a-4229-9178-f0deb27e3252",
   "metadata": {},
   "outputs": [
    {
     "data": {
      "text/plain": [
       "year\n",
       "2010    2.009700\n",
       "2011    2.364261\n",
       "2012    2.762687\n",
       "2013    2.898678\n",
       "2014    3.078619\n",
       "2015    3.088231\n",
       "2016    3.143510\n",
       "2017    3.210102\n",
       "2018    3.348741\n",
       "2019    3.284849\n",
       "Name: (phones_per_capita, Macao), dtype: float64"
      ]
     },
     "execution_count": 148,
     "metadata": {},
     "output_type": "execute_result"
    }
   ],
   "source": [
    "y_M"
   ]
  },
  {
   "cell_type": "code",
   "execution_count": 149,
   "id": "29ade518-9c55-4b97-aab8-d7a25b212dc7",
   "metadata": {},
   "outputs": [
    {
     "data": {
      "text/plain": [
       "Index(['2010', '2011', '2012', '2013', '2014', '2015', '2016', '2017', '2018',\n",
       "       '2019'],\n",
       "      dtype='object', name='year')"
      ]
     },
     "execution_count": 149,
     "metadata": {},
     "output_type": "execute_result"
    }
   ],
   "source": [
    "y_M.index"
   ]
  },
  {
   "cell_type": "code",
   "execution_count": 150,
   "id": "5d51311d-81c0-4314-ba6a-c675fb806ba3",
   "metadata": {},
   "outputs": [
    {
     "data": {
      "text/plain": [
       "array([2.00970039, 2.36426078, 2.76268691, 2.89867773, 3.07861899,\n",
       "       3.08823075, 3.14351001, 3.21010196, 3.34874061, 3.28484916])"
      ]
     },
     "execution_count": 150,
     "metadata": {},
     "output_type": "execute_result"
    }
   ],
   "source": [
    "y_M.values"
   ]
  },
  {
   "cell_type": "code",
   "execution_count": 151,
   "id": "bbc6742c-3032-4e84-96a2-3f55bb9a09bd",
   "metadata": {},
   "outputs": [],
   "source": [
    "y_HK = unstacked_indexed_merged_second_table_df.loc[ y_years, ('phones_per_capita' ,'Hong Kong')]"
   ]
  },
  {
   "cell_type": "code",
   "execution_count": 152,
   "id": "276e1b38-ee0a-472d-af05-e6b1e442474b",
   "metadata": {},
   "outputs": [],
   "source": [
    "y_UAE =   unstacked_indexed_merged_second_table_df.loc[ y_years, ('phones_per_capita' ,'United Arab Emirates')]"
   ]
  },
  {
   "cell_type": "code",
   "execution_count": 153,
   "id": "5d490515-fd34-480a-8499-ae62092053b1",
   "metadata": {},
   "outputs": [],
   "source": [
    "y_AaB =  unstacked_indexed_merged_second_table_df.loc[ y_years, ('phones_per_capita' ,'Antigua and Barbuda')]"
   ]
  },
  {
   "cell_type": "code",
   "execution_count": 154,
   "id": "fe6dc0d5-b23a-422e-9f16-f8db53fbe0a0",
   "metadata": {},
   "outputs": [],
   "source": [
    "y_S = unstacked_indexed_merged_second_table_df.loc[ y_years, ('phones_per_capita' ,'Seychelles')]"
   ]
  },
  {
   "cell_type": "code",
   "execution_count": 155,
   "id": "9a30a7f0-24f7-4362-9112-986758eed52e",
   "metadata": {},
   "outputs": [
    {
     "data": {
      "image/png": "[encoded data removed]",
      "text/plain": [
       "<Figure size 1400x700 with 1 Axes>"
      ]
     },
     "metadata": {},
     "output_type": "display_data"
    }
   ],
   "source": [
    "fig, axs = plt.subplots(figsize= (14,7))\n",
    "axs.plot(y_M.index, y_M.values, label='Macao')\n",
    "axs.plot(y_M.index, y_HK.values, label='Hong Kong')\n",
    "axs.plot(y_M.index, y_UAE.values, label='United Arab Emirates')\n",
    "axs.plot(y_M.index, y_AaB.values, label='Antigua and Barbuda')\n",
    "axs.plot(y_M.index, y_S.values, label='Seychelles')\n",
    "axs.set_title('Number of cell phones per capita')\n",
    "axs.grid()\n",
    "axs.legend();"
   ]
  },
  {
   "cell_type": "markdown",
   "id": "9d5a0d45-7862-4012-b5b3-fac002fdbd62",
   "metadata": {},
   "source": [
    "\n",
    "#### Old code, remove ??\n"
   ]
  },
  {
   "cell_type": "markdown",
   "id": "2a2b2721-e702-4b58-ae75-4e06a318a9e9",
   "metadata": {},
   "source": [
    "For **pop_data_df** it seems that we only need data for the years 1960 and 2010-2019, for a few countries. These countries are ABW, AFG, AGO, ALB, AND, Macao, Hong Kong, United Arab Emirates,\tAntigua and Barbuda, and Seychelles."
   ]
  },
  {
   "cell_type": "markdown",
   "id": "ec1830ae-1104-450d-b268-45591d5c6343",
   "metadata": {},
   "source": [
    "There are some null values in pop_data_df. We have to check if any of these concerns the years and countries we will treat."
   ]
  },
  {
   "cell_type": "markdown",
   "id": "11aa4e64-a303-49a0-bb10-bd038368142d",
   "metadata": {},
   "source": [
    "First, we will get the alpha-3 codes for the names."
   ]
  },
  {
   "cell_type": "code",
   "execution_count": 156,
   "id": "cdf42ff0-3ca4-4fb9-afe3-5066e6ad3643",
   "metadata": {},
   "outputs": [],
   "source": [
    "alpha_3_codes = name_strings_country_data_df['name'].isin(['Macao', 'Hong Kong', 'United Arab Emirates','Antigua and Barbuda', 'Seychelles'])"
   ]
  },
  {
   "cell_type": "code",
   "execution_count": 157,
   "id": "7f570415-bff6-403d-9a10-b36d6389001e",
   "metadata": {},
   "outputs": [
    {
     "data": {
      "text/html": [
       "<div>\n",
       "<style scoped>\n",
       "    .dataframe tbody tr th:only-of-type {\n",
       "        vertical-align: middle;\n",
       "    }\n",
       "\n",
       "    .dataframe tbody tr th {\n",
       "        vertical-align: top;\n",
       "    }\n",
       "\n",
       "    .dataframe thead th {\n",
       "        text-align: right;\n",
       "    }\n",
       "</style>\n",
       "<table border=\"1\" class=\"dataframe\">\n",
       "  <thead>\n",
       "    <tr style=\"text-align: right;\">\n",
       "      <th></th>\n",
       "      <th>name</th>\n",
       "      <th>alpha-2</th>\n",
       "      <th>country-code</th>\n",
       "      <th>iso_3166-2</th>\n",
       "      <th>region</th>\n",
       "      <th>sub-region</th>\n",
       "      <th>intermediate-region</th>\n",
       "      <th>region-code</th>\n",
       "      <th>sub-region-code</th>\n",
       "      <th>intermediate-region-code</th>\n",
       "    </tr>\n",
       "    <tr>\n",
       "      <th>alpha-3</th>\n",
       "      <th></th>\n",
       "      <th></th>\n",
       "      <th></th>\n",
       "      <th></th>\n",
       "      <th></th>\n",
       "      <th></th>\n",
       "      <th></th>\n",
       "      <th></th>\n",
       "      <th></th>\n",
       "      <th></th>\n",
       "    </tr>\n",
       "  </thead>\n",
       "  <tbody>\n",
       "    <tr>\n",
       "      <th>ATG</th>\n",
       "      <td>Antigua and Barbuda</td>\n",
       "      <td>AG</td>\n",
       "      <td>28</td>\n",
       "      <td>ISO 3166-2:AG</td>\n",
       "      <td>Americas</td>\n",
       "      <td>Latin America and the Caribbean</td>\n",
       "      <td>Caribbean</td>\n",
       "      <td>19.0</td>\n",
       "      <td>419.0</td>\n",
       "      <td>29.0</td>\n",
       "    </tr>\n",
       "    <tr>\n",
       "      <th>HKG</th>\n",
       "      <td>Hong Kong</td>\n",
       "      <td>HK</td>\n",
       "      <td>344</td>\n",
       "      <td>ISO 3166-2:HK</td>\n",
       "      <td>Asia</td>\n",
       "      <td>Eastern Asia</td>\n",
       "      <td>NaN</td>\n",
       "      <td>142.0</td>\n",
       "      <td>30.0</td>\n",
       "      <td>NaN</td>\n",
       "    </tr>\n",
       "    <tr>\n",
       "      <th>MAC</th>\n",
       "      <td>Macao</td>\n",
       "      <td>MO</td>\n",
       "      <td>446</td>\n",
       "      <td>ISO 3166-2:MO</td>\n",
       "      <td>Asia</td>\n",
       "      <td>Eastern Asia</td>\n",
       "      <td>NaN</td>\n",
       "      <td>142.0</td>\n",
       "      <td>30.0</td>\n",
       "      <td>NaN</td>\n",
       "    </tr>\n",
       "    <tr>\n",
       "      <th>SYC</th>\n",
       "      <td>Seychelles</td>\n",
       "      <td>SC</td>\n",
       "      <td>690</td>\n",
       "      <td>ISO 3166-2:SC</td>\n",
       "      <td>Africa</td>\n",
       "      <td>Sub-Saharan Africa</td>\n",
       "      <td>Eastern Africa</td>\n",
       "      <td>2.0</td>\n",
       "      <td>202.0</td>\n",
       "      <td>14.0</td>\n",
       "    </tr>\n",
       "    <tr>\n",
       "      <th>ARE</th>\n",
       "      <td>United Arab Emirates</td>\n",
       "      <td>AE</td>\n",
       "      <td>784</td>\n",
       "      <td>ISO 3166-2:AE</td>\n",
       "      <td>Asia</td>\n",
       "      <td>Western Asia</td>\n",
       "      <td>NaN</td>\n",
       "      <td>142.0</td>\n",
       "      <td>145.0</td>\n",
       "      <td>NaN</td>\n",
       "    </tr>\n",
       "  </tbody>\n",
       "</table>\n",
       "</div>"
      ],
      "text/plain": [
       "                         name alpha-2  country-code     iso_3166-2    region  \\\n",
       "alpha-3                                                                        \n",
       "ATG       Antigua and Barbuda      AG            28  ISO 3166-2:AG  Americas   \n",
       "HKG                 Hong Kong      HK           344  ISO 3166-2:HK      Asia   \n",
       "MAC                     Macao      MO           446  ISO 3166-2:MO      Asia   \n",
       "SYC                Seychelles      SC           690  ISO 3166-2:SC    Africa   \n",
       "ARE      United Arab Emirates      AE           784  ISO 3166-2:AE      Asia   \n",
       "\n",
       "                              sub-region intermediate-region  region-code  \\\n",
       "alpha-3                                                                     \n",
       "ATG      Latin America and the Caribbean           Caribbean         19.0   \n",
       "HKG                         Eastern Asia                 NaN        142.0   \n",
       "MAC                         Eastern Asia                 NaN        142.0   \n",
       "SYC                   Sub-Saharan Africa      Eastern Africa          2.0   \n",
       "ARE                         Western Asia                 NaN        142.0   \n",
       "\n",
       "         sub-region-code  intermediate-region-code  \n",
       "alpha-3                                             \n",
       "ATG                419.0                      29.0  \n",
       "HKG                 30.0                       NaN  \n",
       "MAC                 30.0                       NaN  \n",
       "SYC                202.0                      14.0  \n",
       "ARE                145.0                       NaN  "
      ]
     },
     "execution_count": 157,
     "metadata": {},
     "output_type": "execute_result"
    }
   ],
   "source": [
    "name_strings_country_data_df[alpha_3_codes]"
   ]
  },
  {
   "cell_type": "markdown",
   "id": "2cef659d-d438-4aae-adf7-b68d2b045460",
   "metadata": {},
   "source": [
    "Now we can select the interesting rows in pop_data_df."
   ]
  },
  {
   "cell_type": "code",
   "execution_count": 158,
   "id": "2351ab4d-649f-421f-ad7b-e20194baf128",
   "metadata": {},
   "outputs": [],
   "source": [
    "interesting_countries_bool = pop_data_df.index.isin(['ATG','HKG','MAC','SYC','ARE','ABW', 'AFG', 'AGO', 'ALB', 'AND'])"
   ]
  },
  {
   "cell_type": "code",
   "execution_count": 159,
   "id": "7d7180f7-aac9-4fe0-b1f6-cc52f680d23b",
   "metadata": {},
   "outputs": [],
   "source": [
    "interesting_years = ['1960', '2010','2011','2012','2013','2014','2015','2016','2017','2018','2019']"
   ]
  },
  {
   "cell_type": "markdown",
   "id": "fbed0273-d9c4-4121-bb26-b56603774a20",
   "metadata": {},
   "source": [
    "Make a deep copy of pop_data_df and then choose the interesting countries"
   ]
  },
  {
   "cell_type": "code",
   "execution_count": 160,
   "id": "f4ddaa39-8e0d-4166-8cb1-556b0d96005d",
   "metadata": {},
   "outputs": [],
   "source": [
    "interesting_countries_df = pop_data_df[interesting_countries_bool].copy()"
   ]
  },
  {
   "cell_type": "code",
   "execution_count": 161,
   "id": "d8a55cc3-80f6-46d3-ae26-8e895649837c",
   "metadata": {},
   "outputs": [
    {
     "name": "stdout",
     "output_type": "stream",
     "text": [
      "<class 'pandas.core.frame.DataFrame'>\n",
      "Index: 10 entries, ABW to SYC\n",
      "Data columns (total 62 columns):\n",
      " #   Column      Non-Null Count  Dtype  \n",
      "---  ------      --------------  -----  \n",
      " 0   Unnamed: 0  10 non-null     int64  \n",
      " 1   1960        10 non-null     float64\n",
      " 2   1961        10 non-null     float64\n",
      " 3   1962        10 non-null     float64\n",
      " 4   1963        10 non-null     float64\n",
      " 5   1964        10 non-null     float64\n",
      " 6   1965        10 non-null     float64\n",
      " 7   1966        10 non-null     float64\n",
      " 8   1967        10 non-null     float64\n",
      " 9   1968        10 non-null     float64\n",
      " 10  1969        10 non-null     float64\n",
      " 11  1970        10 non-null     float64\n",
      " 12  1971        10 non-null     float64\n",
      " 13  1972        10 non-null     float64\n",
      " 14  1973        10 non-null     float64\n",
      " 15  1974        10 non-null     float64\n",
      " 16  1975        10 non-null     float64\n",
      " 17  1976        10 non-null     float64\n",
      " 18  1977        10 non-null     float64\n",
      " 19  1978        10 non-null     float64\n",
      " 20  1979        10 non-null     float64\n",
      " 21  1980        10 non-null     float64\n",
      " 22  1981        10 non-null     float64\n",
      " 23  1982        10 non-null     float64\n",
      " 24  1983        10 non-null     float64\n",
      " 25  1984        10 non-null     float64\n",
      " 26  1985        10 non-null     float64\n",
      " 27  1986        10 non-null     float64\n",
      " 28  1987        10 non-null     float64\n",
      " 29  1988        10 non-null     float64\n",
      " 30  1989        10 non-null     float64\n",
      " 31  1990        10 non-null     float64\n",
      " 32  1991        10 non-null     float64\n",
      " 33  1992        10 non-null     float64\n",
      " 34  1993        10 non-null     float64\n",
      " 35  1994        10 non-null     float64\n",
      " 36  1995        10 non-null     float64\n",
      " 37  1996        10 non-null     float64\n",
      " 38  1997        10 non-null     float64\n",
      " 39  1998        10 non-null     float64\n",
      " 40  1999        10 non-null     float64\n",
      " 41  2000        10 non-null     float64\n",
      " 42  2001        10 non-null     float64\n",
      " 43  2002        10 non-null     float64\n",
      " 44  2003        10 non-null     float64\n",
      " 45  2004        10 non-null     float64\n",
      " 46  2005        10 non-null     float64\n",
      " 47  2006        10 non-null     float64\n",
      " 48  2007        10 non-null     float64\n",
      " 49  2008        10 non-null     float64\n",
      " 50  2009        10 non-null     float64\n",
      " 51  2010        10 non-null     float64\n",
      " 52  2011        10 non-null     float64\n",
      " 53  2012        10 non-null     float64\n",
      " 54  2013        10 non-null     float64\n",
      " 55  2014        10 non-null     float64\n",
      " 56  2015        10 non-null     float64\n",
      " 57  2016        10 non-null     float64\n",
      " 58  2017        10 non-null     float64\n",
      " 59  2018        10 non-null     float64\n",
      " 60  2019        10 non-null     float64\n",
      " 61  2020        10 non-null     float64\n",
      "dtypes: float64(61), int64(1)\n",
      "memory usage: 4.9+ KB\n"
     ]
    }
   ],
   "source": [
    "interesting_countries_df.info()"
   ]
  },
  {
   "cell_type": "markdown",
   "id": "0e1a8076-89f8-42f2-a742-790c73efa3bf",
   "metadata": {},
   "source": [
    "Make a deep copy of interesting_countries_df"
   ]
  },
  {
   "cell_type": "code",
   "execution_count": 162,
   "id": "092a4a1f-c65e-45da-8eb9-b36e44532c1d",
   "metadata": {},
   "outputs": [],
   "source": [
    "interesting_countries_and_years_df = interesting_countries_df[interesting_years].copy()"
   ]
  },
  {
   "cell_type": "code",
   "execution_count": 163,
   "id": "d94aa04b-6b17-4cbd-a7dc-57b8c035a013",
   "metadata": {},
   "outputs": [
    {
     "name": "stdout",
     "output_type": "stream",
     "text": [
      "<class 'pandas.core.frame.DataFrame'>\n",
      "Index: 10 entries, ABW to SYC\n",
      "Data columns (total 11 columns):\n",
      " #   Column  Non-Null Count  Dtype  \n",
      "---  ------  --------------  -----  \n",
      " 0   1960    10 non-null     float64\n",
      " 1   2010    10 non-null     float64\n",
      " 2   2011    10 non-null     float64\n",
      " 3   2012    10 non-null     float64\n",
      " 4   2013    10 non-null     float64\n",
      " 5   2014    10 non-null     float64\n",
      " 6   2015    10 non-null     float64\n",
      " 7   2016    10 non-null     float64\n",
      " 8   2017    10 non-null     float64\n",
      " 9   2018    10 non-null     float64\n",
      " 10  2019    10 non-null     float64\n",
      "dtypes: float64(11)\n",
      "memory usage: 960.0+ bytes\n"
     ]
    }
   ],
   "source": [
    "interesting_countries_and_years_df.info()"
   ]
  },
  {
   "cell_type": "code",
   "execution_count": 164,
   "id": "a712393e-8ba8-417e-8cc0-245044273344",
   "metadata": {},
   "outputs": [
    {
     "data": {
      "text/html": [
       "<div>\n",
       "<style scoped>\n",
       "    .dataframe tbody tr th:only-of-type {\n",
       "        vertical-align: middle;\n",
       "    }\n",
       "\n",
       "    .dataframe tbody tr th {\n",
       "        vertical-align: top;\n",
       "    }\n",
       "\n",
       "    .dataframe thead th {\n",
       "        text-align: right;\n",
       "    }\n",
       "</style>\n",
       "<table border=\"1\" class=\"dataframe\">\n",
       "  <thead>\n",
       "    <tr style=\"text-align: right;\">\n",
       "      <th></th>\n",
       "      <th>1960</th>\n",
       "      <th>2010</th>\n",
       "      <th>2011</th>\n",
       "      <th>2012</th>\n",
       "      <th>2013</th>\n",
       "      <th>2014</th>\n",
       "      <th>2015</th>\n",
       "      <th>2016</th>\n",
       "      <th>2017</th>\n",
       "      <th>2018</th>\n",
       "      <th>2019</th>\n",
       "    </tr>\n",
       "    <tr>\n",
       "      <th>iso-3</th>\n",
       "      <th></th>\n",
       "      <th></th>\n",
       "      <th></th>\n",
       "      <th></th>\n",
       "      <th></th>\n",
       "      <th></th>\n",
       "      <th></th>\n",
       "      <th></th>\n",
       "      <th></th>\n",
       "      <th></th>\n",
       "      <th></th>\n",
       "    </tr>\n",
       "  </thead>\n",
       "  <tbody>\n",
       "    <tr>\n",
       "      <th>ABW</th>\n",
       "      <td>54608.0</td>\n",
       "      <td>100341.0</td>\n",
       "      <td>101288.0</td>\n",
       "      <td>102112.0</td>\n",
       "      <td>102880.0</td>\n",
       "      <td>103594.0</td>\n",
       "      <td>104257.0</td>\n",
       "      <td>104874.0</td>\n",
       "      <td>105439.0</td>\n",
       "      <td>105962.0</td>\n",
       "      <td>106442.0</td>\n",
       "    </tr>\n",
       "    <tr>\n",
       "      <th>AFG</th>\n",
       "      <td>8622466.0</td>\n",
       "      <td>28189672.0</td>\n",
       "      <td>29249157.0</td>\n",
       "      <td>30466479.0</td>\n",
       "      <td>31541209.0</td>\n",
       "      <td>32716210.0</td>\n",
       "      <td>33753499.0</td>\n",
       "      <td>34636207.0</td>\n",
       "      <td>35643418.0</td>\n",
       "      <td>36686784.0</td>\n",
       "      <td>37769499.0</td>\n",
       "    </tr>\n",
       "    <tr>\n",
       "      <th>AGO</th>\n",
       "      <td>5357195.0</td>\n",
       "      <td>23364185.0</td>\n",
       "      <td>24259111.0</td>\n",
       "      <td>25188292.0</td>\n",
       "      <td>26147002.0</td>\n",
       "      <td>27128337.0</td>\n",
       "      <td>28127721.0</td>\n",
       "      <td>29154746.0</td>\n",
       "      <td>30208628.0</td>\n",
       "      <td>31273533.0</td>\n",
       "      <td>32353588.0</td>\n",
       "    </tr>\n",
       "    <tr>\n",
       "      <th>ALB</th>\n",
       "      <td>1608800.0</td>\n",
       "      <td>2913021.0</td>\n",
       "      <td>2905195.0</td>\n",
       "      <td>2900401.0</td>\n",
       "      <td>2895092.0</td>\n",
       "      <td>2889104.0</td>\n",
       "      <td>2880703.0</td>\n",
       "      <td>2876101.0</td>\n",
       "      <td>2873457.0</td>\n",
       "      <td>2866376.0</td>\n",
       "      <td>2854191.0</td>\n",
       "    </tr>\n",
       "    <tr>\n",
       "      <th>AND</th>\n",
       "      <td>9443.0</td>\n",
       "      <td>71519.0</td>\n",
       "      <td>70567.0</td>\n",
       "      <td>71013.0</td>\n",
       "      <td>71367.0</td>\n",
       "      <td>71621.0</td>\n",
       "      <td>71746.0</td>\n",
       "      <td>72540.0</td>\n",
       "      <td>73837.0</td>\n",
       "      <td>75013.0</td>\n",
       "      <td>76343.0</td>\n",
       "    </tr>\n",
       "    <tr>\n",
       "      <th>ARE</th>\n",
       "      <td>133426.0</td>\n",
       "      <td>8481771.0</td>\n",
       "      <td>8575205.0</td>\n",
       "      <td>8664969.0</td>\n",
       "      <td>8751847.0</td>\n",
       "      <td>8835951.0</td>\n",
       "      <td>8916899.0</td>\n",
       "      <td>8994263.0</td>\n",
       "      <td>9068296.0</td>\n",
       "      <td>9140169.0</td>\n",
       "      <td>9211657.0</td>\n",
       "    </tr>\n",
       "    <tr>\n",
       "      <th>ATG</th>\n",
       "      <td>55342.0</td>\n",
       "      <td>85695.0</td>\n",
       "      <td>86729.0</td>\n",
       "      <td>87674.0</td>\n",
       "      <td>88497.0</td>\n",
       "      <td>89236.0</td>\n",
       "      <td>89941.0</td>\n",
       "      <td>90564.0</td>\n",
       "      <td>91119.0</td>\n",
       "      <td>91626.0</td>\n",
       "      <td>92117.0</td>\n",
       "    </tr>\n",
       "    <tr>\n",
       "      <th>HKG</th>\n",
       "      <td>3114671.0</td>\n",
       "      <td>7024200.0</td>\n",
       "      <td>7071600.0</td>\n",
       "      <td>7150100.0</td>\n",
       "      <td>7178900.0</td>\n",
       "      <td>7229500.0</td>\n",
       "      <td>7291300.0</td>\n",
       "      <td>7336600.0</td>\n",
       "      <td>7393200.0</td>\n",
       "      <td>7452600.0</td>\n",
       "      <td>7507900.0</td>\n",
       "    </tr>\n",
       "    <tr>\n",
       "      <th>MAC</th>\n",
       "      <td>177014.0</td>\n",
       "      <td>557297.0</td>\n",
       "      <td>571003.0</td>\n",
       "      <td>582766.0</td>\n",
       "      <td>593374.0</td>\n",
       "      <td>604167.0</td>\n",
       "      <td>615239.0</td>\n",
       "      <td>626688.0</td>\n",
       "      <td>638609.0</td>\n",
       "      <td>650991.0</td>\n",
       "      <td>663653.0</td>\n",
       "    </tr>\n",
       "    <tr>\n",
       "      <th>SYC</th>\n",
       "      <td>41700.0</td>\n",
       "      <td>89770.0</td>\n",
       "      <td>87441.0</td>\n",
       "      <td>88303.0</td>\n",
       "      <td>89949.0</td>\n",
       "      <td>91359.0</td>\n",
       "      <td>93419.0</td>\n",
       "      <td>94677.0</td>\n",
       "      <td>95843.0</td>\n",
       "      <td>96762.0</td>\n",
       "      <td>97625.0</td>\n",
       "    </tr>\n",
       "  </tbody>\n",
       "</table>\n",
       "</div>"
      ],
      "text/plain": [
       "            1960        2010        2011        2012        2013        2014  \\\n",
       "iso-3                                                                          \n",
       "ABW      54608.0    100341.0    101288.0    102112.0    102880.0    103594.0   \n",
       "AFG    8622466.0  28189672.0  29249157.0  30466479.0  31541209.0  32716210.0   \n",
       "AGO    5357195.0  23364185.0  24259111.0  25188292.0  26147002.0  27128337.0   \n",
       "ALB    1608800.0   2913021.0   2905195.0   2900401.0   2895092.0   2889104.0   \n",
       "AND       9443.0     71519.0     70567.0     71013.0     71367.0     71621.0   \n",
       "ARE     133426.0   8481771.0   8575205.0   8664969.0   8751847.0   8835951.0   \n",
       "ATG      55342.0     85695.0     86729.0     87674.0     88497.0     89236.0   \n",
       "HKG    3114671.0   7024200.0   7071600.0   7150100.0   7178900.0   7229500.0   \n",
       "MAC     177014.0    557297.0    571003.0    582766.0    593374.0    604167.0   \n",
       "SYC      41700.0     89770.0     87441.0     88303.0     89949.0     91359.0   \n",
       "\n",
       "             2015        2016        2017        2018        2019  \n",
       "iso-3                                                              \n",
       "ABW      104257.0    104874.0    105439.0    105962.0    106442.0  \n",
       "AFG    33753499.0  34636207.0  35643418.0  36686784.0  37769499.0  \n",
       "AGO    28127721.0  29154746.0  30208628.0  31273533.0  32353588.0  \n",
       "ALB     2880703.0   2876101.0   2873457.0   2866376.0   2854191.0  \n",
       "AND       71746.0     72540.0     73837.0     75013.0     76343.0  \n",
       "ARE     8916899.0   8994263.0   9068296.0   9140169.0   9211657.0  \n",
       "ATG       89941.0     90564.0     91119.0     91626.0     92117.0  \n",
       "HKG     7291300.0   7336600.0   7393200.0   7452600.0   7507900.0  \n",
       "MAC      615239.0    626688.0    638609.0    650991.0    663653.0  \n",
       "SYC       93419.0     94677.0     95843.0     96762.0     97625.0  "
      ]
     },
     "execution_count": 164,
     "metadata": {},
     "output_type": "execute_result"
    }
   ],
   "source": [
    "interesting_countries_and_years_df"
   ]
  },
  {
   "cell_type": "markdown",
   "id": "6c0ff567-b148-4429-bcc3-41da953c2c06",
   "metadata": {},
   "source": [
    "Set a name for all the columns"
   ]
  },
  {
   "cell_type": "code",
   "execution_count": 165,
   "id": "9d3a54fb-5fc8-4760-9d40-80b3e08977f9",
   "metadata": {},
   "outputs": [],
   "source": [
    "interesting_countries_and_years_df.columns.name = 'year'"
   ]
  },
  {
   "cell_type": "code",
   "execution_count": 166,
   "id": "a20d66a5-3568-4295-8c44-bbb37f587cd7",
   "metadata": {},
   "outputs": [
    {
     "data": {
      "text/html": [
       "<div>\n",
       "<style scoped>\n",
       "    .dataframe tbody tr th:only-of-type {\n",
       "        vertical-align: middle;\n",
       "    }\n",
       "\n",
       "    .dataframe tbody tr th {\n",
       "        vertical-align: top;\n",
       "    }\n",
       "\n",
       "    .dataframe thead th {\n",
       "        text-align: right;\n",
       "    }\n",
       "</style>\n",
       "<table border=\"1\" class=\"dataframe\">\n",
       "  <thead>\n",
       "    <tr style=\"text-align: right;\">\n",
       "      <th>year</th>\n",
       "      <th>1960</th>\n",
       "      <th>2010</th>\n",
       "      <th>2011</th>\n",
       "      <th>2012</th>\n",
       "      <th>2013</th>\n",
       "      <th>2014</th>\n",
       "      <th>2015</th>\n",
       "      <th>2016</th>\n",
       "      <th>2017</th>\n",
       "      <th>2018</th>\n",
       "      <th>2019</th>\n",
       "    </tr>\n",
       "    <tr>\n",
       "      <th>iso-3</th>\n",
       "      <th></th>\n",
       "      <th></th>\n",
       "      <th></th>\n",
       "      <th></th>\n",
       "      <th></th>\n",
       "      <th></th>\n",
       "      <th></th>\n",
       "      <th></th>\n",
       "      <th></th>\n",
       "      <th></th>\n",
       "      <th></th>\n",
       "    </tr>\n",
       "  </thead>\n",
       "  <tbody>\n",
       "    <tr>\n",
       "      <th>ABW</th>\n",
       "      <td>54608.0</td>\n",
       "      <td>100341.0</td>\n",
       "      <td>101288.0</td>\n",
       "      <td>102112.0</td>\n",
       "      <td>102880.0</td>\n",
       "      <td>103594.0</td>\n",
       "      <td>104257.0</td>\n",
       "      <td>104874.0</td>\n",
       "      <td>105439.0</td>\n",
       "      <td>105962.0</td>\n",
       "      <td>106442.0</td>\n",
       "    </tr>\n",
       "    <tr>\n",
       "      <th>AFG</th>\n",
       "      <td>8622466.0</td>\n",
       "      <td>28189672.0</td>\n",
       "      <td>29249157.0</td>\n",
       "      <td>30466479.0</td>\n",
       "      <td>31541209.0</td>\n",
       "      <td>32716210.0</td>\n",
       "      <td>33753499.0</td>\n",
       "      <td>34636207.0</td>\n",
       "      <td>35643418.0</td>\n",
       "      <td>36686784.0</td>\n",
       "      <td>37769499.0</td>\n",
       "    </tr>\n",
       "    <tr>\n",
       "      <th>AGO</th>\n",
       "      <td>5357195.0</td>\n",
       "      <td>23364185.0</td>\n",
       "      <td>24259111.0</td>\n",
       "      <td>25188292.0</td>\n",
       "      <td>26147002.0</td>\n",
       "      <td>27128337.0</td>\n",
       "      <td>28127721.0</td>\n",
       "      <td>29154746.0</td>\n",
       "      <td>30208628.0</td>\n",
       "      <td>31273533.0</td>\n",
       "      <td>32353588.0</td>\n",
       "    </tr>\n",
       "    <tr>\n",
       "      <th>ALB</th>\n",
       "      <td>1608800.0</td>\n",
       "      <td>2913021.0</td>\n",
       "      <td>2905195.0</td>\n",
       "      <td>2900401.0</td>\n",
       "      <td>2895092.0</td>\n",
       "      <td>2889104.0</td>\n",
       "      <td>2880703.0</td>\n",
       "      <td>2876101.0</td>\n",
       "      <td>2873457.0</td>\n",
       "      <td>2866376.0</td>\n",
       "      <td>2854191.0</td>\n",
       "    </tr>\n",
       "    <tr>\n",
       "      <th>AND</th>\n",
       "      <td>9443.0</td>\n",
       "      <td>71519.0</td>\n",
       "      <td>70567.0</td>\n",
       "      <td>71013.0</td>\n",
       "      <td>71367.0</td>\n",
       "      <td>71621.0</td>\n",
       "      <td>71746.0</td>\n",
       "      <td>72540.0</td>\n",
       "      <td>73837.0</td>\n",
       "      <td>75013.0</td>\n",
       "      <td>76343.0</td>\n",
       "    </tr>\n",
       "    <tr>\n",
       "      <th>ARE</th>\n",
       "      <td>133426.0</td>\n",
       "      <td>8481771.0</td>\n",
       "      <td>8575205.0</td>\n",
       "      <td>8664969.0</td>\n",
       "      <td>8751847.0</td>\n",
       "      <td>8835951.0</td>\n",
       "      <td>8916899.0</td>\n",
       "      <td>8994263.0</td>\n",
       "      <td>9068296.0</td>\n",
       "      <td>9140169.0</td>\n",
       "      <td>9211657.0</td>\n",
       "    </tr>\n",
       "    <tr>\n",
       "      <th>ATG</th>\n",
       "      <td>55342.0</td>\n",
       "      <td>85695.0</td>\n",
       "      <td>86729.0</td>\n",
       "      <td>87674.0</td>\n",
       "      <td>88497.0</td>\n",
       "      <td>89236.0</td>\n",
       "      <td>89941.0</td>\n",
       "      <td>90564.0</td>\n",
       "      <td>91119.0</td>\n",
       "      <td>91626.0</td>\n",
       "      <td>92117.0</td>\n",
       "    </tr>\n",
       "    <tr>\n",
       "      <th>HKG</th>\n",
       "      <td>3114671.0</td>\n",
       "      <td>7024200.0</td>\n",
       "      <td>7071600.0</td>\n",
       "      <td>7150100.0</td>\n",
       "      <td>7178900.0</td>\n",
       "      <td>7229500.0</td>\n",
       "      <td>7291300.0</td>\n",
       "      <td>7336600.0</td>\n",
       "      <td>7393200.0</td>\n",
       "      <td>7452600.0</td>\n",
       "      <td>7507900.0</td>\n",
       "    </tr>\n",
       "    <tr>\n",
       "      <th>MAC</th>\n",
       "      <td>177014.0</td>\n",
       "      <td>557297.0</td>\n",
       "      <td>571003.0</td>\n",
       "      <td>582766.0</td>\n",
       "      <td>593374.0</td>\n",
       "      <td>604167.0</td>\n",
       "      <td>615239.0</td>\n",
       "      <td>626688.0</td>\n",
       "      <td>638609.0</td>\n",
       "      <td>650991.0</td>\n",
       "      <td>663653.0</td>\n",
       "    </tr>\n",
       "    <tr>\n",
       "      <th>SYC</th>\n",
       "      <td>41700.0</td>\n",
       "      <td>89770.0</td>\n",
       "      <td>87441.0</td>\n",
       "      <td>88303.0</td>\n",
       "      <td>89949.0</td>\n",
       "      <td>91359.0</td>\n",
       "      <td>93419.0</td>\n",
       "      <td>94677.0</td>\n",
       "      <td>95843.0</td>\n",
       "      <td>96762.0</td>\n",
       "      <td>97625.0</td>\n",
       "    </tr>\n",
       "  </tbody>\n",
       "</table>\n",
       "</div>"
      ],
      "text/plain": [
       "year        1960        2010        2011        2012        2013        2014  \\\n",
       "iso-3                                                                          \n",
       "ABW      54608.0    100341.0    101288.0    102112.0    102880.0    103594.0   \n",
       "AFG    8622466.0  28189672.0  29249157.0  30466479.0  31541209.0  32716210.0   \n",
       "AGO    5357195.0  23364185.0  24259111.0  25188292.0  26147002.0  27128337.0   \n",
       "ALB    1608800.0   2913021.0   2905195.0   2900401.0   2895092.0   2889104.0   \n",
       "AND       9443.0     71519.0     70567.0     71013.0     71367.0     71621.0   \n",
       "ARE     133426.0   8481771.0   8575205.0   8664969.0   8751847.0   8835951.0   \n",
       "ATG      55342.0     85695.0     86729.0     87674.0     88497.0     89236.0   \n",
       "HKG    3114671.0   7024200.0   7071600.0   7150100.0   7178900.0   7229500.0   \n",
       "MAC     177014.0    557297.0    571003.0    582766.0    593374.0    604167.0   \n",
       "SYC      41700.0     89770.0     87441.0     88303.0     89949.0     91359.0   \n",
       "\n",
       "year         2015        2016        2017        2018        2019  \n",
       "iso-3                                                              \n",
       "ABW      104257.0    104874.0    105439.0    105962.0    106442.0  \n",
       "AFG    33753499.0  34636207.0  35643418.0  36686784.0  37769499.0  \n",
       "AGO    28127721.0  29154746.0  30208628.0  31273533.0  32353588.0  \n",
       "ALB     2880703.0   2876101.0   2873457.0   2866376.0   2854191.0  \n",
       "AND       71746.0     72540.0     73837.0     75013.0     76343.0  \n",
       "ARE     8916899.0   8994263.0   9068296.0   9140169.0   9211657.0  \n",
       "ATG       89941.0     90564.0     91119.0     91626.0     92117.0  \n",
       "HKG     7291300.0   7336600.0   7393200.0   7452600.0   7507900.0  \n",
       "MAC      615239.0    626688.0    638609.0    650991.0    663653.0  \n",
       "SYC       93419.0     94677.0     95843.0     96762.0     97625.0  "
      ]
     },
     "execution_count": 166,
     "metadata": {},
     "output_type": "execute_result"
    }
   ],
   "source": [
    "interesting_countries_and_years_df"
   ]
  },
  {
   "cell_type": "markdown",
   "id": "12b454f2-5f5c-4609-8138-64dc14cc1f28",
   "metadata": {},
   "source": [
    "Tests"
   ]
  },
  {
   "cell_type": "code",
   "execution_count": 167,
   "id": "888c4e5a-8c4b-4cbb-b79b-dd94e92daef0",
   "metadata": {},
   "outputs": [],
   "source": [
    "test_stack_df = interesting_countries_and_years_df.stack()"
   ]
  },
  {
   "cell_type": "code",
   "execution_count": 168,
   "id": "775d40f4-5eab-42c1-88f2-ff607f4bba6c",
   "metadata": {},
   "outputs": [
    {
     "data": {
      "text/plain": [
       "iso-3  year\n",
       "ABW    1960     54608.0\n",
       "       2010    100341.0\n",
       "       2011    101288.0\n",
       "       2012    102112.0\n",
       "       2013    102880.0\n",
       "                 ...   \n",
       "SYC    2015     93419.0\n",
       "       2016     94677.0\n",
       "       2017     95843.0\n",
       "       2018     96762.0\n",
       "       2019     97625.0\n",
       "Length: 110, dtype: float64"
      ]
     },
     "execution_count": 168,
     "metadata": {},
     "output_type": "execute_result"
    }
   ],
   "source": [
    "test_stack_df"
   ]
  },
  {
   "cell_type": "code",
   "execution_count": 169,
   "id": "edbe11af-8788-464e-85c1-552ec8fe1698",
   "metadata": {},
   "outputs": [
    {
     "data": {
      "text/plain": [
       "pandas.core.series.Series"
      ]
     },
     "execution_count": 169,
     "metadata": {},
     "output_type": "execute_result"
    }
   ],
   "source": [
    "type(test_stack_df)"
   ]
  },
  {
   "cell_type": "code",
   "execution_count": 170,
   "id": "7ea9dad9-fde3-4af5-9837-5063be3ffe66",
   "metadata": {},
   "outputs": [
    {
     "data": {
      "text/plain": [
       "MultiIndex([('ABW', '1960'),\n",
       "            ('ABW', '2010'),\n",
       "            ('ABW', '2011'),\n",
       "            ('ABW', '2012'),\n",
       "            ('ABW', '2013'),\n",
       "            ('ABW', '2014'),\n",
       "            ('ABW', '2015'),\n",
       "            ('ABW', '2016'),\n",
       "            ('ABW', '2017'),\n",
       "            ('ABW', '2018'),\n",
       "            ...\n",
       "            ('SYC', '2010'),\n",
       "            ('SYC', '2011'),\n",
       "            ('SYC', '2012'),\n",
       "            ('SYC', '2013'),\n",
       "            ('SYC', '2014'),\n",
       "            ('SYC', '2015'),\n",
       "            ('SYC', '2016'),\n",
       "            ('SYC', '2017'),\n",
       "            ('SYC', '2018'),\n",
       "            ('SYC', '2019')],\n",
       "           names=['iso-3', 'year'], length=110)"
      ]
     },
     "execution_count": 170,
     "metadata": {},
     "output_type": "execute_result"
    }
   ],
   "source": [
    "test_stack_df.index"
   ]
  },
  {
   "cell_type": "markdown",
   "id": "46804f38-ec0e-4a06-bceb-63b1b105795c",
   "metadata": {},
   "source": [
    "\n",
    "##### We see that there are no null values to handle for the countries and years we are interested in.\n"
   ]
  },
  {
   "cell_type": "markdown",
   "id": "9f9a9852-4082-41d2-801d-619ecb92ea0c",
   "metadata": {},
   "source": [
    "\n",
    "##### Handle cleaned_cell_phones_total_data_df the same way\n"
   ]
  },
  {
   "cell_type": "markdown",
   "id": "80d21f5d-83fc-4e16-8ac3-7e340b217eb8",
   "metadata": {},
   "source": [
    "We will choose the same countries and years as above, for the data on cell phones."
   ]
  },
  {
   "cell_type": "code",
   "execution_count": 171,
   "id": "b7bdd84b-c97c-44fb-b65b-ac85b195ddef",
   "metadata": {},
   "outputs": [],
   "source": [
    "# interesting_countries_cell_phones_bool = cleaned_cell_phones_total_data_df.index.isin(['ATG','HKG','MAC','SYC','ARE','ABW', 'AFG', 'AGO', 'ALB', 'AND'])"
   ]
  },
  {
   "cell_type": "code",
   "execution_count": 172,
   "id": "50d31c93-5908-4f4a-bee4-80e65753ec11",
   "metadata": {},
   "outputs": [],
   "source": [
    "# interesting_countries_cell_phones_df = cleaned_cell_phones_total_data_df[interesting_countries_cell_phones_bool].copy()"
   ]
  },
  {
   "cell_type": "code",
   "execution_count": 173,
   "id": "10425727-d8c6-4cc6-a971-21af21161dea",
   "metadata": {},
   "outputs": [],
   "source": [
    "# interesting_countries_cell_phones_df.info()"
   ]
  },
  {
   "cell_type": "code",
   "execution_count": 174,
   "id": "f655b907-2ad5-400d-b21e-75a5c31d0298",
   "metadata": {},
   "outputs": [],
   "source": [
    "# interesting_countries_and_years_cell_phones_df = interesting_countries_cell_phones_df[interesting_years].copy()"
   ]
  },
  {
   "cell_type": "code",
   "execution_count": 175,
   "id": "9fd9531c-2a0a-4b5c-acf2-5a1ced5f6574",
   "metadata": {},
   "outputs": [],
   "source": [
    "# interesting_countries_and_years_cell_phones_df.columns"
   ]
  },
  {
   "cell_type": "code",
   "execution_count": 176,
   "id": "e222189a-e5c4-4abf-b9dc-b680dc49eb34",
   "metadata": {},
   "outputs": [],
   "source": [
    "# interesting_countries_and_years_cell_phones_df.columns.name = 'year'"
   ]
  },
  {
   "cell_type": "code",
   "execution_count": 177,
   "id": "47ccb9b1-52c6-434d-b4f9-bac0b3e24190",
   "metadata": {},
   "outputs": [],
   "source": [
    "# interesting_countries_and_years_cell_phones_df.columns"
   ]
  },
  {
   "cell_type": "code",
   "execution_count": 178,
   "id": "8a3723b1-eddd-4fea-851c-17cba400762b",
   "metadata": {},
   "outputs": [],
   "source": [
    "# interesting_countries_and_years_cell_phones_df.info()"
   ]
  },
  {
   "cell_type": "code",
   "execution_count": 179,
   "id": "9a0dd41a-a4da-41b5-8d81-739b8a6630dd",
   "metadata": {},
   "outputs": [],
   "source": [
    "# interesting_countries_and_years_cell_phones_df"
   ]
  },
  {
   "cell_type": "markdown",
   "id": "fed51197-9a29-4a0a-bc45-fda1660b893b",
   "metadata": {},
   "source": [
    "\n",
    "#### Stacking and joining data frames\n"
   ]
  },
  {
   "cell_type": "markdown",
   "id": "816d9184-53dd-487d-a264-f195d10632f2",
   "metadata": {},
   "source": [
    "The data frames interesting_countries_and_years_df and interesting_countries_and_years_cell_phones_df are in wide format. To make it easier to join them on index and year, it would be good to stack them, to long format."
   ]
  },
  {
   "cell_type": "markdown",
   "id": "10ad9b4b-515f-4b95-84ab-e03626f5d58c",
   "metadata": {},
   "source": [
    "\n",
    "##### Stack interesting_countries_and_years_df\n"
   ]
  },
  {
   "cell_type": "code",
   "execution_count": 180,
   "id": "02fd9e0a-f832-44c8-bd22-f24016934b8f",
   "metadata": {},
   "outputs": [],
   "source": [
    "# stacked_interesting_countries_and_years_df = interesting_countries_and_years_df.stack()"
   ]
  },
  {
   "cell_type": "code",
   "execution_count": 181,
   "id": "20d1cd21-89d6-4217-a305-62b4f4680964",
   "metadata": {},
   "outputs": [],
   "source": [
    "# stacked_interesting_countries_and_years_df.info()"
   ]
  },
  {
   "cell_type": "markdown",
   "id": "f48e7536-a5cb-4ae3-b2ab-9d99ef3b305c",
   "metadata": {},
   "source": [
    "Give a name to the Series"
   ]
  },
  {
   "cell_type": "code",
   "execution_count": 182,
   "id": "c8838472-7271-41fa-9e6e-7db2a6acb093",
   "metadata": {},
   "outputs": [],
   "source": [
    "# stacked_interesting_countries_and_years_df.name = 'population'"
   ]
  },
  {
   "cell_type": "code",
   "execution_count": 183,
   "id": "8ec0262a-07e9-402c-9448-18559e503a58",
   "metadata": {},
   "outputs": [],
   "source": [
    "# stacked_interesting_countries_and_years_df.info()"
   ]
  },
  {
   "cell_type": "code",
   "execution_count": 184,
   "id": "8779fe0c-75f6-4cdd-bfa4-4d87b2b5a385",
   "metadata": {},
   "outputs": [],
   "source": [
    "# stacked_interesting_countries_and_years_df"
   ]
  },
  {
   "cell_type": "code",
   "execution_count": 185,
   "id": "74d86ca5-ac8c-40af-ae48-f3f8d7dd1bd6",
   "metadata": {},
   "outputs": [],
   "source": [
    "# stacked_interesting_countries_and_years_df['ABW']"
   ]
  },
  {
   "cell_type": "markdown",
   "id": "4c8c5b4e-4fae-4040-971d-f38e56111e5c",
   "metadata": {},
   "source": [
    "\n",
    "##### Stack interesting_countries_and_years_cell_phones_df\n"
   ]
  },
  {
   "cell_type": "code",
   "execution_count": 186,
   "id": "443257b6-fa06-4c21-b7e2-98a99d526b40",
   "metadata": {},
   "outputs": [],
   "source": [
    "# stacked_interesting_countries_and_years_cell_phones_df = interesting_countries_and_years_cell_phones_df.stack()"
   ]
  },
  {
   "cell_type": "code",
   "execution_count": 187,
   "id": "0f7a092b-566e-466b-bf02-31f5fcc61652",
   "metadata": {},
   "outputs": [],
   "source": [
    "# stacked_interesting_countries_and_years_cell_phones_df.info()"
   ]
  },
  {
   "cell_type": "markdown",
   "id": "88c06e83-d873-436a-9e90-e3b1078c2750",
   "metadata": {},
   "source": [
    "Give a name to the Series"
   ]
  },
  {
   "cell_type": "code",
   "execution_count": 188,
   "id": "5b59cb8b-b7bc-4ae2-b273-b235ed6b6713",
   "metadata": {},
   "outputs": [],
   "source": [
    "# stacked_interesting_countries_and_years_cell_phones_df.name = 'n_cellphones'"
   ]
  },
  {
   "cell_type": "code",
   "execution_count": 189,
   "id": "0a9f282a-9494-49e1-be24-ff99d74fdf42",
   "metadata": {},
   "outputs": [],
   "source": [
    "# stacked_interesting_countries_and_years_cell_phones_df.info()"
   ]
  },
  {
   "cell_type": "code",
   "execution_count": 190,
   "id": "d6e8108d-ad39-4aa6-8021-1ffafbd76167",
   "metadata": {},
   "outputs": [],
   "source": [
    "# stacked_interesting_countries_and_years_cell_phones_df"
   ]
  },
  {
   "cell_type": "code",
   "execution_count": 191,
   "id": "3795daed-0da4-4083-a48e-ad772ac227ba",
   "metadata": {},
   "outputs": [],
   "source": [
    "# stacked_interesting_countries_and_years_cell_phones_df['ABW']"
   ]
  },
  {
   "cell_type": "markdown",
   "id": "5739e0fa-179c-4380-9b5e-393d5024767e",
   "metadata": {},
   "source": [
    "\n",
    "##### Join stacked_interesting_countries_and_years_cell_phones_df and stacked_interesting_countries_and_years_df\n"
   ]
  },
  {
   "cell_type": "markdown",
   "id": "20d323f8-236b-4579-8248-beba0c4fa196",
   "metadata": {},
   "source": [
    "Now we can join the two stacked data frames on the multiindex [iso-3, year]"
   ]
  },
  {
   "cell_type": "markdown",
   "id": "4d3c5a0a-5439-4857-a7d4-0c797c796dab",
   "metadata": {},
   "source": [
    "It is easier to join data frames than Series, so we create Data Frames from the Series stacked_interesting_countries_and_years_cell_phones_df and stacked_interesting_countries_and_years_df (which have gotten misleading names)."
   ]
  },
  {
   "cell_type": "code",
   "execution_count": 192,
   "id": "ea3bc18e-5152-4d18-9e2e-f23f37706311",
   "metadata": {},
   "outputs": [],
   "source": [
    "#  = pd.DataFrame(data=stacked_interesting_countries_and_years_cell_phones_df)"
   ]
  },
  {
   "cell_type": "code",
   "execution_count": 193,
   "id": "9054bdb6-8175-42f4-bd0b-aca5f293eeec",
   "metadata": {},
   "outputs": [],
   "source": [
    "# n_cellphones_df"
   ]
  },
  {
   "cell_type": "code",
   "execution_count": 194,
   "id": "501b3708-58dd-455d-9858-f23e079b77df",
   "metadata": {},
   "outputs": [],
   "source": [
    "# population_df = pd.DataFrame(data=stacked_interesting_countries_and_years_df)"
   ]
  },
  {
   "cell_type": "code",
   "execution_count": 195,
   "id": "ba34bd29-aa2e-439a-8434-9c9a46cef52a",
   "metadata": {},
   "outputs": [],
   "source": [
    "# population_df"
   ]
  },
  {
   "cell_type": "code",
   "execution_count": 196,
   "id": "02a7e1ea-b489-4faa-af1b-a81dbf93971c",
   "metadata": {},
   "outputs": [],
   "source": [
    "# n_cellphones_and_population_df = n_cellphones_df.merge(population_df, on=['iso-3','year'] , copy=True)"
   ]
  },
  {
   "cell_type": "code",
   "execution_count": 197,
   "id": "72adb82c-18cc-41e7-b7a4-7780328755f5",
   "metadata": {},
   "outputs": [],
   "source": [
    "# n_cellphones_and_population_df"
   ]
  },
  {
   "cell_type": "code",
   "execution_count": 198,
   "id": "cb14c6b7-1d36-44b7-a916-f20f16d2ab6f",
   "metadata": {},
   "outputs": [],
   "source": [
    "# type(n_cellphones_and_population_df)"
   ]
  },
  {
   "cell_type": "markdown",
   "id": "311c8bb3-54af-4369-808e-7a4b4135c093",
   "metadata": {},
   "source": [
    "##### Now we can show the first table required in the assignment."
   ]
  },
  {
   "cell_type": "markdown",
   "id": "44c7862b-ccd4-404a-bacf-3df5b6dc0e20",
   "metadata": {},
   "source": [
    "First we unstack the data frame two levels."
   ]
  },
  {
   "cell_type": "code",
   "execution_count": 199,
   "id": "ac508aa8-6b6b-49fa-afbb-9ae585a2010c",
   "metadata": {},
   "outputs": [],
   "source": [
    "# unstacked_n_cellphones_and_population_df = n_cellphones_and_population_df.unstack(level=-1)"
   ]
  },
  {
   "cell_type": "code",
   "execution_count": 200,
   "id": "aec05a66-c7b3-4429-ae34-189f51485457",
   "metadata": {},
   "outputs": [],
   "source": [
    "# unstacked_n_cellphones_and_population_df"
   ]
  },
  {
   "cell_type": "code",
   "execution_count": 201,
   "id": "da2d0c60-f017-46ee-925a-aa0d406f8ef6",
   "metadata": {},
   "outputs": [],
   "source": [
    "# n_cellphones_and_population_df.index"
   ]
  },
  {
   "cell_type": "code",
   "execution_count": 202,
   "id": "9c57ebbd-e255-4ef3-b963-c248ebc40efb",
   "metadata": {},
   "outputs": [],
   "source": [
    "# first_table_1960_df = n_cellphones_and_population_df.xs('1960', level = 'year')"
   ]
  },
  {
   "cell_type": "code",
   "execution_count": 203,
   "id": "7b6c8372-d135-43d9-b0d4-71730838087b",
   "metadata": {},
   "outputs": [],
   "source": [
    "# first_table_1960_df "
   ]
  },
  {
   "cell_type": "code",
   "execution_count": 204,
   "id": "160cb87c-2d9c-4250-922b-85daa95747fd",
   "metadata": {},
   "outputs": [],
   "source": [
    "# first_table_1960_df.info()"
   ]
  },
  {
   "cell_type": "code",
   "execution_count": 205,
   "id": "81c1dd10-212c-4d1b-83b1-a3dc5c65f62e",
   "metadata": {},
   "outputs": [],
   "source": [
    "# df.loc[(slice(None), \"one\"), :]"
   ]
  },
  {
   "cell_type": "markdown",
   "id": "2e69deda-fb98-4c7d-b6e4-841a81a1daa0",
   "metadata": {},
   "source": [
    "Another subset"
   ]
  },
  {
   "cell_type": "code",
   "execution_count": 206,
   "id": "2a92fd2f-4cea-42cc-8422-154c4a0e771b",
   "metadata": {},
   "outputs": [],
   "source": [
    "# first_table_1960_df_II = n_cellphones_and_population_df.loc[(slice(None), \"1960\"), :]"
   ]
  },
  {
   "cell_type": "markdown",
   "id": "ee497a76-5774-430e-9100-b4995b8783bf",
   "metadata": {},
   "source": [
    "\n",
    "#### The first table\n"
   ]
  },
  {
   "cell_type": "code",
   "execution_count": 207,
   "id": "d24f6576-cfb3-4ccb-ac1a-2a4785f9a0e6",
   "metadata": {},
   "outputs": [],
   "source": [
    "# first_table_1960_df_II.head()"
   ]
  },
  {
   "cell_type": "markdown",
   "id": "4613d220-2684-4315-b563-937747e05e0e",
   "metadata": {},
   "source": [
    "\n",
    "##### The second table\n"
   ]
  },
  {
   "cell_type": "markdown",
   "id": "6a94db1d-6b45-4726-97b3-6280aae41661",
   "metadata": {},
   "source": [
    "We have to compute the number of cell phones per capita for the different countries. First a deep copy."
   ]
  },
  {
   "cell_type": "code",
   "execution_count": 208,
   "id": "f91fe636-106a-497d-9e2c-2e97965557f2",
   "metadata": {},
   "outputs": [],
   "source": [
    "# n_cellphones_and_population_and_per_capita_df = n_cellphones_and_population_df.copy()"
   ]
  },
  {
   "cell_type": "code",
   "execution_count": 209,
   "id": "4145fc1e-32cd-415e-8325-c1b16d9b01cf",
   "metadata": {},
   "outputs": [],
   "source": [
    "# n_cellphones_and_population_and_per_capita_df['phones_per_capita'] = n_cellphones_and_population_and_per_capita_df['n_cellphones'] / n_cellphones_and_population_and_per_capita_df['population'] "
   ]
  },
  {
   "cell_type": "code",
   "execution_count": 210,
   "id": "255f082d-1d43-4b37-a4c4-14c08ba43d2f",
   "metadata": {},
   "outputs": [],
   "source": [
    "# n_cellphones_and_population_and_per_capita_df.info()"
   ]
  },
  {
   "cell_type": "code",
   "execution_count": 211,
   "id": "d4f4493c-3902-4d44-9cf9-021914c49ff5",
   "metadata": {},
   "outputs": [],
   "source": [
    "# n_cellphones_and_population_and_per_capita_df"
   ]
  },
  {
   "cell_type": "markdown",
   "id": "3be32876-aee5-4758-9251-511e515eb3f0",
   "metadata": {},
   "source": [
    "In the second table we are only interested in the column phones_per_capita, so we choose a subset."
   ]
  },
  {
   "cell_type": "code",
   "execution_count": 212,
   "id": "c3d95cae-e641-423c-8d83-432417c9198a",
   "metadata": {},
   "outputs": [],
   "source": [
    "# phones__per_capita_Series = n_cellphones_and_population_and_per_capita_df['phones_per_capita'].copy()"
   ]
  },
  {
   "cell_type": "code",
   "execution_count": 213,
   "id": "4b5eee4d-70c0-4c9b-bd0f-93ec53d160bd",
   "metadata": {},
   "outputs": [],
   "source": [
    "# phones__per_capita_Series.info()"
   ]
  },
  {
   "cell_type": "markdown",
   "id": "4ec00b85-0ca6-46a3-b6f5-aed3a4a41ae0",
   "metadata": {},
   "source": [
    "This is a Series, so we convert it to a DataFrame."
   ]
  },
  {
   "cell_type": "code",
   "execution_count": 214,
   "id": "42a4d0d1-c6ba-4e54-a014-fc155b5d18d1",
   "metadata": {},
   "outputs": [],
   "source": [
    "# phones__per_capita_df = pd.DataFrame(data=phones__per_capita_Series)"
   ]
  },
  {
   "cell_type": "code",
   "execution_count": 215,
   "id": "90914dd9-2eca-4a5a-82a9-0261c6334a99",
   "metadata": {},
   "outputs": [],
   "source": [
    "# phones__per_capita_df.info()"
   ]
  },
  {
   "cell_type": "code",
   "execution_count": 216,
   "id": "d65aab9d-b4d2-414c-af90-199ea952b629",
   "metadata": {},
   "outputs": [],
   "source": [
    "# phones__per_capita_df"
   ]
  },
  {
   "cell_type": "markdown",
   "id": "4cbd3770-efab-4573-823c-4e9607452d54",
   "metadata": {},
   "source": [
    "We want the country names and not the iso-3 codes, so we make a left join. First though, we make an unstack."
   ]
  },
  {
   "cell_type": "code",
   "execution_count": 217,
   "id": "7ea5be3c-4582-4fb7-850a-0506927e38ce",
   "metadata": {},
   "outputs": [],
   "source": [
    "# unstacked_phones_per_capita_df = phones__per_capita_df.unstack(level=-1)"
   ]
  },
  {
   "cell_type": "code",
   "execution_count": 218,
   "id": "5187c53f-05fd-4aa8-a50e-557065eeed39",
   "metadata": {},
   "outputs": [],
   "source": [
    "# unstacked_phones_per_capita_df.info()"
   ]
  },
  {
   "cell_type": "code",
   "execution_count": 219,
   "id": "4ffecb43-f133-4e59-88e9-d57543b5fdb9",
   "metadata": {},
   "outputs": [],
   "source": [
    "# unstacked_phones_per_capita_df"
   ]
  },
  {
   "cell_type": "code",
   "execution_count": 220,
   "id": "b6892741-73f8-4cf9-80b7-d3a85af3806a",
   "metadata": {},
   "outputs": [],
   "source": [
    "# unstacked_phones_per_capita_df.columns"
   ]
  },
  {
   "cell_type": "markdown",
   "id": "b7dcddd4-5667-4095-a88f-810854cb3e47",
   "metadata": {},
   "source": [
    "We will not need the column for 1960, so we delete it."
   ]
  },
  {
   "cell_type": "code",
   "execution_count": 221,
   "id": "52191e12-8f36-4c97-b3cf-f2a529de7d7a",
   "metadata": {},
   "outputs": [],
   "source": [
    "# years_unstacked_phones_per_capita_df = unstacked_phones_per_capita_df.drop(axis=1, columns=('phones_per_capita','1960'))"
   ]
  },
  {
   "cell_type": "code",
   "execution_count": 222,
   "id": "cd05f8e7-98d2-4a13-ba06-887dc2d9427a",
   "metadata": {},
   "outputs": [],
   "source": [
    "# years_unstacked_phones_per_capita_df"
   ]
  },
  {
   "cell_type": "markdown",
   "id": "3d13f45c-abdf-4cf6-9544-db6afee2c52f",
   "metadata": {},
   "source": [
    "We are only interested in the last five countries."
   ]
  },
  {
   "cell_type": "code",
   "execution_count": 223,
   "id": "06ef9f75-4a0e-467b-82d9-aad261fae8c7",
   "metadata": {},
   "outputs": [],
   "source": [
    "# countries_and_years_unstacked_phones_per_capita_df = years_unstacked_phones_per_capita_df.tail().copy()"
   ]
  },
  {
   "cell_type": "code",
   "execution_count": 224,
   "id": "52d16574-6af4-4898-8258-945bdcbe1899",
   "metadata": {},
   "outputs": [],
   "source": [
    "# countries_and_years_unstacked_phones_per_capita_df.info()"
   ]
  },
  {
   "cell_type": "markdown",
   "id": "ef2e766c-32da-4c88-b549-5214fe26b424",
   "metadata": {},
   "source": [
    "\n",
    "#### The second table\n"
   ]
  },
  {
   "cell_type": "markdown",
   "id": "510f90c1-204c-47c1-9af9-88aadf19506f",
   "metadata": {},
   "source": [
    "Time ran out to do more than this, for the first part of the assignment."
   ]
  },
  {
   "cell_type": "code",
   "execution_count": 225,
   "id": "d0838995-87c6-4129-a023-cfc6c0fdac01",
   "metadata": {},
   "outputs": [],
   "source": [
    "# countries_and_years_unstacked_phones_per_capita_df"
   ]
  },
  {
   "cell_type": "markdown",
   "id": "e7aa3cf0-2a65-4a6c-90bb-3a5a34f59344",
   "metadata": {},
   "source": [
    "Now we can choose the relevant column from name_strings_country_data_df"
   ]
  },
  {
   "cell_type": "code",
   "execution_count": 226,
   "id": "f8abcdf8-c129-429b-9dfb-fa598eb6c237",
   "metadata": {},
   "outputs": [],
   "source": [
    "# relevant_name_strings_country_data_Series = name_strings_country_data_df['name'].copy()"
   ]
  },
  {
   "cell_type": "code",
   "execution_count": 227,
   "id": "10f32be5-d5f4-45db-a543-633a45d1d35b",
   "metadata": {},
   "outputs": [],
   "source": [
    "# relevant_name_strings_country_data_Series.info()"
   ]
  },
  {
   "cell_type": "markdown",
   "id": "2196f2de-b2fc-4790-a37b-9322cdf7a355",
   "metadata": {},
   "source": [
    "Convert to data frame"
   ]
  },
  {
   "cell_type": "code",
   "execution_count": 228,
   "id": "442e6e3b-0866-479a-aa49-7b686c87bb17",
   "metadata": {},
   "outputs": [],
   "source": [
    "# relevant_name_strings_country_data_df = pd.DataFrame(data=relevant_name_strings_country_data_Series)"
   ]
  },
  {
   "cell_type": "code",
   "execution_count": 229,
   "id": "0df3174d-5daf-450f-b9ed-f4d1edaa6cb9",
   "metadata": {},
   "outputs": [],
   "source": [
    "# relevant_name_strings_country_data_df.info()"
   ]
  },
  {
   "cell_type": "markdown",
   "id": "a3ba3b67-3971-4c40-878a-f0c61a530b25",
   "metadata": {},
   "source": [
    "Time to join "
   ]
  },
  {
   "cell_type": "markdown",
   "id": "2fc4175e-ddbe-490d-80e4-6dbee15a6190",
   "metadata": {},
   "source": [
    "\n",
    "## SQL\n"
   ]
  },
  {
   "cell_type": "markdown",
   "id": "2e09cc05-f19f-4451-8302-8830cd63faec",
   "metadata": {},
   "source": [
    "Connect to the database and look at the data"
   ]
  },
  {
   "cell_type": "code",
   "execution_count": 230,
   "id": "17d0c2c8-38bf-43db-b571-f03d876d3f2e",
   "metadata": {},
   "outputs": [],
   "source": [
    "conn = sql.connect(\"./user_actions.db\")\n",
    "cursor = conn.cursor()"
   ]
  },
  {
   "cell_type": "code",
   "execution_count": 231,
   "id": "11e1b42d-4d74-4571-9a27-5134feb25738",
   "metadata": {},
   "outputs": [
    {
     "data": {
      "text/plain": [
       "[('user_actions',)]"
      ]
     },
     "execution_count": 231,
     "metadata": {},
     "output_type": "execute_result"
    }
   ],
   "source": [
    "tables = list(cursor.execute(\"SELECT name FROM sqlite_master WHERE type='table';\"))\n",
    "tables"
   ]
  },
  {
   "cell_type": "code",
   "execution_count": 232,
   "id": "fd41dddf-5208-4bec-9293-c805562a19c1",
   "metadata": {},
   "outputs": [
    {
     "data": {
      "text/plain": [
       "[]"
      ]
     },
     "execution_count": 232,
     "metadata": {},
     "output_type": "execute_result"
    }
   ],
   "source": [
    "views = list(cursor.execute(\"SELECT name FROM sqlite_master WHERE type='view';\"))\n",
    "views"
   ]
  },
  {
   "cell_type": "code",
   "execution_count": 233,
   "id": "50a3cb5e-57f2-402c-b229-41f136aa61ca",
   "metadata": {},
   "outputs": [
    {
     "name": "stdout",
     "output_type": "stream",
     "text": [
      "34\n",
      "user34\n",
      "user34@email.com\n",
      "signup\n",
      "2015-02-04 14:38:47\n",
      "None\n"
     ]
    }
   ],
   "source": [
    "# SELECT\n",
    "\n",
    "query = \"\"\"\n",
    "SELECT * \n",
    "FROM user_actions\n",
    "\"\"\"\n",
    "\n",
    "cursor.execute(query)\n",
    "\n",
    "for data in cursor.fetchone():    \n",
    "    print(data)\n",
    "user_action_pd = pd.read_sql_query(query, conn)"
   ]
  },
  {
   "cell_type": "code",
   "execution_count": 234,
   "id": "96925e5b-8a9b-41d3-aa35-cc3f431836f2",
   "metadata": {},
   "outputs": [
    {
     "name": "stdout",
     "output_type": "stream",
     "text": [
      "<class 'pandas.core.frame.DataFrame'>\n",
      "RangeIndex: 8040 entries, 0 to 8039\n",
      "Data columns (total 6 columns):\n",
      " #   Column     Non-Null Count  Dtype \n",
      "---  ------     --------------  ----- \n",
      " 0   user_id    8040 non-null   int64 \n",
      " 1   username   8040 non-null   object\n",
      " 2   email      8040 non-null   object\n",
      " 3   action     8040 non-null   object\n",
      " 4   timestamp  8040 non-null   object\n",
      " 5   day        0 non-null      object\n",
      "dtypes: int64(1), object(5)\n",
      "memory usage: 377.0+ KB\n"
     ]
    }
   ],
   "source": [
    "user_action_pd.info()"
   ]
  },
  {
   "cell_type": "markdown",
   "id": "e072d870-b2c9-4be7-af29-8ee6b9ee7a85",
   "metadata": {},
   "source": [
    "\n",
    "#### Users who have \"signedup\"\n"
   ]
  },
  {
   "cell_type": "code",
   "execution_count": 235,
   "id": "de0fe08c-158b-4a92-9a04-f0d5c3b696b5",
   "metadata": {},
   "outputs": [
    {
     "data": {
      "text/html": [
       "<div>\n",
       "<style scoped>\n",
       "    .dataframe tbody tr th:only-of-type {\n",
       "        vertical-align: middle;\n",
       "    }\n",
       "\n",
       "    .dataframe tbody tr th {\n",
       "        vertical-align: top;\n",
       "    }\n",
       "\n",
       "    .dataframe thead th {\n",
       "        text-align: right;\n",
       "    }\n",
       "</style>\n",
       "<table border=\"1\" class=\"dataframe\">\n",
       "  <thead>\n",
       "    <tr style=\"text-align: right;\">\n",
       "      <th></th>\n",
       "      <th>username</th>\n",
       "    </tr>\n",
       "  </thead>\n",
       "  <tbody>\n",
       "    <tr>\n",
       "      <th>2</th>\n",
       "      <td>user1</td>\n",
       "    </tr>\n",
       "    <tr>\n",
       "      <th>18</th>\n",
       "      <td>user10</td>\n",
       "    </tr>\n",
       "    <tr>\n",
       "      <th>20</th>\n",
       "      <td>user11</td>\n",
       "    </tr>\n",
       "    <tr>\n",
       "      <th>22</th>\n",
       "      <td>user12</td>\n",
       "    </tr>\n",
       "    <tr>\n",
       "      <th>15</th>\n",
       "      <td>user13</td>\n",
       "    </tr>\n",
       "    <tr>\n",
       "      <th>26</th>\n",
       "      <td>user14</td>\n",
       "    </tr>\n",
       "    <tr>\n",
       "      <th>4</th>\n",
       "      <td>user15</td>\n",
       "    </tr>\n",
       "    <tr>\n",
       "      <th>11</th>\n",
       "      <td>user16</td>\n",
       "    </tr>\n",
       "    <tr>\n",
       "      <th>12</th>\n",
       "      <td>user17</td>\n",
       "    </tr>\n",
       "    <tr>\n",
       "      <th>6</th>\n",
       "      <td>user18</td>\n",
       "    </tr>\n",
       "    <tr>\n",
       "      <th>16</th>\n",
       "      <td>user19</td>\n",
       "    </tr>\n",
       "    <tr>\n",
       "      <th>33</th>\n",
       "      <td>user2</td>\n",
       "    </tr>\n",
       "    <tr>\n",
       "      <th>5</th>\n",
       "      <td>user20</td>\n",
       "    </tr>\n",
       "    <tr>\n",
       "      <th>24</th>\n",
       "      <td>user21</td>\n",
       "    </tr>\n",
       "    <tr>\n",
       "      <th>30</th>\n",
       "      <td>user22</td>\n",
       "    </tr>\n",
       "    <tr>\n",
       "      <th>19</th>\n",
       "      <td>user23</td>\n",
       "    </tr>\n",
       "    <tr>\n",
       "      <th>3</th>\n",
       "      <td>user24</td>\n",
       "    </tr>\n",
       "    <tr>\n",
       "      <th>7</th>\n",
       "      <td>user25</td>\n",
       "    </tr>\n",
       "    <tr>\n",
       "      <th>29</th>\n",
       "      <td>user26</td>\n",
       "    </tr>\n",
       "    <tr>\n",
       "      <th>10</th>\n",
       "      <td>user27</td>\n",
       "    </tr>\n",
       "    <tr>\n",
       "      <th>1</th>\n",
       "      <td>user28</td>\n",
       "    </tr>\n",
       "    <tr>\n",
       "      <th>23</th>\n",
       "      <td>user29</td>\n",
       "    </tr>\n",
       "    <tr>\n",
       "      <th>8</th>\n",
       "      <td>user3</td>\n",
       "    </tr>\n",
       "    <tr>\n",
       "      <th>27</th>\n",
       "      <td>user30</td>\n",
       "    </tr>\n",
       "    <tr>\n",
       "      <th>17</th>\n",
       "      <td>user31</td>\n",
       "    </tr>\n",
       "    <tr>\n",
       "      <th>34</th>\n",
       "      <td>user32</td>\n",
       "    </tr>\n",
       "    <tr>\n",
       "      <th>21</th>\n",
       "      <td>user33</td>\n",
       "    </tr>\n",
       "    <tr>\n",
       "      <th>0</th>\n",
       "      <td>user34</td>\n",
       "    </tr>\n",
       "    <tr>\n",
       "      <th>32</th>\n",
       "      <td>user35</td>\n",
       "    </tr>\n",
       "    <tr>\n",
       "      <th>13</th>\n",
       "      <td>user4</td>\n",
       "    </tr>\n",
       "    <tr>\n",
       "      <th>31</th>\n",
       "      <td>user5</td>\n",
       "    </tr>\n",
       "    <tr>\n",
       "      <th>25</th>\n",
       "      <td>user6</td>\n",
       "    </tr>\n",
       "    <tr>\n",
       "      <th>28</th>\n",
       "      <td>user7</td>\n",
       "    </tr>\n",
       "    <tr>\n",
       "      <th>14</th>\n",
       "      <td>user8</td>\n",
       "    </tr>\n",
       "    <tr>\n",
       "      <th>9</th>\n",
       "      <td>user9</td>\n",
       "    </tr>\n",
       "  </tbody>\n",
       "</table>\n",
       "</div>"
      ],
      "text/plain": [
       "   username\n",
       "2     user1\n",
       "18   user10\n",
       "20   user11\n",
       "22   user12\n",
       "15   user13\n",
       "26   user14\n",
       "4    user15\n",
       "11   user16\n",
       "12   user17\n",
       "6    user18\n",
       "16   user19\n",
       "33    user2\n",
       "5    user20\n",
       "24   user21\n",
       "30   user22\n",
       "19   user23\n",
       "3    user24\n",
       "7    user25\n",
       "29   user26\n",
       "10   user27\n",
       "1    user28\n",
       "23   user29\n",
       "8     user3\n",
       "27   user30\n",
       "17   user31\n",
       "34   user32\n",
       "21   user33\n",
       "0    user34\n",
       "32   user35\n",
       "13    user4\n",
       "31    user5\n",
       "25    user6\n",
       "28    user7\n",
       "14    user8\n",
       "9     user9"
      ]
     },
     "execution_count": 235,
     "metadata": {},
     "output_type": "execute_result"
    }
   ],
   "source": [
    "query = \"\"\"\n",
    "SELECT username \n",
    "FROM user_actions\n",
    "WHERE action='signup'\n",
    "\"\"\"\n",
    "\n",
    "cursor.execute(query)\n",
    "\n",
    "# for data in cursor.fetchall():    \n",
    "#    print(data)\n",
    "\n",
    "pd.read_sql_query(query, conn).sort_values(by='username')"
   ]
  },
  {
   "cell_type": "markdown",
   "id": "5c1dd014-127d-4393-b30c-ccf0a0e8b32b",
   "metadata": {},
   "source": [
    "\n",
    "#### Total number of log entries for each user\n"
   ]
  },
  {
   "cell_type": "code",
   "execution_count": 236,
   "id": "c1a3e095-343b-4844-a39e-c4527f334f6d",
   "metadata": {},
   "outputs": [
    {
     "data": {
      "text/html": [
       "<div>\n",
       "<style scoped>\n",
       "    .dataframe tbody tr th:only-of-type {\n",
       "        vertical-align: middle;\n",
       "    }\n",
       "\n",
       "    .dataframe tbody tr th {\n",
       "        vertical-align: top;\n",
       "    }\n",
       "\n",
       "    .dataframe thead th {\n",
       "        text-align: right;\n",
       "    }\n",
       "</style>\n",
       "<table border=\"1\" class=\"dataframe\">\n",
       "  <thead>\n",
       "    <tr style=\"text-align: right;\">\n",
       "      <th></th>\n",
       "      <th>user_id</th>\n",
       "      <th>username</th>\n",
       "      <th>count(*)</th>\n",
       "    </tr>\n",
       "  </thead>\n",
       "  <tbody>\n",
       "    <tr>\n",
       "      <th>0</th>\n",
       "      <td>1</td>\n",
       "      <td>user1</td>\n",
       "      <td>97</td>\n",
       "    </tr>\n",
       "    <tr>\n",
       "      <th>1</th>\n",
       "      <td>10</td>\n",
       "      <td>user10</td>\n",
       "      <td>163</td>\n",
       "    </tr>\n",
       "    <tr>\n",
       "      <th>2</th>\n",
       "      <td>11</td>\n",
       "      <td>user11</td>\n",
       "      <td>319</td>\n",
       "    </tr>\n",
       "    <tr>\n",
       "      <th>3</th>\n",
       "      <td>12</td>\n",
       "      <td>user12</td>\n",
       "      <td>202</td>\n",
       "    </tr>\n",
       "    <tr>\n",
       "      <th>4</th>\n",
       "      <td>13</td>\n",
       "      <td>user13</td>\n",
       "      <td>464</td>\n",
       "    </tr>\n",
       "    <tr>\n",
       "      <th>5</th>\n",
       "      <td>14</td>\n",
       "      <td>user14</td>\n",
       "      <td>311</td>\n",
       "    </tr>\n",
       "    <tr>\n",
       "      <th>6</th>\n",
       "      <td>15</td>\n",
       "      <td>user15</td>\n",
       "      <td>30</td>\n",
       "    </tr>\n",
       "    <tr>\n",
       "      <th>7</th>\n",
       "      <td>16</td>\n",
       "      <td>user16</td>\n",
       "      <td>370</td>\n",
       "    </tr>\n",
       "    <tr>\n",
       "      <th>8</th>\n",
       "      <td>17</td>\n",
       "      <td>user17</td>\n",
       "      <td>356</td>\n",
       "    </tr>\n",
       "    <tr>\n",
       "      <th>9</th>\n",
       "      <td>18</td>\n",
       "      <td>user18</td>\n",
       "      <td>116</td>\n",
       "    </tr>\n",
       "    <tr>\n",
       "      <th>10</th>\n",
       "      <td>19</td>\n",
       "      <td>user19</td>\n",
       "      <td>48</td>\n",
       "    </tr>\n",
       "    <tr>\n",
       "      <th>11</th>\n",
       "      <td>2</td>\n",
       "      <td>user2</td>\n",
       "      <td>139</td>\n",
       "    </tr>\n",
       "    <tr>\n",
       "      <th>12</th>\n",
       "      <td>20</td>\n",
       "      <td>user20</td>\n",
       "      <td>353</td>\n",
       "    </tr>\n",
       "    <tr>\n",
       "      <th>13</th>\n",
       "      <td>21</td>\n",
       "      <td>user21</td>\n",
       "      <td>318</td>\n",
       "    </tr>\n",
       "    <tr>\n",
       "      <th>14</th>\n",
       "      <td>22</td>\n",
       "      <td>user22</td>\n",
       "      <td>264</td>\n",
       "    </tr>\n",
       "    <tr>\n",
       "      <th>15</th>\n",
       "      <td>23</td>\n",
       "      <td>user23</td>\n",
       "      <td>301</td>\n",
       "    </tr>\n",
       "    <tr>\n",
       "      <th>16</th>\n",
       "      <td>24</td>\n",
       "      <td>user24</td>\n",
       "      <td>152</td>\n",
       "    </tr>\n",
       "    <tr>\n",
       "      <th>17</th>\n",
       "      <td>25</td>\n",
       "      <td>user25</td>\n",
       "      <td>131</td>\n",
       "    </tr>\n",
       "    <tr>\n",
       "      <th>18</th>\n",
       "      <td>26</td>\n",
       "      <td>user26</td>\n",
       "      <td>213</td>\n",
       "    </tr>\n",
       "    <tr>\n",
       "      <th>19</th>\n",
       "      <td>27</td>\n",
       "      <td>user27</td>\n",
       "      <td>201</td>\n",
       "    </tr>\n",
       "    <tr>\n",
       "      <th>20</th>\n",
       "      <td>28</td>\n",
       "      <td>user28</td>\n",
       "      <td>81</td>\n",
       "    </tr>\n",
       "    <tr>\n",
       "      <th>21</th>\n",
       "      <td>29</td>\n",
       "      <td>user29</td>\n",
       "      <td>42</td>\n",
       "    </tr>\n",
       "    <tr>\n",
       "      <th>22</th>\n",
       "      <td>3</td>\n",
       "      <td>user3</td>\n",
       "      <td>101</td>\n",
       "    </tr>\n",
       "    <tr>\n",
       "      <th>23</th>\n",
       "      <td>30</td>\n",
       "      <td>user30</td>\n",
       "      <td>160</td>\n",
       "    </tr>\n",
       "    <tr>\n",
       "      <th>24</th>\n",
       "      <td>31</td>\n",
       "      <td>user31</td>\n",
       "      <td>381</td>\n",
       "    </tr>\n",
       "    <tr>\n",
       "      <th>25</th>\n",
       "      <td>32</td>\n",
       "      <td>user32</td>\n",
       "      <td>22</td>\n",
       "    </tr>\n",
       "    <tr>\n",
       "      <th>26</th>\n",
       "      <td>33</td>\n",
       "      <td>user33</td>\n",
       "      <td>23</td>\n",
       "    </tr>\n",
       "    <tr>\n",
       "      <th>27</th>\n",
       "      <td>34</td>\n",
       "      <td>user34</td>\n",
       "      <td>175</td>\n",
       "    </tr>\n",
       "    <tr>\n",
       "      <th>28</th>\n",
       "      <td>35</td>\n",
       "      <td>user35</td>\n",
       "      <td>384</td>\n",
       "    </tr>\n",
       "    <tr>\n",
       "      <th>29</th>\n",
       "      <td>4</td>\n",
       "      <td>user4</td>\n",
       "      <td>425</td>\n",
       "    </tr>\n",
       "    <tr>\n",
       "      <th>30</th>\n",
       "      <td>5</td>\n",
       "      <td>user5</td>\n",
       "      <td>182</td>\n",
       "    </tr>\n",
       "    <tr>\n",
       "      <th>31</th>\n",
       "      <td>6</td>\n",
       "      <td>user6</td>\n",
       "      <td>448</td>\n",
       "    </tr>\n",
       "    <tr>\n",
       "      <th>32</th>\n",
       "      <td>7</td>\n",
       "      <td>user7</td>\n",
       "      <td>358</td>\n",
       "    </tr>\n",
       "    <tr>\n",
       "      <th>33</th>\n",
       "      <td>8</td>\n",
       "      <td>user8</td>\n",
       "      <td>318</td>\n",
       "    </tr>\n",
       "    <tr>\n",
       "      <th>34</th>\n",
       "      <td>9</td>\n",
       "      <td>user9</td>\n",
       "      <td>109</td>\n",
       "    </tr>\n",
       "  </tbody>\n",
       "</table>\n",
       "</div>"
      ],
      "text/plain": [
       "    user_id username  count(*)\n",
       "0         1    user1        97\n",
       "1        10   user10       163\n",
       "2        11   user11       319\n",
       "3        12   user12       202\n",
       "4        13   user13       464\n",
       "5        14   user14       311\n",
       "6        15   user15        30\n",
       "7        16   user16       370\n",
       "8        17   user17       356\n",
       "9        18   user18       116\n",
       "10       19   user19        48\n",
       "11        2    user2       139\n",
       "12       20   user20       353\n",
       "13       21   user21       318\n",
       "14       22   user22       264\n",
       "15       23   user23       301\n",
       "16       24   user24       152\n",
       "17       25   user25       131\n",
       "18       26   user26       213\n",
       "19       27   user27       201\n",
       "20       28   user28        81\n",
       "21       29   user29        42\n",
       "22        3    user3       101\n",
       "23       30   user30       160\n",
       "24       31   user31       381\n",
       "25       32   user32        22\n",
       "26       33   user33        23\n",
       "27       34   user34       175\n",
       "28       35   user35       384\n",
       "29        4    user4       425\n",
       "30        5    user5       182\n",
       "31        6    user6       448\n",
       "32        7    user7       358\n",
       "33        8    user8       318\n",
       "34        9    user9       109"
      ]
     },
     "execution_count": 236,
     "metadata": {},
     "output_type": "execute_result"
    }
   ],
   "source": [
    "query = \"\"\"\n",
    "SELECT user_id, username, count(*) \n",
    "FROM user_actions\n",
    "WHERE action='login'\n",
    "GROUP BY username\n",
    "\"\"\"\n",
    "\n",
    "cursor.execute(query)\n",
    "\n",
    "# for data in cursor.fetchall():  \n",
    "#     print(data)\n",
    "\n",
    "pd.read_sql_query(query, conn).sort_values(by='username')"
   ]
  },
  {
   "cell_type": "markdown",
   "id": "5f1a29db-4dca-4f01-80bb-bdb184c6b16a",
   "metadata": {},
   "source": [
    "\n",
    "#### Users who have logged in and signed up on the same day\n"
   ]
  },
  {
   "cell_type": "markdown",
   "id": "2ad0b48f-8524-4a3e-bdb2-c7a822a599dc",
   "metadata": {},
   "source": [
    "Create two views, for signup and login, with new column, 'day', from 'timestamp'."
   ]
  },
  {
   "cell_type": "code",
   "execution_count": 237,
   "id": "56f43b65-d108-4b7b-acae-a126a74136c3",
   "metadata": {},
   "outputs": [],
   "source": [
    "query = \"\"\"\n",
    "SELECT *\n",
    "FROM user_actions\n",
    "\"\"\"\n",
    "\n",
    "#cursor.execute(query)\n",
    "\n",
    "# for data in cursor.fetchall():\n",
    "# for data in cursor.fetchone():    \n",
    "#    print(data)"
   ]
  },
  {
   "cell_type": "code",
   "execution_count": 238,
   "id": "b8d6b948-a311-4701-9f1e-fc2e1620a428",
   "metadata": {},
   "outputs": [],
   "source": [
    "query = \"\"\"\n",
    "CREATE VIEW login_view \n",
    " (user_id, login_username, login_day)  \n",
    "AS SELECT user_id, username, date(timestamp)\n",
    "FROM user_actions\n",
    "WHERE action='login' \n",
    "GROUP BY username, date(timestamp);\n",
    "\"\"\"\n",
    "cursor.execute(query);\n",
    "\n",
    "#for data in cursor.fetchone():\n",
    "# for data in cursor.fetchone():    \n",
    "#    print(data)\n",
    "# pd.read_sql_query(query, conn)\n",
    "#pd.read_sql_query(query, conn).sort_values(by='username')"
   ]
  },
  {
   "cell_type": "code",
   "execution_count": 239,
   "id": "3a7cabf3-2b26-40e7-8c8a-97d78e3e1dbc",
   "metadata": {},
   "outputs": [],
   "source": [
    "query = \"\"\"\n",
    "CREATE VIEW signup_view \n",
    "  (user_id, signup_username, signup_day) \n",
    "AS SELECT user_id, username, date(timestamp)\n",
    "FROM user_actions\n",
    "WHERE action='signup' \n",
    "GROUP BY username, date(timestamp);\n",
    "\"\"\"\n",
    "cursor.execute(query);\n",
    "\n",
    "# for data in cursor.fetchone():\n",
    "# for data in cursor.fetchone():    \n",
    "#    print(data)\n",
    "# pd.read_sql_query(query, conn)\n",
    "# pd.read_sql_query(query, conn).sort_values(by='username')"
   ]
  },
  {
   "cell_type": "markdown",
   "id": "4747b1f5-864a-4f77-8935-a5a2b8c8c27b",
   "metadata": {},
   "source": [
    "\n",
    "##### Users who have signed up and logged in the same day.\n"
   ]
  },
  {
   "cell_type": "code",
   "execution_count": 240,
   "id": "8ce7d928-110b-4ba6-96b9-73c21e30a607",
   "metadata": {},
   "outputs": [
    {
     "data": {
      "text/html": [
       "<div>\n",
       "<style scoped>\n",
       "    .dataframe tbody tr th:only-of-type {\n",
       "        vertical-align: middle;\n",
       "    }\n",
       "\n",
       "    .dataframe tbody tr th {\n",
       "        vertical-align: top;\n",
       "    }\n",
       "\n",
       "    .dataframe thead th {\n",
       "        text-align: right;\n",
       "    }\n",
       "</style>\n",
       "<table border=\"1\" class=\"dataframe\">\n",
       "  <thead>\n",
       "    <tr style=\"text-align: right;\">\n",
       "      <th></th>\n",
       "      <th>user_id</th>\n",
       "      <th>signup_username</th>\n",
       "      <th>signup_day</th>\n",
       "    </tr>\n",
       "  </thead>\n",
       "  <tbody>\n",
       "    <tr>\n",
       "      <th>7</th>\n",
       "      <td>8</td>\n",
       "      <td>user8</td>\n",
       "      <td>2018-04-15</td>\n",
       "    </tr>\n",
       "    <tr>\n",
       "      <th>0</th>\n",
       "      <td>12</td>\n",
       "      <td>user12</td>\n",
       "      <td>2020-05-07</td>\n",
       "    </tr>\n",
       "    <tr>\n",
       "      <th>3</th>\n",
       "      <td>30</td>\n",
       "      <td>user30</td>\n",
       "      <td>2021-11-15</td>\n",
       "    </tr>\n",
       "    <tr>\n",
       "      <th>6</th>\n",
       "      <td>7</td>\n",
       "      <td>user7</td>\n",
       "      <td>2021-12-19</td>\n",
       "    </tr>\n",
       "    <tr>\n",
       "      <th>2</th>\n",
       "      <td>22</td>\n",
       "      <td>user22</td>\n",
       "      <td>2022-07-27</td>\n",
       "    </tr>\n",
       "    <tr>\n",
       "      <th>5</th>\n",
       "      <td>5</td>\n",
       "      <td>user5</td>\n",
       "      <td>2022-08-19</td>\n",
       "    </tr>\n",
       "    <tr>\n",
       "      <th>1</th>\n",
       "      <td>2</td>\n",
       "      <td>user2</td>\n",
       "      <td>2022-11-05</td>\n",
       "    </tr>\n",
       "    <tr>\n",
       "      <th>4</th>\n",
       "      <td>32</td>\n",
       "      <td>user32</td>\n",
       "      <td>2022-11-28</td>\n",
       "    </tr>\n",
       "  </tbody>\n",
       "</table>\n",
       "</div>"
      ],
      "text/plain": [
       "   user_id signup_username  signup_day\n",
       "7        8           user8  2018-04-15\n",
       "0       12          user12  2020-05-07\n",
       "3       30          user30  2021-11-15\n",
       "6        7           user7  2021-12-19\n",
       "2       22          user22  2022-07-27\n",
       "5        5           user5  2022-08-19\n",
       "1        2           user2  2022-11-05\n",
       "4       32          user32  2022-11-28"
      ]
     },
     "execution_count": 240,
     "metadata": {},
     "output_type": "execute_result"
    }
   ],
   "source": [
    "query = \"\"\"\n",
    "SELECT signup_view.user_id, signup_username, signup_day\n",
    "FROM signup_view, login_view\n",
    "WHERE signup_username = login_username\n",
    "      AND signup_day = login_day\n",
    "GROUP BY login_username\n",
    "\"\"\"\n",
    "cursor.execute(query)\n",
    "# for data in cursor.fetchone():\n",
    "# for data in cursor.fetchone():    \n",
    "#    print(data)\n",
    "# pd.read_sql_query(query, conn)\n",
    "pd.read_sql_query(query, conn).sort_values(by='signup_day')"
   ]
  },
  {
   "cell_type": "markdown",
   "id": "94a3c561-8bab-417e-9a62-77388fef196c",
   "metadata": {},
   "source": [
    "Cleaning up by dropping the views."
   ]
  },
  {
   "cell_type": "code",
   "execution_count": 241,
   "id": "1f07a05c-9f58-4696-81f7-86607f095537",
   "metadata": {},
   "outputs": [],
   "source": [
    "query = \"\"\"\n",
    "DROP VIEW login_view\n",
    "\"\"\"\n",
    "cursor.execute(query);\n",
    "#AND login_view.date(timestamp) = signup_view.date(timestamp) \n",
    "# WHERE login_view.username = signup_view.username \n",
    "# GROUP BY username\n",
    "#for data in cursor.fetchone():\n",
    "# for data in cursor.fetchone():    \n",
    "#   print(data)\n",
    "# pd.read_sql_query(query, conn)\n",
    "# pd.read_sql_query(query, conn).sort_values(by='username')"
   ]
  },
  {
   "cell_type": "code",
   "execution_count": 242,
   "id": "dacc6862-ebba-4db5-8659-86119f7e8a07",
   "metadata": {},
   "outputs": [],
   "source": [
    "query = \"\"\"\n",
    "DROP VIEW signup_view\n",
    "\"\"\"\n",
    "cursor.execute(query);"
   ]
  },
  {
   "cell_type": "code",
   "execution_count": 243,
   "id": "f0e07fae-0adf-40c9-8670-a74af9d366d7",
   "metadata": {},
   "outputs": [],
   "source": [
    "query = \"\"\"\n",
    "SELECT user_id, username, action, date(timestamp)\n",
    "FROM user_actions\n",
    "WHERE username='user1' AND (action='login' OR action='signup')\n",
    "GROUP BY date(timestamp)\n",
    "\"\"\"\n",
    "# cursor.execute(query)\n",
    "\n",
    "# for data in cursor.fetchall():\n",
    "# for data in cursor.fetchone():    \n",
    "#    print(data)\n",
    "# pd.read_sql_query(query, conn)\n",
    "# pd.read_sql_query(query, conn).sort_values(by='username')"
   ]
  },
  {
   "cell_type": "code",
   "execution_count": 244,
   "id": "07e03e84-cda2-4e92-b5ab-b0e79d5cd404",
   "metadata": {},
   "outputs": [],
   "source": [
    "query = \"\"\"\n",
    "SELECT user_id, username, day\n",
    "FROM user_actions\n",
    "WHERE action='login' OR action='signup'\n",
    "GROUP BY day\n",
    "\"\"\"\n",
    "\n",
    "# cursor.execute(query)\n",
    "\n",
    "# for data in cursor.fetchone():\n",
    "# for data in cursor.fetchone():    \n",
    "#     print(data)\n",
    "# pd.read_sql_query(query, conn)\n",
    "# pd.read_sql_query(query, conn).sort_values(by='username')"
   ]
  },
  {
   "cell_type": "markdown",
   "id": "3f0261ea-c923-4d27-9f00-b15d42be7f16",
   "metadata": {},
   "source": [
    "\n",
    "## Regex\n"
   ]
  },
  {
   "cell_type": "markdown",
   "id": "ca35ce37-a3e1-4bb7-8a72-4ff8370c2387",
   "metadata": {},
   "source": [
    "\n",
    "#### Read data from file\n"
   ]
  },
  {
   "cell_type": "code",
   "execution_count": 245,
   "id": "22c7aa92-bdca-4900-bd31-73409fde3e9d",
   "metadata": {},
   "outputs": [],
   "source": [
    "first_part = r\"^\\d{1,3}\\.\" # split each line at the beginning number, which will not be saved"
   ]
  },
  {
   "cell_type": "code",
   "execution_count": 246,
   "id": "6c3f0ec0-01fa-4921-8ca1-c70d6d425f31",
   "metadata": {},
   "outputs": [],
   "source": [
    "comments_pd = pd.read_table('comments.txt', sep=first_part, names=['id', 'comment'], engine='python')"
   ]
  },
  {
   "cell_type": "code",
   "execution_count": 247,
   "id": "9f41c44e-b6c6-43b8-8d03-84d8f69ab05c",
   "metadata": {},
   "outputs": [
    {
     "data": {
      "text/plain": [
       "0            \"Great post! #programming #tips\"\n",
       "1      \"Enjoyed the article. #coding #python\"\n",
       "2         \"Interesting insights. #tech #data\"\n",
       "3     \"This is awesome! #programming #coding\"\n",
       "4       \"Thanks for sharing. #data #analysis\"\n",
       "Name: comment, dtype: object"
      ]
     },
     "execution_count": 247,
     "metadata": {},
     "output_type": "execute_result"
    }
   ],
   "source": [
    "comments_pd['comment'].head() # show the first five comments"
   ]
  },
  {
   "cell_type": "code",
   "execution_count": 248,
   "id": "5da3aa7f-1a63-48cc-a176-9d67d9aa287a",
   "metadata": {},
   "outputs": [],
   "source": [
    "# comments_pd.info()"
   ]
  },
  {
   "cell_type": "code",
   "execution_count": 249,
   "id": "d762ea83-796e-4eb3-b672-8522e46c16ad",
   "metadata": {},
   "outputs": [],
   "source": [
    "# comments_pd.head()"
   ]
  },
  {
   "cell_type": "code",
   "execution_count": 250,
   "id": "f98966f6-edae-4588-83a3-0f6626b7d193",
   "metadata": {},
   "outputs": [
    {
     "data": {
      "text/plain": [
       "id         float64\n",
       "comment     object\n",
       "dtype: object"
      ]
     },
     "execution_count": 250,
     "metadata": {},
     "output_type": "execute_result"
    }
   ],
   "source": [
    "comments_pd.dtypes"
   ]
  },
  {
   "cell_type": "markdown",
   "id": "1061eb8c-f9f8-45da-ac97-978bf7788a92",
   "metadata": {},
   "source": [
    "\n",
    "##### Drop the 'id' column and convert the comments to strings\n"
   ]
  },
  {
   "cell_type": "markdown",
   "id": "2ac8bb47-7456-431a-93b8-0efe550aab04",
   "metadata": {},
   "source": [
    "This will create a Series of strings."
   ]
  },
  {
   "cell_type": "code",
   "execution_count": 251,
   "id": "29e30870-cb89-4146-9acd-ff5dfa0578a0",
   "metadata": {},
   "outputs": [],
   "source": [
    "string_comments = comments_pd['comment'].astype({'comment' : 'string'}, copy=True)"
   ]
  },
  {
   "cell_type": "code",
   "execution_count": 252,
   "id": "37e1d98c-3cb4-4e06-a156-7fcb960d06ea",
   "metadata": {},
   "outputs": [],
   "source": [
    "# string_comments.info()"
   ]
  },
  {
   "cell_type": "code",
   "execution_count": 253,
   "id": "a97c74a8-5e66-4571-b59b-ae6efa19ccac",
   "metadata": {},
   "outputs": [
    {
     "data": {
      "text/plain": [
       "0                  \"Great post! #programming #tips\"\n",
       "1            \"Enjoyed the article. #coding #python\"\n",
       "2               \"Interesting insights. #tech #data\"\n",
       "3           \"This is awesome! #programming #coding\"\n",
       "4             \"Thanks for sharing. #data #analysis\"\n",
       "5     \"I learned a lot. #programming #python #tips\"\n",
       "Name: comment, dtype: string"
      ]
     },
     "execution_count": 253,
     "metadata": {},
     "output_type": "execute_result"
    }
   ],
   "source": [
    "string_comments.head(6) # show the first six comments"
   ]
  },
  {
   "cell_type": "code",
   "execution_count": 254,
   "id": "e9cd0841-36eb-48da-8977-b527e1ac36de",
   "metadata": {},
   "outputs": [],
   "source": [
    "# string_comments.tail()"
   ]
  },
  {
   "cell_type": "code",
   "execution_count": 255,
   "id": "a57a8938-5903-4e7d-88b8-3d1c0c8e0419",
   "metadata": {},
   "outputs": [],
   "source": [
    "# string_comments[99]"
   ]
  },
  {
   "cell_type": "code",
   "execution_count": 256,
   "id": "57750d2a-1ac3-4b73-9ba2-7251547a116e",
   "metadata": {},
   "outputs": [],
   "source": [
    "# string_comments[97]"
   ]
  },
  {
   "cell_type": "code",
   "execution_count": 257,
   "id": "7e55de51-b3a5-4c4d-aaf7-c21d6155b0a8",
   "metadata": {},
   "outputs": [],
   "source": [
    "# string_comments[1]"
   ]
  },
  {
   "cell_type": "markdown",
   "id": "935e7db8-8fce-42f6-a752-ab9064e26c30",
   "metadata": {},
   "source": [
    "\n",
    "#### Solve tasks\n"
   ]
  },
  {
   "cell_type": "markdown",
   "id": "3f3c1b0e-d6de-45a3-b4a1-9513b68b6cc1",
   "metadata": {},
   "source": [
    "\n",
    "##### All hashtags\n"
   ]
  },
  {
   "cell_type": "code",
   "execution_count": 258,
   "id": "d0049ffb-51d1-4a7e-9447-9ca608c60ad9",
   "metadata": {},
   "outputs": [
    {
     "data": {
      "text/plain": [
       "'[#]{1}[\\\\w]+'"
      ]
     },
     "execution_count": 258,
     "metadata": {},
     "output_type": "execute_result"
    }
   ],
   "source": [
    "pattern_all_hashtags = r\"[#]{1}[\\w]+\"\n",
    "pattern_all_hashtags"
   ]
  },
  {
   "cell_type": "code",
   "execution_count": 259,
   "id": "6db1b591-d50c-4c7f-96b1-12ba35cf293e",
   "metadata": {},
   "outputs": [],
   "source": [
    "# tag_comment_1 = re.findall(pattern_all_hashtags, string_comments[1]) # the second comment\n",
    "# print(tag_comment_1)"
   ]
  },
  {
   "cell_type": "markdown",
   "id": "0ed0af86-ca4c-4a00-b48d-6863895673e8",
   "metadata": {},
   "source": [
    "\n",
    "###### All hashtags are found in the first comment\n"
   ]
  },
  {
   "cell_type": "code",
   "execution_count": 260,
   "id": "351dfa81-c6ee-494a-b8ca-37fb45ba5f50",
   "metadata": {},
   "outputs": [
    {
     "name": "stdout",
     "output_type": "stream",
     "text": [
      "['#programming', '#tips']\n"
     ]
    }
   ],
   "source": [
    "tag_comment_0 = re.findall(pattern_all_hashtags, string_comments[0])\n",
    "print(tag_comment_0)"
   ]
  },
  {
   "cell_type": "markdown",
   "id": "8af32f57-5ab7-411d-8fb8-3959b0951969",
   "metadata": {},
   "source": [
    "\n",
    "##### Both #programming and #python\n"
   ]
  },
  {
   "cell_type": "code",
   "execution_count": 261,
   "id": "51177f5c-f751-416c-a0ce-61d07cb62dec",
   "metadata": {},
   "outputs": [],
   "source": [
    "# pattern_both_test = r\"[#programming]+ och [#python]+\"\n",
    "# pattern_both_test"
   ]
  },
  {
   "cell_type": "code",
   "execution_count": 262,
   "id": "7254b146-67d3-43b6-9223-a557aba925d5",
   "metadata": {},
   "outputs": [
    {
     "data": {
      "text/plain": [
       "'[#p]{1}[\\\\w]+[o]{1}[\\\\w]*[n]{1}[\\\\w]*'"
      ]
     },
     "execution_count": 262,
     "metadata": {},
     "output_type": "execute_result"
    }
   ],
   "source": [
    "pattern_both = r\"[#p]{1}[\\w]+[o]{1}[\\w]*[n]{1}[\\w]*\"\n",
    "pattern_both"
   ]
  },
  {
   "cell_type": "code",
   "execution_count": 263,
   "id": "c4c74d73-061f-4bcc-81ab-c9c154f734ef",
   "metadata": {},
   "outputs": [],
   "source": [
    "# both_tag_comment_0 = re.findall(pattern_both, string_comments[0])\n",
    "# print(both_tag_comment_0)"
   ]
  },
  {
   "cell_type": "markdown",
   "id": "77035bd7-c3e7-4d64-9f58-67ae8252431e",
   "metadata": {},
   "source": [
    "\n",
    "###### In the second comment, #python is found, but not #programming\n"
   ]
  },
  {
   "cell_type": "code",
   "execution_count": 264,
   "id": "d25d9977-7c06-444b-bc72-0e7f5adb006f",
   "metadata": {},
   "outputs": [
    {
     "name": "stdout",
     "output_type": "stream",
     "text": [
      "['#coding', '#python']\n"
     ]
    }
   ],
   "source": [
    "both_tag_comment_1 = re.findall(pattern_both, string_comments[1])\n",
    "print(both_tag_comment_1)"
   ]
  },
  {
   "cell_type": "markdown",
   "id": "95609d25-9d09-4115-8600-e50bfe0fdaf2",
   "metadata": {},
   "source": [
    "\n",
    "###### To find both #python and #programming, we have to search in the sixth comment\n"
   ]
  },
  {
   "cell_type": "code",
   "execution_count": 265,
   "id": "2250bcef-f801-4f59-a48e-6fbf2de79017",
   "metadata": {},
   "outputs": [
    {
     "name": "stdout",
     "output_type": "stream",
     "text": [
      "['#programming', '#python']\n"
     ]
    }
   ],
   "source": [
    "both_tag_comment_5 = re.findall(pattern_both, string_comments[5])\n",
    "print(both_tag_comment_5)"
   ]
  },
  {
   "cell_type": "markdown",
   "id": "5725af2f-c93d-486d-bff0-e39b15703ee4",
   "metadata": {},
   "source": [
    "We see that this patterna finds both #programming och #python, if they exist in a comment. It also finds some other tags, e.g. #coding, but it was not required in the assignment that no other tags should be found."
   ]
  },
  {
   "cell_type": "markdown",
   "id": "b969b370-4ba5-471c-868b-a986c5dec1cb",
   "metadata": {},
   "source": [
    "\n",
    "##### All unique hash tags\n"
   ]
  },
  {
   "cell_type": "code",
   "execution_count": 266,
   "id": "41485fc6-7c18-4e81-a4b4-4116263826e1",
   "metadata": {},
   "outputs": [],
   "source": [
    "all_tags = []\n",
    "for i in range(99):\n",
    "    all_tags.append(re.findall(pattern_all_hashtags, string_comments[i]))"
   ]
  },
  {
   "cell_type": "code",
   "execution_count": 267,
   "id": "95f716cf-47de-49a0-90f2-138fd4ee6c4e",
   "metadata": {},
   "outputs": [
    {
     "data": {
      "text/plain": [
       "[['#programming', '#tips'],\n",
       " ['#coding', '#python'],\n",
       " ['#tech', '#data'],\n",
       " ['#programming', '#coding'],\n",
       " ['#data', '#analysis']]"
      ]
     },
     "execution_count": 267,
     "metadata": {},
     "output_type": "execute_result"
    }
   ],
   "source": [
    "all_tags[:5]"
   ]
  },
  {
   "cell_type": "code",
   "execution_count": 268,
   "id": "cad908e3-f13e-4420-8985-f2d64bdd8526",
   "metadata": {},
   "outputs": [
    {
     "data": {
      "text/plain": [
       "list"
      ]
     },
     "execution_count": 268,
     "metadata": {},
     "output_type": "execute_result"
    }
   ],
   "source": [
    "type(all_tags)"
   ]
  },
  {
   "cell_type": "code",
   "execution_count": 269,
   "id": "e4085f2c-dd2b-4342-b9dd-bb3d009104d1",
   "metadata": {},
   "outputs": [],
   "source": [
    "#len(all_tags)"
   ]
  },
  {
   "cell_type": "markdown",
   "id": "e01ac8ac-be7f-44f0-a8ed-5fedc990f6b3",
   "metadata": {},
   "source": [
    "This is a list of lists. In python it is possible to transform it to a set, where all duplicates will disappear. As it is required to do everything with regex, I will not continue."
   ]
  },
  {
   "cell_type": "markdown",
   "id": "7ae8c341-e9b8-4232-8d0e-3486dbd48d7a",
   "metadata": {},
   "source": [
    "\n",
    "##### Från kurs_demo\n"
   ]
  },
  {
   "cell_type": "code",
   "execution_count": 270,
   "id": "1b7d5393-2307-45ef-aa99-af7af9672cab",
   "metadata": {},
   "outputs": [
    {
     "name": "stdout",
     "output_type": "stream",
     "text": [
      "Please contact support@example.com for assistance. For general inquiries, you can email info@company.com and @gmail.com\n"
     ]
    }
   ],
   "source": [
    "string = \"Please contact support@example.com for assistance. For general inquiries, you can email info@company.com and @gmail.com\"\n",
    "print(string)"
   ]
  },
  {
   "cell_type": "code",
   "execution_count": 271,
   "id": "2ad8a012-567b-4abc-868f-6b6cf3f582c7",
   "metadata": {},
   "outputs": [
    {
     "data": {
      "text/plain": [
       "'\\\\b[\\\\w._%+-]+@[\\\\w.-]+\\\\.[A-Za-z]{2,4}\\\\b'"
      ]
     },
     "execution_count": 271,
     "metadata": {},
     "output_type": "execute_result"
    }
   ],
   "source": [
    "pattern = r\"\\b[\\w._%+-]+@[\\w.-]+\\.[A-Za-z]{2,4}\\b\"\n",
    "r\"\\b[\\w._%+-]+@[\\w.-]+\\.[A-Za-z]{2,4}\\b\""
   ]
  },
  {
   "cell_type": "code",
   "execution_count": 272,
   "id": "4bed9340-10b3-495a-b25e-13359af795bf",
   "metadata": {},
   "outputs": [
    {
     "name": "stdout",
     "output_type": "stream",
     "text": [
      "['support@example.com', 'info@company.com']\n"
     ]
    }
   ],
   "source": [
    "emails = re.findall(pattern, string)\n",
    "print(emails)"
   ]
  },
  {
   "cell_type": "code",
   "execution_count": null,
   "id": "de957292-2306-4feb-b590-d34275b2c707",
   "metadata": {},
   "outputs": [],
   "source": []
  }
 ],
 "metadata": {
  "kernelspec": {
   "display_name": "Python 3 (ipykernel)",
   "language": "python",
   "name": "python3"
  },
  "language_info": {
   "codemirror_mode": {
    "name": "ipython",
    "version": 3
   },
   "file_extension": ".py",
   "mimetype": "text/x-python",
   "name": "python",
   "nbconvert_exporter": "python",
   "pygments_lexer": "ipython3",
   "version": "3.13.1"
  }
 },
 "nbformat": 4,
 "nbformat_minor": 5
}

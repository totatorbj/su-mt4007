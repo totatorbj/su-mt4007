{
 "cells": [
  {
   "cell_type": "markdown",
   "id": "4a671dba-0c16-4d98-98dd-46666d4c70cf",
   "metadata": {},
   "source": [
    "\n",
    "# Homework 4\n"
   ]
  },
  {
   "cell_type": "markdown",
   "id": "a64fa077-ebe7-48c7-b57a-0f13af532c47",
   "metadata": {},
   "source": [
    "Some initializations"
   ]
  },
  {
   "cell_type": "code",
   "execution_count": 1,
   "id": "83ea333a-a19c-4e60-a1f0-678c44ab333b",
   "metadata": {},
   "outputs": [],
   "source": [
    "import numpy as np\n",
    "import pandas as pd\n",
    "import re\n",
    "import matplotlib.pyplot as plt\n",
    "import seaborn as sns\n",
    "import sqlite3 as sql"
   ]
  },
  {
   "cell_type": "markdown",
   "id": "e8b1af13-893f-495e-a67e-660d0146a195",
   "metadata": {},
   "source": [
    "\n",
    "## Joining data\n"
   ]
  },
  {
   "cell_type": "markdown",
   "id": "a8d694ec-fdbc-4756-9f91-c03fce1c4040",
   "metadata": {},
   "source": [
    "\n",
    "#### Loading data\n"
   ]
  },
  {
   "cell_type": "code",
   "execution_count": 2,
   "id": "761d02e3-88f7-444b-ab40-1fd6cb9afd65",
   "metadata": {},
   "outputs": [],
   "source": [
    "# ![Upper left corner of the file opened in Jupyter](cleared_cell_phones_total-csv.jpg \"'Delimiter' shows the sep parameter value to use\")<br><br>"
   ]
  },
  {
   "cell_type": "code",
   "execution_count": 3,
   "id": "958e8af4-e6ee-4679-ab8f-f8edbac55644",
   "metadata": {},
   "outputs": [],
   "source": [
    "cleaned_cell_phones_total_data_df = pd.read_csv('cleaned_cell_phones_total.csv', index_col='iso-3')"
   ]
  },
  {
   "cell_type": "code",
   "execution_count": 4,
   "id": "4b40af6d-5bc2-47fc-aaa1-965bc5954454",
   "metadata": {},
   "outputs": [],
   "source": [
    "# cleared_cell_phones_total_data_df = pd.read_csv('cleared_cell_phones_total.csv', index_col='iso-3')"
   ]
  },
  {
   "cell_type": "code",
   "execution_count": 5,
   "id": "cbf50e56-9817-4fe8-8f71-7a9d1cf07519",
   "metadata": {},
   "outputs": [],
   "source": [
    "# ![Upper left corner of the file opened in Jupyter](country_data-csv.jpg \"'Delimiter' shows the sep parameter value to use\")<br><br>"
   ]
  },
  {
   "cell_type": "code",
   "execution_count": 6,
   "id": "d83c3d5c-2e24-4aca-a398-bb467f28c0f6",
   "metadata": {},
   "outputs": [],
   "source": [
    "country_data_df = pd.read_csv(\"country_data.csv\", index_col='alpha-3')"
   ]
  },
  {
   "cell_type": "code",
   "execution_count": 7,
   "id": "3365ef69-ee10-4dc9-8ea8-d4adc2dde2c6",
   "metadata": {},
   "outputs": [],
   "source": [
    "# country_data_df = pd.read_csv(\"https://github.com/su-mt4007/data/country_data.csv\", index_col='alpha-3')"
   ]
  },
  {
   "cell_type": "code",
   "execution_count": 8,
   "id": "3c5f6301-5690-4264-bac9-ee66c6cd72f9",
   "metadata": {},
   "outputs": [],
   "source": [
    "# ![Upper left corner of the file opened in Jupyter](pop_data-csv.jpg \"'Delimiter' shows the sep parameter value to use\")<br><br>"
   ]
  },
  {
   "cell_type": "code",
   "execution_count": 9,
   "id": "67021c88-8894-49ae-aa86-4bb7b6025eb8",
   "metadata": {},
   "outputs": [],
   "source": [
    "pop_data_df = pd.read_csv('pop_data.csv', index_col='iso-3')"
   ]
  },
  {
   "cell_type": "code",
   "execution_count": 10,
   "id": "05a97437-0d23-4a46-b802-40b88495e547",
   "metadata": {},
   "outputs": [],
   "source": [
    "# pop_data_df = pd.read_csv('https://github.com/su-mt4007/data/pop_data.csv', index_col='iso-3')"
   ]
  },
  {
   "cell_type": "markdown",
   "id": "d1000803-2024-418e-aac0-bedded138c91",
   "metadata": {},
   "source": [
    "\n",
    "#### Structure of data\n"
   ]
  },
  {
   "cell_type": "code",
   "execution_count": 11,
   "id": "3a8597c8-a6a5-4e3f-af73-9ec92e2ede78",
   "metadata": {},
   "outputs": [
    {
     "name": "stdout",
     "output_type": "stream",
     "text": [
      "<class 'pandas.core.frame.DataFrame'>\n",
      "Index: 214 entries, ABW to ZWE\n",
      "Data columns (total 56 columns):\n",
      " #   Column  Non-Null Count  Dtype  \n",
      "---  ------  --------------  -----  \n",
      " 0   1960    214 non-null    float64\n",
      " 1   1965    214 non-null    float64\n",
      " 2   1966    214 non-null    float64\n",
      " 3   1967    214 non-null    float64\n",
      " 4   1968    214 non-null    float64\n",
      " 5   1969    214 non-null    float64\n",
      " 6   1970    214 non-null    float64\n",
      " 7   1971    214 non-null    float64\n",
      " 8   1972    214 non-null    float64\n",
      " 9   1973    214 non-null    float64\n",
      " 10  1974    214 non-null    float64\n",
      " 11  1975    214 non-null    float64\n",
      " 12  1976    214 non-null    float64\n",
      " 13  1977    214 non-null    float64\n",
      " 14  1978    214 non-null    float64\n",
      " 15  1979    214 non-null    float64\n",
      " 16  1980    214 non-null    float64\n",
      " 17  1981    214 non-null    float64\n",
      " 18  1982    214 non-null    float64\n",
      " 19  1983    214 non-null    float64\n",
      " 20  1984    214 non-null    float64\n",
      " 21  1985    214 non-null    float64\n",
      " 22  1986    214 non-null    float64\n",
      " 23  1987    214 non-null    float64\n",
      " 24  1988    214 non-null    float64\n",
      " 25  1989    214 non-null    float64\n",
      " 26  1990    214 non-null    float64\n",
      " 27  1991    214 non-null    float64\n",
      " 28  1992    214 non-null    float64\n",
      " 29  1993    214 non-null    float64\n",
      " 30  1994    214 non-null    float64\n",
      " 31  1995    214 non-null    float64\n",
      " 32  1996    214 non-null    float64\n",
      " 33  1997    214 non-null    float64\n",
      " 34  1998    214 non-null    float64\n",
      " 35  1999    214 non-null    float64\n",
      " 36  2000    214 non-null    float64\n",
      " 37  2001    214 non-null    float64\n",
      " 38  2002    214 non-null    float64\n",
      " 39  2003    214 non-null    float64\n",
      " 40  2004    214 non-null    float64\n",
      " 41  2005    214 non-null    float64\n",
      " 42  2006    214 non-null    float64\n",
      " 43  2007    214 non-null    float64\n",
      " 44  2008    214 non-null    float64\n",
      " 45  2009    214 non-null    float64\n",
      " 46  2010    214 non-null    float64\n",
      " 47  2011    214 non-null    float64\n",
      " 48  2012    214 non-null    float64\n",
      " 49  2013    214 non-null    float64\n",
      " 50  2014    214 non-null    float64\n",
      " 51  2015    214 non-null    float64\n",
      " 52  2016    214 non-null    float64\n",
      " 53  2017    214 non-null    float64\n",
      " 54  2018    214 non-null    float64\n",
      " 55  2019    214 non-null    float64\n",
      "dtypes: float64(56)\n",
      "memory usage: 95.3+ KB\n"
     ]
    }
   ],
   "source": [
    "cleaned_cell_phones_total_data_df.info()"
   ]
  },
  {
   "cell_type": "code",
   "execution_count": 12,
   "id": "18489eda-6676-4167-b378-1523aa98497c",
   "metadata": {},
   "outputs": [
    {
     "name": "stdout",
     "output_type": "stream",
     "text": [
      "<class 'pandas.core.frame.DataFrame'>\n",
      "Index: 249 entries, AFG to ZWE\n",
      "Data columns (total 10 columns):\n",
      " #   Column                    Non-Null Count  Dtype  \n",
      "---  ------                    --------------  -----  \n",
      " 0   name                      249 non-null    object \n",
      " 1   alpha-2                   248 non-null    object \n",
      " 2   country-code              249 non-null    int64  \n",
      " 3   iso_3166-2                249 non-null    object \n",
      " 4   region                    248 non-null    object \n",
      " 5   sub-region                248 non-null    object \n",
      " 6   intermediate-region       107 non-null    object \n",
      " 7   region-code               248 non-null    float64\n",
      " 8   sub-region-code           248 non-null    float64\n",
      " 9   intermediate-region-code  107 non-null    float64\n",
      "dtypes: float64(3), int64(1), object(6)\n",
      "memory usage: 21.4+ KB\n"
     ]
    }
   ],
   "source": [
    "country_data_df.info()"
   ]
  },
  {
   "cell_type": "code",
   "execution_count": 13,
   "id": "5266469c-add4-441a-8d26-dcf33f5d1cb1",
   "metadata": {},
   "outputs": [
    {
     "name": "stdout",
     "output_type": "stream",
     "text": [
      "<class 'pandas.core.frame.DataFrame'>\n",
      "Index: 266 entries, ABW to ZWE\n",
      "Data columns (total 62 columns):\n",
      " #   Column      Non-Null Count  Dtype  \n",
      "---  ------      --------------  -----  \n",
      " 0   Unnamed: 0  266 non-null    int64  \n",
      " 1   1960        264 non-null    float64\n",
      " 2   1961        264 non-null    float64\n",
      " 3   1962        264 non-null    float64\n",
      " 4   1963        264 non-null    float64\n",
      " 5   1964        264 non-null    float64\n",
      " 6   1965        264 non-null    float64\n",
      " 7   1966        264 non-null    float64\n",
      " 8   1967        264 non-null    float64\n",
      " 9   1968        264 non-null    float64\n",
      " 10  1969        264 non-null    float64\n",
      " 11  1970        264 non-null    float64\n",
      " 12  1971        264 non-null    float64\n",
      " 13  1972        264 non-null    float64\n",
      " 14  1973        264 non-null    float64\n",
      " 15  1974        264 non-null    float64\n",
      " 16  1975        264 non-null    float64\n",
      " 17  1976        264 non-null    float64\n",
      " 18  1977        264 non-null    float64\n",
      " 19  1978        264 non-null    float64\n",
      " 20  1979        264 non-null    float64\n",
      " 21  1980        264 non-null    float64\n",
      " 22  1981        264 non-null    float64\n",
      " 23  1982        264 non-null    float64\n",
      " 24  1983        264 non-null    float64\n",
      " 25  1984        264 non-null    float64\n",
      " 26  1985        264 non-null    float64\n",
      " 27  1986        264 non-null    float64\n",
      " 28  1987        264 non-null    float64\n",
      " 29  1988        264 non-null    float64\n",
      " 30  1989        264 non-null    float64\n",
      " 31  1990        265 non-null    float64\n",
      " 32  1991        265 non-null    float64\n",
      " 33  1992        265 non-null    float64\n",
      " 34  1993        265 non-null    float64\n",
      " 35  1994        265 non-null    float64\n",
      " 36  1995        265 non-null    float64\n",
      " 37  1996        265 non-null    float64\n",
      " 38  1997        265 non-null    float64\n",
      " 39  1998        265 non-null    float64\n",
      " 40  1999        265 non-null    float64\n",
      " 41  2000        265 non-null    float64\n",
      " 42  2001        265 non-null    float64\n",
      " 43  2002        265 non-null    float64\n",
      " 44  2003        265 non-null    float64\n",
      " 45  2004        265 non-null    float64\n",
      " 46  2005        265 non-null    float64\n",
      " 47  2006        265 non-null    float64\n",
      " 48  2007        265 non-null    float64\n",
      " 49  2008        265 non-null    float64\n",
      " 50  2009        265 non-null    float64\n",
      " 51  2010        265 non-null    float64\n",
      " 52  2011        265 non-null    float64\n",
      " 53  2012        265 non-null    float64\n",
      " 54  2013        265 non-null    float64\n",
      " 55  2014        265 non-null    float64\n",
      " 56  2015        265 non-null    float64\n",
      " 57  2016        265 non-null    float64\n",
      " 58  2017        265 non-null    float64\n",
      " 59  2018        265 non-null    float64\n",
      " 60  2019        265 non-null    float64\n",
      " 61  2020        265 non-null    float64\n",
      "dtypes: float64(61), int64(1)\n",
      "memory usage: 130.9+ KB\n"
     ]
    }
   ],
   "source": [
    "pop_data_df.info()"
   ]
  },
  {
   "cell_type": "markdown",
   "id": "dac9b7dc-5cdb-4091-8c2d-eba9d1c42ec6",
   "metadata": {},
   "source": [
    "\n",
    "#### Cleaning data\n"
   ]
  },
  {
   "cell_type": "markdown",
   "id": "c81c4b58-1ab2-4f5e-ad38-8fa5816ec932",
   "metadata": {},
   "source": [
    "We know that the data in **cleaned_cell_phones_total_data_df** is cleaned already."
   ]
  },
  {
   "cell_type": "markdown",
   "id": "98d92ddd-c078-4ebc-9453-70d956f442e4",
   "metadata": {},
   "source": [
    "In **country_data_df** there are many null values. To save a lot of work and time, it would be good to only clean data that will be needed to solve the assignment."
   ]
  },
  {
   "cell_type": "markdown",
   "id": "ff85e018-189e-47b5-a472-7315b43cfd47",
   "metadata": {},
   "source": [
    "It seems that only the **name** column will be used. This column has no null values, but its Dtype is object. Converting this to Dtype string would be beneficial."
   ]
  },
  {
   "cell_type": "markdown",
   "id": "1b7b492d-7db0-4c80-89eb-1e01ca645928",
   "metadata": {},
   "source": [
    "First, make a deep copy of country_data_df."
   ]
  },
  {
   "cell_type": "code",
   "execution_count": 14,
   "id": "2092bee1-651f-4944-96a5-88d1450cc79d",
   "metadata": {},
   "outputs": [],
   "source": [
    "name_strings_country_data_df = country_data_df.copy()"
   ]
  },
  {
   "cell_type": "markdown",
   "id": "ca2f5f03-632e-4cc5-a469-63526c3c73aa",
   "metadata": {},
   "source": [
    "Now, convert the values in the name column to strings."
   ]
  },
  {
   "cell_type": "code",
   "execution_count": 15,
   "id": "2a41456b-a613-49d4-a419-01a1b7a261d7",
   "metadata": {},
   "outputs": [],
   "source": [
    "name_strings_country_data_df['name'] = country_data_df['name'].astype(\"string\")"
   ]
  },
  {
   "cell_type": "code",
   "execution_count": 16,
   "id": "e6230f25-575a-4c72-9c1f-aa5e771bd7ff",
   "metadata": {},
   "outputs": [
    {
     "name": "stdout",
     "output_type": "stream",
     "text": [
      "<class 'pandas.core.frame.DataFrame'>\n",
      "Index: 249 entries, AFG to ZWE\n",
      "Data columns (total 10 columns):\n",
      " #   Column                    Non-Null Count  Dtype  \n",
      "---  ------                    --------------  -----  \n",
      " 0   name                      249 non-null    string \n",
      " 1   alpha-2                   248 non-null    object \n",
      " 2   country-code              249 non-null    int64  \n",
      " 3   iso_3166-2                249 non-null    object \n",
      " 4   region                    248 non-null    object \n",
      " 5   sub-region                248 non-null    object \n",
      " 6   intermediate-region       107 non-null    object \n",
      " 7   region-code               248 non-null    float64\n",
      " 8   sub-region-code           248 non-null    float64\n",
      " 9   intermediate-region-code  107 non-null    float64\n",
      "dtypes: float64(3), int64(1), object(5), string(1)\n",
      "memory usage: 21.4+ KB\n"
     ]
    }
   ],
   "source": [
    "name_strings_country_data_df.info()"
   ]
  },
  {
   "cell_type": "markdown",
   "id": "2a2b2721-e702-4b58-ae75-4e06a318a9e9",
   "metadata": {},
   "source": [
    "For **pop_data_df** it seems that we only need data for the years 1960 and 2010-2019, for a few countries. These countries are ABW, AFG, AGO, ALB, AND, Macao, Hong Kong, United Arab Emirates,\tAntigua and Barbuda, and Seychelles."
   ]
  },
  {
   "cell_type": "markdown",
   "id": "ec1830ae-1104-450d-b268-45591d5c6343",
   "metadata": {},
   "source": [
    "There are some null values in pop_data_df. We have to check if any of these concerns the years and countries we will treat."
   ]
  },
  {
   "cell_type": "markdown",
   "id": "11aa4e64-a303-49a0-bb10-bd038368142d",
   "metadata": {},
   "source": [
    "First, we will get the alpha-3 codes for the names."
   ]
  },
  {
   "cell_type": "code",
   "execution_count": 17,
   "id": "cdf42ff0-3ca4-4fb9-afe3-5066e6ad3643",
   "metadata": {},
   "outputs": [],
   "source": [
    "alpha_3_codes = name_strings_country_data_df['name'].isin(['Macao', 'Hong Kong', 'United Arab Emirates','Antigua and Barbuda', 'Seychelles'])"
   ]
  },
  {
   "cell_type": "code",
   "execution_count": 18,
   "id": "7f570415-bff6-403d-9a10-b36d6389001e",
   "metadata": {},
   "outputs": [
    {
     "data": {
      "text/html": [
       "<div>\n",
       "<style scoped>\n",
       "    .dataframe tbody tr th:only-of-type {\n",
       "        vertical-align: middle;\n",
       "    }\n",
       "\n",
       "    .dataframe tbody tr th {\n",
       "        vertical-align: top;\n",
       "    }\n",
       "\n",
       "    .dataframe thead th {\n",
       "        text-align: right;\n",
       "    }\n",
       "</style>\n",
       "<table border=\"1\" class=\"dataframe\">\n",
       "  <thead>\n",
       "    <tr style=\"text-align: right;\">\n",
       "      <th></th>\n",
       "      <th>name</th>\n",
       "      <th>alpha-2</th>\n",
       "      <th>country-code</th>\n",
       "      <th>iso_3166-2</th>\n",
       "      <th>region</th>\n",
       "      <th>sub-region</th>\n",
       "      <th>intermediate-region</th>\n",
       "      <th>region-code</th>\n",
       "      <th>sub-region-code</th>\n",
       "      <th>intermediate-region-code</th>\n",
       "    </tr>\n",
       "    <tr>\n",
       "      <th>alpha-3</th>\n",
       "      <th></th>\n",
       "      <th></th>\n",
       "      <th></th>\n",
       "      <th></th>\n",
       "      <th></th>\n",
       "      <th></th>\n",
       "      <th></th>\n",
       "      <th></th>\n",
       "      <th></th>\n",
       "      <th></th>\n",
       "    </tr>\n",
       "  </thead>\n",
       "  <tbody>\n",
       "    <tr>\n",
       "      <th>ATG</th>\n",
       "      <td>Antigua and Barbuda</td>\n",
       "      <td>AG</td>\n",
       "      <td>28</td>\n",
       "      <td>ISO 3166-2:AG</td>\n",
       "      <td>Americas</td>\n",
       "      <td>Latin America and the Caribbean</td>\n",
       "      <td>Caribbean</td>\n",
       "      <td>19.0</td>\n",
       "      <td>419.0</td>\n",
       "      <td>29.0</td>\n",
       "    </tr>\n",
       "    <tr>\n",
       "      <th>HKG</th>\n",
       "      <td>Hong Kong</td>\n",
       "      <td>HK</td>\n",
       "      <td>344</td>\n",
       "      <td>ISO 3166-2:HK</td>\n",
       "      <td>Asia</td>\n",
       "      <td>Eastern Asia</td>\n",
       "      <td>NaN</td>\n",
       "      <td>142.0</td>\n",
       "      <td>30.0</td>\n",
       "      <td>NaN</td>\n",
       "    </tr>\n",
       "    <tr>\n",
       "      <th>MAC</th>\n",
       "      <td>Macao</td>\n",
       "      <td>MO</td>\n",
       "      <td>446</td>\n",
       "      <td>ISO 3166-2:MO</td>\n",
       "      <td>Asia</td>\n",
       "      <td>Eastern Asia</td>\n",
       "      <td>NaN</td>\n",
       "      <td>142.0</td>\n",
       "      <td>30.0</td>\n",
       "      <td>NaN</td>\n",
       "    </tr>\n",
       "    <tr>\n",
       "      <th>SYC</th>\n",
       "      <td>Seychelles</td>\n",
       "      <td>SC</td>\n",
       "      <td>690</td>\n",
       "      <td>ISO 3166-2:SC</td>\n",
       "      <td>Africa</td>\n",
       "      <td>Sub-Saharan Africa</td>\n",
       "      <td>Eastern Africa</td>\n",
       "      <td>2.0</td>\n",
       "      <td>202.0</td>\n",
       "      <td>14.0</td>\n",
       "    </tr>\n",
       "    <tr>\n",
       "      <th>ARE</th>\n",
       "      <td>United Arab Emirates</td>\n",
       "      <td>AE</td>\n",
       "      <td>784</td>\n",
       "      <td>ISO 3166-2:AE</td>\n",
       "      <td>Asia</td>\n",
       "      <td>Western Asia</td>\n",
       "      <td>NaN</td>\n",
       "      <td>142.0</td>\n",
       "      <td>145.0</td>\n",
       "      <td>NaN</td>\n",
       "    </tr>\n",
       "  </tbody>\n",
       "</table>\n",
       "</div>"
      ],
      "text/plain": [
       "                         name alpha-2  country-code     iso_3166-2    region  \\\n",
       "alpha-3                                                                        \n",
       "ATG       Antigua and Barbuda      AG            28  ISO 3166-2:AG  Americas   \n",
       "HKG                 Hong Kong      HK           344  ISO 3166-2:HK      Asia   \n",
       "MAC                     Macao      MO           446  ISO 3166-2:MO      Asia   \n",
       "SYC                Seychelles      SC           690  ISO 3166-2:SC    Africa   \n",
       "ARE      United Arab Emirates      AE           784  ISO 3166-2:AE      Asia   \n",
       "\n",
       "                              sub-region intermediate-region  region-code  \\\n",
       "alpha-3                                                                     \n",
       "ATG      Latin America and the Caribbean           Caribbean         19.0   \n",
       "HKG                         Eastern Asia                 NaN        142.0   \n",
       "MAC                         Eastern Asia                 NaN        142.0   \n",
       "SYC                   Sub-Saharan Africa      Eastern Africa          2.0   \n",
       "ARE                         Western Asia                 NaN        142.0   \n",
       "\n",
       "         sub-region-code  intermediate-region-code  \n",
       "alpha-3                                             \n",
       "ATG                419.0                      29.0  \n",
       "HKG                 30.0                       NaN  \n",
       "MAC                 30.0                       NaN  \n",
       "SYC                202.0                      14.0  \n",
       "ARE                145.0                       NaN  "
      ]
     },
     "execution_count": 18,
     "metadata": {},
     "output_type": "execute_result"
    }
   ],
   "source": [
    "name_strings_country_data_df[alpha_3_codes]"
   ]
  },
  {
   "cell_type": "markdown",
   "id": "2cef659d-d438-4aae-adf7-b68d2b045460",
   "metadata": {},
   "source": [
    "Now we can select the interesting rows in pop_data_df."
   ]
  },
  {
   "cell_type": "code",
   "execution_count": 19,
   "id": "2351ab4d-649f-421f-ad7b-e20194baf128",
   "metadata": {},
   "outputs": [],
   "source": [
    "interesting_countries_bool = pop_data_df.index.isin(['ATG','HKG','MAC','SYC','ARE','ABW', 'AFG', 'AGO', 'ALB', 'AND'])"
   ]
  },
  {
   "cell_type": "code",
   "execution_count": 20,
   "id": "7d7180f7-aac9-4fe0-b1f6-cc52f680d23b",
   "metadata": {},
   "outputs": [],
   "source": [
    "interesting_years = ['1960', '2010','2011','2012','2013','2014','2015','2016','2017','2018','2019']"
   ]
  },
  {
   "cell_type": "markdown",
   "id": "fbed0273-d9c4-4121-bb26-b56603774a20",
   "metadata": {},
   "source": [
    "Make a deep copy of pop_data_df and then choose the interesting countries"
   ]
  },
  {
   "cell_type": "code",
   "execution_count": 21,
   "id": "f4ddaa39-8e0d-4166-8cb1-556b0d96005d",
   "metadata": {},
   "outputs": [],
   "source": [
    "interesting_countries_df = pop_data_df[interesting_countries_bool].copy()"
   ]
  },
  {
   "cell_type": "code",
   "execution_count": 22,
   "id": "d8a55cc3-80f6-46d3-ae26-8e895649837c",
   "metadata": {},
   "outputs": [
    {
     "name": "stdout",
     "output_type": "stream",
     "text": [
      "<class 'pandas.core.frame.DataFrame'>\n",
      "Index: 10 entries, ABW to SYC\n",
      "Data columns (total 62 columns):\n",
      " #   Column      Non-Null Count  Dtype  \n",
      "---  ------      --------------  -----  \n",
      " 0   Unnamed: 0  10 non-null     int64  \n",
      " 1   1960        10 non-null     float64\n",
      " 2   1961        10 non-null     float64\n",
      " 3   1962        10 non-null     float64\n",
      " 4   1963        10 non-null     float64\n",
      " 5   1964        10 non-null     float64\n",
      " 6   1965        10 non-null     float64\n",
      " 7   1966        10 non-null     float64\n",
      " 8   1967        10 non-null     float64\n",
      " 9   1968        10 non-null     float64\n",
      " 10  1969        10 non-null     float64\n",
      " 11  1970        10 non-null     float64\n",
      " 12  1971        10 non-null     float64\n",
      " 13  1972        10 non-null     float64\n",
      " 14  1973        10 non-null     float64\n",
      " 15  1974        10 non-null     float64\n",
      " 16  1975        10 non-null     float64\n",
      " 17  1976        10 non-null     float64\n",
      " 18  1977        10 non-null     float64\n",
      " 19  1978        10 non-null     float64\n",
      " 20  1979        10 non-null     float64\n",
      " 21  1980        10 non-null     float64\n",
      " 22  1981        10 non-null     float64\n",
      " 23  1982        10 non-null     float64\n",
      " 24  1983        10 non-null     float64\n",
      " 25  1984        10 non-null     float64\n",
      " 26  1985        10 non-null     float64\n",
      " 27  1986        10 non-null     float64\n",
      " 28  1987        10 non-null     float64\n",
      " 29  1988        10 non-null     float64\n",
      " 30  1989        10 non-null     float64\n",
      " 31  1990        10 non-null     float64\n",
      " 32  1991        10 non-null     float64\n",
      " 33  1992        10 non-null     float64\n",
      " 34  1993        10 non-null     float64\n",
      " 35  1994        10 non-null     float64\n",
      " 36  1995        10 non-null     float64\n",
      " 37  1996        10 non-null     float64\n",
      " 38  1997        10 non-null     float64\n",
      " 39  1998        10 non-null     float64\n",
      " 40  1999        10 non-null     float64\n",
      " 41  2000        10 non-null     float64\n",
      " 42  2001        10 non-null     float64\n",
      " 43  2002        10 non-null     float64\n",
      " 44  2003        10 non-null     float64\n",
      " 45  2004        10 non-null     float64\n",
      " 46  2005        10 non-null     float64\n",
      " 47  2006        10 non-null     float64\n",
      " 48  2007        10 non-null     float64\n",
      " 49  2008        10 non-null     float64\n",
      " 50  2009        10 non-null     float64\n",
      " 51  2010        10 non-null     float64\n",
      " 52  2011        10 non-null     float64\n",
      " 53  2012        10 non-null     float64\n",
      " 54  2013        10 non-null     float64\n",
      " 55  2014        10 non-null     float64\n",
      " 56  2015        10 non-null     float64\n",
      " 57  2016        10 non-null     float64\n",
      " 58  2017        10 non-null     float64\n",
      " 59  2018        10 non-null     float64\n",
      " 60  2019        10 non-null     float64\n",
      " 61  2020        10 non-null     float64\n",
      "dtypes: float64(61), int64(1)\n",
      "memory usage: 4.9+ KB\n"
     ]
    }
   ],
   "source": [
    "interesting_countries_df.info()"
   ]
  },
  {
   "cell_type": "markdown",
   "id": "0e1a8076-89f8-42f2-a742-790c73efa3bf",
   "metadata": {},
   "source": [
    "Make a deep copy of interesting_countries_df"
   ]
  },
  {
   "cell_type": "code",
   "execution_count": 23,
   "id": "092a4a1f-c65e-45da-8eb9-b36e44532c1d",
   "metadata": {},
   "outputs": [],
   "source": [
    "interesting_countries_and_years_df = interesting_countries_df[interesting_years].copy()"
   ]
  },
  {
   "cell_type": "code",
   "execution_count": 24,
   "id": "d94aa04b-6b17-4cbd-a7dc-57b8c035a013",
   "metadata": {},
   "outputs": [
    {
     "name": "stdout",
     "output_type": "stream",
     "text": [
      "<class 'pandas.core.frame.DataFrame'>\n",
      "Index: 10 entries, ABW to SYC\n",
      "Data columns (total 11 columns):\n",
      " #   Column  Non-Null Count  Dtype  \n",
      "---  ------  --------------  -----  \n",
      " 0   1960    10 non-null     float64\n",
      " 1   2010    10 non-null     float64\n",
      " 2   2011    10 non-null     float64\n",
      " 3   2012    10 non-null     float64\n",
      " 4   2013    10 non-null     float64\n",
      " 5   2014    10 non-null     float64\n",
      " 6   2015    10 non-null     float64\n",
      " 7   2016    10 non-null     float64\n",
      " 8   2017    10 non-null     float64\n",
      " 9   2018    10 non-null     float64\n",
      " 10  2019    10 non-null     float64\n",
      "dtypes: float64(11)\n",
      "memory usage: 960.0+ bytes\n"
     ]
    }
   ],
   "source": [
    "interesting_countries_and_years_df.info()"
   ]
  },
  {
   "cell_type": "code",
   "execution_count": 25,
   "id": "a712393e-8ba8-417e-8cc0-245044273344",
   "metadata": {},
   "outputs": [
    {
     "data": {
      "text/html": [
       "<div>\n",
       "<style scoped>\n",
       "    .dataframe tbody tr th:only-of-type {\n",
       "        vertical-align: middle;\n",
       "    }\n",
       "\n",
       "    .dataframe tbody tr th {\n",
       "        vertical-align: top;\n",
       "    }\n",
       "\n",
       "    .dataframe thead th {\n",
       "        text-align: right;\n",
       "    }\n",
       "</style>\n",
       "<table border=\"1\" class=\"dataframe\">\n",
       "  <thead>\n",
       "    <tr style=\"text-align: right;\">\n",
       "      <th></th>\n",
       "      <th>1960</th>\n",
       "      <th>2010</th>\n",
       "      <th>2011</th>\n",
       "      <th>2012</th>\n",
       "      <th>2013</th>\n",
       "      <th>2014</th>\n",
       "      <th>2015</th>\n",
       "      <th>2016</th>\n",
       "      <th>2017</th>\n",
       "      <th>2018</th>\n",
       "      <th>2019</th>\n",
       "    </tr>\n",
       "    <tr>\n",
       "      <th>iso-3</th>\n",
       "      <th></th>\n",
       "      <th></th>\n",
       "      <th></th>\n",
       "      <th></th>\n",
       "      <th></th>\n",
       "      <th></th>\n",
       "      <th></th>\n",
       "      <th></th>\n",
       "      <th></th>\n",
       "      <th></th>\n",
       "      <th></th>\n",
       "    </tr>\n",
       "  </thead>\n",
       "  <tbody>\n",
       "    <tr>\n",
       "      <th>ABW</th>\n",
       "      <td>54608.0</td>\n",
       "      <td>100341.0</td>\n",
       "      <td>101288.0</td>\n",
       "      <td>102112.0</td>\n",
       "      <td>102880.0</td>\n",
       "      <td>103594.0</td>\n",
       "      <td>104257.0</td>\n",
       "      <td>104874.0</td>\n",
       "      <td>105439.0</td>\n",
       "      <td>105962.0</td>\n",
       "      <td>106442.0</td>\n",
       "    </tr>\n",
       "    <tr>\n",
       "      <th>AFG</th>\n",
       "      <td>8622466.0</td>\n",
       "      <td>28189672.0</td>\n",
       "      <td>29249157.0</td>\n",
       "      <td>30466479.0</td>\n",
       "      <td>31541209.0</td>\n",
       "      <td>32716210.0</td>\n",
       "      <td>33753499.0</td>\n",
       "      <td>34636207.0</td>\n",
       "      <td>35643418.0</td>\n",
       "      <td>36686784.0</td>\n",
       "      <td>37769499.0</td>\n",
       "    </tr>\n",
       "    <tr>\n",
       "      <th>AGO</th>\n",
       "      <td>5357195.0</td>\n",
       "      <td>23364185.0</td>\n",
       "      <td>24259111.0</td>\n",
       "      <td>25188292.0</td>\n",
       "      <td>26147002.0</td>\n",
       "      <td>27128337.0</td>\n",
       "      <td>28127721.0</td>\n",
       "      <td>29154746.0</td>\n",
       "      <td>30208628.0</td>\n",
       "      <td>31273533.0</td>\n",
       "      <td>32353588.0</td>\n",
       "    </tr>\n",
       "    <tr>\n",
       "      <th>ALB</th>\n",
       "      <td>1608800.0</td>\n",
       "      <td>2913021.0</td>\n",
       "      <td>2905195.0</td>\n",
       "      <td>2900401.0</td>\n",
       "      <td>2895092.0</td>\n",
       "      <td>2889104.0</td>\n",
       "      <td>2880703.0</td>\n",
       "      <td>2876101.0</td>\n",
       "      <td>2873457.0</td>\n",
       "      <td>2866376.0</td>\n",
       "      <td>2854191.0</td>\n",
       "    </tr>\n",
       "    <tr>\n",
       "      <th>AND</th>\n",
       "      <td>9443.0</td>\n",
       "      <td>71519.0</td>\n",
       "      <td>70567.0</td>\n",
       "      <td>71013.0</td>\n",
       "      <td>71367.0</td>\n",
       "      <td>71621.0</td>\n",
       "      <td>71746.0</td>\n",
       "      <td>72540.0</td>\n",
       "      <td>73837.0</td>\n",
       "      <td>75013.0</td>\n",
       "      <td>76343.0</td>\n",
       "    </tr>\n",
       "    <tr>\n",
       "      <th>ARE</th>\n",
       "      <td>133426.0</td>\n",
       "      <td>8481771.0</td>\n",
       "      <td>8575205.0</td>\n",
       "      <td>8664969.0</td>\n",
       "      <td>8751847.0</td>\n",
       "      <td>8835951.0</td>\n",
       "      <td>8916899.0</td>\n",
       "      <td>8994263.0</td>\n",
       "      <td>9068296.0</td>\n",
       "      <td>9140169.0</td>\n",
       "      <td>9211657.0</td>\n",
       "    </tr>\n",
       "    <tr>\n",
       "      <th>ATG</th>\n",
       "      <td>55342.0</td>\n",
       "      <td>85695.0</td>\n",
       "      <td>86729.0</td>\n",
       "      <td>87674.0</td>\n",
       "      <td>88497.0</td>\n",
       "      <td>89236.0</td>\n",
       "      <td>89941.0</td>\n",
       "      <td>90564.0</td>\n",
       "      <td>91119.0</td>\n",
       "      <td>91626.0</td>\n",
       "      <td>92117.0</td>\n",
       "    </tr>\n",
       "    <tr>\n",
       "      <th>HKG</th>\n",
       "      <td>3114671.0</td>\n",
       "      <td>7024200.0</td>\n",
       "      <td>7071600.0</td>\n",
       "      <td>7150100.0</td>\n",
       "      <td>7178900.0</td>\n",
       "      <td>7229500.0</td>\n",
       "      <td>7291300.0</td>\n",
       "      <td>7336600.0</td>\n",
       "      <td>7393200.0</td>\n",
       "      <td>7452600.0</td>\n",
       "      <td>7507900.0</td>\n",
       "    </tr>\n",
       "    <tr>\n",
       "      <th>MAC</th>\n",
       "      <td>177014.0</td>\n",
       "      <td>557297.0</td>\n",
       "      <td>571003.0</td>\n",
       "      <td>582766.0</td>\n",
       "      <td>593374.0</td>\n",
       "      <td>604167.0</td>\n",
       "      <td>615239.0</td>\n",
       "      <td>626688.0</td>\n",
       "      <td>638609.0</td>\n",
       "      <td>650991.0</td>\n",
       "      <td>663653.0</td>\n",
       "    </tr>\n",
       "    <tr>\n",
       "      <th>SYC</th>\n",
       "      <td>41700.0</td>\n",
       "      <td>89770.0</td>\n",
       "      <td>87441.0</td>\n",
       "      <td>88303.0</td>\n",
       "      <td>89949.0</td>\n",
       "      <td>91359.0</td>\n",
       "      <td>93419.0</td>\n",
       "      <td>94677.0</td>\n",
       "      <td>95843.0</td>\n",
       "      <td>96762.0</td>\n",
       "      <td>97625.0</td>\n",
       "    </tr>\n",
       "  </tbody>\n",
       "</table>\n",
       "</div>"
      ],
      "text/plain": [
       "            1960        2010        2011        2012        2013        2014  \\\n",
       "iso-3                                                                          \n",
       "ABW      54608.0    100341.0    101288.0    102112.0    102880.0    103594.0   \n",
       "AFG    8622466.0  28189672.0  29249157.0  30466479.0  31541209.0  32716210.0   \n",
       "AGO    5357195.0  23364185.0  24259111.0  25188292.0  26147002.0  27128337.0   \n",
       "ALB    1608800.0   2913021.0   2905195.0   2900401.0   2895092.0   2889104.0   \n",
       "AND       9443.0     71519.0     70567.0     71013.0     71367.0     71621.0   \n",
       "ARE     133426.0   8481771.0   8575205.0   8664969.0   8751847.0   8835951.0   \n",
       "ATG      55342.0     85695.0     86729.0     87674.0     88497.0     89236.0   \n",
       "HKG    3114671.0   7024200.0   7071600.0   7150100.0   7178900.0   7229500.0   \n",
       "MAC     177014.0    557297.0    571003.0    582766.0    593374.0    604167.0   \n",
       "SYC      41700.0     89770.0     87441.0     88303.0     89949.0     91359.0   \n",
       "\n",
       "             2015        2016        2017        2018        2019  \n",
       "iso-3                                                              \n",
       "ABW      104257.0    104874.0    105439.0    105962.0    106442.0  \n",
       "AFG    33753499.0  34636207.0  35643418.0  36686784.0  37769499.0  \n",
       "AGO    28127721.0  29154746.0  30208628.0  31273533.0  32353588.0  \n",
       "ALB     2880703.0   2876101.0   2873457.0   2866376.0   2854191.0  \n",
       "AND       71746.0     72540.0     73837.0     75013.0     76343.0  \n",
       "ARE     8916899.0   8994263.0   9068296.0   9140169.0   9211657.0  \n",
       "ATG       89941.0     90564.0     91119.0     91626.0     92117.0  \n",
       "HKG     7291300.0   7336600.0   7393200.0   7452600.0   7507900.0  \n",
       "MAC      615239.0    626688.0    638609.0    650991.0    663653.0  \n",
       "SYC       93419.0     94677.0     95843.0     96762.0     97625.0  "
      ]
     },
     "execution_count": 25,
     "metadata": {},
     "output_type": "execute_result"
    }
   ],
   "source": [
    "interesting_countries_and_years_df"
   ]
  },
  {
   "cell_type": "markdown",
   "id": "6c0ff567-b148-4429-bcc3-41da953c2c06",
   "metadata": {},
   "source": [
    "Set a name for all the columns"
   ]
  },
  {
   "cell_type": "code",
   "execution_count": 26,
   "id": "9d3a54fb-5fc8-4760-9d40-80b3e08977f9",
   "metadata": {},
   "outputs": [],
   "source": [
    "interesting_countries_and_years_df.columns.name = 'year'"
   ]
  },
  {
   "cell_type": "code",
   "execution_count": 27,
   "id": "a20d66a5-3568-4295-8c44-bbb37f587cd7",
   "metadata": {},
   "outputs": [
    {
     "data": {
      "text/html": [
       "<div>\n",
       "<style scoped>\n",
       "    .dataframe tbody tr th:only-of-type {\n",
       "        vertical-align: middle;\n",
       "    }\n",
       "\n",
       "    .dataframe tbody tr th {\n",
       "        vertical-align: top;\n",
       "    }\n",
       "\n",
       "    .dataframe thead th {\n",
       "        text-align: right;\n",
       "    }\n",
       "</style>\n",
       "<table border=\"1\" class=\"dataframe\">\n",
       "  <thead>\n",
       "    <tr style=\"text-align: right;\">\n",
       "      <th>year</th>\n",
       "      <th>1960</th>\n",
       "      <th>2010</th>\n",
       "      <th>2011</th>\n",
       "      <th>2012</th>\n",
       "      <th>2013</th>\n",
       "      <th>2014</th>\n",
       "      <th>2015</th>\n",
       "      <th>2016</th>\n",
       "      <th>2017</th>\n",
       "      <th>2018</th>\n",
       "      <th>2019</th>\n",
       "    </tr>\n",
       "    <tr>\n",
       "      <th>iso-3</th>\n",
       "      <th></th>\n",
       "      <th></th>\n",
       "      <th></th>\n",
       "      <th></th>\n",
       "      <th></th>\n",
       "      <th></th>\n",
       "      <th></th>\n",
       "      <th></th>\n",
       "      <th></th>\n",
       "      <th></th>\n",
       "      <th></th>\n",
       "    </tr>\n",
       "  </thead>\n",
       "  <tbody>\n",
       "    <tr>\n",
       "      <th>ABW</th>\n",
       "      <td>54608.0</td>\n",
       "      <td>100341.0</td>\n",
       "      <td>101288.0</td>\n",
       "      <td>102112.0</td>\n",
       "      <td>102880.0</td>\n",
       "      <td>103594.0</td>\n",
       "      <td>104257.0</td>\n",
       "      <td>104874.0</td>\n",
       "      <td>105439.0</td>\n",
       "      <td>105962.0</td>\n",
       "      <td>106442.0</td>\n",
       "    </tr>\n",
       "    <tr>\n",
       "      <th>AFG</th>\n",
       "      <td>8622466.0</td>\n",
       "      <td>28189672.0</td>\n",
       "      <td>29249157.0</td>\n",
       "      <td>30466479.0</td>\n",
       "      <td>31541209.0</td>\n",
       "      <td>32716210.0</td>\n",
       "      <td>33753499.0</td>\n",
       "      <td>34636207.0</td>\n",
       "      <td>35643418.0</td>\n",
       "      <td>36686784.0</td>\n",
       "      <td>37769499.0</td>\n",
       "    </tr>\n",
       "    <tr>\n",
       "      <th>AGO</th>\n",
       "      <td>5357195.0</td>\n",
       "      <td>23364185.0</td>\n",
       "      <td>24259111.0</td>\n",
       "      <td>25188292.0</td>\n",
       "      <td>26147002.0</td>\n",
       "      <td>27128337.0</td>\n",
       "      <td>28127721.0</td>\n",
       "      <td>29154746.0</td>\n",
       "      <td>30208628.0</td>\n",
       "      <td>31273533.0</td>\n",
       "      <td>32353588.0</td>\n",
       "    </tr>\n",
       "    <tr>\n",
       "      <th>ALB</th>\n",
       "      <td>1608800.0</td>\n",
       "      <td>2913021.0</td>\n",
       "      <td>2905195.0</td>\n",
       "      <td>2900401.0</td>\n",
       "      <td>2895092.0</td>\n",
       "      <td>2889104.0</td>\n",
       "      <td>2880703.0</td>\n",
       "      <td>2876101.0</td>\n",
       "      <td>2873457.0</td>\n",
       "      <td>2866376.0</td>\n",
       "      <td>2854191.0</td>\n",
       "    </tr>\n",
       "    <tr>\n",
       "      <th>AND</th>\n",
       "      <td>9443.0</td>\n",
       "      <td>71519.0</td>\n",
       "      <td>70567.0</td>\n",
       "      <td>71013.0</td>\n",
       "      <td>71367.0</td>\n",
       "      <td>71621.0</td>\n",
       "      <td>71746.0</td>\n",
       "      <td>72540.0</td>\n",
       "      <td>73837.0</td>\n",
       "      <td>75013.0</td>\n",
       "      <td>76343.0</td>\n",
       "    </tr>\n",
       "    <tr>\n",
       "      <th>ARE</th>\n",
       "      <td>133426.0</td>\n",
       "      <td>8481771.0</td>\n",
       "      <td>8575205.0</td>\n",
       "      <td>8664969.0</td>\n",
       "      <td>8751847.0</td>\n",
       "      <td>8835951.0</td>\n",
       "      <td>8916899.0</td>\n",
       "      <td>8994263.0</td>\n",
       "      <td>9068296.0</td>\n",
       "      <td>9140169.0</td>\n",
       "      <td>9211657.0</td>\n",
       "    </tr>\n",
       "    <tr>\n",
       "      <th>ATG</th>\n",
       "      <td>55342.0</td>\n",
       "      <td>85695.0</td>\n",
       "      <td>86729.0</td>\n",
       "      <td>87674.0</td>\n",
       "      <td>88497.0</td>\n",
       "      <td>89236.0</td>\n",
       "      <td>89941.0</td>\n",
       "      <td>90564.0</td>\n",
       "      <td>91119.0</td>\n",
       "      <td>91626.0</td>\n",
       "      <td>92117.0</td>\n",
       "    </tr>\n",
       "    <tr>\n",
       "      <th>HKG</th>\n",
       "      <td>3114671.0</td>\n",
       "      <td>7024200.0</td>\n",
       "      <td>7071600.0</td>\n",
       "      <td>7150100.0</td>\n",
       "      <td>7178900.0</td>\n",
       "      <td>7229500.0</td>\n",
       "      <td>7291300.0</td>\n",
       "      <td>7336600.0</td>\n",
       "      <td>7393200.0</td>\n",
       "      <td>7452600.0</td>\n",
       "      <td>7507900.0</td>\n",
       "    </tr>\n",
       "    <tr>\n",
       "      <th>MAC</th>\n",
       "      <td>177014.0</td>\n",
       "      <td>557297.0</td>\n",
       "      <td>571003.0</td>\n",
       "      <td>582766.0</td>\n",
       "      <td>593374.0</td>\n",
       "      <td>604167.0</td>\n",
       "      <td>615239.0</td>\n",
       "      <td>626688.0</td>\n",
       "      <td>638609.0</td>\n",
       "      <td>650991.0</td>\n",
       "      <td>663653.0</td>\n",
       "    </tr>\n",
       "    <tr>\n",
       "      <th>SYC</th>\n",
       "      <td>41700.0</td>\n",
       "      <td>89770.0</td>\n",
       "      <td>87441.0</td>\n",
       "      <td>88303.0</td>\n",
       "      <td>89949.0</td>\n",
       "      <td>91359.0</td>\n",
       "      <td>93419.0</td>\n",
       "      <td>94677.0</td>\n",
       "      <td>95843.0</td>\n",
       "      <td>96762.0</td>\n",
       "      <td>97625.0</td>\n",
       "    </tr>\n",
       "  </tbody>\n",
       "</table>\n",
       "</div>"
      ],
      "text/plain": [
       "year        1960        2010        2011        2012        2013        2014  \\\n",
       "iso-3                                                                          \n",
       "ABW      54608.0    100341.0    101288.0    102112.0    102880.0    103594.0   \n",
       "AFG    8622466.0  28189672.0  29249157.0  30466479.0  31541209.0  32716210.0   \n",
       "AGO    5357195.0  23364185.0  24259111.0  25188292.0  26147002.0  27128337.0   \n",
       "ALB    1608800.0   2913021.0   2905195.0   2900401.0   2895092.0   2889104.0   \n",
       "AND       9443.0     71519.0     70567.0     71013.0     71367.0     71621.0   \n",
       "ARE     133426.0   8481771.0   8575205.0   8664969.0   8751847.0   8835951.0   \n",
       "ATG      55342.0     85695.0     86729.0     87674.0     88497.0     89236.0   \n",
       "HKG    3114671.0   7024200.0   7071600.0   7150100.0   7178900.0   7229500.0   \n",
       "MAC     177014.0    557297.0    571003.0    582766.0    593374.0    604167.0   \n",
       "SYC      41700.0     89770.0     87441.0     88303.0     89949.0     91359.0   \n",
       "\n",
       "year         2015        2016        2017        2018        2019  \n",
       "iso-3                                                              \n",
       "ABW      104257.0    104874.0    105439.0    105962.0    106442.0  \n",
       "AFG    33753499.0  34636207.0  35643418.0  36686784.0  37769499.0  \n",
       "AGO    28127721.0  29154746.0  30208628.0  31273533.0  32353588.0  \n",
       "ALB     2880703.0   2876101.0   2873457.0   2866376.0   2854191.0  \n",
       "AND       71746.0     72540.0     73837.0     75013.0     76343.0  \n",
       "ARE     8916899.0   8994263.0   9068296.0   9140169.0   9211657.0  \n",
       "ATG       89941.0     90564.0     91119.0     91626.0     92117.0  \n",
       "HKG     7291300.0   7336600.0   7393200.0   7452600.0   7507900.0  \n",
       "MAC      615239.0    626688.0    638609.0    650991.0    663653.0  \n",
       "SYC       93419.0     94677.0     95843.0     96762.0     97625.0  "
      ]
     },
     "execution_count": 27,
     "metadata": {},
     "output_type": "execute_result"
    }
   ],
   "source": [
    "interesting_countries_and_years_df"
   ]
  },
  {
   "cell_type": "markdown",
   "id": "12b454f2-5f5c-4609-8138-64dc14cc1f28",
   "metadata": {},
   "source": [
    "Tests"
   ]
  },
  {
   "cell_type": "code",
   "execution_count": 28,
   "id": "888c4e5a-8c4b-4cbb-b79b-dd94e92daef0",
   "metadata": {},
   "outputs": [],
   "source": [
    "test_stack_df = interesting_countries_and_years_df.stack()"
   ]
  },
  {
   "cell_type": "code",
   "execution_count": 29,
   "id": "775d40f4-5eab-42c1-88f2-ff607f4bba6c",
   "metadata": {},
   "outputs": [
    {
     "data": {
      "text/plain": [
       "iso-3  year\n",
       "ABW    1960     54608.0\n",
       "       2010    100341.0\n",
       "       2011    101288.0\n",
       "       2012    102112.0\n",
       "       2013    102880.0\n",
       "                 ...   \n",
       "SYC    2015     93419.0\n",
       "       2016     94677.0\n",
       "       2017     95843.0\n",
       "       2018     96762.0\n",
       "       2019     97625.0\n",
       "Length: 110, dtype: float64"
      ]
     },
     "execution_count": 29,
     "metadata": {},
     "output_type": "execute_result"
    }
   ],
   "source": [
    "test_stack_df"
   ]
  },
  {
   "cell_type": "code",
   "execution_count": 30,
   "id": "edbe11af-8788-464e-85c1-552ec8fe1698",
   "metadata": {},
   "outputs": [
    {
     "data": {
      "text/plain": [
       "pandas.core.series.Series"
      ]
     },
     "execution_count": 30,
     "metadata": {},
     "output_type": "execute_result"
    }
   ],
   "source": [
    "type(test_stack_df)"
   ]
  },
  {
   "cell_type": "code",
   "execution_count": 31,
   "id": "7ea9dad9-fde3-4af5-9837-5063be3ffe66",
   "metadata": {},
   "outputs": [
    {
     "data": {
      "text/plain": [
       "MultiIndex([('ABW', '1960'),\n",
       "            ('ABW', '2010'),\n",
       "            ('ABW', '2011'),\n",
       "            ('ABW', '2012'),\n",
       "            ('ABW', '2013'),\n",
       "            ('ABW', '2014'),\n",
       "            ('ABW', '2015'),\n",
       "            ('ABW', '2016'),\n",
       "            ('ABW', '2017'),\n",
       "            ('ABW', '2018'),\n",
       "            ...\n",
       "            ('SYC', '2010'),\n",
       "            ('SYC', '2011'),\n",
       "            ('SYC', '2012'),\n",
       "            ('SYC', '2013'),\n",
       "            ('SYC', '2014'),\n",
       "            ('SYC', '2015'),\n",
       "            ('SYC', '2016'),\n",
       "            ('SYC', '2017'),\n",
       "            ('SYC', '2018'),\n",
       "            ('SYC', '2019')],\n",
       "           names=['iso-3', 'year'], length=110)"
      ]
     },
     "execution_count": 31,
     "metadata": {},
     "output_type": "execute_result"
    }
   ],
   "source": [
    "test_stack_df.index"
   ]
  },
  {
   "cell_type": "markdown",
   "id": "46804f38-ec0e-4a06-bceb-63b1b105795c",
   "metadata": {},
   "source": [
    "\n",
    "##### We see that there are no null values to handle for the countries and years we are interested in.\n"
   ]
  },
  {
   "cell_type": "markdown",
   "id": "9f9a9852-4082-41d2-801d-619ecb92ea0c",
   "metadata": {},
   "source": [
    "\n",
    "##### Handle cleaned_cell_phones_total_data_df the same way\n"
   ]
  },
  {
   "cell_type": "markdown",
   "id": "80d21f5d-83fc-4e16-8ac3-7e340b217eb8",
   "metadata": {},
   "source": [
    "We will choose the same countries and years as above, for the data on cell phones."
   ]
  },
  {
   "cell_type": "code",
   "execution_count": 32,
   "id": "b7bdd84b-c97c-44fb-b65b-ac85b195ddef",
   "metadata": {},
   "outputs": [],
   "source": [
    "interesting_countries_cell_phones_bool = cleaned_cell_phones_total_data_df.index.isin(['ATG','HKG','MAC','SYC','ARE','ABW', 'AFG', 'AGO', 'ALB', 'AND'])"
   ]
  },
  {
   "cell_type": "code",
   "execution_count": 33,
   "id": "50d31c93-5908-4f4a-bee4-80e65753ec11",
   "metadata": {},
   "outputs": [],
   "source": [
    "interesting_countries_cell_phones_df = cleaned_cell_phones_total_data_df[interesting_countries_cell_phones_bool].copy()"
   ]
  },
  {
   "cell_type": "code",
   "execution_count": 34,
   "id": "10425727-d8c6-4cc6-a971-21af21161dea",
   "metadata": {},
   "outputs": [
    {
     "name": "stdout",
     "output_type": "stream",
     "text": [
      "<class 'pandas.core.frame.DataFrame'>\n",
      "Index: 10 entries, ABW to SYC\n",
      "Data columns (total 56 columns):\n",
      " #   Column  Non-Null Count  Dtype  \n",
      "---  ------  --------------  -----  \n",
      " 0   1960    10 non-null     float64\n",
      " 1   1965    10 non-null     float64\n",
      " 2   1966    10 non-null     float64\n",
      " 3   1967    10 non-null     float64\n",
      " 4   1968    10 non-null     float64\n",
      " 5   1969    10 non-null     float64\n",
      " 6   1970    10 non-null     float64\n",
      " 7   1971    10 non-null     float64\n",
      " 8   1972    10 non-null     float64\n",
      " 9   1973    10 non-null     float64\n",
      " 10  1974    10 non-null     float64\n",
      " 11  1975    10 non-null     float64\n",
      " 12  1976    10 non-null     float64\n",
      " 13  1977    10 non-null     float64\n",
      " 14  1978    10 non-null     float64\n",
      " 15  1979    10 non-null     float64\n",
      " 16  1980    10 non-null     float64\n",
      " 17  1981    10 non-null     float64\n",
      " 18  1982    10 non-null     float64\n",
      " 19  1983    10 non-null     float64\n",
      " 20  1984    10 non-null     float64\n",
      " 21  1985    10 non-null     float64\n",
      " 22  1986    10 non-null     float64\n",
      " 23  1987    10 non-null     float64\n",
      " 24  1988    10 non-null     float64\n",
      " 25  1989    10 non-null     float64\n",
      " 26  1990    10 non-null     float64\n",
      " 27  1991    10 non-null     float64\n",
      " 28  1992    10 non-null     float64\n",
      " 29  1993    10 non-null     float64\n",
      " 30  1994    10 non-null     float64\n",
      " 31  1995    10 non-null     float64\n",
      " 32  1996    10 non-null     float64\n",
      " 33  1997    10 non-null     float64\n",
      " 34  1998    10 non-null     float64\n",
      " 35  1999    10 non-null     float64\n",
      " 36  2000    10 non-null     float64\n",
      " 37  2001    10 non-null     float64\n",
      " 38  2002    10 non-null     float64\n",
      " 39  2003    10 non-null     float64\n",
      " 40  2004    10 non-null     float64\n",
      " 41  2005    10 non-null     float64\n",
      " 42  2006    10 non-null     float64\n",
      " 43  2007    10 non-null     float64\n",
      " 44  2008    10 non-null     float64\n",
      " 45  2009    10 non-null     float64\n",
      " 46  2010    10 non-null     float64\n",
      " 47  2011    10 non-null     float64\n",
      " 48  2012    10 non-null     float64\n",
      " 49  2013    10 non-null     float64\n",
      " 50  2014    10 non-null     float64\n",
      " 51  2015    10 non-null     float64\n",
      " 52  2016    10 non-null     float64\n",
      " 53  2017    10 non-null     float64\n",
      " 54  2018    10 non-null     float64\n",
      " 55  2019    10 non-null     float64\n",
      "dtypes: float64(56)\n",
      "memory usage: 4.5+ KB\n"
     ]
    }
   ],
   "source": [
    "interesting_countries_cell_phones_df.info()"
   ]
  },
  {
   "cell_type": "code",
   "execution_count": 35,
   "id": "f655b907-2ad5-400d-b21e-75a5c31d0298",
   "metadata": {},
   "outputs": [],
   "source": [
    "interesting_countries_and_years_cell_phones_df = interesting_countries_cell_phones_df[interesting_years].copy()"
   ]
  },
  {
   "cell_type": "code",
   "execution_count": 36,
   "id": "9fd9531c-2a0a-4b5c-acf2-5a1ced5f6574",
   "metadata": {},
   "outputs": [
    {
     "data": {
      "text/plain": [
       "Index(['1960', '2010', '2011', '2012', '2013', '2014', '2015', '2016', '2017',\n",
       "       '2018', '2019'],\n",
       "      dtype='object')"
      ]
     },
     "execution_count": 36,
     "metadata": {},
     "output_type": "execute_result"
    }
   ],
   "source": [
    "interesting_countries_and_years_cell_phones_df.columns"
   ]
  },
  {
   "cell_type": "code",
   "execution_count": 37,
   "id": "e222189a-e5c4-4abf-b9dc-b680dc49eb34",
   "metadata": {},
   "outputs": [],
   "source": [
    "interesting_countries_and_years_cell_phones_df.columns.name = 'year'"
   ]
  },
  {
   "cell_type": "code",
   "execution_count": 38,
   "id": "47ccb9b1-52c6-434d-b4f9-bac0b3e24190",
   "metadata": {},
   "outputs": [
    {
     "data": {
      "text/plain": [
       "Index(['1960', '2010', '2011', '2012', '2013', '2014', '2015', '2016', '2017',\n",
       "       '2018', '2019'],\n",
       "      dtype='object', name='year')"
      ]
     },
     "execution_count": 38,
     "metadata": {},
     "output_type": "execute_result"
    }
   ],
   "source": [
    "interesting_countries_and_years_cell_phones_df.columns"
   ]
  },
  {
   "cell_type": "code",
   "execution_count": 39,
   "id": "8a3723b1-eddd-4fea-851c-17cba400762b",
   "metadata": {},
   "outputs": [
    {
     "name": "stdout",
     "output_type": "stream",
     "text": [
      "<class 'pandas.core.frame.DataFrame'>\n",
      "Index: 10 entries, ABW to SYC\n",
      "Data columns (total 11 columns):\n",
      " #   Column  Non-Null Count  Dtype  \n",
      "---  ------  --------------  -----  \n",
      " 0   1960    10 non-null     float64\n",
      " 1   2010    10 non-null     float64\n",
      " 2   2011    10 non-null     float64\n",
      " 3   2012    10 non-null     float64\n",
      " 4   2013    10 non-null     float64\n",
      " 5   2014    10 non-null     float64\n",
      " 6   2015    10 non-null     float64\n",
      " 7   2016    10 non-null     float64\n",
      " 8   2017    10 non-null     float64\n",
      " 9   2018    10 non-null     float64\n",
      " 10  2019    10 non-null     float64\n",
      "dtypes: float64(11)\n",
      "memory usage: 960.0+ bytes\n"
     ]
    }
   ],
   "source": [
    "interesting_countries_and_years_cell_phones_df.info()"
   ]
  },
  {
   "cell_type": "code",
   "execution_count": 40,
   "id": "9a0dd41a-a4da-41b5-8d81-739b8a6630dd",
   "metadata": {},
   "outputs": [
    {
     "data": {
      "text/html": [
       "<div>\n",
       "<style scoped>\n",
       "    .dataframe tbody tr th:only-of-type {\n",
       "        vertical-align: middle;\n",
       "    }\n",
       "\n",
       "    .dataframe tbody tr th {\n",
       "        vertical-align: top;\n",
       "    }\n",
       "\n",
       "    .dataframe thead th {\n",
       "        text-align: right;\n",
       "    }\n",
       "</style>\n",
       "<table border=\"1\" class=\"dataframe\">\n",
       "  <thead>\n",
       "    <tr style=\"text-align: right;\">\n",
       "      <th>year</th>\n",
       "      <th>1960</th>\n",
       "      <th>2010</th>\n",
       "      <th>2011</th>\n",
       "      <th>2012</th>\n",
       "      <th>2013</th>\n",
       "      <th>2014</th>\n",
       "      <th>2015</th>\n",
       "      <th>2016</th>\n",
       "      <th>2017</th>\n",
       "      <th>2018</th>\n",
       "      <th>2019</th>\n",
       "    </tr>\n",
       "    <tr>\n",
       "      <th>iso-3</th>\n",
       "      <th></th>\n",
       "      <th></th>\n",
       "      <th></th>\n",
       "      <th></th>\n",
       "      <th></th>\n",
       "      <th></th>\n",
       "      <th></th>\n",
       "      <th></th>\n",
       "      <th></th>\n",
       "      <th></th>\n",
       "      <th></th>\n",
       "    </tr>\n",
       "  </thead>\n",
       "  <tbody>\n",
       "    <tr>\n",
       "      <th>ABW</th>\n",
       "      <td>0.0</td>\n",
       "      <td>132000.0</td>\n",
       "      <td>133500.0</td>\n",
       "      <td>135000.0</td>\n",
       "      <td>139000.0</td>\n",
       "      <td>140000.0</td>\n",
       "      <td>141000.0</td>\n",
       "      <td>141000.0</td>\n",
       "      <td>141000.0</td>\n",
       "      <td>141000.0</td>\n",
       "      <td>141000.0</td>\n",
       "    </tr>\n",
       "    <tr>\n",
       "      <th>AFG</th>\n",
       "      <td>0.0</td>\n",
       "      <td>10200000.0</td>\n",
       "      <td>13800000.0</td>\n",
       "      <td>15300000.0</td>\n",
       "      <td>16800000.0</td>\n",
       "      <td>18400000.0</td>\n",
       "      <td>19700000.0</td>\n",
       "      <td>21600000.0</td>\n",
       "      <td>23900000.0</td>\n",
       "      <td>22000000.0</td>\n",
       "      <td>22600000.0</td>\n",
       "    </tr>\n",
       "    <tr>\n",
       "      <th>AGO</th>\n",
       "      <td>0.0</td>\n",
       "      <td>9400000.0</td>\n",
       "      <td>12100000.0</td>\n",
       "      <td>12800000.0</td>\n",
       "      <td>13300000.0</td>\n",
       "      <td>14100000.0</td>\n",
       "      <td>13900000.0</td>\n",
       "      <td>13000000.0</td>\n",
       "      <td>13300000.0</td>\n",
       "      <td>13300000.0</td>\n",
       "      <td>14800000.0</td>\n",
       "    </tr>\n",
       "    <tr>\n",
       "      <th>ALB</th>\n",
       "      <td>0.0</td>\n",
       "      <td>2690000.0</td>\n",
       "      <td>3100000.0</td>\n",
       "      <td>3500000.0</td>\n",
       "      <td>3690000.0</td>\n",
       "      <td>3360000.0</td>\n",
       "      <td>3400000.0</td>\n",
       "      <td>3370000.0</td>\n",
       "      <td>3630000.0</td>\n",
       "      <td>2710000.0</td>\n",
       "      <td>2630000.0</td>\n",
       "    </tr>\n",
       "    <tr>\n",
       "      <th>AND</th>\n",
       "      <td>0.0</td>\n",
       "      <td>65500.0</td>\n",
       "      <td>65000.0</td>\n",
       "      <td>63900.0</td>\n",
       "      <td>63900.0</td>\n",
       "      <td>66200.0</td>\n",
       "      <td>71300.0</td>\n",
       "      <td>76100.0</td>\n",
       "      <td>80300.0</td>\n",
       "      <td>82600.0</td>\n",
       "      <td>87900.0</td>\n",
       "    </tr>\n",
       "    <tr>\n",
       "      <th>ARE</th>\n",
       "      <td>0.0</td>\n",
       "      <td>10900000.0</td>\n",
       "      <td>11700000.0</td>\n",
       "      <td>13800000.0</td>\n",
       "      <td>16100000.0</td>\n",
       "      <td>16800000.0</td>\n",
       "      <td>17900000.0</td>\n",
       "      <td>19900000.0</td>\n",
       "      <td>19800000.0</td>\n",
       "      <td>20100000.0</td>\n",
       "      <td>19600000.0</td>\n",
       "    </tr>\n",
       "    <tr>\n",
       "      <th>ATG</th>\n",
       "      <td>0.0</td>\n",
       "      <td>168000.0</td>\n",
       "      <td>176000.0</td>\n",
       "      <td>127000.0</td>\n",
       "      <td>114000.0</td>\n",
       "      <td>120000.0</td>\n",
       "      <td>176000.0</td>\n",
       "      <td>180000.0</td>\n",
       "      <td>184000.0</td>\n",
       "      <td>184000.0</td>\n",
       "      <td>184000.0</td>\n",
       "    </tr>\n",
       "    <tr>\n",
       "      <th>HKG</th>\n",
       "      <td>0.0</td>\n",
       "      <td>13800000.0</td>\n",
       "      <td>15300000.0</td>\n",
       "      <td>16400000.0</td>\n",
       "      <td>17000000.0</td>\n",
       "      <td>17000000.0</td>\n",
       "      <td>16700000.0</td>\n",
       "      <td>17600000.0</td>\n",
       "      <td>18400000.0</td>\n",
       "      <td>19900000.0</td>\n",
       "      <td>21500000.0</td>\n",
       "    </tr>\n",
       "    <tr>\n",
       "      <th>MAC</th>\n",
       "      <td>0.0</td>\n",
       "      <td>1120000.0</td>\n",
       "      <td>1350000.0</td>\n",
       "      <td>1610000.0</td>\n",
       "      <td>1720000.0</td>\n",
       "      <td>1860000.0</td>\n",
       "      <td>1900000.0</td>\n",
       "      <td>1970000.0</td>\n",
       "      <td>2050000.0</td>\n",
       "      <td>2180000.0</td>\n",
       "      <td>2180000.0</td>\n",
       "    </tr>\n",
       "    <tr>\n",
       "      <th>SYC</th>\n",
       "      <td>0.0</td>\n",
       "      <td>118000.0</td>\n",
       "      <td>127000.0</td>\n",
       "      <td>136000.0</td>\n",
       "      <td>137000.0</td>\n",
       "      <td>151000.0</td>\n",
       "      <td>148000.0</td>\n",
       "      <td>152000.0</td>\n",
       "      <td>167000.0</td>\n",
       "      <td>179000.0</td>\n",
       "      <td>194000.0</td>\n",
       "    </tr>\n",
       "  </tbody>\n",
       "</table>\n",
       "</div>"
      ],
      "text/plain": [
       "year   1960        2010        2011        2012        2013        2014  \\\n",
       "iso-3                                                                     \n",
       "ABW     0.0    132000.0    133500.0    135000.0    139000.0    140000.0   \n",
       "AFG     0.0  10200000.0  13800000.0  15300000.0  16800000.0  18400000.0   \n",
       "AGO     0.0   9400000.0  12100000.0  12800000.0  13300000.0  14100000.0   \n",
       "ALB     0.0   2690000.0   3100000.0   3500000.0   3690000.0   3360000.0   \n",
       "AND     0.0     65500.0     65000.0     63900.0     63900.0     66200.0   \n",
       "ARE     0.0  10900000.0  11700000.0  13800000.0  16100000.0  16800000.0   \n",
       "ATG     0.0    168000.0    176000.0    127000.0    114000.0    120000.0   \n",
       "HKG     0.0  13800000.0  15300000.0  16400000.0  17000000.0  17000000.0   \n",
       "MAC     0.0   1120000.0   1350000.0   1610000.0   1720000.0   1860000.0   \n",
       "SYC     0.0    118000.0    127000.0    136000.0    137000.0    151000.0   \n",
       "\n",
       "year         2015        2016        2017        2018        2019  \n",
       "iso-3                                                              \n",
       "ABW      141000.0    141000.0    141000.0    141000.0    141000.0  \n",
       "AFG    19700000.0  21600000.0  23900000.0  22000000.0  22600000.0  \n",
       "AGO    13900000.0  13000000.0  13300000.0  13300000.0  14800000.0  \n",
       "ALB     3400000.0   3370000.0   3630000.0   2710000.0   2630000.0  \n",
       "AND       71300.0     76100.0     80300.0     82600.0     87900.0  \n",
       "ARE    17900000.0  19900000.0  19800000.0  20100000.0  19600000.0  \n",
       "ATG      176000.0    180000.0    184000.0    184000.0    184000.0  \n",
       "HKG    16700000.0  17600000.0  18400000.0  19900000.0  21500000.0  \n",
       "MAC     1900000.0   1970000.0   2050000.0   2180000.0   2180000.0  \n",
       "SYC      148000.0    152000.0    167000.0    179000.0    194000.0  "
      ]
     },
     "execution_count": 40,
     "metadata": {},
     "output_type": "execute_result"
    }
   ],
   "source": [
    "interesting_countries_and_years_cell_phones_df"
   ]
  },
  {
   "cell_type": "markdown",
   "id": "fed51197-9a29-4a0a-bc45-fda1660b893b",
   "metadata": {},
   "source": [
    "\n",
    "#### Stacking and joining data frames\n"
   ]
  },
  {
   "cell_type": "markdown",
   "id": "816d9184-53dd-487d-a264-f195d10632f2",
   "metadata": {},
   "source": [
    "The data frames interesting_countries_and_years_df and interesting_countries_and_years_cell_phones_df are in wide format. To make it easier to join them on index and year, it would be good to stack them, to long format."
   ]
  },
  {
   "cell_type": "markdown",
   "id": "10ad9b4b-515f-4b95-84ab-e03626f5d58c",
   "metadata": {},
   "source": [
    "\n",
    "##### Stack interesting_countries_and_years_df\n"
   ]
  },
  {
   "cell_type": "code",
   "execution_count": 41,
   "id": "02fd9e0a-f832-44c8-bd22-f24016934b8f",
   "metadata": {},
   "outputs": [],
   "source": [
    "stacked_interesting_countries_and_years_df = interesting_countries_and_years_df.stack()"
   ]
  },
  {
   "cell_type": "code",
   "execution_count": 42,
   "id": "20d1cd21-89d6-4217-a305-62b4f4680964",
   "metadata": {},
   "outputs": [
    {
     "name": "stdout",
     "output_type": "stream",
     "text": [
      "<class 'pandas.core.series.Series'>\n",
      "MultiIndex: 110 entries, ('ABW', '1960') to ('SYC', '2019')\n",
      "Series name: None\n",
      "Non-Null Count  Dtype  \n",
      "--------------  -----  \n",
      "110 non-null    float64\n",
      "dtypes: float64(1)\n",
      "memory usage: 1.9+ KB\n"
     ]
    }
   ],
   "source": [
    "stacked_interesting_countries_and_years_df.info()"
   ]
  },
  {
   "cell_type": "markdown",
   "id": "f48e7536-a5cb-4ae3-b2ab-9d99ef3b305c",
   "metadata": {},
   "source": [
    "Give a name to the Series"
   ]
  },
  {
   "cell_type": "code",
   "execution_count": 43,
   "id": "c8838472-7271-41fa-9e6e-7db2a6acb093",
   "metadata": {},
   "outputs": [],
   "source": [
    "stacked_interesting_countries_and_years_df.name = 'population'"
   ]
  },
  {
   "cell_type": "code",
   "execution_count": 44,
   "id": "8ec0262a-07e9-402c-9448-18559e503a58",
   "metadata": {},
   "outputs": [
    {
     "name": "stdout",
     "output_type": "stream",
     "text": [
      "<class 'pandas.core.series.Series'>\n",
      "MultiIndex: 110 entries, ('ABW', '1960') to ('SYC', '2019')\n",
      "Series name: population\n",
      "Non-Null Count  Dtype  \n",
      "--------------  -----  \n",
      "110 non-null    float64\n",
      "dtypes: float64(1)\n",
      "memory usage: 1.9+ KB\n"
     ]
    }
   ],
   "source": [
    "stacked_interesting_countries_and_years_df.info()"
   ]
  },
  {
   "cell_type": "code",
   "execution_count": 45,
   "id": "8779fe0c-75f6-4cdd-bfa4-4d87b2b5a385",
   "metadata": {},
   "outputs": [
    {
     "data": {
      "text/plain": [
       "iso-3  year\n",
       "ABW    1960     54608.0\n",
       "       2010    100341.0\n",
       "       2011    101288.0\n",
       "       2012    102112.0\n",
       "       2013    102880.0\n",
       "                 ...   \n",
       "SYC    2015     93419.0\n",
       "       2016     94677.0\n",
       "       2017     95843.0\n",
       "       2018     96762.0\n",
       "       2019     97625.0\n",
       "Name: population, Length: 110, dtype: float64"
      ]
     },
     "execution_count": 45,
     "metadata": {},
     "output_type": "execute_result"
    }
   ],
   "source": [
    "stacked_interesting_countries_and_years_df"
   ]
  },
  {
   "cell_type": "code",
   "execution_count": 46,
   "id": "74d86ca5-ac8c-40af-ae48-f3f8d7dd1bd6",
   "metadata": {},
   "outputs": [
    {
     "data": {
      "text/plain": [
       "year\n",
       "1960     54608.0\n",
       "2010    100341.0\n",
       "2011    101288.0\n",
       "2012    102112.0\n",
       "2013    102880.0\n",
       "2014    103594.0\n",
       "2015    104257.0\n",
       "2016    104874.0\n",
       "2017    105439.0\n",
       "2018    105962.0\n",
       "2019    106442.0\n",
       "Name: population, dtype: float64"
      ]
     },
     "execution_count": 46,
     "metadata": {},
     "output_type": "execute_result"
    }
   ],
   "source": [
    "stacked_interesting_countries_and_years_df['ABW']"
   ]
  },
  {
   "cell_type": "markdown",
   "id": "4c8c5b4e-4fae-4040-971d-f38e56111e5c",
   "metadata": {},
   "source": [
    "\n",
    "##### Stack interesting_countries_and_years_cell_phones_df\n"
   ]
  },
  {
   "cell_type": "code",
   "execution_count": 47,
   "id": "443257b6-fa06-4c21-b7e2-98a99d526b40",
   "metadata": {},
   "outputs": [],
   "source": [
    "stacked_interesting_countries_and_years_cell_phones_df = interesting_countries_and_years_cell_phones_df.stack()"
   ]
  },
  {
   "cell_type": "code",
   "execution_count": 48,
   "id": "0f7a092b-566e-466b-bf02-31f5fcc61652",
   "metadata": {},
   "outputs": [
    {
     "name": "stdout",
     "output_type": "stream",
     "text": [
      "<class 'pandas.core.series.Series'>\n",
      "MultiIndex: 110 entries, ('ABW', '1960') to ('SYC', '2019')\n",
      "Series name: None\n",
      "Non-Null Count  Dtype  \n",
      "--------------  -----  \n",
      "110 non-null    float64\n",
      "dtypes: float64(1)\n",
      "memory usage: 1.9+ KB\n"
     ]
    }
   ],
   "source": [
    "stacked_interesting_countries_and_years_cell_phones_df.info()"
   ]
  },
  {
   "cell_type": "markdown",
   "id": "88c06e83-d873-436a-9e90-e3b1078c2750",
   "metadata": {},
   "source": [
    "Give a name to the Series"
   ]
  },
  {
   "cell_type": "code",
   "execution_count": 49,
   "id": "5b59cb8b-b7bc-4ae2-b273-b235ed6b6713",
   "metadata": {},
   "outputs": [],
   "source": [
    "stacked_interesting_countries_and_years_cell_phones_df.name = 'n_cellphones'"
   ]
  },
  {
   "cell_type": "code",
   "execution_count": 50,
   "id": "0a9f282a-9494-49e1-be24-ff99d74fdf42",
   "metadata": {},
   "outputs": [
    {
     "name": "stdout",
     "output_type": "stream",
     "text": [
      "<class 'pandas.core.series.Series'>\n",
      "MultiIndex: 110 entries, ('ABW', '1960') to ('SYC', '2019')\n",
      "Series name: n_cellphones\n",
      "Non-Null Count  Dtype  \n",
      "--------------  -----  \n",
      "110 non-null    float64\n",
      "dtypes: float64(1)\n",
      "memory usage: 1.9+ KB\n"
     ]
    }
   ],
   "source": [
    "stacked_interesting_countries_and_years_cell_phones_df.info()"
   ]
  },
  {
   "cell_type": "code",
   "execution_count": 51,
   "id": "d6e8108d-ad39-4aa6-8021-1ffafbd76167",
   "metadata": {},
   "outputs": [
    {
     "data": {
      "text/plain": [
       "iso-3  year\n",
       "ABW    1960         0.0\n",
       "       2010    132000.0\n",
       "       2011    133500.0\n",
       "       2012    135000.0\n",
       "       2013    139000.0\n",
       "                 ...   \n",
       "SYC    2015    148000.0\n",
       "       2016    152000.0\n",
       "       2017    167000.0\n",
       "       2018    179000.0\n",
       "       2019    194000.0\n",
       "Name: n_cellphones, Length: 110, dtype: float64"
      ]
     },
     "execution_count": 51,
     "metadata": {},
     "output_type": "execute_result"
    }
   ],
   "source": [
    "stacked_interesting_countries_and_years_cell_phones_df"
   ]
  },
  {
   "cell_type": "code",
   "execution_count": 52,
   "id": "3795daed-0da4-4083-a48e-ad772ac227ba",
   "metadata": {},
   "outputs": [
    {
     "data": {
      "text/plain": [
       "year\n",
       "1960         0.0\n",
       "2010    132000.0\n",
       "2011    133500.0\n",
       "2012    135000.0\n",
       "2013    139000.0\n",
       "2014    140000.0\n",
       "2015    141000.0\n",
       "2016    141000.0\n",
       "2017    141000.0\n",
       "2018    141000.0\n",
       "2019    141000.0\n",
       "Name: n_cellphones, dtype: float64"
      ]
     },
     "execution_count": 52,
     "metadata": {},
     "output_type": "execute_result"
    }
   ],
   "source": [
    "stacked_interesting_countries_and_years_cell_phones_df['ABW']"
   ]
  },
  {
   "cell_type": "markdown",
   "id": "5739e0fa-179c-4380-9b5e-393d5024767e",
   "metadata": {},
   "source": [
    "\n",
    "##### Join stacked_interesting_countries_and_years_cell_phones_df and stacked_interesting_countries_and_years_df\n"
   ]
  },
  {
   "cell_type": "markdown",
   "id": "20d323f8-236b-4579-8248-beba0c4fa196",
   "metadata": {},
   "source": [
    "Now we can join the two stacked data frames on the multiindex [iso-3, year]"
   ]
  },
  {
   "cell_type": "markdown",
   "id": "4d3c5a0a-5439-4857-a7d4-0c797c796dab",
   "metadata": {},
   "source": [
    "It is easier to join data frames than Series, so we create Data Frames from the Series stacked_interesting_countries_and_years_cell_phones_df and stacked_interesting_countries_and_years_df (which have gotten misleading names)."
   ]
  },
  {
   "cell_type": "code",
   "execution_count": 53,
   "id": "ea3bc18e-5152-4d18-9e2e-f23f37706311",
   "metadata": {},
   "outputs": [],
   "source": [
    "n_cellphones_df = pd.DataFrame(data=stacked_interesting_countries_and_years_cell_phones_df)"
   ]
  },
  {
   "cell_type": "code",
   "execution_count": 54,
   "id": "9054bdb6-8175-42f4-bd0b-aca5f293eeec",
   "metadata": {},
   "outputs": [
    {
     "data": {
      "text/html": [
       "<div>\n",
       "<style scoped>\n",
       "    .dataframe tbody tr th:only-of-type {\n",
       "        vertical-align: middle;\n",
       "    }\n",
       "\n",
       "    .dataframe tbody tr th {\n",
       "        vertical-align: top;\n",
       "    }\n",
       "\n",
       "    .dataframe thead th {\n",
       "        text-align: right;\n",
       "    }\n",
       "</style>\n",
       "<table border=\"1\" class=\"dataframe\">\n",
       "  <thead>\n",
       "    <tr style=\"text-align: right;\">\n",
       "      <th></th>\n",
       "      <th></th>\n",
       "      <th>n_cellphones</th>\n",
       "    </tr>\n",
       "    <tr>\n",
       "      <th>iso-3</th>\n",
       "      <th>year</th>\n",
       "      <th></th>\n",
       "    </tr>\n",
       "  </thead>\n",
       "  <tbody>\n",
       "    <tr>\n",
       "      <th rowspan=\"5\" valign=\"top\">ABW</th>\n",
       "      <th>1960</th>\n",
       "      <td>0.0</td>\n",
       "    </tr>\n",
       "    <tr>\n",
       "      <th>2010</th>\n",
       "      <td>132000.0</td>\n",
       "    </tr>\n",
       "    <tr>\n",
       "      <th>2011</th>\n",
       "      <td>133500.0</td>\n",
       "    </tr>\n",
       "    <tr>\n",
       "      <th>2012</th>\n",
       "      <td>135000.0</td>\n",
       "    </tr>\n",
       "    <tr>\n",
       "      <th>2013</th>\n",
       "      <td>139000.0</td>\n",
       "    </tr>\n",
       "    <tr>\n",
       "      <th>...</th>\n",
       "      <th>...</th>\n",
       "      <td>...</td>\n",
       "    </tr>\n",
       "    <tr>\n",
       "      <th rowspan=\"5\" valign=\"top\">SYC</th>\n",
       "      <th>2015</th>\n",
       "      <td>148000.0</td>\n",
       "    </tr>\n",
       "    <tr>\n",
       "      <th>2016</th>\n",
       "      <td>152000.0</td>\n",
       "    </tr>\n",
       "    <tr>\n",
       "      <th>2017</th>\n",
       "      <td>167000.0</td>\n",
       "    </tr>\n",
       "    <tr>\n",
       "      <th>2018</th>\n",
       "      <td>179000.0</td>\n",
       "    </tr>\n",
       "    <tr>\n",
       "      <th>2019</th>\n",
       "      <td>194000.0</td>\n",
       "    </tr>\n",
       "  </tbody>\n",
       "</table>\n",
       "<p>110 rows × 1 columns</p>\n",
       "</div>"
      ],
      "text/plain": [
       "            n_cellphones\n",
       "iso-3 year              \n",
       "ABW   1960           0.0\n",
       "      2010      132000.0\n",
       "      2011      133500.0\n",
       "      2012      135000.0\n",
       "      2013      139000.0\n",
       "...                  ...\n",
       "SYC   2015      148000.0\n",
       "      2016      152000.0\n",
       "      2017      167000.0\n",
       "      2018      179000.0\n",
       "      2019      194000.0\n",
       "\n",
       "[110 rows x 1 columns]"
      ]
     },
     "execution_count": 54,
     "metadata": {},
     "output_type": "execute_result"
    }
   ],
   "source": [
    "n_cellphones_df"
   ]
  },
  {
   "cell_type": "code",
   "execution_count": 55,
   "id": "501b3708-58dd-455d-9858-f23e079b77df",
   "metadata": {},
   "outputs": [],
   "source": [
    "population_df = pd.DataFrame(data=stacked_interesting_countries_and_years_df)"
   ]
  },
  {
   "cell_type": "code",
   "execution_count": 56,
   "id": "ba34bd29-aa2e-439a-8434-9c9a46cef52a",
   "metadata": {},
   "outputs": [
    {
     "data": {
      "text/html": [
       "<div>\n",
       "<style scoped>\n",
       "    .dataframe tbody tr th:only-of-type {\n",
       "        vertical-align: middle;\n",
       "    }\n",
       "\n",
       "    .dataframe tbody tr th {\n",
       "        vertical-align: top;\n",
       "    }\n",
       "\n",
       "    .dataframe thead th {\n",
       "        text-align: right;\n",
       "    }\n",
       "</style>\n",
       "<table border=\"1\" class=\"dataframe\">\n",
       "  <thead>\n",
       "    <tr style=\"text-align: right;\">\n",
       "      <th></th>\n",
       "      <th></th>\n",
       "      <th>population</th>\n",
       "    </tr>\n",
       "    <tr>\n",
       "      <th>iso-3</th>\n",
       "      <th>year</th>\n",
       "      <th></th>\n",
       "    </tr>\n",
       "  </thead>\n",
       "  <tbody>\n",
       "    <tr>\n",
       "      <th rowspan=\"5\" valign=\"top\">ABW</th>\n",
       "      <th>1960</th>\n",
       "      <td>54608.0</td>\n",
       "    </tr>\n",
       "    <tr>\n",
       "      <th>2010</th>\n",
       "      <td>100341.0</td>\n",
       "    </tr>\n",
       "    <tr>\n",
       "      <th>2011</th>\n",
       "      <td>101288.0</td>\n",
       "    </tr>\n",
       "    <tr>\n",
       "      <th>2012</th>\n",
       "      <td>102112.0</td>\n",
       "    </tr>\n",
       "    <tr>\n",
       "      <th>2013</th>\n",
       "      <td>102880.0</td>\n",
       "    </tr>\n",
       "    <tr>\n",
       "      <th>...</th>\n",
       "      <th>...</th>\n",
       "      <td>...</td>\n",
       "    </tr>\n",
       "    <tr>\n",
       "      <th rowspan=\"5\" valign=\"top\">SYC</th>\n",
       "      <th>2015</th>\n",
       "      <td>93419.0</td>\n",
       "    </tr>\n",
       "    <tr>\n",
       "      <th>2016</th>\n",
       "      <td>94677.0</td>\n",
       "    </tr>\n",
       "    <tr>\n",
       "      <th>2017</th>\n",
       "      <td>95843.0</td>\n",
       "    </tr>\n",
       "    <tr>\n",
       "      <th>2018</th>\n",
       "      <td>96762.0</td>\n",
       "    </tr>\n",
       "    <tr>\n",
       "      <th>2019</th>\n",
       "      <td>97625.0</td>\n",
       "    </tr>\n",
       "  </tbody>\n",
       "</table>\n",
       "<p>110 rows × 1 columns</p>\n",
       "</div>"
      ],
      "text/plain": [
       "            population\n",
       "iso-3 year            \n",
       "ABW   1960     54608.0\n",
       "      2010    100341.0\n",
       "      2011    101288.0\n",
       "      2012    102112.0\n",
       "      2013    102880.0\n",
       "...                ...\n",
       "SYC   2015     93419.0\n",
       "      2016     94677.0\n",
       "      2017     95843.0\n",
       "      2018     96762.0\n",
       "      2019     97625.0\n",
       "\n",
       "[110 rows x 1 columns]"
      ]
     },
     "execution_count": 56,
     "metadata": {},
     "output_type": "execute_result"
    }
   ],
   "source": [
    "population_df"
   ]
  },
  {
   "cell_type": "code",
   "execution_count": 57,
   "id": "02a7e1ea-b489-4faa-af1b-a81dbf93971c",
   "metadata": {},
   "outputs": [],
   "source": [
    "n_cellphones_and_population_df = n_cellphones_df.merge(population_df, on=['iso-3','year'] , copy=True)"
   ]
  },
  {
   "cell_type": "code",
   "execution_count": 58,
   "id": "72adb82c-18cc-41e7-b7a4-7780328755f5",
   "metadata": {},
   "outputs": [
    {
     "data": {
      "text/html": [
       "<div>\n",
       "<style scoped>\n",
       "    .dataframe tbody tr th:only-of-type {\n",
       "        vertical-align: middle;\n",
       "    }\n",
       "\n",
       "    .dataframe tbody tr th {\n",
       "        vertical-align: top;\n",
       "    }\n",
       "\n",
       "    .dataframe thead th {\n",
       "        text-align: right;\n",
       "    }\n",
       "</style>\n",
       "<table border=\"1\" class=\"dataframe\">\n",
       "  <thead>\n",
       "    <tr style=\"text-align: right;\">\n",
       "      <th></th>\n",
       "      <th></th>\n",
       "      <th>n_cellphones</th>\n",
       "      <th>population</th>\n",
       "    </tr>\n",
       "    <tr>\n",
       "      <th>iso-3</th>\n",
       "      <th>year</th>\n",
       "      <th></th>\n",
       "      <th></th>\n",
       "    </tr>\n",
       "  </thead>\n",
       "  <tbody>\n",
       "    <tr>\n",
       "      <th rowspan=\"5\" valign=\"top\">ABW</th>\n",
       "      <th>1960</th>\n",
       "      <td>0.0</td>\n",
       "      <td>54608.0</td>\n",
       "    </tr>\n",
       "    <tr>\n",
       "      <th>2010</th>\n",
       "      <td>132000.0</td>\n",
       "      <td>100341.0</td>\n",
       "    </tr>\n",
       "    <tr>\n",
       "      <th>2011</th>\n",
       "      <td>133500.0</td>\n",
       "      <td>101288.0</td>\n",
       "    </tr>\n",
       "    <tr>\n",
       "      <th>2012</th>\n",
       "      <td>135000.0</td>\n",
       "      <td>102112.0</td>\n",
       "    </tr>\n",
       "    <tr>\n",
       "      <th>2013</th>\n",
       "      <td>139000.0</td>\n",
       "      <td>102880.0</td>\n",
       "    </tr>\n",
       "    <tr>\n",
       "      <th>...</th>\n",
       "      <th>...</th>\n",
       "      <td>...</td>\n",
       "      <td>...</td>\n",
       "    </tr>\n",
       "    <tr>\n",
       "      <th rowspan=\"5\" valign=\"top\">SYC</th>\n",
       "      <th>2015</th>\n",
       "      <td>148000.0</td>\n",
       "      <td>93419.0</td>\n",
       "    </tr>\n",
       "    <tr>\n",
       "      <th>2016</th>\n",
       "      <td>152000.0</td>\n",
       "      <td>94677.0</td>\n",
       "    </tr>\n",
       "    <tr>\n",
       "      <th>2017</th>\n",
       "      <td>167000.0</td>\n",
       "      <td>95843.0</td>\n",
       "    </tr>\n",
       "    <tr>\n",
       "      <th>2018</th>\n",
       "      <td>179000.0</td>\n",
       "      <td>96762.0</td>\n",
       "    </tr>\n",
       "    <tr>\n",
       "      <th>2019</th>\n",
       "      <td>194000.0</td>\n",
       "      <td>97625.0</td>\n",
       "    </tr>\n",
       "  </tbody>\n",
       "</table>\n",
       "<p>110 rows × 2 columns</p>\n",
       "</div>"
      ],
      "text/plain": [
       "            n_cellphones  population\n",
       "iso-3 year                          \n",
       "ABW   1960           0.0     54608.0\n",
       "      2010      132000.0    100341.0\n",
       "      2011      133500.0    101288.0\n",
       "      2012      135000.0    102112.0\n",
       "      2013      139000.0    102880.0\n",
       "...                  ...         ...\n",
       "SYC   2015      148000.0     93419.0\n",
       "      2016      152000.0     94677.0\n",
       "      2017      167000.0     95843.0\n",
       "      2018      179000.0     96762.0\n",
       "      2019      194000.0     97625.0\n",
       "\n",
       "[110 rows x 2 columns]"
      ]
     },
     "execution_count": 58,
     "metadata": {},
     "output_type": "execute_result"
    }
   ],
   "source": [
    "n_cellphones_and_population_df"
   ]
  },
  {
   "cell_type": "code",
   "execution_count": 59,
   "id": "cb14c6b7-1d36-44b7-a916-f20f16d2ab6f",
   "metadata": {},
   "outputs": [
    {
     "data": {
      "text/plain": [
       "pandas.core.frame.DataFrame"
      ]
     },
     "execution_count": 59,
     "metadata": {},
     "output_type": "execute_result"
    }
   ],
   "source": [
    "type(n_cellphones_and_population_df)"
   ]
  },
  {
   "cell_type": "markdown",
   "id": "311c8bb3-54af-4369-808e-7a4b4135c093",
   "metadata": {},
   "source": [
    "##### Now we can show the first table required in the assignment."
   ]
  },
  {
   "cell_type": "markdown",
   "id": "44c7862b-ccd4-404a-bacf-3df5b6dc0e20",
   "metadata": {},
   "source": [
    "First we unstack the data frame two levels."
   ]
  },
  {
   "cell_type": "code",
   "execution_count": 60,
   "id": "ac508aa8-6b6b-49fa-afbb-9ae585a2010c",
   "metadata": {},
   "outputs": [],
   "source": [
    "unstacked_n_cellphones_and_population_df = n_cellphones_and_population_df.unstack(level=-1)"
   ]
  },
  {
   "cell_type": "code",
   "execution_count": 61,
   "id": "aec05a66-c7b3-4429-ae34-189f51485457",
   "metadata": {},
   "outputs": [
    {
     "data": {
      "text/html": [
       "<div>\n",
       "<style scoped>\n",
       "    .dataframe tbody tr th:only-of-type {\n",
       "        vertical-align: middle;\n",
       "    }\n",
       "\n",
       "    .dataframe tbody tr th {\n",
       "        vertical-align: top;\n",
       "    }\n",
       "\n",
       "    .dataframe thead tr th {\n",
       "        text-align: left;\n",
       "    }\n",
       "\n",
       "    .dataframe thead tr:last-of-type th {\n",
       "        text-align: right;\n",
       "    }\n",
       "</style>\n",
       "<table border=\"1\" class=\"dataframe\">\n",
       "  <thead>\n",
       "    <tr>\n",
       "      <th></th>\n",
       "      <th colspan=\"10\" halign=\"left\">n_cellphones</th>\n",
       "      <th>...</th>\n",
       "      <th colspan=\"10\" halign=\"left\">population</th>\n",
       "    </tr>\n",
       "    <tr>\n",
       "      <th>year</th>\n",
       "      <th>1960</th>\n",
       "      <th>2010</th>\n",
       "      <th>2011</th>\n",
       "      <th>2012</th>\n",
       "      <th>2013</th>\n",
       "      <th>2014</th>\n",
       "      <th>2015</th>\n",
       "      <th>2016</th>\n",
       "      <th>2017</th>\n",
       "      <th>2018</th>\n",
       "      <th>...</th>\n",
       "      <th>2010</th>\n",
       "      <th>2011</th>\n",
       "      <th>2012</th>\n",
       "      <th>2013</th>\n",
       "      <th>2014</th>\n",
       "      <th>2015</th>\n",
       "      <th>2016</th>\n",
       "      <th>2017</th>\n",
       "      <th>2018</th>\n",
       "      <th>2019</th>\n",
       "    </tr>\n",
       "    <tr>\n",
       "      <th>iso-3</th>\n",
       "      <th></th>\n",
       "      <th></th>\n",
       "      <th></th>\n",
       "      <th></th>\n",
       "      <th></th>\n",
       "      <th></th>\n",
       "      <th></th>\n",
       "      <th></th>\n",
       "      <th></th>\n",
       "      <th></th>\n",
       "      <th></th>\n",
       "      <th></th>\n",
       "      <th></th>\n",
       "      <th></th>\n",
       "      <th></th>\n",
       "      <th></th>\n",
       "      <th></th>\n",
       "      <th></th>\n",
       "      <th></th>\n",
       "      <th></th>\n",
       "      <th></th>\n",
       "    </tr>\n",
       "  </thead>\n",
       "  <tbody>\n",
       "    <tr>\n",
       "      <th>ABW</th>\n",
       "      <td>0.0</td>\n",
       "      <td>132000.0</td>\n",
       "      <td>133500.0</td>\n",
       "      <td>135000.0</td>\n",
       "      <td>139000.0</td>\n",
       "      <td>140000.0</td>\n",
       "      <td>141000.0</td>\n",
       "      <td>141000.0</td>\n",
       "      <td>141000.0</td>\n",
       "      <td>141000.0</td>\n",
       "      <td>...</td>\n",
       "      <td>100341.0</td>\n",
       "      <td>101288.0</td>\n",
       "      <td>102112.0</td>\n",
       "      <td>102880.0</td>\n",
       "      <td>103594.0</td>\n",
       "      <td>104257.0</td>\n",
       "      <td>104874.0</td>\n",
       "      <td>105439.0</td>\n",
       "      <td>105962.0</td>\n",
       "      <td>106442.0</td>\n",
       "    </tr>\n",
       "    <tr>\n",
       "      <th>AFG</th>\n",
       "      <td>0.0</td>\n",
       "      <td>10200000.0</td>\n",
       "      <td>13800000.0</td>\n",
       "      <td>15300000.0</td>\n",
       "      <td>16800000.0</td>\n",
       "      <td>18400000.0</td>\n",
       "      <td>19700000.0</td>\n",
       "      <td>21600000.0</td>\n",
       "      <td>23900000.0</td>\n",
       "      <td>22000000.0</td>\n",
       "      <td>...</td>\n",
       "      <td>28189672.0</td>\n",
       "      <td>29249157.0</td>\n",
       "      <td>30466479.0</td>\n",
       "      <td>31541209.0</td>\n",
       "      <td>32716210.0</td>\n",
       "      <td>33753499.0</td>\n",
       "      <td>34636207.0</td>\n",
       "      <td>35643418.0</td>\n",
       "      <td>36686784.0</td>\n",
       "      <td>37769499.0</td>\n",
       "    </tr>\n",
       "    <tr>\n",
       "      <th>AGO</th>\n",
       "      <td>0.0</td>\n",
       "      <td>9400000.0</td>\n",
       "      <td>12100000.0</td>\n",
       "      <td>12800000.0</td>\n",
       "      <td>13300000.0</td>\n",
       "      <td>14100000.0</td>\n",
       "      <td>13900000.0</td>\n",
       "      <td>13000000.0</td>\n",
       "      <td>13300000.0</td>\n",
       "      <td>13300000.0</td>\n",
       "      <td>...</td>\n",
       "      <td>23364185.0</td>\n",
       "      <td>24259111.0</td>\n",
       "      <td>25188292.0</td>\n",
       "      <td>26147002.0</td>\n",
       "      <td>27128337.0</td>\n",
       "      <td>28127721.0</td>\n",
       "      <td>29154746.0</td>\n",
       "      <td>30208628.0</td>\n",
       "      <td>31273533.0</td>\n",
       "      <td>32353588.0</td>\n",
       "    </tr>\n",
       "    <tr>\n",
       "      <th>ALB</th>\n",
       "      <td>0.0</td>\n",
       "      <td>2690000.0</td>\n",
       "      <td>3100000.0</td>\n",
       "      <td>3500000.0</td>\n",
       "      <td>3690000.0</td>\n",
       "      <td>3360000.0</td>\n",
       "      <td>3400000.0</td>\n",
       "      <td>3370000.0</td>\n",
       "      <td>3630000.0</td>\n",
       "      <td>2710000.0</td>\n",
       "      <td>...</td>\n",
       "      <td>2913021.0</td>\n",
       "      <td>2905195.0</td>\n",
       "      <td>2900401.0</td>\n",
       "      <td>2895092.0</td>\n",
       "      <td>2889104.0</td>\n",
       "      <td>2880703.0</td>\n",
       "      <td>2876101.0</td>\n",
       "      <td>2873457.0</td>\n",
       "      <td>2866376.0</td>\n",
       "      <td>2854191.0</td>\n",
       "    </tr>\n",
       "    <tr>\n",
       "      <th>AND</th>\n",
       "      <td>0.0</td>\n",
       "      <td>65500.0</td>\n",
       "      <td>65000.0</td>\n",
       "      <td>63900.0</td>\n",
       "      <td>63900.0</td>\n",
       "      <td>66200.0</td>\n",
       "      <td>71300.0</td>\n",
       "      <td>76100.0</td>\n",
       "      <td>80300.0</td>\n",
       "      <td>82600.0</td>\n",
       "      <td>...</td>\n",
       "      <td>71519.0</td>\n",
       "      <td>70567.0</td>\n",
       "      <td>71013.0</td>\n",
       "      <td>71367.0</td>\n",
       "      <td>71621.0</td>\n",
       "      <td>71746.0</td>\n",
       "      <td>72540.0</td>\n",
       "      <td>73837.0</td>\n",
       "      <td>75013.0</td>\n",
       "      <td>76343.0</td>\n",
       "    </tr>\n",
       "    <tr>\n",
       "      <th>ARE</th>\n",
       "      <td>0.0</td>\n",
       "      <td>10900000.0</td>\n",
       "      <td>11700000.0</td>\n",
       "      <td>13800000.0</td>\n",
       "      <td>16100000.0</td>\n",
       "      <td>16800000.0</td>\n",
       "      <td>17900000.0</td>\n",
       "      <td>19900000.0</td>\n",
       "      <td>19800000.0</td>\n",
       "      <td>20100000.0</td>\n",
       "      <td>...</td>\n",
       "      <td>8481771.0</td>\n",
       "      <td>8575205.0</td>\n",
       "      <td>8664969.0</td>\n",
       "      <td>8751847.0</td>\n",
       "      <td>8835951.0</td>\n",
       "      <td>8916899.0</td>\n",
       "      <td>8994263.0</td>\n",
       "      <td>9068296.0</td>\n",
       "      <td>9140169.0</td>\n",
       "      <td>9211657.0</td>\n",
       "    </tr>\n",
       "    <tr>\n",
       "      <th>ATG</th>\n",
       "      <td>0.0</td>\n",
       "      <td>168000.0</td>\n",
       "      <td>176000.0</td>\n",
       "      <td>127000.0</td>\n",
       "      <td>114000.0</td>\n",
       "      <td>120000.0</td>\n",
       "      <td>176000.0</td>\n",
       "      <td>180000.0</td>\n",
       "      <td>184000.0</td>\n",
       "      <td>184000.0</td>\n",
       "      <td>...</td>\n",
       "      <td>85695.0</td>\n",
       "      <td>86729.0</td>\n",
       "      <td>87674.0</td>\n",
       "      <td>88497.0</td>\n",
       "      <td>89236.0</td>\n",
       "      <td>89941.0</td>\n",
       "      <td>90564.0</td>\n",
       "      <td>91119.0</td>\n",
       "      <td>91626.0</td>\n",
       "      <td>92117.0</td>\n",
       "    </tr>\n",
       "    <tr>\n",
       "      <th>HKG</th>\n",
       "      <td>0.0</td>\n",
       "      <td>13800000.0</td>\n",
       "      <td>15300000.0</td>\n",
       "      <td>16400000.0</td>\n",
       "      <td>17000000.0</td>\n",
       "      <td>17000000.0</td>\n",
       "      <td>16700000.0</td>\n",
       "      <td>17600000.0</td>\n",
       "      <td>18400000.0</td>\n",
       "      <td>19900000.0</td>\n",
       "      <td>...</td>\n",
       "      <td>7024200.0</td>\n",
       "      <td>7071600.0</td>\n",
       "      <td>7150100.0</td>\n",
       "      <td>7178900.0</td>\n",
       "      <td>7229500.0</td>\n",
       "      <td>7291300.0</td>\n",
       "      <td>7336600.0</td>\n",
       "      <td>7393200.0</td>\n",
       "      <td>7452600.0</td>\n",
       "      <td>7507900.0</td>\n",
       "    </tr>\n",
       "    <tr>\n",
       "      <th>MAC</th>\n",
       "      <td>0.0</td>\n",
       "      <td>1120000.0</td>\n",
       "      <td>1350000.0</td>\n",
       "      <td>1610000.0</td>\n",
       "      <td>1720000.0</td>\n",
       "      <td>1860000.0</td>\n",
       "      <td>1900000.0</td>\n",
       "      <td>1970000.0</td>\n",
       "      <td>2050000.0</td>\n",
       "      <td>2180000.0</td>\n",
       "      <td>...</td>\n",
       "      <td>557297.0</td>\n",
       "      <td>571003.0</td>\n",
       "      <td>582766.0</td>\n",
       "      <td>593374.0</td>\n",
       "      <td>604167.0</td>\n",
       "      <td>615239.0</td>\n",
       "      <td>626688.0</td>\n",
       "      <td>638609.0</td>\n",
       "      <td>650991.0</td>\n",
       "      <td>663653.0</td>\n",
       "    </tr>\n",
       "    <tr>\n",
       "      <th>SYC</th>\n",
       "      <td>0.0</td>\n",
       "      <td>118000.0</td>\n",
       "      <td>127000.0</td>\n",
       "      <td>136000.0</td>\n",
       "      <td>137000.0</td>\n",
       "      <td>151000.0</td>\n",
       "      <td>148000.0</td>\n",
       "      <td>152000.0</td>\n",
       "      <td>167000.0</td>\n",
       "      <td>179000.0</td>\n",
       "      <td>...</td>\n",
       "      <td>89770.0</td>\n",
       "      <td>87441.0</td>\n",
       "      <td>88303.0</td>\n",
       "      <td>89949.0</td>\n",
       "      <td>91359.0</td>\n",
       "      <td>93419.0</td>\n",
       "      <td>94677.0</td>\n",
       "      <td>95843.0</td>\n",
       "      <td>96762.0</td>\n",
       "      <td>97625.0</td>\n",
       "    </tr>\n",
       "  </tbody>\n",
       "</table>\n",
       "<p>10 rows × 22 columns</p>\n",
       "</div>"
      ],
      "text/plain": [
       "      n_cellphones                                                  \\\n",
       "year          1960        2010        2011        2012        2013   \n",
       "iso-3                                                                \n",
       "ABW            0.0    132000.0    133500.0    135000.0    139000.0   \n",
       "AFG            0.0  10200000.0  13800000.0  15300000.0  16800000.0   \n",
       "AGO            0.0   9400000.0  12100000.0  12800000.0  13300000.0   \n",
       "ALB            0.0   2690000.0   3100000.0   3500000.0   3690000.0   \n",
       "AND            0.0     65500.0     65000.0     63900.0     63900.0   \n",
       "ARE            0.0  10900000.0  11700000.0  13800000.0  16100000.0   \n",
       "ATG            0.0    168000.0    176000.0    127000.0    114000.0   \n",
       "HKG            0.0  13800000.0  15300000.0  16400000.0  17000000.0   \n",
       "MAC            0.0   1120000.0   1350000.0   1610000.0   1720000.0   \n",
       "SYC            0.0    118000.0    127000.0    136000.0    137000.0   \n",
       "\n",
       "                                                                   ...  \\\n",
       "year         2014        2015        2016        2017        2018  ...   \n",
       "iso-3                                                              ...   \n",
       "ABW      140000.0    141000.0    141000.0    141000.0    141000.0  ...   \n",
       "AFG    18400000.0  19700000.0  21600000.0  23900000.0  22000000.0  ...   \n",
       "AGO    14100000.0  13900000.0  13000000.0  13300000.0  13300000.0  ...   \n",
       "ALB     3360000.0   3400000.0   3370000.0   3630000.0   2710000.0  ...   \n",
       "AND       66200.0     71300.0     76100.0     80300.0     82600.0  ...   \n",
       "ARE    16800000.0  17900000.0  19900000.0  19800000.0  20100000.0  ...   \n",
       "ATG      120000.0    176000.0    180000.0    184000.0    184000.0  ...   \n",
       "HKG    17000000.0  16700000.0  17600000.0  18400000.0  19900000.0  ...   \n",
       "MAC     1860000.0   1900000.0   1970000.0   2050000.0   2180000.0  ...   \n",
       "SYC      151000.0    148000.0    152000.0    167000.0    179000.0  ...   \n",
       "\n",
       "       population                                                              \\\n",
       "year         2010        2011        2012        2013        2014        2015   \n",
       "iso-3                                                                           \n",
       "ABW      100341.0    101288.0    102112.0    102880.0    103594.0    104257.0   \n",
       "AFG    28189672.0  29249157.0  30466479.0  31541209.0  32716210.0  33753499.0   \n",
       "AGO    23364185.0  24259111.0  25188292.0  26147002.0  27128337.0  28127721.0   \n",
       "ALB     2913021.0   2905195.0   2900401.0   2895092.0   2889104.0   2880703.0   \n",
       "AND       71519.0     70567.0     71013.0     71367.0     71621.0     71746.0   \n",
       "ARE     8481771.0   8575205.0   8664969.0   8751847.0   8835951.0   8916899.0   \n",
       "ATG       85695.0     86729.0     87674.0     88497.0     89236.0     89941.0   \n",
       "HKG     7024200.0   7071600.0   7150100.0   7178900.0   7229500.0   7291300.0   \n",
       "MAC      557297.0    571003.0    582766.0    593374.0    604167.0    615239.0   \n",
       "SYC       89770.0     87441.0     88303.0     89949.0     91359.0     93419.0   \n",
       "\n",
       "                                                       \n",
       "year         2016        2017        2018        2019  \n",
       "iso-3                                                  \n",
       "ABW      104874.0    105439.0    105962.0    106442.0  \n",
       "AFG    34636207.0  35643418.0  36686784.0  37769499.0  \n",
       "AGO    29154746.0  30208628.0  31273533.0  32353588.0  \n",
       "ALB     2876101.0   2873457.0   2866376.0   2854191.0  \n",
       "AND       72540.0     73837.0     75013.0     76343.0  \n",
       "ARE     8994263.0   9068296.0   9140169.0   9211657.0  \n",
       "ATG       90564.0     91119.0     91626.0     92117.0  \n",
       "HKG     7336600.0   7393200.0   7452600.0   7507900.0  \n",
       "MAC      626688.0    638609.0    650991.0    663653.0  \n",
       "SYC       94677.0     95843.0     96762.0     97625.0  \n",
       "\n",
       "[10 rows x 22 columns]"
      ]
     },
     "execution_count": 61,
     "metadata": {},
     "output_type": "execute_result"
    }
   ],
   "source": [
    "unstacked_n_cellphones_and_population_df"
   ]
  },
  {
   "cell_type": "code",
   "execution_count": 62,
   "id": "da2d0c60-f017-46ee-925a-aa0d406f8ef6",
   "metadata": {},
   "outputs": [
    {
     "data": {
      "text/plain": [
       "MultiIndex([('ABW', '1960'),\n",
       "            ('ABW', '2010'),\n",
       "            ('ABW', '2011'),\n",
       "            ('ABW', '2012'),\n",
       "            ('ABW', '2013'),\n",
       "            ('ABW', '2014'),\n",
       "            ('ABW', '2015'),\n",
       "            ('ABW', '2016'),\n",
       "            ('ABW', '2017'),\n",
       "            ('ABW', '2018'),\n",
       "            ...\n",
       "            ('SYC', '2010'),\n",
       "            ('SYC', '2011'),\n",
       "            ('SYC', '2012'),\n",
       "            ('SYC', '2013'),\n",
       "            ('SYC', '2014'),\n",
       "            ('SYC', '2015'),\n",
       "            ('SYC', '2016'),\n",
       "            ('SYC', '2017'),\n",
       "            ('SYC', '2018'),\n",
       "            ('SYC', '2019')],\n",
       "           names=['iso-3', 'year'], length=110)"
      ]
     },
     "execution_count": 62,
     "metadata": {},
     "output_type": "execute_result"
    }
   ],
   "source": [
    "n_cellphones_and_population_df.index"
   ]
  },
  {
   "cell_type": "code",
   "execution_count": 63,
   "id": "9c57ebbd-e255-4ef3-b963-c248ebc40efb",
   "metadata": {},
   "outputs": [],
   "source": [
    "first_table_1960_df = n_cellphones_and_population_df.xs('1960', level = 'year')"
   ]
  },
  {
   "cell_type": "code",
   "execution_count": 64,
   "id": "7b6c8372-d135-43d9-b0d4-71730838087b",
   "metadata": {},
   "outputs": [
    {
     "data": {
      "text/html": [
       "<div>\n",
       "<style scoped>\n",
       "    .dataframe tbody tr th:only-of-type {\n",
       "        vertical-align: middle;\n",
       "    }\n",
       "\n",
       "    .dataframe tbody tr th {\n",
       "        vertical-align: top;\n",
       "    }\n",
       "\n",
       "    .dataframe thead th {\n",
       "        text-align: right;\n",
       "    }\n",
       "</style>\n",
       "<table border=\"1\" class=\"dataframe\">\n",
       "  <thead>\n",
       "    <tr style=\"text-align: right;\">\n",
       "      <th></th>\n",
       "      <th>n_cellphones</th>\n",
       "      <th>population</th>\n",
       "    </tr>\n",
       "    <tr>\n",
       "      <th>iso-3</th>\n",
       "      <th></th>\n",
       "      <th></th>\n",
       "    </tr>\n",
       "  </thead>\n",
       "  <tbody>\n",
       "    <tr>\n",
       "      <th>ABW</th>\n",
       "      <td>0.0</td>\n",
       "      <td>54608.0</td>\n",
       "    </tr>\n",
       "    <tr>\n",
       "      <th>AFG</th>\n",
       "      <td>0.0</td>\n",
       "      <td>8622466.0</td>\n",
       "    </tr>\n",
       "    <tr>\n",
       "      <th>AGO</th>\n",
       "      <td>0.0</td>\n",
       "      <td>5357195.0</td>\n",
       "    </tr>\n",
       "    <tr>\n",
       "      <th>ALB</th>\n",
       "      <td>0.0</td>\n",
       "      <td>1608800.0</td>\n",
       "    </tr>\n",
       "    <tr>\n",
       "      <th>AND</th>\n",
       "      <td>0.0</td>\n",
       "      <td>9443.0</td>\n",
       "    </tr>\n",
       "    <tr>\n",
       "      <th>ARE</th>\n",
       "      <td>0.0</td>\n",
       "      <td>133426.0</td>\n",
       "    </tr>\n",
       "    <tr>\n",
       "      <th>ATG</th>\n",
       "      <td>0.0</td>\n",
       "      <td>55342.0</td>\n",
       "    </tr>\n",
       "    <tr>\n",
       "      <th>HKG</th>\n",
       "      <td>0.0</td>\n",
       "      <td>3114671.0</td>\n",
       "    </tr>\n",
       "    <tr>\n",
       "      <th>MAC</th>\n",
       "      <td>0.0</td>\n",
       "      <td>177014.0</td>\n",
       "    </tr>\n",
       "    <tr>\n",
       "      <th>SYC</th>\n",
       "      <td>0.0</td>\n",
       "      <td>41700.0</td>\n",
       "    </tr>\n",
       "  </tbody>\n",
       "</table>\n",
       "</div>"
      ],
      "text/plain": [
       "       n_cellphones  population\n",
       "iso-3                          \n",
       "ABW             0.0     54608.0\n",
       "AFG             0.0   8622466.0\n",
       "AGO             0.0   5357195.0\n",
       "ALB             0.0   1608800.0\n",
       "AND             0.0      9443.0\n",
       "ARE             0.0    133426.0\n",
       "ATG             0.0     55342.0\n",
       "HKG             0.0   3114671.0\n",
       "MAC             0.0    177014.0\n",
       "SYC             0.0     41700.0"
      ]
     },
     "execution_count": 64,
     "metadata": {},
     "output_type": "execute_result"
    }
   ],
   "source": [
    "first_table_1960_df "
   ]
  },
  {
   "cell_type": "code",
   "execution_count": 65,
   "id": "160cb87c-2d9c-4250-922b-85daa95747fd",
   "metadata": {},
   "outputs": [
    {
     "name": "stdout",
     "output_type": "stream",
     "text": [
      "<class 'pandas.core.frame.DataFrame'>\n",
      "Index: 10 entries, ABW to SYC\n",
      "Data columns (total 2 columns):\n",
      " #   Column        Non-Null Count  Dtype  \n",
      "---  ------        --------------  -----  \n",
      " 0   n_cellphones  10 non-null     float64\n",
      " 1   population    10 non-null     float64\n",
      "dtypes: float64(2)\n",
      "memory usage: 240.0+ bytes\n"
     ]
    }
   ],
   "source": [
    "first_table_1960_df.info()"
   ]
  },
  {
   "cell_type": "code",
   "execution_count": 66,
   "id": "81c1dd10-212c-4d1b-83b1-a3dc5c65f62e",
   "metadata": {},
   "outputs": [],
   "source": [
    "# df.loc[(slice(None), \"one\"), :]"
   ]
  },
  {
   "cell_type": "markdown",
   "id": "2e69deda-fb98-4c7d-b6e4-841a81a1daa0",
   "metadata": {},
   "source": [
    "Another subset"
   ]
  },
  {
   "cell_type": "code",
   "execution_count": 67,
   "id": "2a92fd2f-4cea-42cc-8422-154c4a0e771b",
   "metadata": {},
   "outputs": [],
   "source": [
    "first_table_1960_df_II = n_cellphones_and_population_df.loc[(slice(None), \"1960\"), :]"
   ]
  },
  {
   "cell_type": "markdown",
   "id": "ee497a76-5774-430e-9100-b4995b8783bf",
   "metadata": {},
   "source": [
    "\n",
    "#### The first table\n"
   ]
  },
  {
   "cell_type": "code",
   "execution_count": 68,
   "id": "d24f6576-cfb3-4ccb-ac1a-2a4785f9a0e6",
   "metadata": {},
   "outputs": [
    {
     "data": {
      "text/html": [
       "<div>\n",
       "<style scoped>\n",
       "    .dataframe tbody tr th:only-of-type {\n",
       "        vertical-align: middle;\n",
       "    }\n",
       "\n",
       "    .dataframe tbody tr th {\n",
       "        vertical-align: top;\n",
       "    }\n",
       "\n",
       "    .dataframe thead th {\n",
       "        text-align: right;\n",
       "    }\n",
       "</style>\n",
       "<table border=\"1\" class=\"dataframe\">\n",
       "  <thead>\n",
       "    <tr style=\"text-align: right;\">\n",
       "      <th></th>\n",
       "      <th></th>\n",
       "      <th>n_cellphones</th>\n",
       "      <th>population</th>\n",
       "    </tr>\n",
       "    <tr>\n",
       "      <th>iso-3</th>\n",
       "      <th>year</th>\n",
       "      <th></th>\n",
       "      <th></th>\n",
       "    </tr>\n",
       "  </thead>\n",
       "  <tbody>\n",
       "    <tr>\n",
       "      <th>ABW</th>\n",
       "      <th>1960</th>\n",
       "      <td>0.0</td>\n",
       "      <td>54608.0</td>\n",
       "    </tr>\n",
       "    <tr>\n",
       "      <th>AFG</th>\n",
       "      <th>1960</th>\n",
       "      <td>0.0</td>\n",
       "      <td>8622466.0</td>\n",
       "    </tr>\n",
       "    <tr>\n",
       "      <th>AGO</th>\n",
       "      <th>1960</th>\n",
       "      <td>0.0</td>\n",
       "      <td>5357195.0</td>\n",
       "    </tr>\n",
       "    <tr>\n",
       "      <th>ALB</th>\n",
       "      <th>1960</th>\n",
       "      <td>0.0</td>\n",
       "      <td>1608800.0</td>\n",
       "    </tr>\n",
       "    <tr>\n",
       "      <th>AND</th>\n",
       "      <th>1960</th>\n",
       "      <td>0.0</td>\n",
       "      <td>9443.0</td>\n",
       "    </tr>\n",
       "  </tbody>\n",
       "</table>\n",
       "</div>"
      ],
      "text/plain": [
       "            n_cellphones  population\n",
       "iso-3 year                          \n",
       "ABW   1960           0.0     54608.0\n",
       "AFG   1960           0.0   8622466.0\n",
       "AGO   1960           0.0   5357195.0\n",
       "ALB   1960           0.0   1608800.0\n",
       "AND   1960           0.0      9443.0"
      ]
     },
     "execution_count": 68,
     "metadata": {},
     "output_type": "execute_result"
    }
   ],
   "source": [
    "first_table_1960_df_II.head()"
   ]
  },
  {
   "cell_type": "markdown",
   "id": "4613d220-2684-4315-b563-937747e05e0e",
   "metadata": {},
   "source": [
    "\n",
    "##### The second table\n"
   ]
  },
  {
   "cell_type": "markdown",
   "id": "6a94db1d-6b45-4726-97b3-6280aae41661",
   "metadata": {},
   "source": [
    "We have to compute the number of cell phones per capita for the different countries. First a deep copy."
   ]
  },
  {
   "cell_type": "code",
   "execution_count": 69,
   "id": "f91fe636-106a-497d-9e2c-2e97965557f2",
   "metadata": {},
   "outputs": [],
   "source": [
    "n_cellphones_and_population_and_per_capita_df = n_cellphones_and_population_df.copy()"
   ]
  },
  {
   "cell_type": "code",
   "execution_count": 70,
   "id": "4145fc1e-32cd-415e-8325-c1b16d9b01cf",
   "metadata": {},
   "outputs": [],
   "source": [
    "n_cellphones_and_population_and_per_capita_df['phones_per_capita'] = n_cellphones_and_population_and_per_capita_df['n_cellphones'] / n_cellphones_and_population_and_per_capita_df['population'] "
   ]
  },
  {
   "cell_type": "code",
   "execution_count": 71,
   "id": "255f082d-1d43-4b37-a4c4-14c08ba43d2f",
   "metadata": {},
   "outputs": [
    {
     "name": "stdout",
     "output_type": "stream",
     "text": [
      "<class 'pandas.core.frame.DataFrame'>\n",
      "MultiIndex: 110 entries, ('ABW', '1960') to ('SYC', '2019')\n",
      "Data columns (total 3 columns):\n",
      " #   Column             Non-Null Count  Dtype  \n",
      "---  ------             --------------  -----  \n",
      " 0   n_cellphones       110 non-null    float64\n",
      " 1   population         110 non-null    float64\n",
      " 2   phones_per_capita  110 non-null    float64\n",
      "dtypes: float64(3)\n",
      "memory usage: 3.6+ KB\n"
     ]
    }
   ],
   "source": [
    "n_cellphones_and_population_and_per_capita_df.info()"
   ]
  },
  {
   "cell_type": "code",
   "execution_count": 72,
   "id": "d4f4493c-3902-4d44-9cf9-021914c49ff5",
   "metadata": {},
   "outputs": [
    {
     "data": {
      "text/html": [
       "<div>\n",
       "<style scoped>\n",
       "    .dataframe tbody tr th:only-of-type {\n",
       "        vertical-align: middle;\n",
       "    }\n",
       "\n",
       "    .dataframe tbody tr th {\n",
       "        vertical-align: top;\n",
       "    }\n",
       "\n",
       "    .dataframe thead th {\n",
       "        text-align: right;\n",
       "    }\n",
       "</style>\n",
       "<table border=\"1\" class=\"dataframe\">\n",
       "  <thead>\n",
       "    <tr style=\"text-align: right;\">\n",
       "      <th></th>\n",
       "      <th></th>\n",
       "      <th>n_cellphones</th>\n",
       "      <th>population</th>\n",
       "      <th>phones_per_capita</th>\n",
       "    </tr>\n",
       "    <tr>\n",
       "      <th>iso-3</th>\n",
       "      <th>year</th>\n",
       "      <th></th>\n",
       "      <th></th>\n",
       "      <th></th>\n",
       "    </tr>\n",
       "  </thead>\n",
       "  <tbody>\n",
       "    <tr>\n",
       "      <th rowspan=\"5\" valign=\"top\">ABW</th>\n",
       "      <th>1960</th>\n",
       "      <td>0.0</td>\n",
       "      <td>54608.0</td>\n",
       "      <td>0.000000</td>\n",
       "    </tr>\n",
       "    <tr>\n",
       "      <th>2010</th>\n",
       "      <td>132000.0</td>\n",
       "      <td>100341.0</td>\n",
       "      <td>1.315514</td>\n",
       "    </tr>\n",
       "    <tr>\n",
       "      <th>2011</th>\n",
       "      <td>133500.0</td>\n",
       "      <td>101288.0</td>\n",
       "      <td>1.318024</td>\n",
       "    </tr>\n",
       "    <tr>\n",
       "      <th>2012</th>\n",
       "      <td>135000.0</td>\n",
       "      <td>102112.0</td>\n",
       "      <td>1.322078</td>\n",
       "    </tr>\n",
       "    <tr>\n",
       "      <th>2013</th>\n",
       "      <td>139000.0</td>\n",
       "      <td>102880.0</td>\n",
       "      <td>1.351089</td>\n",
       "    </tr>\n",
       "    <tr>\n",
       "      <th>...</th>\n",
       "      <th>...</th>\n",
       "      <td>...</td>\n",
       "      <td>...</td>\n",
       "      <td>...</td>\n",
       "    </tr>\n",
       "    <tr>\n",
       "      <th rowspan=\"5\" valign=\"top\">SYC</th>\n",
       "      <th>2015</th>\n",
       "      <td>148000.0</td>\n",
       "      <td>93419.0</td>\n",
       "      <td>1.584260</td>\n",
       "    </tr>\n",
       "    <tr>\n",
       "      <th>2016</th>\n",
       "      <td>152000.0</td>\n",
       "      <td>94677.0</td>\n",
       "      <td>1.605459</td>\n",
       "    </tr>\n",
       "    <tr>\n",
       "      <th>2017</th>\n",
       "      <td>167000.0</td>\n",
       "      <td>95843.0</td>\n",
       "      <td>1.742433</td>\n",
       "    </tr>\n",
       "    <tr>\n",
       "      <th>2018</th>\n",
       "      <td>179000.0</td>\n",
       "      <td>96762.0</td>\n",
       "      <td>1.849900</td>\n",
       "    </tr>\n",
       "    <tr>\n",
       "      <th>2019</th>\n",
       "      <td>194000.0</td>\n",
       "      <td>97625.0</td>\n",
       "      <td>1.987196</td>\n",
       "    </tr>\n",
       "  </tbody>\n",
       "</table>\n",
       "<p>110 rows × 3 columns</p>\n",
       "</div>"
      ],
      "text/plain": [
       "            n_cellphones  population  phones_per_capita\n",
       "iso-3 year                                             \n",
       "ABW   1960           0.0     54608.0           0.000000\n",
       "      2010      132000.0    100341.0           1.315514\n",
       "      2011      133500.0    101288.0           1.318024\n",
       "      2012      135000.0    102112.0           1.322078\n",
       "      2013      139000.0    102880.0           1.351089\n",
       "...                  ...         ...                ...\n",
       "SYC   2015      148000.0     93419.0           1.584260\n",
       "      2016      152000.0     94677.0           1.605459\n",
       "      2017      167000.0     95843.0           1.742433\n",
       "      2018      179000.0     96762.0           1.849900\n",
       "      2019      194000.0     97625.0           1.987196\n",
       "\n",
       "[110 rows x 3 columns]"
      ]
     },
     "execution_count": 72,
     "metadata": {},
     "output_type": "execute_result"
    }
   ],
   "source": [
    "n_cellphones_and_population_and_per_capita_df"
   ]
  },
  {
   "cell_type": "markdown",
   "id": "3be32876-aee5-4758-9251-511e515eb3f0",
   "metadata": {},
   "source": [
    "In the second table we are only interested in the column phones_per_capita, so we choose a subset."
   ]
  },
  {
   "cell_type": "code",
   "execution_count": 73,
   "id": "c3d95cae-e641-423c-8d83-432417c9198a",
   "metadata": {},
   "outputs": [],
   "source": [
    "phones__per_capita_Series = n_cellphones_and_population_and_per_capita_df['phones_per_capita'].copy()"
   ]
  },
  {
   "cell_type": "code",
   "execution_count": 74,
   "id": "4b5eee4d-70c0-4c9b-bd0f-93ec53d160bd",
   "metadata": {},
   "outputs": [
    {
     "name": "stdout",
     "output_type": "stream",
     "text": [
      "<class 'pandas.core.series.Series'>\n",
      "MultiIndex: 110 entries, ('ABW', '1960') to ('SYC', '2019')\n",
      "Series name: phones_per_capita\n",
      "Non-Null Count  Dtype  \n",
      "--------------  -----  \n",
      "110 non-null    float64\n",
      "dtypes: float64(1)\n",
      "memory usage: 1.9+ KB\n"
     ]
    }
   ],
   "source": [
    "phones__per_capita_Series.info()"
   ]
  },
  {
   "cell_type": "markdown",
   "id": "4ec00b85-0ca6-46a3-b6f5-aed3a4a41ae0",
   "metadata": {},
   "source": [
    "This is a Series, so we convert it to a DataFrame."
   ]
  },
  {
   "cell_type": "code",
   "execution_count": 75,
   "id": "42a4d0d1-c6ba-4e54-a014-fc155b5d18d1",
   "metadata": {},
   "outputs": [],
   "source": [
    "phones__per_capita_df = pd.DataFrame(data=phones__per_capita_Series)"
   ]
  },
  {
   "cell_type": "code",
   "execution_count": 76,
   "id": "90914dd9-2eca-4a5a-82a9-0261c6334a99",
   "metadata": {},
   "outputs": [
    {
     "name": "stdout",
     "output_type": "stream",
     "text": [
      "<class 'pandas.core.frame.DataFrame'>\n",
      "MultiIndex: 110 entries, ('ABW', '1960') to ('SYC', '2019')\n",
      "Data columns (total 1 columns):\n",
      " #   Column             Non-Null Count  Dtype  \n",
      "---  ------             --------------  -----  \n",
      " 0   phones_per_capita  110 non-null    float64\n",
      "dtypes: float64(1)\n",
      "memory usage: 1.9+ KB\n"
     ]
    }
   ],
   "source": [
    "phones__per_capita_df.info()"
   ]
  },
  {
   "cell_type": "code",
   "execution_count": 77,
   "id": "d65aab9d-b4d2-414c-af90-199ea952b629",
   "metadata": {},
   "outputs": [
    {
     "data": {
      "text/html": [
       "<div>\n",
       "<style scoped>\n",
       "    .dataframe tbody tr th:only-of-type {\n",
       "        vertical-align: middle;\n",
       "    }\n",
       "\n",
       "    .dataframe tbody tr th {\n",
       "        vertical-align: top;\n",
       "    }\n",
       "\n",
       "    .dataframe thead th {\n",
       "        text-align: right;\n",
       "    }\n",
       "</style>\n",
       "<table border=\"1\" class=\"dataframe\">\n",
       "  <thead>\n",
       "    <tr style=\"text-align: right;\">\n",
       "      <th></th>\n",
       "      <th></th>\n",
       "      <th>phones_per_capita</th>\n",
       "    </tr>\n",
       "    <tr>\n",
       "      <th>iso-3</th>\n",
       "      <th>year</th>\n",
       "      <th></th>\n",
       "    </tr>\n",
       "  </thead>\n",
       "  <tbody>\n",
       "    <tr>\n",
       "      <th rowspan=\"5\" valign=\"top\">ABW</th>\n",
       "      <th>1960</th>\n",
       "      <td>0.000000</td>\n",
       "    </tr>\n",
       "    <tr>\n",
       "      <th>2010</th>\n",
       "      <td>1.315514</td>\n",
       "    </tr>\n",
       "    <tr>\n",
       "      <th>2011</th>\n",
       "      <td>1.318024</td>\n",
       "    </tr>\n",
       "    <tr>\n",
       "      <th>2012</th>\n",
       "      <td>1.322078</td>\n",
       "    </tr>\n",
       "    <tr>\n",
       "      <th>2013</th>\n",
       "      <td>1.351089</td>\n",
       "    </tr>\n",
       "    <tr>\n",
       "      <th>...</th>\n",
       "      <th>...</th>\n",
       "      <td>...</td>\n",
       "    </tr>\n",
       "    <tr>\n",
       "      <th rowspan=\"5\" valign=\"top\">SYC</th>\n",
       "      <th>2015</th>\n",
       "      <td>1.584260</td>\n",
       "    </tr>\n",
       "    <tr>\n",
       "      <th>2016</th>\n",
       "      <td>1.605459</td>\n",
       "    </tr>\n",
       "    <tr>\n",
       "      <th>2017</th>\n",
       "      <td>1.742433</td>\n",
       "    </tr>\n",
       "    <tr>\n",
       "      <th>2018</th>\n",
       "      <td>1.849900</td>\n",
       "    </tr>\n",
       "    <tr>\n",
       "      <th>2019</th>\n",
       "      <td>1.987196</td>\n",
       "    </tr>\n",
       "  </tbody>\n",
       "</table>\n",
       "<p>110 rows × 1 columns</p>\n",
       "</div>"
      ],
      "text/plain": [
       "            phones_per_capita\n",
       "iso-3 year                   \n",
       "ABW   1960           0.000000\n",
       "      2010           1.315514\n",
       "      2011           1.318024\n",
       "      2012           1.322078\n",
       "      2013           1.351089\n",
       "...                       ...\n",
       "SYC   2015           1.584260\n",
       "      2016           1.605459\n",
       "      2017           1.742433\n",
       "      2018           1.849900\n",
       "      2019           1.987196\n",
       "\n",
       "[110 rows x 1 columns]"
      ]
     },
     "execution_count": 77,
     "metadata": {},
     "output_type": "execute_result"
    }
   ],
   "source": [
    "phones__per_capita_df"
   ]
  },
  {
   "cell_type": "markdown",
   "id": "4cbd3770-efab-4573-823c-4e9607452d54",
   "metadata": {},
   "source": [
    "We want the country names and not the iso-3 codes, so we make a left join. First though, we make an unstack."
   ]
  },
  {
   "cell_type": "code",
   "execution_count": 78,
   "id": "7ea5be3c-4582-4fb7-850a-0506927e38ce",
   "metadata": {},
   "outputs": [],
   "source": [
    "unstacked_phones_per_capita_df = phones__per_capita_df.unstack(level=-1)"
   ]
  },
  {
   "cell_type": "code",
   "execution_count": 79,
   "id": "5187c53f-05fd-4aa8-a50e-557065eeed39",
   "metadata": {},
   "outputs": [
    {
     "name": "stdout",
     "output_type": "stream",
     "text": [
      "<class 'pandas.core.frame.DataFrame'>\n",
      "Index: 10 entries, ABW to SYC\n",
      "Data columns (total 11 columns):\n",
      " #   Column                     Non-Null Count  Dtype  \n",
      "---  ------                     --------------  -----  \n",
      " 0   (phones_per_capita, 1960)  10 non-null     float64\n",
      " 1   (phones_per_capita, 2010)  10 non-null     float64\n",
      " 2   (phones_per_capita, 2011)  10 non-null     float64\n",
      " 3   (phones_per_capita, 2012)  10 non-null     float64\n",
      " 4   (phones_per_capita, 2013)  10 non-null     float64\n",
      " 5   (phones_per_capita, 2014)  10 non-null     float64\n",
      " 6   (phones_per_capita, 2015)  10 non-null     float64\n",
      " 7   (phones_per_capita, 2016)  10 non-null     float64\n",
      " 8   (phones_per_capita, 2017)  10 non-null     float64\n",
      " 9   (phones_per_capita, 2018)  10 non-null     float64\n",
      " 10  (phones_per_capita, 2019)  10 non-null     float64\n",
      "dtypes: float64(11)\n",
      "memory usage: 960.0+ bytes\n"
     ]
    }
   ],
   "source": [
    "unstacked_phones_per_capita_df.info()"
   ]
  },
  {
   "cell_type": "code",
   "execution_count": 80,
   "id": "4ffecb43-f133-4e59-88e9-d57543b5fdb9",
   "metadata": {},
   "outputs": [
    {
     "data": {
      "text/html": [
       "<div>\n",
       "<style scoped>\n",
       "    .dataframe tbody tr th:only-of-type {\n",
       "        vertical-align: middle;\n",
       "    }\n",
       "\n",
       "    .dataframe tbody tr th {\n",
       "        vertical-align: top;\n",
       "    }\n",
       "\n",
       "    .dataframe thead tr th {\n",
       "        text-align: left;\n",
       "    }\n",
       "\n",
       "    .dataframe thead tr:last-of-type th {\n",
       "        text-align: right;\n",
       "    }\n",
       "</style>\n",
       "<table border=\"1\" class=\"dataframe\">\n",
       "  <thead>\n",
       "    <tr>\n",
       "      <th></th>\n",
       "      <th colspan=\"11\" halign=\"left\">phones_per_capita</th>\n",
       "    </tr>\n",
       "    <tr>\n",
       "      <th>year</th>\n",
       "      <th>1960</th>\n",
       "      <th>2010</th>\n",
       "      <th>2011</th>\n",
       "      <th>2012</th>\n",
       "      <th>2013</th>\n",
       "      <th>2014</th>\n",
       "      <th>2015</th>\n",
       "      <th>2016</th>\n",
       "      <th>2017</th>\n",
       "      <th>2018</th>\n",
       "      <th>2019</th>\n",
       "    </tr>\n",
       "    <tr>\n",
       "      <th>iso-3</th>\n",
       "      <th></th>\n",
       "      <th></th>\n",
       "      <th></th>\n",
       "      <th></th>\n",
       "      <th></th>\n",
       "      <th></th>\n",
       "      <th></th>\n",
       "      <th></th>\n",
       "      <th></th>\n",
       "      <th></th>\n",
       "      <th></th>\n",
       "    </tr>\n",
       "  </thead>\n",
       "  <tbody>\n",
       "    <tr>\n",
       "      <th>ABW</th>\n",
       "      <td>0.0</td>\n",
       "      <td>1.315514</td>\n",
       "      <td>1.318024</td>\n",
       "      <td>1.322078</td>\n",
       "      <td>1.351089</td>\n",
       "      <td>1.351430</td>\n",
       "      <td>1.352427</td>\n",
       "      <td>1.344471</td>\n",
       "      <td>1.337266</td>\n",
       "      <td>1.330666</td>\n",
       "      <td>1.324665</td>\n",
       "    </tr>\n",
       "    <tr>\n",
       "      <th>AFG</th>\n",
       "      <td>0.0</td>\n",
       "      <td>0.361835</td>\n",
       "      <td>0.471808</td>\n",
       "      <td>0.502191</td>\n",
       "      <td>0.532637</td>\n",
       "      <td>0.562412</td>\n",
       "      <td>0.583643</td>\n",
       "      <td>0.623625</td>\n",
       "      <td>0.670531</td>\n",
       "      <td>0.599671</td>\n",
       "      <td>0.598366</td>\n",
       "    </tr>\n",
       "    <tr>\n",
       "      <th>AGO</th>\n",
       "      <td>0.0</td>\n",
       "      <td>0.402325</td>\n",
       "      <td>0.498782</td>\n",
       "      <td>0.508173</td>\n",
       "      <td>0.508663</td>\n",
       "      <td>0.519752</td>\n",
       "      <td>0.494174</td>\n",
       "      <td>0.445897</td>\n",
       "      <td>0.440272</td>\n",
       "      <td>0.425280</td>\n",
       "      <td>0.457445</td>\n",
       "    </tr>\n",
       "    <tr>\n",
       "      <th>ALB</th>\n",
       "      <td>0.0</td>\n",
       "      <td>0.923440</td>\n",
       "      <td>1.067054</td>\n",
       "      <td>1.206730</td>\n",
       "      <td>1.274571</td>\n",
       "      <td>1.162990</td>\n",
       "      <td>1.180267</td>\n",
       "      <td>1.171725</td>\n",
       "      <td>1.263287</td>\n",
       "      <td>0.945445</td>\n",
       "      <td>0.921452</td>\n",
       "    </tr>\n",
       "    <tr>\n",
       "      <th>AND</th>\n",
       "      <td>0.0</td>\n",
       "      <td>0.915841</td>\n",
       "      <td>0.921110</td>\n",
       "      <td>0.899835</td>\n",
       "      <td>0.895372</td>\n",
       "      <td>0.924310</td>\n",
       "      <td>0.993784</td>\n",
       "      <td>1.049076</td>\n",
       "      <td>1.087531</td>\n",
       "      <td>1.101142</td>\n",
       "      <td>1.151383</td>\n",
       "    </tr>\n",
       "    <tr>\n",
       "      <th>ARE</th>\n",
       "      <td>0.0</td>\n",
       "      <td>1.285109</td>\n",
       "      <td>1.364399</td>\n",
       "      <td>1.592620</td>\n",
       "      <td>1.839612</td>\n",
       "      <td>1.901323</td>\n",
       "      <td>2.007424</td>\n",
       "      <td>2.212521</td>\n",
       "      <td>2.183431</td>\n",
       "      <td>2.199084</td>\n",
       "      <td>2.127739</td>\n",
       "    </tr>\n",
       "    <tr>\n",
       "      <th>ATG</th>\n",
       "      <td>0.0</td>\n",
       "      <td>1.960441</td>\n",
       "      <td>2.029310</td>\n",
       "      <td>1.448548</td>\n",
       "      <td>1.288179</td>\n",
       "      <td>1.344749</td>\n",
       "      <td>1.956838</td>\n",
       "      <td>1.987545</td>\n",
       "      <td>2.019337</td>\n",
       "      <td>2.008164</td>\n",
       "      <td>1.997460</td>\n",
       "    </tr>\n",
       "    <tr>\n",
       "      <th>HKG</th>\n",
       "      <td>0.0</td>\n",
       "      <td>1.964637</td>\n",
       "      <td>2.163584</td>\n",
       "      <td>2.293674</td>\n",
       "      <td>2.368051</td>\n",
       "      <td>2.351477</td>\n",
       "      <td>2.290401</td>\n",
       "      <td>2.398931</td>\n",
       "      <td>2.488773</td>\n",
       "      <td>2.670209</td>\n",
       "      <td>2.863650</td>\n",
       "    </tr>\n",
       "    <tr>\n",
       "      <th>MAC</th>\n",
       "      <td>0.0</td>\n",
       "      <td>2.009700</td>\n",
       "      <td>2.364261</td>\n",
       "      <td>2.762687</td>\n",
       "      <td>2.898678</td>\n",
       "      <td>3.078619</td>\n",
       "      <td>3.088231</td>\n",
       "      <td>3.143510</td>\n",
       "      <td>3.210102</td>\n",
       "      <td>3.348741</td>\n",
       "      <td>3.284849</td>\n",
       "    </tr>\n",
       "    <tr>\n",
       "      <th>SYC</th>\n",
       "      <td>0.0</td>\n",
       "      <td>1.314470</td>\n",
       "      <td>1.452408</td>\n",
       "      <td>1.540152</td>\n",
       "      <td>1.523085</td>\n",
       "      <td>1.652820</td>\n",
       "      <td>1.584260</td>\n",
       "      <td>1.605459</td>\n",
       "      <td>1.742433</td>\n",
       "      <td>1.849900</td>\n",
       "      <td>1.987196</td>\n",
       "    </tr>\n",
       "  </tbody>\n",
       "</table>\n",
       "</div>"
      ],
      "text/plain": [
       "      phones_per_capita                                                    \\\n",
       "year               1960      2010      2011      2012      2013      2014   \n",
       "iso-3                                                                       \n",
       "ABW                 0.0  1.315514  1.318024  1.322078  1.351089  1.351430   \n",
       "AFG                 0.0  0.361835  0.471808  0.502191  0.532637  0.562412   \n",
       "AGO                 0.0  0.402325  0.498782  0.508173  0.508663  0.519752   \n",
       "ALB                 0.0  0.923440  1.067054  1.206730  1.274571  1.162990   \n",
       "AND                 0.0  0.915841  0.921110  0.899835  0.895372  0.924310   \n",
       "ARE                 0.0  1.285109  1.364399  1.592620  1.839612  1.901323   \n",
       "ATG                 0.0  1.960441  2.029310  1.448548  1.288179  1.344749   \n",
       "HKG                 0.0  1.964637  2.163584  2.293674  2.368051  2.351477   \n",
       "MAC                 0.0  2.009700  2.364261  2.762687  2.898678  3.078619   \n",
       "SYC                 0.0  1.314470  1.452408  1.540152  1.523085  1.652820   \n",
       "\n",
       "                                                         \n",
       "year       2015      2016      2017      2018      2019  \n",
       "iso-3                                                    \n",
       "ABW    1.352427  1.344471  1.337266  1.330666  1.324665  \n",
       "AFG    0.583643  0.623625  0.670531  0.599671  0.598366  \n",
       "AGO    0.494174  0.445897  0.440272  0.425280  0.457445  \n",
       "ALB    1.180267  1.171725  1.263287  0.945445  0.921452  \n",
       "AND    0.993784  1.049076  1.087531  1.101142  1.151383  \n",
       "ARE    2.007424  2.212521  2.183431  2.199084  2.127739  \n",
       "ATG    1.956838  1.987545  2.019337  2.008164  1.997460  \n",
       "HKG    2.290401  2.398931  2.488773  2.670209  2.863650  \n",
       "MAC    3.088231  3.143510  3.210102  3.348741  3.284849  \n",
       "SYC    1.584260  1.605459  1.742433  1.849900  1.987196  "
      ]
     },
     "execution_count": 80,
     "metadata": {},
     "output_type": "execute_result"
    }
   ],
   "source": [
    "unstacked_phones_per_capita_df"
   ]
  },
  {
   "cell_type": "code",
   "execution_count": 81,
   "id": "b6892741-73f8-4cf9-80b7-d3a85af3806a",
   "metadata": {},
   "outputs": [
    {
     "data": {
      "text/plain": [
       "MultiIndex([('phones_per_capita', '1960'),\n",
       "            ('phones_per_capita', '2010'),\n",
       "            ('phones_per_capita', '2011'),\n",
       "            ('phones_per_capita', '2012'),\n",
       "            ('phones_per_capita', '2013'),\n",
       "            ('phones_per_capita', '2014'),\n",
       "            ('phones_per_capita', '2015'),\n",
       "            ('phones_per_capita', '2016'),\n",
       "            ('phones_per_capita', '2017'),\n",
       "            ('phones_per_capita', '2018'),\n",
       "            ('phones_per_capita', '2019')],\n",
       "           names=[None, 'year'])"
      ]
     },
     "execution_count": 81,
     "metadata": {},
     "output_type": "execute_result"
    }
   ],
   "source": [
    "unstacked_phones_per_capita_df.columns"
   ]
  },
  {
   "cell_type": "markdown",
   "id": "b7dcddd4-5667-4095-a88f-810854cb3e47",
   "metadata": {},
   "source": [
    "We will not need the column for 1960, so we delete it."
   ]
  },
  {
   "cell_type": "code",
   "execution_count": 82,
   "id": "52191e12-8f36-4c97-b3cf-f2a529de7d7a",
   "metadata": {},
   "outputs": [],
   "source": [
    "years_unstacked_phones_per_capita_df = unstacked_phones_per_capita_df.drop(axis=1, columns=('phones_per_capita','1960'))"
   ]
  },
  {
   "cell_type": "code",
   "execution_count": 83,
   "id": "cd05f8e7-98d2-4a13-ba06-887dc2d9427a",
   "metadata": {},
   "outputs": [
    {
     "data": {
      "text/html": [
       "<div>\n",
       "<style scoped>\n",
       "    .dataframe tbody tr th:only-of-type {\n",
       "        vertical-align: middle;\n",
       "    }\n",
       "\n",
       "    .dataframe tbody tr th {\n",
       "        vertical-align: top;\n",
       "    }\n",
       "\n",
       "    .dataframe thead tr th {\n",
       "        text-align: left;\n",
       "    }\n",
       "\n",
       "    .dataframe thead tr:last-of-type th {\n",
       "        text-align: right;\n",
       "    }\n",
       "</style>\n",
       "<table border=\"1\" class=\"dataframe\">\n",
       "  <thead>\n",
       "    <tr>\n",
       "      <th></th>\n",
       "      <th colspan=\"10\" halign=\"left\">phones_per_capita</th>\n",
       "    </tr>\n",
       "    <tr>\n",
       "      <th>year</th>\n",
       "      <th>2010</th>\n",
       "      <th>2011</th>\n",
       "      <th>2012</th>\n",
       "      <th>2013</th>\n",
       "      <th>2014</th>\n",
       "      <th>2015</th>\n",
       "      <th>2016</th>\n",
       "      <th>2017</th>\n",
       "      <th>2018</th>\n",
       "      <th>2019</th>\n",
       "    </tr>\n",
       "    <tr>\n",
       "      <th>iso-3</th>\n",
       "      <th></th>\n",
       "      <th></th>\n",
       "      <th></th>\n",
       "      <th></th>\n",
       "      <th></th>\n",
       "      <th></th>\n",
       "      <th></th>\n",
       "      <th></th>\n",
       "      <th></th>\n",
       "      <th></th>\n",
       "    </tr>\n",
       "  </thead>\n",
       "  <tbody>\n",
       "    <tr>\n",
       "      <th>ABW</th>\n",
       "      <td>1.315514</td>\n",
       "      <td>1.318024</td>\n",
       "      <td>1.322078</td>\n",
       "      <td>1.351089</td>\n",
       "      <td>1.351430</td>\n",
       "      <td>1.352427</td>\n",
       "      <td>1.344471</td>\n",
       "      <td>1.337266</td>\n",
       "      <td>1.330666</td>\n",
       "      <td>1.324665</td>\n",
       "    </tr>\n",
       "    <tr>\n",
       "      <th>AFG</th>\n",
       "      <td>0.361835</td>\n",
       "      <td>0.471808</td>\n",
       "      <td>0.502191</td>\n",
       "      <td>0.532637</td>\n",
       "      <td>0.562412</td>\n",
       "      <td>0.583643</td>\n",
       "      <td>0.623625</td>\n",
       "      <td>0.670531</td>\n",
       "      <td>0.599671</td>\n",
       "      <td>0.598366</td>\n",
       "    </tr>\n",
       "    <tr>\n",
       "      <th>AGO</th>\n",
       "      <td>0.402325</td>\n",
       "      <td>0.498782</td>\n",
       "      <td>0.508173</td>\n",
       "      <td>0.508663</td>\n",
       "      <td>0.519752</td>\n",
       "      <td>0.494174</td>\n",
       "      <td>0.445897</td>\n",
       "      <td>0.440272</td>\n",
       "      <td>0.425280</td>\n",
       "      <td>0.457445</td>\n",
       "    </tr>\n",
       "    <tr>\n",
       "      <th>ALB</th>\n",
       "      <td>0.923440</td>\n",
       "      <td>1.067054</td>\n",
       "      <td>1.206730</td>\n",
       "      <td>1.274571</td>\n",
       "      <td>1.162990</td>\n",
       "      <td>1.180267</td>\n",
       "      <td>1.171725</td>\n",
       "      <td>1.263287</td>\n",
       "      <td>0.945445</td>\n",
       "      <td>0.921452</td>\n",
       "    </tr>\n",
       "    <tr>\n",
       "      <th>AND</th>\n",
       "      <td>0.915841</td>\n",
       "      <td>0.921110</td>\n",
       "      <td>0.899835</td>\n",
       "      <td>0.895372</td>\n",
       "      <td>0.924310</td>\n",
       "      <td>0.993784</td>\n",
       "      <td>1.049076</td>\n",
       "      <td>1.087531</td>\n",
       "      <td>1.101142</td>\n",
       "      <td>1.151383</td>\n",
       "    </tr>\n",
       "    <tr>\n",
       "      <th>ARE</th>\n",
       "      <td>1.285109</td>\n",
       "      <td>1.364399</td>\n",
       "      <td>1.592620</td>\n",
       "      <td>1.839612</td>\n",
       "      <td>1.901323</td>\n",
       "      <td>2.007424</td>\n",
       "      <td>2.212521</td>\n",
       "      <td>2.183431</td>\n",
       "      <td>2.199084</td>\n",
       "      <td>2.127739</td>\n",
       "    </tr>\n",
       "    <tr>\n",
       "      <th>ATG</th>\n",
       "      <td>1.960441</td>\n",
       "      <td>2.029310</td>\n",
       "      <td>1.448548</td>\n",
       "      <td>1.288179</td>\n",
       "      <td>1.344749</td>\n",
       "      <td>1.956838</td>\n",
       "      <td>1.987545</td>\n",
       "      <td>2.019337</td>\n",
       "      <td>2.008164</td>\n",
       "      <td>1.997460</td>\n",
       "    </tr>\n",
       "    <tr>\n",
       "      <th>HKG</th>\n",
       "      <td>1.964637</td>\n",
       "      <td>2.163584</td>\n",
       "      <td>2.293674</td>\n",
       "      <td>2.368051</td>\n",
       "      <td>2.351477</td>\n",
       "      <td>2.290401</td>\n",
       "      <td>2.398931</td>\n",
       "      <td>2.488773</td>\n",
       "      <td>2.670209</td>\n",
       "      <td>2.863650</td>\n",
       "    </tr>\n",
       "    <tr>\n",
       "      <th>MAC</th>\n",
       "      <td>2.009700</td>\n",
       "      <td>2.364261</td>\n",
       "      <td>2.762687</td>\n",
       "      <td>2.898678</td>\n",
       "      <td>3.078619</td>\n",
       "      <td>3.088231</td>\n",
       "      <td>3.143510</td>\n",
       "      <td>3.210102</td>\n",
       "      <td>3.348741</td>\n",
       "      <td>3.284849</td>\n",
       "    </tr>\n",
       "    <tr>\n",
       "      <th>SYC</th>\n",
       "      <td>1.314470</td>\n",
       "      <td>1.452408</td>\n",
       "      <td>1.540152</td>\n",
       "      <td>1.523085</td>\n",
       "      <td>1.652820</td>\n",
       "      <td>1.584260</td>\n",
       "      <td>1.605459</td>\n",
       "      <td>1.742433</td>\n",
       "      <td>1.849900</td>\n",
       "      <td>1.987196</td>\n",
       "    </tr>\n",
       "  </tbody>\n",
       "</table>\n",
       "</div>"
      ],
      "text/plain": [
       "      phones_per_capita                                                    \\\n",
       "year               2010      2011      2012      2013      2014      2015   \n",
       "iso-3                                                                       \n",
       "ABW            1.315514  1.318024  1.322078  1.351089  1.351430  1.352427   \n",
       "AFG            0.361835  0.471808  0.502191  0.532637  0.562412  0.583643   \n",
       "AGO            0.402325  0.498782  0.508173  0.508663  0.519752  0.494174   \n",
       "ALB            0.923440  1.067054  1.206730  1.274571  1.162990  1.180267   \n",
       "AND            0.915841  0.921110  0.899835  0.895372  0.924310  0.993784   \n",
       "ARE            1.285109  1.364399  1.592620  1.839612  1.901323  2.007424   \n",
       "ATG            1.960441  2.029310  1.448548  1.288179  1.344749  1.956838   \n",
       "HKG            1.964637  2.163584  2.293674  2.368051  2.351477  2.290401   \n",
       "MAC            2.009700  2.364261  2.762687  2.898678  3.078619  3.088231   \n",
       "SYC            1.314470  1.452408  1.540152  1.523085  1.652820  1.584260   \n",
       "\n",
       "                                               \n",
       "year       2016      2017      2018      2019  \n",
       "iso-3                                          \n",
       "ABW    1.344471  1.337266  1.330666  1.324665  \n",
       "AFG    0.623625  0.670531  0.599671  0.598366  \n",
       "AGO    0.445897  0.440272  0.425280  0.457445  \n",
       "ALB    1.171725  1.263287  0.945445  0.921452  \n",
       "AND    1.049076  1.087531  1.101142  1.151383  \n",
       "ARE    2.212521  2.183431  2.199084  2.127739  \n",
       "ATG    1.987545  2.019337  2.008164  1.997460  \n",
       "HKG    2.398931  2.488773  2.670209  2.863650  \n",
       "MAC    3.143510  3.210102  3.348741  3.284849  \n",
       "SYC    1.605459  1.742433  1.849900  1.987196  "
      ]
     },
     "execution_count": 83,
     "metadata": {},
     "output_type": "execute_result"
    }
   ],
   "source": [
    "years_unstacked_phones_per_capita_df"
   ]
  },
  {
   "cell_type": "markdown",
   "id": "3d13f45c-abdf-4cf6-9544-db6afee2c52f",
   "metadata": {},
   "source": [
    "We are only interested in the last five countries."
   ]
  },
  {
   "cell_type": "code",
   "execution_count": 84,
   "id": "06ef9f75-4a0e-467b-82d9-aad261fae8c7",
   "metadata": {},
   "outputs": [],
   "source": [
    "countries_and_years_unstacked_phones_per_capita_df = years_unstacked_phones_per_capita_df.tail().copy()"
   ]
  },
  {
   "cell_type": "code",
   "execution_count": 85,
   "id": "52d16574-6af4-4898-8258-945bdcbe1899",
   "metadata": {},
   "outputs": [
    {
     "name": "stdout",
     "output_type": "stream",
     "text": [
      "<class 'pandas.core.frame.DataFrame'>\n",
      "Index: 5 entries, ARE to SYC\n",
      "Data columns (total 10 columns):\n",
      " #   Column                     Non-Null Count  Dtype  \n",
      "---  ------                     --------------  -----  \n",
      " 0   (phones_per_capita, 2010)  5 non-null      float64\n",
      " 1   (phones_per_capita, 2011)  5 non-null      float64\n",
      " 2   (phones_per_capita, 2012)  5 non-null      float64\n",
      " 3   (phones_per_capita, 2013)  5 non-null      float64\n",
      " 4   (phones_per_capita, 2014)  5 non-null      float64\n",
      " 5   (phones_per_capita, 2015)  5 non-null      float64\n",
      " 6   (phones_per_capita, 2016)  5 non-null      float64\n",
      " 7   (phones_per_capita, 2017)  5 non-null      float64\n",
      " 8   (phones_per_capita, 2018)  5 non-null      float64\n",
      " 9   (phones_per_capita, 2019)  5 non-null      float64\n",
      "dtypes: float64(10)\n",
      "memory usage: 440.0+ bytes\n"
     ]
    }
   ],
   "source": [
    "countries_and_years_unstacked_phones_per_capita_df.info()"
   ]
  },
  {
   "cell_type": "markdown",
   "id": "ef2e766c-32da-4c88-b549-5214fe26b424",
   "metadata": {},
   "source": [
    "\n",
    "#### The second table\n"
   ]
  },
  {
   "cell_type": "markdown",
   "id": "510f90c1-204c-47c1-9af9-88aadf19506f",
   "metadata": {},
   "source": [
    "Time ran out to do more than this, for the first part of the assignment."
   ]
  },
  {
   "cell_type": "code",
   "execution_count": 86,
   "id": "d0838995-87c6-4129-a023-cfc6c0fdac01",
   "metadata": {},
   "outputs": [
    {
     "data": {
      "text/html": [
       "<div>\n",
       "<style scoped>\n",
       "    .dataframe tbody tr th:only-of-type {\n",
       "        vertical-align: middle;\n",
       "    }\n",
       "\n",
       "    .dataframe tbody tr th {\n",
       "        vertical-align: top;\n",
       "    }\n",
       "\n",
       "    .dataframe thead tr th {\n",
       "        text-align: left;\n",
       "    }\n",
       "\n",
       "    .dataframe thead tr:last-of-type th {\n",
       "        text-align: right;\n",
       "    }\n",
       "</style>\n",
       "<table border=\"1\" class=\"dataframe\">\n",
       "  <thead>\n",
       "    <tr>\n",
       "      <th></th>\n",
       "      <th colspan=\"10\" halign=\"left\">phones_per_capita</th>\n",
       "    </tr>\n",
       "    <tr>\n",
       "      <th>year</th>\n",
       "      <th>2010</th>\n",
       "      <th>2011</th>\n",
       "      <th>2012</th>\n",
       "      <th>2013</th>\n",
       "      <th>2014</th>\n",
       "      <th>2015</th>\n",
       "      <th>2016</th>\n",
       "      <th>2017</th>\n",
       "      <th>2018</th>\n",
       "      <th>2019</th>\n",
       "    </tr>\n",
       "    <tr>\n",
       "      <th>iso-3</th>\n",
       "      <th></th>\n",
       "      <th></th>\n",
       "      <th></th>\n",
       "      <th></th>\n",
       "      <th></th>\n",
       "      <th></th>\n",
       "      <th></th>\n",
       "      <th></th>\n",
       "      <th></th>\n",
       "      <th></th>\n",
       "    </tr>\n",
       "  </thead>\n",
       "  <tbody>\n",
       "    <tr>\n",
       "      <th>ARE</th>\n",
       "      <td>1.285109</td>\n",
       "      <td>1.364399</td>\n",
       "      <td>1.592620</td>\n",
       "      <td>1.839612</td>\n",
       "      <td>1.901323</td>\n",
       "      <td>2.007424</td>\n",
       "      <td>2.212521</td>\n",
       "      <td>2.183431</td>\n",
       "      <td>2.199084</td>\n",
       "      <td>2.127739</td>\n",
       "    </tr>\n",
       "    <tr>\n",
       "      <th>ATG</th>\n",
       "      <td>1.960441</td>\n",
       "      <td>2.029310</td>\n",
       "      <td>1.448548</td>\n",
       "      <td>1.288179</td>\n",
       "      <td>1.344749</td>\n",
       "      <td>1.956838</td>\n",
       "      <td>1.987545</td>\n",
       "      <td>2.019337</td>\n",
       "      <td>2.008164</td>\n",
       "      <td>1.997460</td>\n",
       "    </tr>\n",
       "    <tr>\n",
       "      <th>HKG</th>\n",
       "      <td>1.964637</td>\n",
       "      <td>2.163584</td>\n",
       "      <td>2.293674</td>\n",
       "      <td>2.368051</td>\n",
       "      <td>2.351477</td>\n",
       "      <td>2.290401</td>\n",
       "      <td>2.398931</td>\n",
       "      <td>2.488773</td>\n",
       "      <td>2.670209</td>\n",
       "      <td>2.863650</td>\n",
       "    </tr>\n",
       "    <tr>\n",
       "      <th>MAC</th>\n",
       "      <td>2.009700</td>\n",
       "      <td>2.364261</td>\n",
       "      <td>2.762687</td>\n",
       "      <td>2.898678</td>\n",
       "      <td>3.078619</td>\n",
       "      <td>3.088231</td>\n",
       "      <td>3.143510</td>\n",
       "      <td>3.210102</td>\n",
       "      <td>3.348741</td>\n",
       "      <td>3.284849</td>\n",
       "    </tr>\n",
       "    <tr>\n",
       "      <th>SYC</th>\n",
       "      <td>1.314470</td>\n",
       "      <td>1.452408</td>\n",
       "      <td>1.540152</td>\n",
       "      <td>1.523085</td>\n",
       "      <td>1.652820</td>\n",
       "      <td>1.584260</td>\n",
       "      <td>1.605459</td>\n",
       "      <td>1.742433</td>\n",
       "      <td>1.849900</td>\n",
       "      <td>1.987196</td>\n",
       "    </tr>\n",
       "  </tbody>\n",
       "</table>\n",
       "</div>"
      ],
      "text/plain": [
       "      phones_per_capita                                                    \\\n",
       "year               2010      2011      2012      2013      2014      2015   \n",
       "iso-3                                                                       \n",
       "ARE            1.285109  1.364399  1.592620  1.839612  1.901323  2.007424   \n",
       "ATG            1.960441  2.029310  1.448548  1.288179  1.344749  1.956838   \n",
       "HKG            1.964637  2.163584  2.293674  2.368051  2.351477  2.290401   \n",
       "MAC            2.009700  2.364261  2.762687  2.898678  3.078619  3.088231   \n",
       "SYC            1.314470  1.452408  1.540152  1.523085  1.652820  1.584260   \n",
       "\n",
       "                                               \n",
       "year       2016      2017      2018      2019  \n",
       "iso-3                                          \n",
       "ARE    2.212521  2.183431  2.199084  2.127739  \n",
       "ATG    1.987545  2.019337  2.008164  1.997460  \n",
       "HKG    2.398931  2.488773  2.670209  2.863650  \n",
       "MAC    3.143510  3.210102  3.348741  3.284849  \n",
       "SYC    1.605459  1.742433  1.849900  1.987196  "
      ]
     },
     "execution_count": 86,
     "metadata": {},
     "output_type": "execute_result"
    }
   ],
   "source": [
    "countries_and_years_unstacked_phones_per_capita_df"
   ]
  },
  {
   "cell_type": "markdown",
   "id": "e7aa3cf0-2a65-4a6c-90bb-3a5a34f59344",
   "metadata": {},
   "source": [
    "Now we can choose the relevant column from name_strings_country_data_df"
   ]
  },
  {
   "cell_type": "code",
   "execution_count": 87,
   "id": "f8abcdf8-c129-429b-9dfb-fa598eb6c237",
   "metadata": {},
   "outputs": [],
   "source": [
    "relevant_name_strings_country_data_Series = name_strings_country_data_df['name'].copy()"
   ]
  },
  {
   "cell_type": "code",
   "execution_count": 88,
   "id": "10f32be5-d5f4-45db-a543-633a45d1d35b",
   "metadata": {},
   "outputs": [
    {
     "name": "stdout",
     "output_type": "stream",
     "text": [
      "<class 'pandas.core.series.Series'>\n",
      "Index: 249 entries, AFG to ZWE\n",
      "Series name: name\n",
      "Non-Null Count  Dtype \n",
      "--------------  ----- \n",
      "249 non-null    string\n",
      "dtypes: string(1)\n",
      "memory usage: 12.0+ KB\n"
     ]
    }
   ],
   "source": [
    "relevant_name_strings_country_data_Series.info()"
   ]
  },
  {
   "cell_type": "markdown",
   "id": "2196f2de-b2fc-4790-a37b-9322cdf7a355",
   "metadata": {},
   "source": [
    "Convert to data frame"
   ]
  },
  {
   "cell_type": "code",
   "execution_count": 89,
   "id": "442e6e3b-0866-479a-aa49-7b686c87bb17",
   "metadata": {},
   "outputs": [],
   "source": [
    "relevant_name_strings_country_data_df = pd.DataFrame(data=relevant_name_strings_country_data_Series)"
   ]
  },
  {
   "cell_type": "code",
   "execution_count": 90,
   "id": "0df3174d-5daf-450f-b9ed-f4d1edaa6cb9",
   "metadata": {},
   "outputs": [
    {
     "name": "stdout",
     "output_type": "stream",
     "text": [
      "<class 'pandas.core.frame.DataFrame'>\n",
      "Index: 249 entries, AFG to ZWE\n",
      "Data columns (total 1 columns):\n",
      " #   Column  Non-Null Count  Dtype \n",
      "---  ------  --------------  ----- \n",
      " 0   name    249 non-null    string\n",
      "dtypes: string(1)\n",
      "memory usage: 12.0+ KB\n"
     ]
    }
   ],
   "source": [
    "relevant_name_strings_country_data_df.info()"
   ]
  },
  {
   "cell_type": "markdown",
   "id": "a3ba3b67-3971-4c40-878a-f0c61a530b25",
   "metadata": {},
   "source": [
    "Time to join "
   ]
  },
  {
   "cell_type": "markdown",
   "id": "2fc4175e-ddbe-490d-80e4-6dbee15a6190",
   "metadata": {},
   "source": [
    "\n",
    "## SQL\n"
   ]
  },
  {
   "cell_type": "markdown",
   "id": "2e09cc05-f19f-4451-8302-8830cd63faec",
   "metadata": {},
   "source": [
    "Connect to the database and look at the data"
   ]
  },
  {
   "cell_type": "code",
   "execution_count": 91,
   "id": "17d0c2c8-38bf-43db-b571-f03d876d3f2e",
   "metadata": {},
   "outputs": [],
   "source": [
    "conn = sql.connect(\"./user_actions.db\")\n",
    "cursor = conn.cursor()"
   ]
  },
  {
   "cell_type": "code",
   "execution_count": 92,
   "id": "11e1b42d-4d74-4571-9a27-5134feb25738",
   "metadata": {},
   "outputs": [
    {
     "data": {
      "text/plain": [
       "[('user_actions',)]"
      ]
     },
     "execution_count": 92,
     "metadata": {},
     "output_type": "execute_result"
    }
   ],
   "source": [
    "tables = list(cursor.execute(\"SELECT name FROM sqlite_master WHERE type='table';\"))\n",
    "tables"
   ]
  },
  {
   "cell_type": "code",
   "execution_count": 129,
   "id": "fd41dddf-5208-4bec-9293-c805562a19c1",
   "metadata": {},
   "outputs": [
    {
     "data": {
      "text/plain": [
       "[('login_view',), ('signup_view',)]"
      ]
     },
     "execution_count": 129,
     "metadata": {},
     "output_type": "execute_result"
    }
   ],
   "source": [
    "views = list(cursor.execute(\"SELECT name FROM sqlite_master WHERE type='view';\"))\n",
    "views"
   ]
  },
  {
   "cell_type": "code",
   "execution_count": 130,
   "id": "50a3cb5e-57f2-402c-b229-41f136aa61ca",
   "metadata": {},
   "outputs": [
    {
     "name": "stdout",
     "output_type": "stream",
     "text": [
      "34\n",
      "user34\n",
      "user34@email.com\n",
      "signup\n",
      "2015-02-04 14:38:47\n",
      "None\n"
     ]
    }
   ],
   "source": [
    "# SELECT\n",
    "\n",
    "query = \"\"\"\n",
    "SELECT * \n",
    "FROM user_actions\n",
    "\"\"\"\n",
    "\n",
    "cursor.execute(query)\n",
    "\n",
    "for data in cursor.fetchone():    \n",
    "    print(data)\n",
    "user_action_pd = pd.read_sql_query(query, conn)"
   ]
  },
  {
   "cell_type": "code",
   "execution_count": 94,
   "id": "96925e5b-8a9b-41d3-aa35-cc3f431836f2",
   "metadata": {},
   "outputs": [
    {
     "name": "stdout",
     "output_type": "stream",
     "text": [
      "<class 'pandas.core.frame.DataFrame'>\n",
      "RangeIndex: 8040 entries, 0 to 8039\n",
      "Data columns (total 6 columns):\n",
      " #   Column     Non-Null Count  Dtype \n",
      "---  ------     --------------  ----- \n",
      " 0   user_id    8040 non-null   int64 \n",
      " 1   username   8040 non-null   object\n",
      " 2   email      8040 non-null   object\n",
      " 3   action     8040 non-null   object\n",
      " 4   timestamp  8040 non-null   object\n",
      " 5   day        0 non-null      object\n",
      "dtypes: int64(1), object(5)\n",
      "memory usage: 377.0+ KB\n"
     ]
    }
   ],
   "source": [
    "user_action_pd.info()"
   ]
  },
  {
   "cell_type": "markdown",
   "id": "e072d870-b2c9-4be7-af29-8ee6b9ee7a85",
   "metadata": {},
   "source": [
    "\n",
    "#### Users who have \"signedup\"\n"
   ]
  },
  {
   "cell_type": "code",
   "execution_count": 95,
   "id": "de0fe08c-158b-4a92-9a04-f0d5c3b696b5",
   "metadata": {},
   "outputs": [
    {
     "data": {
      "text/html": [
       "<div>\n",
       "<style scoped>\n",
       "    .dataframe tbody tr th:only-of-type {\n",
       "        vertical-align: middle;\n",
       "    }\n",
       "\n",
       "    .dataframe tbody tr th {\n",
       "        vertical-align: top;\n",
       "    }\n",
       "\n",
       "    .dataframe thead th {\n",
       "        text-align: right;\n",
       "    }\n",
       "</style>\n",
       "<table border=\"1\" class=\"dataframe\">\n",
       "  <thead>\n",
       "    <tr style=\"text-align: right;\">\n",
       "      <th></th>\n",
       "      <th>username</th>\n",
       "    </tr>\n",
       "  </thead>\n",
       "  <tbody>\n",
       "    <tr>\n",
       "      <th>2</th>\n",
       "      <td>user1</td>\n",
       "    </tr>\n",
       "    <tr>\n",
       "      <th>18</th>\n",
       "      <td>user10</td>\n",
       "    </tr>\n",
       "    <tr>\n",
       "      <th>20</th>\n",
       "      <td>user11</td>\n",
       "    </tr>\n",
       "    <tr>\n",
       "      <th>22</th>\n",
       "      <td>user12</td>\n",
       "    </tr>\n",
       "    <tr>\n",
       "      <th>15</th>\n",
       "      <td>user13</td>\n",
       "    </tr>\n",
       "    <tr>\n",
       "      <th>26</th>\n",
       "      <td>user14</td>\n",
       "    </tr>\n",
       "    <tr>\n",
       "      <th>4</th>\n",
       "      <td>user15</td>\n",
       "    </tr>\n",
       "    <tr>\n",
       "      <th>11</th>\n",
       "      <td>user16</td>\n",
       "    </tr>\n",
       "    <tr>\n",
       "      <th>12</th>\n",
       "      <td>user17</td>\n",
       "    </tr>\n",
       "    <tr>\n",
       "      <th>6</th>\n",
       "      <td>user18</td>\n",
       "    </tr>\n",
       "    <tr>\n",
       "      <th>16</th>\n",
       "      <td>user19</td>\n",
       "    </tr>\n",
       "    <tr>\n",
       "      <th>33</th>\n",
       "      <td>user2</td>\n",
       "    </tr>\n",
       "    <tr>\n",
       "      <th>5</th>\n",
       "      <td>user20</td>\n",
       "    </tr>\n",
       "    <tr>\n",
       "      <th>24</th>\n",
       "      <td>user21</td>\n",
       "    </tr>\n",
       "    <tr>\n",
       "      <th>30</th>\n",
       "      <td>user22</td>\n",
       "    </tr>\n",
       "    <tr>\n",
       "      <th>19</th>\n",
       "      <td>user23</td>\n",
       "    </tr>\n",
       "    <tr>\n",
       "      <th>3</th>\n",
       "      <td>user24</td>\n",
       "    </tr>\n",
       "    <tr>\n",
       "      <th>7</th>\n",
       "      <td>user25</td>\n",
       "    </tr>\n",
       "    <tr>\n",
       "      <th>29</th>\n",
       "      <td>user26</td>\n",
       "    </tr>\n",
       "    <tr>\n",
       "      <th>10</th>\n",
       "      <td>user27</td>\n",
       "    </tr>\n",
       "    <tr>\n",
       "      <th>1</th>\n",
       "      <td>user28</td>\n",
       "    </tr>\n",
       "    <tr>\n",
       "      <th>23</th>\n",
       "      <td>user29</td>\n",
       "    </tr>\n",
       "    <tr>\n",
       "      <th>8</th>\n",
       "      <td>user3</td>\n",
       "    </tr>\n",
       "    <tr>\n",
       "      <th>27</th>\n",
       "      <td>user30</td>\n",
       "    </tr>\n",
       "    <tr>\n",
       "      <th>17</th>\n",
       "      <td>user31</td>\n",
       "    </tr>\n",
       "    <tr>\n",
       "      <th>34</th>\n",
       "      <td>user32</td>\n",
       "    </tr>\n",
       "    <tr>\n",
       "      <th>21</th>\n",
       "      <td>user33</td>\n",
       "    </tr>\n",
       "    <tr>\n",
       "      <th>0</th>\n",
       "      <td>user34</td>\n",
       "    </tr>\n",
       "    <tr>\n",
       "      <th>32</th>\n",
       "      <td>user35</td>\n",
       "    </tr>\n",
       "    <tr>\n",
       "      <th>13</th>\n",
       "      <td>user4</td>\n",
       "    </tr>\n",
       "    <tr>\n",
       "      <th>31</th>\n",
       "      <td>user5</td>\n",
       "    </tr>\n",
       "    <tr>\n",
       "      <th>25</th>\n",
       "      <td>user6</td>\n",
       "    </tr>\n",
       "    <tr>\n",
       "      <th>28</th>\n",
       "      <td>user7</td>\n",
       "    </tr>\n",
       "    <tr>\n",
       "      <th>14</th>\n",
       "      <td>user8</td>\n",
       "    </tr>\n",
       "    <tr>\n",
       "      <th>9</th>\n",
       "      <td>user9</td>\n",
       "    </tr>\n",
       "  </tbody>\n",
       "</table>\n",
       "</div>"
      ],
      "text/plain": [
       "   username\n",
       "2     user1\n",
       "18   user10\n",
       "20   user11\n",
       "22   user12\n",
       "15   user13\n",
       "26   user14\n",
       "4    user15\n",
       "11   user16\n",
       "12   user17\n",
       "6    user18\n",
       "16   user19\n",
       "33    user2\n",
       "5    user20\n",
       "24   user21\n",
       "30   user22\n",
       "19   user23\n",
       "3    user24\n",
       "7    user25\n",
       "29   user26\n",
       "10   user27\n",
       "1    user28\n",
       "23   user29\n",
       "8     user3\n",
       "27   user30\n",
       "17   user31\n",
       "34   user32\n",
       "21   user33\n",
       "0    user34\n",
       "32   user35\n",
       "13    user4\n",
       "31    user5\n",
       "25    user6\n",
       "28    user7\n",
       "14    user8\n",
       "9     user9"
      ]
     },
     "execution_count": 95,
     "metadata": {},
     "output_type": "execute_result"
    }
   ],
   "source": [
    "query = \"\"\"\n",
    "SELECT username \n",
    "FROM user_actions\n",
    "WHERE action='signup'\n",
    "\"\"\"\n",
    "\n",
    "cursor.execute(query)\n",
    "\n",
    "# for data in cursor.fetchall():    \n",
    "#    print(data)\n",
    "\n",
    "pd.read_sql_query(query, conn).sort_values(by='username')"
   ]
  },
  {
   "cell_type": "markdown",
   "id": "5c1dd014-127d-4393-b30c-ccf0a0e8b32b",
   "metadata": {},
   "source": [
    "\n",
    "#### Total number of log entries for each user\n"
   ]
  },
  {
   "cell_type": "code",
   "execution_count": 96,
   "id": "c1a3e095-343b-4844-a39e-c4527f334f6d",
   "metadata": {},
   "outputs": [
    {
     "data": {
      "text/html": [
       "<div>\n",
       "<style scoped>\n",
       "    .dataframe tbody tr th:only-of-type {\n",
       "        vertical-align: middle;\n",
       "    }\n",
       "\n",
       "    .dataframe tbody tr th {\n",
       "        vertical-align: top;\n",
       "    }\n",
       "\n",
       "    .dataframe thead th {\n",
       "        text-align: right;\n",
       "    }\n",
       "</style>\n",
       "<table border=\"1\" class=\"dataframe\">\n",
       "  <thead>\n",
       "    <tr style=\"text-align: right;\">\n",
       "      <th></th>\n",
       "      <th>user_id</th>\n",
       "      <th>username</th>\n",
       "      <th>count(*)</th>\n",
       "    </tr>\n",
       "  </thead>\n",
       "  <tbody>\n",
       "    <tr>\n",
       "      <th>0</th>\n",
       "      <td>1</td>\n",
       "      <td>user1</td>\n",
       "      <td>97</td>\n",
       "    </tr>\n",
       "    <tr>\n",
       "      <th>1</th>\n",
       "      <td>10</td>\n",
       "      <td>user10</td>\n",
       "      <td>163</td>\n",
       "    </tr>\n",
       "    <tr>\n",
       "      <th>2</th>\n",
       "      <td>11</td>\n",
       "      <td>user11</td>\n",
       "      <td>319</td>\n",
       "    </tr>\n",
       "    <tr>\n",
       "      <th>3</th>\n",
       "      <td>12</td>\n",
       "      <td>user12</td>\n",
       "      <td>202</td>\n",
       "    </tr>\n",
       "    <tr>\n",
       "      <th>4</th>\n",
       "      <td>13</td>\n",
       "      <td>user13</td>\n",
       "      <td>464</td>\n",
       "    </tr>\n",
       "    <tr>\n",
       "      <th>5</th>\n",
       "      <td>14</td>\n",
       "      <td>user14</td>\n",
       "      <td>311</td>\n",
       "    </tr>\n",
       "    <tr>\n",
       "      <th>6</th>\n",
       "      <td>15</td>\n",
       "      <td>user15</td>\n",
       "      <td>30</td>\n",
       "    </tr>\n",
       "    <tr>\n",
       "      <th>7</th>\n",
       "      <td>16</td>\n",
       "      <td>user16</td>\n",
       "      <td>370</td>\n",
       "    </tr>\n",
       "    <tr>\n",
       "      <th>8</th>\n",
       "      <td>17</td>\n",
       "      <td>user17</td>\n",
       "      <td>356</td>\n",
       "    </tr>\n",
       "    <tr>\n",
       "      <th>9</th>\n",
       "      <td>18</td>\n",
       "      <td>user18</td>\n",
       "      <td>116</td>\n",
       "    </tr>\n",
       "    <tr>\n",
       "      <th>10</th>\n",
       "      <td>19</td>\n",
       "      <td>user19</td>\n",
       "      <td>48</td>\n",
       "    </tr>\n",
       "    <tr>\n",
       "      <th>11</th>\n",
       "      <td>2</td>\n",
       "      <td>user2</td>\n",
       "      <td>139</td>\n",
       "    </tr>\n",
       "    <tr>\n",
       "      <th>12</th>\n",
       "      <td>20</td>\n",
       "      <td>user20</td>\n",
       "      <td>353</td>\n",
       "    </tr>\n",
       "    <tr>\n",
       "      <th>13</th>\n",
       "      <td>21</td>\n",
       "      <td>user21</td>\n",
       "      <td>318</td>\n",
       "    </tr>\n",
       "    <tr>\n",
       "      <th>14</th>\n",
       "      <td>22</td>\n",
       "      <td>user22</td>\n",
       "      <td>264</td>\n",
       "    </tr>\n",
       "    <tr>\n",
       "      <th>15</th>\n",
       "      <td>23</td>\n",
       "      <td>user23</td>\n",
       "      <td>301</td>\n",
       "    </tr>\n",
       "    <tr>\n",
       "      <th>16</th>\n",
       "      <td>24</td>\n",
       "      <td>user24</td>\n",
       "      <td>152</td>\n",
       "    </tr>\n",
       "    <tr>\n",
       "      <th>17</th>\n",
       "      <td>25</td>\n",
       "      <td>user25</td>\n",
       "      <td>131</td>\n",
       "    </tr>\n",
       "    <tr>\n",
       "      <th>18</th>\n",
       "      <td>26</td>\n",
       "      <td>user26</td>\n",
       "      <td>213</td>\n",
       "    </tr>\n",
       "    <tr>\n",
       "      <th>19</th>\n",
       "      <td>27</td>\n",
       "      <td>user27</td>\n",
       "      <td>201</td>\n",
       "    </tr>\n",
       "    <tr>\n",
       "      <th>20</th>\n",
       "      <td>28</td>\n",
       "      <td>user28</td>\n",
       "      <td>81</td>\n",
       "    </tr>\n",
       "    <tr>\n",
       "      <th>21</th>\n",
       "      <td>29</td>\n",
       "      <td>user29</td>\n",
       "      <td>42</td>\n",
       "    </tr>\n",
       "    <tr>\n",
       "      <th>22</th>\n",
       "      <td>3</td>\n",
       "      <td>user3</td>\n",
       "      <td>101</td>\n",
       "    </tr>\n",
       "    <tr>\n",
       "      <th>23</th>\n",
       "      <td>30</td>\n",
       "      <td>user30</td>\n",
       "      <td>160</td>\n",
       "    </tr>\n",
       "    <tr>\n",
       "      <th>24</th>\n",
       "      <td>31</td>\n",
       "      <td>user31</td>\n",
       "      <td>381</td>\n",
       "    </tr>\n",
       "    <tr>\n",
       "      <th>25</th>\n",
       "      <td>32</td>\n",
       "      <td>user32</td>\n",
       "      <td>22</td>\n",
       "    </tr>\n",
       "    <tr>\n",
       "      <th>26</th>\n",
       "      <td>33</td>\n",
       "      <td>user33</td>\n",
       "      <td>23</td>\n",
       "    </tr>\n",
       "    <tr>\n",
       "      <th>27</th>\n",
       "      <td>34</td>\n",
       "      <td>user34</td>\n",
       "      <td>175</td>\n",
       "    </tr>\n",
       "    <tr>\n",
       "      <th>28</th>\n",
       "      <td>35</td>\n",
       "      <td>user35</td>\n",
       "      <td>384</td>\n",
       "    </tr>\n",
       "    <tr>\n",
       "      <th>29</th>\n",
       "      <td>4</td>\n",
       "      <td>user4</td>\n",
       "      <td>425</td>\n",
       "    </tr>\n",
       "    <tr>\n",
       "      <th>30</th>\n",
       "      <td>5</td>\n",
       "      <td>user5</td>\n",
       "      <td>182</td>\n",
       "    </tr>\n",
       "    <tr>\n",
       "      <th>31</th>\n",
       "      <td>6</td>\n",
       "      <td>user6</td>\n",
       "      <td>448</td>\n",
       "    </tr>\n",
       "    <tr>\n",
       "      <th>32</th>\n",
       "      <td>7</td>\n",
       "      <td>user7</td>\n",
       "      <td>358</td>\n",
       "    </tr>\n",
       "    <tr>\n",
       "      <th>33</th>\n",
       "      <td>8</td>\n",
       "      <td>user8</td>\n",
       "      <td>318</td>\n",
       "    </tr>\n",
       "    <tr>\n",
       "      <th>34</th>\n",
       "      <td>9</td>\n",
       "      <td>user9</td>\n",
       "      <td>109</td>\n",
       "    </tr>\n",
       "  </tbody>\n",
       "</table>\n",
       "</div>"
      ],
      "text/plain": [
       "    user_id username  count(*)\n",
       "0         1    user1        97\n",
       "1        10   user10       163\n",
       "2        11   user11       319\n",
       "3        12   user12       202\n",
       "4        13   user13       464\n",
       "5        14   user14       311\n",
       "6        15   user15        30\n",
       "7        16   user16       370\n",
       "8        17   user17       356\n",
       "9        18   user18       116\n",
       "10       19   user19        48\n",
       "11        2    user2       139\n",
       "12       20   user20       353\n",
       "13       21   user21       318\n",
       "14       22   user22       264\n",
       "15       23   user23       301\n",
       "16       24   user24       152\n",
       "17       25   user25       131\n",
       "18       26   user26       213\n",
       "19       27   user27       201\n",
       "20       28   user28        81\n",
       "21       29   user29        42\n",
       "22        3    user3       101\n",
       "23       30   user30       160\n",
       "24       31   user31       381\n",
       "25       32   user32        22\n",
       "26       33   user33        23\n",
       "27       34   user34       175\n",
       "28       35   user35       384\n",
       "29        4    user4       425\n",
       "30        5    user5       182\n",
       "31        6    user6       448\n",
       "32        7    user7       358\n",
       "33        8    user8       318\n",
       "34        9    user9       109"
      ]
     },
     "execution_count": 96,
     "metadata": {},
     "output_type": "execute_result"
    }
   ],
   "source": [
    "query = \"\"\"\n",
    "SELECT user_id, username, count(*) \n",
    "FROM user_actions\n",
    "WHERE action='login'\n",
    "GROUP BY username\n",
    "\"\"\"\n",
    "\n",
    "cursor.execute(query)\n",
    "\n",
    "# for data in cursor.fetchall():  \n",
    "#     print(data)\n",
    "\n",
    "pd.read_sql_query(query, conn).sort_values(by='username')"
   ]
  },
  {
   "cell_type": "markdown",
   "id": "5f1a29db-4dca-4f01-80bb-bdb184c6b16a",
   "metadata": {},
   "source": [
    "\n",
    "#### Users who have logged in and signed up on the same day\n"
   ]
  },
  {
   "cell_type": "markdown",
   "id": "e821ed9d-c60a-4819-a754-d20a350c9f02",
   "metadata": {},
   "source": [
    "\n",
    "###### This task is possible to solve using subselect or views. Time was running out, so the rest of the code for this task may be disregarded.\n"
   ]
  },
  {
   "cell_type": "markdown",
   "id": "01dff139-f943-4250-a0ae-a5c6eeded159",
   "metadata": {},
   "source": [
    "Create new column, 'day', from 'timestamp'."
   ]
  },
  {
   "cell_type": "code",
   "execution_count": 97,
   "id": "56f43b65-d108-4b7b-acae-a126a74136c3",
   "metadata": {},
   "outputs": [
    {
     "name": "stdout",
     "output_type": "stream",
     "text": [
      "34\n",
      "user34\n",
      "user34@email.com\n",
      "signup\n",
      "2015-02-04 14:38:47\n",
      "None\n"
     ]
    }
   ],
   "source": [
    "query = \"\"\"\n",
    "SELECT *\n",
    "FROM user_actions\n",
    "\"\"\"\n",
    "\n",
    "cursor.execute(query)\n",
    "\n",
    "# for data in cursor.fetchall():\n",
    "for data in cursor.fetchone():    \n",
    "    print(data)"
   ]
  },
  {
   "cell_type": "code",
   "execution_count": 147,
   "id": "b8d6b948-a311-4701-9f1e-fc2e1620a428",
   "metadata": {},
   "outputs": [
    {
     "data": {
      "text/plain": [
       "<sqlite3.Cursor at 0x155cf910740>"
      ]
     },
     "execution_count": 147,
     "metadata": {},
     "output_type": "execute_result"
    }
   ],
   "source": [
    "query = \"\"\"\n",
    "CREATE VIEW login_view \n",
    " (user_id, login_username, login_day)  \n",
    "AS SELECT user_id, username, date(timestamp)\n",
    "FROM user_actions\n",
    "WHERE action='login' \n",
    "GROUP BY username, date(timestamp);\n",
    "\"\"\"\n",
    "cursor.execute(query)\n",
    "\n",
    "#for data in cursor.fetchone():\n",
    "# for data in cursor.fetchone():    \n",
    "#    print(data)\n",
    "# pd.read_sql_query(query, conn)\n",
    "#pd.read_sql_query(query, conn).sort_values(by='username')"
   ]
  },
  {
   "cell_type": "code",
   "execution_count": 148,
   "id": "3a7cabf3-2b26-40e7-8c8a-97d78e3e1dbc",
   "metadata": {},
   "outputs": [
    {
     "data": {
      "text/plain": [
       "<sqlite3.Cursor at 0x155cf910740>"
      ]
     },
     "execution_count": 148,
     "metadata": {},
     "output_type": "execute_result"
    }
   ],
   "source": [
    "query = \"\"\"\n",
    "CREATE VIEW signup_view \n",
    "  (user_id, signup_username, signup_day) \n",
    "AS SELECT user_id, username, date(timestamp)\n",
    "FROM user_actions\n",
    "WHERE action='signup' \n",
    "GROUP BY username, date(timestamp);\n",
    "\"\"\"\n",
    "cursor.execute(query)\n",
    "\n",
    "# for data in cursor.fetchone():\n",
    "# for data in cursor.fetchone():    \n",
    "#    print(data)\n",
    "# pd.read_sql_query(query, conn)\n",
    "# pd.read_sql_query(query, conn).sort_values(by='username')"
   ]
  },
  {
   "cell_type": "code",
   "execution_count": 151,
   "id": "8ce7d928-110b-4ba6-96b9-73c21e30a607",
   "metadata": {},
   "outputs": [
    {
     "data": {
      "text/html": [
       "<div>\n",
       "<style scoped>\n",
       "    .dataframe tbody tr th:only-of-type {\n",
       "        vertical-align: middle;\n",
       "    }\n",
       "\n",
       "    .dataframe tbody tr th {\n",
       "        vertical-align: top;\n",
       "    }\n",
       "\n",
       "    .dataframe thead th {\n",
       "        text-align: right;\n",
       "    }\n",
       "</style>\n",
       "<table border=\"1\" class=\"dataframe\">\n",
       "  <thead>\n",
       "    <tr style=\"text-align: right;\">\n",
       "      <th></th>\n",
       "      <th>user_id</th>\n",
       "      <th>signup_username</th>\n",
       "      <th>signup_day</th>\n",
       "      <th>user_id</th>\n",
       "      <th>login_username</th>\n",
       "      <th>login_day</th>\n",
       "    </tr>\n",
       "  </thead>\n",
       "  <tbody>\n",
       "    <tr>\n",
       "      <th>7</th>\n",
       "      <td>8</td>\n",
       "      <td>user8</td>\n",
       "      <td>2018-04-15</td>\n",
       "      <td>8</td>\n",
       "      <td>user8</td>\n",
       "      <td>2018-04-15</td>\n",
       "    </tr>\n",
       "    <tr>\n",
       "      <th>0</th>\n",
       "      <td>12</td>\n",
       "      <td>user12</td>\n",
       "      <td>2020-05-07</td>\n",
       "      <td>12</td>\n",
       "      <td>user12</td>\n",
       "      <td>2020-05-07</td>\n",
       "    </tr>\n",
       "    <tr>\n",
       "      <th>3</th>\n",
       "      <td>30</td>\n",
       "      <td>user30</td>\n",
       "      <td>2021-11-15</td>\n",
       "      <td>30</td>\n",
       "      <td>user30</td>\n",
       "      <td>2021-11-15</td>\n",
       "    </tr>\n",
       "    <tr>\n",
       "      <th>6</th>\n",
       "      <td>7</td>\n",
       "      <td>user7</td>\n",
       "      <td>2021-12-19</td>\n",
       "      <td>7</td>\n",
       "      <td>user7</td>\n",
       "      <td>2021-12-19</td>\n",
       "    </tr>\n",
       "    <tr>\n",
       "      <th>2</th>\n",
       "      <td>22</td>\n",
       "      <td>user22</td>\n",
       "      <td>2022-07-27</td>\n",
       "      <td>22</td>\n",
       "      <td>user22</td>\n",
       "      <td>2022-07-27</td>\n",
       "    </tr>\n",
       "    <tr>\n",
       "      <th>5</th>\n",
       "      <td>5</td>\n",
       "      <td>user5</td>\n",
       "      <td>2022-08-19</td>\n",
       "      <td>5</td>\n",
       "      <td>user5</td>\n",
       "      <td>2022-08-19</td>\n",
       "    </tr>\n",
       "    <tr>\n",
       "      <th>1</th>\n",
       "      <td>2</td>\n",
       "      <td>user2</td>\n",
       "      <td>2022-11-05</td>\n",
       "      <td>2</td>\n",
       "      <td>user2</td>\n",
       "      <td>2022-11-05</td>\n",
       "    </tr>\n",
       "    <tr>\n",
       "      <th>4</th>\n",
       "      <td>32</td>\n",
       "      <td>user32</td>\n",
       "      <td>2022-11-28</td>\n",
       "      <td>32</td>\n",
       "      <td>user32</td>\n",
       "      <td>2022-11-28</td>\n",
       "    </tr>\n",
       "  </tbody>\n",
       "</table>\n",
       "</div>"
      ],
      "text/plain": [
       "   user_id signup_username  signup_day  user_id login_username   login_day\n",
       "7        8           user8  2018-04-15        8          user8  2018-04-15\n",
       "0       12          user12  2020-05-07       12         user12  2020-05-07\n",
       "3       30          user30  2021-11-15       30         user30  2021-11-15\n",
       "6        7           user7  2021-12-19        7          user7  2021-12-19\n",
       "2       22          user22  2022-07-27       22         user22  2022-07-27\n",
       "5        5           user5  2022-08-19        5          user5  2022-08-19\n",
       "1        2           user2  2022-11-05        2          user2  2022-11-05\n",
       "4       32          user32  2022-11-28       32         user32  2022-11-28"
      ]
     },
     "execution_count": 151,
     "metadata": {},
     "output_type": "execute_result"
    }
   ],
   "source": [
    "query = \"\"\"\n",
    "SELECT *\n",
    "FROM signup_view, login_view\n",
    "WHERE signup_username = login_username\n",
    "      AND signup_day = login_day\n",
    "GROUP BY login_username\n",
    "\"\"\"\n",
    "cursor.execute(query)\n",
    "# for data in cursor.fetchone():\n",
    "# for data in cursor.fetchone():    \n",
    "#    print(data)\n",
    "# pd.read_sql_query(query, conn)\n",
    "pd.read_sql_query(query, conn).sort_values(by='signup_day')"
   ]
  },
  {
   "cell_type": "code",
   "execution_count": 152,
   "id": "1f07a05c-9f58-4696-81f7-86607f095537",
   "metadata": {},
   "outputs": [
    {
     "data": {
      "text/plain": [
       "<sqlite3.Cursor at 0x155cf910740>"
      ]
     },
     "execution_count": 152,
     "metadata": {},
     "output_type": "execute_result"
    }
   ],
   "source": [
    "query = \"\"\"\n",
    "DROP VIEW login_view\n",
    "\"\"\"\n",
    "cursor.execute(query)\n",
    "#AND login_view.date(timestamp) = signup_view.date(timestamp) \n",
    "# WHERE login_view.username = signup_view.username \n",
    "# GROUP BY username\n",
    "#for data in cursor.fetchone():\n",
    "# for data in cursor.fetchone():    \n",
    "#   print(data)\n",
    "# pd.read_sql_query(query, conn)\n",
    "# pd.read_sql_query(query, conn).sort_values(by='username')"
   ]
  },
  {
   "cell_type": "code",
   "execution_count": 153,
   "id": "dacc6862-ebba-4db5-8659-86119f7e8a07",
   "metadata": {},
   "outputs": [
    {
     "data": {
      "text/plain": [
       "<sqlite3.Cursor at 0x155cf910740>"
      ]
     },
     "execution_count": 153,
     "metadata": {},
     "output_type": "execute_result"
    }
   ],
   "source": [
    "query = \"\"\"\n",
    "DROP VIEW signup_view\n",
    "\"\"\"\n",
    "cursor.execute(query)"
   ]
  },
  {
   "cell_type": "code",
   "execution_count": 141,
   "id": "f0e07fae-0adf-40c9-8670-a74af9d366d7",
   "metadata": {},
   "outputs": [
    {
     "data": {
      "text/plain": [
       "<sqlite3.Cursor at 0x155cf910740>"
      ]
     },
     "execution_count": 141,
     "metadata": {},
     "output_type": "execute_result"
    }
   ],
   "source": [
    "query = \"\"\"\n",
    "SELECT user_id, username, action, date(timestamp)\n",
    "FROM user_actions\n",
    "WHERE username='user1' AND (action='login' OR action='signup')\n",
    "GROUP BY date(timestamp)\n",
    "\"\"\"\n",
    "cursor.execute(query)\n",
    "\n",
    "# for data in cursor.fetchall():\n",
    "# for data in cursor.fetchone():    \n",
    "#    print(data)\n",
    "# pd.read_sql_query(query, conn)\n",
    "# pd.read_sql_query(query, conn).sort_values(by='username')"
   ]
  },
  {
   "cell_type": "code",
   "execution_count": 142,
   "id": "07e03e84-cda2-4e92-b5ab-b0e79d5cd404",
   "metadata": {},
   "outputs": [],
   "source": [
    "query = \"\"\"\n",
    "SELECT user_id, username, day\n",
    "FROM user_actions\n",
    "WHERE action='login' OR action='signup'\n",
    "GROUP BY day\n",
    "\"\"\"\n",
    "\n",
    "# cursor.execute(query)\n",
    "\n",
    "# for data in cursor.fetchone():\n",
    "# for data in cursor.fetchone():    \n",
    "#     print(data)\n",
    "# pd.read_sql_query(query, conn)\n",
    "# pd.read_sql_query(query, conn).sort_values(by='username')"
   ]
  },
  {
   "cell_type": "markdown",
   "id": "3f0261ea-c923-4d27-9f00-b15d42be7f16",
   "metadata": {},
   "source": [
    "\n",
    "## Regex\n"
   ]
  },
  {
   "cell_type": "markdown",
   "id": "ca35ce37-a3e1-4bb7-8a72-4ff8370c2387",
   "metadata": {},
   "source": [
    "\n",
    "#### Read data from file\n"
   ]
  },
  {
   "cell_type": "code",
   "execution_count": null,
   "id": "22c7aa92-bdca-4900-bd31-73409fde3e9d",
   "metadata": {},
   "outputs": [],
   "source": [
    "first_part = r\"^\\d{1,3}\\.\""
   ]
  },
  {
   "cell_type": "code",
   "execution_count": null,
   "id": "6c3f0ec0-01fa-4921-8ca1-c70d6d425f31",
   "metadata": {},
   "outputs": [],
   "source": [
    "comments_pd = pd.read_table('comments.txt', sep=first_part, names=['id', 'comment'], engine='python')"
   ]
  },
  {
   "cell_type": "code",
   "execution_count": null,
   "id": "9f41c44e-b6c6-43b8-8d03-84d8f69ab05c",
   "metadata": {},
   "outputs": [],
   "source": [
    "comments_pd['comment'].head()"
   ]
  },
  {
   "cell_type": "code",
   "execution_count": null,
   "id": "5da3aa7f-1a63-48cc-a176-9d67d9aa287a",
   "metadata": {},
   "outputs": [],
   "source": [
    "comments_pd.info()"
   ]
  },
  {
   "cell_type": "code",
   "execution_count": null,
   "id": "d762ea83-796e-4eb3-b672-8522e46c16ad",
   "metadata": {},
   "outputs": [],
   "source": [
    "comments_pd.head()"
   ]
  },
  {
   "cell_type": "code",
   "execution_count": null,
   "id": "f98966f6-edae-4588-83a3-0f6626b7d193",
   "metadata": {},
   "outputs": [],
   "source": [
    "comments_pd.dtypes"
   ]
  },
  {
   "cell_type": "markdown",
   "id": "1061eb8c-f9f8-45da-ac97-978bf7788a92",
   "metadata": {},
   "source": [
    "\n",
    "##### Drop the 'id' column and convert the comments to strings\n"
   ]
  },
  {
   "cell_type": "markdown",
   "id": "2ac8bb47-7456-431a-93b8-0efe550aab04",
   "metadata": {},
   "source": [
    "This will create a Series of strings."
   ]
  },
  {
   "cell_type": "code",
   "execution_count": null,
   "id": "29e30870-cb89-4146-9acd-ff5dfa0578a0",
   "metadata": {},
   "outputs": [],
   "source": [
    "string_comments = comments_pd['comment'].astype({'comment' : 'string'}, copy=True)"
   ]
  },
  {
   "cell_type": "code",
   "execution_count": null,
   "id": "37e1d98c-3cb4-4e06-a156-7fcb960d06ea",
   "metadata": {},
   "outputs": [],
   "source": [
    "string_comments.info()"
   ]
  },
  {
   "cell_type": "code",
   "execution_count": null,
   "id": "a97c74a8-5e66-4571-b59b-ae6efa19ccac",
   "metadata": {},
   "outputs": [],
   "source": [
    "string_comments.head(6)"
   ]
  },
  {
   "cell_type": "code",
   "execution_count": null,
   "id": "e9cd0841-36eb-48da-8977-b527e1ac36de",
   "metadata": {},
   "outputs": [],
   "source": [
    "string_comments.tail()"
   ]
  },
  {
   "cell_type": "code",
   "execution_count": null,
   "id": "a57a8938-5903-4e7d-88b8-3d1c0c8e0419",
   "metadata": {},
   "outputs": [],
   "source": [
    "string_comments[99]"
   ]
  },
  {
   "cell_type": "code",
   "execution_count": null,
   "id": "57750d2a-1ac3-4b73-9ba2-7251547a116e",
   "metadata": {},
   "outputs": [],
   "source": [
    "string_comments[97]"
   ]
  },
  {
   "cell_type": "code",
   "execution_count": null,
   "id": "7e55de51-b3a5-4c4d-aaf7-c21d6155b0a8",
   "metadata": {},
   "outputs": [],
   "source": [
    "string_comments[1]"
   ]
  },
  {
   "cell_type": "markdown",
   "id": "935e7db8-8fce-42f6-a752-ab9064e26c30",
   "metadata": {},
   "source": [
    "\n",
    "#### Solve tasks\n"
   ]
  },
  {
   "cell_type": "markdown",
   "id": "2b3d9120-f2fa-449d-87e5-7c7016b27ab6",
   "metadata": {},
   "source": [
    "\n",
    "##### All hashtags\n"
   ]
  },
  {
   "cell_type": "code",
   "execution_count": null,
   "id": "d0049ffb-51d1-4a7e-9447-9ca608c60ad9",
   "metadata": {},
   "outputs": [],
   "source": [
    "pattern_all_hashtags = r\"[#]{1}[\\w]+\"\n",
    "pattern_all_hashtags"
   ]
  },
  {
   "cell_type": "code",
   "execution_count": null,
   "id": "6db1b591-d50c-4c7f-96b1-12ba35cf293e",
   "metadata": {},
   "outputs": [],
   "source": [
    "tag_comment_1 = re.findall(pattern_all_hashtags, string_comments[1])\n",
    "print(tag_comment_1)"
   ]
  },
  {
   "cell_type": "code",
   "execution_count": null,
   "id": "351dfa81-c6ee-494a-b8ca-37fb45ba5f50",
   "metadata": {},
   "outputs": [],
   "source": [
    "tag_comment_0 = re.findall(pattern_all_hashtags, string_comments[0])\n",
    "print(tag_comment_0)"
   ]
  },
  {
   "cell_type": "markdown",
   "id": "8af32f57-5ab7-411d-8fb8-3959b0951969",
   "metadata": {},
   "source": [
    "\n",
    "##### Both #programming and #python\n"
   ]
  },
  {
   "cell_type": "code",
   "execution_count": null,
   "id": "51177f5c-f751-416c-a0ce-61d07cb62dec",
   "metadata": {},
   "outputs": [],
   "source": [
    "pattern_both_test = r\"[#programming]+ och [#python]+\"\n",
    "pattern_both_test"
   ]
  },
  {
   "cell_type": "code",
   "execution_count": null,
   "id": "7254b146-67d3-43b6-9223-a557aba925d5",
   "metadata": {},
   "outputs": [],
   "source": [
    "pattern_both = r\"[#p]{1}[\\w]+[o]{1}[\\w]*[n]{1}[\\w]*\"\n",
    "pattern_both"
   ]
  },
  {
   "cell_type": "code",
   "execution_count": null,
   "id": "c4c74d73-061f-4bcc-81ab-c9c154f734ef",
   "metadata": {},
   "outputs": [],
   "source": [
    "both_tag_comment_0 = re.findall(pattern_both, string_comments[0])\n",
    "print(both_tag_comment_0)"
   ]
  },
  {
   "cell_type": "code",
   "execution_count": null,
   "id": "d25d9977-7c06-444b-bc72-0e7f5adb006f",
   "metadata": {},
   "outputs": [],
   "source": [
    "both_tag_comment_1 = re.findall(pattern_both, string_comments[1])\n",
    "print(both_tag_comment_1)"
   ]
  },
  {
   "cell_type": "code",
   "execution_count": null,
   "id": "2250bcef-f801-4f59-a48e-6fbf2de79017",
   "metadata": {},
   "outputs": [],
   "source": [
    "both_tag_comment_5 = re.findall(pattern_both, string_comments[5])\n",
    "print(both_tag_comment_5)"
   ]
  },
  {
   "cell_type": "markdown",
   "id": "b7e04857-c9e4-47b6-984d-dfdb9ab8fdd7",
   "metadata": {},
   "source": [
    "We see that this patterna finds both #programming och #python, if they exist in a comment. It also finds some other tags, e.g. #coding, but it was not a requirement that no other tags should be found."
   ]
  },
  {
   "cell_type": "markdown",
   "id": "b969b370-4ba5-471c-868b-a986c5dec1cb",
   "metadata": {},
   "source": [
    "\n",
    "##### All unique hash tags\n"
   ]
  },
  {
   "cell_type": "code",
   "execution_count": null,
   "id": "41485fc6-7c18-4e81-a4b4-4116263826e1",
   "metadata": {},
   "outputs": [],
   "source": [
    "all_tags = []\n",
    "for i in range(99):\n",
    "    all_tags.append(re.findall(pattern_all_hashtags, string_comments[i]))"
   ]
  },
  {
   "cell_type": "code",
   "execution_count": null,
   "id": "95f716cf-47de-49a0-90f2-138fd4ee6c4e",
   "metadata": {},
   "outputs": [],
   "source": [
    "all_tags"
   ]
  },
  {
   "cell_type": "code",
   "execution_count": null,
   "id": "cad908e3-f13e-4420-8985-f2d64bdd8526",
   "metadata": {},
   "outputs": [],
   "source": [
    "type(all_tags)"
   ]
  },
  {
   "cell_type": "code",
   "execution_count": null,
   "id": "e4085f2c-dd2b-4342-b9dd-bb3d009104d1",
   "metadata": {},
   "outputs": [],
   "source": [
    "len(all_tags)"
   ]
  },
  {
   "cell_type": "markdown",
   "id": "e01ac8ac-be7f-44f0-a8ed-5fedc990f6b3",
   "metadata": {},
   "source": [
    "This is a list of lists. In python it is possible to transform it to a set, where all duplicates will disappear. As it is required to do everything with regex, I will not continue."
   ]
  },
  {
   "cell_type": "markdown",
   "id": "7ae8c341-e9b8-4232-8d0e-3486dbd48d7a",
   "metadata": {},
   "source": [
    "\n",
    "##### Från kurs_demo\n"
   ]
  },
  {
   "cell_type": "code",
   "execution_count": null,
   "id": "1b7d5393-2307-45ef-aa99-af7af9672cab",
   "metadata": {},
   "outputs": [],
   "source": [
    "string = \"Please contact support@example.com for assistance. For general inquiries, you can email info@company.com and @gmail.com\"\n",
    "print(string)"
   ]
  },
  {
   "cell_type": "code",
   "execution_count": null,
   "id": "2ad8a012-567b-4abc-868f-6b6cf3f582c7",
   "metadata": {},
   "outputs": [],
   "source": [
    "pattern = r\"\\b[\\w._%+-]+@[\\w.-]+\\.[A-Za-z]{2,4}\\b\"\n",
    "r\"\\b[\\w._%+-]+@[\\w.-]+\\.[A-Za-z]{2,4}\\b\""
   ]
  },
  {
   "cell_type": "code",
   "execution_count": null,
   "id": "4bed9340-10b3-495a-b25e-13359af795bf",
   "metadata": {},
   "outputs": [],
   "source": [
    "emails = re.findall(pattern, string)\n",
    "print(emails)"
   ]
  },
  {
   "cell_type": "code",
   "execution_count": null,
   "id": "de957292-2306-4feb-b590-d34275b2c707",
   "metadata": {},
   "outputs": [],
   "source": []
  }
 ],
 "metadata": {
  "kernelspec": {
   "display_name": "Python 3 (ipykernel)",
   "language": "python",
   "name": "python3"
  },
  "language_info": {
   "codemirror_mode": {
    "name": "ipython",
    "version": 3
   },
   "file_extension": ".py",
   "mimetype": "text/x-python",
   "name": "python",
   "nbconvert_exporter": "python",
   "pygments_lexer": "ipython3",
   "version": "3.13.0"
  }
 },
 "nbformat": 4,
 "nbformat_minor": 5
}

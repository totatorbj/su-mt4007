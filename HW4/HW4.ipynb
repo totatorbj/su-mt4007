{
 "cells": [
  {
   "cell_type": "markdown",
   "id": "4a671dba-0c16-4d98-98dd-46666d4c70cf",
   "metadata": {},
   "source": [
    "\n",
    "# Homework 4\n"
   ]
  },
  {
   "cell_type": "markdown",
   "id": "a64fa077-ebe7-48c7-b57a-0f13af532c47",
   "metadata": {},
   "source": [
    "Some initializations"
   ]
  },
  {
   "cell_type": "code",
   "execution_count": 1,
   "id": "3e778b76-66bf-425b-a20b-0fd1499cfda1",
   "metadata": {},
   "outputs": [],
   "source": [
    "import numpy as np\n",
    "import pandas as pd\n",
    "import re\n",
    "import matplotlib.pyplot as plt\n",
    "import seaborn as sns\n",
    "import sqlite3 as sql\n",
    "pd.set_option('display.max_columns', 62) # to see all columns \n",
    "\n",
    "pd.options.mode.copy_on_write = True # to avoid warnings when replacing values in a column and other commands\n",
    "# see https://pandas.pydata.org/pandas-docs/stable/user_guide/copy_on_write.html#copy-on-write-chained-assignment"
   ]
  },
  {
   "cell_type": "markdown",
   "id": "e8b1af13-893f-495e-a67e-660d0146a195",
   "metadata": {},
   "source": [
    "\n",
    "## Joining data\n"
   ]
  },
  {
   "cell_type": "markdown",
   "id": "a8d694ec-fdbc-4756-9f91-c03fce1c4040",
   "metadata": {},
   "source": [
    "\n",
    "#### Loading data\n"
   ]
  },
  {
   "cell_type": "code",
   "execution_count": 2,
   "id": "761d02e3-88f7-444b-ab40-1fd6cb9afd65",
   "metadata": {},
   "outputs": [],
   "source": [
    "# ![Upper left corner of the file opened in Jupyter](cleared_cell_phones_total-csv.jpg \"'Delimiter' shows the sep parameter value to use\")<br><br>"
   ]
  },
  {
   "cell_type": "code",
   "execution_count": 3,
   "id": "958e8af4-e6ee-4679-ab8f-f8edbac55644",
   "metadata": {},
   "outputs": [],
   "source": [
    "cleaned_cell_phones_total_df = pd.read_csv('cleaned_cell_phones_total.csv', index_col='iso-3')"
   ]
  },
  {
   "cell_type": "code",
   "execution_count": 4,
   "id": "4b40af6d-5bc2-47fc-aaa1-965bc5954454",
   "metadata": {},
   "outputs": [],
   "source": [
    "# cleared_cell_phones_total_data_df = pd.read_csv('cleared_cell_phones_total.csv', index_col='iso-3')"
   ]
  },
  {
   "cell_type": "code",
   "execution_count": 5,
   "id": "cbf50e56-9817-4fe8-8f71-7a9d1cf07519",
   "metadata": {},
   "outputs": [],
   "source": [
    "# ![Upper left corner of the file opened in Jupyter](country_data-csv.jpg \"'Delimiter' shows the sep parameter value to use\")<br><br>"
   ]
  },
  {
   "cell_type": "code",
   "execution_count": 6,
   "id": "d83c3d5c-2e24-4aca-a398-bb467f28c0f6",
   "metadata": {},
   "outputs": [],
   "source": [
    "country_data_df = pd.read_csv(\"country_data.csv\", index_col='alpha-3')"
   ]
  },
  {
   "cell_type": "code",
   "execution_count": 7,
   "id": "3365ef69-ee10-4dc9-8ea8-d4adc2dde2c6",
   "metadata": {},
   "outputs": [],
   "source": [
    "# country_data_df = pd.read_csv(\"https://github.com/su-mt4007/data/country_data.csv\", index_col='alpha-3')"
   ]
  },
  {
   "cell_type": "code",
   "execution_count": 8,
   "id": "3c5f6301-5690-4264-bac9-ee66c6cd72f9",
   "metadata": {},
   "outputs": [],
   "source": [
    "# ![Upper left corner of the file opened in Jupyter](pop_data-csv.jpg \"'Delimiter' shows the sep parameter value to use\")<br><br>"
   ]
  },
  {
   "cell_type": "code",
   "execution_count": 9,
   "id": "67021c88-8894-49ae-aa86-4bb7b6025eb8",
   "metadata": {},
   "outputs": [],
   "source": [
    "pop_data_df = pd.read_csv('pop_data.csv', index_col='iso-3')"
   ]
  },
  {
   "cell_type": "code",
   "execution_count": 10,
   "id": "05a97437-0d23-4a46-b802-40b88495e547",
   "metadata": {},
   "outputs": [],
   "source": [
    "# pop_data_df = pd.read_csv('https://github.com/su-mt4007/data/pop_data.csv', index_col='iso-3')"
   ]
  },
  {
   "cell_type": "markdown",
   "id": "d1000803-2024-418e-aac0-bedded138c91",
   "metadata": {},
   "source": [
    "\n",
    "#### Structure of data\n"
   ]
  },
  {
   "cell_type": "markdown",
   "id": "7b23d17e-0188-49e0-97a0-0806df4838df",
   "metadata": {},
   "source": [
    "Cell phones"
   ]
  },
  {
   "cell_type": "code",
   "execution_count": 11,
   "id": "3a8597c8-a6a5-4e3f-af73-9ec92e2ede78",
   "metadata": {},
   "outputs": [
    {
     "name": "stdout",
     "output_type": "stream",
     "text": [
      "<class 'pandas.core.frame.DataFrame'>\n",
      "Index: 214 entries, ABW to ZWE\n",
      "Data columns (total 56 columns):\n",
      " #   Column  Non-Null Count  Dtype  \n",
      "---  ------  --------------  -----  \n",
      " 0   1960    214 non-null    float64\n",
      " 1   1965    214 non-null    float64\n",
      " 2   1966    214 non-null    float64\n",
      " 3   1967    214 non-null    float64\n",
      " 4   1968    214 non-null    float64\n",
      " 5   1969    214 non-null    float64\n",
      " 6   1970    214 non-null    float64\n",
      " 7   1971    214 non-null    float64\n",
      " 8   1972    214 non-null    float64\n",
      " 9   1973    214 non-null    float64\n",
      " 10  1974    214 non-null    float64\n",
      " 11  1975    214 non-null    float64\n",
      " 12  1976    214 non-null    float64\n",
      " 13  1977    214 non-null    float64\n",
      " 14  1978    214 non-null    float64\n",
      " 15  1979    214 non-null    float64\n",
      " 16  1980    214 non-null    float64\n",
      " 17  1981    214 non-null    float64\n",
      " 18  1982    214 non-null    float64\n",
      " 19  1983    214 non-null    float64\n",
      " 20  1984    214 non-null    float64\n",
      " 21  1985    214 non-null    float64\n",
      " 22  1986    214 non-null    float64\n",
      " 23  1987    214 non-null    float64\n",
      " 24  1988    214 non-null    float64\n",
      " 25  1989    214 non-null    float64\n",
      " 26  1990    214 non-null    float64\n",
      " 27  1991    214 non-null    float64\n",
      " 28  1992    214 non-null    float64\n",
      " 29  1993    214 non-null    float64\n",
      " 30  1994    214 non-null    float64\n",
      " 31  1995    214 non-null    float64\n",
      " 32  1996    214 non-null    float64\n",
      " 33  1997    214 non-null    float64\n",
      " 34  1998    214 non-null    float64\n",
      " 35  1999    214 non-null    float64\n",
      " 36  2000    214 non-null    float64\n",
      " 37  2001    214 non-null    float64\n",
      " 38  2002    214 non-null    float64\n",
      " 39  2003    214 non-null    float64\n",
      " 40  2004    214 non-null    float64\n",
      " 41  2005    214 non-null    float64\n",
      " 42  2006    214 non-null    float64\n",
      " 43  2007    214 non-null    float64\n",
      " 44  2008    214 non-null    float64\n",
      " 45  2009    214 non-null    float64\n",
      " 46  2010    214 non-null    float64\n",
      " 47  2011    214 non-null    float64\n",
      " 48  2012    214 non-null    float64\n",
      " 49  2013    214 non-null    float64\n",
      " 50  2014    214 non-null    float64\n",
      " 51  2015    214 non-null    float64\n",
      " 52  2016    214 non-null    float64\n",
      " 53  2017    214 non-null    float64\n",
      " 54  2018    214 non-null    float64\n",
      " 55  2019    214 non-null    float64\n",
      "dtypes: float64(56)\n",
      "memory usage: 95.3+ KB\n"
     ]
    }
   ],
   "source": [
    "cleaned_cell_phones_total_df.info()"
   ]
  },
  {
   "cell_type": "code",
   "execution_count": 12,
   "id": "ddb4918d-6913-4a4f-85c8-d9012ceeddcb",
   "metadata": {},
   "outputs": [
    {
     "data": {
      "text/plain": [
       "'iso-3'"
      ]
     },
     "execution_count": 12,
     "metadata": {},
     "output_type": "execute_result"
    }
   ],
   "source": [
    "cleaned_cell_phones_total_df.index.name"
   ]
  },
  {
   "cell_type": "markdown",
   "id": "70d7cf8d-3f0f-4daf-844a-6697989ed3da",
   "metadata": {},
   "source": [
    "Countries"
   ]
  },
  {
   "cell_type": "code",
   "execution_count": 13,
   "id": "18489eda-6676-4167-b378-1523aa98497c",
   "metadata": {},
   "outputs": [
    {
     "name": "stdout",
     "output_type": "stream",
     "text": [
      "<class 'pandas.core.frame.DataFrame'>\n",
      "Index: 249 entries, AFG to ZWE\n",
      "Data columns (total 10 columns):\n",
      " #   Column                    Non-Null Count  Dtype  \n",
      "---  ------                    --------------  -----  \n",
      " 0   name                      249 non-null    object \n",
      " 1   alpha-2                   248 non-null    object \n",
      " 2   country-code              249 non-null    int64  \n",
      " 3   iso_3166-2                249 non-null    object \n",
      " 4   region                    248 non-null    object \n",
      " 5   sub-region                248 non-null    object \n",
      " 6   intermediate-region       107 non-null    object \n",
      " 7   region-code               248 non-null    float64\n",
      " 8   sub-region-code           248 non-null    float64\n",
      " 9   intermediate-region-code  107 non-null    float64\n",
      "dtypes: float64(3), int64(1), object(6)\n",
      "memory usage: 21.4+ KB\n"
     ]
    }
   ],
   "source": [
    "country_data_df.info()"
   ]
  },
  {
   "cell_type": "code",
   "execution_count": 14,
   "id": "17992491-568c-4fba-9550-72b31caa2a43",
   "metadata": {},
   "outputs": [
    {
     "data": {
      "text/plain": [
       "'alpha-3'"
      ]
     },
     "execution_count": 14,
     "metadata": {},
     "output_type": "execute_result"
    }
   ],
   "source": [
    "country_data_df.index.name"
   ]
  },
  {
   "cell_type": "code",
   "execution_count": 15,
   "id": "59684aa2-1651-42ab-82fa-94dbb1f2c6a8",
   "metadata": {},
   "outputs": [
    {
     "name": "stdout",
     "output_type": "stream",
     "text": [
      "0\n"
     ]
    }
   ],
   "source": [
    "print(country_data_df.duplicated().sum()) # are there any duplicates"
   ]
  },
  {
   "cell_type": "markdown",
   "id": "8d6ef626-2823-49f2-90e0-b362171e76d9",
   "metadata": {},
   "source": [
    "Some more data"
   ]
  },
  {
   "cell_type": "code",
   "execution_count": 16,
   "id": "60743c26-c9d9-412b-8c0a-9328cb2efd5b",
   "metadata": {},
   "outputs": [
    {
     "data": {
      "text/html": [
       "<div>\n",
       "<style scoped>\n",
       "    .dataframe tbody tr th:only-of-type {\n",
       "        vertical-align: middle;\n",
       "    }\n",
       "\n",
       "    .dataframe tbody tr th {\n",
       "        vertical-align: top;\n",
       "    }\n",
       "\n",
       "    .dataframe thead th {\n",
       "        text-align: right;\n",
       "    }\n",
       "</style>\n",
       "<table border=\"1\" class=\"dataframe\">\n",
       "  <thead>\n",
       "    <tr style=\"text-align: right;\">\n",
       "      <th></th>\n",
       "      <th>name</th>\n",
       "      <th>alpha-2</th>\n",
       "      <th>country-code</th>\n",
       "      <th>iso_3166-2</th>\n",
       "      <th>region</th>\n",
       "      <th>sub-region</th>\n",
       "      <th>intermediate-region</th>\n",
       "      <th>region-code</th>\n",
       "      <th>sub-region-code</th>\n",
       "      <th>intermediate-region-code</th>\n",
       "    </tr>\n",
       "    <tr>\n",
       "      <th>alpha-3</th>\n",
       "      <th></th>\n",
       "      <th></th>\n",
       "      <th></th>\n",
       "      <th></th>\n",
       "      <th></th>\n",
       "      <th></th>\n",
       "      <th></th>\n",
       "      <th></th>\n",
       "      <th></th>\n",
       "      <th></th>\n",
       "    </tr>\n",
       "  </thead>\n",
       "  <tbody>\n",
       "    <tr>\n",
       "      <th>AFG</th>\n",
       "      <td>Afghanistan</td>\n",
       "      <td>AF</td>\n",
       "      <td>4</td>\n",
       "      <td>ISO 3166-2:AF</td>\n",
       "      <td>Asia</td>\n",
       "      <td>Southern Asia</td>\n",
       "      <td>NaN</td>\n",
       "      <td>142.0</td>\n",
       "      <td>34.0</td>\n",
       "      <td>NaN</td>\n",
       "    </tr>\n",
       "    <tr>\n",
       "      <th>ALA</th>\n",
       "      <td>Åland Islands</td>\n",
       "      <td>AX</td>\n",
       "      <td>248</td>\n",
       "      <td>ISO 3166-2:AX</td>\n",
       "      <td>Europe</td>\n",
       "      <td>Northern Europe</td>\n",
       "      <td>NaN</td>\n",
       "      <td>150.0</td>\n",
       "      <td>154.0</td>\n",
       "      <td>NaN</td>\n",
       "    </tr>\n",
       "    <tr>\n",
       "      <th>ALB</th>\n",
       "      <td>Albania</td>\n",
       "      <td>AL</td>\n",
       "      <td>8</td>\n",
       "      <td>ISO 3166-2:AL</td>\n",
       "      <td>Europe</td>\n",
       "      <td>Southern Europe</td>\n",
       "      <td>NaN</td>\n",
       "      <td>150.0</td>\n",
       "      <td>39.0</td>\n",
       "      <td>NaN</td>\n",
       "    </tr>\n",
       "    <tr>\n",
       "      <th>DZA</th>\n",
       "      <td>Algeria</td>\n",
       "      <td>DZ</td>\n",
       "      <td>12</td>\n",
       "      <td>ISO 3166-2:DZ</td>\n",
       "      <td>Africa</td>\n",
       "      <td>Northern Africa</td>\n",
       "      <td>NaN</td>\n",
       "      <td>2.0</td>\n",
       "      <td>15.0</td>\n",
       "      <td>NaN</td>\n",
       "    </tr>\n",
       "    <tr>\n",
       "      <th>ASM</th>\n",
       "      <td>American Samoa</td>\n",
       "      <td>AS</td>\n",
       "      <td>16</td>\n",
       "      <td>ISO 3166-2:AS</td>\n",
       "      <td>Oceania</td>\n",
       "      <td>Polynesia</td>\n",
       "      <td>NaN</td>\n",
       "      <td>9.0</td>\n",
       "      <td>61.0</td>\n",
       "      <td>NaN</td>\n",
       "    </tr>\n",
       "  </tbody>\n",
       "</table>\n",
       "</div>"
      ],
      "text/plain": [
       "                   name alpha-2  country-code     iso_3166-2   region  \\\n",
       "alpha-3                                                                 \n",
       "AFG         Afghanistan      AF             4  ISO 3166-2:AF     Asia   \n",
       "ALA       Åland Islands      AX           248  ISO 3166-2:AX   Europe   \n",
       "ALB             Albania      AL             8  ISO 3166-2:AL   Europe   \n",
       "DZA             Algeria      DZ            12  ISO 3166-2:DZ   Africa   \n",
       "ASM      American Samoa      AS            16  ISO 3166-2:AS  Oceania   \n",
       "\n",
       "              sub-region intermediate-region  region-code  sub-region-code  \\\n",
       "alpha-3                                                                      \n",
       "AFG        Southern Asia                 NaN        142.0             34.0   \n",
       "ALA      Northern Europe                 NaN        150.0            154.0   \n",
       "ALB      Southern Europe                 NaN        150.0             39.0   \n",
       "DZA      Northern Africa                 NaN          2.0             15.0   \n",
       "ASM            Polynesia                 NaN          9.0             61.0   \n",
       "\n",
       "         intermediate-region-code  \n",
       "alpha-3                            \n",
       "AFG                           NaN  \n",
       "ALA                           NaN  \n",
       "ALB                           NaN  \n",
       "DZA                           NaN  \n",
       "ASM                           NaN  "
      ]
     },
     "execution_count": 16,
     "metadata": {},
     "output_type": "execute_result"
    }
   ],
   "source": [
    "country_data_df.head()"
   ]
  },
  {
   "cell_type": "markdown",
   "id": "1c378a79-3638-4a9b-87c6-4dcd56f8d1fd",
   "metadata": {},
   "source": [
    "Populations"
   ]
  },
  {
   "cell_type": "code",
   "execution_count": 17,
   "id": "5266469c-add4-441a-8d26-dcf33f5d1cb1",
   "metadata": {},
   "outputs": [
    {
     "name": "stdout",
     "output_type": "stream",
     "text": [
      "<class 'pandas.core.frame.DataFrame'>\n",
      "Index: 266 entries, ABW to ZWE\n",
      "Data columns (total 62 columns):\n",
      " #   Column      Non-Null Count  Dtype  \n",
      "---  ------      --------------  -----  \n",
      " 0   Unnamed: 0  266 non-null    int64  \n",
      " 1   1960        264 non-null    float64\n",
      " 2   1961        264 non-null    float64\n",
      " 3   1962        264 non-null    float64\n",
      " 4   1963        264 non-null    float64\n",
      " 5   1964        264 non-null    float64\n",
      " 6   1965        264 non-null    float64\n",
      " 7   1966        264 non-null    float64\n",
      " 8   1967        264 non-null    float64\n",
      " 9   1968        264 non-null    float64\n",
      " 10  1969        264 non-null    float64\n",
      " 11  1970        264 non-null    float64\n",
      " 12  1971        264 non-null    float64\n",
      " 13  1972        264 non-null    float64\n",
      " 14  1973        264 non-null    float64\n",
      " 15  1974        264 non-null    float64\n",
      " 16  1975        264 non-null    float64\n",
      " 17  1976        264 non-null    float64\n",
      " 18  1977        264 non-null    float64\n",
      " 19  1978        264 non-null    float64\n",
      " 20  1979        264 non-null    float64\n",
      " 21  1980        264 non-null    float64\n",
      " 22  1981        264 non-null    float64\n",
      " 23  1982        264 non-null    float64\n",
      " 24  1983        264 non-null    float64\n",
      " 25  1984        264 non-null    float64\n",
      " 26  1985        264 non-null    float64\n",
      " 27  1986        264 non-null    float64\n",
      " 28  1987        264 non-null    float64\n",
      " 29  1988        264 non-null    float64\n",
      " 30  1989        264 non-null    float64\n",
      " 31  1990        265 non-null    float64\n",
      " 32  1991        265 non-null    float64\n",
      " 33  1992        265 non-null    float64\n",
      " 34  1993        265 non-null    float64\n",
      " 35  1994        265 non-null    float64\n",
      " 36  1995        265 non-null    float64\n",
      " 37  1996        265 non-null    float64\n",
      " 38  1997        265 non-null    float64\n",
      " 39  1998        265 non-null    float64\n",
      " 40  1999        265 non-null    float64\n",
      " 41  2000        265 non-null    float64\n",
      " 42  2001        265 non-null    float64\n",
      " 43  2002        265 non-null    float64\n",
      " 44  2003        265 non-null    float64\n",
      " 45  2004        265 non-null    float64\n",
      " 46  2005        265 non-null    float64\n",
      " 47  2006        265 non-null    float64\n",
      " 48  2007        265 non-null    float64\n",
      " 49  2008        265 non-null    float64\n",
      " 50  2009        265 non-null    float64\n",
      " 51  2010        265 non-null    float64\n",
      " 52  2011        265 non-null    float64\n",
      " 53  2012        265 non-null    float64\n",
      " 54  2013        265 non-null    float64\n",
      " 55  2014        265 non-null    float64\n",
      " 56  2015        265 non-null    float64\n",
      " 57  2016        265 non-null    float64\n",
      " 58  2017        265 non-null    float64\n",
      " 59  2018        265 non-null    float64\n",
      " 60  2019        265 non-null    float64\n",
      " 61  2020        265 non-null    float64\n",
      "dtypes: float64(61), int64(1)\n",
      "memory usage: 130.9+ KB\n"
     ]
    }
   ],
   "source": [
    "pop_data_df.info()"
   ]
  },
  {
   "cell_type": "code",
   "execution_count": 18,
   "id": "5d97b281-e617-4271-8a6d-ceb49a52a4c4",
   "metadata": {},
   "outputs": [
    {
     "data": {
      "text/plain": [
       "'iso-3'"
      ]
     },
     "execution_count": 18,
     "metadata": {},
     "output_type": "execute_result"
    }
   ],
   "source": [
    "pop_data_df.index.name"
   ]
  },
  {
   "cell_type": "code",
   "execution_count": 19,
   "id": "fb722438-bb43-4133-9601-45ad610f89bb",
   "metadata": {},
   "outputs": [
    {
     "name": "stdout",
     "output_type": "stream",
     "text": [
      "0\n"
     ]
    }
   ],
   "source": [
    "print(pop_data_df.duplicated().sum())"
   ]
  },
  {
   "cell_type": "markdown",
   "id": "b2d4c777-6fbb-4db4-9714-25adbd2448db",
   "metadata": {},
   "source": [
    "Some more data"
   ]
  },
  {
   "cell_type": "code",
   "execution_count": 20,
   "id": "bb9c7dea-9324-4673-9e6a-13a4f5153849",
   "metadata": {},
   "outputs": [
    {
     "data": {
      "text/html": [
       "<div>\n",
       "<style scoped>\n",
       "    .dataframe tbody tr th:only-of-type {\n",
       "        vertical-align: middle;\n",
       "    }\n",
       "\n",
       "    .dataframe tbody tr th {\n",
       "        vertical-align: top;\n",
       "    }\n",
       "\n",
       "    .dataframe thead th {\n",
       "        text-align: right;\n",
       "    }\n",
       "</style>\n",
       "<table border=\"1\" class=\"dataframe\">\n",
       "  <thead>\n",
       "    <tr style=\"text-align: right;\">\n",
       "      <th></th>\n",
       "      <th>Unnamed: 0</th>\n",
       "      <th>1960</th>\n",
       "      <th>1961</th>\n",
       "      <th>1962</th>\n",
       "      <th>1963</th>\n",
       "      <th>1964</th>\n",
       "      <th>1965</th>\n",
       "      <th>1966</th>\n",
       "      <th>1967</th>\n",
       "      <th>1968</th>\n",
       "      <th>1969</th>\n",
       "      <th>1970</th>\n",
       "      <th>1971</th>\n",
       "      <th>1972</th>\n",
       "      <th>1973</th>\n",
       "      <th>1974</th>\n",
       "      <th>1975</th>\n",
       "      <th>1976</th>\n",
       "      <th>1977</th>\n",
       "      <th>1978</th>\n",
       "      <th>1979</th>\n",
       "      <th>1980</th>\n",
       "      <th>1981</th>\n",
       "      <th>1982</th>\n",
       "      <th>1983</th>\n",
       "      <th>1984</th>\n",
       "      <th>1985</th>\n",
       "      <th>1986</th>\n",
       "      <th>1987</th>\n",
       "      <th>1988</th>\n",
       "      <th>1989</th>\n",
       "      <th>1990</th>\n",
       "      <th>1991</th>\n",
       "      <th>1992</th>\n",
       "      <th>1993</th>\n",
       "      <th>1994</th>\n",
       "      <th>1995</th>\n",
       "      <th>1996</th>\n",
       "      <th>1997</th>\n",
       "      <th>1998</th>\n",
       "      <th>1999</th>\n",
       "      <th>2000</th>\n",
       "      <th>2001</th>\n",
       "      <th>2002</th>\n",
       "      <th>2003</th>\n",
       "      <th>2004</th>\n",
       "      <th>2005</th>\n",
       "      <th>2006</th>\n",
       "      <th>2007</th>\n",
       "      <th>2008</th>\n",
       "      <th>2009</th>\n",
       "      <th>2010</th>\n",
       "      <th>2011</th>\n",
       "      <th>2012</th>\n",
       "      <th>2013</th>\n",
       "      <th>2014</th>\n",
       "      <th>2015</th>\n",
       "      <th>2016</th>\n",
       "      <th>2017</th>\n",
       "      <th>2018</th>\n",
       "      <th>2019</th>\n",
       "      <th>2020</th>\n",
       "    </tr>\n",
       "    <tr>\n",
       "      <th>iso-3</th>\n",
       "      <th></th>\n",
       "      <th></th>\n",
       "      <th></th>\n",
       "      <th></th>\n",
       "      <th></th>\n",
       "      <th></th>\n",
       "      <th></th>\n",
       "      <th></th>\n",
       "      <th></th>\n",
       "      <th></th>\n",
       "      <th></th>\n",
       "      <th></th>\n",
       "      <th></th>\n",
       "      <th></th>\n",
       "      <th></th>\n",
       "      <th></th>\n",
       "      <th></th>\n",
       "      <th></th>\n",
       "      <th></th>\n",
       "      <th></th>\n",
       "      <th></th>\n",
       "      <th></th>\n",
       "      <th></th>\n",
       "      <th></th>\n",
       "      <th></th>\n",
       "      <th></th>\n",
       "      <th></th>\n",
       "      <th></th>\n",
       "      <th></th>\n",
       "      <th></th>\n",
       "      <th></th>\n",
       "      <th></th>\n",
       "      <th></th>\n",
       "      <th></th>\n",
       "      <th></th>\n",
       "      <th></th>\n",
       "      <th></th>\n",
       "      <th></th>\n",
       "      <th></th>\n",
       "      <th></th>\n",
       "      <th></th>\n",
       "      <th></th>\n",
       "      <th></th>\n",
       "      <th></th>\n",
       "      <th></th>\n",
       "      <th></th>\n",
       "      <th></th>\n",
       "      <th></th>\n",
       "      <th></th>\n",
       "      <th></th>\n",
       "      <th></th>\n",
       "      <th></th>\n",
       "      <th></th>\n",
       "      <th></th>\n",
       "      <th></th>\n",
       "      <th></th>\n",
       "      <th></th>\n",
       "      <th></th>\n",
       "      <th></th>\n",
       "      <th></th>\n",
       "      <th></th>\n",
       "      <th></th>\n",
       "    </tr>\n",
       "  </thead>\n",
       "  <tbody>\n",
       "    <tr>\n",
       "      <th>XKX</th>\n",
       "      <td>261</td>\n",
       "      <td>947000.0</td>\n",
       "      <td>966000.0</td>\n",
       "      <td>994000.0</td>\n",
       "      <td>1022000.0</td>\n",
       "      <td>1050000.0</td>\n",
       "      <td>1078000.0</td>\n",
       "      <td>1106000.0</td>\n",
       "      <td>1135000.0</td>\n",
       "      <td>1163000.0</td>\n",
       "      <td>1191000.0</td>\n",
       "      <td>1219000.0</td>\n",
       "      <td>1247000.0</td>\n",
       "      <td>1278000.0</td>\n",
       "      <td>1308000.0</td>\n",
       "      <td>1339000.0</td>\n",
       "      <td>1369000.0</td>\n",
       "      <td>1400000.0</td>\n",
       "      <td>1430000.0</td>\n",
       "      <td>1460000.0</td>\n",
       "      <td>1491000.0</td>\n",
       "      <td>1521000.0</td>\n",
       "      <td>1552000.0</td>\n",
       "      <td>1582000.0</td>\n",
       "      <td>1614000.0</td>\n",
       "      <td>1647000.0</td>\n",
       "      <td>1682000.0</td>\n",
       "      <td>1717000.0</td>\n",
       "      <td>1753000.0</td>\n",
       "      <td>1791000.0</td>\n",
       "      <td>1827000.0</td>\n",
       "      <td>1862000.0</td>\n",
       "      <td>1898000.0</td>\n",
       "      <td>1932000.0</td>\n",
       "      <td>1965000.0</td>\n",
       "      <td>1997000.0</td>\n",
       "      <td>2029000.0</td>\n",
       "      <td>2059000.0</td>\n",
       "      <td>2086000.0</td>\n",
       "      <td>1966000.0</td>\n",
       "      <td>1762000.0</td>\n",
       "      <td>1700000.0</td>\n",
       "      <td>1701154.0</td>\n",
       "      <td>1702310.0</td>\n",
       "      <td>1703466.0</td>\n",
       "      <td>1704622.0</td>\n",
       "      <td>1705780.0</td>\n",
       "      <td>1719536.0</td>\n",
       "      <td>1733404.0</td>\n",
       "      <td>1747383.0</td>\n",
       "      <td>1761474.0</td>\n",
       "      <td>1775680.0</td>\n",
       "      <td>1791000.0</td>\n",
       "      <td>1807106.0</td>\n",
       "      <td>1818117.0</td>\n",
       "      <td>1812771.0</td>\n",
       "      <td>1788196.0</td>\n",
       "      <td>1777557.0</td>\n",
       "      <td>1791003.0</td>\n",
       "      <td>1797085.0</td>\n",
       "      <td>1788878.0</td>\n",
       "      <td>1790133.0</td>\n",
       "    </tr>\n",
       "    <tr>\n",
       "      <th>YEM</th>\n",
       "      <td>262</td>\n",
       "      <td>5542459.0</td>\n",
       "      <td>5646668.0</td>\n",
       "      <td>5753386.0</td>\n",
       "      <td>5860197.0</td>\n",
       "      <td>5973803.0</td>\n",
       "      <td>6097298.0</td>\n",
       "      <td>6228430.0</td>\n",
       "      <td>6368014.0</td>\n",
       "      <td>6515904.0</td>\n",
       "      <td>6673981.0</td>\n",
       "      <td>6843607.0</td>\n",
       "      <td>7024196.0</td>\n",
       "      <td>7215835.0</td>\n",
       "      <td>7417736.0</td>\n",
       "      <td>7630190.0</td>\n",
       "      <td>7855657.0</td>\n",
       "      <td>8094985.0</td>\n",
       "      <td>8348182.0</td>\n",
       "      <td>8615301.0</td>\n",
       "      <td>8899922.0</td>\n",
       "      <td>9204938.0</td>\n",
       "      <td>9529105.0</td>\n",
       "      <td>9872292.0</td>\n",
       "      <td>10237391.0</td>\n",
       "      <td>10625687.0</td>\n",
       "      <td>11036918.0</td>\n",
       "      <td>11465444.0</td>\n",
       "      <td>11915563.0</td>\n",
       "      <td>12387238.0</td>\n",
       "      <td>12872362.0</td>\n",
       "      <td>13375121.0</td>\n",
       "      <td>13895851.0</td>\n",
       "      <td>14433771.0</td>\n",
       "      <td>14988047.0</td>\n",
       "      <td>15553171.0</td>\n",
       "      <td>16103339.0</td>\n",
       "      <td>16614326.0</td>\n",
       "      <td>17108681.0</td>\n",
       "      <td>17608133.0</td>\n",
       "      <td>18114552.0</td>\n",
       "      <td>18628700.0</td>\n",
       "      <td>19143457.0</td>\n",
       "      <td>19660653.0</td>\n",
       "      <td>20188799.0</td>\n",
       "      <td>20733406.0</td>\n",
       "      <td>21320671.0</td>\n",
       "      <td>21966298.0</td>\n",
       "      <td>22641538.0</td>\n",
       "      <td>23329004.0</td>\n",
       "      <td>24029589.0</td>\n",
       "      <td>24743946.0</td>\n",
       "      <td>25475610.0</td>\n",
       "      <td>26223391.0</td>\n",
       "      <td>26984002.0</td>\n",
       "      <td>27753304.0</td>\n",
       "      <td>28516545.0</td>\n",
       "      <td>29274002.0</td>\n",
       "      <td>30034389.0</td>\n",
       "      <td>30790513.0</td>\n",
       "      <td>31546691.0</td>\n",
       "      <td>32284046.0</td>\n",
       "    </tr>\n",
       "    <tr>\n",
       "      <th>ZAF</th>\n",
       "      <td>263</td>\n",
       "      <td>16520441.0</td>\n",
       "      <td>16989464.0</td>\n",
       "      <td>17503133.0</td>\n",
       "      <td>18042215.0</td>\n",
       "      <td>18603097.0</td>\n",
       "      <td>19187194.0</td>\n",
       "      <td>19789771.0</td>\n",
       "      <td>20410677.0</td>\n",
       "      <td>21050540.0</td>\n",
       "      <td>21704214.0</td>\n",
       "      <td>22368306.0</td>\n",
       "      <td>23031441.0</td>\n",
       "      <td>23698507.0</td>\n",
       "      <td>24382513.0</td>\n",
       "      <td>25077016.0</td>\n",
       "      <td>25777964.0</td>\n",
       "      <td>26480300.0</td>\n",
       "      <td>27199838.0</td>\n",
       "      <td>27943445.0</td>\n",
       "      <td>28697014.0</td>\n",
       "      <td>29463549.0</td>\n",
       "      <td>30232561.0</td>\n",
       "      <td>31022417.0</td>\n",
       "      <td>31865176.0</td>\n",
       "      <td>32768207.0</td>\n",
       "      <td>33752964.0</td>\n",
       "      <td>34877834.0</td>\n",
       "      <td>36119333.0</td>\n",
       "      <td>37393853.0</td>\n",
       "      <td>38668684.0</td>\n",
       "      <td>39877570.0</td>\n",
       "      <td>40910959.0</td>\n",
       "      <td>41760755.0</td>\n",
       "      <td>42525440.0</td>\n",
       "      <td>43267982.0</td>\n",
       "      <td>43986084.0</td>\n",
       "      <td>44661603.0</td>\n",
       "      <td>45285048.0</td>\n",
       "      <td>45852166.0</td>\n",
       "      <td>46364681.0</td>\n",
       "      <td>46813266.0</td>\n",
       "      <td>47229714.0</td>\n",
       "      <td>47661514.0</td>\n",
       "      <td>48104048.0</td>\n",
       "      <td>48556071.0</td>\n",
       "      <td>49017147.0</td>\n",
       "      <td>49491756.0</td>\n",
       "      <td>49996094.0</td>\n",
       "      <td>50565812.0</td>\n",
       "      <td>51170779.0</td>\n",
       "      <td>51784921.0</td>\n",
       "      <td>52443325.0</td>\n",
       "      <td>53145033.0</td>\n",
       "      <td>53873616.0</td>\n",
       "      <td>54729551.0</td>\n",
       "      <td>55876504.0</td>\n",
       "      <td>56422274.0</td>\n",
       "      <td>56641209.0</td>\n",
       "      <td>57339635.0</td>\n",
       "      <td>58087055.0</td>\n",
       "      <td>58801927.0</td>\n",
       "    </tr>\n",
       "    <tr>\n",
       "      <th>ZMB</th>\n",
       "      <td>264</td>\n",
       "      <td>3119430.0</td>\n",
       "      <td>3219451.0</td>\n",
       "      <td>3323427.0</td>\n",
       "      <td>3431381.0</td>\n",
       "      <td>3542764.0</td>\n",
       "      <td>3658024.0</td>\n",
       "      <td>3777680.0</td>\n",
       "      <td>3901288.0</td>\n",
       "      <td>4029173.0</td>\n",
       "      <td>4159007.0</td>\n",
       "      <td>4281671.0</td>\n",
       "      <td>4399919.0</td>\n",
       "      <td>4523581.0</td>\n",
       "      <td>4653289.0</td>\n",
       "      <td>4789038.0</td>\n",
       "      <td>4931249.0</td>\n",
       "      <td>5079672.0</td>\n",
       "      <td>5233292.0</td>\n",
       "      <td>5391355.0</td>\n",
       "      <td>5553462.0</td>\n",
       "      <td>5720438.0</td>\n",
       "      <td>5897481.0</td>\n",
       "      <td>6090818.0</td>\n",
       "      <td>6291070.0</td>\n",
       "      <td>6488072.0</td>\n",
       "      <td>6686449.0</td>\n",
       "      <td>6890967.0</td>\n",
       "      <td>7095185.0</td>\n",
       "      <td>7294325.0</td>\n",
       "      <td>7491275.0</td>\n",
       "      <td>7686401.0</td>\n",
       "      <td>7880466.0</td>\n",
       "      <td>8074337.0</td>\n",
       "      <td>8270917.0</td>\n",
       "      <td>8474216.0</td>\n",
       "      <td>8684135.0</td>\n",
       "      <td>8902019.0</td>\n",
       "      <td>9133156.0</td>\n",
       "      <td>9372430.0</td>\n",
       "      <td>9621238.0</td>\n",
       "      <td>9891136.0</td>\n",
       "      <td>10191964.0</td>\n",
       "      <td>10508294.0</td>\n",
       "      <td>10837973.0</td>\n",
       "      <td>11188040.0</td>\n",
       "      <td>11564870.0</td>\n",
       "      <td>11971567.0</td>\n",
       "      <td>12402073.0</td>\n",
       "      <td>12852966.0</td>\n",
       "      <td>13318087.0</td>\n",
       "      <td>13792086.0</td>\n",
       "      <td>14265814.0</td>\n",
       "      <td>14744658.0</td>\n",
       "      <td>15234976.0</td>\n",
       "      <td>15737793.0</td>\n",
       "      <td>16248230.0</td>\n",
       "      <td>16767761.0</td>\n",
       "      <td>17298054.0</td>\n",
       "      <td>17835893.0</td>\n",
       "      <td>18380477.0</td>\n",
       "      <td>18927715.0</td>\n",
       "    </tr>\n",
       "    <tr>\n",
       "      <th>ZWE</th>\n",
       "      <td>265</td>\n",
       "      <td>3806310.0</td>\n",
       "      <td>3925952.0</td>\n",
       "      <td>4049778.0</td>\n",
       "      <td>4177931.0</td>\n",
       "      <td>4310332.0</td>\n",
       "      <td>4447149.0</td>\n",
       "      <td>4588529.0</td>\n",
       "      <td>4734694.0</td>\n",
       "      <td>4886347.0</td>\n",
       "      <td>5044163.0</td>\n",
       "      <td>5202918.0</td>\n",
       "      <td>5363423.0</td>\n",
       "      <td>5532842.0</td>\n",
       "      <td>5712712.0</td>\n",
       "      <td>5903530.0</td>\n",
       "      <td>6097083.0</td>\n",
       "      <td>6288387.0</td>\n",
       "      <td>6453044.0</td>\n",
       "      <td>6549349.0</td>\n",
       "      <td>6655833.0</td>\n",
       "      <td>7049926.0</td>\n",
       "      <td>7506526.0</td>\n",
       "      <td>7803855.0</td>\n",
       "      <td>8106356.0</td>\n",
       "      <td>8398567.0</td>\n",
       "      <td>8690515.0</td>\n",
       "      <td>8983044.0</td>\n",
       "      <td>9277488.0</td>\n",
       "      <td>9568739.0</td>\n",
       "      <td>9846346.0</td>\n",
       "      <td>10113893.0</td>\n",
       "      <td>10377815.0</td>\n",
       "      <td>10641501.0</td>\n",
       "      <td>10794918.0</td>\n",
       "      <td>10858594.0</td>\n",
       "      <td>10994041.0</td>\n",
       "      <td>11178171.0</td>\n",
       "      <td>11362401.0</td>\n",
       "      <td>11548364.0</td>\n",
       "      <td>11716454.0</td>\n",
       "      <td>11834676.0</td>\n",
       "      <td>11910978.0</td>\n",
       "      <td>11984644.0</td>\n",
       "      <td>12075828.0</td>\n",
       "      <td>12160881.0</td>\n",
       "      <td>12224753.0</td>\n",
       "      <td>12330490.0</td>\n",
       "      <td>12450568.0</td>\n",
       "      <td>12550347.0</td>\n",
       "      <td>12679810.0</td>\n",
       "      <td>12839771.0</td>\n",
       "      <td>13025785.0</td>\n",
       "      <td>13265331.0</td>\n",
       "      <td>13555422.0</td>\n",
       "      <td>13855753.0</td>\n",
       "      <td>14154937.0</td>\n",
       "      <td>14452704.0</td>\n",
       "      <td>14751101.0</td>\n",
       "      <td>15052184.0</td>\n",
       "      <td>15354608.0</td>\n",
       "      <td>15669666.0</td>\n",
       "    </tr>\n",
       "  </tbody>\n",
       "</table>\n",
       "</div>"
      ],
      "text/plain": [
       "       Unnamed: 0        1960        1961        1962        1963        1964  \\\n",
       "iso-3                                                                           \n",
       "XKX           261    947000.0    966000.0    994000.0   1022000.0   1050000.0   \n",
       "YEM           262   5542459.0   5646668.0   5753386.0   5860197.0   5973803.0   \n",
       "ZAF           263  16520441.0  16989464.0  17503133.0  18042215.0  18603097.0   \n",
       "ZMB           264   3119430.0   3219451.0   3323427.0   3431381.0   3542764.0   \n",
       "ZWE           265   3806310.0   3925952.0   4049778.0   4177931.0   4310332.0   \n",
       "\n",
       "             1965        1966        1967        1968        1969        1970  \\\n",
       "iso-3                                                                           \n",
       "XKX     1078000.0   1106000.0   1135000.0   1163000.0   1191000.0   1219000.0   \n",
       "YEM     6097298.0   6228430.0   6368014.0   6515904.0   6673981.0   6843607.0   \n",
       "ZAF    19187194.0  19789771.0  20410677.0  21050540.0  21704214.0  22368306.0   \n",
       "ZMB     3658024.0   3777680.0   3901288.0   4029173.0   4159007.0   4281671.0   \n",
       "ZWE     4447149.0   4588529.0   4734694.0   4886347.0   5044163.0   5202918.0   \n",
       "\n",
       "             1971        1972        1973        1974        1975        1976  \\\n",
       "iso-3                                                                           \n",
       "XKX     1247000.0   1278000.0   1308000.0   1339000.0   1369000.0   1400000.0   \n",
       "YEM     7024196.0   7215835.0   7417736.0   7630190.0   7855657.0   8094985.0   \n",
       "ZAF    23031441.0  23698507.0  24382513.0  25077016.0  25777964.0  26480300.0   \n",
       "ZMB     4399919.0   4523581.0   4653289.0   4789038.0   4931249.0   5079672.0   \n",
       "ZWE     5363423.0   5532842.0   5712712.0   5903530.0   6097083.0   6288387.0   \n",
       "\n",
       "             1977        1978        1979        1980        1981        1982  \\\n",
       "iso-3                                                                           \n",
       "XKX     1430000.0   1460000.0   1491000.0   1521000.0   1552000.0   1582000.0   \n",
       "YEM     8348182.0   8615301.0   8899922.0   9204938.0   9529105.0   9872292.0   \n",
       "ZAF    27199838.0  27943445.0  28697014.0  29463549.0  30232561.0  31022417.0   \n",
       "ZMB     5233292.0   5391355.0   5553462.0   5720438.0   5897481.0   6090818.0   \n",
       "ZWE     6453044.0   6549349.0   6655833.0   7049926.0   7506526.0   7803855.0   \n",
       "\n",
       "             1983        1984        1985        1986        1987        1988  \\\n",
       "iso-3                                                                           \n",
       "XKX     1614000.0   1647000.0   1682000.0   1717000.0   1753000.0   1791000.0   \n",
       "YEM    10237391.0  10625687.0  11036918.0  11465444.0  11915563.0  12387238.0   \n",
       "ZAF    31865176.0  32768207.0  33752964.0  34877834.0  36119333.0  37393853.0   \n",
       "ZMB     6291070.0   6488072.0   6686449.0   6890967.0   7095185.0   7294325.0   \n",
       "ZWE     8106356.0   8398567.0   8690515.0   8983044.0   9277488.0   9568739.0   \n",
       "\n",
       "             1989        1990        1991        1992        1993        1994  \\\n",
       "iso-3                                                                           \n",
       "XKX     1827000.0   1862000.0   1898000.0   1932000.0   1965000.0   1997000.0   \n",
       "YEM    12872362.0  13375121.0  13895851.0  14433771.0  14988047.0  15553171.0   \n",
       "ZAF    38668684.0  39877570.0  40910959.0  41760755.0  42525440.0  43267982.0   \n",
       "ZMB     7491275.0   7686401.0   7880466.0   8074337.0   8270917.0   8474216.0   \n",
       "ZWE     9846346.0  10113893.0  10377815.0  10641501.0  10794918.0  10858594.0   \n",
       "\n",
       "             1995        1996        1997        1998        1999        2000  \\\n",
       "iso-3                                                                           \n",
       "XKX     2029000.0   2059000.0   2086000.0   1966000.0   1762000.0   1700000.0   \n",
       "YEM    16103339.0  16614326.0  17108681.0  17608133.0  18114552.0  18628700.0   \n",
       "ZAF    43986084.0  44661603.0  45285048.0  45852166.0  46364681.0  46813266.0   \n",
       "ZMB     8684135.0   8902019.0   9133156.0   9372430.0   9621238.0   9891136.0   \n",
       "ZWE    10994041.0  11178171.0  11362401.0  11548364.0  11716454.0  11834676.0   \n",
       "\n",
       "             2001        2002        2003        2004        2005        2006  \\\n",
       "iso-3                                                                           \n",
       "XKX     1701154.0   1702310.0   1703466.0   1704622.0   1705780.0   1719536.0   \n",
       "YEM    19143457.0  19660653.0  20188799.0  20733406.0  21320671.0  21966298.0   \n",
       "ZAF    47229714.0  47661514.0  48104048.0  48556071.0  49017147.0  49491756.0   \n",
       "ZMB    10191964.0  10508294.0  10837973.0  11188040.0  11564870.0  11971567.0   \n",
       "ZWE    11910978.0  11984644.0  12075828.0  12160881.0  12224753.0  12330490.0   \n",
       "\n",
       "             2007        2008        2009        2010        2011        2012  \\\n",
       "iso-3                                                                           \n",
       "XKX     1733404.0   1747383.0   1761474.0   1775680.0   1791000.0   1807106.0   \n",
       "YEM    22641538.0  23329004.0  24029589.0  24743946.0  25475610.0  26223391.0   \n",
       "ZAF    49996094.0  50565812.0  51170779.0  51784921.0  52443325.0  53145033.0   \n",
       "ZMB    12402073.0  12852966.0  13318087.0  13792086.0  14265814.0  14744658.0   \n",
       "ZWE    12450568.0  12550347.0  12679810.0  12839771.0  13025785.0  13265331.0   \n",
       "\n",
       "             2013        2014        2015        2016        2017        2018  \\\n",
       "iso-3                                                                           \n",
       "XKX     1818117.0   1812771.0   1788196.0   1777557.0   1791003.0   1797085.0   \n",
       "YEM    26984002.0  27753304.0  28516545.0  29274002.0  30034389.0  30790513.0   \n",
       "ZAF    53873616.0  54729551.0  55876504.0  56422274.0  56641209.0  57339635.0   \n",
       "ZMB    15234976.0  15737793.0  16248230.0  16767761.0  17298054.0  17835893.0   \n",
       "ZWE    13555422.0  13855753.0  14154937.0  14452704.0  14751101.0  15052184.0   \n",
       "\n",
       "             2019        2020  \n",
       "iso-3                          \n",
       "XKX     1788878.0   1790133.0  \n",
       "YEM    31546691.0  32284046.0  \n",
       "ZAF    58087055.0  58801927.0  \n",
       "ZMB    18380477.0  18927715.0  \n",
       "ZWE    15354608.0  15669666.0  "
      ]
     },
     "execution_count": 20,
     "metadata": {},
     "output_type": "execute_result"
    }
   ],
   "source": [
    "pop_data_df.tail()"
   ]
  },
  {
   "cell_type": "markdown",
   "id": "dac9b7dc-5cdb-4091-8c2d-eba9d1c42ec6",
   "metadata": {},
   "source": [
    "\n",
    "#### Cleaning data\n"
   ]
  },
  {
   "cell_type": "markdown",
   "id": "c81c4b58-1ab2-4f5e-ad38-8fa5816ec932",
   "metadata": {},
   "source": [
    "We know that the data in **cleaned_cell_phones_total_df** is cleaned already."
   ]
  },
  {
   "cell_type": "markdown",
   "id": "98d92ddd-c078-4ebc-9453-70d956f442e4",
   "metadata": {},
   "source": [
    "In **country_data_df** there are many null values. To save a lot of work and time, it would be good to only clean data that will be needed to solve the assignment."
   ]
  },
  {
   "cell_type": "markdown",
   "id": "ff85e018-189e-47b5-a472-7315b43cfd47",
   "metadata": {},
   "source": [
    "It seems that only the index **alpha-3** and **name** column will be used. The column has no null values, but its Dtype is object. Converting this to Dtype string would be beneficial."
   ]
  },
  {
   "cell_type": "markdown",
   "id": "1b7b492d-7db0-4c80-89eb-1e01ca645928",
   "metadata": {},
   "source": [
    "First, make a deep copy of country_data_df."
   ]
  },
  {
   "cell_type": "code",
   "execution_count": 21,
   "id": "2092bee1-651f-4944-96a5-88d1450cc79d",
   "metadata": {},
   "outputs": [],
   "source": [
    "name_strings_country_data_df = country_data_df.copy()"
   ]
  },
  {
   "cell_type": "markdown",
   "id": "ca2f5f03-632e-4cc5-a469-63526c3c73aa",
   "metadata": {},
   "source": [
    "Now, convert the values in the name column to strings."
   ]
  },
  {
   "cell_type": "code",
   "execution_count": 22,
   "id": "2a41456b-a613-49d4-a419-01a1b7a261d7",
   "metadata": {},
   "outputs": [],
   "source": [
    "name_strings_country_data_df['name'] = country_data_df['name'].astype(\"string\")"
   ]
  },
  {
   "cell_type": "code",
   "execution_count": 23,
   "id": "e6230f25-575a-4c72-9c1f-aa5e771bd7ff",
   "metadata": {},
   "outputs": [
    {
     "name": "stdout",
     "output_type": "stream",
     "text": [
      "<class 'pandas.core.frame.DataFrame'>\n",
      "Index: 249 entries, AFG to ZWE\n",
      "Data columns (total 10 columns):\n",
      " #   Column                    Non-Null Count  Dtype  \n",
      "---  ------                    --------------  -----  \n",
      " 0   name                      249 non-null    string \n",
      " 1   alpha-2                   248 non-null    object \n",
      " 2   country-code              249 non-null    int64  \n",
      " 3   iso_3166-2                249 non-null    object \n",
      " 4   region                    248 non-null    object \n",
      " 5   sub-region                248 non-null    object \n",
      " 6   intermediate-region       107 non-null    object \n",
      " 7   region-code               248 non-null    float64\n",
      " 8   sub-region-code           248 non-null    float64\n",
      " 9   intermediate-region-code  107 non-null    float64\n",
      "dtypes: float64(3), int64(1), object(5), string(1)\n",
      "memory usage: 21.4+ KB\n"
     ]
    }
   ],
   "source": [
    "name_strings_country_data_df.info()"
   ]
  },
  {
   "cell_type": "markdown",
   "id": "50912c60-dbf5-400e-8e8c-00e18d5e97bb",
   "metadata": {},
   "source": [
    "In **pop_data_df** there is a column we don´t need, so we drop it."
   ]
  },
  {
   "cell_type": "code",
   "execution_count": 24,
   "id": "5df355e1-d3c3-4876-abfd-23e38a94ecd0",
   "metadata": {},
   "outputs": [],
   "source": [
    "# pop_data_df.columns"
   ]
  },
  {
   "cell_type": "code",
   "execution_count": 25,
   "id": "60af4e36-a311-42f4-b2cc-2f33ceb07a00",
   "metadata": {},
   "outputs": [],
   "source": [
    "dropped_pop_data_df = pop_data_df.drop(columns='Unnamed: 0')"
   ]
  },
  {
   "cell_type": "code",
   "execution_count": 26,
   "id": "2251f7e1-3c45-4eff-91d7-6ac312864c3d",
   "metadata": {},
   "outputs": [],
   "source": [
    "# dropped_pop_data_df.info()"
   ]
  },
  {
   "cell_type": "markdown",
   "id": "9fba7372-6ccc-474d-b6ef-4667533a04b5",
   "metadata": {},
   "source": [
    "\n",
    "#### Merge dataframes\n"
   ]
  },
  {
   "cell_type": "markdown",
   "id": "6615b9ba-e283-41e9-9a0b-c828f25cf0d5",
   "metadata": {},
   "source": [
    "To create the first table in the assignment we can join, merge, cleaned_cell_phones_total_df and pop_data_df. Since there are fewer countries \n",
    "in cleaned_cell_phones_total_df, 214, than in pop_data_df, 266, we will make an inner join that only includes the countries where we have data \n",
    "both on the number of cellphones and the sizes of the populations. \n",
    "\n",
    "There are also fewer years in cleaned_cell_phones_total_df, 56, than in dropped_pop_data_df, 61, which also motivates an inner join.\n",
    "\n",
    "For every year in pop_data_df there is one or two countries that have no value. It is first after the join that we can find out if some of the\n",
    "included countries is affected by missing values."
   ]
  },
  {
   "cell_type": "markdown",
   "id": "43571a41-476c-4b19-8e10-d571cb784204",
   "metadata": {},
   "source": [
    "To get the right format for the first table we have to make multi-indices, 'iso-3' and 'year', on both dataframes."
   ]
  },
  {
   "cell_type": "code",
   "execution_count": 27,
   "id": "9d9063f0-6eb3-4663-a9fa-35d21e661e39",
   "metadata": {},
   "outputs": [],
   "source": [
    "stacked_cleaned_cell_phones_total_df = cleaned_cell_phones_total_df.stack()"
   ]
  },
  {
   "cell_type": "code",
   "execution_count": 28,
   "id": "6b7ef075-d9c2-4c72-824e-10f493873e05",
   "metadata": {},
   "outputs": [
    {
     "name": "stdout",
     "output_type": "stream",
     "text": [
      "<class 'pandas.core.series.Series'>\n",
      "MultiIndex: 11984 entries, ('ABW', '1960') to ('ZWE', '2019')\n",
      "Series name: None\n",
      "Non-Null Count  Dtype  \n",
      "--------------  -----  \n",
      "11984 non-null  float64\n",
      "dtypes: float64(1)\n",
      "memory usage: 141.1+ KB\n"
     ]
    }
   ],
   "source": [
    "stacked_cleaned_cell_phones_total_df.info()"
   ]
  },
  {
   "cell_type": "code",
   "execution_count": 29,
   "id": "f9ce158b-5feb-498d-90b2-35fdb918a400",
   "metadata": {},
   "outputs": [],
   "source": [
    "# stacked_cleaned_cell_phones_total_df.index.names"
   ]
  },
  {
   "cell_type": "code",
   "execution_count": 30,
   "id": "44880ca3-427f-440a-a410-7bb6b622f9a2",
   "metadata": {},
   "outputs": [],
   "source": [
    "stacked_cleaned_cell_phones_total_df.index.names = ['iso-3', 'year']"
   ]
  },
  {
   "cell_type": "code",
   "execution_count": 31,
   "id": "6d4e7439-9120-444d-a37e-3b969abc07ea",
   "metadata": {},
   "outputs": [],
   "source": [
    "# stacked_cleaned_cell_phones_total_df.columns.name = ['n_cellphones']"
   ]
  },
  {
   "cell_type": "code",
   "execution_count": 32,
   "id": "69e83bed-9f6b-4075-93fc-7ce94459991b",
   "metadata": {},
   "outputs": [
    {
     "data": {
      "text/plain": [
       "iso-3  year\n",
       "ABW    1960    0.0\n",
       "       1965    0.0\n",
       "       1966    0.0\n",
       "       1967    0.0\n",
       "       1968    0.0\n",
       "dtype: float64"
      ]
     },
     "execution_count": 32,
     "metadata": {},
     "output_type": "execute_result"
    }
   ],
   "source": [
    "stacked_cleaned_cell_phones_total_df.head()"
   ]
  },
  {
   "cell_type": "code",
   "execution_count": 33,
   "id": "d5b3f2ab-614a-4bee-824c-df38e65ed60e",
   "metadata": {},
   "outputs": [
    {
     "data": {
      "text/plain": [
       "iso-3  year\n",
       "ZWE    2015    12800000.0\n",
       "       2016    12900000.0\n",
       "       2017    14100000.0\n",
       "       2018    12900000.0\n",
       "       2019    13200000.0\n",
       "dtype: float64"
      ]
     },
     "execution_count": 33,
     "metadata": {},
     "output_type": "execute_result"
    }
   ],
   "source": [
    "stacked_cleaned_cell_phones_total_df.tail()"
   ]
  },
  {
   "cell_type": "code",
   "execution_count": 34,
   "id": "940afe47-3ae8-44df-a42e-73f8db31bade",
   "metadata": {},
   "outputs": [],
   "source": [
    "stacked_dropped_pop_data_df = dropped_pop_data_df.stack()"
   ]
  },
  {
   "cell_type": "code",
   "execution_count": 35,
   "id": "067f242c-ee19-43ea-ab54-83165b015318",
   "metadata": {},
   "outputs": [
    {
     "name": "stdout",
     "output_type": "stream",
     "text": [
      "<class 'pandas.core.series.Series'>\n",
      "MultiIndex: 16135 entries, ('ABW', '1960') to ('ZWE', '2020')\n",
      "Series name: None\n",
      "Non-Null Count  Dtype  \n",
      "--------------  -----  \n",
      "16135 non-null  float64\n",
      "dtypes: float64(1)\n",
      "memory usage: 186.1+ KB\n"
     ]
    }
   ],
   "source": [
    "stacked_dropped_pop_data_df.info()"
   ]
  },
  {
   "cell_type": "code",
   "execution_count": 36,
   "id": "8b6ea68f-29bf-4e60-81d5-a4e3e6ad545e",
   "metadata": {},
   "outputs": [],
   "source": [
    "stacked_dropped_pop_data_df.index.names = ['iso-3', 'year']"
   ]
  },
  {
   "cell_type": "code",
   "execution_count": 37,
   "id": "48eedaf0-f207-4977-a9b1-8689cf10d306",
   "metadata": {},
   "outputs": [
    {
     "data": {
      "text/plain": [
       "FrozenList(['iso-3', 'year'])"
      ]
     },
     "execution_count": 37,
     "metadata": {},
     "output_type": "execute_result"
    }
   ],
   "source": [
    "stacked_dropped_pop_data_df.index.names"
   ]
  },
  {
   "cell_type": "code",
   "execution_count": 38,
   "id": "24a3ea4e-c472-41ee-a575-c4d35b7ff3c9",
   "metadata": {},
   "outputs": [
    {
     "data": {
      "text/plain": [
       "iso-3  year\n",
       "ABW    1960    54608.0\n",
       "       1961    55811.0\n",
       "       1962    56682.0\n",
       "       1963    57475.0\n",
       "       1964    58178.0\n",
       "dtype: float64"
      ]
     },
     "execution_count": 38,
     "metadata": {},
     "output_type": "execute_result"
    }
   ],
   "source": [
    "stacked_dropped_pop_data_df.head()"
   ]
  },
  {
   "cell_type": "code",
   "execution_count": 39,
   "id": "01c20b97-d156-4965-8ce0-69627c21999a",
   "metadata": {},
   "outputs": [
    {
     "data": {
      "text/plain": [
       "iso-3  year\n",
       "ZWE    2016    14452704.0\n",
       "       2017    14751101.0\n",
       "       2018    15052184.0\n",
       "       2019    15354608.0\n",
       "       2020    15669666.0\n",
       "dtype: float64"
      ]
     },
     "execution_count": 39,
     "metadata": {},
     "output_type": "execute_result"
    }
   ],
   "source": [
    "stacked_dropped_pop_data_df.tail()"
   ]
  },
  {
   "cell_type": "markdown",
   "id": "283c4d35-b12c-48eb-af4e-bb443fc58961",
   "metadata": {},
   "source": [
    "Now we can merge the two series to a dataframe. They must be named to be able to merge."
   ]
  },
  {
   "cell_type": "code",
   "execution_count": 40,
   "id": "0567ebfd-9b8c-4c91-a194-effc48dcc3d8",
   "metadata": {},
   "outputs": [],
   "source": [
    "stacked_cleaned_cell_phones_total_df.name = 'n_cellphones'"
   ]
  },
  {
   "cell_type": "code",
   "execution_count": 41,
   "id": "47074cae-7d55-4ac4-8aa9-56ceb1266414",
   "metadata": {},
   "outputs": [
    {
     "name": "stdout",
     "output_type": "stream",
     "text": [
      "<class 'pandas.core.series.Series'>\n",
      "MultiIndex: 11984 entries, ('ABW', '1960') to ('ZWE', '2019')\n",
      "Series name: n_cellphones\n",
      "Non-Null Count  Dtype  \n",
      "--------------  -----  \n",
      "11984 non-null  float64\n",
      "dtypes: float64(1)\n",
      "memory usage: 141.1+ KB\n"
     ]
    }
   ],
   "source": [
    "stacked_cleaned_cell_phones_total_df.info()"
   ]
  },
  {
   "cell_type": "code",
   "execution_count": 42,
   "id": "cc0b4728-0280-415a-ad2f-59d4cc29b0ce",
   "metadata": {},
   "outputs": [],
   "source": [
    "stacked_dropped_pop_data_df.name = 'population'"
   ]
  },
  {
   "cell_type": "code",
   "execution_count": 43,
   "id": "882455e6-1c83-4df9-8f73-db0fbabd176f",
   "metadata": {},
   "outputs": [
    {
     "name": "stdout",
     "output_type": "stream",
     "text": [
      "<class 'pandas.core.series.Series'>\n",
      "MultiIndex: 16135 entries, ('ABW', '1960') to ('ZWE', '2020')\n",
      "Series name: population\n",
      "Non-Null Count  Dtype  \n",
      "--------------  -----  \n",
      "16135 non-null  float64\n",
      "dtypes: float64(1)\n",
      "memory usage: 186.1+ KB\n"
     ]
    }
   ],
   "source": [
    "stacked_dropped_pop_data_df.info()"
   ]
  },
  {
   "cell_type": "code",
   "execution_count": 44,
   "id": "c19cfe9f-44ff-4b2d-9b49-c79a67d72dda",
   "metadata": {},
   "outputs": [],
   "source": [
    "# table_1 = stacked_cleaned_cell_phones_total_df.merge(stacked_dropped_pop_data_df, how='inner', on=['iso-3', 'year'], )"
   ]
  },
  {
   "cell_type": "code",
   "execution_count": 45,
   "id": "a4db3725-304f-466e-b92a-535bfc60e90c",
   "metadata": {},
   "outputs": [],
   "source": [
    "table_1 = pd.merge(left=stacked_cleaned_cell_phones_total_df, right=stacked_dropped_pop_data_df, how='inner', on=['iso-3', 'year'])"
   ]
  },
  {
   "cell_type": "code",
   "execution_count": 46,
   "id": "6351a7cc-a466-47cf-badf-7c45791a5e87",
   "metadata": {},
   "outputs": [
    {
     "name": "stdout",
     "output_type": "stream",
     "text": [
      "<class 'pandas.core.frame.DataFrame'>\n",
      "MultiIndex: 11958 entries, ('ABW', '1960') to ('ZWE', '2019')\n",
      "Data columns (total 2 columns):\n",
      " #   Column        Non-Null Count  Dtype  \n",
      "---  ------        --------------  -----  \n",
      " 0   n_cellphones  11958 non-null  float64\n",
      " 1   population    11958 non-null  float64\n",
      "dtypes: float64(2)\n",
      "memory usage: 234.2+ KB\n"
     ]
    }
   ],
   "source": [
    "table_1.info()"
   ]
  },
  {
   "cell_type": "code",
   "execution_count": 47,
   "id": "2a560a69-9969-4074-acfe-349b578d1453",
   "metadata": {},
   "outputs": [
    {
     "data": {
      "text/html": [
       "<div>\n",
       "<style scoped>\n",
       "    .dataframe tbody tr th:only-of-type {\n",
       "        vertical-align: middle;\n",
       "    }\n",
       "\n",
       "    .dataframe tbody tr th {\n",
       "        vertical-align: top;\n",
       "    }\n",
       "\n",
       "    .dataframe thead th {\n",
       "        text-align: right;\n",
       "    }\n",
       "</style>\n",
       "<table border=\"1\" class=\"dataframe\">\n",
       "  <thead>\n",
       "    <tr style=\"text-align: right;\">\n",
       "      <th></th>\n",
       "      <th></th>\n",
       "      <th>n_cellphones</th>\n",
       "      <th>population</th>\n",
       "    </tr>\n",
       "    <tr>\n",
       "      <th>iso-3</th>\n",
       "      <th>year</th>\n",
       "      <th></th>\n",
       "      <th></th>\n",
       "    </tr>\n",
       "  </thead>\n",
       "  <tbody>\n",
       "    <tr>\n",
       "      <th rowspan=\"5\" valign=\"top\">ABW</th>\n",
       "      <th>1960</th>\n",
       "      <td>0.0</td>\n",
       "      <td>54608.0</td>\n",
       "    </tr>\n",
       "    <tr>\n",
       "      <th>1965</th>\n",
       "      <td>0.0</td>\n",
       "      <td>58782.0</td>\n",
       "    </tr>\n",
       "    <tr>\n",
       "      <th>1966</th>\n",
       "      <td>0.0</td>\n",
       "      <td>59291.0</td>\n",
       "    </tr>\n",
       "    <tr>\n",
       "      <th>1967</th>\n",
       "      <td>0.0</td>\n",
       "      <td>59522.0</td>\n",
       "    </tr>\n",
       "    <tr>\n",
       "      <th>1968</th>\n",
       "      <td>0.0</td>\n",
       "      <td>59471.0</td>\n",
       "    </tr>\n",
       "  </tbody>\n",
       "</table>\n",
       "</div>"
      ],
      "text/plain": [
       "            n_cellphones  population\n",
       "iso-3 year                          \n",
       "ABW   1960           0.0     54608.0\n",
       "      1965           0.0     58782.0\n",
       "      1966           0.0     59291.0\n",
       "      1967           0.0     59522.0\n",
       "      1968           0.0     59471.0"
      ]
     },
     "execution_count": 47,
     "metadata": {},
     "output_type": "execute_result"
    }
   ],
   "source": [
    "table_1.head()"
   ]
  },
  {
   "cell_type": "code",
   "execution_count": 48,
   "id": "9ca4af69-a3d7-42ef-a350-d9214ae9f710",
   "metadata": {},
   "outputs": [
    {
     "data": {
      "text/html": [
       "<div>\n",
       "<style scoped>\n",
       "    .dataframe tbody tr th:only-of-type {\n",
       "        vertical-align: middle;\n",
       "    }\n",
       "\n",
       "    .dataframe tbody tr th {\n",
       "        vertical-align: top;\n",
       "    }\n",
       "\n",
       "    .dataframe thead th {\n",
       "        text-align: right;\n",
       "    }\n",
       "</style>\n",
       "<table border=\"1\" class=\"dataframe\">\n",
       "  <thead>\n",
       "    <tr style=\"text-align: right;\">\n",
       "      <th></th>\n",
       "      <th></th>\n",
       "      <th>n_cellphones</th>\n",
       "      <th>population</th>\n",
       "    </tr>\n",
       "    <tr>\n",
       "      <th>iso-3</th>\n",
       "      <th>year</th>\n",
       "      <th></th>\n",
       "      <th></th>\n",
       "    </tr>\n",
       "  </thead>\n",
       "  <tbody>\n",
       "    <tr>\n",
       "      <th rowspan=\"5\" valign=\"top\">ZWE</th>\n",
       "      <th>2015</th>\n",
       "      <td>12800000.0</td>\n",
       "      <td>14154937.0</td>\n",
       "    </tr>\n",
       "    <tr>\n",
       "      <th>2016</th>\n",
       "      <td>12900000.0</td>\n",
       "      <td>14452704.0</td>\n",
       "    </tr>\n",
       "    <tr>\n",
       "      <th>2017</th>\n",
       "      <td>14100000.0</td>\n",
       "      <td>14751101.0</td>\n",
       "    </tr>\n",
       "    <tr>\n",
       "      <th>2018</th>\n",
       "      <td>12900000.0</td>\n",
       "      <td>15052184.0</td>\n",
       "    </tr>\n",
       "    <tr>\n",
       "      <th>2019</th>\n",
       "      <td>13200000.0</td>\n",
       "      <td>15354608.0</td>\n",
       "    </tr>\n",
       "  </tbody>\n",
       "</table>\n",
       "</div>"
      ],
      "text/plain": [
       "            n_cellphones  population\n",
       "iso-3 year                          \n",
       "ZWE   2015    12800000.0  14154937.0\n",
       "      2016    12900000.0  14452704.0\n",
       "      2017    14100000.0  14751101.0\n",
       "      2018    12900000.0  15052184.0\n",
       "      2019    13200000.0  15354608.0"
      ]
     },
     "execution_count": 48,
     "metadata": {},
     "output_type": "execute_result"
    }
   ],
   "source": [
    "table_1.tail()"
   ]
  },
  {
   "cell_type": "code",
   "execution_count": 49,
   "id": "c0a38aa5-984c-4031-b29e-112a388b4b43",
   "metadata": {},
   "outputs": [],
   "source": [
    "resetted_table_1 = table_1.reset_index()"
   ]
  },
  {
   "cell_type": "code",
   "execution_count": 50,
   "id": "94a27ad3-cb70-4442-9b9f-4e312e2c103d",
   "metadata": {},
   "outputs": [
    {
     "data": {
      "text/html": [
       "<div>\n",
       "<style scoped>\n",
       "    .dataframe tbody tr th:only-of-type {\n",
       "        vertical-align: middle;\n",
       "    }\n",
       "\n",
       "    .dataframe tbody tr th {\n",
       "        vertical-align: top;\n",
       "    }\n",
       "\n",
       "    .dataframe thead th {\n",
       "        text-align: right;\n",
       "    }\n",
       "</style>\n",
       "<table border=\"1\" class=\"dataframe\">\n",
       "  <thead>\n",
       "    <tr style=\"text-align: right;\">\n",
       "      <th></th>\n",
       "      <th>iso-3</th>\n",
       "      <th>year</th>\n",
       "      <th>n_cellphones</th>\n",
       "      <th>population</th>\n",
       "    </tr>\n",
       "  </thead>\n",
       "  <tbody>\n",
       "    <tr>\n",
       "      <th>0</th>\n",
       "      <td>ABW</td>\n",
       "      <td>1960</td>\n",
       "      <td>0.0</td>\n",
       "      <td>54608.0</td>\n",
       "    </tr>\n",
       "    <tr>\n",
       "      <th>1</th>\n",
       "      <td>ABW</td>\n",
       "      <td>1965</td>\n",
       "      <td>0.0</td>\n",
       "      <td>58782.0</td>\n",
       "    </tr>\n",
       "    <tr>\n",
       "      <th>2</th>\n",
       "      <td>ABW</td>\n",
       "      <td>1966</td>\n",
       "      <td>0.0</td>\n",
       "      <td>59291.0</td>\n",
       "    </tr>\n",
       "    <tr>\n",
       "      <th>3</th>\n",
       "      <td>ABW</td>\n",
       "      <td>1967</td>\n",
       "      <td>0.0</td>\n",
       "      <td>59522.0</td>\n",
       "    </tr>\n",
       "    <tr>\n",
       "      <th>4</th>\n",
       "      <td>ABW</td>\n",
       "      <td>1968</td>\n",
       "      <td>0.0</td>\n",
       "      <td>59471.0</td>\n",
       "    </tr>\n",
       "  </tbody>\n",
       "</table>\n",
       "</div>"
      ],
      "text/plain": [
       "  iso-3  year  n_cellphones  population\n",
       "0   ABW  1960           0.0     54608.0\n",
       "1   ABW  1965           0.0     58782.0\n",
       "2   ABW  1966           0.0     59291.0\n",
       "3   ABW  1967           0.0     59522.0\n",
       "4   ABW  1968           0.0     59471.0"
      ]
     },
     "execution_count": 50,
     "metadata": {},
     "output_type": "execute_result"
    }
   ],
   "source": [
    "resetted_table_1.head()"
   ]
  },
  {
   "cell_type": "code",
   "execution_count": 51,
   "id": "c04cbe22-2f1b-4326-af68-21ddd7fe1df5",
   "metadata": {},
   "outputs": [],
   "source": [
    "sorted_resetted_table_1 = resetted_table_1.sort_values(by=['year', 'iso-3'])"
   ]
  },
  {
   "cell_type": "code",
   "execution_count": 52,
   "id": "a5c2a7f0-328e-4246-a271-f67086823cd6",
   "metadata": {},
   "outputs": [
    {
     "data": {
      "text/html": [
       "<div>\n",
       "<style scoped>\n",
       "    .dataframe tbody tr th:only-of-type {\n",
       "        vertical-align: middle;\n",
       "    }\n",
       "\n",
       "    .dataframe tbody tr th {\n",
       "        vertical-align: top;\n",
       "    }\n",
       "\n",
       "    .dataframe thead th {\n",
       "        text-align: right;\n",
       "    }\n",
       "</style>\n",
       "<table border=\"1\" class=\"dataframe\">\n",
       "  <thead>\n",
       "    <tr style=\"text-align: right;\">\n",
       "      <th></th>\n",
       "      <th>iso-3</th>\n",
       "      <th>year</th>\n",
       "      <th>n_cellphones</th>\n",
       "      <th>population</th>\n",
       "    </tr>\n",
       "  </thead>\n",
       "  <tbody>\n",
       "    <tr>\n",
       "      <th>0</th>\n",
       "      <td>ABW</td>\n",
       "      <td>1960</td>\n",
       "      <td>0.0</td>\n",
       "      <td>54608.0</td>\n",
       "    </tr>\n",
       "    <tr>\n",
       "      <th>56</th>\n",
       "      <td>AFG</td>\n",
       "      <td>1960</td>\n",
       "      <td>0.0</td>\n",
       "      <td>8622466.0</td>\n",
       "    </tr>\n",
       "    <tr>\n",
       "      <th>112</th>\n",
       "      <td>AGO</td>\n",
       "      <td>1960</td>\n",
       "      <td>0.0</td>\n",
       "      <td>5357195.0</td>\n",
       "    </tr>\n",
       "    <tr>\n",
       "      <th>168</th>\n",
       "      <td>ALB</td>\n",
       "      <td>1960</td>\n",
       "      <td>0.0</td>\n",
       "      <td>1608800.0</td>\n",
       "    </tr>\n",
       "    <tr>\n",
       "      <th>224</th>\n",
       "      <td>AND</td>\n",
       "      <td>1960</td>\n",
       "      <td>0.0</td>\n",
       "      <td>9443.0</td>\n",
       "    </tr>\n",
       "  </tbody>\n",
       "</table>\n",
       "</div>"
      ],
      "text/plain": [
       "    iso-3  year  n_cellphones  population\n",
       "0     ABW  1960           0.0     54608.0\n",
       "56    AFG  1960           0.0   8622466.0\n",
       "112   AGO  1960           0.0   5357195.0\n",
       "168   ALB  1960           0.0   1608800.0\n",
       "224   AND  1960           0.0      9443.0"
      ]
     },
     "execution_count": 52,
     "metadata": {},
     "output_type": "execute_result"
    }
   ],
   "source": [
    "sorted_resetted_table_1.head()"
   ]
  },
  {
   "cell_type": "code",
   "execution_count": 53,
   "id": "a457022c-381a-418e-a181-bf1df3f03fa2",
   "metadata": {},
   "outputs": [
    {
     "data": {
      "text/html": [
       "<div>\n",
       "<style scoped>\n",
       "    .dataframe tbody tr th:only-of-type {\n",
       "        vertical-align: middle;\n",
       "    }\n",
       "\n",
       "    .dataframe tbody tr th {\n",
       "        vertical-align: top;\n",
       "    }\n",
       "\n",
       "    .dataframe thead th {\n",
       "        text-align: right;\n",
       "    }\n",
       "</style>\n",
       "<table border=\"1\" class=\"dataframe\">\n",
       "  <thead>\n",
       "    <tr style=\"text-align: right;\">\n",
       "      <th></th>\n",
       "      <th>iso-3</th>\n",
       "      <th>year</th>\n",
       "      <th>n_cellphones</th>\n",
       "      <th>population</th>\n",
       "    </tr>\n",
       "  </thead>\n",
       "  <tbody>\n",
       "    <tr>\n",
       "      <th>11733</th>\n",
       "      <td>XKX</td>\n",
       "      <td>2019</td>\n",
       "      <td>562000.0</td>\n",
       "      <td>1788878.0</td>\n",
       "    </tr>\n",
       "    <tr>\n",
       "      <th>11789</th>\n",
       "      <td>YEM</td>\n",
       "      <td>2019</td>\n",
       "      <td>15300000.0</td>\n",
       "      <td>31546691.0</td>\n",
       "    </tr>\n",
       "    <tr>\n",
       "      <th>11845</th>\n",
       "      <td>ZAF</td>\n",
       "      <td>2019</td>\n",
       "      <td>97000000.0</td>\n",
       "      <td>58087055.0</td>\n",
       "    </tr>\n",
       "    <tr>\n",
       "      <th>11901</th>\n",
       "      <td>ZMB</td>\n",
       "      <td>2019</td>\n",
       "      <td>17200000.0</td>\n",
       "      <td>18380477.0</td>\n",
       "    </tr>\n",
       "    <tr>\n",
       "      <th>11957</th>\n",
       "      <td>ZWE</td>\n",
       "      <td>2019</td>\n",
       "      <td>13200000.0</td>\n",
       "      <td>15354608.0</td>\n",
       "    </tr>\n",
       "  </tbody>\n",
       "</table>\n",
       "</div>"
      ],
      "text/plain": [
       "      iso-3  year  n_cellphones  population\n",
       "11733   XKX  2019      562000.0   1788878.0\n",
       "11789   YEM  2019    15300000.0  31546691.0\n",
       "11845   ZAF  2019    97000000.0  58087055.0\n",
       "11901   ZMB  2019    17200000.0  18380477.0\n",
       "11957   ZWE  2019    13200000.0  15354608.0"
      ]
     },
     "execution_count": 53,
     "metadata": {},
     "output_type": "execute_result"
    }
   ],
   "source": [
    "sorted_resetted_table_1.tail()"
   ]
  },
  {
   "cell_type": "code",
   "execution_count": 54,
   "id": "c6410afb-acba-4df1-83a2-5ca60ca788cf",
   "metadata": {},
   "outputs": [
    {
     "ename": "IndexError",
     "evalue": "Replacement index 0 out of range for positional args tuple",
     "output_type": "error",
     "traceback": [
      "\u001b[1;31m---------------------------------------------------------------------------\u001b[0m",
      "\u001b[1;31mIndexError\u001b[0m                                Traceback (most recent call last)",
      "Cell \u001b[1;32mIn[54], line 2\u001b[0m\n\u001b[0;32m      1\u001b[0m styled_sorted_resetted_table_3 \u001b[38;5;241m=\u001b[39m sorted_resetted_table_1\u001b[38;5;241m.\u001b[39miloc[:\u001b[38;5;241m5\u001b[39m,:]\u001b[38;5;241m.\u001b[39mstyle\\\n\u001b[1;32m----> 2\u001b[0m                         \u001b[38;5;241m.\u001b[39mformat(formatter\u001b[38;5;241m=\u001b[39m\u001b[38;5;124;43m'\u001b[39;49m\u001b[38;5;132;43;01m{:.4g}\u001b[39;49;00m\u001b[38;5;124;43m'\u001b[39;49m\u001b[38;5;241;43m.\u001b[39;49m\u001b[43mformat\u001b[49m\u001b[43m(\u001b[49m\u001b[43m)\u001b[49m)\\\n\u001b[0;32m      3\u001b[0m                         \u001b[38;5;241m.\u001b[39mhide(axis\u001b[38;5;241m=\u001b[39m\u001b[38;5;124m'\u001b[39m\u001b[38;5;124mindex\u001b[39m\u001b[38;5;124m'\u001b[39m)\n",
      "\u001b[1;31mIndexError\u001b[0m: Replacement index 0 out of range for positional args tuple"
     ]
    }
   ],
   "source": [
    "styled_sorted_resetted_table_3 = sorted_resetted_table_1.iloc[:5,:].style\\\n",
    "                        .format(formatter='{:.4g}'.format())\\\n",
    "                        .hide(axis='index')"
   ]
  },
  {
   "cell_type": "code",
   "execution_count": null,
   "id": "26be10f5-2213-4362-bb12-35d71429a813",
   "metadata": {},
   "outputs": [],
   "source": [
    "styled_sorted_resetted_table_3"
   ]
  },
  {
   "cell_type": "code",
   "execution_count": null,
   "id": "f0aeefb9-8704-49e4-8799-667ccb7f4676",
   "metadata": {},
   "outputs": [],
   "source": [
    "styled_sorted_resetted_table_1 = sorted_resetted_table_1.iloc[:10,:].style\\\n",
    "                        .hide(axis='index')"
   ]
  },
  {
   "cell_type": "code",
   "execution_count": null,
   "id": "d0ea4f41-379f-4de1-aaa5-bb4b48ec5bba",
   "metadata": {},
   "outputs": [],
   "source": [
    "styled_sorted_resetted_table_1"
   ]
  },
  {
   "cell_type": "code",
   "execution_count": null,
   "id": "dd3c8ec7-4701-407c-9107-2d05356472ab",
   "metadata": {},
   "outputs": [],
   "source": [
    "styled_sorted_resetted_table_2 = sorted_resetted_table_1.iloc[-10:,:].style\\\n",
    "                        .hide(axis='index')"
   ]
  },
  {
   "cell_type": "code",
   "execution_count": null,
   "id": "321e46db-967a-40ba-8353-811725755687",
   "metadata": {},
   "outputs": [],
   "source": [
    "styled_sorted_resetted_table_2"
   ]
  },
  {
   "cell_type": "code",
   "execution_count": null,
   "id": "56e3af08-a434-4121-a46c-2321f0fdd114",
   "metadata": {},
   "outputs": [],
   "source": []
  },
  {
   "cell_type": "markdown",
   "id": "9d5a0d45-7862-4012-b5b3-fac002fdbd62",
   "metadata": {},
   "source": [
    "\n",
    "#### Old code, remove ??\n"
   ]
  },
  {
   "cell_type": "markdown",
   "id": "2a2b2721-e702-4b58-ae75-4e06a318a9e9",
   "metadata": {},
   "source": [
    "For **pop_data_df** it seems that we only need data for the years 1960 and 2010-2019, for a few countries. These countries are ABW, AFG, AGO, ALB, AND, Macao, Hong Kong, United Arab Emirates,\tAntigua and Barbuda, and Seychelles."
   ]
  },
  {
   "cell_type": "markdown",
   "id": "ec1830ae-1104-450d-b268-45591d5c6343",
   "metadata": {},
   "source": [
    "There are some null values in pop_data_df. We have to check if any of these concerns the years and countries we will treat."
   ]
  },
  {
   "cell_type": "markdown",
   "id": "11aa4e64-a303-49a0-bb10-bd038368142d",
   "metadata": {},
   "source": [
    "First, we will get the alpha-3 codes for the names."
   ]
  },
  {
   "cell_type": "code",
   "execution_count": null,
   "id": "cdf42ff0-3ca4-4fb9-afe3-5066e6ad3643",
   "metadata": {},
   "outputs": [],
   "source": [
    "alpha_3_codes = name_strings_country_data_df['name'].isin(['Macao', 'Hong Kong', 'United Arab Emirates','Antigua and Barbuda', 'Seychelles'])"
   ]
  },
  {
   "cell_type": "code",
   "execution_count": null,
   "id": "7f570415-bff6-403d-9a10-b36d6389001e",
   "metadata": {},
   "outputs": [],
   "source": [
    "name_strings_country_data_df[alpha_3_codes]"
   ]
  },
  {
   "cell_type": "markdown",
   "id": "2cef659d-d438-4aae-adf7-b68d2b045460",
   "metadata": {},
   "source": [
    "Now we can select the interesting rows in pop_data_df."
   ]
  },
  {
   "cell_type": "code",
   "execution_count": null,
   "id": "2351ab4d-649f-421f-ad7b-e20194baf128",
   "metadata": {},
   "outputs": [],
   "source": [
    "interesting_countries_bool = pop_data_df.index.isin(['ATG','HKG','MAC','SYC','ARE','ABW', 'AFG', 'AGO', 'ALB', 'AND'])"
   ]
  },
  {
   "cell_type": "code",
   "execution_count": null,
   "id": "7d7180f7-aac9-4fe0-b1f6-cc52f680d23b",
   "metadata": {},
   "outputs": [],
   "source": [
    "interesting_years = ['1960', '2010','2011','2012','2013','2014','2015','2016','2017','2018','2019']"
   ]
  },
  {
   "cell_type": "markdown",
   "id": "fbed0273-d9c4-4121-bb26-b56603774a20",
   "metadata": {},
   "source": [
    "Make a deep copy of pop_data_df and then choose the interesting countries"
   ]
  },
  {
   "cell_type": "code",
   "execution_count": null,
   "id": "f4ddaa39-8e0d-4166-8cb1-556b0d96005d",
   "metadata": {},
   "outputs": [],
   "source": [
    "interesting_countries_df = pop_data_df[interesting_countries_bool].copy()"
   ]
  },
  {
   "cell_type": "code",
   "execution_count": null,
   "id": "d8a55cc3-80f6-46d3-ae26-8e895649837c",
   "metadata": {},
   "outputs": [],
   "source": [
    "interesting_countries_df.info()"
   ]
  },
  {
   "cell_type": "markdown",
   "id": "0e1a8076-89f8-42f2-a742-790c73efa3bf",
   "metadata": {},
   "source": [
    "Make a deep copy of interesting_countries_df"
   ]
  },
  {
   "cell_type": "code",
   "execution_count": null,
   "id": "092a4a1f-c65e-45da-8eb9-b36e44532c1d",
   "metadata": {},
   "outputs": [],
   "source": [
    "interesting_countries_and_years_df = interesting_countries_df[interesting_years].copy()"
   ]
  },
  {
   "cell_type": "code",
   "execution_count": null,
   "id": "d94aa04b-6b17-4cbd-a7dc-57b8c035a013",
   "metadata": {},
   "outputs": [],
   "source": [
    "interesting_countries_and_years_df.info()"
   ]
  },
  {
   "cell_type": "code",
   "execution_count": null,
   "id": "a712393e-8ba8-417e-8cc0-245044273344",
   "metadata": {},
   "outputs": [],
   "source": [
    "interesting_countries_and_years_df"
   ]
  },
  {
   "cell_type": "markdown",
   "id": "6c0ff567-b148-4429-bcc3-41da953c2c06",
   "metadata": {},
   "source": [
    "Set a name for all the columns"
   ]
  },
  {
   "cell_type": "code",
   "execution_count": null,
   "id": "9d3a54fb-5fc8-4760-9d40-80b3e08977f9",
   "metadata": {},
   "outputs": [],
   "source": [
    "interesting_countries_and_years_df.columns.name = 'year'"
   ]
  },
  {
   "cell_type": "code",
   "execution_count": null,
   "id": "a20d66a5-3568-4295-8c44-bbb37f587cd7",
   "metadata": {},
   "outputs": [],
   "source": [
    "interesting_countries_and_years_df"
   ]
  },
  {
   "cell_type": "markdown",
   "id": "12b454f2-5f5c-4609-8138-64dc14cc1f28",
   "metadata": {},
   "source": [
    "Tests"
   ]
  },
  {
   "cell_type": "code",
   "execution_count": null,
   "id": "888c4e5a-8c4b-4cbb-b79b-dd94e92daef0",
   "metadata": {},
   "outputs": [],
   "source": [
    "test_stack_df = interesting_countries_and_years_df.stack()"
   ]
  },
  {
   "cell_type": "code",
   "execution_count": null,
   "id": "775d40f4-5eab-42c1-88f2-ff607f4bba6c",
   "metadata": {},
   "outputs": [],
   "source": [
    "test_stack_df"
   ]
  },
  {
   "cell_type": "code",
   "execution_count": null,
   "id": "edbe11af-8788-464e-85c1-552ec8fe1698",
   "metadata": {},
   "outputs": [],
   "source": [
    "type(test_stack_df)"
   ]
  },
  {
   "cell_type": "code",
   "execution_count": null,
   "id": "7ea9dad9-fde3-4af5-9837-5063be3ffe66",
   "metadata": {},
   "outputs": [],
   "source": [
    "test_stack_df.index"
   ]
  },
  {
   "cell_type": "markdown",
   "id": "46804f38-ec0e-4a06-bceb-63b1b105795c",
   "metadata": {},
   "source": [
    "\n",
    "##### We see that there are no null values to handle for the countries and years we are interested in.\n"
   ]
  },
  {
   "cell_type": "markdown",
   "id": "9f9a9852-4082-41d2-801d-619ecb92ea0c",
   "metadata": {},
   "source": [
    "\n",
    "##### Handle cleaned_cell_phones_total_data_df the same way\n"
   ]
  },
  {
   "cell_type": "markdown",
   "id": "80d21f5d-83fc-4e16-8ac3-7e340b217eb8",
   "metadata": {},
   "source": [
    "We will choose the same countries and years as above, for the data on cell phones."
   ]
  },
  {
   "cell_type": "code",
   "execution_count": null,
   "id": "b7bdd84b-c97c-44fb-b65b-ac85b195ddef",
   "metadata": {},
   "outputs": [],
   "source": [
    "interesting_countries_cell_phones_bool = cleaned_cell_phones_total_data_df.index.isin(['ATG','HKG','MAC','SYC','ARE','ABW', 'AFG', 'AGO', 'ALB', 'AND'])"
   ]
  },
  {
   "cell_type": "code",
   "execution_count": null,
   "id": "50d31c93-5908-4f4a-bee4-80e65753ec11",
   "metadata": {},
   "outputs": [],
   "source": [
    "interesting_countries_cell_phones_df = cleaned_cell_phones_total_data_df[interesting_countries_cell_phones_bool].copy()"
   ]
  },
  {
   "cell_type": "code",
   "execution_count": null,
   "id": "10425727-d8c6-4cc6-a971-21af21161dea",
   "metadata": {},
   "outputs": [],
   "source": [
    "interesting_countries_cell_phones_df.info()"
   ]
  },
  {
   "cell_type": "code",
   "execution_count": null,
   "id": "f655b907-2ad5-400d-b21e-75a5c31d0298",
   "metadata": {},
   "outputs": [],
   "source": [
    "interesting_countries_and_years_cell_phones_df = interesting_countries_cell_phones_df[interesting_years].copy()"
   ]
  },
  {
   "cell_type": "code",
   "execution_count": null,
   "id": "9fd9531c-2a0a-4b5c-acf2-5a1ced5f6574",
   "metadata": {},
   "outputs": [],
   "source": [
    "interesting_countries_and_years_cell_phones_df.columns"
   ]
  },
  {
   "cell_type": "code",
   "execution_count": null,
   "id": "e222189a-e5c4-4abf-b9dc-b680dc49eb34",
   "metadata": {},
   "outputs": [],
   "source": [
    "interesting_countries_and_years_cell_phones_df.columns.name = 'year'"
   ]
  },
  {
   "cell_type": "code",
   "execution_count": null,
   "id": "47ccb9b1-52c6-434d-b4f9-bac0b3e24190",
   "metadata": {},
   "outputs": [],
   "source": [
    "interesting_countries_and_years_cell_phones_df.columns"
   ]
  },
  {
   "cell_type": "code",
   "execution_count": null,
   "id": "8a3723b1-eddd-4fea-851c-17cba400762b",
   "metadata": {},
   "outputs": [],
   "source": [
    "interesting_countries_and_years_cell_phones_df.info()"
   ]
  },
  {
   "cell_type": "code",
   "execution_count": null,
   "id": "9a0dd41a-a4da-41b5-8d81-739b8a6630dd",
   "metadata": {},
   "outputs": [],
   "source": [
    "interesting_countries_and_years_cell_phones_df"
   ]
  },
  {
   "cell_type": "markdown",
   "id": "fed51197-9a29-4a0a-bc45-fda1660b893b",
   "metadata": {},
   "source": [
    "\n",
    "#### Stacking and joining data frames\n"
   ]
  },
  {
   "cell_type": "markdown",
   "id": "816d9184-53dd-487d-a264-f195d10632f2",
   "metadata": {},
   "source": [
    "The data frames interesting_countries_and_years_df and interesting_countries_and_years_cell_phones_df are in wide format. To make it easier to join them on index and year, it would be good to stack them, to long format."
   ]
  },
  {
   "cell_type": "markdown",
   "id": "10ad9b4b-515f-4b95-84ab-e03626f5d58c",
   "metadata": {},
   "source": [
    "\n",
    "##### Stack interesting_countries_and_years_df\n"
   ]
  },
  {
   "cell_type": "code",
   "execution_count": null,
   "id": "02fd9e0a-f832-44c8-bd22-f24016934b8f",
   "metadata": {},
   "outputs": [],
   "source": [
    "stacked_interesting_countries_and_years_df = interesting_countries_and_years_df.stack()"
   ]
  },
  {
   "cell_type": "code",
   "execution_count": null,
   "id": "20d1cd21-89d6-4217-a305-62b4f4680964",
   "metadata": {},
   "outputs": [],
   "source": [
    "stacked_interesting_countries_and_years_df.info()"
   ]
  },
  {
   "cell_type": "markdown",
   "id": "f48e7536-a5cb-4ae3-b2ab-9d99ef3b305c",
   "metadata": {},
   "source": [
    "Give a name to the Series"
   ]
  },
  {
   "cell_type": "code",
   "execution_count": null,
   "id": "c8838472-7271-41fa-9e6e-7db2a6acb093",
   "metadata": {},
   "outputs": [],
   "source": [
    "stacked_interesting_countries_and_years_df.name = 'population'"
   ]
  },
  {
   "cell_type": "code",
   "execution_count": null,
   "id": "8ec0262a-07e9-402c-9448-18559e503a58",
   "metadata": {},
   "outputs": [],
   "source": [
    "stacked_interesting_countries_and_years_df.info()"
   ]
  },
  {
   "cell_type": "code",
   "execution_count": null,
   "id": "8779fe0c-75f6-4cdd-bfa4-4d87b2b5a385",
   "metadata": {},
   "outputs": [],
   "source": [
    "stacked_interesting_countries_and_years_df"
   ]
  },
  {
   "cell_type": "code",
   "execution_count": null,
   "id": "74d86ca5-ac8c-40af-ae48-f3f8d7dd1bd6",
   "metadata": {},
   "outputs": [],
   "source": [
    "stacked_interesting_countries_and_years_df['ABW']"
   ]
  },
  {
   "cell_type": "markdown",
   "id": "4c8c5b4e-4fae-4040-971d-f38e56111e5c",
   "metadata": {},
   "source": [
    "\n",
    "##### Stack interesting_countries_and_years_cell_phones_df\n"
   ]
  },
  {
   "cell_type": "code",
   "execution_count": null,
   "id": "443257b6-fa06-4c21-b7e2-98a99d526b40",
   "metadata": {},
   "outputs": [],
   "source": [
    "stacked_interesting_countries_and_years_cell_phones_df = interesting_countries_and_years_cell_phones_df.stack()"
   ]
  },
  {
   "cell_type": "code",
   "execution_count": null,
   "id": "0f7a092b-566e-466b-bf02-31f5fcc61652",
   "metadata": {},
   "outputs": [],
   "source": [
    "stacked_interesting_countries_and_years_cell_phones_df.info()"
   ]
  },
  {
   "cell_type": "markdown",
   "id": "88c06e83-d873-436a-9e90-e3b1078c2750",
   "metadata": {},
   "source": [
    "Give a name to the Series"
   ]
  },
  {
   "cell_type": "code",
   "execution_count": null,
   "id": "5b59cb8b-b7bc-4ae2-b273-b235ed6b6713",
   "metadata": {},
   "outputs": [],
   "source": [
    "stacked_interesting_countries_and_years_cell_phones_df.name = 'n_cellphones'"
   ]
  },
  {
   "cell_type": "code",
   "execution_count": null,
   "id": "0a9f282a-9494-49e1-be24-ff99d74fdf42",
   "metadata": {},
   "outputs": [],
   "source": [
    "stacked_interesting_countries_and_years_cell_phones_df.info()"
   ]
  },
  {
   "cell_type": "code",
   "execution_count": null,
   "id": "d6e8108d-ad39-4aa6-8021-1ffafbd76167",
   "metadata": {},
   "outputs": [],
   "source": [
    "stacked_interesting_countries_and_years_cell_phones_df"
   ]
  },
  {
   "cell_type": "code",
   "execution_count": null,
   "id": "3795daed-0da4-4083-a48e-ad772ac227ba",
   "metadata": {},
   "outputs": [],
   "source": [
    "stacked_interesting_countries_and_years_cell_phones_df['ABW']"
   ]
  },
  {
   "cell_type": "markdown",
   "id": "5739e0fa-179c-4380-9b5e-393d5024767e",
   "metadata": {},
   "source": [
    "\n",
    "##### Join stacked_interesting_countries_and_years_cell_phones_df and stacked_interesting_countries_and_years_df\n"
   ]
  },
  {
   "cell_type": "markdown",
   "id": "20d323f8-236b-4579-8248-beba0c4fa196",
   "metadata": {},
   "source": [
    "Now we can join the two stacked data frames on the multiindex [iso-3, year]"
   ]
  },
  {
   "cell_type": "markdown",
   "id": "4d3c5a0a-5439-4857-a7d4-0c797c796dab",
   "metadata": {},
   "source": [
    "It is easier to join data frames than Series, so we create Data Frames from the Series stacked_interesting_countries_and_years_cell_phones_df and stacked_interesting_countries_and_years_df (which have gotten misleading names)."
   ]
  },
  {
   "cell_type": "code",
   "execution_count": null,
   "id": "ea3bc18e-5152-4d18-9e2e-f23f37706311",
   "metadata": {},
   "outputs": [],
   "source": [
    "n_cellphones_df = pd.DataFrame(data=stacked_interesting_countries_and_years_cell_phones_df)"
   ]
  },
  {
   "cell_type": "code",
   "execution_count": null,
   "id": "9054bdb6-8175-42f4-bd0b-aca5f293eeec",
   "metadata": {},
   "outputs": [],
   "source": [
    "n_cellphones_df"
   ]
  },
  {
   "cell_type": "code",
   "execution_count": null,
   "id": "501b3708-58dd-455d-9858-f23e079b77df",
   "metadata": {},
   "outputs": [],
   "source": [
    "population_df = pd.DataFrame(data=stacked_interesting_countries_and_years_df)"
   ]
  },
  {
   "cell_type": "code",
   "execution_count": null,
   "id": "ba34bd29-aa2e-439a-8434-9c9a46cef52a",
   "metadata": {},
   "outputs": [],
   "source": [
    "population_df"
   ]
  },
  {
   "cell_type": "code",
   "execution_count": null,
   "id": "02a7e1ea-b489-4faa-af1b-a81dbf93971c",
   "metadata": {},
   "outputs": [],
   "source": [
    "n_cellphones_and_population_df = n_cellphones_df.merge(population_df, on=['iso-3','year'] , copy=True)"
   ]
  },
  {
   "cell_type": "code",
   "execution_count": null,
   "id": "72adb82c-18cc-41e7-b7a4-7780328755f5",
   "metadata": {},
   "outputs": [],
   "source": [
    "n_cellphones_and_population_df"
   ]
  },
  {
   "cell_type": "code",
   "execution_count": null,
   "id": "cb14c6b7-1d36-44b7-a916-f20f16d2ab6f",
   "metadata": {},
   "outputs": [],
   "source": [
    "type(n_cellphones_and_population_df)"
   ]
  },
  {
   "cell_type": "markdown",
   "id": "311c8bb3-54af-4369-808e-7a4b4135c093",
   "metadata": {},
   "source": [
    "##### Now we can show the first table required in the assignment."
   ]
  },
  {
   "cell_type": "markdown",
   "id": "44c7862b-ccd4-404a-bacf-3df5b6dc0e20",
   "metadata": {},
   "source": [
    "First we unstack the data frame two levels."
   ]
  },
  {
   "cell_type": "code",
   "execution_count": null,
   "id": "ac508aa8-6b6b-49fa-afbb-9ae585a2010c",
   "metadata": {},
   "outputs": [],
   "source": [
    "unstacked_n_cellphones_and_population_df = n_cellphones_and_population_df.unstack(level=-1)"
   ]
  },
  {
   "cell_type": "code",
   "execution_count": null,
   "id": "aec05a66-c7b3-4429-ae34-189f51485457",
   "metadata": {},
   "outputs": [],
   "source": [
    "unstacked_n_cellphones_and_population_df"
   ]
  },
  {
   "cell_type": "code",
   "execution_count": null,
   "id": "da2d0c60-f017-46ee-925a-aa0d406f8ef6",
   "metadata": {},
   "outputs": [],
   "source": [
    "n_cellphones_and_population_df.index"
   ]
  },
  {
   "cell_type": "code",
   "execution_count": null,
   "id": "9c57ebbd-e255-4ef3-b963-c248ebc40efb",
   "metadata": {},
   "outputs": [],
   "source": [
    "first_table_1960_df = n_cellphones_and_population_df.xs('1960', level = 'year')"
   ]
  },
  {
   "cell_type": "code",
   "execution_count": null,
   "id": "7b6c8372-d135-43d9-b0d4-71730838087b",
   "metadata": {},
   "outputs": [],
   "source": [
    "first_table_1960_df "
   ]
  },
  {
   "cell_type": "code",
   "execution_count": null,
   "id": "160cb87c-2d9c-4250-922b-85daa95747fd",
   "metadata": {},
   "outputs": [],
   "source": [
    "first_table_1960_df.info()"
   ]
  },
  {
   "cell_type": "code",
   "execution_count": null,
   "id": "81c1dd10-212c-4d1b-83b1-a3dc5c65f62e",
   "metadata": {},
   "outputs": [],
   "source": [
    "# df.loc[(slice(None), \"one\"), :]"
   ]
  },
  {
   "cell_type": "markdown",
   "id": "2e69deda-fb98-4c7d-b6e4-841a81a1daa0",
   "metadata": {},
   "source": [
    "Another subset"
   ]
  },
  {
   "cell_type": "code",
   "execution_count": null,
   "id": "2a92fd2f-4cea-42cc-8422-154c4a0e771b",
   "metadata": {},
   "outputs": [],
   "source": [
    "first_table_1960_df_II = n_cellphones_and_population_df.loc[(slice(None), \"1960\"), :]"
   ]
  },
  {
   "cell_type": "markdown",
   "id": "ee497a76-5774-430e-9100-b4995b8783bf",
   "metadata": {},
   "source": [
    "\n",
    "#### The first table\n"
   ]
  },
  {
   "cell_type": "code",
   "execution_count": null,
   "id": "d24f6576-cfb3-4ccb-ac1a-2a4785f9a0e6",
   "metadata": {},
   "outputs": [],
   "source": [
    "first_table_1960_df_II.head()"
   ]
  },
  {
   "cell_type": "markdown",
   "id": "4613d220-2684-4315-b563-937747e05e0e",
   "metadata": {},
   "source": [
    "\n",
    "##### The second table\n"
   ]
  },
  {
   "cell_type": "markdown",
   "id": "6a94db1d-6b45-4726-97b3-6280aae41661",
   "metadata": {},
   "source": [
    "We have to compute the number of cell phones per capita for the different countries. First a deep copy."
   ]
  },
  {
   "cell_type": "code",
   "execution_count": null,
   "id": "f91fe636-106a-497d-9e2c-2e97965557f2",
   "metadata": {},
   "outputs": [],
   "source": [
    "n_cellphones_and_population_and_per_capita_df = n_cellphones_and_population_df.copy()"
   ]
  },
  {
   "cell_type": "code",
   "execution_count": null,
   "id": "4145fc1e-32cd-415e-8325-c1b16d9b01cf",
   "metadata": {},
   "outputs": [],
   "source": [
    "n_cellphones_and_population_and_per_capita_df['phones_per_capita'] = n_cellphones_and_population_and_per_capita_df['n_cellphones'] / n_cellphones_and_population_and_per_capita_df['population'] "
   ]
  },
  {
   "cell_type": "code",
   "execution_count": null,
   "id": "255f082d-1d43-4b37-a4c4-14c08ba43d2f",
   "metadata": {},
   "outputs": [],
   "source": [
    "n_cellphones_and_population_and_per_capita_df.info()"
   ]
  },
  {
   "cell_type": "code",
   "execution_count": null,
   "id": "d4f4493c-3902-4d44-9cf9-021914c49ff5",
   "metadata": {},
   "outputs": [],
   "source": [
    "n_cellphones_and_population_and_per_capita_df"
   ]
  },
  {
   "cell_type": "markdown",
   "id": "3be32876-aee5-4758-9251-511e515eb3f0",
   "metadata": {},
   "source": [
    "In the second table we are only interested in the column phones_per_capita, so we choose a subset."
   ]
  },
  {
   "cell_type": "code",
   "execution_count": null,
   "id": "c3d95cae-e641-423c-8d83-432417c9198a",
   "metadata": {},
   "outputs": [],
   "source": [
    "phones__per_capita_Series = n_cellphones_and_population_and_per_capita_df['phones_per_capita'].copy()"
   ]
  },
  {
   "cell_type": "code",
   "execution_count": null,
   "id": "4b5eee4d-70c0-4c9b-bd0f-93ec53d160bd",
   "metadata": {},
   "outputs": [],
   "source": [
    "phones__per_capita_Series.info()"
   ]
  },
  {
   "cell_type": "markdown",
   "id": "4ec00b85-0ca6-46a3-b6f5-aed3a4a41ae0",
   "metadata": {},
   "source": [
    "This is a Series, so we convert it to a DataFrame."
   ]
  },
  {
   "cell_type": "code",
   "execution_count": null,
   "id": "42a4d0d1-c6ba-4e54-a014-fc155b5d18d1",
   "metadata": {},
   "outputs": [],
   "source": [
    "phones__per_capita_df = pd.DataFrame(data=phones__per_capita_Series)"
   ]
  },
  {
   "cell_type": "code",
   "execution_count": null,
   "id": "90914dd9-2eca-4a5a-82a9-0261c6334a99",
   "metadata": {},
   "outputs": [],
   "source": [
    "phones__per_capita_df.info()"
   ]
  },
  {
   "cell_type": "code",
   "execution_count": null,
   "id": "d65aab9d-b4d2-414c-af90-199ea952b629",
   "metadata": {},
   "outputs": [],
   "source": [
    "phones__per_capita_df"
   ]
  },
  {
   "cell_type": "markdown",
   "id": "4cbd3770-efab-4573-823c-4e9607452d54",
   "metadata": {},
   "source": [
    "We want the country names and not the iso-3 codes, so we make a left join. First though, we make an unstack."
   ]
  },
  {
   "cell_type": "code",
   "execution_count": null,
   "id": "7ea5be3c-4582-4fb7-850a-0506927e38ce",
   "metadata": {},
   "outputs": [],
   "source": [
    "unstacked_phones_per_capita_df = phones__per_capita_df.unstack(level=-1)"
   ]
  },
  {
   "cell_type": "code",
   "execution_count": null,
   "id": "5187c53f-05fd-4aa8-a50e-557065eeed39",
   "metadata": {},
   "outputs": [],
   "source": [
    "unstacked_phones_per_capita_df.info()"
   ]
  },
  {
   "cell_type": "code",
   "execution_count": null,
   "id": "4ffecb43-f133-4e59-88e9-d57543b5fdb9",
   "metadata": {},
   "outputs": [],
   "source": [
    "unstacked_phones_per_capita_df"
   ]
  },
  {
   "cell_type": "code",
   "execution_count": null,
   "id": "b6892741-73f8-4cf9-80b7-d3a85af3806a",
   "metadata": {},
   "outputs": [],
   "source": [
    "unstacked_phones_per_capita_df.columns"
   ]
  },
  {
   "cell_type": "markdown",
   "id": "b7dcddd4-5667-4095-a88f-810854cb3e47",
   "metadata": {},
   "source": [
    "We will not need the column for 1960, so we delete it."
   ]
  },
  {
   "cell_type": "code",
   "execution_count": null,
   "id": "52191e12-8f36-4c97-b3cf-f2a529de7d7a",
   "metadata": {},
   "outputs": [],
   "source": [
    "years_unstacked_phones_per_capita_df = unstacked_phones_per_capita_df.drop(axis=1, columns=('phones_per_capita','1960'))"
   ]
  },
  {
   "cell_type": "code",
   "execution_count": null,
   "id": "cd05f8e7-98d2-4a13-ba06-887dc2d9427a",
   "metadata": {},
   "outputs": [],
   "source": [
    "years_unstacked_phones_per_capita_df"
   ]
  },
  {
   "cell_type": "markdown",
   "id": "3d13f45c-abdf-4cf6-9544-db6afee2c52f",
   "metadata": {},
   "source": [
    "We are only interested in the last five countries."
   ]
  },
  {
   "cell_type": "code",
   "execution_count": null,
   "id": "06ef9f75-4a0e-467b-82d9-aad261fae8c7",
   "metadata": {},
   "outputs": [],
   "source": [
    "countries_and_years_unstacked_phones_per_capita_df = years_unstacked_phones_per_capita_df.tail().copy()"
   ]
  },
  {
   "cell_type": "code",
   "execution_count": null,
   "id": "52d16574-6af4-4898-8258-945bdcbe1899",
   "metadata": {},
   "outputs": [],
   "source": [
    "countries_and_years_unstacked_phones_per_capita_df.info()"
   ]
  },
  {
   "cell_type": "markdown",
   "id": "ef2e766c-32da-4c88-b549-5214fe26b424",
   "metadata": {},
   "source": [
    "\n",
    "#### The second table\n"
   ]
  },
  {
   "cell_type": "markdown",
   "id": "510f90c1-204c-47c1-9af9-88aadf19506f",
   "metadata": {},
   "source": [
    "Time ran out to do more than this, for the first part of the assignment."
   ]
  },
  {
   "cell_type": "code",
   "execution_count": null,
   "id": "d0838995-87c6-4129-a023-cfc6c0fdac01",
   "metadata": {},
   "outputs": [],
   "source": [
    "countries_and_years_unstacked_phones_per_capita_df"
   ]
  },
  {
   "cell_type": "markdown",
   "id": "e7aa3cf0-2a65-4a6c-90bb-3a5a34f59344",
   "metadata": {},
   "source": [
    "Now we can choose the relevant column from name_strings_country_data_df"
   ]
  },
  {
   "cell_type": "code",
   "execution_count": null,
   "id": "f8abcdf8-c129-429b-9dfb-fa598eb6c237",
   "metadata": {},
   "outputs": [],
   "source": [
    "relevant_name_strings_country_data_Series = name_strings_country_data_df['name'].copy()"
   ]
  },
  {
   "cell_type": "code",
   "execution_count": null,
   "id": "10f32be5-d5f4-45db-a543-633a45d1d35b",
   "metadata": {},
   "outputs": [],
   "source": [
    "relevant_name_strings_country_data_Series.info()"
   ]
  },
  {
   "cell_type": "markdown",
   "id": "2196f2de-b2fc-4790-a37b-9322cdf7a355",
   "metadata": {},
   "source": [
    "Convert to data frame"
   ]
  },
  {
   "cell_type": "code",
   "execution_count": null,
   "id": "442e6e3b-0866-479a-aa49-7b686c87bb17",
   "metadata": {},
   "outputs": [],
   "source": [
    "relevant_name_strings_country_data_df = pd.DataFrame(data=relevant_name_strings_country_data_Series)"
   ]
  },
  {
   "cell_type": "code",
   "execution_count": null,
   "id": "0df3174d-5daf-450f-b9ed-f4d1edaa6cb9",
   "metadata": {},
   "outputs": [],
   "source": [
    "relevant_name_strings_country_data_df.info()"
   ]
  },
  {
   "cell_type": "markdown",
   "id": "a3ba3b67-3971-4c40-878a-f0c61a530b25",
   "metadata": {},
   "source": [
    "Time to join "
   ]
  },
  {
   "cell_type": "markdown",
   "id": "2fc4175e-ddbe-490d-80e4-6dbee15a6190",
   "metadata": {},
   "source": [
    "\n",
    "## SQL\n"
   ]
  },
  {
   "cell_type": "markdown",
   "id": "2e09cc05-f19f-4451-8302-8830cd63faec",
   "metadata": {},
   "source": [
    "Connect to the database and look at the data"
   ]
  },
  {
   "cell_type": "code",
   "execution_count": null,
   "id": "17d0c2c8-38bf-43db-b571-f03d876d3f2e",
   "metadata": {},
   "outputs": [],
   "source": [
    "conn = sql.connect(\"./user_actions.db\")\n",
    "cursor = conn.cursor()"
   ]
  },
  {
   "cell_type": "code",
   "execution_count": null,
   "id": "11e1b42d-4d74-4571-9a27-5134feb25738",
   "metadata": {},
   "outputs": [],
   "source": [
    "tables = list(cursor.execute(\"SELECT name FROM sqlite_master WHERE type='table';\"))\n",
    "tables"
   ]
  },
  {
   "cell_type": "code",
   "execution_count": null,
   "id": "fd41dddf-5208-4bec-9293-c805562a19c1",
   "metadata": {},
   "outputs": [],
   "source": [
    "views = list(cursor.execute(\"SELECT name FROM sqlite_master WHERE type='view';\"))\n",
    "views"
   ]
  },
  {
   "cell_type": "code",
   "execution_count": null,
   "id": "50a3cb5e-57f2-402c-b229-41f136aa61ca",
   "metadata": {},
   "outputs": [],
   "source": [
    "# SELECT\n",
    "\n",
    "query = \"\"\"\n",
    "SELECT * \n",
    "FROM user_actions\n",
    "\"\"\"\n",
    "\n",
    "cursor.execute(query)\n",
    "\n",
    "for data in cursor.fetchone():    \n",
    "    print(data)\n",
    "user_action_pd = pd.read_sql_query(query, conn)"
   ]
  },
  {
   "cell_type": "code",
   "execution_count": null,
   "id": "96925e5b-8a9b-41d3-aa35-cc3f431836f2",
   "metadata": {},
   "outputs": [],
   "source": [
    "user_action_pd.info()"
   ]
  },
  {
   "cell_type": "markdown",
   "id": "e072d870-b2c9-4be7-af29-8ee6b9ee7a85",
   "metadata": {},
   "source": [
    "\n",
    "#### Users who have \"signedup\"\n"
   ]
  },
  {
   "cell_type": "code",
   "execution_count": null,
   "id": "de0fe08c-158b-4a92-9a04-f0d5c3b696b5",
   "metadata": {},
   "outputs": [],
   "source": [
    "query = \"\"\"\n",
    "SELECT username \n",
    "FROM user_actions\n",
    "WHERE action='signup'\n",
    "\"\"\"\n",
    "\n",
    "cursor.execute(query)\n",
    "\n",
    "# for data in cursor.fetchall():    \n",
    "#    print(data)\n",
    "\n",
    "pd.read_sql_query(query, conn).sort_values(by='username')"
   ]
  },
  {
   "cell_type": "markdown",
   "id": "5c1dd014-127d-4393-b30c-ccf0a0e8b32b",
   "metadata": {},
   "source": [
    "\n",
    "#### Total number of log entries for each user\n"
   ]
  },
  {
   "cell_type": "code",
   "execution_count": null,
   "id": "c1a3e095-343b-4844-a39e-c4527f334f6d",
   "metadata": {},
   "outputs": [],
   "source": [
    "query = \"\"\"\n",
    "SELECT user_id, username, count(*) \n",
    "FROM user_actions\n",
    "WHERE action='login'\n",
    "GROUP BY username\n",
    "\"\"\"\n",
    "\n",
    "cursor.execute(query)\n",
    "\n",
    "# for data in cursor.fetchall():  \n",
    "#     print(data)\n",
    "\n",
    "pd.read_sql_query(query, conn).sort_values(by='username')"
   ]
  },
  {
   "cell_type": "markdown",
   "id": "5f1a29db-4dca-4f01-80bb-bdb184c6b16a",
   "metadata": {},
   "source": [
    "\n",
    "#### Users who have logged in and signed up on the same day\n"
   ]
  },
  {
   "cell_type": "markdown",
   "id": "2ad0b48f-8524-4a3e-bdb2-c7a822a599dc",
   "metadata": {},
   "source": [
    "Create two views, for signup and login, with new column, 'day', from 'timestamp'."
   ]
  },
  {
   "cell_type": "code",
   "execution_count": null,
   "id": "56f43b65-d108-4b7b-acae-a126a74136c3",
   "metadata": {},
   "outputs": [],
   "source": [
    "query = \"\"\"\n",
    "SELECT *\n",
    "FROM user_actions\n",
    "\"\"\"\n",
    "\n",
    "#cursor.execute(query)\n",
    "\n",
    "# for data in cursor.fetchall():\n",
    "# for data in cursor.fetchone():    \n",
    "#    print(data)"
   ]
  },
  {
   "cell_type": "code",
   "execution_count": null,
   "id": "b8d6b948-a311-4701-9f1e-fc2e1620a428",
   "metadata": {},
   "outputs": [],
   "source": [
    "query = \"\"\"\n",
    "CREATE VIEW login_view \n",
    " (user_id, login_username, login_day)  \n",
    "AS SELECT user_id, username, date(timestamp)\n",
    "FROM user_actions\n",
    "WHERE action='login' \n",
    "GROUP BY username, date(timestamp);\n",
    "\"\"\"\n",
    "cursor.execute(query);\n",
    "\n",
    "#for data in cursor.fetchone():\n",
    "# for data in cursor.fetchone():    \n",
    "#    print(data)\n",
    "# pd.read_sql_query(query, conn)\n",
    "#pd.read_sql_query(query, conn).sort_values(by='username')"
   ]
  },
  {
   "cell_type": "code",
   "execution_count": null,
   "id": "3a7cabf3-2b26-40e7-8c8a-97d78e3e1dbc",
   "metadata": {},
   "outputs": [],
   "source": [
    "query = \"\"\"\n",
    "CREATE VIEW signup_view \n",
    "  (user_id, signup_username, signup_day) \n",
    "AS SELECT user_id, username, date(timestamp)\n",
    "FROM user_actions\n",
    "WHERE action='signup' \n",
    "GROUP BY username, date(timestamp);\n",
    "\"\"\"\n",
    "cursor.execute(query);\n",
    "\n",
    "# for data in cursor.fetchone():\n",
    "# for data in cursor.fetchone():    \n",
    "#    print(data)\n",
    "# pd.read_sql_query(query, conn)\n",
    "# pd.read_sql_query(query, conn).sort_values(by='username')"
   ]
  },
  {
   "cell_type": "markdown",
   "id": "4747b1f5-864a-4f77-8935-a5a2b8c8c27b",
   "metadata": {},
   "source": [
    "\n",
    "##### Users who have signed up and logged in the same day.\n"
   ]
  },
  {
   "cell_type": "code",
   "execution_count": null,
   "id": "8ce7d928-110b-4ba6-96b9-73c21e30a607",
   "metadata": {},
   "outputs": [],
   "source": [
    "query = \"\"\"\n",
    "SELECT signup_view.user_id, signup_username, signup_day\n",
    "FROM signup_view, login_view\n",
    "WHERE signup_username = login_username\n",
    "      AND signup_day = login_day\n",
    "GROUP BY login_username\n",
    "\"\"\"\n",
    "cursor.execute(query)\n",
    "# for data in cursor.fetchone():\n",
    "# for data in cursor.fetchone():    \n",
    "#    print(data)\n",
    "# pd.read_sql_query(query, conn)\n",
    "pd.read_sql_query(query, conn).sort_values(by='signup_day')"
   ]
  },
  {
   "cell_type": "markdown",
   "id": "94a3c561-8bab-417e-9a62-77388fef196c",
   "metadata": {},
   "source": [
    "Cleaning up by dropping the views."
   ]
  },
  {
   "cell_type": "code",
   "execution_count": null,
   "id": "1f07a05c-9f58-4696-81f7-86607f095537",
   "metadata": {},
   "outputs": [],
   "source": [
    "query = \"\"\"\n",
    "DROP VIEW login_view\n",
    "\"\"\"\n",
    "cursor.execute(query);\n",
    "#AND login_view.date(timestamp) = signup_view.date(timestamp) \n",
    "# WHERE login_view.username = signup_view.username \n",
    "# GROUP BY username\n",
    "#for data in cursor.fetchone():\n",
    "# for data in cursor.fetchone():    \n",
    "#   print(data)\n",
    "# pd.read_sql_query(query, conn)\n",
    "# pd.read_sql_query(query, conn).sort_values(by='username')"
   ]
  },
  {
   "cell_type": "code",
   "execution_count": null,
   "id": "dacc6862-ebba-4db5-8659-86119f7e8a07",
   "metadata": {},
   "outputs": [],
   "source": [
    "query = \"\"\"\n",
    "DROP VIEW signup_view\n",
    "\"\"\"\n",
    "cursor.execute(query);"
   ]
  },
  {
   "cell_type": "code",
   "execution_count": null,
   "id": "f0e07fae-0adf-40c9-8670-a74af9d366d7",
   "metadata": {},
   "outputs": [],
   "source": [
    "query = \"\"\"\n",
    "SELECT user_id, username, action, date(timestamp)\n",
    "FROM user_actions\n",
    "WHERE username='user1' AND (action='login' OR action='signup')\n",
    "GROUP BY date(timestamp)\n",
    "\"\"\"\n",
    "# cursor.execute(query)\n",
    "\n",
    "# for data in cursor.fetchall():\n",
    "# for data in cursor.fetchone():    \n",
    "#    print(data)\n",
    "# pd.read_sql_query(query, conn)\n",
    "# pd.read_sql_query(query, conn).sort_values(by='username')"
   ]
  },
  {
   "cell_type": "code",
   "execution_count": null,
   "id": "07e03e84-cda2-4e92-b5ab-b0e79d5cd404",
   "metadata": {},
   "outputs": [],
   "source": [
    "query = \"\"\"\n",
    "SELECT user_id, username, day\n",
    "FROM user_actions\n",
    "WHERE action='login' OR action='signup'\n",
    "GROUP BY day\n",
    "\"\"\"\n",
    "\n",
    "# cursor.execute(query)\n",
    "\n",
    "# for data in cursor.fetchone():\n",
    "# for data in cursor.fetchone():    \n",
    "#     print(data)\n",
    "# pd.read_sql_query(query, conn)\n",
    "# pd.read_sql_query(query, conn).sort_values(by='username')"
   ]
  },
  {
   "cell_type": "markdown",
   "id": "3f0261ea-c923-4d27-9f00-b15d42be7f16",
   "metadata": {},
   "source": [
    "\n",
    "## Regex\n"
   ]
  },
  {
   "cell_type": "markdown",
   "id": "ca35ce37-a3e1-4bb7-8a72-4ff8370c2387",
   "metadata": {},
   "source": [
    "\n",
    "#### Read data from file\n"
   ]
  },
  {
   "cell_type": "code",
   "execution_count": null,
   "id": "22c7aa92-bdca-4900-bd31-73409fde3e9d",
   "metadata": {},
   "outputs": [],
   "source": [
    "first_part = r\"^\\d{1,3}\\.\" # split each line at the beginning number, which will not be saved"
   ]
  },
  {
   "cell_type": "code",
   "execution_count": null,
   "id": "6c3f0ec0-01fa-4921-8ca1-c70d6d425f31",
   "metadata": {},
   "outputs": [],
   "source": [
    "comments_pd = pd.read_table('comments.txt', sep=first_part, names=['id', 'comment'], engine='python')"
   ]
  },
  {
   "cell_type": "code",
   "execution_count": null,
   "id": "9f41c44e-b6c6-43b8-8d03-84d8f69ab05c",
   "metadata": {},
   "outputs": [],
   "source": [
    "comments_pd['comment'].head() # show the first five comments"
   ]
  },
  {
   "cell_type": "code",
   "execution_count": null,
   "id": "5da3aa7f-1a63-48cc-a176-9d67d9aa287a",
   "metadata": {},
   "outputs": [],
   "source": [
    "# comments_pd.info()"
   ]
  },
  {
   "cell_type": "code",
   "execution_count": null,
   "id": "d762ea83-796e-4eb3-b672-8522e46c16ad",
   "metadata": {},
   "outputs": [],
   "source": [
    "# comments_pd.head()"
   ]
  },
  {
   "cell_type": "code",
   "execution_count": null,
   "id": "f98966f6-edae-4588-83a3-0f6626b7d193",
   "metadata": {},
   "outputs": [],
   "source": [
    "comments_pd.dtypes"
   ]
  },
  {
   "cell_type": "markdown",
   "id": "1061eb8c-f9f8-45da-ac97-978bf7788a92",
   "metadata": {},
   "source": [
    "\n",
    "##### Drop the 'id' column and convert the comments to strings\n"
   ]
  },
  {
   "cell_type": "markdown",
   "id": "2ac8bb47-7456-431a-93b8-0efe550aab04",
   "metadata": {},
   "source": [
    "This will create a Series of strings."
   ]
  },
  {
   "cell_type": "code",
   "execution_count": null,
   "id": "29e30870-cb89-4146-9acd-ff5dfa0578a0",
   "metadata": {},
   "outputs": [],
   "source": [
    "string_comments = comments_pd['comment'].astype({'comment' : 'string'}, copy=True)"
   ]
  },
  {
   "cell_type": "code",
   "execution_count": null,
   "id": "37e1d98c-3cb4-4e06-a156-7fcb960d06ea",
   "metadata": {},
   "outputs": [],
   "source": [
    "# string_comments.info()"
   ]
  },
  {
   "cell_type": "code",
   "execution_count": null,
   "id": "a97c74a8-5e66-4571-b59b-ae6efa19ccac",
   "metadata": {},
   "outputs": [],
   "source": [
    "string_comments.head(6) # show the first six comments"
   ]
  },
  {
   "cell_type": "code",
   "execution_count": null,
   "id": "e9cd0841-36eb-48da-8977-b527e1ac36de",
   "metadata": {},
   "outputs": [],
   "source": [
    "# string_comments.tail()"
   ]
  },
  {
   "cell_type": "code",
   "execution_count": null,
   "id": "a57a8938-5903-4e7d-88b8-3d1c0c8e0419",
   "metadata": {},
   "outputs": [],
   "source": [
    "# string_comments[99]"
   ]
  },
  {
   "cell_type": "code",
   "execution_count": null,
   "id": "57750d2a-1ac3-4b73-9ba2-7251547a116e",
   "metadata": {},
   "outputs": [],
   "source": [
    "# string_comments[97]"
   ]
  },
  {
   "cell_type": "code",
   "execution_count": null,
   "id": "7e55de51-b3a5-4c4d-aaf7-c21d6155b0a8",
   "metadata": {},
   "outputs": [],
   "source": [
    "# string_comments[1]"
   ]
  },
  {
   "cell_type": "markdown",
   "id": "935e7db8-8fce-42f6-a752-ab9064e26c30",
   "metadata": {},
   "source": [
    "\n",
    "#### Solve tasks\n"
   ]
  },
  {
   "cell_type": "markdown",
   "id": "3f3c1b0e-d6de-45a3-b4a1-9513b68b6cc1",
   "metadata": {},
   "source": [
    "\n",
    "##### All hashtags\n"
   ]
  },
  {
   "cell_type": "code",
   "execution_count": null,
   "id": "d0049ffb-51d1-4a7e-9447-9ca608c60ad9",
   "metadata": {},
   "outputs": [],
   "source": [
    "pattern_all_hashtags = r\"[#]{1}[\\w]+\"\n",
    "pattern_all_hashtags"
   ]
  },
  {
   "cell_type": "code",
   "execution_count": null,
   "id": "6db1b591-d50c-4c7f-96b1-12ba35cf293e",
   "metadata": {},
   "outputs": [],
   "source": [
    "# tag_comment_1 = re.findall(pattern_all_hashtags, string_comments[1]) # the second comment\n",
    "# print(tag_comment_1)"
   ]
  },
  {
   "cell_type": "markdown",
   "id": "0ed0af86-ca4c-4a00-b48d-6863895673e8",
   "metadata": {},
   "source": [
    "\n",
    "###### All hashtags are found in the first comment\n"
   ]
  },
  {
   "cell_type": "code",
   "execution_count": null,
   "id": "351dfa81-c6ee-494a-b8ca-37fb45ba5f50",
   "metadata": {},
   "outputs": [],
   "source": [
    "tag_comment_0 = re.findall(pattern_all_hashtags, string_comments[0])\n",
    "print(tag_comment_0)"
   ]
  },
  {
   "cell_type": "markdown",
   "id": "8af32f57-5ab7-411d-8fb8-3959b0951969",
   "metadata": {},
   "source": [
    "\n",
    "##### Both #programming and #python\n"
   ]
  },
  {
   "cell_type": "code",
   "execution_count": null,
   "id": "51177f5c-f751-416c-a0ce-61d07cb62dec",
   "metadata": {},
   "outputs": [],
   "source": [
    "# pattern_both_test = r\"[#programming]+ och [#python]+\"\n",
    "# pattern_both_test"
   ]
  },
  {
   "cell_type": "code",
   "execution_count": null,
   "id": "7254b146-67d3-43b6-9223-a557aba925d5",
   "metadata": {},
   "outputs": [],
   "source": [
    "pattern_both = r\"[#p]{1}[\\w]+[o]{1}[\\w]*[n]{1}[\\w]*\"\n",
    "pattern_both"
   ]
  },
  {
   "cell_type": "code",
   "execution_count": null,
   "id": "c4c74d73-061f-4bcc-81ab-c9c154f734ef",
   "metadata": {},
   "outputs": [],
   "source": [
    "# both_tag_comment_0 = re.findall(pattern_both, string_comments[0])\n",
    "# print(both_tag_comment_0)"
   ]
  },
  {
   "cell_type": "markdown",
   "id": "77035bd7-c3e7-4d64-9f58-67ae8252431e",
   "metadata": {},
   "source": [
    "\n",
    "###### In the second comment, #python is found, but not #programming\n"
   ]
  },
  {
   "cell_type": "code",
   "execution_count": null,
   "id": "d25d9977-7c06-444b-bc72-0e7f5adb006f",
   "metadata": {},
   "outputs": [],
   "source": [
    "both_tag_comment_1 = re.findall(pattern_both, string_comments[1])\n",
    "print(both_tag_comment_1)"
   ]
  },
  {
   "cell_type": "markdown",
   "id": "95609d25-9d09-4115-8600-e50bfe0fdaf2",
   "metadata": {},
   "source": [
    "\n",
    "###### To find both #python and #programming, we have to search in the sixth comment\n"
   ]
  },
  {
   "cell_type": "code",
   "execution_count": null,
   "id": "2250bcef-f801-4f59-a48e-6fbf2de79017",
   "metadata": {},
   "outputs": [],
   "source": [
    "both_tag_comment_5 = re.findall(pattern_both, string_comments[5])\n",
    "print(both_tag_comment_5)"
   ]
  },
  {
   "cell_type": "markdown",
   "id": "5725af2f-c93d-486d-bff0-e39b15703ee4",
   "metadata": {},
   "source": [
    "We see that this patterna finds both #programming och #python, if they exist in a comment. It also finds some other tags, e.g. #coding, but it was not required in the assignment that no other tags should be found."
   ]
  },
  {
   "cell_type": "markdown",
   "id": "b969b370-4ba5-471c-868b-a986c5dec1cb",
   "metadata": {},
   "source": [
    "\n",
    "##### All unique hash tags\n"
   ]
  },
  {
   "cell_type": "code",
   "execution_count": null,
   "id": "41485fc6-7c18-4e81-a4b4-4116263826e1",
   "metadata": {},
   "outputs": [],
   "source": [
    "all_tags = []\n",
    "for i in range(99):\n",
    "    all_tags.append(re.findall(pattern_all_hashtags, string_comments[i]))"
   ]
  },
  {
   "cell_type": "code",
   "execution_count": null,
   "id": "95f716cf-47de-49a0-90f2-138fd4ee6c4e",
   "metadata": {},
   "outputs": [],
   "source": [
    "all_tags[:5]"
   ]
  },
  {
   "cell_type": "code",
   "execution_count": null,
   "id": "cad908e3-f13e-4420-8985-f2d64bdd8526",
   "metadata": {},
   "outputs": [],
   "source": [
    "type(all_tags)"
   ]
  },
  {
   "cell_type": "code",
   "execution_count": null,
   "id": "e4085f2c-dd2b-4342-b9dd-bb3d009104d1",
   "metadata": {},
   "outputs": [],
   "source": [
    "#len(all_tags)"
   ]
  },
  {
   "cell_type": "markdown",
   "id": "e01ac8ac-be7f-44f0-a8ed-5fedc990f6b3",
   "metadata": {},
   "source": [
    "This is a list of lists. In python it is possible to transform it to a set, where all duplicates will disappear. As it is required to do everything with regex, I will not continue."
   ]
  },
  {
   "cell_type": "markdown",
   "id": "7ae8c341-e9b8-4232-8d0e-3486dbd48d7a",
   "metadata": {},
   "source": [
    "\n",
    "##### Från kurs_demo\n"
   ]
  },
  {
   "cell_type": "code",
   "execution_count": null,
   "id": "1b7d5393-2307-45ef-aa99-af7af9672cab",
   "metadata": {},
   "outputs": [],
   "source": [
    "string = \"Please contact support@example.com for assistance. For general inquiries, you can email info@company.com and @gmail.com\"\n",
    "print(string)"
   ]
  },
  {
   "cell_type": "code",
   "execution_count": null,
   "id": "2ad8a012-567b-4abc-868f-6b6cf3f582c7",
   "metadata": {},
   "outputs": [],
   "source": [
    "pattern = r\"\\b[\\w._%+-]+@[\\w.-]+\\.[A-Za-z]{2,4}\\b\"\n",
    "r\"\\b[\\w._%+-]+@[\\w.-]+\\.[A-Za-z]{2,4}\\b\""
   ]
  },
  {
   "cell_type": "code",
   "execution_count": null,
   "id": "4bed9340-10b3-495a-b25e-13359af795bf",
   "metadata": {},
   "outputs": [],
   "source": [
    "emails = re.findall(pattern, string)\n",
    "print(emails)"
   ]
  },
  {
   "cell_type": "code",
   "execution_count": null,
   "id": "de957292-2306-4feb-b590-d34275b2c707",
   "metadata": {},
   "outputs": [],
   "source": []
  }
 ],
 "metadata": {
  "kernelspec": {
   "display_name": "Python 3 (ipykernel)",
   "language": "python",
   "name": "python3"
  },
  "language_info": {
   "codemirror_mode": {
    "name": "ipython",
    "version": 3
   },
   "file_extension": ".py",
   "mimetype": "text/x-python",
   "name": "python",
   "nbconvert_exporter": "python",
   "pygments_lexer": "ipython3",
   "version": "3.13.1"
  }
 },
 "nbformat": 4,
 "nbformat_minor": 5
}

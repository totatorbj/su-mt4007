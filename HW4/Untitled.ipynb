{
 "cells": [
  {
   "cell_type": "markdown",
   "id": "4a671dba-0c16-4d98-98dd-46666d4c70cf",
   "metadata": {},
   "source": [
    "\n",
    "# Homework 4\n"
   ]
  },
  {
   "cell_type": "markdown",
   "id": "a64fa077-ebe7-48c7-b57a-0f13af532c47",
   "metadata": {},
   "source": [
    "Some initializations"
   ]
  },
  {
   "cell_type": "code",
   "execution_count": 1,
   "id": "83ea333a-a19c-4e60-a1f0-678c44ab333b",
   "metadata": {},
   "outputs": [],
   "source": [
    "import numpy as np\n",
    "import pandas as pd\n",
    "# import matplotlib as mpl\n",
    "import matplotlib.pyplot as plt\n",
    "import seaborn as sns"
   ]
  },
  {
   "cell_type": "markdown",
   "id": "e8b1af13-893f-495e-a67e-660d0146a195",
   "metadata": {},
   "source": [
    "\n",
    "## Joining data\n"
   ]
  },
  {
   "cell_type": "markdown",
   "id": "2fc4175e-ddbe-490d-80e4-6dbee15a6190",
   "metadata": {},
   "source": [
    "\n",
    "## SQL\n"
   ]
  },
  {
   "cell_type": "markdown",
   "id": "3f0261ea-c923-4d27-9f00-b15d42be7f16",
   "metadata": {},
   "source": [
    "\n",
    "## Regex\n"
   ]
  },
  {
   "cell_type": "code",
   "execution_count": null,
   "id": "8268a1e9-38c9-4864-926a-dfe29d2f08d9",
   "metadata": {},
   "outputs": [],
   "source": []
  }
 ],
 "metadata": {
  "kernelspec": {
   "display_name": "Python 3 (ipykernel)",
   "language": "python",
   "name": "python3"
  },
  "language_info": {
   "codemirror_mode": {
    "name": "ipython",
    "version": 3
   },
   "file_extension": ".py",
   "mimetype": "text/x-python",
   "name": "python",
   "nbconvert_exporter": "python",
   "pygments_lexer": "ipython3",
   "version": "3.13.0"
  }
 },
 "nbformat": 4,
 "nbformat_minor": 5
}

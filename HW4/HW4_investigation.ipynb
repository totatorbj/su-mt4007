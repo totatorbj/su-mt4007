{
 "cells": [
  {
   "cell_type": "markdown",
   "id": "4a671dba-0c16-4d98-98dd-46666d4c70cf",
   "metadata": {},
   "source": [
    "\n",
    "# Homework 4\n"
   ]
  },
  {
   "cell_type": "markdown",
   "id": "a64fa077-ebe7-48c7-b57a-0f13af532c47",
   "metadata": {},
   "source": [
    "Some initializations"
   ]
  },
  {
   "cell_type": "code",
   "execution_count": 1,
   "id": "83ea333a-a19c-4e60-a1f0-678c44ab333b",
   "metadata": {},
   "outputs": [],
   "source": [
    "import numpy as np\n",
    "import pandas as pd\n",
    "import re\n",
    "import matplotlib.pyplot as plt\n",
    "import seaborn as sns\n",
    "import sqlite3 as sql"
   ]
  },
  {
   "cell_type": "markdown",
   "id": "e8b1af13-893f-495e-a67e-660d0146a195",
   "metadata": {},
   "source": [
    "\n",
    "## Joining data\n"
   ]
  },
  {
   "cell_type": "markdown",
   "id": "2fc4175e-ddbe-490d-80e4-6dbee15a6190",
   "metadata": {},
   "source": [
    "\n",
    "## SQL\n"
   ]
  },
  {
   "cell_type": "markdown",
   "id": "2e09cc05-f19f-4451-8302-8830cd63faec",
   "metadata": {},
   "source": [
    "Connect to the database and look at the data"
   ]
  },
  {
   "cell_type": "code",
   "execution_count": 2,
   "id": "17d0c2c8-38bf-43db-b571-f03d876d3f2e",
   "metadata": {},
   "outputs": [],
   "source": [
    "# conn = sql.connect(\"./user_actions.sqlite3\")\n",
    "conn = sql.connect(\"./user_actions.db\")\n",
    "cursor = conn.cursor()"
   ]
  },
  {
   "cell_type": "code",
   "execution_count": 3,
   "id": "11e1b42d-4d74-4571-9a27-5134feb25738",
   "metadata": {},
   "outputs": [
    {
     "data": {
      "text/plain": [
       "[('user_actions',)]"
      ]
     },
     "execution_count": 3,
     "metadata": {},
     "output_type": "execute_result"
    }
   ],
   "source": [
    "tables = list(cursor.execute(\"SELECT name FROM sqlite_master WHERE type='table';\"))\n",
    "tables"
   ]
  },
  {
   "cell_type": "code",
   "execution_count": null,
   "id": "dbd62b43-cd6a-47cb-ad6b-38d3d11b519f",
   "metadata": {},
   "outputs": [],
   "source": []
  },
  {
   "cell_type": "code",
   "execution_count": 4,
   "id": "50a3cb5e-57f2-402c-b229-41f136aa61ca",
   "metadata": {},
   "outputs": [
    {
     "name": "stdout",
     "output_type": "stream",
     "text": [
      "34\n",
      "user34\n",
      "user34@email.com\n",
      "signup\n",
      "2015-02-04 14:38:47\n",
      "None\n"
     ]
    }
   ],
   "source": [
    "# SELECT\n",
    "\n",
    "query = \"\"\"\n",
    "SELECT * \n",
    "FROM user_actions\n",
    "\"\"\"\n",
    "\n",
    "cursor.execute(query)\n",
    "\n",
    "# for data in cursor.fetchall():\n",
    "for data in cursor.fetchone():    \n",
    "    print(data)\n",
    "user_action_pd = pd.read_sql_query(query, conn)"
   ]
  },
  {
   "cell_type": "code",
   "execution_count": 5,
   "id": "96925e5b-8a9b-41d3-aa35-cc3f431836f2",
   "metadata": {},
   "outputs": [
    {
     "name": "stdout",
     "output_type": "stream",
     "text": [
      "<class 'pandas.core.frame.DataFrame'>\n",
      "RangeIndex: 8040 entries, 0 to 8039\n",
      "Data columns (total 6 columns):\n",
      " #   Column     Non-Null Count  Dtype \n",
      "---  ------     --------------  ----- \n",
      " 0   user_id    8040 non-null   int64 \n",
      " 1   username   8040 non-null   object\n",
      " 2   email      8040 non-null   object\n",
      " 3   action     8040 non-null   object\n",
      " 4   timestamp  8040 non-null   object\n",
      " 5   day        0 non-null      object\n",
      "dtypes: int64(1), object(5)\n",
      "memory usage: 377.0+ KB\n"
     ]
    }
   ],
   "source": [
    "user_action_pd.info()"
   ]
  },
  {
   "cell_type": "code",
   "execution_count": null,
   "id": "cc9e06a5-a0cc-45f5-8ea9-3f52116c09c1",
   "metadata": {},
   "outputs": [],
   "source": []
  },
  {
   "cell_type": "code",
   "execution_count": null,
   "id": "2e517709-b19f-42a5-924e-5379b47d1b5f",
   "metadata": {},
   "outputs": [],
   "source": []
  },
  {
   "cell_type": "markdown",
   "id": "e072d870-b2c9-4be7-af29-8ee6b9ee7a85",
   "metadata": {},
   "source": [
    "\n",
    "#### Users who have \"signedup\"\n"
   ]
  },
  {
   "cell_type": "code",
   "execution_count": 6,
   "id": "de0fe08c-158b-4a92-9a04-f0d5c3b696b5",
   "metadata": {},
   "outputs": [
    {
     "name": "stdout",
     "output_type": "stream",
     "text": [
      "('user34',)\n",
      "('user28',)\n",
      "('user1',)\n",
      "('user24',)\n",
      "('user15',)\n",
      "('user20',)\n",
      "('user18',)\n",
      "('user25',)\n",
      "('user3',)\n",
      "('user9',)\n",
      "('user27',)\n",
      "('user16',)\n",
      "('user17',)\n",
      "('user4',)\n",
      "('user8',)\n",
      "('user13',)\n",
      "('user19',)\n",
      "('user31',)\n",
      "('user10',)\n",
      "('user23',)\n",
      "('user11',)\n",
      "('user33',)\n",
      "('user12',)\n",
      "('user29',)\n",
      "('user21',)\n",
      "('user6',)\n",
      "('user14',)\n",
      "('user30',)\n",
      "('user7',)\n",
      "('user26',)\n",
      "('user22',)\n",
      "('user5',)\n",
      "('user35',)\n",
      "('user2',)\n",
      "('user32',)\n"
     ]
    },
    {
     "data": {
      "text/html": [
       "<div>\n",
       "<style scoped>\n",
       "    .dataframe tbody tr th:only-of-type {\n",
       "        vertical-align: middle;\n",
       "    }\n",
       "\n",
       "    .dataframe tbody tr th {\n",
       "        vertical-align: top;\n",
       "    }\n",
       "\n",
       "    .dataframe thead th {\n",
       "        text-align: right;\n",
       "    }\n",
       "</style>\n",
       "<table border=\"1\" class=\"dataframe\">\n",
       "  <thead>\n",
       "    <tr style=\"text-align: right;\">\n",
       "      <th></th>\n",
       "      <th>username</th>\n",
       "    </tr>\n",
       "  </thead>\n",
       "  <tbody>\n",
       "    <tr>\n",
       "      <th>2</th>\n",
       "      <td>user1</td>\n",
       "    </tr>\n",
       "    <tr>\n",
       "      <th>18</th>\n",
       "      <td>user10</td>\n",
       "    </tr>\n",
       "    <tr>\n",
       "      <th>20</th>\n",
       "      <td>user11</td>\n",
       "    </tr>\n",
       "    <tr>\n",
       "      <th>22</th>\n",
       "      <td>user12</td>\n",
       "    </tr>\n",
       "    <tr>\n",
       "      <th>15</th>\n",
       "      <td>user13</td>\n",
       "    </tr>\n",
       "    <tr>\n",
       "      <th>26</th>\n",
       "      <td>user14</td>\n",
       "    </tr>\n",
       "    <tr>\n",
       "      <th>4</th>\n",
       "      <td>user15</td>\n",
       "    </tr>\n",
       "    <tr>\n",
       "      <th>11</th>\n",
       "      <td>user16</td>\n",
       "    </tr>\n",
       "    <tr>\n",
       "      <th>12</th>\n",
       "      <td>user17</td>\n",
       "    </tr>\n",
       "    <tr>\n",
       "      <th>6</th>\n",
       "      <td>user18</td>\n",
       "    </tr>\n",
       "    <tr>\n",
       "      <th>16</th>\n",
       "      <td>user19</td>\n",
       "    </tr>\n",
       "    <tr>\n",
       "      <th>33</th>\n",
       "      <td>user2</td>\n",
       "    </tr>\n",
       "    <tr>\n",
       "      <th>5</th>\n",
       "      <td>user20</td>\n",
       "    </tr>\n",
       "    <tr>\n",
       "      <th>24</th>\n",
       "      <td>user21</td>\n",
       "    </tr>\n",
       "    <tr>\n",
       "      <th>30</th>\n",
       "      <td>user22</td>\n",
       "    </tr>\n",
       "    <tr>\n",
       "      <th>19</th>\n",
       "      <td>user23</td>\n",
       "    </tr>\n",
       "    <tr>\n",
       "      <th>3</th>\n",
       "      <td>user24</td>\n",
       "    </tr>\n",
       "    <tr>\n",
       "      <th>7</th>\n",
       "      <td>user25</td>\n",
       "    </tr>\n",
       "    <tr>\n",
       "      <th>29</th>\n",
       "      <td>user26</td>\n",
       "    </tr>\n",
       "    <tr>\n",
       "      <th>10</th>\n",
       "      <td>user27</td>\n",
       "    </tr>\n",
       "    <tr>\n",
       "      <th>1</th>\n",
       "      <td>user28</td>\n",
       "    </tr>\n",
       "    <tr>\n",
       "      <th>23</th>\n",
       "      <td>user29</td>\n",
       "    </tr>\n",
       "    <tr>\n",
       "      <th>8</th>\n",
       "      <td>user3</td>\n",
       "    </tr>\n",
       "    <tr>\n",
       "      <th>27</th>\n",
       "      <td>user30</td>\n",
       "    </tr>\n",
       "    <tr>\n",
       "      <th>17</th>\n",
       "      <td>user31</td>\n",
       "    </tr>\n",
       "    <tr>\n",
       "      <th>34</th>\n",
       "      <td>user32</td>\n",
       "    </tr>\n",
       "    <tr>\n",
       "      <th>21</th>\n",
       "      <td>user33</td>\n",
       "    </tr>\n",
       "    <tr>\n",
       "      <th>0</th>\n",
       "      <td>user34</td>\n",
       "    </tr>\n",
       "    <tr>\n",
       "      <th>32</th>\n",
       "      <td>user35</td>\n",
       "    </tr>\n",
       "    <tr>\n",
       "      <th>13</th>\n",
       "      <td>user4</td>\n",
       "    </tr>\n",
       "    <tr>\n",
       "      <th>31</th>\n",
       "      <td>user5</td>\n",
       "    </tr>\n",
       "    <tr>\n",
       "      <th>25</th>\n",
       "      <td>user6</td>\n",
       "    </tr>\n",
       "    <tr>\n",
       "      <th>28</th>\n",
       "      <td>user7</td>\n",
       "    </tr>\n",
       "    <tr>\n",
       "      <th>14</th>\n",
       "      <td>user8</td>\n",
       "    </tr>\n",
       "    <tr>\n",
       "      <th>9</th>\n",
       "      <td>user9</td>\n",
       "    </tr>\n",
       "  </tbody>\n",
       "</table>\n",
       "</div>"
      ],
      "text/plain": [
       "   username\n",
       "2     user1\n",
       "18   user10\n",
       "20   user11\n",
       "22   user12\n",
       "15   user13\n",
       "26   user14\n",
       "4    user15\n",
       "11   user16\n",
       "12   user17\n",
       "6    user18\n",
       "16   user19\n",
       "33    user2\n",
       "5    user20\n",
       "24   user21\n",
       "30   user22\n",
       "19   user23\n",
       "3    user24\n",
       "7    user25\n",
       "29   user26\n",
       "10   user27\n",
       "1    user28\n",
       "23   user29\n",
       "8     user3\n",
       "27   user30\n",
       "17   user31\n",
       "34   user32\n",
       "21   user33\n",
       "0    user34\n",
       "32   user35\n",
       "13    user4\n",
       "31    user5\n",
       "25    user6\n",
       "28    user7\n",
       "14    user8\n",
       "9     user9"
      ]
     },
     "execution_count": 6,
     "metadata": {},
     "output_type": "execute_result"
    }
   ],
   "source": [
    "query = \"\"\"\n",
    "SELECT username \n",
    "FROM user_actions\n",
    "WHERE action='signup'\n",
    "\"\"\"\n",
    "\n",
    "cursor.execute(query)\n",
    "\n",
    "for data in cursor.fetchall():\n",
    "# for data in cursor.fetchone():    \n",
    "    print(data)\n",
    "# pd.read_sql_query(query, conn)\n",
    "pd.read_sql_query(query, conn).sort_values(by='username')"
   ]
  },
  {
   "cell_type": "markdown",
   "id": "5c1dd014-127d-4393-b30c-ccf0a0e8b32b",
   "metadata": {},
   "source": [
    "\n",
    "#### Total number of log entries for each user\n"
   ]
  },
  {
   "cell_type": "code",
   "execution_count": 7,
   "id": "c1a3e095-343b-4844-a39e-c4527f334f6d",
   "metadata": {},
   "outputs": [
    {
     "name": "stdout",
     "output_type": "stream",
     "text": [
      "(1, 'user1', 97)\n",
      "(10, 'user10', 163)\n",
      "(11, 'user11', 319)\n",
      "(12, 'user12', 202)\n",
      "(13, 'user13', 464)\n",
      "(14, 'user14', 311)\n",
      "(15, 'user15', 30)\n",
      "(16, 'user16', 370)\n",
      "(17, 'user17', 356)\n",
      "(18, 'user18', 116)\n",
      "(19, 'user19', 48)\n",
      "(2, 'user2', 139)\n",
      "(20, 'user20', 353)\n",
      "(21, 'user21', 318)\n",
      "(22, 'user22', 264)\n",
      "(23, 'user23', 301)\n",
      "(24, 'user24', 152)\n",
      "(25, 'user25', 131)\n",
      "(26, 'user26', 213)\n",
      "(27, 'user27', 201)\n",
      "(28, 'user28', 81)\n",
      "(29, 'user29', 42)\n",
      "(3, 'user3', 101)\n",
      "(30, 'user30', 160)\n",
      "(31, 'user31', 381)\n",
      "(32, 'user32', 22)\n",
      "(33, 'user33', 23)\n",
      "(34, 'user34', 175)\n",
      "(35, 'user35', 384)\n",
      "(4, 'user4', 425)\n",
      "(5, 'user5', 182)\n",
      "(6, 'user6', 448)\n",
      "(7, 'user7', 358)\n",
      "(8, 'user8', 318)\n",
      "(9, 'user9', 109)\n"
     ]
    },
    {
     "data": {
      "text/html": [
       "<div>\n",
       "<style scoped>\n",
       "    .dataframe tbody tr th:only-of-type {\n",
       "        vertical-align: middle;\n",
       "    }\n",
       "\n",
       "    .dataframe tbody tr th {\n",
       "        vertical-align: top;\n",
       "    }\n",
       "\n",
       "    .dataframe thead th {\n",
       "        text-align: right;\n",
       "    }\n",
       "</style>\n",
       "<table border=\"1\" class=\"dataframe\">\n",
       "  <thead>\n",
       "    <tr style=\"text-align: right;\">\n",
       "      <th></th>\n",
       "      <th>user_id</th>\n",
       "      <th>username</th>\n",
       "      <th>count(*)</th>\n",
       "    </tr>\n",
       "  </thead>\n",
       "  <tbody>\n",
       "    <tr>\n",
       "      <th>0</th>\n",
       "      <td>1</td>\n",
       "      <td>user1</td>\n",
       "      <td>97</td>\n",
       "    </tr>\n",
       "    <tr>\n",
       "      <th>1</th>\n",
       "      <td>10</td>\n",
       "      <td>user10</td>\n",
       "      <td>163</td>\n",
       "    </tr>\n",
       "    <tr>\n",
       "      <th>2</th>\n",
       "      <td>11</td>\n",
       "      <td>user11</td>\n",
       "      <td>319</td>\n",
       "    </tr>\n",
       "    <tr>\n",
       "      <th>3</th>\n",
       "      <td>12</td>\n",
       "      <td>user12</td>\n",
       "      <td>202</td>\n",
       "    </tr>\n",
       "    <tr>\n",
       "      <th>4</th>\n",
       "      <td>13</td>\n",
       "      <td>user13</td>\n",
       "      <td>464</td>\n",
       "    </tr>\n",
       "    <tr>\n",
       "      <th>5</th>\n",
       "      <td>14</td>\n",
       "      <td>user14</td>\n",
       "      <td>311</td>\n",
       "    </tr>\n",
       "    <tr>\n",
       "      <th>6</th>\n",
       "      <td>15</td>\n",
       "      <td>user15</td>\n",
       "      <td>30</td>\n",
       "    </tr>\n",
       "    <tr>\n",
       "      <th>7</th>\n",
       "      <td>16</td>\n",
       "      <td>user16</td>\n",
       "      <td>370</td>\n",
       "    </tr>\n",
       "    <tr>\n",
       "      <th>8</th>\n",
       "      <td>17</td>\n",
       "      <td>user17</td>\n",
       "      <td>356</td>\n",
       "    </tr>\n",
       "    <tr>\n",
       "      <th>9</th>\n",
       "      <td>18</td>\n",
       "      <td>user18</td>\n",
       "      <td>116</td>\n",
       "    </tr>\n",
       "    <tr>\n",
       "      <th>10</th>\n",
       "      <td>19</td>\n",
       "      <td>user19</td>\n",
       "      <td>48</td>\n",
       "    </tr>\n",
       "    <tr>\n",
       "      <th>11</th>\n",
       "      <td>2</td>\n",
       "      <td>user2</td>\n",
       "      <td>139</td>\n",
       "    </tr>\n",
       "    <tr>\n",
       "      <th>12</th>\n",
       "      <td>20</td>\n",
       "      <td>user20</td>\n",
       "      <td>353</td>\n",
       "    </tr>\n",
       "    <tr>\n",
       "      <th>13</th>\n",
       "      <td>21</td>\n",
       "      <td>user21</td>\n",
       "      <td>318</td>\n",
       "    </tr>\n",
       "    <tr>\n",
       "      <th>14</th>\n",
       "      <td>22</td>\n",
       "      <td>user22</td>\n",
       "      <td>264</td>\n",
       "    </tr>\n",
       "    <tr>\n",
       "      <th>15</th>\n",
       "      <td>23</td>\n",
       "      <td>user23</td>\n",
       "      <td>301</td>\n",
       "    </tr>\n",
       "    <tr>\n",
       "      <th>16</th>\n",
       "      <td>24</td>\n",
       "      <td>user24</td>\n",
       "      <td>152</td>\n",
       "    </tr>\n",
       "    <tr>\n",
       "      <th>17</th>\n",
       "      <td>25</td>\n",
       "      <td>user25</td>\n",
       "      <td>131</td>\n",
       "    </tr>\n",
       "    <tr>\n",
       "      <th>18</th>\n",
       "      <td>26</td>\n",
       "      <td>user26</td>\n",
       "      <td>213</td>\n",
       "    </tr>\n",
       "    <tr>\n",
       "      <th>19</th>\n",
       "      <td>27</td>\n",
       "      <td>user27</td>\n",
       "      <td>201</td>\n",
       "    </tr>\n",
       "    <tr>\n",
       "      <th>20</th>\n",
       "      <td>28</td>\n",
       "      <td>user28</td>\n",
       "      <td>81</td>\n",
       "    </tr>\n",
       "    <tr>\n",
       "      <th>21</th>\n",
       "      <td>29</td>\n",
       "      <td>user29</td>\n",
       "      <td>42</td>\n",
       "    </tr>\n",
       "    <tr>\n",
       "      <th>22</th>\n",
       "      <td>3</td>\n",
       "      <td>user3</td>\n",
       "      <td>101</td>\n",
       "    </tr>\n",
       "    <tr>\n",
       "      <th>23</th>\n",
       "      <td>30</td>\n",
       "      <td>user30</td>\n",
       "      <td>160</td>\n",
       "    </tr>\n",
       "    <tr>\n",
       "      <th>24</th>\n",
       "      <td>31</td>\n",
       "      <td>user31</td>\n",
       "      <td>381</td>\n",
       "    </tr>\n",
       "    <tr>\n",
       "      <th>25</th>\n",
       "      <td>32</td>\n",
       "      <td>user32</td>\n",
       "      <td>22</td>\n",
       "    </tr>\n",
       "    <tr>\n",
       "      <th>26</th>\n",
       "      <td>33</td>\n",
       "      <td>user33</td>\n",
       "      <td>23</td>\n",
       "    </tr>\n",
       "    <tr>\n",
       "      <th>27</th>\n",
       "      <td>34</td>\n",
       "      <td>user34</td>\n",
       "      <td>175</td>\n",
       "    </tr>\n",
       "    <tr>\n",
       "      <th>28</th>\n",
       "      <td>35</td>\n",
       "      <td>user35</td>\n",
       "      <td>384</td>\n",
       "    </tr>\n",
       "    <tr>\n",
       "      <th>29</th>\n",
       "      <td>4</td>\n",
       "      <td>user4</td>\n",
       "      <td>425</td>\n",
       "    </tr>\n",
       "    <tr>\n",
       "      <th>30</th>\n",
       "      <td>5</td>\n",
       "      <td>user5</td>\n",
       "      <td>182</td>\n",
       "    </tr>\n",
       "    <tr>\n",
       "      <th>31</th>\n",
       "      <td>6</td>\n",
       "      <td>user6</td>\n",
       "      <td>448</td>\n",
       "    </tr>\n",
       "    <tr>\n",
       "      <th>32</th>\n",
       "      <td>7</td>\n",
       "      <td>user7</td>\n",
       "      <td>358</td>\n",
       "    </tr>\n",
       "    <tr>\n",
       "      <th>33</th>\n",
       "      <td>8</td>\n",
       "      <td>user8</td>\n",
       "      <td>318</td>\n",
       "    </tr>\n",
       "    <tr>\n",
       "      <th>34</th>\n",
       "      <td>9</td>\n",
       "      <td>user9</td>\n",
       "      <td>109</td>\n",
       "    </tr>\n",
       "  </tbody>\n",
       "</table>\n",
       "</div>"
      ],
      "text/plain": [
       "    user_id username  count(*)\n",
       "0         1    user1        97\n",
       "1        10   user10       163\n",
       "2        11   user11       319\n",
       "3        12   user12       202\n",
       "4        13   user13       464\n",
       "5        14   user14       311\n",
       "6        15   user15        30\n",
       "7        16   user16       370\n",
       "8        17   user17       356\n",
       "9        18   user18       116\n",
       "10       19   user19        48\n",
       "11        2    user2       139\n",
       "12       20   user20       353\n",
       "13       21   user21       318\n",
       "14       22   user22       264\n",
       "15       23   user23       301\n",
       "16       24   user24       152\n",
       "17       25   user25       131\n",
       "18       26   user26       213\n",
       "19       27   user27       201\n",
       "20       28   user28        81\n",
       "21       29   user29        42\n",
       "22        3    user3       101\n",
       "23       30   user30       160\n",
       "24       31   user31       381\n",
       "25       32   user32        22\n",
       "26       33   user33        23\n",
       "27       34   user34       175\n",
       "28       35   user35       384\n",
       "29        4    user4       425\n",
       "30        5    user5       182\n",
       "31        6    user6       448\n",
       "32        7    user7       358\n",
       "33        8    user8       318\n",
       "34        9    user9       109"
      ]
     },
     "execution_count": 7,
     "metadata": {},
     "output_type": "execute_result"
    }
   ],
   "source": [
    "query = \"\"\"\n",
    "SELECT user_id, username, count(*) \n",
    "FROM user_actions\n",
    "WHERE action='login'\n",
    "GROUP BY username\n",
    "\"\"\"\n",
    "\n",
    "cursor.execute(query)\n",
    "\n",
    "for data in cursor.fetchall():\n",
    "# for data in cursor.fetchone():    \n",
    "    print(data)\n",
    "# pd.read_sql_query(query, conn)\n",
    "pd.read_sql_query(query, conn).sort_values(by='username')"
   ]
  },
  {
   "cell_type": "markdown",
   "id": "5f1a29db-4dca-4f01-80bb-bdb184c6b16a",
   "metadata": {},
   "source": [
    "\n",
    "#### Users who have logged in and signed up on the same day\n"
   ]
  },
  {
   "cell_type": "markdown",
   "id": "01dff139-f943-4250-a0ae-a5c6eeded159",
   "metadata": {},
   "source": [
    "Create new column, 'day', from 'timestamp'."
   ]
  },
  {
   "cell_type": "code",
   "execution_count": 8,
   "id": "c309d8f2-1a04-4166-aa32-45c33b039ac5",
   "metadata": {},
   "outputs": [],
   "source": [
    "day_column = 'day'\n",
    "table_name = 'user_actions'\n",
    "# cursor.execute(\"ALTER TABLE {tn} ADD COLUMN '{cn}'\"\\\n",
    "#         .format(tn=table_name, cn=day_column))"
   ]
  },
  {
   "cell_type": "code",
   "execution_count": 9,
   "id": "56f43b65-d108-4b7b-acae-a126a74136c3",
   "metadata": {},
   "outputs": [
    {
     "name": "stdout",
     "output_type": "stream",
     "text": [
      "34\n",
      "user34\n",
      "user34@email.com\n",
      "signup\n",
      "2015-02-04 14:38:47\n",
      "None\n"
     ]
    }
   ],
   "source": [
    "query = \"\"\"\n",
    "SELECT *\n",
    "FROM user_actions\n",
    "\"\"\"\n",
    "\n",
    "cursor.execute(query)\n",
    "\n",
    "# for data in cursor.fetchall():\n",
    "for data in cursor.fetchone():    \n",
    "    print(data)"
   ]
  },
  {
   "cell_type": "code",
   "execution_count": null,
   "id": "92e7581d-b401-4a9e-8b88-10dcec6693e5",
   "metadata": {},
   "outputs": [],
   "source": []
  },
  {
   "cell_type": "code",
   "execution_count": null,
   "id": "cf26685a-01cb-4901-905b-48e9a1c5e2d6",
   "metadata": {},
   "outputs": [],
   "source": []
  },
  {
   "cell_type": "code",
   "execution_count": null,
   "id": "cda68589-781f-4086-b8bc-df04277e9fb5",
   "metadata": {},
   "outputs": [],
   "source": []
  },
  {
   "cell_type": "code",
   "execution_count": 10,
   "id": "b8d6b948-a311-4701-9f1e-fc2e1620a428",
   "metadata": {},
   "outputs": [
    {
     "name": "stdout",
     "output_type": "stream",
     "text": [
      "34\n",
      "user34\n",
      "2015-02-04 14:38:47\n"
     ]
    },
    {
     "data": {
      "text/html": [
       "<div>\n",
       "<style scoped>\n",
       "    .dataframe tbody tr th:only-of-type {\n",
       "        vertical-align: middle;\n",
       "    }\n",
       "\n",
       "    .dataframe tbody tr th {\n",
       "        vertical-align: top;\n",
       "    }\n",
       "\n",
       "    .dataframe thead th {\n",
       "        text-align: right;\n",
       "    }\n",
       "</style>\n",
       "<table border=\"1\" class=\"dataframe\">\n",
       "  <thead>\n",
       "    <tr style=\"text-align: right;\">\n",
       "      <th></th>\n",
       "      <th>user_id</th>\n",
       "      <th>username</th>\n",
       "      <th>timestamp</th>\n",
       "    </tr>\n",
       "  </thead>\n",
       "  <tbody>\n",
       "    <tr>\n",
       "      <th>6534</th>\n",
       "      <td>1</td>\n",
       "      <td>user1</td>\n",
       "      <td>2022-11-27 16:54:46</td>\n",
       "    </tr>\n",
       "    <tr>\n",
       "      <th>6757</th>\n",
       "      <td>1</td>\n",
       "      <td>user1</td>\n",
       "      <td>2022-12-05 15:49:27</td>\n",
       "    </tr>\n",
       "    <tr>\n",
       "      <th>6847</th>\n",
       "      <td>1</td>\n",
       "      <td>user1</td>\n",
       "      <td>2022-12-07 15:47:57</td>\n",
       "    </tr>\n",
       "    <tr>\n",
       "      <th>6725</th>\n",
       "      <td>1</td>\n",
       "      <td>user1</td>\n",
       "      <td>2022-12-04 16:25:00</td>\n",
       "    </tr>\n",
       "    <tr>\n",
       "      <th>6452</th>\n",
       "      <td>1</td>\n",
       "      <td>user1</td>\n",
       "      <td>2022-11-22 15:09:12</td>\n",
       "    </tr>\n",
       "    <tr>\n",
       "      <th>...</th>\n",
       "      <td>...</td>\n",
       "      <td>...</td>\n",
       "      <td>...</td>\n",
       "    </tr>\n",
       "    <tr>\n",
       "      <th>5444</th>\n",
       "      <td>9</td>\n",
       "      <td>user9</td>\n",
       "      <td>2022-09-02 15:32:20</td>\n",
       "    </tr>\n",
       "    <tr>\n",
       "      <th>3462</th>\n",
       "      <td>9</td>\n",
       "      <td>user9</td>\n",
       "      <td>2021-09-22 10:30:18</td>\n",
       "    </tr>\n",
       "    <tr>\n",
       "      <th>1446</th>\n",
       "      <td>9</td>\n",
       "      <td>user9</td>\n",
       "      <td>2019-10-07 16:18:43</td>\n",
       "    </tr>\n",
       "    <tr>\n",
       "      <th>1860</th>\n",
       "      <td>9</td>\n",
       "      <td>user9</td>\n",
       "      <td>2020-04-19 14:43:33</td>\n",
       "    </tr>\n",
       "    <tr>\n",
       "      <th>2482</th>\n",
       "      <td>9</td>\n",
       "      <td>user9</td>\n",
       "      <td>2020-12-21 10:18:45</td>\n",
       "    </tr>\n",
       "  </tbody>\n",
       "</table>\n",
       "<p>7791 rows × 3 columns</p>\n",
       "</div>"
      ],
      "text/plain": [
       "      user_id username            timestamp\n",
       "6534        1    user1  2022-11-27 16:54:46\n",
       "6757        1    user1  2022-12-05 15:49:27\n",
       "6847        1    user1  2022-12-07 15:47:57\n",
       "6725        1    user1  2022-12-04 16:25:00\n",
       "6452        1    user1  2022-11-22 15:09:12\n",
       "...       ...      ...                  ...\n",
       "5444        9    user9  2022-09-02 15:32:20\n",
       "3462        9    user9  2021-09-22 10:30:18\n",
       "1446        9    user9  2019-10-07 16:18:43\n",
       "1860        9    user9  2020-04-19 14:43:33\n",
       "2482        9    user9  2020-12-21 10:18:45\n",
       "\n",
       "[7791 rows x 3 columns]"
      ]
     },
     "execution_count": 10,
     "metadata": {},
     "output_type": "execute_result"
    }
   ],
   "source": [
    "query = \"\"\"\n",
    "SELECT user_id, username, timestamp\n",
    "FROM user_actions\n",
    "WHERE action='login' OR action='signup'\n",
    "GROUP BY timestamp[0:9]\n",
    "\"\"\"\n",
    "\n",
    "query = \"\"\"\n",
    "SELECT user_id, username, timestamp\n",
    "FROM user_actions\n",
    "WHERE action='login' OR action='signup'\n",
    "GROUP BY timestamp\n",
    "\"\"\"\n",
    "cursor.execute(query)\n",
    "\n",
    "for data in cursor.fetchone():\n",
    "# for data in cursor.fetchone():    \n",
    "    print(data)\n",
    "# pd.read_sql_query(query, conn)\n",
    "pd.read_sql_query(query, conn).sort_values(by='username')"
   ]
  },
  {
   "cell_type": "code",
   "execution_count": 11,
   "id": "07e03e84-cda2-4e92-b5ab-b0e79d5cd404",
   "metadata": {},
   "outputs": [
    {
     "name": "stdout",
     "output_type": "stream",
     "text": [
      "34\n",
      "user34\n",
      "None\n"
     ]
    },
    {
     "data": {
      "text/html": [
       "<div>\n",
       "<style scoped>\n",
       "    .dataframe tbody tr th:only-of-type {\n",
       "        vertical-align: middle;\n",
       "    }\n",
       "\n",
       "    .dataframe tbody tr th {\n",
       "        vertical-align: top;\n",
       "    }\n",
       "\n",
       "    .dataframe thead th {\n",
       "        text-align: right;\n",
       "    }\n",
       "</style>\n",
       "<table border=\"1\" class=\"dataframe\">\n",
       "  <thead>\n",
       "    <tr style=\"text-align: right;\">\n",
       "      <th></th>\n",
       "      <th>user_id</th>\n",
       "      <th>username</th>\n",
       "      <th>day</th>\n",
       "    </tr>\n",
       "  </thead>\n",
       "  <tbody>\n",
       "    <tr>\n",
       "      <th>0</th>\n",
       "      <td>34</td>\n",
       "      <td>user34</td>\n",
       "      <td>None</td>\n",
       "    </tr>\n",
       "  </tbody>\n",
       "</table>\n",
       "</div>"
      ],
      "text/plain": [
       "   user_id username   day\n",
       "0       34   user34  None"
      ]
     },
     "execution_count": 11,
     "metadata": {},
     "output_type": "execute_result"
    }
   ],
   "source": [
    "query = \"\"\"\n",
    "SELECT user_id, username, day\n",
    "FROM user_actions\n",
    "WHERE action='login' OR action='signup'\n",
    "GROUP BY day\n",
    "\"\"\"\n",
    "\n",
    "cursor.execute(query)\n",
    "\n",
    "for data in cursor.fetchone():\n",
    "# for data in cursor.fetchone():    \n",
    "    print(data)\n",
    "# pd.read_sql_query(query, conn)\n",
    "pd.read_sql_query(query, conn).sort_values(by='username')"
   ]
  },
  {
   "cell_type": "code",
   "execution_count": null,
   "id": "bf0527d2-0e35-4586-9c1e-db70bfd52c11",
   "metadata": {},
   "outputs": [],
   "source": []
  },
  {
   "cell_type": "code",
   "execution_count": null,
   "id": "f78df4c2-1ed8-439e-9389-ee50719a0403",
   "metadata": {},
   "outputs": [],
   "source": []
  },
  {
   "cell_type": "code",
   "execution_count": null,
   "id": "55089a34-6f41-4584-a571-0e21153bc0b2",
   "metadata": {},
   "outputs": [],
   "source": []
  },
  {
   "cell_type": "code",
   "execution_count": null,
   "id": "30354663-7b04-4d0a-923d-4778729471b2",
   "metadata": {},
   "outputs": [],
   "source": []
  },
  {
   "cell_type": "markdown",
   "id": "3f0261ea-c923-4d27-9f00-b15d42be7f16",
   "metadata": {},
   "source": [
    "\n",
    "## Regex\n"
   ]
  },
  {
   "cell_type": "markdown",
   "id": "ca35ce37-a3e1-4bb7-8a72-4ff8370c2387",
   "metadata": {},
   "source": [
    "\n",
    "#### Read data from file\n"
   ]
  },
  {
   "cell_type": "code",
   "execution_count": 12,
   "id": "01356812-a8a9-4daa-8ba4-fb7028dacd92",
   "metadata": {},
   "outputs": [],
   "source": [
    "# first_part = r\"[0-9]{1,2}\\.\""
   ]
  },
  {
   "cell_type": "code",
   "execution_count": 13,
   "id": "22c7aa92-bdca-4900-bd31-73409fde3e9d",
   "metadata": {},
   "outputs": [],
   "source": [
    "first_part = r\"^\\d{1,3}\\.\""
   ]
  },
  {
   "cell_type": "code",
   "execution_count": 14,
   "id": "6c3f0ec0-01fa-4921-8ca1-c70d6d425f31",
   "metadata": {},
   "outputs": [],
   "source": [
    "comments_pd = pd.read_table('comments.txt', sep=first_part, names=['id', 'comment'], engine='python')"
   ]
  },
  {
   "cell_type": "code",
   "execution_count": 15,
   "id": "9f41c44e-b6c6-43b8-8d03-84d8f69ab05c",
   "metadata": {},
   "outputs": [
    {
     "data": {
      "text/plain": [
       "0            \"Great post! #programming #tips\"\n",
       "1      \"Enjoyed the article. #coding #python\"\n",
       "2         \"Interesting insights. #tech #data\"\n",
       "3     \"This is awesome! #programming #coding\"\n",
       "4       \"Thanks for sharing. #data #analysis\"\n",
       "Name: comment, dtype: object"
      ]
     },
     "execution_count": 15,
     "metadata": {},
     "output_type": "execute_result"
    }
   ],
   "source": [
    "comments_pd['comment'].head()"
   ]
  },
  {
   "cell_type": "code",
   "execution_count": 16,
   "id": "5da3aa7f-1a63-48cc-a176-9d67d9aa287a",
   "metadata": {},
   "outputs": [
    {
     "name": "stdout",
     "output_type": "stream",
     "text": [
      "<class 'pandas.core.frame.DataFrame'>\n",
      "RangeIndex: 100 entries, 0 to 99\n",
      "Data columns (total 2 columns):\n",
      " #   Column   Non-Null Count  Dtype  \n",
      "---  ------   --------------  -----  \n",
      " 0   id       0 non-null      float64\n",
      " 1   comment  100 non-null    object \n",
      "dtypes: float64(1), object(1)\n",
      "memory usage: 1.7+ KB\n"
     ]
    }
   ],
   "source": [
    "comments_pd.info()"
   ]
  },
  {
   "cell_type": "code",
   "execution_count": 17,
   "id": "d762ea83-796e-4eb3-b672-8522e46c16ad",
   "metadata": {},
   "outputs": [
    {
     "data": {
      "text/html": [
       "<div>\n",
       "<style scoped>\n",
       "    .dataframe tbody tr th:only-of-type {\n",
       "        vertical-align: middle;\n",
       "    }\n",
       "\n",
       "    .dataframe tbody tr th {\n",
       "        vertical-align: top;\n",
       "    }\n",
       "\n",
       "    .dataframe thead th {\n",
       "        text-align: right;\n",
       "    }\n",
       "</style>\n",
       "<table border=\"1\" class=\"dataframe\">\n",
       "  <thead>\n",
       "    <tr style=\"text-align: right;\">\n",
       "      <th></th>\n",
       "      <th>id</th>\n",
       "      <th>comment</th>\n",
       "    </tr>\n",
       "  </thead>\n",
       "  <tbody>\n",
       "    <tr>\n",
       "      <th>0</th>\n",
       "      <td>NaN</td>\n",
       "      <td>\"Great post! #programming #tips\"</td>\n",
       "    </tr>\n",
       "    <tr>\n",
       "      <th>1</th>\n",
       "      <td>NaN</td>\n",
       "      <td>\"Enjoyed the article. #coding #python\"</td>\n",
       "    </tr>\n",
       "    <tr>\n",
       "      <th>2</th>\n",
       "      <td>NaN</td>\n",
       "      <td>\"Interesting insights. #tech #data\"</td>\n",
       "    </tr>\n",
       "    <tr>\n",
       "      <th>3</th>\n",
       "      <td>NaN</td>\n",
       "      <td>\"This is awesome! #programming #coding\"</td>\n",
       "    </tr>\n",
       "    <tr>\n",
       "      <th>4</th>\n",
       "      <td>NaN</td>\n",
       "      <td>\"Thanks for sharing. #data #analysis\"</td>\n",
       "    </tr>\n",
       "  </tbody>\n",
       "</table>\n",
       "</div>"
      ],
      "text/plain": [
       "   id                                   comment\n",
       "0 NaN          \"Great post! #programming #tips\"\n",
       "1 NaN    \"Enjoyed the article. #coding #python\"\n",
       "2 NaN       \"Interesting insights. #tech #data\"\n",
       "3 NaN   \"This is awesome! #programming #coding\"\n",
       "4 NaN     \"Thanks for sharing. #data #analysis\""
      ]
     },
     "execution_count": 17,
     "metadata": {},
     "output_type": "execute_result"
    }
   ],
   "source": [
    "comments_pd.head()"
   ]
  },
  {
   "cell_type": "code",
   "execution_count": 18,
   "id": "f98966f6-edae-4588-83a3-0f6626b7d193",
   "metadata": {},
   "outputs": [
    {
     "data": {
      "text/plain": [
       "id         float64\n",
       "comment     object\n",
       "dtype: object"
      ]
     },
     "execution_count": 18,
     "metadata": {},
     "output_type": "execute_result"
    }
   ],
   "source": [
    "comments_pd.dtypes"
   ]
  },
  {
   "cell_type": "markdown",
   "id": "1061eb8c-f9f8-45da-ac97-978bf7788a92",
   "metadata": {},
   "source": [
    "\n",
    "##### Drop the 'id' column and convert the comments to strings\n"
   ]
  },
  {
   "cell_type": "markdown",
   "id": "2ac8bb47-7456-431a-93b8-0efe550aab04",
   "metadata": {},
   "source": [
    "This will create a Series of strings."
   ]
  },
  {
   "cell_type": "code",
   "execution_count": 19,
   "id": "29e30870-cb89-4146-9acd-ff5dfa0578a0",
   "metadata": {},
   "outputs": [],
   "source": [
    "string_comments = comments_pd['comment'].astype({'comment' : 'string'}, copy=True)"
   ]
  },
  {
   "cell_type": "code",
   "execution_count": 20,
   "id": "37e1d98c-3cb4-4e06-a156-7fcb960d06ea",
   "metadata": {},
   "outputs": [
    {
     "name": "stdout",
     "output_type": "stream",
     "text": [
      "<class 'pandas.core.series.Series'>\n",
      "RangeIndex: 100 entries, 0 to 99\n",
      "Series name: comment\n",
      "Non-Null Count  Dtype \n",
      "--------------  ----- \n",
      "100 non-null    string\n",
      "dtypes: string(1)\n",
      "memory usage: 932.0 bytes\n"
     ]
    }
   ],
   "source": [
    "string_comments.info()"
   ]
  },
  {
   "cell_type": "code",
   "execution_count": 21,
   "id": "a97c74a8-5e66-4571-b59b-ae6efa19ccac",
   "metadata": {},
   "outputs": [
    {
     "data": {
      "text/plain": [
       "0                  \"Great post! #programming #tips\"\n",
       "1            \"Enjoyed the article. #coding #python\"\n",
       "2               \"Interesting insights. #tech #data\"\n",
       "3           \"This is awesome! #programming #coding\"\n",
       "4             \"Thanks for sharing. #data #analysis\"\n",
       "5     \"I learned a lot. #programming #python #tips\"\n",
       "Name: comment, dtype: string"
      ]
     },
     "execution_count": 21,
     "metadata": {},
     "output_type": "execute_result"
    }
   ],
   "source": [
    "string_comments.head(6)"
   ]
  },
  {
   "cell_type": "code",
   "execution_count": 22,
   "id": "e9cd0841-36eb-48da-8977-b527e1ac36de",
   "metadata": {},
   "outputs": [
    {
     "data": {
      "text/plain": [
       "95      \"Innovations in tech and AI. #tech #innovation\"\n",
       "96     \"Effective coding patterns. #programming #cod...\n",
       "97     \"Data visualization best practices. #data #an...\n",
       "98         \"Optimizing Python code. #programming #tips\"\n",
       "99     \"Coding challenges for skill development. #co...\n",
       "Name: comment, dtype: string"
      ]
     },
     "execution_count": 22,
     "metadata": {},
     "output_type": "execute_result"
    }
   ],
   "source": [
    "string_comments.tail()"
   ]
  },
  {
   "cell_type": "code",
   "execution_count": 23,
   "id": "a57a8938-5903-4e7d-88b8-3d1c0c8e0419",
   "metadata": {},
   "outputs": [
    {
     "data": {
      "text/plain": [
       "' \"Coding challenges for skill development. #coding #python\"'"
      ]
     },
     "execution_count": 23,
     "metadata": {},
     "output_type": "execute_result"
    }
   ],
   "source": [
    "string_comments[99]"
   ]
  },
  {
   "cell_type": "code",
   "execution_count": 24,
   "id": "57750d2a-1ac3-4b73-9ba2-7251547a116e",
   "metadata": {},
   "outputs": [
    {
     "data": {
      "text/plain": [
       "' \"Data visualization best practices. #data #analytics\"'"
      ]
     },
     "execution_count": 24,
     "metadata": {},
     "output_type": "execute_result"
    }
   ],
   "source": [
    "string_comments[97]"
   ]
  },
  {
   "cell_type": "code",
   "execution_count": 25,
   "id": "7e55de51-b3a5-4c4d-aaf7-c21d6155b0a8",
   "metadata": {},
   "outputs": [
    {
     "data": {
      "text/plain": [
       "' \"Enjoyed the article. #coding #python\"'"
      ]
     },
     "execution_count": 25,
     "metadata": {},
     "output_type": "execute_result"
    }
   ],
   "source": [
    "string_comments[1]"
   ]
  },
  {
   "cell_type": "markdown",
   "id": "935e7db8-8fce-42f6-a752-ab9064e26c30",
   "metadata": {},
   "source": [
    "\n",
    "#### Solve tasks\n"
   ]
  },
  {
   "cell_type": "markdown",
   "id": "2b3d9120-f2fa-449d-87e5-7c7016b27ab6",
   "metadata": {},
   "source": [
    "\n",
    "##### All hashtags\n"
   ]
  },
  {
   "cell_type": "code",
   "execution_count": 26,
   "id": "fa501ba2-15b5-4cd3-9eec-ffcfad6320d1",
   "metadata": {},
   "outputs": [],
   "source": [
    "# pattern_all_hashtags_1 = r\"g\\b#{1}[\\d\\w]+\\b\"\n",
    "# pattern_all_hashtags_1"
   ]
  },
  {
   "cell_type": "code",
   "execution_count": 27,
   "id": "9eae3fb2-6779-41d8-aeec-f748080b9de9",
   "metadata": {},
   "outputs": [],
   "source": [
    "# pattern_all_hashtags_2 = r\"\\b#{1}[\\d\\w]+\"\n",
    "# pattern_all_hashtags_2"
   ]
  },
  {
   "cell_type": "code",
   "execution_count": 28,
   "id": "929695f3-07c8-4102-83fe-4e0233b81cdf",
   "metadata": {},
   "outputs": [],
   "source": [
    "# pattern_all_hashtags_3 = r\"\\b\\#[\\w]+\"\n",
    "# pattern_all_hashtags_3"
   ]
  },
  {
   "cell_type": "code",
   "execution_count": 29,
   "id": "781fd754-3cf5-4a6b-969f-99468e591523",
   "metadata": {},
   "outputs": [],
   "source": [
    "# pattern_all_hashtags_4 = r\"\\b#\"\n",
    "# pattern_all_hashtags_4"
   ]
  },
  {
   "cell_type": "code",
   "execution_count": 30,
   "id": "2d5c35dd-8f87-4ea2-aa24-f63771b28776",
   "metadata": {},
   "outputs": [],
   "source": [
    "# pattern_all_hashtags_5 = r\"\\bE+[\\w]+\"\n",
    "# pattern_all_hashtags_5"
   ]
  },
  {
   "cell_type": "code",
   "execution_count": 31,
   "id": "0320b695-65dc-4e3a-9caa-ceed706ad701",
   "metadata": {},
   "outputs": [],
   "source": [
    "# pattern_all_hashtags_6 = r\"\\b[\\x23]{1}\"\n",
    "# pattern_all_hashtags_6"
   ]
  },
  {
   "cell_type": "code",
   "execution_count": 32,
   "id": "02f21c5a-4642-443c-b2f4-20606bf259f3",
   "metadata": {},
   "outputs": [],
   "source": [
    "# pattern_all_hashtags_7 = r\"[\\x23]{1}[\\w]+\"\n",
    "# pattern_all_hashtags_7"
   ]
  },
  {
   "cell_type": "code",
   "execution_count": 33,
   "id": "d0049ffb-51d1-4a7e-9447-9ca608c60ad9",
   "metadata": {},
   "outputs": [
    {
     "data": {
      "text/plain": [
       "'[#]{1}[\\\\w]+'"
      ]
     },
     "execution_count": 33,
     "metadata": {},
     "output_type": "execute_result"
    }
   ],
   "source": [
    "pattern_all_hashtags = r\"[#]{1}[\\w]+\"\n",
    "pattern_all_hashtags"
   ]
  },
  {
   "cell_type": "code",
   "execution_count": 34,
   "id": "6db1b591-d50c-4c7f-96b1-12ba35cf293e",
   "metadata": {},
   "outputs": [
    {
     "name": "stdout",
     "output_type": "stream",
     "text": [
      "['#coding', '#python']\n"
     ]
    }
   ],
   "source": [
    "tag_comment_1 = re.findall(pattern_all_hashtags, string_comments[1])\n",
    "print(tag_comment_1)"
   ]
  },
  {
   "cell_type": "code",
   "execution_count": 35,
   "id": "351dfa81-c6ee-494a-b8ca-37fb45ba5f50",
   "metadata": {},
   "outputs": [
    {
     "name": "stdout",
     "output_type": "stream",
     "text": [
      "['#programming', '#tips']\n"
     ]
    }
   ],
   "source": [
    "tag_comment_0 = re.findall(pattern_all_hashtags, string_comments[0])\n",
    "print(tag_comment_0)"
   ]
  },
  {
   "cell_type": "markdown",
   "id": "8af32f57-5ab7-411d-8fb8-3959b0951969",
   "metadata": {},
   "source": [
    "\n",
    "##### Both #programming and #python\n"
   ]
  },
  {
   "cell_type": "code",
   "execution_count": 36,
   "id": "51177f5c-f751-416c-a0ce-61d07cb62dec",
   "metadata": {},
   "outputs": [
    {
     "data": {
      "text/plain": [
       "'[#programming]+ och [#python]+'"
      ]
     },
     "execution_count": 36,
     "metadata": {},
     "output_type": "execute_result"
    }
   ],
   "source": [
    "pattern_both_test = r\"[#programming]+ och [#python]+\"\n",
    "pattern_both_test"
   ]
  },
  {
   "cell_type": "code",
   "execution_count": 37,
   "id": "7254b146-67d3-43b6-9223-a557aba925d5",
   "metadata": {},
   "outputs": [
    {
     "data": {
      "text/plain": [
       "'[#p]{1}[\\\\w]+[o]{1}[\\\\w]*[n]{1}[\\\\w]*'"
      ]
     },
     "execution_count": 37,
     "metadata": {},
     "output_type": "execute_result"
    }
   ],
   "source": [
    "pattern_both = r\"[#p]{1}[\\w]+[o]{1}[\\w]*[n]{1}[\\w]*\"\n",
    "pattern_both"
   ]
  },
  {
   "cell_type": "code",
   "execution_count": 38,
   "id": "c4c74d73-061f-4bcc-81ab-c9c154f734ef",
   "metadata": {},
   "outputs": [
    {
     "name": "stdout",
     "output_type": "stream",
     "text": [
      "['#programming']\n"
     ]
    }
   ],
   "source": [
    "both_tag_comment_0 = re.findall(pattern_both, string_comments[0])\n",
    "print(both_tag_comment_0)"
   ]
  },
  {
   "cell_type": "code",
   "execution_count": 39,
   "id": "d25d9977-7c06-444b-bc72-0e7f5adb006f",
   "metadata": {},
   "outputs": [
    {
     "name": "stdout",
     "output_type": "stream",
     "text": [
      "['#coding', '#python']\n"
     ]
    }
   ],
   "source": [
    "both_tag_comment_1 = re.findall(pattern_both, string_comments[1])\n",
    "print(both_tag_comment_1)"
   ]
  },
  {
   "cell_type": "code",
   "execution_count": 40,
   "id": "2250bcef-f801-4f59-a48e-6fbf2de79017",
   "metadata": {},
   "outputs": [
    {
     "name": "stdout",
     "output_type": "stream",
     "text": [
      "['#programming', '#python']\n"
     ]
    }
   ],
   "source": [
    "both_tag_comment_5 = re.findall(pattern_both, string_comments[5])\n",
    "print(both_tag_comment_5)"
   ]
  },
  {
   "cell_type": "markdown",
   "id": "b7e04857-c9e4-47b6-984d-dfdb9ab8fdd7",
   "metadata": {},
   "source": [
    "We see that this patterna finds both #programming och #python, if they exist in a comment. It also finds some other tags, e.g. #coding, but it was not a requirement that no other tags should be found."
   ]
  },
  {
   "cell_type": "markdown",
   "id": "b969b370-4ba5-471c-868b-a986c5dec1cb",
   "metadata": {},
   "source": [
    "\n",
    "##### All unique hash tags\n"
   ]
  },
  {
   "cell_type": "code",
   "execution_count": 41,
   "id": "41485fc6-7c18-4e81-a4b4-4116263826e1",
   "metadata": {},
   "outputs": [],
   "source": [
    "all_tags = []\n",
    "for i in range(99):\n",
    "    all_tags.append(re.findall(pattern_all_hashtags, string_comments[i]))"
   ]
  },
  {
   "cell_type": "code",
   "execution_count": 42,
   "id": "95f716cf-47de-49a0-90f2-138fd4ee6c4e",
   "metadata": {},
   "outputs": [
    {
     "data": {
      "text/plain": [
       "[['#programming', '#tips'],\n",
       " ['#coding', '#python'],\n",
       " ['#tech', '#data'],\n",
       " ['#programming', '#coding'],\n",
       " ['#data', '#analysis'],\n",
       " ['#programming', '#python', '#tips'],\n",
       " ['#tech', '#innovation'],\n",
       " ['#coding', '#python'],\n",
       " ['#data', '#analytics'],\n",
       " ['#programming', '#tips'],\n",
       " ['#coding', '#python'],\n",
       " ['#tech', '#data'],\n",
       " ['#programming', '#coding'],\n",
       " ['#data', '#insights'],\n",
       " ['#programming', '#python', '#tips'],\n",
       " ['#tech', '#research'],\n",
       " ['#coding', '#python'],\n",
       " ['#data', '#analytics'],\n",
       " ['#programming', '#tips'],\n",
       " ['#coding', '#innovation'],\n",
       " ['#programming', '#python', '#tips'],\n",
       " ['#tech', '#data'],\n",
       " ['#coding', '#python'],\n",
       " ['#data', '#analytics'],\n",
       " ['#programming', '#tips'],\n",
       " ['#coding', '#python'],\n",
       " ['#tech', '#innovation'],\n",
       " ['#programming', '#coding'],\n",
       " ['#data', '#analytics'],\n",
       " ['#programming', '#python', '#tips'],\n",
       " ['#coding', '#innovation'],\n",
       " ['#tech', '#data'],\n",
       " ['#programming', '#tips'],\n",
       " ['#coding', '#python'],\n",
       " ['#data', '#analysis'],\n",
       " ['#programming', '#tips'],\n",
       " ['#coding', '#python'],\n",
       " ['#tech', '#innovation'],\n",
       " ['#programming', '#coding'],\n",
       " ['#data', '#analytics'],\n",
       " ['#programming', '#tips'],\n",
       " ['#coding', '#python'],\n",
       " ['#data', '#analysis'],\n",
       " ['#programming', '#tips'],\n",
       " ['#coding', '#python'],\n",
       " ['#tech', '#innovation'],\n",
       " ['#programming', '#coding'],\n",
       " ['#data', '#analytics'],\n",
       " ['#programming', '#tips'],\n",
       " ['#coding', '#python'],\n",
       " ['#tech', '#innovation'],\n",
       " ['#programming', '#coding'],\n",
       " ['#data', '#analytics'],\n",
       " ['#programming', '#tips'],\n",
       " ['#coding', '#python'],\n",
       " ['#tech', '#innovation'],\n",
       " ['#programming', '#coding'],\n",
       " ['#data', '#analytics'],\n",
       " ['#programming', '#tips'],\n",
       " ['#coding', '#python'],\n",
       " ['#tech', '#innovation'],\n",
       " ['#programming', '#coding'],\n",
       " ['#data', '#analytics'],\n",
       " ['#programming', '#tips'],\n",
       " ['#coding', '#python'],\n",
       " ['#tech', '#innovation'],\n",
       " ['#programming', '#coding'],\n",
       " ['#data', '#analytics'],\n",
       " ['#programming', '#tips'],\n",
       " ['#coding', '#python'],\n",
       " ['#tech', '#innovation'],\n",
       " ['#programming', '#coding'],\n",
       " ['#data', '#analytics'],\n",
       " ['#programming', '#tips'],\n",
       " ['#coding', '#python'],\n",
       " ['#tech', '#innovation'],\n",
       " ['#programming', '#coding'],\n",
       " ['#data', '#analytics'],\n",
       " ['#programming', '#tips'],\n",
       " ['#coding', '#python'],\n",
       " ['#tech', '#innovation'],\n",
       " ['#programming', '#coding'],\n",
       " ['#data', '#analytics'],\n",
       " ['#programming', '#tips'],\n",
       " ['#coding', '#python'],\n",
       " ['#tech', '#innovation'],\n",
       " ['#programming', '#coding'],\n",
       " ['#data', '#analytics'],\n",
       " ['#programming', '#tips'],\n",
       " ['#coding', '#python'],\n",
       " ['#tech', '#innovation'],\n",
       " ['#programming', '#coding'],\n",
       " ['#data', '#analytics'],\n",
       " ['#programming', '#tips'],\n",
       " ['#coding', '#python'],\n",
       " ['#tech', '#innovation'],\n",
       " ['#programming', '#coding'],\n",
       " ['#data', '#analytics'],\n",
       " ['#programming', '#tips']]"
      ]
     },
     "execution_count": 42,
     "metadata": {},
     "output_type": "execute_result"
    }
   ],
   "source": [
    "all_tags"
   ]
  },
  {
   "cell_type": "code",
   "execution_count": 43,
   "id": "cad908e3-f13e-4420-8985-f2d64bdd8526",
   "metadata": {},
   "outputs": [
    {
     "data": {
      "text/plain": [
       "list"
      ]
     },
     "execution_count": 43,
     "metadata": {},
     "output_type": "execute_result"
    }
   ],
   "source": [
    "type(all_tags)"
   ]
  },
  {
   "cell_type": "code",
   "execution_count": 44,
   "id": "e4085f2c-dd2b-4342-b9dd-bb3d009104d1",
   "metadata": {},
   "outputs": [
    {
     "data": {
      "text/plain": [
       "99"
      ]
     },
     "execution_count": 44,
     "metadata": {},
     "output_type": "execute_result"
    }
   ],
   "source": [
    "len(all_tags)"
   ]
  },
  {
   "cell_type": "markdown",
   "id": "3e0e4e88-d788-438b-b80f-c29595d8f5c5",
   "metadata": {},
   "source": [
    "Från kurs_demo"
   ]
  },
  {
   "cell_type": "code",
   "execution_count": 45,
   "id": "1b7d5393-2307-45ef-aa99-af7af9672cab",
   "metadata": {},
   "outputs": [
    {
     "name": "stdout",
     "output_type": "stream",
     "text": [
      "Please contact support@example.com for assistance. For general inquiries, you can email info@company.com and @gmail.com\n"
     ]
    }
   ],
   "source": [
    "string = \"Please contact support@example.com for assistance. For general inquiries, you can email info@company.com and @gmail.com\"\n",
    "print(string)"
   ]
  },
  {
   "cell_type": "code",
   "execution_count": 46,
   "id": "2ad8a012-567b-4abc-868f-6b6cf3f582c7",
   "metadata": {},
   "outputs": [
    {
     "data": {
      "text/plain": [
       "'\\\\b[\\\\w._%+-]+@[\\\\w.-]+\\\\.[A-Za-z]{2,4}\\\\b'"
      ]
     },
     "execution_count": 46,
     "metadata": {},
     "output_type": "execute_result"
    }
   ],
   "source": [
    "pattern = r\"\\b[\\w._%+-]+@[\\w.-]+\\.[A-Za-z]{2,4}\\b\"\n",
    "r\"\\b[\\w._%+-]+@[\\w.-]+\\.[A-Za-z]{2,4}\\b\""
   ]
  },
  {
   "cell_type": "code",
   "execution_count": 47,
   "id": "4bed9340-10b3-495a-b25e-13359af795bf",
   "metadata": {},
   "outputs": [
    {
     "name": "stdout",
     "output_type": "stream",
     "text": [
      "['support@example.com', 'info@company.com']\n"
     ]
    }
   ],
   "source": [
    "emails = re.findall(pattern, string)\n",
    "print(emails)"
   ]
  },
  {
   "cell_type": "code",
   "execution_count": null,
   "id": "e107db65-b524-4d30-bbe8-49a15adebd99",
   "metadata": {},
   "outputs": [],
   "source": []
  },
  {
   "cell_type": "code",
   "execution_count": null,
   "id": "a97ce5f9-0a0b-4b27-933e-7c294e984ae5",
   "metadata": {},
   "outputs": [],
   "source": []
  },
  {
   "cell_type": "code",
   "execution_count": null,
   "id": "a31168f0-048b-410d-812c-7b335f3bea00",
   "metadata": {},
   "outputs": [],
   "source": []
  }
 ],
 "metadata": {
  "kernelspec": {
   "display_name": "Python 3 (ipykernel)",
   "language": "python",
   "name": "python3"
  },
  "language_info": {
   "codemirror_mode": {
    "name": "ipython",
    "version": 3
   },
   "file_extension": ".py",
   "mimetype": "text/x-python",
   "name": "python",
   "nbconvert_exporter": "python",
   "pygments_lexer": "ipython3",
   "version": "3.13.0"
  }
 },
 "nbformat": 4,
 "nbformat_minor": 5
}

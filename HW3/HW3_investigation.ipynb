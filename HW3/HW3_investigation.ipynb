{
 "cells": [
  {
   "cell_type": "markdown",
   "id": "bdac2a8a-b1a1-4b73-9daa-a1e46c49c753",
   "metadata": {},
   "source": [
    "\n",
    "# Homework 3\n"
   ]
  },
  {
   "cell_type": "markdown",
   "id": "7fe6cb67-8ab7-45c4-a291-94515d0fa4a8",
   "metadata": {},
   "source": [
    "We start with some initializations"
   ]
  },
  {
   "cell_type": "code",
   "execution_count": 1,
   "id": "cffc6223-a1a9-496a-a697-49643bd92be0",
   "metadata": {},
   "outputs": [],
   "source": [
    "import numpy as np\n",
    "import pandas as pd\n",
    "# import matplotlib as mpl\n",
    "import matplotlib.pyplot as plt\n",
    "import seaborn as sns\n",
    "# import seaborn.objects as so\n",
    "# sns.set_theme(style='darkgrid') # to get a light-grey background in the plots\n",
    "# sns.set_theme() # to get the default light-grey background with white grid in the plots\n",
    "# sns.color_palette() # to get the default qualitative color palette"
   ]
  },
  {
   "cell_type": "code",
   "execution_count": 2,
   "id": "27b55315-a0a9-45c5-ae93-fbdf7f1a0c03",
   "metadata": {},
   "outputs": [],
   "source": [
    "# print(sns.color_palette().as_hex())"
   ]
  },
  {
   "cell_type": "code",
   "execution_count": 3,
   "id": "6a5b12be-f35d-4c51-9e4d-88d38006a99b",
   "metadata": {},
   "outputs": [],
   "source": [
    "# print(sns.color_palette())"
   ]
  },
  {
   "cell_type": "code",
   "execution_count": 4,
   "id": "ab39d34b-777b-47fd-ae4b-854394fcc972",
   "metadata": {},
   "outputs": [],
   "source": [
    "# Change order between second, orange, and third, green, colors."
   ]
  },
  {
   "cell_type": "code",
   "execution_count": 5,
   "id": "f410c05e-49d4-4d27-b81a-c3a2d23de641",
   "metadata": {},
   "outputs": [],
   "source": [
    "# sns.set_palette(['#4c72b0', '#55a868', '#dd8452', '#c44e52', '#8172b3', '#937860', '#da8bc3', '#8c8c8c', '#ccb974', '#64b5cd'])"
   ]
  },
  {
   "cell_type": "code",
   "execution_count": 6,
   "id": "1416d70a-72fe-44cf-bd6e-1e6afc48c555",
   "metadata": {},
   "outputs": [],
   "source": [
    "# sns.color_palette()"
   ]
  },
  {
   "cell_type": "markdown",
   "id": "986a7fca-019d-4e5b-87d9-f986e02728cf",
   "metadata": {},
   "source": [
    "\n",
    "## IRIS data\n"
   ]
  },
  {
   "cell_type": "markdown",
   "id": "982c9fb5-fb4d-4d0d-9341-f6bcb3fc3815",
   "metadata": {},
   "source": [
    "\n",
    "#### Loading data\n"
   ]
  },
  {
   "cell_type": "markdown",
   "id": "9dab02e1-d4d9-4b4c-8d38-e5037a73b7f6",
   "metadata": {},
   "source": [
    "Before reading data we have to check which delimiter and decimal character that is used."
   ]
  },
  {
   "cell_type": "markdown",
   "id": "3e9f502a-a59e-493b-9282-7ae5a39f0e21",
   "metadata": {},
   "source": [
    "![Upper left corner of the file opened in Jupyter](IRIS-csv.jpg \"'Delimiter' shows the sep parameter value to use\")<br><br>"
   ]
  },
  {
   "cell_type": "markdown",
   "id": "ddc64516-ad58-4baa-abf8-b8b90ca5c308",
   "metadata": {},
   "source": [
    "We see that the delimiter is comma, \" , \", and the decimal character is \".\", so the default method for reading data may be used.<br>"
   ]
  },
  {
   "cell_type": "code",
   "execution_count": 7,
   "id": "87ff295c-eec2-4548-bd26-626a67179bf9",
   "metadata": {},
   "outputs": [],
   "source": [
    "IRIS_data_df = pd.read_csv('IRIS.csv')"
   ]
  },
  {
   "cell_type": "markdown",
   "id": "fae34400-fad4-48d1-847f-703d3896b546",
   "metadata": {},
   "source": [
    "\n",
    "##### Some info on the data structure\n"
   ]
  },
  {
   "cell_type": "code",
   "execution_count": 8,
   "id": "50af58c3-a587-478a-a627-2c578e153a47",
   "metadata": {},
   "outputs": [
    {
     "name": "stdout",
     "output_type": "stream",
     "text": [
      "<class 'pandas.core.frame.DataFrame'>\n",
      "RangeIndex: 150 entries, 0 to 149\n",
      "Data columns (total 5 columns):\n",
      " #   Column        Non-Null Count  Dtype  \n",
      "---  ------        --------------  -----  \n",
      " 0   sepal_length  150 non-null    float64\n",
      " 1   sepal_width   150 non-null    float64\n",
      " 2   petal_length  150 non-null    float64\n",
      " 3   petal_width   150 non-null    float64\n",
      " 4   species       150 non-null    object \n",
      "dtypes: float64(4), object(1)\n",
      "memory usage: 6.0+ KB\n"
     ]
    }
   ],
   "source": [
    "IRIS_data_df.info()"
   ]
  },
  {
   "cell_type": "markdown",
   "id": "4f87ba46-bdc4-4e2f-ab99-810551cacd6a",
   "metadata": {},
   "source": [
    "\n",
    "##### Summary statistics for numeric variables\n"
   ]
  },
  {
   "cell_type": "code",
   "execution_count": 9,
   "id": "42e751af-1a8c-4967-aa31-4576c3c5cb0f",
   "metadata": {},
   "outputs": [
    {
     "data": {
      "text/html": [
       "<div>\n",
       "<style scoped>\n",
       "    .dataframe tbody tr th:only-of-type {\n",
       "        vertical-align: middle;\n",
       "    }\n",
       "\n",
       "    .dataframe tbody tr th {\n",
       "        vertical-align: top;\n",
       "    }\n",
       "\n",
       "    .dataframe thead th {\n",
       "        text-align: right;\n",
       "    }\n",
       "</style>\n",
       "<table border=\"1\" class=\"dataframe\">\n",
       "  <thead>\n",
       "    <tr style=\"text-align: right;\">\n",
       "      <th></th>\n",
       "      <th>sepal_length</th>\n",
       "      <th>sepal_width</th>\n",
       "      <th>petal_length</th>\n",
       "      <th>petal_width</th>\n",
       "    </tr>\n",
       "  </thead>\n",
       "  <tbody>\n",
       "    <tr>\n",
       "      <th>count</th>\n",
       "      <td>150.000000</td>\n",
       "      <td>150.000000</td>\n",
       "      <td>150.000000</td>\n",
       "      <td>150.000000</td>\n",
       "    </tr>\n",
       "    <tr>\n",
       "      <th>mean</th>\n",
       "      <td>5.843333</td>\n",
       "      <td>3.054000</td>\n",
       "      <td>3.758667</td>\n",
       "      <td>1.198667</td>\n",
       "    </tr>\n",
       "    <tr>\n",
       "      <th>std</th>\n",
       "      <td>0.828066</td>\n",
       "      <td>0.433594</td>\n",
       "      <td>1.764420</td>\n",
       "      <td>0.763161</td>\n",
       "    </tr>\n",
       "    <tr>\n",
       "      <th>min</th>\n",
       "      <td>4.300000</td>\n",
       "      <td>2.000000</td>\n",
       "      <td>1.000000</td>\n",
       "      <td>0.100000</td>\n",
       "    </tr>\n",
       "    <tr>\n",
       "      <th>25%</th>\n",
       "      <td>5.100000</td>\n",
       "      <td>2.800000</td>\n",
       "      <td>1.600000</td>\n",
       "      <td>0.300000</td>\n",
       "    </tr>\n",
       "    <tr>\n",
       "      <th>50%</th>\n",
       "      <td>5.800000</td>\n",
       "      <td>3.000000</td>\n",
       "      <td>4.350000</td>\n",
       "      <td>1.300000</td>\n",
       "    </tr>\n",
       "    <tr>\n",
       "      <th>75%</th>\n",
       "      <td>6.400000</td>\n",
       "      <td>3.300000</td>\n",
       "      <td>5.100000</td>\n",
       "      <td>1.800000</td>\n",
       "    </tr>\n",
       "    <tr>\n",
       "      <th>max</th>\n",
       "      <td>7.900000</td>\n",
       "      <td>4.400000</td>\n",
       "      <td>6.900000</td>\n",
       "      <td>2.500000</td>\n",
       "    </tr>\n",
       "  </tbody>\n",
       "</table>\n",
       "</div>"
      ],
      "text/plain": [
       "       sepal_length  sepal_width  petal_length  petal_width\n",
       "count    150.000000   150.000000    150.000000   150.000000\n",
       "mean       5.843333     3.054000      3.758667     1.198667\n",
       "std        0.828066     0.433594      1.764420     0.763161\n",
       "min        4.300000     2.000000      1.000000     0.100000\n",
       "25%        5.100000     2.800000      1.600000     0.300000\n",
       "50%        5.800000     3.000000      4.350000     1.300000\n",
       "75%        6.400000     3.300000      5.100000     1.800000\n",
       "max        7.900000     4.400000      6.900000     2.500000"
      ]
     },
     "execution_count": 9,
     "metadata": {},
     "output_type": "execute_result"
    }
   ],
   "source": [
    "IRIS_data_df.describe()"
   ]
  },
  {
   "cell_type": "markdown",
   "id": "661fdcc0-e81b-402c-8dca-c33a5db898f7",
   "metadata": {},
   "source": [
    "\n",
    "#### Plotting\n"
   ]
  },
  {
   "cell_type": "markdown",
   "id": "37ef6c42-a175-4107-89cc-4062cfbf3e53",
   "metadata": {},
   "source": [
    "Plotting with default settings gives"
   ]
  },
  {
   "cell_type": "code",
   "execution_count": 10,
   "id": "fece1a75-96cc-4522-a168-c0af378c7bd9",
   "metadata": {},
   "outputs": [
    {
     "data": {
      "image/png": "[encoded data removed]",
      "text/plain": [
       "<Figure size 1400x600 with 2 Axes>"
      ]
     },
     "metadata": {},
     "output_type": "display_data"
    }
   ],
   "source": [
    "fig, axs = plt.subplots(1,2, figsize=(14,6))\n",
    "sns.scatterplot(data=IRIS_data_df, x=\"sepal_length\", y= \"petal_length\", hue=\"species\",ax=axs[0])\n",
    "sns.scatterplot(data=IRIS_data_df, x=\"sepal_width\", y= \"petal_width\", hue=\"species\",ax=axs[1]);"
   ]
  },
  {
   "cell_type": "markdown",
   "id": "58c0f787-9e36-41ff-b2de-5aa9b16c0708",
   "metadata": {},
   "source": [
    "Compared to the plots in the assignment the background is different, the colors orange and green are interchanged, and the legend shadows the background"
   ]
  },
  {
   "cell_type": "markdown",
   "id": "c2de3e2a-8abf-4a00-b63a-a5ed1e587abc",
   "metadata": {},
   "source": [
    "To correct for this we can find out which color palette is used, and then change the order of orange and green."
   ]
  },
  {
   "cell_type": "code",
   "execution_count": 11,
   "id": "f862ead7-81f0-4582-bde8-633a057c8ecb",
   "metadata": {},
   "outputs": [
    {
     "data": {
      "text/html": [
       "<svg  width=\"550\" height=\"55\"><rect x=\"0\" y=\"0\" width=\"55\" height=\"55\" style=\"fill:#1f77b4;stroke-width:2;stroke:rgb(255,255,255)\"/><rect x=\"55\" y=\"0\" width=\"55\" height=\"55\" style=\"fill:#ff7f0e;stroke-width:2;stroke:rgb(255,255,255)\"/><rect x=\"110\" y=\"0\" width=\"55\" height=\"55\" style=\"fill:#2ca02c;stroke-width:2;stroke:rgb(255,255,255)\"/><rect x=\"165\" y=\"0\" width=\"55\" height=\"55\" style=\"fill:#d62728;stroke-width:2;stroke:rgb(255,255,255)\"/><rect x=\"220\" y=\"0\" width=\"55\" height=\"55\" style=\"fill:#9467bd;stroke-width:2;stroke:rgb(255,255,255)\"/><rect x=\"275\" y=\"0\" width=\"55\" height=\"55\" style=\"fill:#8c564b;stroke-width:2;stroke:rgb(255,255,255)\"/><rect x=\"330\" y=\"0\" width=\"55\" height=\"55\" style=\"fill:#e377c2;stroke-width:2;stroke:rgb(255,255,255)\"/><rect x=\"385\" y=\"0\" width=\"55\" height=\"55\" style=\"fill:#7f7f7f;stroke-width:2;stroke:rgb(255,255,255)\"/><rect x=\"440\" y=\"0\" width=\"55\" height=\"55\" style=\"fill:#bcbd22;stroke-width:2;stroke:rgb(255,255,255)\"/><rect x=\"495\" y=\"0\" width=\"55\" height=\"55\" style=\"fill:#17becf;stroke-width:2;stroke:rgb(255,255,255)\"/></svg>"
      ],
      "text/plain": [
       "[(0.12156862745098039, 0.4666666666666667, 0.7058823529411765),\n",
       " (1.0, 0.4980392156862745, 0.054901960784313725),\n",
       " (0.17254901960784313, 0.6274509803921569, 0.17254901960784313),\n",
       " (0.8392156862745098, 0.15294117647058825, 0.1568627450980392),\n",
       " (0.5803921568627451, 0.403921568627451, 0.7411764705882353),\n",
       " (0.5490196078431373, 0.33725490196078434, 0.29411764705882354),\n",
       " (0.8901960784313725, 0.4666666666666667, 0.7607843137254902),\n",
       " (0.4980392156862745, 0.4980392156862745, 0.4980392156862745),\n",
       " (0.7372549019607844, 0.7411764705882353, 0.13333333333333333),\n",
       " (0.09019607843137255, 0.7450980392156863, 0.8117647058823529)]"
      ]
     },
     "execution_count": 11,
     "metadata": {},
     "output_type": "execute_result"
    }
   ],
   "source": [
    "sns.color_palette() # to get the default qualitative color palette"
   ]
  },
  {
   "cell_type": "code",
   "execution_count": 12,
   "id": "5c5157d4-8f07-4b2d-ae07-522c1ac1afa2",
   "metadata": {},
   "outputs": [
    {
     "name": "stdout",
     "output_type": "stream",
     "text": [
      "['#1f77b4', '#ff7f0e', '#2ca02c', '#d62728', '#9467bd', '#8c564b', '#e377c2', '#7f7f7f', '#bcbd22', '#17becf']\n"
     ]
    }
   ],
   "source": [
    "print(sns.color_palette().as_hex()) # to get hexadecimal values for the colors"
   ]
  },
  {
   "cell_type": "markdown",
   "id": "dc4e3797-f561-4780-97a4-98c654896037",
   "metadata": {},
   "source": [
    "Change order between second, orange, and third, green, colors."
   ]
  },
  {
   "cell_type": "code",
   "execution_count": 13,
   "id": "c6a02cdf-928d-4ef8-9673-cece10adc162",
   "metadata": {},
   "outputs": [],
   "source": [
    "sns.set_palette(['#1f77b4', '#2ca02c', '#ff7f0e',  '#d62728', '#9467bd', '#8c564b', '#e377c2', '#7f7f7f', '#bcbd22', '#17becf'])"
   ]
  },
  {
   "cell_type": "code",
   "execution_count": 14,
   "id": "3585532e-5f0e-4335-9870-8d63d8546b4f",
   "metadata": {},
   "outputs": [
    {
     "data": {
      "text/html": [
       "<svg  width=\"550\" height=\"55\"><rect x=\"0\" y=\"0\" width=\"55\" height=\"55\" style=\"fill:#1f77b4;stroke-width:2;stroke:rgb(255,255,255)\"/><rect x=\"55\" y=\"0\" width=\"55\" height=\"55\" style=\"fill:#2ca02c;stroke-width:2;stroke:rgb(255,255,255)\"/><rect x=\"110\" y=\"0\" width=\"55\" height=\"55\" style=\"fill:#ff7f0e;stroke-width:2;stroke:rgb(255,255,255)\"/><rect x=\"165\" y=\"0\" width=\"55\" height=\"55\" style=\"fill:#d62728;stroke-width:2;stroke:rgb(255,255,255)\"/><rect x=\"220\" y=\"0\" width=\"55\" height=\"55\" style=\"fill:#9467bd;stroke-width:2;stroke:rgb(255,255,255)\"/><rect x=\"275\" y=\"0\" width=\"55\" height=\"55\" style=\"fill:#8c564b;stroke-width:2;stroke:rgb(255,255,255)\"/><rect x=\"330\" y=\"0\" width=\"55\" height=\"55\" style=\"fill:#e377c2;stroke-width:2;stroke:rgb(255,255,255)\"/><rect x=\"385\" y=\"0\" width=\"55\" height=\"55\" style=\"fill:#7f7f7f;stroke-width:2;stroke:rgb(255,255,255)\"/><rect x=\"440\" y=\"0\" width=\"55\" height=\"55\" style=\"fill:#bcbd22;stroke-width:2;stroke:rgb(255,255,255)\"/><rect x=\"495\" y=\"0\" width=\"55\" height=\"55\" style=\"fill:#17becf;stroke-width:2;stroke:rgb(255,255,255)\"/></svg>"
      ],
      "text/plain": [
       "[(0.12156862745098039, 0.4666666666666667, 0.7058823529411765),\n",
       " (0.17254901960784313, 0.6274509803921569, 0.17254901960784313),\n",
       " (1.0, 0.4980392156862745, 0.054901960784313725),\n",
       " (0.8392156862745098, 0.15294117647058825, 0.1568627450980392),\n",
       " (0.5803921568627451, 0.403921568627451, 0.7411764705882353),\n",
       " (0.5490196078431373, 0.33725490196078434, 0.29411764705882354),\n",
       " (0.8901960784313725, 0.4666666666666667, 0.7607843137254902),\n",
       " (0.4980392156862745, 0.4980392156862745, 0.4980392156862745),\n",
       " (0.7372549019607844, 0.7411764705882353, 0.13333333333333333),\n",
       " (0.09019607843137255, 0.7450980392156863, 0.8117647058823529)]"
      ]
     },
     "execution_count": 14,
     "metadata": {},
     "output_type": "execute_result"
    }
   ],
   "source": [
    "sns.color_palette()"
   ]
  },
  {
   "cell_type": "code",
   "execution_count": 15,
   "id": "f661b0e9-5a61-4021-89a0-90009f692715",
   "metadata": {},
   "outputs": [],
   "source": [
    "sns.set_palette(['#4c72b0', '#55a868', '#dd8452', '#c44e52', '#8172b3', '#937860', '#da8bc3', '#8c8c8c', '#ccb974', '#64b5cd'])"
   ]
  },
  {
   "cell_type": "code",
   "execution_count": 16,
   "id": "532d40ac-9f79-42c7-b82b-95d34c8fe971",
   "metadata": {},
   "outputs": [
    {
     "data": {
      "text/html": [
       "<svg  width=\"550\" height=\"55\"><rect x=\"0\" y=\"0\" width=\"55\" height=\"55\" style=\"fill:#4c72b0;stroke-width:2;stroke:rgb(255,255,255)\"/><rect x=\"55\" y=\"0\" width=\"55\" height=\"55\" style=\"fill:#55a868;stroke-width:2;stroke:rgb(255,255,255)\"/><rect x=\"110\" y=\"0\" width=\"55\" height=\"55\" style=\"fill:#dd8452;stroke-width:2;stroke:rgb(255,255,255)\"/><rect x=\"165\" y=\"0\" width=\"55\" height=\"55\" style=\"fill:#c44e52;stroke-width:2;stroke:rgb(255,255,255)\"/><rect x=\"220\" y=\"0\" width=\"55\" height=\"55\" style=\"fill:#8172b3;stroke-width:2;stroke:rgb(255,255,255)\"/><rect x=\"275\" y=\"0\" width=\"55\" height=\"55\" style=\"fill:#937860;stroke-width:2;stroke:rgb(255,255,255)\"/><rect x=\"330\" y=\"0\" width=\"55\" height=\"55\" style=\"fill:#da8bc3;stroke-width:2;stroke:rgb(255,255,255)\"/><rect x=\"385\" y=\"0\" width=\"55\" height=\"55\" style=\"fill:#8c8c8c;stroke-width:2;stroke:rgb(255,255,255)\"/><rect x=\"440\" y=\"0\" width=\"55\" height=\"55\" style=\"fill:#ccb974;stroke-width:2;stroke:rgb(255,255,255)\"/><rect x=\"495\" y=\"0\" width=\"55\" height=\"55\" style=\"fill:#64b5cd;stroke-width:2;stroke:rgb(255,255,255)\"/></svg>"
      ],
      "text/plain": [
       "[(0.2980392156862745, 0.4470588235294118, 0.6901960784313725),\n",
       " (0.3333333333333333, 0.6588235294117647, 0.40784313725490196),\n",
       " (0.8666666666666667, 0.5176470588235295, 0.3215686274509804),\n",
       " (0.7686274509803922, 0.3058823529411765, 0.3215686274509804),\n",
       " (0.5058823529411764, 0.4470588235294118, 0.7019607843137254),\n",
       " (0.5764705882352941, 0.47058823529411764, 0.3764705882352941),\n",
       " (0.8549019607843137, 0.5450980392156862, 0.7647058823529411),\n",
       " (0.5490196078431373, 0.5490196078431373, 0.5490196078431373),\n",
       " (0.8, 0.7254901960784313, 0.4549019607843137),\n",
       " (0.39215686274509803, 0.7098039215686275, 0.803921568627451)]"
      ]
     },
     "execution_count": 16,
     "metadata": {},
     "output_type": "execute_result"
    }
   ],
   "source": [
    "sns.color_palette()"
   ]
  },
  {
   "cell_type": "markdown",
   "id": "a38a4ec3-b09b-4426-82e3-51013add8d06",
   "metadata": {},
   "source": [
    "\n",
    "##### Now we can change the background and the legend and plot again.\n"
   ]
  },
  {
   "cell_type": "code",
   "execution_count": 17,
   "id": "bed50775-6d9b-43d3-8f84-ff10c2d03320",
   "metadata": {},
   "outputs": [],
   "source": [
    "sns.set_theme() # To get the default light-grey background with white grid in the plots. This will change back to default color palette."
   ]
  },
  {
   "cell_type": "code",
   "execution_count": 18,
   "id": "e86bc804-3aa0-447e-9b14-69dbcf53eca1",
   "metadata": {},
   "outputs": [],
   "source": [
    "sns.set_theme(rc={'legend.frameon':False}) # To remove background and frame for the legends. This will change back to default color palette."
   ]
  },
  {
   "cell_type": "code",
   "execution_count": 19,
   "id": "19de47b7-3076-47b9-a167-702d705149f7",
   "metadata": {},
   "outputs": [],
   "source": [
    "sns.set_palette(['#1f77b4', '#2ca02c', '#ff7f0e',  '#d62728', '#9467bd', '#8c564b', '#e377c2', '#7f7f7f', '#bcbd22', '#17becf']) # Changed colors."
   ]
  },
  {
   "cell_type": "code",
   "execution_count": 20,
   "id": "e6680b01-b3bc-41be-b11e-f2fe26cbc3df",
   "metadata": {},
   "outputs": [],
   "source": [
    "# sns.set_palette(['#4c72b0', '#55a868', '#dd8452', '#c44e52', '#8172b3', '#937860', '#da8bc3', '#8c8c8c', '#ccb974', '#64b5cd']) # Changed colors."
   ]
  },
  {
   "cell_type": "code",
   "execution_count": 21,
   "id": "bed8833c-357d-4ca7-9584-f086bf31af7b",
   "metadata": {},
   "outputs": [],
   "source": [
    "# sns.relplot(data=IRIS_data_df, x=\"sepal_length\", y= \"petal_length\", hue=\"species\");"
   ]
  },
  {
   "cell_type": "code",
   "execution_count": 22,
   "id": "d43943b9-5972-4b96-bb71-a0cdce7b7804",
   "metadata": {},
   "outputs": [],
   "source": [
    "# sns.axes_style()"
   ]
  },
  {
   "cell_type": "code",
   "execution_count": 23,
   "id": "3c7d1449-29c6-4f23-88e2-cc44933b89b3",
   "metadata": {},
   "outputs": [],
   "source": [
    "# sns.set_style({'patch.force_edgecolor':False})"
   ]
  },
  {
   "cell_type": "code",
   "execution_count": 24,
   "id": "8407d32c-b596-4aca-b102-8c34c9e6ed84",
   "metadata": {},
   "outputs": [],
   "source": [
    "# sns.axes_style()"
   ]
  },
  {
   "cell_type": "code",
   "execution_count": 25,
   "id": "4e774f63-7700-49af-8074-532fcb2e80b6",
   "metadata": {},
   "outputs": [
    {
     "data": {
      "image/png": "[encoded data removed]",
      "text/plain": [
       "<Figure size 1400x600 with 2 Axes>"
      ]
     },
     "metadata": {},
     "output_type": "display_data"
    }
   ],
   "source": [
    "# sns.set_theme(rc={'legend.frameon':False}) # to remove background and frame for the legends\n",
    "# sns.set_palette(['#4c72b0', '#55a868', '#dd8452', '#c44e52', '#8172b3', '#937860', '#da8bc3', '#8c8c8c', '#ccb974', '#64b5cd'])\n",
    "fig, axs = plt.subplots(1,2, figsize=(14,6))\n",
    "sns.scatterplot(data=IRIS_data_df, x=\"sepal_length\", y= \"petal_length\", hue=\"species\",ax=axs[0])\n",
    "# sns.scatterplot(data=IRIS_data_df, x=\"sepal_length\", y= \"petal_length\", hue=\"species\",ax=axs[0], axs[0].legend(frameon=False))\n",
    "sns.scatterplot(data=IRIS_data_df, x=\"sepal_width\", y= \"petal_width\", hue=\"species\",ax=axs[1]);\n",
    "# ax.legend(loc='upper center', shadow=True, fontsize='x-large')"
   ]
  },
  {
   "cell_type": "markdown",
   "id": "6f6ac43b-cf9c-40b9-9b1b-77c2a7e45ba7",
   "metadata": {},
   "source": [
    "The plots look OK now. "
   ]
  },
  {
   "cell_type": "markdown",
   "id": "7b16ba56-c994-4538-8950-be713d9b5f65",
   "metadata": {},
   "source": [
    "\n",
    "##### Relationship between sepal dimensions and petal dimensions\n"
   ]
  },
  {
   "cell_type": "code",
   "execution_count": null,
   "id": "07f50257-347e-4213-b809-48b39edb4aab",
   "metadata": {},
   "outputs": [],
   "source": []
  },
  {
   "cell_type": "markdown",
   "id": "f4239e1a-764e-4e29-a7b2-9a77686cb50b",
   "metadata": {},
   "source": [
    "\n",
    "##### Distributions of sepal dimensions and petal dimensions\n"
   ]
  },
  {
   "cell_type": "code",
   "execution_count": null,
   "id": "9521f0f4-5871-443e-84c5-9af614bbfb57",
   "metadata": {},
   "outputs": [],
   "source": []
  },
  {
   "cell_type": "code",
   "execution_count": null,
   "id": "f29809fe-d962-468b-8bac-faefb3edec58",
   "metadata": {},
   "outputs": [],
   "source": []
  },
  {
   "cell_type": "code",
   "execution_count": 26,
   "id": "afa5f647-e0ed-4d80-830f-1db8adacf698",
   "metadata": {},
   "outputs": [],
   "source": [
    "# sns.axes_style()"
   ]
  },
  {
   "cell_type": "code",
   "execution_count": 27,
   "id": "a4a10630-a062-4906-bf58-b363dca70dee",
   "metadata": {},
   "outputs": [],
   "source": [
    "# sns.plotting_context()"
   ]
  },
  {
   "cell_type": "code",
   "execution_count": 28,
   "id": "bfeeb3a1-b743-48e7-ac22-299389e12ea7",
   "metadata": {},
   "outputs": [],
   "source": [
    "# sns.relplot(data=IRIS_data_df, x=\"sepal_width\", y= \"petal_width\", hue=\"species\");"
   ]
  },
  {
   "cell_type": "code",
   "execution_count": 29,
   "id": "90b7297e-ad83-4538-8133-65c87b91bdd6",
   "metadata": {},
   "outputs": [
    {
     "data": {
      "image/png": "[encoded data removed]",
      "text/plain": [
       "<Figure size 1400x1400 with 4 Axes>"
      ]
     },
     "metadata": {},
     "output_type": "display_data"
    }
   ],
   "source": [
    "fig, axs = plt.subplots(2,2, figsize=(14,14))\n",
    "# sns.scatterplot(data=IRIS_data_df, x=\"sepal_length\", y= \"petal_length\", hue=\"species\",ax=axs[0])\n",
    "sns.boxplot(data=IRIS_data_df, x=\"species\", y=\"sepal_width\", hue=\"species\", ax=axs[0,0])\n",
    "sns.boxplot(data=IRIS_data_df, x=\"species\", y=\"sepal_length\", hue=\"species\", ax=axs[0,1])\n",
    "sns.boxplot(data=IRIS_data_df, x=\"species\", y=\"petal_width\", hue=\"species\", ax=axs[1,0])\n",
    "sns.boxplot(data=IRIS_data_df, x=\"species\", y=\"petal_length\", hue=\"species\", ax=axs[1,1]);\n",
    "# sns.scatterplot(data=IRIS_data_df, x=\"sepal_width\", y= \"petal_width\", hue=\"species\",ax=axs[1]);"
   ]
  },
  {
   "cell_type": "markdown",
   "id": "d9bc0e52-31fb-4eee-a201-a23d48e71356",
   "metadata": {},
   "source": [
    "\n",
    "##### Conclusions from the box plots\n"
   ]
  },
  {
   "cell_type": "code",
   "execution_count": null,
   "id": "1133b94c-5b05-4b3b-9ad8-43b593018504",
   "metadata": {},
   "outputs": [],
   "source": []
  },
  {
   "cell_type": "markdown",
   "id": "3b5e760f-b8e4-44fd-81c3-fd18cacedb33",
   "metadata": {},
   "source": [
    "\n",
    "##### Pairs-plot\n"
   ]
  },
  {
   "cell_type": "code",
   "execution_count": 30,
   "id": "bfde59a8-8de9-4f3c-8114-7d0694f4159f",
   "metadata": {},
   "outputs": [],
   "source": [
    "# sns.catplot(data=IRIS_data_df, x=\"species\", y=\"sepal_width\", hue=\"species\", kind=\"box\");"
   ]
  },
  {
   "cell_type": "code",
   "execution_count": 31,
   "id": "8b25d752-7e76-4175-8cd9-c5729a0f7c9d",
   "metadata": {},
   "outputs": [],
   "source": [
    "# sns.catplot(data=IRIS_data_df, x=\"species\", y=\"sepal_length\", hue=\"species\", kind=\"box\");"
   ]
  },
  {
   "cell_type": "code",
   "execution_count": 32,
   "id": "f0004ea2-af5a-4589-b318-4b1d608c0f31",
   "metadata": {},
   "outputs": [],
   "source": [
    "# sns.catplot(data=IRIS_data_df, x=\"species\", y=\"petal_width\", hue=\"species\", kind=\"box\");"
   ]
  },
  {
   "cell_type": "code",
   "execution_count": 33,
   "id": "82ea5acb-b49e-4a24-af65-a35c0cec7551",
   "metadata": {},
   "outputs": [],
   "source": [
    "# sns.catplot(data=IRIS_data_df, x=\"species\", y=\"petal_length\", hue=\"species\", kind=\"box\");"
   ]
  },
  {
   "cell_type": "code",
   "execution_count": 34,
   "id": "fe8e85cf-50c6-442c-b59a-a83f5c9930d9",
   "metadata": {},
   "outputs": [
    {
     "data": {
      "image/png": "[encoded data removed]",
      "text/plain": [
       "<Figure size 1146.12x1000 with 20 Axes>"
      ]
     },
     "metadata": {},
     "output_type": "display_data"
    }
   ],
   "source": [
    "sns.pairplot(data=IRIS_data_df, hue=\"species\");"
   ]
  },
  {
   "cell_type": "markdown",
   "id": "4be05a2f-1445-45fc-b347-aabbaec1b19e",
   "metadata": {},
   "source": [
    "\n",
    "##### Relationship between the variables\n"
   ]
  },
  {
   "cell_type": "code",
   "execution_count": null,
   "id": "b1aaf3a2-9302-4c77-a0ab-5c72eb826136",
   "metadata": {},
   "outputs": [],
   "source": []
  },
  {
   "cell_type": "markdown",
   "id": "7b4823e4-fc54-40ef-af53-b3fb3e9a2574",
   "metadata": {},
   "source": [
    "\n",
    "## Birdwatching\n"
   ]
  },
  {
   "cell_type": "markdown",
   "id": "5d71c843-6197-4404-b6a7-49c056860aeb",
   "metadata": {},
   "source": [
    "\n",
    "#### Loading data\n"
   ]
  },
  {
   "cell_type": "markdown",
   "id": "23ae029c-72c7-493a-b58c-9fd2168a0919",
   "metadata": {},
   "source": [
    "![Upper left corner of the file opened in Jupyter](artportalen-csv.jpg \"'Delimiter' shows the sep parameter value to use\")<br><br>"
   ]
  },
  {
   "cell_type": "markdown",
   "id": "9739cd6f-4934-4b5d-9601-db7cc7e214f8",
   "metadata": {},
   "source": [
    "We see that the delimiter is \",\" and that there seems to be no decimals. Consequently we can use default method to read data."
   ]
  },
  {
   "cell_type": "code",
   "execution_count": 35,
   "id": "52958e2d-d166-4deb-a458-562678611a3b",
   "metadata": {},
   "outputs": [],
   "source": [
    "artportalen_data_df = pd.read_csv('artportalen.csv')"
   ]
  },
  {
   "cell_type": "markdown",
   "id": "d06973a2-4d23-4529-a35f-59093f542da0",
   "metadata": {},
   "source": [
    "Some more data"
   ]
  },
  {
   "cell_type": "code",
   "execution_count": 36,
   "id": "4b5f07ba-d57e-4e45-b6e3-0d5672689645",
   "metadata": {},
   "outputs": [
    {
     "data": {
      "text/html": [
       "<div>\n",
       "<style scoped>\n",
       "    .dataframe tbody tr th:only-of-type {\n",
       "        vertical-align: middle;\n",
       "    }\n",
       "\n",
       "    .dataframe tbody tr th {\n",
       "        vertical-align: top;\n",
       "    }\n",
       "\n",
       "    .dataframe thead th {\n",
       "        text-align: right;\n",
       "    }\n",
       "</style>\n",
       "<table border=\"1\" class=\"dataframe\">\n",
       "  <thead>\n",
       "    <tr style=\"text-align: right;\">\n",
       "      <th></th>\n",
       "      <th>Id</th>\n",
       "      <th>Taxonsorteringsordning</th>\n",
       "      <th>Rödlistade</th>\n",
       "      <th>Artnamn</th>\n",
       "      <th>Vetenskapligt namn</th>\n",
       "      <th>Auktor</th>\n",
       "      <th>Antal</th>\n",
       "      <th>Ålder/stadium</th>\n",
       "      <th>Kön</th>\n",
       "      <th>Aktivitet</th>\n",
       "      <th>...</th>\n",
       "      <th>Provins</th>\n",
       "      <th>Församling</th>\n",
       "      <th>Startdatum</th>\n",
       "      <th>Starttid</th>\n",
       "      <th>Slutdatum</th>\n",
       "      <th>Sluttid</th>\n",
       "      <th>Kommentar</th>\n",
       "      <th>Biotop</th>\n",
       "      <th>Rapportör</th>\n",
       "      <th>Observatörer</th>\n",
       "    </tr>\n",
       "  </thead>\n",
       "  <tbody>\n",
       "    <tr>\n",
       "      <th>21911</th>\n",
       "      <td>101504074</td>\n",
       "      <td>55451</td>\n",
       "      <td>NaN</td>\n",
       "      <td>Steglits</td>\n",
       "      <td>Carduelis carduelis</td>\n",
       "      <td>(Linnaeus, 1758)</td>\n",
       "      <td>5</td>\n",
       "      <td>NaN</td>\n",
       "      <td>NaN</td>\n",
       "      <td>spel/sång</td>\n",
       "      <td>...</td>\n",
       "      <td>Uppland</td>\n",
       "      <td>Stockholm</td>\n",
       "      <td>2022-06-08</td>\n",
       "      <td>06:00</td>\n",
       "      <td>2022-06-08</td>\n",
       "      <td>07:15</td>\n",
       "      <td>NaN</td>\n",
       "      <td>NaN</td>\n",
       "      <td>Ossian Rydebjörk</td>\n",
       "      <td>Ossian Rydebjörk</td>\n",
       "    </tr>\n",
       "    <tr>\n",
       "      <th>21912</th>\n",
       "      <td>101505927</td>\n",
       "      <td>55093</td>\n",
       "      <td>NT</td>\n",
       "      <td>Grönsångare</td>\n",
       "      <td>Phylloscopus sibilatrix</td>\n",
       "      <td>(Bechstein, 1793)</td>\n",
       "      <td>4</td>\n",
       "      <td>NaN</td>\n",
       "      <td>NaN</td>\n",
       "      <td>spel/sång</td>\n",
       "      <td>...</td>\n",
       "      <td>Uppland</td>\n",
       "      <td>Solna</td>\n",
       "      <td>2022-06-07</td>\n",
       "      <td>18:40</td>\n",
       "      <td>2022-06-07</td>\n",
       "      <td>19:40</td>\n",
       "      <td>NaN</td>\n",
       "      <td>NaN</td>\n",
       "      <td>Joakim Ekman</td>\n",
       "      <td>Joakim Ekman</td>\n",
       "    </tr>\n",
       "    <tr>\n",
       "      <th>21913</th>\n",
       "      <td>101505939</td>\n",
       "      <td>55094</td>\n",
       "      <td>NaN</td>\n",
       "      <td>Lövsångare</td>\n",
       "      <td>Phylloscopus trochilus</td>\n",
       "      <td>(Linnaeus, 1758)</td>\n",
       "      <td>1</td>\n",
       "      <td>NaN</td>\n",
       "      <td>NaN</td>\n",
       "      <td>spel/sång</td>\n",
       "      <td>...</td>\n",
       "      <td>Uppland</td>\n",
       "      <td>Solna</td>\n",
       "      <td>2022-06-07</td>\n",
       "      <td>18:40</td>\n",
       "      <td>2022-06-07</td>\n",
       "      <td>19:40</td>\n",
       "      <td>NaN</td>\n",
       "      <td>NaN</td>\n",
       "      <td>Joakim Ekman</td>\n",
       "      <td>Joakim Ekman</td>\n",
       "    </tr>\n",
       "    <tr>\n",
       "      <th>21914</th>\n",
       "      <td>101506008</td>\n",
       "      <td>55094</td>\n",
       "      <td>NaN</td>\n",
       "      <td>Lövsångare</td>\n",
       "      <td>Phylloscopus trochilus</td>\n",
       "      <td>(Linnaeus, 1758)</td>\n",
       "      <td>2</td>\n",
       "      <td>NaN</td>\n",
       "      <td>i par</td>\n",
       "      <td>föda åt ungar</td>\n",
       "      <td>...</td>\n",
       "      <td>Uppland</td>\n",
       "      <td>Solna</td>\n",
       "      <td>2022-06-07</td>\n",
       "      <td>18:40</td>\n",
       "      <td>2022-06-07</td>\n",
       "      <td>19:40</td>\n",
       "      <td>Med mat i näbben.</td>\n",
       "      <td>NaN</td>\n",
       "      <td>Joakim Ekman</td>\n",
       "      <td>Joakim Ekman</td>\n",
       "    </tr>\n",
       "    <tr>\n",
       "      <th>21915</th>\n",
       "      <td>101507783</td>\n",
       "      <td>55288</td>\n",
       "      <td>NaN</td>\n",
       "      <td>Mindre flugsnappare</td>\n",
       "      <td>Ficedula parva</td>\n",
       "      <td>(Bechstein, 1794)</td>\n",
       "      <td>1</td>\n",
       "      <td>NaN</td>\n",
       "      <td>NaN</td>\n",
       "      <td>spel/sång</td>\n",
       "      <td>...</td>\n",
       "      <td>Uppland</td>\n",
       "      <td>Solna</td>\n",
       "      <td>2022-06-08</td>\n",
       "      <td>10:10</td>\n",
       "      <td>2022-06-08</td>\n",
       "      <td>10:30</td>\n",
       "      <td>Öster om parkbänken.</td>\n",
       "      <td>NaN</td>\n",
       "      <td>Ingrid Ehnström</td>\n",
       "      <td>Ingrid Ehnström</td>\n",
       "    </tr>\n",
       "  </tbody>\n",
       "</table>\n",
       "<p>5 rows × 27 columns</p>\n",
       "</div>"
      ],
      "text/plain": [
       "              Id  Taxonsorteringsordning Rödlistade              Artnamn  \\\n",
       "21911  101504074                   55451        NaN             Steglits   \n",
       "21912  101505927                   55093         NT          Grönsångare   \n",
       "21913  101505939                   55094        NaN           Lövsångare   \n",
       "21914  101506008                   55094        NaN           Lövsångare   \n",
       "21915  101507783                   55288        NaN  Mindre flugsnappare   \n",
       "\n",
       "            Vetenskapligt namn             Auktor Antal Ålder/stadium    Kön  \\\n",
       "21911      Carduelis carduelis   (Linnaeus, 1758)     5           NaN    NaN   \n",
       "21912  Phylloscopus sibilatrix  (Bechstein, 1793)     4           NaN    NaN   \n",
       "21913   Phylloscopus trochilus   (Linnaeus, 1758)     1           NaN    NaN   \n",
       "21914   Phylloscopus trochilus   (Linnaeus, 1758)     2           NaN  i par   \n",
       "21915           Ficedula parva  (Bechstein, 1794)     1           NaN    NaN   \n",
       "\n",
       "           Aktivitet  ...  Provins  Församling  Startdatum  Starttid  \\\n",
       "21911      spel/sång  ...  Uppland   Stockholm  2022-06-08     06:00   \n",
       "21912      spel/sång  ...  Uppland       Solna  2022-06-07     18:40   \n",
       "21913      spel/sång  ...  Uppland       Solna  2022-06-07     18:40   \n",
       "21914  föda åt ungar  ...  Uppland       Solna  2022-06-07     18:40   \n",
       "21915      spel/sång  ...  Uppland       Solna  2022-06-08     10:10   \n",
       "\n",
       "        Slutdatum Sluttid             Kommentar Biotop         Rapportör  \\\n",
       "21911  2022-06-08   07:15                   NaN    NaN  Ossian Rydebjörk   \n",
       "21912  2022-06-07   19:40                   NaN    NaN      Joakim Ekman   \n",
       "21913  2022-06-07   19:40                   NaN    NaN      Joakim Ekman   \n",
       "21914  2022-06-07   19:40     Med mat i näbben.    NaN      Joakim Ekman   \n",
       "21915  2022-06-08   10:30  Öster om parkbänken.    NaN   Ingrid Ehnström   \n",
       "\n",
       "           Observatörer  \n",
       "21911  Ossian Rydebjörk  \n",
       "21912      Joakim Ekman  \n",
       "21913      Joakim Ekman  \n",
       "21914      Joakim Ekman  \n",
       "21915   Ingrid Ehnström  \n",
       "\n",
       "[5 rows x 27 columns]"
      ]
     },
     "execution_count": 36,
     "metadata": {},
     "output_type": "execute_result"
    }
   ],
   "source": [
    "artportalen_data_df.tail()"
   ]
  },
  {
   "cell_type": "markdown",
   "id": "47b0c1bc-a4e1-4f60-a093-337a0f4c458d",
   "metadata": {},
   "source": [
    "\n",
    "##### Structure of the data\n"
   ]
  },
  {
   "cell_type": "code",
   "execution_count": 37,
   "id": "a726d3b1-43ab-4daf-aca2-43847530ca14",
   "metadata": {},
   "outputs": [
    {
     "name": "stdout",
     "output_type": "stream",
     "text": [
      "<class 'pandas.core.frame.DataFrame'>\n",
      "RangeIndex: 21916 entries, 0 to 21915\n",
      "Data columns (total 27 columns):\n",
      " #   Column                  Non-Null Count  Dtype \n",
      "---  ------                  --------------  ----- \n",
      " 0   Id                      21916 non-null  int64 \n",
      " 1   Taxonsorteringsordning  21916 non-null  int64 \n",
      " 2   Rödlistade              4777 non-null   object\n",
      " 3   Artnamn                 21916 non-null  object\n",
      " 4   Vetenskapligt namn      21916 non-null  object\n",
      " 5   Auktor                  21843 non-null  object\n",
      " 6   Antal                   21916 non-null  object\n",
      " 7   Ålder/stadium           757 non-null    object\n",
      " 8   Kön                     2023 non-null   object\n",
      " 9   Aktivitet               16745 non-null  object\n",
      " 10  Lokalnamn               21916 non-null  object\n",
      " 11  Ostkoordinat            21916 non-null  int64 \n",
      " 12  Nordkoordinat           21916 non-null  int64 \n",
      " 13  Noggrannhet             21916 non-null  int64 \n",
      " 14  Diffusion               21916 non-null  int64 \n",
      " 15  Län                     21916 non-null  object\n",
      " 16  Kommun                  21916 non-null  object\n",
      " 17  Provins                 21916 non-null  object\n",
      " 18  Församling              21916 non-null  object\n",
      " 19  Startdatum              21916 non-null  object\n",
      " 20  Starttid                19353 non-null  object\n",
      " 21  Slutdatum               21916 non-null  object\n",
      " 22  Sluttid                 19353 non-null  object\n",
      " 23  Kommentar               2712 non-null   object\n",
      " 24  Biotop                  1 non-null      object\n",
      " 25  Rapportör               21916 non-null  object\n",
      " 26  Observatörer            21914 non-null  object\n",
      "dtypes: int64(6), object(21)\n",
      "memory usage: 4.5+ MB\n"
     ]
    }
   ],
   "source": [
    "artportalen_data_df.info()"
   ]
  },
  {
   "cell_type": "markdown",
   "id": "f198270b-f76c-404b-8c12-c46fac0b2844",
   "metadata": {},
   "source": [
    "\n",
    "##### Summary statistics of numeric variables\n"
   ]
  },
  {
   "cell_type": "code",
   "execution_count": 38,
   "id": "e18530a2-541d-4a5a-90f0-d47c5ea6d429",
   "metadata": {},
   "outputs": [
    {
     "data": {
      "text/html": [
       "<div>\n",
       "<style scoped>\n",
       "    .dataframe tbody tr th:only-of-type {\n",
       "        vertical-align: middle;\n",
       "    }\n",
       "\n",
       "    .dataframe tbody tr th {\n",
       "        vertical-align: top;\n",
       "    }\n",
       "\n",
       "    .dataframe thead th {\n",
       "        text-align: right;\n",
       "    }\n",
       "</style>\n",
       "<table border=\"1\" class=\"dataframe\">\n",
       "  <thead>\n",
       "    <tr style=\"text-align: right;\">\n",
       "      <th></th>\n",
       "      <th>Id</th>\n",
       "      <th>Taxonsorteringsordning</th>\n",
       "      <th>Ostkoordinat</th>\n",
       "      <th>Nordkoordinat</th>\n",
       "      <th>Noggrannhet</th>\n",
       "      <th>Diffusion</th>\n",
       "    </tr>\n",
       "  </thead>\n",
       "  <tbody>\n",
       "    <tr>\n",
       "      <th>count</th>\n",
       "      <td>2.191600e+04</td>\n",
       "      <td>21916.000000</td>\n",
       "      <td>2.191600e+04</td>\n",
       "      <td>2.191600e+04</td>\n",
       "      <td>21916.000000</td>\n",
       "      <td>21916.0</td>\n",
       "    </tr>\n",
       "    <tr>\n",
       "      <th>mean</th>\n",
       "      <td>9.981252e+07</td>\n",
       "      <td>54752.077660</td>\n",
       "      <td>1.629865e+06</td>\n",
       "      <td>6.583355e+06</td>\n",
       "      <td>288.540473</td>\n",
       "      <td>0.0</td>\n",
       "    </tr>\n",
       "    <tr>\n",
       "      <th>std</th>\n",
       "      <td>1.072560e+06</td>\n",
       "      <td>513.149522</td>\n",
       "      <td>3.184815e+03</td>\n",
       "      <td>3.052448e+03</td>\n",
       "      <td>413.406928</td>\n",
       "      <td>0.0</td>\n",
       "    </tr>\n",
       "    <tr>\n",
       "      <th>min</th>\n",
       "      <td>9.778507e+07</td>\n",
       "      <td>53905.000000</td>\n",
       "      <td>1.622830e+06</td>\n",
       "      <td>6.579964e+06</td>\n",
       "      <td>0.000000</td>\n",
       "      <td>0.0</td>\n",
       "    </tr>\n",
       "    <tr>\n",
       "      <th>25%</th>\n",
       "      <td>9.895787e+07</td>\n",
       "      <td>54222.000000</td>\n",
       "      <td>1.626851e+06</td>\n",
       "      <td>6.580712e+06</td>\n",
       "      <td>94.000000</td>\n",
       "      <td>0.0</td>\n",
       "    </tr>\n",
       "    <tr>\n",
       "      <th>50%</th>\n",
       "      <td>9.979669e+07</td>\n",
       "      <td>54944.000000</td>\n",
       "      <td>1.630050e+06</td>\n",
       "      <td>6.581857e+06</td>\n",
       "      <td>187.000000</td>\n",
       "      <td>0.0</td>\n",
       "    </tr>\n",
       "    <tr>\n",
       "      <th>75%</th>\n",
       "      <td>1.007643e+08</td>\n",
       "      <td>55213.000000</td>\n",
       "      <td>1.633107e+06</td>\n",
       "      <td>6.585409e+06</td>\n",
       "      <td>250.000000</td>\n",
       "      <td>0.0</td>\n",
       "    </tr>\n",
       "    <tr>\n",
       "      <th>max</th>\n",
       "      <td>1.015078e+08</td>\n",
       "      <td>55488.000000</td>\n",
       "      <td>1.635000e+06</td>\n",
       "      <td>6.590025e+06</td>\n",
       "      <td>4679.000000</td>\n",
       "      <td>0.0</td>\n",
       "    </tr>\n",
       "  </tbody>\n",
       "</table>\n",
       "</div>"
      ],
      "text/plain": [
       "                 Id  Taxonsorteringsordning  Ostkoordinat  Nordkoordinat  \\\n",
       "count  2.191600e+04            21916.000000  2.191600e+04   2.191600e+04   \n",
       "mean   9.981252e+07            54752.077660  1.629865e+06   6.583355e+06   \n",
       "std    1.072560e+06              513.149522  3.184815e+03   3.052448e+03   \n",
       "min    9.778507e+07            53905.000000  1.622830e+06   6.579964e+06   \n",
       "25%    9.895787e+07            54222.000000  1.626851e+06   6.580712e+06   \n",
       "50%    9.979669e+07            54944.000000  1.630050e+06   6.581857e+06   \n",
       "75%    1.007643e+08            55213.000000  1.633107e+06   6.585409e+06   \n",
       "max    1.015078e+08            55488.000000  1.635000e+06   6.590025e+06   \n",
       "\n",
       "        Noggrannhet  Diffusion  \n",
       "count  21916.000000    21916.0  \n",
       "mean     288.540473        0.0  \n",
       "std      413.406928        0.0  \n",
       "min        0.000000        0.0  \n",
       "25%       94.000000        0.0  \n",
       "50%      187.000000        0.0  \n",
       "75%      250.000000        0.0  \n",
       "max     4679.000000        0.0  "
      ]
     },
     "execution_count": 38,
     "metadata": {},
     "output_type": "execute_result"
    }
   ],
   "source": [
    "artportalen_data_df.describe()"
   ]
  },
  {
   "cell_type": "markdown",
   "id": "7a6c3f71-734a-4027-8c09-9ad27e3c045e",
   "metadata": {},
   "source": [
    "\n",
    "##### Find unique values for some non-numeric variables\n"
   ]
  },
  {
   "cell_type": "code",
   "execution_count": 39,
   "id": "3ac2a385-9def-4e9d-b073-6275ac0ffb46",
   "metadata": {},
   "outputs": [
    {
     "data": {
      "text/plain": [
       "array(['2', '1', '10', '5', '6', '3', '7', '30', '8', '4', 'noterad',\n",
       "       '100', '16', '222', '60', '18', '50', '12', '25', '20', '21',\n",
       "       '600', '51', '80', '250', '200', '15', '11', '70', '71', '35',\n",
       "       '3000', '67', '9', '26', '150', '40', '17', '14', '28', '1000',\n",
       "       'Ej återfunnen', '13', '63', '22', '120', '138', '1100', '19',\n",
       "       '42', '47', '23', '96', '85', '10000', '400', '45', '130', '82',\n",
       "       '68', '34', '109', '122', '39', '41', '57', '49', '116', '125',\n",
       "       '75', '81', '55', '43', '86', '156', '27', '235', '46', '115',\n",
       "       '65', '110', '140', '141', '32', '123', '66', '145', '203', '168',\n",
       "       '61', '24', '83', '119', '74', '38', '192', '88', '53', '33', '97',\n",
       "       '52', '56', '44', '36', '37', '31', '185', '172', '108', '90',\n",
       "       '300', '175', '95', '162', '54', '29', '270', '48', '225', '89',\n",
       "       '155', '133', '72', '190', '124', '62', '107', '248', '408', '570'],\n",
       "      dtype=object)"
      ]
     },
     "execution_count": 39,
     "metadata": {},
     "output_type": "execute_result"
    }
   ],
   "source": [
    "artportalen_data_df['Antal'].unique()"
   ]
  },
  {
   "cell_type": "markdown",
   "id": "dcbc762b-0c44-4d80-961e-2930cf23d3de",
   "metadata": {},
   "source": [
    "We see that some values are not possible to convert to numbers, i.e. 'noterad' and 'Ej återfunnen'.<br>\n"
   ]
  },
  {
   "cell_type": "code",
   "execution_count": 40,
   "id": "c39c0d3d-4674-4ab6-8b6c-3c0e87fc63e8",
   "metadata": {},
   "outputs": [
    {
     "data": {
      "text/plain": [
       "array([nan, 'NT', 'VU', 'EN'], dtype=object)"
      ]
     },
     "execution_count": 40,
     "metadata": {},
     "output_type": "execute_result"
    }
   ],
   "source": [
    "artportalen_data_df['Rödlistade'].unique()"
   ]
  },
  {
   "cell_type": "markdown",
   "id": "c47a78b2-4118-487a-9231-a3dc7e8f5925",
   "metadata": {},
   "source": [
    "According to information on Artdataportalen the meaning of these codes are:\n",
    "- NT: \"Nära hotad\"\n",
    "- VU: \"Sårbar\"\n",
    "- EN: \"Starkt hotad\"\n",
    "\n",
    "**[Nationellt skyddsklassade arter](https://www.slu.se/artdatabanken/rapportering-och-fynddata/fynddata/skyddsklassade-arter/)**"
   ]
  },
  {
   "cell_type": "markdown",
   "id": "cd3d2dc4-fc16-47f3-9d6e-a75cf61c2819",
   "metadata": {},
   "source": [
    "In which municipalities are the observations done?"
   ]
  },
  {
   "cell_type": "code",
   "execution_count": 41,
   "id": "206d0772-d1c5-4fc0-a907-0f1a1879b92e",
   "metadata": {},
   "outputs": [
    {
     "data": {
      "text/plain": [
       "array(['Solna', 'Stockholm', 'Sollentuna', 'Lidingö'], dtype=object)"
      ]
     },
     "execution_count": 41,
     "metadata": {},
     "output_type": "execute_result"
    }
   ],
   "source": [
    "artportalen_data_df['Kommun'].unique()"
   ]
  },
  {
   "cell_type": "markdown",
   "id": "c10f2323-22cb-4cf7-950e-bbd80e11b0c7",
   "metadata": {},
   "source": [
    "How many different persons have made reports?"
   ]
  },
  {
   "cell_type": "code",
   "execution_count": 42,
   "id": "4c709125-3e87-40f1-bda2-f309e12baea7",
   "metadata": {},
   "outputs": [
    {
     "data": {
      "text/plain": [
       "(396,)"
      ]
     },
     "execution_count": 42,
     "metadata": {},
     "output_type": "execute_result"
    }
   ],
   "source": [
    "artportalen_data_df['Rapportör'].unique().shape"
   ]
  },
  {
   "cell_type": "markdown",
   "id": "60c764fe-887f-4027-88fb-5695da41a882",
   "metadata": {},
   "source": [
    "How many different species are found?"
   ]
  },
  {
   "cell_type": "code",
   "execution_count": 43,
   "id": "72caed28-da29-443e-961b-00583335a312",
   "metadata": {},
   "outputs": [
    {
     "data": {
      "text/plain": [
       "(173,)"
      ]
     },
     "execution_count": 43,
     "metadata": {},
     "output_type": "execute_result"
    }
   ],
   "source": [
    "artportalen_data_df['Artnamn'].unique().shape"
   ]
  },
  {
   "cell_type": "markdown",
   "id": "dce366a6-03d5-4660-b6fa-fcfd484ffd05",
   "metadata": {},
   "source": [
    "Find first and last date for the observations"
   ]
  },
  {
   "cell_type": "code",
   "execution_count": 44,
   "id": "2e1a7118-ea56-41aa-9435-ce387a7e8d42",
   "metadata": {},
   "outputs": [],
   "source": [
    "start_dates = artportalen_data_df['Startdatum'].unique()"
   ]
  },
  {
   "cell_type": "code",
   "execution_count": 45,
   "id": "d612e38f-357e-4165-85ff-2cd4e78ae68a",
   "metadata": {},
   "outputs": [
    {
     "data": {
      "text/plain": [
       "numpy.ndarray"
      ]
     },
     "execution_count": 45,
     "metadata": {},
     "output_type": "execute_result"
    }
   ],
   "source": [
    "type(start_dates)"
   ]
  },
  {
   "cell_type": "code",
   "execution_count": 46,
   "id": "9012a90a-4fa8-4be4-bae8-5f20bc569f2f",
   "metadata": {},
   "outputs": [
    {
     "data": {
      "text/plain": [
       "(159,)"
      ]
     },
     "execution_count": 46,
     "metadata": {},
     "output_type": "execute_result"
    }
   ],
   "source": [
    "start_dates.shape"
   ]
  },
  {
   "cell_type": "code",
   "execution_count": 47,
   "id": "eb447962-a966-45d2-abec-fd63b2d3b964",
   "metadata": {},
   "outputs": [
    {
     "data": {
      "text/plain": [
       "'2021-12-30'"
      ]
     },
     "execution_count": 47,
     "metadata": {},
     "output_type": "execute_result"
    }
   ],
   "source": [
    "start_dates.min()"
   ]
  },
  {
   "cell_type": "code",
   "execution_count": 48,
   "id": "fede26a9-ea2b-478d-a09b-7b531fdb96f0",
   "metadata": {},
   "outputs": [
    {
     "data": {
      "text/plain": [
       "'2022-06-08'"
      ]
     },
     "execution_count": 48,
     "metadata": {},
     "output_type": "execute_result"
    }
   ],
   "source": [
    "start_dates.max()"
   ]
  },
  {
   "cell_type": "code",
   "execution_count": 49,
   "id": "7d3b0e4b-2b22-49f0-9197-850b4a557fd2",
   "metadata": {},
   "outputs": [],
   "source": [
    "end_dates = artportalen_data_df['Slutdatum'].unique()"
   ]
  },
  {
   "cell_type": "code",
   "execution_count": 50,
   "id": "a9fe32b4-73f8-45f8-8b0e-9b9332497840",
   "metadata": {},
   "outputs": [
    {
     "data": {
      "text/plain": [
       "'2022-01-01'"
      ]
     },
     "execution_count": 50,
     "metadata": {},
     "output_type": "execute_result"
    }
   ],
   "source": [
    "end_dates.min()"
   ]
  },
  {
   "cell_type": "code",
   "execution_count": 51,
   "id": "4a35d6d0-f252-4472-8096-aed5696ac21f",
   "metadata": {},
   "outputs": [
    {
     "data": {
      "text/plain": [
       "'2022-06-08'"
      ]
     },
     "execution_count": 51,
     "metadata": {},
     "output_type": "execute_result"
    }
   ],
   "source": [
    "end_dates.max()"
   ]
  },
  {
   "cell_type": "code",
   "execution_count": 52,
   "id": "df8503b3-4d7a-4625-88cb-efbe024988da",
   "metadata": {},
   "outputs": [
    {
     "data": {
      "text/plain": [
       "str"
      ]
     },
     "execution_count": 52,
     "metadata": {},
     "output_type": "execute_result"
    }
   ],
   "source": [
    "type(end_dates.max())"
   ]
  },
  {
   "cell_type": "markdown",
   "id": "3dccedc1-1453-4ee7-851d-6a56c744062f",
   "metadata": {},
   "source": [
    "The first 'Startdatum' is '2021-12-30' and the last 'Slutdatum' is '2022-06-08'"
   ]
  },
  {
   "cell_type": "markdown",
   "id": "99c2f850-71a6-47d7-9a4e-bed9529bfe24",
   "metadata": {},
   "source": [
    "\n",
    "##### Make a subset of interesting columns.\n"
   ]
  },
  {
   "cell_type": "code",
   "execution_count": 53,
   "id": "89abe089-ec22-44c3-b6a5-4c3ba33d4228",
   "metadata": {},
   "outputs": [],
   "source": [
    "artportalen_interesting_data_df = artportalen_data_df[['Artnamn', 'Antal']]"
   ]
  },
  {
   "cell_type": "code",
   "execution_count": 54,
   "id": "d0c0a47e-638f-43ce-8739-3e493ce43fa0",
   "metadata": {},
   "outputs": [
    {
     "data": {
      "text/html": [
       "<div>\n",
       "<style scoped>\n",
       "    .dataframe tbody tr th:only-of-type {\n",
       "        vertical-align: middle;\n",
       "    }\n",
       "\n",
       "    .dataframe tbody tr th {\n",
       "        vertical-align: top;\n",
       "    }\n",
       "\n",
       "    .dataframe thead th {\n",
       "        text-align: right;\n",
       "    }\n",
       "</style>\n",
       "<table border=\"1\" class=\"dataframe\">\n",
       "  <thead>\n",
       "    <tr style=\"text-align: right;\">\n",
       "      <th></th>\n",
       "      <th>Artnamn</th>\n",
       "      <th>Antal</th>\n",
       "    </tr>\n",
       "  </thead>\n",
       "  <tbody>\n",
       "    <tr>\n",
       "      <th>0</th>\n",
       "      <td>Koltrast</td>\n",
       "      <td>2</td>\n",
       "    </tr>\n",
       "    <tr>\n",
       "      <th>1</th>\n",
       "      <td>Blåmes</td>\n",
       "      <td>2</td>\n",
       "    </tr>\n",
       "    <tr>\n",
       "      <th>2</th>\n",
       "      <td>Koltrast</td>\n",
       "      <td>1</td>\n",
       "    </tr>\n",
       "    <tr>\n",
       "      <th>3</th>\n",
       "      <td>Sparvhök</td>\n",
       "      <td>1</td>\n",
       "    </tr>\n",
       "    <tr>\n",
       "      <th>4</th>\n",
       "      <td>Skata</td>\n",
       "      <td>2</td>\n",
       "    </tr>\n",
       "    <tr>\n",
       "      <th>...</th>\n",
       "      <td>...</td>\n",
       "      <td>...</td>\n",
       "    </tr>\n",
       "    <tr>\n",
       "      <th>21911</th>\n",
       "      <td>Steglits</td>\n",
       "      <td>5</td>\n",
       "    </tr>\n",
       "    <tr>\n",
       "      <th>21912</th>\n",
       "      <td>Grönsångare</td>\n",
       "      <td>4</td>\n",
       "    </tr>\n",
       "    <tr>\n",
       "      <th>21913</th>\n",
       "      <td>Lövsångare</td>\n",
       "      <td>1</td>\n",
       "    </tr>\n",
       "    <tr>\n",
       "      <th>21914</th>\n",
       "      <td>Lövsångare</td>\n",
       "      <td>2</td>\n",
       "    </tr>\n",
       "    <tr>\n",
       "      <th>21915</th>\n",
       "      <td>Mindre flugsnappare</td>\n",
       "      <td>1</td>\n",
       "    </tr>\n",
       "  </tbody>\n",
       "</table>\n",
       "<p>21916 rows × 2 columns</p>\n",
       "</div>"
      ],
      "text/plain": [
       "                   Artnamn Antal\n",
       "0                 Koltrast     2\n",
       "1                   Blåmes     2\n",
       "2                 Koltrast     1\n",
       "3                 Sparvhök     1\n",
       "4                    Skata     2\n",
       "...                    ...   ...\n",
       "21911             Steglits     5\n",
       "21912          Grönsångare     4\n",
       "21913           Lövsångare     1\n",
       "21914           Lövsångare     2\n",
       "21915  Mindre flugsnappare     1\n",
       "\n",
       "[21916 rows x 2 columns]"
      ]
     },
     "execution_count": 54,
     "metadata": {},
     "output_type": "execute_result"
    }
   ],
   "source": [
    "artportalen_interesting_data_df "
   ]
  },
  {
   "cell_type": "markdown",
   "id": "857357c1-e268-4b1f-8da0-e915eb66a9f7",
   "metadata": {},
   "source": [
    "\n",
    "##### Convert values in 'Antal' to numbers, when possible\n"
   ]
  },
  {
   "cell_type": "code",
   "execution_count": 55,
   "id": "f8fc53a3-c6fb-465c-a771-f7edc210e735",
   "metadata": {},
   "outputs": [],
   "source": [
    "pd.options.mode.copy_on_write = True # to avoid warnings when replacing values in a column\n",
    "# see https://pandas.pydata.org/pandas-docs/stable/user_guide/copy_on_write.html#copy-on-write-chained-assignment"
   ]
  },
  {
   "cell_type": "code",
   "execution_count": 56,
   "id": "924c73fc-efce-4eb7-88a3-833926198ad1",
   "metadata": {},
   "outputs": [
    {
     "data": {
      "text/plain": [
       "pandas.core.series.Series"
      ]
     },
     "execution_count": 56,
     "metadata": {},
     "output_type": "execute_result"
    }
   ],
   "source": [
    "type(artportalen_interesting_data_df['Antal'])"
   ]
  },
  {
   "cell_type": "markdown",
   "id": "d1965019-c041-480b-aa1f-76d90b4752d2",
   "metadata": {},
   "source": [
    "First we change 'noterad' and 'Ej återfunnen' to np.nan."
   ]
  },
  {
   "cell_type": "code",
   "execution_count": 57,
   "id": "001d3685-aa63-4eb3-a5a7-0171cc769420",
   "metadata": {},
   "outputs": [],
   "source": [
    "artportalen_interesting_data_df['Antal'] = artportalen_interesting_data_df['Antal'].replace(['noterad','Ej återfunnen'], np.nan)"
   ]
  },
  {
   "cell_type": "code",
   "execution_count": 58,
   "id": "82ca56f2-959c-4513-9767-23a0483af746",
   "metadata": {},
   "outputs": [
    {
     "data": {
      "text/plain": [
       "array(['2', '1', '10', '5', '6', '3', '7', '30', '8', '4', nan, '100',\n",
       "       '16', '222', '60', '18', '50', '12', '25', '20', '21', '600', '51',\n",
       "       '80', '250', '200', '15', '11', '70', '71', '35', '3000', '67',\n",
       "       '9', '26', '150', '40', '17', '14', '28', '1000', '13', '63', '22',\n",
       "       '120', '138', '1100', '19', '42', '47', '23', '96', '85', '10000',\n",
       "       '400', '45', '130', '82', '68', '34', '109', '122', '39', '41',\n",
       "       '57', '49', '116', '125', '75', '81', '55', '43', '86', '156',\n",
       "       '27', '235', '46', '115', '65', '110', '140', '141', '32', '123',\n",
       "       '66', '145', '203', '168', '61', '24', '83', '119', '74', '38',\n",
       "       '192', '88', '53', '33', '97', '52', '56', '44', '36', '37', '31',\n",
       "       '185', '172', '108', '90', '300', '175', '95', '162', '54', '29',\n",
       "       '270', '48', '225', '89', '155', '133', '72', '190', '124', '62',\n",
       "       '107', '248', '408', '570'], dtype=object)"
      ]
     },
     "execution_count": 58,
     "metadata": {},
     "output_type": "execute_result"
    }
   ],
   "source": [
    "artportalen_interesting_data_df['Antal'].unique()"
   ]
  },
  {
   "cell_type": "code",
   "execution_count": 59,
   "id": "6b95d9b6-ccc1-420f-984a-8e18ee91fa01",
   "metadata": {},
   "outputs": [],
   "source": [
    "# artportalen_interesting_data_df_nan_antal = artportalen_interesting_data_df['Antal'].replace(['noterad','Ej återfunnen'], np.nan)"
   ]
  },
  {
   "cell_type": "code",
   "execution_count": 60,
   "id": "eff0cfcf-30ab-4ae3-8b9a-3c9ff507a621",
   "metadata": {},
   "outputs": [],
   "source": [
    "# artportalen_interesting_data_df_nan_antal_I = artportalen_interesting_data_df['Antal'].replace('noterad', np.nan)"
   ]
  },
  {
   "cell_type": "code",
   "execution_count": 61,
   "id": "d9d66789-b704-4565-827a-36aba7323b17",
   "metadata": {},
   "outputs": [],
   "source": [
    "# artportalen_interesting_data_df_nan_antal.unique()"
   ]
  },
  {
   "cell_type": "code",
   "execution_count": 62,
   "id": "3d82a2bb-8158-4692-8e06-5b83f5f2640f",
   "metadata": {},
   "outputs": [],
   "source": [
    "# artportalen_interesting_data_df_nan_antal_II = artportalen_interesting_data_df['Antal'].replace('Ej återfunnen', np.nan)"
   ]
  },
  {
   "cell_type": "code",
   "execution_count": 63,
   "id": "76a425a8-d1c8-4246-a09b-70128a90719a",
   "metadata": {},
   "outputs": [],
   "source": [
    "# artportalen_interesting_data_df_nan_antal_II.unique()"
   ]
  },
  {
   "cell_type": "code",
   "execution_count": 64,
   "id": "699fe0d0-4a84-4004-a535-8b8c49580803",
   "metadata": {},
   "outputs": [],
   "source": [
    "# artportalen_interesting_data_df_nan_antal_III = artportalen_interesting_data_df_nan_antal_II.replace('noterad', np.nan)"
   ]
  },
  {
   "cell_type": "code",
   "execution_count": 65,
   "id": "e40d0cf3-e186-4a47-aaa4-304ba069b05e",
   "metadata": {},
   "outputs": [],
   "source": [
    "# artportalen_interesting_data_df_nan_antal_III.unique()"
   ]
  },
  {
   "cell_type": "code",
   "execution_count": 66,
   "id": "c7c94663-9884-4f37-b5e9-95ba823ea433",
   "metadata": {},
   "outputs": [],
   "source": [
    "# type(artportalen_interesting_data_df_nan_antal_III)"
   ]
  },
  {
   "cell_type": "code",
   "execution_count": 67,
   "id": "509a0858-a0e3-45d4-b2c9-f5c7c953e642",
   "metadata": {},
   "outputs": [],
   "source": [
    "# Hur lägga till artportalen_interesting_data_df_nan_antal_III som en ny kolumn till artportalen_interesting_data_df ?"
   ]
  },
  {
   "cell_type": "code",
   "execution_count": 68,
   "id": "0d157e03-5556-4a01-9ecc-36d41a8d2ef0",
   "metadata": {},
   "outputs": [],
   "source": [
    "# artportalen_interesting_data_df.loc['Antal_nan_III'] = artportalen_interesting_data_df_nan_antal_III"
   ]
  },
  {
   "cell_type": "code",
   "execution_count": 69,
   "id": "f80eaf5b-2e61-4ac5-92b6-2e609e53d52b",
   "metadata": {},
   "outputs": [],
   "source": [
    "# artportalen_interesting_data_df['Antal'].replace(['Ej återfunnen'], np.nan)"
   ]
  },
  {
   "cell_type": "code",
   "execution_count": 70,
   "id": "efe81634-3166-4faf-9fe4-1900653e0444",
   "metadata": {},
   "outputs": [],
   "source": [
    "# artportalen_interesting_data_df['Antal'].unique()"
   ]
  },
  {
   "cell_type": "code",
   "execution_count": 71,
   "id": "f455d026-ec55-4278-b647-197a3244fb7d",
   "metadata": {},
   "outputs": [],
   "source": [
    "# artportalen_interesting_data_df['Antal'].replace('noterad', np.nan)"
   ]
  },
  {
   "cell_type": "code",
   "execution_count": 72,
   "id": "88b34046-205e-430c-ace1-41a30b274b49",
   "metadata": {},
   "outputs": [],
   "source": [
    "# artportalen_interesting_data_df['Antal'].unique()"
   ]
  },
  {
   "cell_type": "code",
   "execution_count": 73,
   "id": "9916f4b8-270f-4c7b-81b6-f5b976077d0f",
   "metadata": {},
   "outputs": [],
   "source": [
    "# artportalen_interesting_data_df_nan_antal"
   ]
  },
  {
   "cell_type": "code",
   "execution_count": 74,
   "id": "6950dc32-7171-43fb-9c90-8103dbe335d4",
   "metadata": {},
   "outputs": [],
   "source": [
    "# artportalen_interesting_data_df_nan_antal.unique()"
   ]
  },
  {
   "cell_type": "code",
   "execution_count": 75,
   "id": "19185214-05f5-4364-ba12-cec55747dc4f",
   "metadata": {},
   "outputs": [],
   "source": [
    "# artportalen_interesting_data_df['Antal_nan'] = pd.Series(artportalen_interesting_data_df_nan_antal)"
   ]
  },
  {
   "cell_type": "code",
   "execution_count": 76,
   "id": "5b6b33dc-0208-430a-9059-de0174818609",
   "metadata": {},
   "outputs": [],
   "source": [
    "# type(artportalen_interesting_data_df_nan_antal)"
   ]
  },
  {
   "cell_type": "code",
   "execution_count": 77,
   "id": "cfc530d7-8530-430a-a3c5-80be112349ff",
   "metadata": {},
   "outputs": [],
   "source": [
    "# artportalen_interesting_data_df_nan_antal.unique()"
   ]
  },
  {
   "cell_type": "code",
   "execution_count": 78,
   "id": "56d8f45e-eea4-4f13-a422-cbfc456514e5",
   "metadata": {},
   "outputs": [],
   "source": [
    "# artportalen_interesting_data_df['Antal'].replace(['noterad'], np.nan)"
   ]
  },
  {
   "cell_type": "code",
   "execution_count": 79,
   "id": "20aa4509-021b-4c6f-89f9-503ee47b700c",
   "metadata": {},
   "outputs": [],
   "source": [
    "# artportalen_interesting_data_df['Antal'].replace(['noterad'], np.nan)"
   ]
  },
  {
   "cell_type": "markdown",
   "id": "12f0a00d-53f2-495f-8158-01ad8ea1caa0",
   "metadata": {},
   "source": [
    "Change numberstrings to numbers"
   ]
  },
  {
   "cell_type": "code",
   "execution_count": 80,
   "id": "b472d822-e1cb-4029-99cc-0b18ab9cf72c",
   "metadata": {},
   "outputs": [],
   "source": [
    "artportalen_interesting_data_df['Antal'] = artportalen_interesting_data_df['Antal'].map(float)"
   ]
  },
  {
   "cell_type": "markdown",
   "id": "03c78f0e-a9a1-4013-86ab-14681c9e614c",
   "metadata": {},
   "source": [
    "Check that all values are numeric now, (nan is numeric)."
   ]
  },
  {
   "cell_type": "code",
   "execution_count": 81,
   "id": "c99eb6ab-f950-48a0-b917-c92fb80867ee",
   "metadata": {},
   "outputs": [
    {
     "data": {
      "text/plain": [
       "array([2.00e+00, 1.00e+00, 1.00e+01, 5.00e+00, 6.00e+00, 3.00e+00,\n",
       "       7.00e+00, 3.00e+01, 8.00e+00, 4.00e+00,      nan, 1.00e+02,\n",
       "       1.60e+01, 2.22e+02, 6.00e+01, 1.80e+01, 5.00e+01, 1.20e+01,\n",
       "       2.50e+01, 2.00e+01, 2.10e+01, 6.00e+02, 5.10e+01, 8.00e+01,\n",
       "       2.50e+02, 2.00e+02, 1.50e+01, 1.10e+01, 7.00e+01, 7.10e+01,\n",
       "       3.50e+01, 3.00e+03, 6.70e+01, 9.00e+00, 2.60e+01, 1.50e+02,\n",
       "       4.00e+01, 1.70e+01, 1.40e+01, 2.80e+01, 1.00e+03, 1.30e+01,\n",
       "       6.30e+01, 2.20e+01, 1.20e+02, 1.38e+02, 1.10e+03, 1.90e+01,\n",
       "       4.20e+01, 4.70e+01, 2.30e+01, 9.60e+01, 8.50e+01, 1.00e+04,\n",
       "       4.00e+02, 4.50e+01, 1.30e+02, 8.20e+01, 6.80e+01, 3.40e+01,\n",
       "       1.09e+02, 1.22e+02, 3.90e+01, 4.10e+01, 5.70e+01, 4.90e+01,\n",
       "       1.16e+02, 1.25e+02, 7.50e+01, 8.10e+01, 5.50e+01, 4.30e+01,\n",
       "       8.60e+01, 1.56e+02, 2.70e+01, 2.35e+02, 4.60e+01, 1.15e+02,\n",
       "       6.50e+01, 1.10e+02, 1.40e+02, 1.41e+02, 3.20e+01, 1.23e+02,\n",
       "       6.60e+01, 1.45e+02, 2.03e+02, 1.68e+02, 6.10e+01, 2.40e+01,\n",
       "       8.30e+01, 1.19e+02, 7.40e+01, 3.80e+01, 1.92e+02, 8.80e+01,\n",
       "       5.30e+01, 3.30e+01, 9.70e+01, 5.20e+01, 5.60e+01, 4.40e+01,\n",
       "       3.60e+01, 3.70e+01, 3.10e+01, 1.85e+02, 1.72e+02, 1.08e+02,\n",
       "       9.00e+01, 3.00e+02, 1.75e+02, 9.50e+01, 1.62e+02, 5.40e+01,\n",
       "       2.90e+01, 2.70e+02, 4.80e+01, 2.25e+02, 8.90e+01, 1.55e+02,\n",
       "       1.33e+02, 7.20e+01, 1.90e+02, 1.24e+02, 6.20e+01, 1.07e+02,\n",
       "       2.48e+02, 4.08e+02, 5.70e+02])"
      ]
     },
     "execution_count": 81,
     "metadata": {},
     "output_type": "execute_result"
    }
   ],
   "source": [
    "artportalen_interesting_data_df['Antal'].unique()"
   ]
  },
  {
   "cell_type": "code",
   "execution_count": 82,
   "id": "e81af4d0-fd40-42fc-b287-b3f78d6750bc",
   "metadata": {},
   "outputs": [
    {
     "data": {
      "text/plain": [
       "pandas.core.series.Series"
      ]
     },
     "execution_count": 82,
     "metadata": {},
     "output_type": "execute_result"
    }
   ],
   "source": [
    "type(artportalen_interesting_data_df['Antal'])"
   ]
  },
  {
   "cell_type": "code",
   "execution_count": 83,
   "id": "1ffacc2e-116d-4c2a-8a94-81525834ce43",
   "metadata": {},
   "outputs": [
    {
     "data": {
      "text/plain": [
       "(21916,)"
      ]
     },
     "execution_count": 83,
     "metadata": {},
     "output_type": "execute_result"
    }
   ],
   "source": [
    "artportalen_interesting_data_df['Antal'].shape"
   ]
  },
  {
   "cell_type": "code",
   "execution_count": 84,
   "id": "f7ab16de-f025-46d0-bf43-38994c86dabb",
   "metadata": {},
   "outputs": [
    {
     "name": "stdout",
     "output_type": "stream",
     "text": [
      "[2.00e+00 1.00e+00 1.00e+01 5.00e+00 6.00e+00 3.00e+00 7.00e+00 3.00e+01\n",
      " 8.00e+00 4.00e+00      nan 1.00e+02 1.60e+01 2.22e+02 6.00e+01 1.80e+01\n",
      " 5.00e+01 1.20e+01 2.50e+01 2.00e+01 2.10e+01 6.00e+02 5.10e+01 8.00e+01\n",
      " 2.50e+02 2.00e+02 1.50e+01 1.10e+01 7.00e+01 7.10e+01 3.50e+01 3.00e+03\n",
      " 6.70e+01 9.00e+00 2.60e+01 1.50e+02 4.00e+01 1.70e+01 1.40e+01 2.80e+01\n",
      " 1.00e+03 1.30e+01 6.30e+01 2.20e+01 1.20e+02 1.38e+02 1.10e+03 1.90e+01\n",
      " 4.20e+01 4.70e+01 2.30e+01 9.60e+01 8.50e+01 1.00e+04 4.00e+02 4.50e+01\n",
      " 1.30e+02 8.20e+01 6.80e+01 3.40e+01 1.09e+02 1.22e+02 3.90e+01 4.10e+01\n",
      " 5.70e+01 4.90e+01 1.16e+02 1.25e+02 7.50e+01 8.10e+01 5.50e+01 4.30e+01\n",
      " 8.60e+01 1.56e+02 2.70e+01 2.35e+02 4.60e+01 1.15e+02 6.50e+01 1.10e+02\n",
      " 1.40e+02 1.41e+02 3.20e+01 1.23e+02 6.60e+01 1.45e+02 2.03e+02 1.68e+02\n",
      " 6.10e+01 2.40e+01 8.30e+01 1.19e+02 7.40e+01 3.80e+01 1.92e+02 8.80e+01\n",
      " 5.30e+01 3.30e+01 9.70e+01 5.20e+01 5.60e+01 4.40e+01 3.60e+01 3.70e+01\n",
      " 3.10e+01 1.85e+02 1.72e+02 1.08e+02 9.00e+01 3.00e+02 1.75e+02 9.50e+01\n",
      " 1.62e+02 5.40e+01 2.90e+01 2.70e+02 4.80e+01 2.25e+02 8.90e+01 1.55e+02\n",
      " 1.33e+02 7.20e+01 1.90e+02 1.24e+02 6.20e+01 1.07e+02 2.48e+02 4.08e+02\n",
      " 5.70e+02]\n"
     ]
    }
   ],
   "source": [
    "print(artportalen_interesting_data_df['Antal'].unique())"
   ]
  },
  {
   "cell_type": "code",
   "execution_count": 85,
   "id": "39635010-6293-47a2-a844-9d3b31789769",
   "metadata": {},
   "outputs": [
    {
     "data": {
      "text/html": [
       "<div>\n",
       "<style scoped>\n",
       "    .dataframe tbody tr th:only-of-type {\n",
       "        vertical-align: middle;\n",
       "    }\n",
       "\n",
       "    .dataframe tbody tr th {\n",
       "        vertical-align: top;\n",
       "    }\n",
       "\n",
       "    .dataframe thead th {\n",
       "        text-align: right;\n",
       "    }\n",
       "</style>\n",
       "<table border=\"1\" class=\"dataframe\">\n",
       "  <thead>\n",
       "    <tr style=\"text-align: right;\">\n",
       "      <th></th>\n",
       "      <th>Artnamn</th>\n",
       "      <th>Antal</th>\n",
       "    </tr>\n",
       "  </thead>\n",
       "  <tbody>\n",
       "    <tr>\n",
       "      <th>50</th>\n",
       "      <td>Fiskmås</td>\n",
       "      <td>3.0</td>\n",
       "    </tr>\n",
       "    <tr>\n",
       "      <th>51</th>\n",
       "      <td>Gråtrut</td>\n",
       "      <td>30.0</td>\n",
       "    </tr>\n",
       "    <tr>\n",
       "      <th>52</th>\n",
       "      <td>Skata</td>\n",
       "      <td>1.0</td>\n",
       "    </tr>\n",
       "    <tr>\n",
       "      <th>53</th>\n",
       "      <td>Havsörn</td>\n",
       "      <td>1.0</td>\n",
       "    </tr>\n",
       "    <tr>\n",
       "      <th>54</th>\n",
       "      <td>Rödvingetrast</td>\n",
       "      <td>NaN</td>\n",
       "    </tr>\n",
       "    <tr>\n",
       "      <th>55</th>\n",
       "      <td>Gråsparv</td>\n",
       "      <td>NaN</td>\n",
       "    </tr>\n",
       "    <tr>\n",
       "      <th>56</th>\n",
       "      <td>Nötskrika</td>\n",
       "      <td>3.0</td>\n",
       "    </tr>\n",
       "    <tr>\n",
       "      <th>57</th>\n",
       "      <td>Gräsand</td>\n",
       "      <td>NaN</td>\n",
       "    </tr>\n",
       "    <tr>\n",
       "      <th>58</th>\n",
       "      <td>Storskrake</td>\n",
       "      <td>NaN</td>\n",
       "    </tr>\n",
       "    <tr>\n",
       "      <th>59</th>\n",
       "      <td>Knipa</td>\n",
       "      <td>3.0</td>\n",
       "    </tr>\n",
       "    <tr>\n",
       "      <th>60</th>\n",
       "      <td>Storskarv</td>\n",
       "      <td>NaN</td>\n",
       "    </tr>\n",
       "    <tr>\n",
       "      <th>61</th>\n",
       "      <td>Knölsvan</td>\n",
       "      <td>NaN</td>\n",
       "    </tr>\n",
       "    <tr>\n",
       "      <th>62</th>\n",
       "      <td>Gråhäger</td>\n",
       "      <td>NaN</td>\n",
       "    </tr>\n",
       "    <tr>\n",
       "      <th>63</th>\n",
       "      <td>Bergfink</td>\n",
       "      <td>1.0</td>\n",
       "    </tr>\n",
       "    <tr>\n",
       "      <th>64</th>\n",
       "      <td>Bofink</td>\n",
       "      <td>2.0</td>\n",
       "    </tr>\n",
       "    <tr>\n",
       "      <th>65</th>\n",
       "      <td>Pilfink</td>\n",
       "      <td>NaN</td>\n",
       "    </tr>\n",
       "    <tr>\n",
       "      <th>66</th>\n",
       "      <td>Blåmes</td>\n",
       "      <td>NaN</td>\n",
       "    </tr>\n",
       "    <tr>\n",
       "      <th>67</th>\n",
       "      <td>Talgoxe</td>\n",
       "      <td>NaN</td>\n",
       "    </tr>\n",
       "    <tr>\n",
       "      <th>68</th>\n",
       "      <td>Björktrast</td>\n",
       "      <td>NaN</td>\n",
       "    </tr>\n",
       "    <tr>\n",
       "      <th>69</th>\n",
       "      <td>Koltrast</td>\n",
       "      <td>NaN</td>\n",
       "    </tr>\n",
       "  </tbody>\n",
       "</table>\n",
       "</div>"
      ],
      "text/plain": [
       "          Artnamn  Antal\n",
       "50        Fiskmås    3.0\n",
       "51        Gråtrut   30.0\n",
       "52          Skata    1.0\n",
       "53        Havsörn    1.0\n",
       "54  Rödvingetrast    NaN\n",
       "55       Gråsparv    NaN\n",
       "56      Nötskrika    3.0\n",
       "57        Gräsand    NaN\n",
       "58     Storskrake    NaN\n",
       "59          Knipa    3.0\n",
       "60      Storskarv    NaN\n",
       "61       Knölsvan    NaN\n",
       "62       Gråhäger    NaN\n",
       "63       Bergfink    1.0\n",
       "64         Bofink    2.0\n",
       "65        Pilfink    NaN\n",
       "66         Blåmes    NaN\n",
       "67        Talgoxe    NaN\n",
       "68     Björktrast    NaN\n",
       "69       Koltrast    NaN"
      ]
     },
     "execution_count": 85,
     "metadata": {},
     "output_type": "execute_result"
    }
   ],
   "source": [
    "artportalen_interesting_data_df.iloc[50:70,:]"
   ]
  },
  {
   "cell_type": "markdown",
   "id": "644dfbd6-e1a3-4da3-bcd2-de11286fede2",
   "metadata": {},
   "source": [
    "Data are not changed in original data frame"
   ]
  },
  {
   "cell_type": "code",
   "execution_count": 86,
   "id": "aac8c017-5a23-4574-a70d-44155ae3fd89",
   "metadata": {},
   "outputs": [
    {
     "data": {
      "text/plain": [
       "array(['2', '1', '10', '5', '6', '3', '7', '30', '8', '4', 'noterad',\n",
       "       '100', '16', '222', '60', '18', '50', '12', '25', '20', '21',\n",
       "       '600', '51', '80', '250', '200', '15', '11', '70', '71', '35',\n",
       "       '3000', '67', '9', '26', '150', '40', '17', '14', '28', '1000',\n",
       "       'Ej återfunnen', '13', '63', '22', '120', '138', '1100', '19',\n",
       "       '42', '47', '23', '96', '85', '10000', '400', '45', '130', '82',\n",
       "       '68', '34', '109', '122', '39', '41', '57', '49', '116', '125',\n",
       "       '75', '81', '55', '43', '86', '156', '27', '235', '46', '115',\n",
       "       '65', '110', '140', '141', '32', '123', '66', '145', '203', '168',\n",
       "       '61', '24', '83', '119', '74', '38', '192', '88', '53', '33', '97',\n",
       "       '52', '56', '44', '36', '37', '31', '185', '172', '108', '90',\n",
       "       '300', '175', '95', '162', '54', '29', '270', '48', '225', '89',\n",
       "       '155', '133', '72', '190', '124', '62', '107', '248', '408', '570'],\n",
       "      dtype=object)"
      ]
     },
     "execution_count": 86,
     "metadata": {},
     "output_type": "execute_result"
    }
   ],
   "source": [
    "artportalen_data_df['Antal'].unique()"
   ]
  },
  {
   "cell_type": "markdown",
   "id": "a9c37357-434a-4173-9700-a24234ad1f3d",
   "metadata": {},
   "source": [
    "How many observations have 'Antal' == 'noterad'"
   ]
  },
  {
   "cell_type": "code",
   "execution_count": 87,
   "id": "333f052e-bd21-413e-aed3-f7a1acb20ddd",
   "metadata": {},
   "outputs": [
    {
     "data": {
      "text/plain": [
       "Artnamn    2328\n",
       "Antal      2328\n",
       "dtype: int64"
      ]
     },
     "execution_count": 87,
     "metadata": {},
     "output_type": "execute_result"
    }
   ],
   "source": [
    "artportalen_data_df[['Artnamn','Antal']].loc[artportalen_data_df['Antal'] == 'noterad'].count()"
   ]
  },
  {
   "cell_type": "code",
   "execution_count": 88,
   "id": "48615134-c454-48ce-b5b1-3ad1c6ef800e",
   "metadata": {},
   "outputs": [
    {
     "data": {
      "text/html": [
       "<div>\n",
       "<style scoped>\n",
       "    .dataframe tbody tr th:only-of-type {\n",
       "        vertical-align: middle;\n",
       "    }\n",
       "\n",
       "    .dataframe tbody tr th {\n",
       "        vertical-align: top;\n",
       "    }\n",
       "\n",
       "    .dataframe thead th {\n",
       "        text-align: right;\n",
       "    }\n",
       "</style>\n",
       "<table border=\"1\" class=\"dataframe\">\n",
       "  <thead>\n",
       "    <tr style=\"text-align: right;\">\n",
       "      <th></th>\n",
       "      <th>Artnamn</th>\n",
       "      <th>Antal</th>\n",
       "    </tr>\n",
       "  </thead>\n",
       "  <tbody>\n",
       "    <tr>\n",
       "      <th>636</th>\n",
       "      <td>Kattuggla</td>\n",
       "      <td>Ej återfunnen</td>\n",
       "    </tr>\n",
       "  </tbody>\n",
       "</table>\n",
       "</div>"
      ],
      "text/plain": [
       "       Artnamn          Antal\n",
       "636  Kattuggla  Ej återfunnen"
      ]
     },
     "execution_count": 88,
     "metadata": {},
     "output_type": "execute_result"
    }
   ],
   "source": [
    "artportalen_data_df[['Artnamn','Antal']].loc[artportalen_data_df['Antal'] == 'Ej återfunnen']"
   ]
  },
  {
   "cell_type": "code",
   "execution_count": null,
   "id": "35d13c8b-767d-41f0-b1c7-32f2978d9775",
   "metadata": {},
   "outputs": [],
   "source": []
  },
  {
   "cell_type": "code",
   "execution_count": 89,
   "id": "87b38730-9373-46c1-8903-dabe3d8065d4",
   "metadata": {},
   "outputs": [],
   "source": [
    "# artportalen_data_df[['Artnamn','Antal']].where(artportalen_data_df['Antal'] == 'noterad')"
   ]
  },
  {
   "cell_type": "code",
   "execution_count": 90,
   "id": "5ee7eb8f-8820-4392-8390-fac7e483cbaa",
   "metadata": {},
   "outputs": [
    {
     "data": {
      "text/html": [
       "<div>\n",
       "<style scoped>\n",
       "    .dataframe tbody tr th:only-of-type {\n",
       "        vertical-align: middle;\n",
       "    }\n",
       "\n",
       "    .dataframe tbody tr th {\n",
       "        vertical-align: top;\n",
       "    }\n",
       "\n",
       "    .dataframe thead th {\n",
       "        text-align: right;\n",
       "    }\n",
       "</style>\n",
       "<table border=\"1\" class=\"dataframe\">\n",
       "  <thead>\n",
       "    <tr style=\"text-align: right;\">\n",
       "      <th></th>\n",
       "      <th>Artnamn</th>\n",
       "      <th>Antal</th>\n",
       "    </tr>\n",
       "  </thead>\n",
       "  <tbody>\n",
       "    <tr>\n",
       "      <th>0</th>\n",
       "      <td>Koltrast</td>\n",
       "      <td>2</td>\n",
       "    </tr>\n",
       "    <tr>\n",
       "      <th>1</th>\n",
       "      <td>Blåmes</td>\n",
       "      <td>2</td>\n",
       "    </tr>\n",
       "    <tr>\n",
       "      <th>2</th>\n",
       "      <td>Koltrast</td>\n",
       "      <td>1</td>\n",
       "    </tr>\n",
       "    <tr>\n",
       "      <th>3</th>\n",
       "      <td>Sparvhök</td>\n",
       "      <td>1</td>\n",
       "    </tr>\n",
       "    <tr>\n",
       "      <th>4</th>\n",
       "      <td>Skata</td>\n",
       "      <td>2</td>\n",
       "    </tr>\n",
       "    <tr>\n",
       "      <th>...</th>\n",
       "      <td>...</td>\n",
       "      <td>...</td>\n",
       "    </tr>\n",
       "    <tr>\n",
       "      <th>21911</th>\n",
       "      <td>Steglits</td>\n",
       "      <td>5</td>\n",
       "    </tr>\n",
       "    <tr>\n",
       "      <th>21912</th>\n",
       "      <td>Grönsångare</td>\n",
       "      <td>4</td>\n",
       "    </tr>\n",
       "    <tr>\n",
       "      <th>21913</th>\n",
       "      <td>Lövsångare</td>\n",
       "      <td>1</td>\n",
       "    </tr>\n",
       "    <tr>\n",
       "      <th>21914</th>\n",
       "      <td>Lövsångare</td>\n",
       "      <td>2</td>\n",
       "    </tr>\n",
       "    <tr>\n",
       "      <th>21915</th>\n",
       "      <td>Mindre flugsnappare</td>\n",
       "      <td>1</td>\n",
       "    </tr>\n",
       "  </tbody>\n",
       "</table>\n",
       "<p>21916 rows × 2 columns</p>\n",
       "</div>"
      ],
      "text/plain": [
       "                   Artnamn Antal\n",
       "0                 Koltrast     2\n",
       "1                   Blåmes     2\n",
       "2                 Koltrast     1\n",
       "3                 Sparvhök     1\n",
       "4                    Skata     2\n",
       "...                    ...   ...\n",
       "21911             Steglits     5\n",
       "21912          Grönsångare     4\n",
       "21913           Lövsångare     1\n",
       "21914           Lövsångare     2\n",
       "21915  Mindre flugsnappare     1\n",
       "\n",
       "[21916 rows x 2 columns]"
      ]
     },
     "execution_count": 90,
     "metadata": {},
     "output_type": "execute_result"
    }
   ],
   "source": [
    "artportalen_data_df[['Artnamn','Antal']]"
   ]
  },
  {
   "cell_type": "markdown",
   "id": "718d21d4-fe15-439d-aebc-497abd20b29c",
   "metadata": {},
   "source": [
    "Check if it was unnecessary to replace 'noterad' and 'Ej återfunnen' separately ??"
   ]
  },
  {
   "cell_type": "code",
   "execution_count": 91,
   "id": "453b4959-38ac-4e93-be20-2b2587e54135",
   "metadata": {},
   "outputs": [],
   "source": [
    "# artportalen_one_go_conversion_data_df['Antal'] = artportalen_data_df['Antal'].map(float)"
   ]
  },
  {
   "cell_type": "markdown",
   "id": "b7e4803f-221b-4f0d-bb66-d22efa64162d",
   "metadata": {},
   "source": [
    "It was necessary, statement above gave:\n",
    "ValueError: could not convert string to float: 'noterad'"
   ]
  },
  {
   "cell_type": "code",
   "execution_count": 92,
   "id": "7ddc8b06-e45f-4206-906e-709bfb799b41",
   "metadata": {},
   "outputs": [
    {
     "data": {
      "text/plain": [
       "np.float64(2.0)"
      ]
     },
     "execution_count": 92,
     "metadata": {},
     "output_type": "execute_result"
    }
   ],
   "source": [
    "artportalen_interesting_data_df.iloc[0,1]"
   ]
  },
  {
   "cell_type": "code",
   "execution_count": 93,
   "id": "0bd61b16-b9a9-4d63-9558-c0ce82e7e43a",
   "metadata": {},
   "outputs": [],
   "source": [
    "# artportalen_interesting_data_df.iloc[0,1].asnumeric()"
   ]
  },
  {
   "cell_type": "code",
   "execution_count": 94,
   "id": "312c3d0a-df87-49f9-9108-b2cae75083ee",
   "metadata": {},
   "outputs": [
    {
     "data": {
      "text/plain": [
       "numpy.float64"
      ]
     },
     "execution_count": 94,
     "metadata": {},
     "output_type": "execute_result"
    }
   ],
   "source": [
    "type(artportalen_interesting_data_df.iloc[0,1])"
   ]
  },
  {
   "cell_type": "code",
   "execution_count": 95,
   "id": "778ca2f3-39d3-499d-94f6-d23cce4b25cf",
   "metadata": {},
   "outputs": [],
   "source": [
    "grouped_and_summed_artportalen_interesting_data_df = artportalen_interesting_data_df.groupby(['Artnamn']).sum()"
   ]
  },
  {
   "cell_type": "code",
   "execution_count": 96,
   "id": "17910683-680b-4215-9c9f-a8f827b91387",
   "metadata": {},
   "outputs": [
    {
     "data": {
      "text/html": [
       "<div>\n",
       "<style scoped>\n",
       "    .dataframe tbody tr th:only-of-type {\n",
       "        vertical-align: middle;\n",
       "    }\n",
       "\n",
       "    .dataframe tbody tr th {\n",
       "        vertical-align: top;\n",
       "    }\n",
       "\n",
       "    .dataframe thead th {\n",
       "        text-align: right;\n",
       "    }\n",
       "</style>\n",
       "<table border=\"1\" class=\"dataframe\">\n",
       "  <thead>\n",
       "    <tr style=\"text-align: right;\">\n",
       "      <th></th>\n",
       "      <th>Antal</th>\n",
       "    </tr>\n",
       "    <tr>\n",
       "      <th>Artnamn</th>\n",
       "      <th></th>\n",
       "    </tr>\n",
       "  </thead>\n",
       "  <tbody>\n",
       "    <tr>\n",
       "      <th>Bergfink</th>\n",
       "      <td>487.0</td>\n",
       "    </tr>\n",
       "    <tr>\n",
       "      <th>Bivråk</th>\n",
       "      <td>1.0</td>\n",
       "    </tr>\n",
       "    <tr>\n",
       "      <th>Björktrast</th>\n",
       "      <td>3173.0</td>\n",
       "    </tr>\n",
       "  </tbody>\n",
       "</table>\n",
       "</div>"
      ],
      "text/plain": [
       "             Antal\n",
       "Artnamn           \n",
       "Bergfink     487.0\n",
       "Bivråk         1.0\n",
       "Björktrast  3173.0"
      ]
     },
     "execution_count": 96,
     "metadata": {},
     "output_type": "execute_result"
    }
   ],
   "source": [
    "grouped_and_summed_artportalen_interesting_data_df .head(3)"
   ]
  },
  {
   "cell_type": "code",
   "execution_count": 97,
   "id": "780454f6-5217-4091-8209-cb1591154554",
   "metadata": {},
   "outputs": [
    {
     "data": {
      "text/html": [
       "<div>\n",
       "<style scoped>\n",
       "    .dataframe tbody tr th:only-of-type {\n",
       "        vertical-align: middle;\n",
       "    }\n",
       "\n",
       "    .dataframe tbody tr th {\n",
       "        vertical-align: top;\n",
       "    }\n",
       "\n",
       "    .dataframe thead th {\n",
       "        text-align: right;\n",
       "    }\n",
       "</style>\n",
       "<table border=\"1\" class=\"dataframe\">\n",
       "  <thead>\n",
       "    <tr style=\"text-align: right;\">\n",
       "      <th></th>\n",
       "      <th>Antal</th>\n",
       "    </tr>\n",
       "    <tr>\n",
       "      <th>Artnamn</th>\n",
       "      <th></th>\n",
       "    </tr>\n",
       "  </thead>\n",
       "  <tbody>\n",
       "    <tr>\n",
       "      <th>Ängspiplärka</th>\n",
       "      <td>28.0</td>\n",
       "    </tr>\n",
       "    <tr>\n",
       "      <th>Ärtsångare</th>\n",
       "      <td>111.0</td>\n",
       "    </tr>\n",
       "    <tr>\n",
       "      <th>Östersjötrut</th>\n",
       "      <td>752.0</td>\n",
       "    </tr>\n",
       "  </tbody>\n",
       "</table>\n",
       "</div>"
      ],
      "text/plain": [
       "              Antal\n",
       "Artnamn            \n",
       "Ängspiplärka   28.0\n",
       "Ärtsångare    111.0\n",
       "Östersjötrut  752.0"
      ]
     },
     "execution_count": 97,
     "metadata": {},
     "output_type": "execute_result"
    }
   ],
   "source": [
    "grouped_and_summed_artportalen_interesting_data_df .tail(3)"
   ]
  },
  {
   "cell_type": "code",
   "execution_count": 98,
   "id": "2aebeabd-68c8-40c1-a3c9-a4845f638b12",
   "metadata": {},
   "outputs": [
    {
     "data": {
      "text/html": [
       "<div>\n",
       "<style scoped>\n",
       "    .dataframe tbody tr th:only-of-type {\n",
       "        vertical-align: middle;\n",
       "    }\n",
       "\n",
       "    .dataframe tbody tr th {\n",
       "        vertical-align: top;\n",
       "    }\n",
       "\n",
       "    .dataframe thead th {\n",
       "        text-align: right;\n",
       "    }\n",
       "</style>\n",
       "<table border=\"1\" class=\"dataframe\">\n",
       "  <thead>\n",
       "    <tr style=\"text-align: right;\">\n",
       "      <th></th>\n",
       "      <th>Antal</th>\n",
       "    </tr>\n",
       "    <tr>\n",
       "      <th>Artnamn</th>\n",
       "      <th></th>\n",
       "    </tr>\n",
       "  </thead>\n",
       "  <tbody>\n",
       "    <tr>\n",
       "      <th>Ob. korsnäbb</th>\n",
       "      <td>0.0</td>\n",
       "    </tr>\n",
       "    <tr>\n",
       "      <th>Bivråk</th>\n",
       "      <td>1.0</td>\n",
       "    </tr>\n",
       "    <tr>\n",
       "      <th>Gravand</th>\n",
       "      <td>1.0</td>\n",
       "    </tr>\n",
       "    <tr>\n",
       "      <th>Bändelkorsnäbb</th>\n",
       "      <td>1.0</td>\n",
       "    </tr>\n",
       "    <tr>\n",
       "      <th>Fjällvråk</th>\n",
       "      <td>1.0</td>\n",
       "    </tr>\n",
       "    <tr>\n",
       "      <th>...</th>\n",
       "      <td>...</td>\n",
       "    </tr>\n",
       "    <tr>\n",
       "      <th>Vitkindad gås</th>\n",
       "      <td>6345.0</td>\n",
       "    </tr>\n",
       "    <tr>\n",
       "      <th>Storskrake</th>\n",
       "      <td>6750.0</td>\n",
       "    </tr>\n",
       "    <tr>\n",
       "      <th>Gräsand</th>\n",
       "      <td>7167.0</td>\n",
       "    </tr>\n",
       "    <tr>\n",
       "      <th>Sothöna</th>\n",
       "      <td>8308.0</td>\n",
       "    </tr>\n",
       "    <tr>\n",
       "      <th>Grönsiska</th>\n",
       "      <td>20211.0</td>\n",
       "    </tr>\n",
       "  </tbody>\n",
       "</table>\n",
       "<p>173 rows × 1 columns</p>\n",
       "</div>"
      ],
      "text/plain": [
       "                  Antal\n",
       "Artnamn                \n",
       "Ob. korsnäbb        0.0\n",
       "Bivråk              1.0\n",
       "Gravand             1.0\n",
       "Bändelkorsnäbb      1.0\n",
       "Fjällvråk           1.0\n",
       "...                 ...\n",
       "Vitkindad gås    6345.0\n",
       "Storskrake       6750.0\n",
       "Gräsand          7167.0\n",
       "Sothöna          8308.0\n",
       "Grönsiska       20211.0\n",
       "\n",
       "[173 rows x 1 columns]"
      ]
     },
     "execution_count": 98,
     "metadata": {},
     "output_type": "execute_result"
    }
   ],
   "source": [
    "grouped_and_summed_artportalen_interesting_data_df.sort_values(['Antal'])"
   ]
  },
  {
   "cell_type": "code",
   "execution_count": 99,
   "id": "a4e147f6-c94e-4f55-972f-8c951891b599",
   "metadata": {},
   "outputs": [
    {
     "data": {
      "text/html": [
       "<div>\n",
       "<style scoped>\n",
       "    .dataframe tbody tr th:only-of-type {\n",
       "        vertical-align: middle;\n",
       "    }\n",
       "\n",
       "    .dataframe tbody tr th {\n",
       "        vertical-align: top;\n",
       "    }\n",
       "\n",
       "    .dataframe thead th {\n",
       "        text-align: right;\n",
       "    }\n",
       "</style>\n",
       "<table border=\"1\" class=\"dataframe\">\n",
       "  <thead>\n",
       "    <tr style=\"text-align: right;\">\n",
       "      <th></th>\n",
       "      <th>Antal</th>\n",
       "    </tr>\n",
       "    <tr>\n",
       "      <th>Artnamn</th>\n",
       "      <th></th>\n",
       "    </tr>\n",
       "  </thead>\n",
       "  <tbody>\n",
       "    <tr>\n",
       "      <th>Bergfink</th>\n",
       "      <td>487.0</td>\n",
       "    </tr>\n",
       "    <tr>\n",
       "      <th>Bivråk</th>\n",
       "      <td>1.0</td>\n",
       "    </tr>\n",
       "    <tr>\n",
       "      <th>Björktrast</th>\n",
       "      <td>3173.0</td>\n",
       "    </tr>\n",
       "  </tbody>\n",
       "</table>\n",
       "</div>"
      ],
      "text/plain": [
       "             Antal\n",
       "Artnamn           \n",
       "Bergfink     487.0\n",
       "Bivråk         1.0\n",
       "Björktrast  3173.0"
      ]
     },
     "execution_count": 99,
     "metadata": {},
     "output_type": "execute_result"
    }
   ],
   "source": [
    "artportalen_interesting_data_df.groupby(['Artnamn']).sum().head(3)"
   ]
  },
  {
   "cell_type": "code",
   "execution_count": 100,
   "id": "cbbd44bc-10e8-4aa9-8c52-5176e53bb9ee",
   "metadata": {},
   "outputs": [
    {
     "data": {
      "text/html": [
       "<div>\n",
       "<style scoped>\n",
       "    .dataframe tbody tr th:only-of-type {\n",
       "        vertical-align: middle;\n",
       "    }\n",
       "\n",
       "    .dataframe tbody tr th {\n",
       "        vertical-align: top;\n",
       "    }\n",
       "\n",
       "    .dataframe thead th {\n",
       "        text-align: right;\n",
       "    }\n",
       "</style>\n",
       "<table border=\"1\" class=\"dataframe\">\n",
       "  <thead>\n",
       "    <tr style=\"text-align: right;\">\n",
       "      <th></th>\n",
       "      <th>Antal</th>\n",
       "    </tr>\n",
       "    <tr>\n",
       "      <th>Artnamn</th>\n",
       "      <th></th>\n",
       "    </tr>\n",
       "  </thead>\n",
       "  <tbody>\n",
       "    <tr>\n",
       "      <th>Ängspiplärka</th>\n",
       "      <td>28.0</td>\n",
       "    </tr>\n",
       "    <tr>\n",
       "      <th>Ärtsångare</th>\n",
       "      <td>111.0</td>\n",
       "    </tr>\n",
       "    <tr>\n",
       "      <th>Östersjötrut</th>\n",
       "      <td>752.0</td>\n",
       "    </tr>\n",
       "  </tbody>\n",
       "</table>\n",
       "</div>"
      ],
      "text/plain": [
       "              Antal\n",
       "Artnamn            \n",
       "Ängspiplärka   28.0\n",
       "Ärtsångare    111.0\n",
       "Östersjötrut  752.0"
      ]
     },
     "execution_count": 100,
     "metadata": {},
     "output_type": "execute_result"
    }
   ],
   "source": [
    "artportalen_interesting_data_df.groupby(['Artnamn']).sum().tail(3)"
   ]
  },
  {
   "cell_type": "code",
   "execution_count": 101,
   "id": "c1a084b3-ec68-4834-95c6-9528d2496288",
   "metadata": {},
   "outputs": [],
   "source": [
    "grouped_and_summed_by_antal_artportalen_interesting_data_df = artportalen_interesting_data_df.groupby(['Artnamn']).sum('Antal')"
   ]
  },
  {
   "cell_type": "code",
   "execution_count": 102,
   "id": "1f866f84-8e27-49ea-abb7-2a16fd084272",
   "metadata": {},
   "outputs": [
    {
     "data": {
      "text/html": [
       "<div>\n",
       "<style scoped>\n",
       "    .dataframe tbody tr th:only-of-type {\n",
       "        vertical-align: middle;\n",
       "    }\n",
       "\n",
       "    .dataframe tbody tr th {\n",
       "        vertical-align: top;\n",
       "    }\n",
       "\n",
       "    .dataframe thead th {\n",
       "        text-align: right;\n",
       "    }\n",
       "</style>\n",
       "<table border=\"1\" class=\"dataframe\">\n",
       "  <thead>\n",
       "    <tr style=\"text-align: right;\">\n",
       "      <th></th>\n",
       "      <th>Antal</th>\n",
       "    </tr>\n",
       "    <tr>\n",
       "      <th>Artnamn</th>\n",
       "      <th></th>\n",
       "    </tr>\n",
       "  </thead>\n",
       "  <tbody>\n",
       "    <tr>\n",
       "      <th>Ob. korsnäbb</th>\n",
       "      <td>0.0</td>\n",
       "    </tr>\n",
       "    <tr>\n",
       "      <th>Bivråk</th>\n",
       "      <td>1.0</td>\n",
       "    </tr>\n",
       "    <tr>\n",
       "      <th>Gravand</th>\n",
       "      <td>1.0</td>\n",
       "    </tr>\n",
       "    <tr>\n",
       "      <th>Bändelkorsnäbb</th>\n",
       "      <td>1.0</td>\n",
       "    </tr>\n",
       "    <tr>\n",
       "      <th>Fjällvråk</th>\n",
       "      <td>1.0</td>\n",
       "    </tr>\n",
       "    <tr>\n",
       "      <th>...</th>\n",
       "      <td>...</td>\n",
       "    </tr>\n",
       "    <tr>\n",
       "      <th>Vitkindad gås</th>\n",
       "      <td>6345.0</td>\n",
       "    </tr>\n",
       "    <tr>\n",
       "      <th>Storskrake</th>\n",
       "      <td>6750.0</td>\n",
       "    </tr>\n",
       "    <tr>\n",
       "      <th>Gräsand</th>\n",
       "      <td>7167.0</td>\n",
       "    </tr>\n",
       "    <tr>\n",
       "      <th>Sothöna</th>\n",
       "      <td>8308.0</td>\n",
       "    </tr>\n",
       "    <tr>\n",
       "      <th>Grönsiska</th>\n",
       "      <td>20211.0</td>\n",
       "    </tr>\n",
       "  </tbody>\n",
       "</table>\n",
       "<p>173 rows × 1 columns</p>\n",
       "</div>"
      ],
      "text/plain": [
       "                  Antal\n",
       "Artnamn                \n",
       "Ob. korsnäbb        0.0\n",
       "Bivråk              1.0\n",
       "Gravand             1.0\n",
       "Bändelkorsnäbb      1.0\n",
       "Fjällvråk           1.0\n",
       "...                 ...\n",
       "Vitkindad gås    6345.0\n",
       "Storskrake       6750.0\n",
       "Gräsand          7167.0\n",
       "Sothöna          8308.0\n",
       "Grönsiska       20211.0\n",
       "\n",
       "[173 rows x 1 columns]"
      ]
     },
     "execution_count": 102,
     "metadata": {},
     "output_type": "execute_result"
    }
   ],
   "source": [
    "grouped_and_summed_by_antal_artportalen_interesting_data_df.sort_values('Antal')"
   ]
  },
  {
   "cell_type": "markdown",
   "id": "f6e59136-e017-43ec-8204-0a3725eeba4e",
   "metadata": {},
   "source": [
    "Check of summing function"
   ]
  },
  {
   "cell_type": "code",
   "execution_count": 103,
   "id": "3d817854-6e1d-4f66-b677-ecea48b402eb",
   "metadata": {},
   "outputs": [],
   "source": [
    "test_data = [{'Art':'Gås','Antal':1}, {'Art':'Gås','Antal':1}, {'Art':'Trast','Antal':1},{'Art':'Trast','Antal':2}]"
   ]
  },
  {
   "cell_type": "code",
   "execution_count": 104,
   "id": "4be0aeb9-f17d-4e27-a5cd-54c4ac4bd47b",
   "metadata": {},
   "outputs": [],
   "source": [
    "test_df = pd.DataFrame(test_data)"
   ]
  },
  {
   "cell_type": "code",
   "execution_count": 105,
   "id": "9b36af3f-7c90-432a-8a1c-b6bfd99af55b",
   "metadata": {},
   "outputs": [
    {
     "data": {
      "text/html": [
       "<div>\n",
       "<style scoped>\n",
       "    .dataframe tbody tr th:only-of-type {\n",
       "        vertical-align: middle;\n",
       "    }\n",
       "\n",
       "    .dataframe tbody tr th {\n",
       "        vertical-align: top;\n",
       "    }\n",
       "\n",
       "    .dataframe thead th {\n",
       "        text-align: right;\n",
       "    }\n",
       "</style>\n",
       "<table border=\"1\" class=\"dataframe\">\n",
       "  <thead>\n",
       "    <tr style=\"text-align: right;\">\n",
       "      <th></th>\n",
       "      <th>Art</th>\n",
       "      <th>Antal</th>\n",
       "    </tr>\n",
       "  </thead>\n",
       "  <tbody>\n",
       "    <tr>\n",
       "      <th>0</th>\n",
       "      <td>Gås</td>\n",
       "      <td>1</td>\n",
       "    </tr>\n",
       "    <tr>\n",
       "      <th>1</th>\n",
       "      <td>Gås</td>\n",
       "      <td>1</td>\n",
       "    </tr>\n",
       "    <tr>\n",
       "      <th>2</th>\n",
       "      <td>Trast</td>\n",
       "      <td>1</td>\n",
       "    </tr>\n",
       "    <tr>\n",
       "      <th>3</th>\n",
       "      <td>Trast</td>\n",
       "      <td>2</td>\n",
       "    </tr>\n",
       "  </tbody>\n",
       "</table>\n",
       "</div>"
      ],
      "text/plain": [
       "     Art  Antal\n",
       "0    Gås      1\n",
       "1    Gås      1\n",
       "2  Trast      1\n",
       "3  Trast      2"
      ]
     },
     "execution_count": 105,
     "metadata": {},
     "output_type": "execute_result"
    }
   ],
   "source": [
    "test_df"
   ]
  },
  {
   "cell_type": "code",
   "execution_count": 106,
   "id": "6b660a3d-9286-4132-a498-bf694cf99307",
   "metadata": {},
   "outputs": [
    {
     "data": {
      "text/html": [
       "<div>\n",
       "<style scoped>\n",
       "    .dataframe tbody tr th:only-of-type {\n",
       "        vertical-align: middle;\n",
       "    }\n",
       "\n",
       "    .dataframe tbody tr th {\n",
       "        vertical-align: top;\n",
       "    }\n",
       "\n",
       "    .dataframe thead th {\n",
       "        text-align: right;\n",
       "    }\n",
       "</style>\n",
       "<table border=\"1\" class=\"dataframe\">\n",
       "  <thead>\n",
       "    <tr style=\"text-align: right;\">\n",
       "      <th></th>\n",
       "      <th>Antal</th>\n",
       "    </tr>\n",
       "    <tr>\n",
       "      <th>Art</th>\n",
       "      <th></th>\n",
       "    </tr>\n",
       "  </thead>\n",
       "  <tbody>\n",
       "    <tr>\n",
       "      <th>Gås</th>\n",
       "      <td>2</td>\n",
       "    </tr>\n",
       "    <tr>\n",
       "      <th>Trast</th>\n",
       "      <td>3</td>\n",
       "    </tr>\n",
       "  </tbody>\n",
       "</table>\n",
       "</div>"
      ],
      "text/plain": [
       "       Antal\n",
       "Art         \n",
       "Gås        2\n",
       "Trast      3"
      ]
     },
     "execution_count": 106,
     "metadata": {},
     "output_type": "execute_result"
    }
   ],
   "source": [
    "test_df.groupby('Art').sum()"
   ]
  },
  {
   "cell_type": "markdown",
   "id": "a91f3260-8564-45aa-b710-d94643c77ed5",
   "metadata": {},
   "source": [
    "The syntax above achieves what is intended."
   ]
  },
  {
   "cell_type": "code",
   "execution_count": 107,
   "id": "63a647fe-e081-4009-9e77-4edc618cbeca",
   "metadata": {},
   "outputs": [
    {
     "data": {
      "text/html": [
       "<div>\n",
       "<style scoped>\n",
       "    .dataframe tbody tr th:only-of-type {\n",
       "        vertical-align: middle;\n",
       "    }\n",
       "\n",
       "    .dataframe tbody tr th {\n",
       "        vertical-align: top;\n",
       "    }\n",
       "\n",
       "    .dataframe thead th {\n",
       "        text-align: right;\n",
       "    }\n",
       "</style>\n",
       "<table border=\"1\" class=\"dataframe\">\n",
       "  <thead>\n",
       "    <tr style=\"text-align: right;\">\n",
       "      <th></th>\n",
       "      <th>Antal</th>\n",
       "    </tr>\n",
       "    <tr>\n",
       "      <th>Art</th>\n",
       "      <th></th>\n",
       "    </tr>\n",
       "  </thead>\n",
       "  <tbody>\n",
       "    <tr>\n",
       "      <th>Gås</th>\n",
       "      <td>2</td>\n",
       "    </tr>\n",
       "    <tr>\n",
       "      <th>Trast</th>\n",
       "      <td>2</td>\n",
       "    </tr>\n",
       "  </tbody>\n",
       "</table>\n",
       "</div>"
      ],
      "text/plain": [
       "       Antal\n",
       "Art         \n",
       "Gås        2\n",
       "Trast      2"
      ]
     },
     "execution_count": 107,
     "metadata": {},
     "output_type": "execute_result"
    }
   ],
   "source": [
    "test_df.groupby('Art').count()"
   ]
  },
  {
   "cell_type": "markdown",
   "id": "47f6813a-4041-4289-bdc9-00020dc5d2d1",
   "metadata": {},
   "source": [
    "The syntax above does not achieve what is intended."
   ]
  },
  {
   "cell_type": "markdown",
   "id": "03d59985-e1c5-40b4-aefe-ae878bfa6e59",
   "metadata": {},
   "source": [
    "\n",
    "## Predicting strokes\n"
   ]
  },
  {
   "cell_type": "markdown",
   "id": "3f732b72-b7ee-4fd9-8098-0e929275712d",
   "metadata": {},
   "source": [
    "\n",
    "#### Loading data\n"
   ]
  },
  {
   "cell_type": "markdown",
   "id": "6c46ba83-a96f-4d68-ac87-6e2fb6a029f3",
   "metadata": {},
   "source": [
    "![Upper left corner of the file opened in Jupyter](stroke-data-csv.jpg \"'Delimiter' shows the sep parameter value to use\")<br><br>"
   ]
  },
  {
   "cell_type": "markdown",
   "id": "04a35cd6-235a-43ac-91bf-b2cb7669ee4b",
   "metadata": {},
   "source": [
    "We can use default read method."
   ]
  },
  {
   "cell_type": "code",
   "execution_count": 108,
   "id": "fe6e7f80-3160-4bcc-85ab-7a688ee9e62b",
   "metadata": {},
   "outputs": [],
   "source": [
    "stroke_data_df = pd.read_csv('stroke-data.csv')"
   ]
  },
  {
   "cell_type": "markdown",
   "id": "7deaf89a-981f-487c-b41a-e1783ee926d3",
   "metadata": {},
   "source": [
    "Structure of the data."
   ]
  },
  {
   "cell_type": "code",
   "execution_count": 109,
   "id": "8aea1016-c541-457f-bf0c-d31377c35489",
   "metadata": {},
   "outputs": [
    {
     "name": "stdout",
     "output_type": "stream",
     "text": [
      "<class 'pandas.core.frame.DataFrame'>\n",
      "RangeIndex: 5110 entries, 0 to 5109\n",
      "Data columns (total 12 columns):\n",
      " #   Column             Non-Null Count  Dtype  \n",
      "---  ------             --------------  -----  \n",
      " 0   id                 5110 non-null   int64  \n",
      " 1   gender             5110 non-null   object \n",
      " 2   age                5110 non-null   float64\n",
      " 3   hypertension       5110 non-null   int64  \n",
      " 4   heart_disease      5110 non-null   int64  \n",
      " 5   ever_married       5110 non-null   object \n",
      " 6   work_type          5110 non-null   object \n",
      " 7   Residence_type     5110 non-null   object \n",
      " 8   avg_glucose_level  5110 non-null   float64\n",
      " 9   bmi                4909 non-null   float64\n",
      " 10  smoking_status     5110 non-null   object \n",
      " 11  stroke             5110 non-null   int64  \n",
      "dtypes: float64(3), int64(4), object(5)\n",
      "memory usage: 479.2+ KB\n"
     ]
    }
   ],
   "source": [
    "stroke_data_df.info()"
   ]
  },
  {
   "cell_type": "markdown",
   "id": "e558502b-1712-4176-a083-b6f0d355b7f5",
   "metadata": {},
   "source": [
    "Some more data."
   ]
  },
  {
   "cell_type": "code",
   "execution_count": 110,
   "id": "4f21b0b3-76ed-4de4-bd51-e3af626b44b3",
   "metadata": {},
   "outputs": [
    {
     "data": {
      "text/html": [
       "<div>\n",
       "<style scoped>\n",
       "    .dataframe tbody tr th:only-of-type {\n",
       "        vertical-align: middle;\n",
       "    }\n",
       "\n",
       "    .dataframe tbody tr th {\n",
       "        vertical-align: top;\n",
       "    }\n",
       "\n",
       "    .dataframe thead th {\n",
       "        text-align: right;\n",
       "    }\n",
       "</style>\n",
       "<table border=\"1\" class=\"dataframe\">\n",
       "  <thead>\n",
       "    <tr style=\"text-align: right;\">\n",
       "      <th></th>\n",
       "      <th>id</th>\n",
       "      <th>gender</th>\n",
       "      <th>age</th>\n",
       "      <th>hypertension</th>\n",
       "      <th>heart_disease</th>\n",
       "      <th>ever_married</th>\n",
       "      <th>work_type</th>\n",
       "      <th>Residence_type</th>\n",
       "      <th>avg_glucose_level</th>\n",
       "      <th>bmi</th>\n",
       "      <th>smoking_status</th>\n",
       "      <th>stroke</th>\n",
       "    </tr>\n",
       "  </thead>\n",
       "  <tbody>\n",
       "    <tr>\n",
       "      <th>5105</th>\n",
       "      <td>18234</td>\n",
       "      <td>Female</td>\n",
       "      <td>80.0</td>\n",
       "      <td>1</td>\n",
       "      <td>0</td>\n",
       "      <td>Yes</td>\n",
       "      <td>Private</td>\n",
       "      <td>Urban</td>\n",
       "      <td>83.75</td>\n",
       "      <td>NaN</td>\n",
       "      <td>never smoked</td>\n",
       "      <td>0</td>\n",
       "    </tr>\n",
       "    <tr>\n",
       "      <th>5106</th>\n",
       "      <td>44873</td>\n",
       "      <td>Female</td>\n",
       "      <td>81.0</td>\n",
       "      <td>0</td>\n",
       "      <td>0</td>\n",
       "      <td>Yes</td>\n",
       "      <td>Self-employed</td>\n",
       "      <td>Urban</td>\n",
       "      <td>125.20</td>\n",
       "      <td>40.0</td>\n",
       "      <td>never smoked</td>\n",
       "      <td>0</td>\n",
       "    </tr>\n",
       "    <tr>\n",
       "      <th>5107</th>\n",
       "      <td>19723</td>\n",
       "      <td>Female</td>\n",
       "      <td>35.0</td>\n",
       "      <td>0</td>\n",
       "      <td>0</td>\n",
       "      <td>Yes</td>\n",
       "      <td>Self-employed</td>\n",
       "      <td>Rural</td>\n",
       "      <td>82.99</td>\n",
       "      <td>30.6</td>\n",
       "      <td>never smoked</td>\n",
       "      <td>0</td>\n",
       "    </tr>\n",
       "    <tr>\n",
       "      <th>5108</th>\n",
       "      <td>37544</td>\n",
       "      <td>Male</td>\n",
       "      <td>51.0</td>\n",
       "      <td>0</td>\n",
       "      <td>0</td>\n",
       "      <td>Yes</td>\n",
       "      <td>Private</td>\n",
       "      <td>Rural</td>\n",
       "      <td>166.29</td>\n",
       "      <td>25.6</td>\n",
       "      <td>formerly smoked</td>\n",
       "      <td>0</td>\n",
       "    </tr>\n",
       "    <tr>\n",
       "      <th>5109</th>\n",
       "      <td>44679</td>\n",
       "      <td>Female</td>\n",
       "      <td>44.0</td>\n",
       "      <td>0</td>\n",
       "      <td>0</td>\n",
       "      <td>Yes</td>\n",
       "      <td>Govt_job</td>\n",
       "      <td>Urban</td>\n",
       "      <td>85.28</td>\n",
       "      <td>26.2</td>\n",
       "      <td>Unknown</td>\n",
       "      <td>0</td>\n",
       "    </tr>\n",
       "  </tbody>\n",
       "</table>\n",
       "</div>"
      ],
      "text/plain": [
       "         id  gender   age  hypertension  heart_disease ever_married  \\\n",
       "5105  18234  Female  80.0             1              0          Yes   \n",
       "5106  44873  Female  81.0             0              0          Yes   \n",
       "5107  19723  Female  35.0             0              0          Yes   \n",
       "5108  37544    Male  51.0             0              0          Yes   \n",
       "5109  44679  Female  44.0             0              0          Yes   \n",
       "\n",
       "          work_type Residence_type  avg_glucose_level   bmi   smoking_status  \\\n",
       "5105        Private          Urban              83.75   NaN     never smoked   \n",
       "5106  Self-employed          Urban             125.20  40.0     never smoked   \n",
       "5107  Self-employed          Rural              82.99  30.6     never smoked   \n",
       "5108        Private          Rural             166.29  25.6  formerly smoked   \n",
       "5109       Govt_job          Urban              85.28  26.2          Unknown   \n",
       "\n",
       "      stroke  \n",
       "5105       0  \n",
       "5106       0  \n",
       "5107       0  \n",
       "5108       0  \n",
       "5109       0  "
      ]
     },
     "execution_count": 110,
     "metadata": {},
     "output_type": "execute_result"
    }
   ],
   "source": [
    "stroke_data_df.tail()"
   ]
  },
  {
   "cell_type": "markdown",
   "id": "31170be5-7ac1-44a3-a61f-b6118788d8de",
   "metadata": {},
   "source": [
    "\n",
    "#### Factors influencing risk for stroke\n"
   ]
  },
  {
   "cell_type": "markdown",
   "id": "6f7bdc9c-ccc7-41c6-88a3-47a8fad8c0cb",
   "metadata": {},
   "source": [
    "There are three variables with data type float. I may be interesting to see if they correlate linearly with stroke incidence."
   ]
  },
  {
   "cell_type": "code",
   "execution_count": 111,
   "id": "663e0252-aeb7-48a6-b624-33b8dfea72fe",
   "metadata": {},
   "outputs": [],
   "source": [
    "# float_stroke_data_df = stroke_data_df.loc[:, 'bmi']"
   ]
  },
  {
   "cell_type": "code",
   "execution_count": 112,
   "id": "1c537efe-0944-4a10-ba33-7ed91e3f0ad3",
   "metadata": {},
   "outputs": [],
   "source": [
    "# float_stroke_data_df.head()"
   ]
  },
  {
   "cell_type": "code",
   "execution_count": 113,
   "id": "00f3482f-abc5-457f-b89b-1affd2355f4f",
   "metadata": {},
   "outputs": [],
   "source": [
    "float_stroke_data_df = stroke_data_df.loc[:,['age', 'avg_glucose_level', 'bmi', 'stroke']]"
   ]
  },
  {
   "cell_type": "code",
   "execution_count": 114,
   "id": "103ca8d8-ac58-4c13-8e86-b6ccd2e3ee0a",
   "metadata": {},
   "outputs": [],
   "source": [
    "# float_stroke_data_df.head()"
   ]
  },
  {
   "cell_type": "code",
   "execution_count": null,
   "id": "70a05280-6c18-4d7d-93f6-b0bd8ae23452",
   "metadata": {},
   "outputs": [],
   "source": []
  },
  {
   "cell_type": "code",
   "execution_count": 115,
   "id": "6abdbe96-f1bc-442d-8ad3-b4fe11fbcf76",
   "metadata": {},
   "outputs": [
    {
     "data": {
      "text/html": [
       "<div>\n",
       "<style scoped>\n",
       "    .dataframe tbody tr th:only-of-type {\n",
       "        vertical-align: middle;\n",
       "    }\n",
       "\n",
       "    .dataframe tbody tr th {\n",
       "        vertical-align: top;\n",
       "    }\n",
       "\n",
       "    .dataframe thead th {\n",
       "        text-align: right;\n",
       "    }\n",
       "</style>\n",
       "<table border=\"1\" class=\"dataframe\">\n",
       "  <thead>\n",
       "    <tr style=\"text-align: right;\">\n",
       "      <th></th>\n",
       "      <th>age</th>\n",
       "      <th>avg_glucose_level</th>\n",
       "      <th>bmi</th>\n",
       "      <th>stroke</th>\n",
       "    </tr>\n",
       "  </thead>\n",
       "  <tbody>\n",
       "    <tr>\n",
       "      <th>age</th>\n",
       "      <td>1.000000</td>\n",
       "      <td>0.238171</td>\n",
       "      <td>0.333398</td>\n",
       "      <td>0.245257</td>\n",
       "    </tr>\n",
       "    <tr>\n",
       "      <th>avg_glucose_level</th>\n",
       "      <td>0.238171</td>\n",
       "      <td>1.000000</td>\n",
       "      <td>0.175502</td>\n",
       "      <td>0.131945</td>\n",
       "    </tr>\n",
       "    <tr>\n",
       "      <th>bmi</th>\n",
       "      <td>0.333398</td>\n",
       "      <td>0.175502</td>\n",
       "      <td>1.000000</td>\n",
       "      <td>0.042374</td>\n",
       "    </tr>\n",
       "    <tr>\n",
       "      <th>stroke</th>\n",
       "      <td>0.245257</td>\n",
       "      <td>0.131945</td>\n",
       "      <td>0.042374</td>\n",
       "      <td>1.000000</td>\n",
       "    </tr>\n",
       "  </tbody>\n",
       "</table>\n",
       "</div>"
      ],
      "text/plain": [
       "                        age  avg_glucose_level       bmi    stroke\n",
       "age                1.000000           0.238171  0.333398  0.245257\n",
       "avg_glucose_level  0.238171           1.000000  0.175502  0.131945\n",
       "bmi                0.333398           0.175502  1.000000  0.042374\n",
       "stroke             0.245257           0.131945  0.042374  1.000000"
      ]
     },
     "execution_count": 115,
     "metadata": {},
     "output_type": "execute_result"
    }
   ],
   "source": [
    "float_stroke_data_df.corr()"
   ]
  },
  {
   "cell_type": "markdown",
   "id": "49e0338f-5ec4-40b3-839a-3d123bd1c753",
   "metadata": {},
   "source": [
    "\n",
    "## Cleaning data\n"
   ]
  },
  {
   "cell_type": "markdown",
   "id": "b86eeb86-e618-4b27-9525-7b5a4591a57f",
   "metadata": {},
   "source": [
    "\n",
    "#### Loading data\n"
   ]
  },
  {
   "cell_type": "markdown",
   "id": "28c8f381-b79b-4807-b67b-db3bbf8e7414",
   "metadata": {},
   "source": [
    "![Upper left corner of the file opened in Jupyter](./cell_phones_total-csv.jpg \"'Delimiter' shows the sep parameter value to use\")<br><br>"
   ]
  },
  {
   "cell_type": "markdown",
   "id": "58eb6d63-b98b-4010-8c2d-7af0f3b8afcf",
   "metadata": {},
   "source": [
    "We can use the default method, with the first column, iso-3, as index."
   ]
  },
  {
   "cell_type": "code",
   "execution_count": 116,
   "id": "b82d14f1-5140-482b-807b-915dd4b53851",
   "metadata": {},
   "outputs": [],
   "source": [
    "cell_phones_total_data_df = pd.read_csv('cell_phones_total.csv', index_col='iso-3')"
   ]
  },
  {
   "cell_type": "markdown",
   "id": "63390fc5-f207-4f77-a8bb-b13610e71d64",
   "metadata": {},
   "source": [
    "Structure of the data"
   ]
  },
  {
   "cell_type": "code",
   "execution_count": 117,
   "id": "76873037-a07a-4628-a95d-d92dfb92c562",
   "metadata": {},
   "outputs": [
    {
     "name": "stdout",
     "output_type": "stream",
     "text": [
      "<class 'pandas.core.frame.DataFrame'>\n",
      "Index: 214 entries, ABW to ZWE\n",
      "Data columns (total 56 columns):\n",
      " #   Column  Non-Null Count  Dtype  \n",
      "---  ------  --------------  -----  \n",
      " 0   1960    200 non-null    float64\n",
      " 1   1965    200 non-null    float64\n",
      " 2   1966    0 non-null      float64\n",
      " 3   1967    0 non-null      float64\n",
      " 4   1968    0 non-null      float64\n",
      " 5   1969    0 non-null      float64\n",
      " 6   1970    200 non-null    float64\n",
      " 7   1971    0 non-null      float64\n",
      " 8   1972    0 non-null      float64\n",
      " 9   1973    0 non-null      float64\n",
      " 10  1974    0 non-null      float64\n",
      " 11  1975    200 non-null    float64\n",
      " 12  1976    200 non-null    float64\n",
      " 13  1977    200 non-null    float64\n",
      " 14  1978    200 non-null    float64\n",
      " 15  1979    200 non-null    float64\n",
      " 16  1980    200 non-null    object \n",
      " 17  1981    199 non-null    object \n",
      " 18  1982    199 non-null    object \n",
      " 19  1983    198 non-null    object \n",
      " 20  1984    196 non-null    object \n",
      " 21  1985    195 non-null    object \n",
      " 22  1986    196 non-null    object \n",
      " 23  1987    194 non-null    object \n",
      " 24  1988    195 non-null    object \n",
      " 25  1989    193 non-null    object \n",
      " 26  1990    207 non-null    object \n",
      " 27  1991    196 non-null    object \n",
      " 28  1992    198 non-null    object \n",
      " 29  1993    198 non-null    object \n",
      " 30  1994    198 non-null    object \n",
      " 31  1995    200 non-null    object \n",
      " 32  1996    201 non-null    object \n",
      " 33  1997    200 non-null    object \n",
      " 34  1998    202 non-null    object \n",
      " 35  1999    203 non-null    object \n",
      " 36  2000    204 non-null    object \n",
      " 37  2001    204 non-null    object \n",
      " 38  2002    206 non-null    object \n",
      " 39  2003    206 non-null    object \n",
      " 40  2004    207 non-null    object \n",
      " 41  2005    204 non-null    object \n",
      " 42  2006    201 non-null    object \n",
      " 43  2007    204 non-null    object \n",
      " 44  2008    202 non-null    object \n",
      " 45  2009    204 non-null    object \n",
      " 46  2010    207 non-null    object \n",
      " 47  2011    203 non-null    object \n",
      " 48  2012    207 non-null    object \n",
      " 49  2013    204 non-null    object \n",
      " 50  2014    205 non-null    object \n",
      " 51  2015    207 non-null    object \n",
      " 52  2016    202 non-null    object \n",
      " 53  2017    204 non-null    object \n",
      " 54  2018    182 non-null    object \n",
      " 55  2019    143 non-null    object \n",
      "dtypes: float64(16), object(40)\n",
      "memory usage: 95.3+ KB\n"
     ]
    }
   ],
   "source": [
    "cell_phones_total_data_df.info()"
   ]
  },
  {
   "cell_type": "code",
   "execution_count": 118,
   "id": "f388487f-33c6-4ee5-a546-cee39a06382a",
   "metadata": {},
   "outputs": [
    {
     "data": {
      "text/html": [
       "<div>\n",
       "<style scoped>\n",
       "    .dataframe tbody tr th:only-of-type {\n",
       "        vertical-align: middle;\n",
       "    }\n",
       "\n",
       "    .dataframe tbody tr th {\n",
       "        vertical-align: top;\n",
       "    }\n",
       "\n",
       "    .dataframe thead th {\n",
       "        text-align: right;\n",
       "    }\n",
       "</style>\n",
       "<table border=\"1\" class=\"dataframe\">\n",
       "  <thead>\n",
       "    <tr style=\"text-align: right;\">\n",
       "      <th></th>\n",
       "      <th>1960</th>\n",
       "      <th>1965</th>\n",
       "      <th>1966</th>\n",
       "      <th>1967</th>\n",
       "      <th>1968</th>\n",
       "      <th>1969</th>\n",
       "      <th>1970</th>\n",
       "      <th>1971</th>\n",
       "      <th>1972</th>\n",
       "      <th>1973</th>\n",
       "      <th>1974</th>\n",
       "      <th>1975</th>\n",
       "      <th>1976</th>\n",
       "      <th>1977</th>\n",
       "      <th>1978</th>\n",
       "      <th>1979</th>\n",
       "    </tr>\n",
       "  </thead>\n",
       "  <tbody>\n",
       "    <tr>\n",
       "      <th>count</th>\n",
       "      <td>200.0</td>\n",
       "      <td>200.0</td>\n",
       "      <td>0.0</td>\n",
       "      <td>0.0</td>\n",
       "      <td>0.0</td>\n",
       "      <td>0.0</td>\n",
       "      <td>200.0</td>\n",
       "      <td>0.0</td>\n",
       "      <td>0.0</td>\n",
       "      <td>0.0</td>\n",
       "      <td>0.0</td>\n",
       "      <td>200.0</td>\n",
       "      <td>200.0</td>\n",
       "      <td>200.0</td>\n",
       "      <td>200.0</td>\n",
       "      <td>200.0</td>\n",
       "    </tr>\n",
       "    <tr>\n",
       "      <th>mean</th>\n",
       "      <td>0.0</td>\n",
       "      <td>0.0</td>\n",
       "      <td>NaN</td>\n",
       "      <td>NaN</td>\n",
       "      <td>NaN</td>\n",
       "      <td>NaN</td>\n",
       "      <td>0.0</td>\n",
       "      <td>NaN</td>\n",
       "      <td>NaN</td>\n",
       "      <td>NaN</td>\n",
       "      <td>NaN</td>\n",
       "      <td>0.0</td>\n",
       "      <td>0.0</td>\n",
       "      <td>0.0</td>\n",
       "      <td>0.0</td>\n",
       "      <td>0.0</td>\n",
       "    </tr>\n",
       "    <tr>\n",
       "      <th>std</th>\n",
       "      <td>0.0</td>\n",
       "      <td>0.0</td>\n",
       "      <td>NaN</td>\n",
       "      <td>NaN</td>\n",
       "      <td>NaN</td>\n",
       "      <td>NaN</td>\n",
       "      <td>0.0</td>\n",
       "      <td>NaN</td>\n",
       "      <td>NaN</td>\n",
       "      <td>NaN</td>\n",
       "      <td>NaN</td>\n",
       "      <td>0.0</td>\n",
       "      <td>0.0</td>\n",
       "      <td>0.0</td>\n",
       "      <td>0.0</td>\n",
       "      <td>0.0</td>\n",
       "    </tr>\n",
       "    <tr>\n",
       "      <th>min</th>\n",
       "      <td>0.0</td>\n",
       "      <td>0.0</td>\n",
       "      <td>NaN</td>\n",
       "      <td>NaN</td>\n",
       "      <td>NaN</td>\n",
       "      <td>NaN</td>\n",
       "      <td>0.0</td>\n",
       "      <td>NaN</td>\n",
       "      <td>NaN</td>\n",
       "      <td>NaN</td>\n",
       "      <td>NaN</td>\n",
       "      <td>0.0</td>\n",
       "      <td>0.0</td>\n",
       "      <td>0.0</td>\n",
       "      <td>0.0</td>\n",
       "      <td>0.0</td>\n",
       "    </tr>\n",
       "    <tr>\n",
       "      <th>25%</th>\n",
       "      <td>0.0</td>\n",
       "      <td>0.0</td>\n",
       "      <td>NaN</td>\n",
       "      <td>NaN</td>\n",
       "      <td>NaN</td>\n",
       "      <td>NaN</td>\n",
       "      <td>0.0</td>\n",
       "      <td>NaN</td>\n",
       "      <td>NaN</td>\n",
       "      <td>NaN</td>\n",
       "      <td>NaN</td>\n",
       "      <td>0.0</td>\n",
       "      <td>0.0</td>\n",
       "      <td>0.0</td>\n",
       "      <td>0.0</td>\n",
       "      <td>0.0</td>\n",
       "    </tr>\n",
       "    <tr>\n",
       "      <th>50%</th>\n",
       "      <td>0.0</td>\n",
       "      <td>0.0</td>\n",
       "      <td>NaN</td>\n",
       "      <td>NaN</td>\n",
       "      <td>NaN</td>\n",
       "      <td>NaN</td>\n",
       "      <td>0.0</td>\n",
       "      <td>NaN</td>\n",
       "      <td>NaN</td>\n",
       "      <td>NaN</td>\n",
       "      <td>NaN</td>\n",
       "      <td>0.0</td>\n",
       "      <td>0.0</td>\n",
       "      <td>0.0</td>\n",
       "      <td>0.0</td>\n",
       "      <td>0.0</td>\n",
       "    </tr>\n",
       "    <tr>\n",
       "      <th>75%</th>\n",
       "      <td>0.0</td>\n",
       "      <td>0.0</td>\n",
       "      <td>NaN</td>\n",
       "      <td>NaN</td>\n",
       "      <td>NaN</td>\n",
       "      <td>NaN</td>\n",
       "      <td>0.0</td>\n",
       "      <td>NaN</td>\n",
       "      <td>NaN</td>\n",
       "      <td>NaN</td>\n",
       "      <td>NaN</td>\n",
       "      <td>0.0</td>\n",
       "      <td>0.0</td>\n",
       "      <td>0.0</td>\n",
       "      <td>0.0</td>\n",
       "      <td>0.0</td>\n",
       "    </tr>\n",
       "    <tr>\n",
       "      <th>max</th>\n",
       "      <td>0.0</td>\n",
       "      <td>0.0</td>\n",
       "      <td>NaN</td>\n",
       "      <td>NaN</td>\n",
       "      <td>NaN</td>\n",
       "      <td>NaN</td>\n",
       "      <td>0.0</td>\n",
       "      <td>NaN</td>\n",
       "      <td>NaN</td>\n",
       "      <td>NaN</td>\n",
       "      <td>NaN</td>\n",
       "      <td>0.0</td>\n",
       "      <td>0.0</td>\n",
       "      <td>0.0</td>\n",
       "      <td>0.0</td>\n",
       "      <td>0.0</td>\n",
       "    </tr>\n",
       "  </tbody>\n",
       "</table>\n",
       "</div>"
      ],
      "text/plain": [
       "        1960   1965  1966  1967  1968  1969   1970  1971  1972  1973  1974  \\\n",
       "count  200.0  200.0   0.0   0.0   0.0   0.0  200.0   0.0   0.0   0.0   0.0   \n",
       "mean     0.0    0.0   NaN   NaN   NaN   NaN    0.0   NaN   NaN   NaN   NaN   \n",
       "std      0.0    0.0   NaN   NaN   NaN   NaN    0.0   NaN   NaN   NaN   NaN   \n",
       "min      0.0    0.0   NaN   NaN   NaN   NaN    0.0   NaN   NaN   NaN   NaN   \n",
       "25%      0.0    0.0   NaN   NaN   NaN   NaN    0.0   NaN   NaN   NaN   NaN   \n",
       "50%      0.0    0.0   NaN   NaN   NaN   NaN    0.0   NaN   NaN   NaN   NaN   \n",
       "75%      0.0    0.0   NaN   NaN   NaN   NaN    0.0   NaN   NaN   NaN   NaN   \n",
       "max      0.0    0.0   NaN   NaN   NaN   NaN    0.0   NaN   NaN   NaN   NaN   \n",
       "\n",
       "        1975   1976   1977   1978   1979  \n",
       "count  200.0  200.0  200.0  200.0  200.0  \n",
       "mean     0.0    0.0    0.0    0.0    0.0  \n",
       "std      0.0    0.0    0.0    0.0    0.0  \n",
       "min      0.0    0.0    0.0    0.0    0.0  \n",
       "25%      0.0    0.0    0.0    0.0    0.0  \n",
       "50%      0.0    0.0    0.0    0.0    0.0  \n",
       "75%      0.0    0.0    0.0    0.0    0.0  \n",
       "max      0.0    0.0    0.0    0.0    0.0  "
      ]
     },
     "execution_count": 118,
     "metadata": {},
     "output_type": "execute_result"
    }
   ],
   "source": [
    "cell_phones_total_data_df.describe()"
   ]
  },
  {
   "cell_type": "code",
   "execution_count": 119,
   "id": "c8a45df4-ba78-4765-be55-c9720725cf32",
   "metadata": {},
   "outputs": [],
   "source": [
    "# cell_phones_total_data_df.isna()"
   ]
  },
  {
   "cell_type": "code",
   "execution_count": 120,
   "id": "5f372cfd-1948-4906-875d-a3dacde7560e",
   "metadata": {},
   "outputs": [],
   "source": [
    "nans = cell_phones_total_data_df.isna()"
   ]
  },
  {
   "cell_type": "code",
   "execution_count": 121,
   "id": "14b83b3a-ef57-44e9-973f-7408563fbb36",
   "metadata": {},
   "outputs": [
    {
     "data": {
      "text/plain": [
       "(214, 56)"
      ]
     },
     "execution_count": 121,
     "metadata": {},
     "output_type": "execute_result"
    }
   ],
   "source": [
    "nans.shape"
   ]
  },
  {
   "cell_type": "code",
   "execution_count": 122,
   "id": "f700b764-b0ee-45d1-9d62-e8f3fd5fba29",
   "metadata": {},
   "outputs": [
    {
     "data": {
      "text/plain": [
       "pandas.core.frame.DataFrame"
      ]
     },
     "execution_count": 122,
     "metadata": {},
     "output_type": "execute_result"
    }
   ],
   "source": [
    "type(nans)"
   ]
  },
  {
   "cell_type": "code",
   "execution_count": 123,
   "id": "d12511bf-4f63-47de-bb79-cfe0cc949aa0",
   "metadata": {},
   "outputs": [
    {
     "data": {
      "text/plain": [
       "1973\n",
       "True    214\n",
       "Name: count, dtype: int64"
      ]
     },
     "execution_count": 123,
     "metadata": {},
     "output_type": "execute_result"
    }
   ],
   "source": [
    "nans['1973'].value_counts() # Hur beräkna hur många nans det finns?"
   ]
  },
  {
   "cell_type": "code",
   "execution_count": 124,
   "id": "ff0fb509-6d41-4a6e-8b6e-460621b954e6",
   "metadata": {},
   "outputs": [
    {
     "data": {
      "text/plain": [
       "2011\n",
       "False    203\n",
       "True      11\n",
       "Name: count, dtype: int64"
      ]
     },
     "execution_count": 124,
     "metadata": {},
     "output_type": "execute_result"
    }
   ],
   "source": [
    "nans['2011'].value_counts() # Hur beräkna hur många nans det finns?"
   ]
  },
  {
   "cell_type": "code",
   "execution_count": 125,
   "id": "56ea7397-48df-47b6-ab7e-0adffe61f033",
   "metadata": {},
   "outputs": [],
   "source": [
    "# nans.groupby(np.arange(56)).value_counts() # groupsby columns"
   ]
  },
  {
   "cell_type": "code",
   "execution_count": 126,
   "id": "10991f6a-ed9d-459c-9a46-f7be87dfbbe3",
   "metadata": {},
   "outputs": [],
   "source": [
    "# nans.T.groupby(np.arange(56)).value_counts() # groupsby columns"
   ]
  },
  {
   "cell_type": "code",
   "execution_count": 127,
   "id": "f9b22599-00d7-4d5f-bebc-5dcd3ff8b652",
   "metadata": {},
   "outputs": [],
   "source": [
    "# nans.T.groupby(np.arange(56)) # groupsby columns"
   ]
  },
  {
   "cell_type": "code",
   "execution_count": 128,
   "id": "d1827b31-847d-4051-8f80-751cc9a13d55",
   "metadata": {},
   "outputs": [],
   "source": [
    "# nans.T.groupby(axis=0).value_counts() # groupsby columns"
   ]
  },
  {
   "cell_type": "code",
   "execution_count": 129,
   "id": "e3a21aca-640c-423a-a831-f581832e44f3",
   "metadata": {},
   "outputs": [],
   "source": [
    "# nans[:,:].count() Hur beräkna hur många nans det finns?"
   ]
  },
  {
   "cell_type": "markdown",
   "id": "bf1d6d65-ef09-43c7-8fa9-84ea727d1a55",
   "metadata": {},
   "source": [
    "\n",
    "#### Check for unique values in the columns\n"
   ]
  },
  {
   "cell_type": "code",
   "execution_count": 130,
   "id": "d421d167-e650-4e89-bb71-d65a0febebc3",
   "metadata": {},
   "outputs": [
    {
     "data": {
      "text/plain": [
       "array([ 0., nan])"
      ]
     },
     "execution_count": 130,
     "metadata": {},
     "output_type": "execute_result"
    }
   ],
   "source": [
    "cell_phones_total_data_df['1960'].unique()"
   ]
  },
  {
   "cell_type": "code",
   "execution_count": 131,
   "id": "01489813-d77c-466e-8d7d-a83128522dd9",
   "metadata": {},
   "outputs": [
    {
     "data": {
      "text/plain": [
       "array([ 0., nan])"
      ]
     },
     "execution_count": 131,
     "metadata": {},
     "output_type": "execute_result"
    }
   ],
   "source": [
    "cell_phones_total_data_df['1965'].unique()"
   ]
  },
  {
   "cell_type": "code",
   "execution_count": 132,
   "id": "830d06fe-43b3-4ac6-9ded-598870857e2a",
   "metadata": {},
   "outputs": [
    {
     "data": {
      "text/plain": [
       "array([nan])"
      ]
     },
     "execution_count": 132,
     "metadata": {},
     "output_type": "execute_result"
    }
   ],
   "source": [
    "cell_phones_total_data_df['1966'].unique()"
   ]
  },
  {
   "cell_type": "code",
   "execution_count": 133,
   "id": "30ec6c49-f102-48ce-8ee6-b64691aa1cae",
   "metadata": {},
   "outputs": [
    {
     "data": {
      "text/plain": [
       "array([nan])"
      ]
     },
     "execution_count": 133,
     "metadata": {},
     "output_type": "execute_result"
    }
   ],
   "source": [
    "cell_phones_total_data_df['1967'].unique()"
   ]
  },
  {
   "cell_type": "code",
   "execution_count": 134,
   "id": "298df02d-27d7-4197-8619-cbe58422de30",
   "metadata": {},
   "outputs": [
    {
     "data": {
      "text/plain": [
       "array([nan])"
      ]
     },
     "execution_count": 134,
     "metadata": {},
     "output_type": "execute_result"
    }
   ],
   "source": [
    "cell_phones_total_data_df['1968'].unique()"
   ]
  },
  {
   "cell_type": "code",
   "execution_count": 135,
   "id": "c8775d44-6950-40b8-b1db-4682d6aa1502",
   "metadata": {},
   "outputs": [
    {
     "data": {
      "text/plain": [
       "array([nan])"
      ]
     },
     "execution_count": 135,
     "metadata": {},
     "output_type": "execute_result"
    }
   ],
   "source": [
    "cell_phones_total_data_df['1969'].unique()"
   ]
  },
  {
   "cell_type": "code",
   "execution_count": 136,
   "id": "68058084-6c6e-473d-9b0e-626782b1e0ca",
   "metadata": {},
   "outputs": [
    {
     "data": {
      "text/plain": [
       "array([ 0., nan])"
      ]
     },
     "execution_count": 136,
     "metadata": {},
     "output_type": "execute_result"
    }
   ],
   "source": [
    "cell_phones_total_data_df['1970'].unique()"
   ]
  },
  {
   "cell_type": "markdown",
   "id": "803d119b-cbb4-462c-a801-9edaac92e1fb",
   "metadata": {},
   "source": [
    "\n",
    "#### Interpolate values in copy of cell_phones_total_data_df\n"
   ]
  },
  {
   "cell_type": "markdown",
   "id": "0eb7b50b-53c2-4f90-808d-4c73734ae0a1",
   "metadata": {},
   "source": [
    "We now know more about the values in the first years of data, so we can start to handle missing values. The only values for the years 1960 to 1970 are 0 and nan.\n",
    "This means that it is reasonable to change all nan to 0 for these years. Interpolation is not done inplace, so we need a deep copy for the interpolated values."
   ]
  },
  {
   "cell_type": "code",
   "execution_count": 137,
   "id": "ad25c35c-6657-4937-aeb1-a10e226134fd",
   "metadata": {},
   "outputs": [],
   "source": [
    "interpolated_cell_phones_total_data_df = cell_phones_total_data_df.copy()"
   ]
  },
  {
   "cell_type": "code",
   "execution_count": 138,
   "id": "8f4233de-36c4-40ab-9c60-d4fa70661d40",
   "metadata": {},
   "outputs": [
    {
     "name": "stdout",
     "output_type": "stream",
     "text": [
      "<class 'pandas.core.frame.DataFrame'>\n",
      "Index: 214 entries, ABW to ZWE\n",
      "Data columns (total 56 columns):\n",
      " #   Column  Non-Null Count  Dtype  \n",
      "---  ------  --------------  -----  \n",
      " 0   1960    200 non-null    float64\n",
      " 1   1965    200 non-null    float64\n",
      " 2   1966    0 non-null      float64\n",
      " 3   1967    0 non-null      float64\n",
      " 4   1968    0 non-null      float64\n",
      " 5   1969    0 non-null      float64\n",
      " 6   1970    200 non-null    float64\n",
      " 7   1971    0 non-null      float64\n",
      " 8   1972    0 non-null      float64\n",
      " 9   1973    0 non-null      float64\n",
      " 10  1974    0 non-null      float64\n",
      " 11  1975    200 non-null    float64\n",
      " 12  1976    200 non-null    float64\n",
      " 13  1977    200 non-null    float64\n",
      " 14  1978    200 non-null    float64\n",
      " 15  1979    200 non-null    float64\n",
      " 16  1980    200 non-null    object \n",
      " 17  1981    199 non-null    object \n",
      " 18  1982    199 non-null    object \n",
      " 19  1983    198 non-null    object \n",
      " 20  1984    196 non-null    object \n",
      " 21  1985    195 non-null    object \n",
      " 22  1986    196 non-null    object \n",
      " 23  1987    194 non-null    object \n",
      " 24  1988    195 non-null    object \n",
      " 25  1989    193 non-null    object \n",
      " 26  1990    207 non-null    object \n",
      " 27  1991    196 non-null    object \n",
      " 28  1992    198 non-null    object \n",
      " 29  1993    198 non-null    object \n",
      " 30  1994    198 non-null    object \n",
      " 31  1995    200 non-null    object \n",
      " 32  1996    201 non-null    object \n",
      " 33  1997    200 non-null    object \n",
      " 34  1998    202 non-null    object \n",
      " 35  1999    203 non-null    object \n",
      " 36  2000    204 non-null    object \n",
      " 37  2001    204 non-null    object \n",
      " 38  2002    206 non-null    object \n",
      " 39  2003    206 non-null    object \n",
      " 40  2004    207 non-null    object \n",
      " 41  2005    204 non-null    object \n",
      " 42  2006    201 non-null    object \n",
      " 43  2007    204 non-null    object \n",
      " 44  2008    202 non-null    object \n",
      " 45  2009    204 non-null    object \n",
      " 46  2010    207 non-null    object \n",
      " 47  2011    203 non-null    object \n",
      " 48  2012    207 non-null    object \n",
      " 49  2013    204 non-null    object \n",
      " 50  2014    205 non-null    object \n",
      " 51  2015    207 non-null    object \n",
      " 52  2016    202 non-null    object \n",
      " 53  2017    204 non-null    object \n",
      " 54  2018    182 non-null    object \n",
      " 55  2019    143 non-null    object \n",
      "dtypes: float64(16), object(40)\n",
      "memory usage: 95.3+ KB\n"
     ]
    }
   ],
   "source": [
    "interpolated_cell_phones_total_data_df.info()"
   ]
  },
  {
   "cell_type": "markdown",
   "id": "58f12808-587b-426c-9760-1311af2a517c",
   "metadata": {},
   "source": [
    "In the column for 1960 we have the values 0 and nan. We can interpolate this column, to make it all-zero."
   ]
  },
  {
   "cell_type": "code",
   "execution_count": 139,
   "id": "aaf96c62-4339-4e9a-9e8d-a662e0872690",
   "metadata": {},
   "outputs": [],
   "source": [
    "interpolated_cell_phones_total_data_df['1960'] = cell_phones_total_data_df['1960'].interpolate()"
   ]
  },
  {
   "cell_type": "markdown",
   "id": "38a341dc-8ff6-4021-bda8-fb91ab386c3a",
   "metadata": {},
   "source": [
    "Check that the result is the intended."
   ]
  },
  {
   "cell_type": "code",
   "execution_count": 140,
   "id": "1ff67155-0aec-44fe-bcfa-0b8b891ab740",
   "metadata": {},
   "outputs": [
    {
     "data": {
      "text/plain": [
       "array([0.])"
      ]
     },
     "execution_count": 140,
     "metadata": {},
     "output_type": "execute_result"
    }
   ],
   "source": [
    "interpolated_cell_phones_total_data_df['1960'].unique()"
   ]
  },
  {
   "cell_type": "code",
   "execution_count": 141,
   "id": "a3129bb0-3c52-414d-83cf-f623750066ae",
   "metadata": {},
   "outputs": [],
   "source": [
    "# Nix, try again. Interpolation is not done inplace, so we need a new DataFrame to assign to."
   ]
  },
  {
   "cell_type": "code",
   "execution_count": 142,
   "id": "8dac097e-c550-4696-a9a6-ff6783e216c0",
   "metadata": {},
   "outputs": [],
   "source": [
    "# interpolated_cell_phones_total_data_df['1960'] = cell_phones_total_data_df['1960'].interpolate()"
   ]
  },
  {
   "cell_type": "code",
   "execution_count": 143,
   "id": "9c04ccad-a642-4eba-a608-e14bf19a8eda",
   "metadata": {},
   "outputs": [],
   "source": [
    "# interpolated_cell_phones_total_data_df['1960'].unique()"
   ]
  },
  {
   "cell_type": "code",
   "execution_count": 144,
   "id": "b9465733-f985-4f8c-bc28-e00d895fca07",
   "metadata": {},
   "outputs": [],
   "source": [
    "# OK"
   ]
  },
  {
   "cell_type": "markdown",
   "id": "c86982fb-8976-4935-9018-ab287a925b39",
   "metadata": {},
   "source": [
    "Repeat for some more columns."
   ]
  },
  {
   "cell_type": "code",
   "execution_count": 145,
   "id": "b64041f0-fcd3-4d2f-bde3-c20b5559b394",
   "metadata": {},
   "outputs": [],
   "source": [
    "# axis=1 for interpolation column-wise\n",
    "# interpolated_cell_phones_total_data_df[['1965', '1970']] = cell_phones_total_data_df[['1965', '1970']].interpolate(axis=1)"
   ]
  },
  {
   "cell_type": "code",
   "execution_count": 146,
   "id": "3a651cb6-5831-4a0f-bb0a-50e5d548281f",
   "metadata": {},
   "outputs": [],
   "source": [
    "interpolated_cell_phones_total_data_df['1965'] = cell_phones_total_data_df['1965'].interpolate()"
   ]
  },
  {
   "cell_type": "code",
   "execution_count": 147,
   "id": "785f1a08-cc3b-45eb-af2f-9b56056ed77b",
   "metadata": {},
   "outputs": [],
   "source": [
    "interpolated_cell_phones_total_data_df[ '1970'] = cell_phones_total_data_df['1970'].interpolate()"
   ]
  },
  {
   "cell_type": "code",
   "execution_count": 148,
   "id": "00588fed-f5fa-4f3b-adac-2dff49895721",
   "metadata": {},
   "outputs": [
    {
     "name": "stdout",
     "output_type": "stream",
     "text": [
      "<class 'pandas.core.frame.DataFrame'>\n",
      "Index: 214 entries, ABW to ZWE\n",
      "Data columns (total 56 columns):\n",
      " #   Column  Non-Null Count  Dtype  \n",
      "---  ------  --------------  -----  \n",
      " 0   1960    214 non-null    float64\n",
      " 1   1965    214 non-null    float64\n",
      " 2   1966    0 non-null      float64\n",
      " 3   1967    0 non-null      float64\n",
      " 4   1968    0 non-null      float64\n",
      " 5   1969    0 non-null      float64\n",
      " 6   1970    214 non-null    float64\n",
      " 7   1971    0 non-null      float64\n",
      " 8   1972    0 non-null      float64\n",
      " 9   1973    0 non-null      float64\n",
      " 10  1974    0 non-null      float64\n",
      " 11  1975    200 non-null    float64\n",
      " 12  1976    200 non-null    float64\n",
      " 13  1977    200 non-null    float64\n",
      " 14  1978    200 non-null    float64\n",
      " 15  1979    200 non-null    float64\n",
      " 16  1980    200 non-null    object \n",
      " 17  1981    199 non-null    object \n",
      " 18  1982    199 non-null    object \n",
      " 19  1983    198 non-null    object \n",
      " 20  1984    196 non-null    object \n",
      " 21  1985    195 non-null    object \n",
      " 22  1986    196 non-null    object \n",
      " 23  1987    194 non-null    object \n",
      " 24  1988    195 non-null    object \n",
      " 25  1989    193 non-null    object \n",
      " 26  1990    207 non-null    object \n",
      " 27  1991    196 non-null    object \n",
      " 28  1992    198 non-null    object \n",
      " 29  1993    198 non-null    object \n",
      " 30  1994    198 non-null    object \n",
      " 31  1995    200 non-null    object \n",
      " 32  1996    201 non-null    object \n",
      " 33  1997    200 non-null    object \n",
      " 34  1998    202 non-null    object \n",
      " 35  1999    203 non-null    object \n",
      " 36  2000    204 non-null    object \n",
      " 37  2001    204 non-null    object \n",
      " 38  2002    206 non-null    object \n",
      " 39  2003    206 non-null    object \n",
      " 40  2004    207 non-null    object \n",
      " 41  2005    204 non-null    object \n",
      " 42  2006    201 non-null    object \n",
      " 43  2007    204 non-null    object \n",
      " 44  2008    202 non-null    object \n",
      " 45  2009    204 non-null    object \n",
      " 46  2010    207 non-null    object \n",
      " 47  2011    203 non-null    object \n",
      " 48  2012    207 non-null    object \n",
      " 49  2013    204 non-null    object \n",
      " 50  2014    205 non-null    object \n",
      " 51  2015    207 non-null    object \n",
      " 52  2016    202 non-null    object \n",
      " 53  2017    204 non-null    object \n",
      " 54  2018    182 non-null    object \n",
      " 55  2019    143 non-null    object \n",
      "dtypes: float64(16), object(40)\n",
      "memory usage: 95.3+ KB\n"
     ]
    }
   ],
   "source": [
    "interpolated_cell_phones_total_data_df.info()"
   ]
  },
  {
   "cell_type": "markdown",
   "id": "01e837d8-6568-47b7-8243-74fc6d05a63e",
   "metadata": {},
   "source": [
    "The columns with only nan can be treated differently, assign zeroes directly."
   ]
  },
  {
   "cell_type": "code",
   "execution_count": 149,
   "id": "25d9c168-1828-4b7c-bde9-72bde4ada280",
   "metadata": {},
   "outputs": [],
   "source": [
    "interpolated_cell_phones_total_data_df.loc[:,['1966' , '1967', '1968' , '1969']] = 0"
   ]
  },
  {
   "cell_type": "markdown",
   "id": "c14611dd-1c7d-427e-a03e-7e71c52c6588",
   "metadata": {},
   "source": [
    "Check that we have the intended result"
   ]
  },
  {
   "cell_type": "code",
   "execution_count": 150,
   "id": "7727687d-58be-4fda-ae90-b2bb6075dcfd",
   "metadata": {},
   "outputs": [
    {
     "name": "stdout",
     "output_type": "stream",
     "text": [
      "<class 'pandas.core.frame.DataFrame'>\n",
      "Index: 214 entries, ABW to ZWE\n",
      "Data columns (total 56 columns):\n",
      " #   Column  Non-Null Count  Dtype  \n",
      "---  ------  --------------  -----  \n",
      " 0   1960    214 non-null    float64\n",
      " 1   1965    214 non-null    float64\n",
      " 2   1966    214 non-null    float64\n",
      " 3   1967    214 non-null    float64\n",
      " 4   1968    214 non-null    float64\n",
      " 5   1969    214 non-null    float64\n",
      " 6   1970    214 non-null    float64\n",
      " 7   1971    0 non-null      float64\n",
      " 8   1972    0 non-null      float64\n",
      " 9   1973    0 non-null      float64\n",
      " 10  1974    0 non-null      float64\n",
      " 11  1975    200 non-null    float64\n",
      " 12  1976    200 non-null    float64\n",
      " 13  1977    200 non-null    float64\n",
      " 14  1978    200 non-null    float64\n",
      " 15  1979    200 non-null    float64\n",
      " 16  1980    200 non-null    object \n",
      " 17  1981    199 non-null    object \n",
      " 18  1982    199 non-null    object \n",
      " 19  1983    198 non-null    object \n",
      " 20  1984    196 non-null    object \n",
      " 21  1985    195 non-null    object \n",
      " 22  1986    196 non-null    object \n",
      " 23  1987    194 non-null    object \n",
      " 24  1988    195 non-null    object \n",
      " 25  1989    193 non-null    object \n",
      " 26  1990    207 non-null    object \n",
      " 27  1991    196 non-null    object \n",
      " 28  1992    198 non-null    object \n",
      " 29  1993    198 non-null    object \n",
      " 30  1994    198 non-null    object \n",
      " 31  1995    200 non-null    object \n",
      " 32  1996    201 non-null    object \n",
      " 33  1997    200 non-null    object \n",
      " 34  1998    202 non-null    object \n",
      " 35  1999    203 non-null    object \n",
      " 36  2000    204 non-null    object \n",
      " 37  2001    204 non-null    object \n",
      " 38  2002    206 non-null    object \n",
      " 39  2003    206 non-null    object \n",
      " 40  2004    207 non-null    object \n",
      " 41  2005    204 non-null    object \n",
      " 42  2006    201 non-null    object \n",
      " 43  2007    204 non-null    object \n",
      " 44  2008    202 non-null    object \n",
      " 45  2009    204 non-null    object \n",
      " 46  2010    207 non-null    object \n",
      " 47  2011    203 non-null    object \n",
      " 48  2012    207 non-null    object \n",
      " 49  2013    204 non-null    object \n",
      " 50  2014    205 non-null    object \n",
      " 51  2015    207 non-null    object \n",
      " 52  2016    202 non-null    object \n",
      " 53  2017    204 non-null    object \n",
      " 54  2018    182 non-null    object \n",
      " 55  2019    143 non-null    object \n",
      "dtypes: float64(16), object(40)\n",
      "memory usage: 95.3+ KB\n"
     ]
    }
   ],
   "source": [
    "interpolated_cell_phones_total_data_df.info()"
   ]
  },
  {
   "cell_type": "markdown",
   "id": "117588c9-832b-4b2c-911d-be140a2c77b4",
   "metadata": {},
   "source": [
    "Check that it went OK"
   ]
  },
  {
   "cell_type": "code",
   "execution_count": 151,
   "id": "9837f6eb-6085-4966-980f-b9976c0f71bd",
   "metadata": {},
   "outputs": [
    {
     "data": {
      "text/plain": [
       "array([0.])"
      ]
     },
     "execution_count": 151,
     "metadata": {},
     "output_type": "execute_result"
    }
   ],
   "source": [
    "interpolated_cell_phones_total_data_df['1968'].unique()"
   ]
  },
  {
   "cell_type": "markdown",
   "id": "66b6b370-f630-4863-aa55-857ccb411606",
   "metadata": {},
   "source": [
    "\n",
    "##### Repeat for more years\n"
   ]
  },
  {
   "cell_type": "code",
   "execution_count": 152,
   "id": "08af8439-59c7-42ad-8fae-e6762067ee07",
   "metadata": {},
   "outputs": [
    {
     "data": {
      "text/plain": [
       "array([nan])"
      ]
     },
     "execution_count": 152,
     "metadata": {},
     "output_type": "execute_result"
    }
   ],
   "source": [
    "interpolated_cell_phones_total_data_df['1971'].unique()"
   ]
  },
  {
   "cell_type": "code",
   "execution_count": 153,
   "id": "0a1da669-5425-4482-93b3-24c3d3031dc6",
   "metadata": {},
   "outputs": [
    {
     "data": {
      "text/plain": [
       "array([nan])"
      ]
     },
     "execution_count": 153,
     "metadata": {},
     "output_type": "execute_result"
    }
   ],
   "source": [
    "interpolated_cell_phones_total_data_df['1972'].unique()"
   ]
  },
  {
   "cell_type": "code",
   "execution_count": 154,
   "id": "4daaa9b5-5ecd-4b3a-8e40-e4ad8c842087",
   "metadata": {},
   "outputs": [
    {
     "data": {
      "text/plain": [
       "array([nan])"
      ]
     },
     "execution_count": 154,
     "metadata": {},
     "output_type": "execute_result"
    }
   ],
   "source": [
    "interpolated_cell_phones_total_data_df['1973'].unique()"
   ]
  },
  {
   "cell_type": "code",
   "execution_count": 155,
   "id": "da7638be-3898-40fe-84df-13663e843816",
   "metadata": {},
   "outputs": [
    {
     "data": {
      "text/plain": [
       "array([nan])"
      ]
     },
     "execution_count": 155,
     "metadata": {},
     "output_type": "execute_result"
    }
   ],
   "source": [
    "interpolated_cell_phones_total_data_df['1974'].unique()"
   ]
  },
  {
   "cell_type": "code",
   "execution_count": 156,
   "id": "89a75584-391f-4532-bf41-49f9b61b44eb",
   "metadata": {},
   "outputs": [
    {
     "data": {
      "text/plain": [
       "array([ 0., nan])"
      ]
     },
     "execution_count": 156,
     "metadata": {},
     "output_type": "execute_result"
    }
   ],
   "source": [
    "interpolated_cell_phones_total_data_df['1975'].unique()"
   ]
  },
  {
   "cell_type": "code",
   "execution_count": 157,
   "id": "51c6625e-701e-4247-bd5e-59d7989398fe",
   "metadata": {},
   "outputs": [
    {
     "data": {
      "text/plain": [
       "array([ 0., nan])"
      ]
     },
     "execution_count": 157,
     "metadata": {},
     "output_type": "execute_result"
    }
   ],
   "source": [
    "interpolated_cell_phones_total_data_df['1976'].unique()"
   ]
  },
  {
   "cell_type": "code",
   "execution_count": 158,
   "id": "26ac7b96-281b-4aff-9f4e-bb7c89ec72ae",
   "metadata": {},
   "outputs": [
    {
     "data": {
      "text/plain": [
       "array([ 0., nan])"
      ]
     },
     "execution_count": 158,
     "metadata": {},
     "output_type": "execute_result"
    }
   ],
   "source": [
    "interpolated_cell_phones_total_data_df['1977'].unique()"
   ]
  },
  {
   "cell_type": "code",
   "execution_count": 159,
   "id": "061107ae-76ec-457f-b6fb-4e6316d978e1",
   "metadata": {},
   "outputs": [
    {
     "data": {
      "text/plain": [
       "array([ 0., nan])"
      ]
     },
     "execution_count": 159,
     "metadata": {},
     "output_type": "execute_result"
    }
   ],
   "source": [
    "interpolated_cell_phones_total_data_df['1978'].unique()"
   ]
  },
  {
   "cell_type": "code",
   "execution_count": 160,
   "id": "b08523ec-b6b8-47fe-8e24-aa9bba95e33c",
   "metadata": {},
   "outputs": [
    {
     "data": {
      "text/plain": [
       "array([ 0., nan])"
      ]
     },
     "execution_count": 160,
     "metadata": {},
     "output_type": "execute_result"
    }
   ],
   "source": [
    "interpolated_cell_phones_total_data_df['1979'].unique()"
   ]
  },
  {
   "cell_type": "code",
   "execution_count": 161,
   "id": "7bc85229-537c-4c46-8b0a-592a8b7346f8",
   "metadata": {},
   "outputs": [
    {
     "data": {
      "text/plain": [
       "array(['0', nan, '23.5k'], dtype=object)"
      ]
     },
     "execution_count": 161,
     "metadata": {},
     "output_type": "execute_result"
    }
   ],
   "source": [
    "interpolated_cell_phones_total_data_df['1980'].unique()"
   ]
  },
  {
   "cell_type": "markdown",
   "id": "353d7b58-7c91-4d48-84e4-0e031bf2c1b7",
   "metadata": {},
   "source": [
    "\n",
    "##### 1980 is the first year with another value than 0 or nan. \n"
   ]
  },
  {
   "cell_type": "markdown",
   "id": "f0dc2c27-f5a7-4f10-8bc3-6430bc56e426",
   "metadata": {},
   "source": [
    "We have to check whether the value in 1979 is 0 or nan for the countries that have 23.5k for 1980."
   ]
  },
  {
   "cell_type": "code",
   "execution_count": 162,
   "id": "4aa8a334-e399-4895-9921-287fd202ba46",
   "metadata": {},
   "outputs": [],
   "source": [
    "larger_than_zero = interpolated_cell_phones_total_data_df['1980']=='23.5k'"
   ]
  },
  {
   "cell_type": "code",
   "execution_count": 163,
   "id": "eb1ed4c9-130c-45cb-b940-20506c0ff697",
   "metadata": {},
   "outputs": [
    {
     "data": {
      "text/html": [
       "<div>\n",
       "<style scoped>\n",
       "    .dataframe tbody tr th:only-of-type {\n",
       "        vertical-align: middle;\n",
       "    }\n",
       "\n",
       "    .dataframe tbody tr th {\n",
       "        vertical-align: top;\n",
       "    }\n",
       "\n",
       "    .dataframe thead th {\n",
       "        text-align: right;\n",
       "    }\n",
       "</style>\n",
       "<table border=\"1\" class=\"dataframe\">\n",
       "  <thead>\n",
       "    <tr style=\"text-align: right;\">\n",
       "      <th></th>\n",
       "      <th>1960</th>\n",
       "      <th>1965</th>\n",
       "      <th>1966</th>\n",
       "      <th>1967</th>\n",
       "      <th>1968</th>\n",
       "      <th>1969</th>\n",
       "      <th>1970</th>\n",
       "      <th>1971</th>\n",
       "      <th>1972</th>\n",
       "      <th>1973</th>\n",
       "      <th>...</th>\n",
       "      <th>2010</th>\n",
       "      <th>2011</th>\n",
       "      <th>2012</th>\n",
       "      <th>2013</th>\n",
       "      <th>2014</th>\n",
       "      <th>2015</th>\n",
       "      <th>2016</th>\n",
       "      <th>2017</th>\n",
       "      <th>2018</th>\n",
       "      <th>2019</th>\n",
       "    </tr>\n",
       "    <tr>\n",
       "      <th>iso-3</th>\n",
       "      <th></th>\n",
       "      <th></th>\n",
       "      <th></th>\n",
       "      <th></th>\n",
       "      <th></th>\n",
       "      <th></th>\n",
       "      <th></th>\n",
       "      <th></th>\n",
       "      <th></th>\n",
       "      <th></th>\n",
       "      <th></th>\n",
       "      <th></th>\n",
       "      <th></th>\n",
       "      <th></th>\n",
       "      <th></th>\n",
       "      <th></th>\n",
       "      <th></th>\n",
       "      <th></th>\n",
       "      <th></th>\n",
       "      <th></th>\n",
       "      <th></th>\n",
       "    </tr>\n",
       "  </thead>\n",
       "  <tbody>\n",
       "    <tr>\n",
       "      <th>FIN</th>\n",
       "      <td>0.0</td>\n",
       "      <td>0.0</td>\n",
       "      <td>0.0</td>\n",
       "      <td>0.0</td>\n",
       "      <td>0.0</td>\n",
       "      <td>0.0</td>\n",
       "      <td>0.0</td>\n",
       "      <td>NaN</td>\n",
       "      <td>NaN</td>\n",
       "      <td>NaN</td>\n",
       "      <td>...</td>\n",
       "      <td>8.39M</td>\n",
       "      <td>8.94M</td>\n",
       "      <td>9.32M</td>\n",
       "      <td>7.41M</td>\n",
       "      <td>7.6M</td>\n",
       "      <td>7.4M</td>\n",
       "      <td>7.22M</td>\n",
       "      <td>7.16M</td>\n",
       "      <td>7.15M</td>\n",
       "      <td>7.15M</td>\n",
       "    </tr>\n",
       "  </tbody>\n",
       "</table>\n",
       "<p>1 rows × 56 columns</p>\n",
       "</div>"
      ],
      "text/plain": [
       "       1960  1965  1966  1967  1968  1969  1970  1971  1972  1973  ...   2010  \\\n",
       "iso-3                                                              ...          \n",
       "FIN     0.0   0.0   0.0   0.0   0.0   0.0   0.0   NaN   NaN   NaN  ...  8.39M   \n",
       "\n",
       "        2011   2012   2013  2014  2015   2016   2017   2018   2019  \n",
       "iso-3                                                               \n",
       "FIN    8.94M  9.32M  7.41M  7.6M  7.4M  7.22M  7.16M  7.15M  7.15M  \n",
       "\n",
       "[1 rows x 56 columns]"
      ]
     },
     "execution_count": 163,
     "metadata": {},
     "output_type": "execute_result"
    }
   ],
   "source": [
    "interpolated_cell_phones_total_data_df[larger_than_zero]"
   ]
  },
  {
   "cell_type": "code",
   "execution_count": 164,
   "id": "ef15005b-b666-4f09-bec6-b8736e1c7ba7",
   "metadata": {},
   "outputs": [
    {
     "data": {
      "text/plain": [
       "np.float64(0.0)"
      ]
     },
     "execution_count": 164,
     "metadata": {},
     "output_type": "execute_result"
    }
   ],
   "source": [
    "interpolated_cell_phones_total_data_df.loc['FIN', '1979']"
   ]
  },
  {
   "cell_type": "markdown",
   "id": "e8187ed0-2024-4930-887f-a4b0819cbc7d",
   "metadata": {},
   "source": [
    "We see that there is a value for 1979 for Finland, so we don't have to find some value between 0 and 23.5k to replace a nan here."
   ]
  },
  {
   "cell_type": "markdown",
   "id": "b1248a56-d566-4cab-a40f-220ba157b2dd",
   "metadata": {},
   "source": [
    "Consequently, the years 1971 to 1979 may be treated as before."
   ]
  },
  {
   "cell_type": "code",
   "execution_count": 165,
   "id": "23385835-db28-46ea-bc96-40b2ab066ef0",
   "metadata": {},
   "outputs": [],
   "source": [
    "interpolated_cell_phones_total_data_df.loc[:,['1971' , '1972', '1973' , '1974']] = 0"
   ]
  },
  {
   "cell_type": "code",
   "execution_count": 166,
   "id": "c62d3fb7-7b0e-4a9d-aa9d-8ba2d686371a",
   "metadata": {},
   "outputs": [
    {
     "data": {
      "text/plain": [
       "array([0.])"
      ]
     },
     "execution_count": 166,
     "metadata": {},
     "output_type": "execute_result"
    }
   ],
   "source": [
    "interpolated_cell_phones_total_data_df['1973'].unique()"
   ]
  },
  {
   "cell_type": "code",
   "execution_count": 167,
   "id": "72ae967f-1f12-4d4c-8fa4-e50cb5c51533",
   "metadata": {},
   "outputs": [
    {
     "name": "stdout",
     "output_type": "stream",
     "text": [
      "<class 'pandas.core.frame.DataFrame'>\n",
      "Index: 214 entries, ABW to ZWE\n",
      "Data columns (total 56 columns):\n",
      " #   Column  Non-Null Count  Dtype  \n",
      "---  ------  --------------  -----  \n",
      " 0   1960    214 non-null    float64\n",
      " 1   1965    214 non-null    float64\n",
      " 2   1966    214 non-null    float64\n",
      " 3   1967    214 non-null    float64\n",
      " 4   1968    214 non-null    float64\n",
      " 5   1969    214 non-null    float64\n",
      " 6   1970    214 non-null    float64\n",
      " 7   1971    214 non-null    float64\n",
      " 8   1972    214 non-null    float64\n",
      " 9   1973    214 non-null    float64\n",
      " 10  1974    214 non-null    float64\n",
      " 11  1975    200 non-null    float64\n",
      " 12  1976    200 non-null    float64\n",
      " 13  1977    200 non-null    float64\n",
      " 14  1978    200 non-null    float64\n",
      " 15  1979    200 non-null    float64\n",
      " 16  1980    200 non-null    object \n",
      " 17  1981    199 non-null    object \n",
      " 18  1982    199 non-null    object \n",
      " 19  1983    198 non-null    object \n",
      " 20  1984    196 non-null    object \n",
      " 21  1985    195 non-null    object \n",
      " 22  1986    196 non-null    object \n",
      " 23  1987    194 non-null    object \n",
      " 24  1988    195 non-null    object \n",
      " 25  1989    193 non-null    object \n",
      " 26  1990    207 non-null    object \n",
      " 27  1991    196 non-null    object \n",
      " 28  1992    198 non-null    object \n",
      " 29  1993    198 non-null    object \n",
      " 30  1994    198 non-null    object \n",
      " 31  1995    200 non-null    object \n",
      " 32  1996    201 non-null    object \n",
      " 33  1997    200 non-null    object \n",
      " 34  1998    202 non-null    object \n",
      " 35  1999    203 non-null    object \n",
      " 36  2000    204 non-null    object \n",
      " 37  2001    204 non-null    object \n",
      " 38  2002    206 non-null    object \n",
      " 39  2003    206 non-null    object \n",
      " 40  2004    207 non-null    object \n",
      " 41  2005    204 non-null    object \n",
      " 42  2006    201 non-null    object \n",
      " 43  2007    204 non-null    object \n",
      " 44  2008    202 non-null    object \n",
      " 45  2009    204 non-null    object \n",
      " 46  2010    207 non-null    object \n",
      " 47  2011    203 non-null    object \n",
      " 48  2012    207 non-null    object \n",
      " 49  2013    204 non-null    object \n",
      " 50  2014    205 non-null    object \n",
      " 51  2015    207 non-null    object \n",
      " 52  2016    202 non-null    object \n",
      " 53  2017    204 non-null    object \n",
      " 54  2018    182 non-null    object \n",
      " 55  2019    143 non-null    object \n",
      "dtypes: float64(16), object(40)\n",
      "memory usage: 103.4+ KB\n"
     ]
    }
   ],
   "source": [
    "interpolated_cell_phones_total_data_df.info()"
   ]
  },
  {
   "cell_type": "code",
   "execution_count": 168,
   "id": "91550a3e-8aa0-4b73-9cc7-07b495a06212",
   "metadata": {},
   "outputs": [],
   "source": [
    "interpolated_cell_phones_total_data_df['1975'] = cell_phones_total_data_df['1975'].interpolate()"
   ]
  },
  {
   "cell_type": "code",
   "execution_count": 169,
   "id": "b73ac0f5-1780-4d2e-8844-3c852c4bcdf3",
   "metadata": {},
   "outputs": [],
   "source": [
    "interpolated_cell_phones_total_data_df['1976'] = cell_phones_total_data_df['1976'].interpolate()"
   ]
  },
  {
   "cell_type": "code",
   "execution_count": 170,
   "id": "e57b80eb-7470-4667-ab57-1bab69f7faba",
   "metadata": {},
   "outputs": [],
   "source": [
    "interpolated_cell_phones_total_data_df['1977'] = cell_phones_total_data_df['1977'].interpolate()"
   ]
  },
  {
   "cell_type": "code",
   "execution_count": 171,
   "id": "4b7a10d9-5b88-4ca2-9c09-10c97f7a62b1",
   "metadata": {},
   "outputs": [],
   "source": [
    "interpolated_cell_phones_total_data_df['1978'] = cell_phones_total_data_df['1978'].interpolate()"
   ]
  },
  {
   "cell_type": "code",
   "execution_count": 172,
   "id": "3f63b56c-6411-4191-a207-ae587397daa2",
   "metadata": {},
   "outputs": [],
   "source": [
    "interpolated_cell_phones_total_data_df['1979'] = cell_phones_total_data_df['1979'].interpolate()"
   ]
  },
  {
   "cell_type": "code",
   "execution_count": 173,
   "id": "392709cb-b575-4bf8-b717-795ba11d5f0b",
   "metadata": {},
   "outputs": [
    {
     "data": {
      "text/plain": [
       "array([0.])"
      ]
     },
     "execution_count": 173,
     "metadata": {},
     "output_type": "execute_result"
    }
   ],
   "source": [
    "interpolated_cell_phones_total_data_df['1978'].unique()"
   ]
  },
  {
   "cell_type": "code",
   "execution_count": 174,
   "id": "3e4cc053-0564-42c6-a7d7-f963bc900dcf",
   "metadata": {},
   "outputs": [
    {
     "name": "stdout",
     "output_type": "stream",
     "text": [
      "<class 'pandas.core.frame.DataFrame'>\n",
      "Index: 214 entries, ABW to ZWE\n",
      "Data columns (total 56 columns):\n",
      " #   Column  Non-Null Count  Dtype  \n",
      "---  ------  --------------  -----  \n",
      " 0   1960    214 non-null    float64\n",
      " 1   1965    214 non-null    float64\n",
      " 2   1966    214 non-null    float64\n",
      " 3   1967    214 non-null    float64\n",
      " 4   1968    214 non-null    float64\n",
      " 5   1969    214 non-null    float64\n",
      " 6   1970    214 non-null    float64\n",
      " 7   1971    214 non-null    float64\n",
      " 8   1972    214 non-null    float64\n",
      " 9   1973    214 non-null    float64\n",
      " 10  1974    214 non-null    float64\n",
      " 11  1975    214 non-null    float64\n",
      " 12  1976    214 non-null    float64\n",
      " 13  1977    214 non-null    float64\n",
      " 14  1978    214 non-null    float64\n",
      " 15  1979    214 non-null    float64\n",
      " 16  1980    200 non-null    object \n",
      " 17  1981    199 non-null    object \n",
      " 18  1982    199 non-null    object \n",
      " 19  1983    198 non-null    object \n",
      " 20  1984    196 non-null    object \n",
      " 21  1985    195 non-null    object \n",
      " 22  1986    196 non-null    object \n",
      " 23  1987    194 non-null    object \n",
      " 24  1988    195 non-null    object \n",
      " 25  1989    193 non-null    object \n",
      " 26  1990    207 non-null    object \n",
      " 27  1991    196 non-null    object \n",
      " 28  1992    198 non-null    object \n",
      " 29  1993    198 non-null    object \n",
      " 30  1994    198 non-null    object \n",
      " 31  1995    200 non-null    object \n",
      " 32  1996    201 non-null    object \n",
      " 33  1997    200 non-null    object \n",
      " 34  1998    202 non-null    object \n",
      " 35  1999    203 non-null    object \n",
      " 36  2000    204 non-null    object \n",
      " 37  2001    204 non-null    object \n",
      " 38  2002    206 non-null    object \n",
      " 39  2003    206 non-null    object \n",
      " 40  2004    207 non-null    object \n",
      " 41  2005    204 non-null    object \n",
      " 42  2006    201 non-null    object \n",
      " 43  2007    204 non-null    object \n",
      " 44  2008    202 non-null    object \n",
      " 45  2009    204 non-null    object \n",
      " 46  2010    207 non-null    object \n",
      " 47  2011    203 non-null    object \n",
      " 48  2012    207 non-null    object \n",
      " 49  2013    204 non-null    object \n",
      " 50  2014    205 non-null    object \n",
      " 51  2015    207 non-null    object \n",
      " 52  2016    202 non-null    object \n",
      " 53  2017    204 non-null    object \n",
      " 54  2018    182 non-null    object \n",
      " 55  2019    143 non-null    object \n",
      "dtypes: float64(16), object(40)\n",
      "memory usage: 103.4+ KB\n"
     ]
    }
   ],
   "source": [
    "interpolated_cell_phones_total_data_df.info()"
   ]
  },
  {
   "cell_type": "markdown",
   "id": "d627f9b1-16b9-48ac-96d9-2f1455b246ad",
   "metadata": {},
   "source": [
    "\n",
    "#### Convert string values to float\n"
   ]
  },
  {
   "cell_type": "markdown",
   "id": "c3e0b3a1-552c-4a46-8b09-20586f910aaf",
   "metadata": {},
   "source": [
    "For Finland there was the value '23.5k' in 1980. There also was the string value '0' in the column for 1980. These values have to be converted to numbers. The functions defined below can do this."
   ]
  },
  {
   "cell_type": "code",
   "execution_count": 175,
   "id": "f67727c6-bd0c-4c81-81c3-059b0efc7664",
   "metadata": {},
   "outputs": [],
   "source": [
    "def split_number_string(number_string):\n",
    "    '''\n",
    "    Takes a string and if the string contains one of the characters 'k', 'M' or 'B' \n",
    "    converts the string to a float. \n",
    "    \n",
    "    If the string is numeric it will be converted to a float.\n",
    "    \n",
    "    Otherwise the string is returned unchanged.\n",
    "\n",
    "    To be used only by a function that already has\n",
    "    checked that the parameter is a string.\n",
    "    '''\n",
    "    if 'k' in number_string:\n",
    "        number, thousands = number_string.split('k')\n",
    "        # factor = 1000\n",
    "        exponent = '3'\n",
    "        # return float(number) * 1000\n",
    "    elif 'M' in number_string:\n",
    "        number, millions = number_string.split('M')\n",
    "        # factor = 1000000\n",
    "        exponent = '6'\n",
    "        #return float(number) * 1000000\n",
    "    elif 'B' in number_string:\n",
    "        number, billions = number_string.split('B')\n",
    "        # factor = 1000000000\n",
    "        exponent = '9'\n",
    "        # if billions.len == 1:\n",
    "        #     return float(number) * 1000000000        \n",
    "    elif number_string.isnumeric():\n",
    "        return float(number_string)\n",
    "    else:\n",
    "        return number_string\n",
    "\n",
    "    try:\n",
    "        # return float(number)  * factor\n",
    "        return float(number + 'E' + exponent)\n",
    "        # return float(format(number + 'E' + exponent, format_spec='.2e'))\n",
    "        # return float(number + 'E' + exponent, format_spec='.2e')\n",
    "        # return format(float(number + 'E' + exponent, format_spec='.2e'))\n",
    "    except:\n",
    "        return number_string"
   ]
  },
  {
   "cell_type": "code",
   "execution_count": 176,
   "id": "1978d59c-4b9e-4d27-846c-ee41b3142ecb",
   "metadata": {},
   "outputs": [],
   "source": [
    "def suffix_number_strings(x):\n",
    "    '''\n",
    "    Checks if the argument is a string. If so it is passed on\n",
    "    for possible convertion to a number.\n",
    "    '''\n",
    "    if type(x) == str:\n",
    "        return split_number_string(x)\n",
    "    else:\n",
    "        return x"
   ]
  },
  {
   "cell_type": "markdown",
   "id": "8eabb8ba-bc07-4541-8729-2d9c23719bba",
   "metadata": {},
   "source": [
    "\n",
    "##### The converted string values, and all other values will be saved to a new data frame.\n"
   ]
  },
  {
   "cell_type": "code",
   "execution_count": 177,
   "id": "a7766d3c-1c8b-4425-9a09-094042b83967",
   "metadata": {},
   "outputs": [],
   "source": [
    "mapped_interpolated_cell_phones_total_data_df = interpolated_cell_phones_total_data_df.copy()"
   ]
  },
  {
   "cell_type": "code",
   "execution_count": 178,
   "id": "9656b424-e912-4f7a-bcf8-425ca12054ba",
   "metadata": {},
   "outputs": [
    {
     "data": {
      "text/plain": [
       "'23.5k'"
      ]
     },
     "execution_count": 178,
     "metadata": {},
     "output_type": "execute_result"
    }
   ],
   "source": [
    "mapped_interpolated_cell_phones_total_data_df.loc['FIN', '1980']"
   ]
  },
  {
   "cell_type": "markdown",
   "id": "543df0d8-07d3-47bb-81f7-d0f950fde9d1",
   "metadata": {},
   "source": [
    "Use the defined functions to convert strings to numbers, if possible."
   ]
  },
  {
   "cell_type": "code",
   "execution_count": 179,
   "id": "00ea37f6-8f5a-437c-8b44-f8c110f92074",
   "metadata": {},
   "outputs": [],
   "source": [
    "mapped_interpolated_cell_phones_total_data_df = mapped_interpolated_cell_phones_total_data_df.map(suffix_number_strings)"
   ]
  },
  {
   "cell_type": "code",
   "execution_count": 180,
   "id": "3585c617-d90c-4d81-846e-304b5e696109",
   "metadata": {},
   "outputs": [
    {
     "data": {
      "text/plain": [
       "np.float64(23500.0)"
      ]
     },
     "execution_count": 180,
     "metadata": {},
     "output_type": "execute_result"
    }
   ],
   "source": [
    "mapped_interpolated_cell_phones_total_data_df.loc['FIN', '1980']"
   ]
  },
  {
   "cell_type": "code",
   "execution_count": 181,
   "id": "97766754-7b3f-4a9d-9ff5-f6633de3c627",
   "metadata": {},
   "outputs": [
    {
     "data": {
      "text/plain": [
       "array([    0.,    nan, 23500.])"
      ]
     },
     "execution_count": 181,
     "metadata": {},
     "output_type": "execute_result"
    }
   ],
   "source": [
    "mapped_interpolated_cell_phones_total_data_df[ '1980'].unique()"
   ]
  },
  {
   "cell_type": "markdown",
   "id": "4ef782cf-e24c-4010-81d8-1f85b82f4f74",
   "metadata": {},
   "source": [
    "We see that the string values for 1980 have been converted to numbers."
   ]
  },
  {
   "cell_type": "code",
   "execution_count": 182,
   "id": "730b3865-3535-41dc-852c-c21a80ed6887",
   "metadata": {},
   "outputs": [
    {
     "name": "stdout",
     "output_type": "stream",
     "text": [
      "<class 'pandas.core.frame.DataFrame'>\n",
      "Index: 214 entries, ABW to ZWE\n",
      "Data columns (total 56 columns):\n",
      " #   Column  Non-Null Count  Dtype  \n",
      "---  ------  --------------  -----  \n",
      " 0   1960    214 non-null    float64\n",
      " 1   1965    214 non-null    float64\n",
      " 2   1966    214 non-null    float64\n",
      " 3   1967    214 non-null    float64\n",
      " 4   1968    214 non-null    float64\n",
      " 5   1969    214 non-null    float64\n",
      " 6   1970    214 non-null    float64\n",
      " 7   1971    214 non-null    float64\n",
      " 8   1972    214 non-null    float64\n",
      " 9   1973    214 non-null    float64\n",
      " 10  1974    214 non-null    float64\n",
      " 11  1975    214 non-null    float64\n",
      " 12  1976    214 non-null    float64\n",
      " 13  1977    214 non-null    float64\n",
      " 14  1978    214 non-null    float64\n",
      " 15  1979    214 non-null    float64\n",
      " 16  1980    200 non-null    float64\n",
      " 17  1981    199 non-null    float64\n",
      " 18  1982    199 non-null    float64\n",
      " 19  1983    198 non-null    float64\n",
      " 20  1984    196 non-null    float64\n",
      " 21  1985    195 non-null    float64\n",
      " 22  1986    196 non-null    float64\n",
      " 23  1987    194 non-null    float64\n",
      " 24  1988    195 non-null    float64\n",
      " 25  1989    193 non-null    float64\n",
      " 26  1990    207 non-null    float64\n",
      " 27  1991    196 non-null    float64\n",
      " 28  1992    198 non-null    float64\n",
      " 29  1993    198 non-null    float64\n",
      " 30  1994    198 non-null    float64\n",
      " 31  1995    200 non-null    float64\n",
      " 32  1996    201 non-null    float64\n",
      " 33  1997    200 non-null    float64\n",
      " 34  1998    202 non-null    float64\n",
      " 35  1999    203 non-null    float64\n",
      " 36  2000    204 non-null    float64\n",
      " 37  2001    204 non-null    float64\n",
      " 38  2002    206 non-null    float64\n",
      " 39  2003    206 non-null    float64\n",
      " 40  2004    207 non-null    float64\n",
      " 41  2005    204 non-null    float64\n",
      " 42  2006    201 non-null    float64\n",
      " 43  2007    204 non-null    float64\n",
      " 44  2008    202 non-null    float64\n",
      " 45  2009    204 non-null    float64\n",
      " 46  2010    207 non-null    float64\n",
      " 47  2011    203 non-null    float64\n",
      " 48  2012    207 non-null    float64\n",
      " 49  2013    204 non-null    float64\n",
      " 50  2014    205 non-null    float64\n",
      " 51  2015    207 non-null    float64\n",
      " 52  2016    202 non-null    float64\n",
      " 53  2017    204 non-null    float64\n",
      " 54  2018    182 non-null    float64\n",
      " 55  2019    143 non-null    float64\n",
      "dtypes: float64(56)\n",
      "memory usage: 103.4+ KB\n"
     ]
    }
   ],
   "source": [
    "mapped_interpolated_cell_phones_total_data_df.info()"
   ]
  },
  {
   "cell_type": "markdown",
   "id": "6fdbd08e-361a-45b4-a6a7-806b3657f162",
   "metadata": {},
   "source": [
    "\n",
    "##### Dtype for all columns now is float64. This means that it is possible to interpolate away the remaining nan values.\n"
   ]
  },
  {
   "cell_type": "markdown",
   "id": "2cd424a9-7307-478d-a14f-1cc14f842cbf",
   "metadata": {},
   "source": [
    "Since interpolation is not done inplace, we need a new copy."
   ]
  },
  {
   "cell_type": "code",
   "execution_count": 183,
   "id": "9dcb2bbc-9a27-45b3-96ef-183a2bfa9aa7",
   "metadata": {},
   "outputs": [],
   "source": [
    "mapped_interpolated_cell_phones_total_data_df_II = mapped_interpolated_cell_phones_total_data_df.copy()"
   ]
  },
  {
   "cell_type": "code",
   "execution_count": 184,
   "id": "21fb38fb-a013-4c39-85de-a96fd49ed302",
   "metadata": {},
   "outputs": [],
   "source": [
    "#'5'.isnumeric()"
   ]
  },
  {
   "cell_type": "code",
   "execution_count": 185,
   "id": "ef766e3d-c450-4101-904b-8108fc9849e9",
   "metadata": {},
   "outputs": [],
   "source": [
    "#float('5')"
   ]
  },
  {
   "cell_type": "markdown",
   "id": "6bbe091d-75f9-4c9b-93f2-711371cdc85c",
   "metadata": {},
   "source": [
    "\n",
    "##### Continue to handle missing values\n"
   ]
  },
  {
   "cell_type": "markdown",
   "id": "f7a39488-5873-4b43-b66a-7374c3c25d26",
   "metadata": {},
   "source": [
    "Interpolation now must be done row-wise, for each country isolated."
   ]
  },
  {
   "cell_type": "code",
   "execution_count": 186,
   "id": "14a0d2cc-0d9b-45ae-830e-5937d032246f",
   "metadata": {},
   "outputs": [
    {
     "data": {
      "text/plain": [
       "array([    0.,    nan, 23500.])"
      ]
     },
     "execution_count": 186,
     "metadata": {},
     "output_type": "execute_result"
    }
   ],
   "source": [
    "mapped_interpolated_cell_phones_total_data_df['1980'].unique()"
   ]
  },
  {
   "cell_type": "code",
   "execution_count": 187,
   "id": "8cfad4e2-5d04-44d9-b2dd-459cbb529b82",
   "metadata": {},
   "outputs": [
    {
     "data": {
      "text/plain": [
       "array([    0.,    nan, 23500.])"
      ]
     },
     "execution_count": 187,
     "metadata": {},
     "output_type": "execute_result"
    }
   ],
   "source": [
    "mapped_interpolated_cell_phones_total_data_df_II['1980'].unique()"
   ]
  },
  {
   "cell_type": "code",
   "execution_count": 188,
   "id": "4b67bfde-7493-4621-ae6d-6d201ce75ab7",
   "metadata": {},
   "outputs": [
    {
     "data": {
      "text/plain": [
       "array([    0.,    nan, 28300., 13300.,  1670., 20400.])"
      ]
     },
     "execution_count": 188,
     "metadata": {},
     "output_type": "execute_result"
    }
   ],
   "source": [
    "mapped_interpolated_cell_phones_total_data_df['1981'].unique()"
   ]
  },
  {
   "cell_type": "code",
   "execution_count": 189,
   "id": "3f08aa9b-128c-4486-83b6-8970a1573e8e",
   "metadata": {},
   "outputs": [
    {
     "data": {
      "text/plain": [
       "array([    0.,    nan, 28300., 13300.,  1670., 20400.])"
      ]
     },
     "execution_count": 189,
     "metadata": {},
     "output_type": "execute_result"
    }
   ],
   "source": [
    "mapped_interpolated_cell_phones_total_data_df_II['1981'].unique()"
   ]
  },
  {
   "cell_type": "code",
   "execution_count": 190,
   "id": "f0e0dafa-7f27-48fa-a4f0-36d5890eee67",
   "metadata": {},
   "outputs": [],
   "source": [
    "# mapped_interpolated_cell_phones_total_data_df_II.loc['ABW',['1980','1990']]"
   ]
  },
  {
   "cell_type": "markdown",
   "id": "64d7523d-08ac-4fdc-a28d-01bc3da582f3",
   "metadata": {},
   "source": [
    "Check some values before interpolation"
   ]
  },
  {
   "cell_type": "code",
   "execution_count": 191,
   "id": "b9f7e882-9e18-4a1d-9349-de3bece0d944",
   "metadata": {},
   "outputs": [
    {
     "data": {
      "text/html": [
       "<div>\n",
       "<style scoped>\n",
       "    .dataframe tbody tr th:only-of-type {\n",
       "        vertical-align: middle;\n",
       "    }\n",
       "\n",
       "    .dataframe tbody tr th {\n",
       "        vertical-align: top;\n",
       "    }\n",
       "\n",
       "    .dataframe thead th {\n",
       "        text-align: right;\n",
       "    }\n",
       "</style>\n",
       "<table border=\"1\" class=\"dataframe\">\n",
       "  <thead>\n",
       "    <tr style=\"text-align: right;\">\n",
       "      <th></th>\n",
       "      <th>2004</th>\n",
       "      <th>2005</th>\n",
       "      <th>2006</th>\n",
       "      <th>2007</th>\n",
       "      <th>2008</th>\n",
       "      <th>2009</th>\n",
       "      <th>2010</th>\n",
       "      <th>2011</th>\n",
       "      <th>2012</th>\n",
       "    </tr>\n",
       "    <tr>\n",
       "      <th>iso-3</th>\n",
       "      <th></th>\n",
       "      <th></th>\n",
       "      <th></th>\n",
       "      <th></th>\n",
       "      <th></th>\n",
       "      <th></th>\n",
       "      <th></th>\n",
       "      <th></th>\n",
       "      <th></th>\n",
       "    </tr>\n",
       "  </thead>\n",
       "  <tbody>\n",
       "    <tr>\n",
       "      <th>VUT</th>\n",
       "      <td>10500.0</td>\n",
       "      <td>12700.0</td>\n",
       "      <td>15000.0</td>\n",
       "      <td>26000.0</td>\n",
       "      <td>36000.0</td>\n",
       "      <td>132000.0</td>\n",
       "      <td>170000.0</td>\n",
       "      <td>137000.0</td>\n",
       "      <td>146000.0</td>\n",
       "    </tr>\n",
       "    <tr>\n",
       "      <th>WSM</th>\n",
       "      <td>16000.0</td>\n",
       "      <td>24000.0</td>\n",
       "      <td>45500.0</td>\n",
       "      <td>86000.0</td>\n",
       "      <td>NaN</td>\n",
       "      <td>NaN</td>\n",
       "      <td>90000.0</td>\n",
       "      <td>NaN</td>\n",
       "      <td>100000.0</td>\n",
       "    </tr>\n",
       "    <tr>\n",
       "      <th>XKX</th>\n",
       "      <td>NaN</td>\n",
       "      <td>562000.0</td>\n",
       "      <td>562000.0</td>\n",
       "      <td>562000.0</td>\n",
       "      <td>562000.0</td>\n",
       "      <td>562000.0</td>\n",
       "      <td>562000.0</td>\n",
       "      <td>NaN</td>\n",
       "      <td>NaN</td>\n",
       "    </tr>\n",
       "    <tr>\n",
       "      <th>YEM</th>\n",
       "      <td>1480000.0</td>\n",
       "      <td>2280000.0</td>\n",
       "      <td>2980000.0</td>\n",
       "      <td>4350000.0</td>\n",
       "      <td>6450000.0</td>\n",
       "      <td>8310000.0</td>\n",
       "      <td>11100000.0</td>\n",
       "      <td>11700000.0</td>\n",
       "      <td>13900000.0</td>\n",
       "    </tr>\n",
       "  </tbody>\n",
       "</table>\n",
       "</div>"
      ],
      "text/plain": [
       "            2004       2005       2006       2007       2008       2009  \\\n",
       "iso-3                                                                     \n",
       "VUT      10500.0    12700.0    15000.0    26000.0    36000.0   132000.0   \n",
       "WSM      16000.0    24000.0    45500.0    86000.0        NaN        NaN   \n",
       "XKX          NaN   562000.0   562000.0   562000.0   562000.0   562000.0   \n",
       "YEM    1480000.0  2280000.0  2980000.0  4350000.0  6450000.0  8310000.0   \n",
       "\n",
       "             2010        2011        2012  \n",
       "iso-3                                      \n",
       "VUT      170000.0    137000.0    146000.0  \n",
       "WSM       90000.0         NaN    100000.0  \n",
       "XKX      562000.0         NaN         NaN  \n",
       "YEM    11100000.0  11700000.0  13900000.0  "
      ]
     },
     "execution_count": 191,
     "metadata": {},
     "output_type": "execute_result"
    }
   ],
   "source": [
    "mapped_interpolated_cell_phones_total_data_df.loc['VUT':'YEM', '2004':'2012']"
   ]
  },
  {
   "cell_type": "markdown",
   "id": "f7c572dd-e5e1-47f0-b12f-0dcd364739ed",
   "metadata": {},
   "source": [
    "Interpolate row-wise"
   ]
  },
  {
   "cell_type": "code",
   "execution_count": 192,
   "id": "709b40e6-4c33-4e3f-874b-9683e9fb696a",
   "metadata": {},
   "outputs": [],
   "source": [
    "# mapped_interpolated_cell_phones_total_data_df_II = mapped_interpolated_cell_phones_total_data_df.interpolate(method='pad')"
   ]
  },
  {
   "cell_type": "code",
   "execution_count": 193,
   "id": "1a868416-39fa-466d-83ce-c68e5f000015",
   "metadata": {},
   "outputs": [],
   "source": [
    "# mapped_interpolated_cell_phones_total_data_df_II = mapped_interpolated_cell_phones_total_data_df.interpolate(method='from_derivative')"
   ]
  },
  {
   "cell_type": "code",
   "execution_count": 194,
   "id": "a9d0c992-6466-43da-8974-78c130fbc7a0",
   "metadata": {},
   "outputs": [],
   "source": [
    "# mapped_interpolated_cell_phones_total_data_df_II = mapped_interpolated_cell_phones_total_data_df.interpolate(method='quadratic')"
   ]
  },
  {
   "cell_type": "code",
   "execution_count": 195,
   "id": "6dbb22eb-01a8-4efe-8dd8-ca0a4c50be3c",
   "metadata": {},
   "outputs": [],
   "source": [
    "# mapped_interpolated_cell_phones_total_data_df_II = mapped_interpolated_cell_phones_total_data_df.interpolate(method='index', axis='index')"
   ]
  },
  {
   "cell_type": "markdown",
   "id": "718ad656-8a27-4946-81b2-6fa0fcd89538",
   "metadata": {},
   "source": [
    "axis=1 means interpolate row-wise. limit_area='inside' means interpolate, not extrapolate, needed for the requested table. This leaves a lot of NaN untreated!!"
   ]
  },
  {
   "cell_type": "code",
   "execution_count": 196,
   "id": "0513e2a4-0abb-41db-918f-7853245eae95",
   "metadata": {},
   "outputs": [],
   "source": [
    "# mapped_interpolated_cell_phones_total_data_df_II = mapped_interpolated_cell_phones_total_data_df.interpolate(axis=1, limit_area='inside')"
   ]
  },
  {
   "cell_type": "code",
   "execution_count": 197,
   "id": "c5e43a2d-5747-4cc1-af3b-e148d5c343b6",
   "metadata": {},
   "outputs": [],
   "source": [
    "# mapped_interpolated_cell_phones_total_data_df_II = mapped_interpolated_cell_phones_total_data_df.interpolate(axis=1, limit=56, limit_area='inside')"
   ]
  },
  {
   "cell_type": "code",
   "execution_count": 198,
   "id": "73256b23-5f79-442e-a836-3ed1b6018860",
   "metadata": {},
   "outputs": [],
   "source": [
    "mapped_interpolated_cell_phones_total_data_df_II = mapped_interpolated_cell_phones_total_data_df.interpolate(axis=1)"
   ]
  },
  {
   "cell_type": "code",
   "execution_count": 199,
   "id": "980222bd-fabe-4e9e-a2d2-a0dcb500ffc1",
   "metadata": {},
   "outputs": [
    {
     "data": {
      "text/html": [
       "<div>\n",
       "<style scoped>\n",
       "    .dataframe tbody tr th:only-of-type {\n",
       "        vertical-align: middle;\n",
       "    }\n",
       "\n",
       "    .dataframe tbody tr th {\n",
       "        vertical-align: top;\n",
       "    }\n",
       "\n",
       "    .dataframe thead th {\n",
       "        text-align: right;\n",
       "    }\n",
       "</style>\n",
       "<table border=\"1\" class=\"dataframe\">\n",
       "  <thead>\n",
       "    <tr style=\"text-align: right;\">\n",
       "      <th></th>\n",
       "      <th>2004</th>\n",
       "      <th>2005</th>\n",
       "      <th>2006</th>\n",
       "      <th>2007</th>\n",
       "      <th>2008</th>\n",
       "      <th>2009</th>\n",
       "      <th>2010</th>\n",
       "      <th>2011</th>\n",
       "      <th>2012</th>\n",
       "    </tr>\n",
       "    <tr>\n",
       "      <th>iso-3</th>\n",
       "      <th></th>\n",
       "      <th></th>\n",
       "      <th></th>\n",
       "      <th></th>\n",
       "      <th></th>\n",
       "      <th></th>\n",
       "      <th></th>\n",
       "      <th></th>\n",
       "      <th></th>\n",
       "    </tr>\n",
       "  </thead>\n",
       "  <tbody>\n",
       "    <tr>\n",
       "      <th>VUT</th>\n",
       "      <td>10500.0</td>\n",
       "      <td>12700.0</td>\n",
       "      <td>15000.0</td>\n",
       "      <td>26000.0</td>\n",
       "      <td>36000.0</td>\n",
       "      <td>132000.0</td>\n",
       "      <td>170000.0</td>\n",
       "      <td>137000.0</td>\n",
       "      <td>146000.0</td>\n",
       "    </tr>\n",
       "    <tr>\n",
       "      <th>WSM</th>\n",
       "      <td>16000.0</td>\n",
       "      <td>24000.0</td>\n",
       "      <td>45500.0</td>\n",
       "      <td>86000.0</td>\n",
       "      <td>NaN</td>\n",
       "      <td>NaN</td>\n",
       "      <td>90000.0</td>\n",
       "      <td>NaN</td>\n",
       "      <td>100000.0</td>\n",
       "    </tr>\n",
       "    <tr>\n",
       "      <th>XKX</th>\n",
       "      <td>NaN</td>\n",
       "      <td>562000.0</td>\n",
       "      <td>562000.0</td>\n",
       "      <td>562000.0</td>\n",
       "      <td>562000.0</td>\n",
       "      <td>562000.0</td>\n",
       "      <td>562000.0</td>\n",
       "      <td>NaN</td>\n",
       "      <td>NaN</td>\n",
       "    </tr>\n",
       "    <tr>\n",
       "      <th>YEM</th>\n",
       "      <td>1480000.0</td>\n",
       "      <td>2280000.0</td>\n",
       "      <td>2980000.0</td>\n",
       "      <td>4350000.0</td>\n",
       "      <td>6450000.0</td>\n",
       "      <td>8310000.0</td>\n",
       "      <td>11100000.0</td>\n",
       "      <td>11700000.0</td>\n",
       "      <td>13900000.0</td>\n",
       "    </tr>\n",
       "  </tbody>\n",
       "</table>\n",
       "</div>"
      ],
      "text/plain": [
       "            2004       2005       2006       2007       2008       2009  \\\n",
       "iso-3                                                                     \n",
       "VUT      10500.0    12700.0    15000.0    26000.0    36000.0   132000.0   \n",
       "WSM      16000.0    24000.0    45500.0    86000.0        NaN        NaN   \n",
       "XKX          NaN   562000.0   562000.0   562000.0   562000.0   562000.0   \n",
       "YEM    1480000.0  2280000.0  2980000.0  4350000.0  6450000.0  8310000.0   \n",
       "\n",
       "             2010        2011        2012  \n",
       "iso-3                                      \n",
       "VUT      170000.0    137000.0    146000.0  \n",
       "WSM       90000.0         NaN    100000.0  \n",
       "XKX      562000.0         NaN         NaN  \n",
       "YEM    11100000.0  11700000.0  13900000.0  "
      ]
     },
     "execution_count": 199,
     "metadata": {},
     "output_type": "execute_result"
    }
   ],
   "source": [
    "mapped_interpolated_cell_phones_total_data_df.loc['VUT':'YEM', '2004':'2012']"
   ]
  },
  {
   "cell_type": "code",
   "execution_count": 200,
   "id": "bccf97d8-455f-439e-88ae-ae5cdb0b6cf6",
   "metadata": {},
   "outputs": [
    {
     "data": {
      "text/html": [
       "<div>\n",
       "<style scoped>\n",
       "    .dataframe tbody tr th:only-of-type {\n",
       "        vertical-align: middle;\n",
       "    }\n",
       "\n",
       "    .dataframe tbody tr th {\n",
       "        vertical-align: top;\n",
       "    }\n",
       "\n",
       "    .dataframe thead th {\n",
       "        text-align: right;\n",
       "    }\n",
       "</style>\n",
       "<table border=\"1\" class=\"dataframe\">\n",
       "  <thead>\n",
       "    <tr style=\"text-align: right;\">\n",
       "      <th></th>\n",
       "      <th>2004</th>\n",
       "      <th>2005</th>\n",
       "      <th>2006</th>\n",
       "      <th>2007</th>\n",
       "      <th>2008</th>\n",
       "      <th>2009</th>\n",
       "      <th>2010</th>\n",
       "      <th>2011</th>\n",
       "      <th>2012</th>\n",
       "    </tr>\n",
       "    <tr>\n",
       "      <th>iso-3</th>\n",
       "      <th></th>\n",
       "      <th></th>\n",
       "      <th></th>\n",
       "      <th></th>\n",
       "      <th></th>\n",
       "      <th></th>\n",
       "      <th></th>\n",
       "      <th></th>\n",
       "      <th></th>\n",
       "    </tr>\n",
       "  </thead>\n",
       "  <tbody>\n",
       "    <tr>\n",
       "      <th>VUT</th>\n",
       "      <td>1.050000e+04</td>\n",
       "      <td>12700.0</td>\n",
       "      <td>15000.0</td>\n",
       "      <td>26000.0</td>\n",
       "      <td>3.600000e+04</td>\n",
       "      <td>1.320000e+05</td>\n",
       "      <td>170000.0</td>\n",
       "      <td>137000.0</td>\n",
       "      <td>146000.0</td>\n",
       "    </tr>\n",
       "    <tr>\n",
       "      <th>WSM</th>\n",
       "      <td>1.600000e+04</td>\n",
       "      <td>24000.0</td>\n",
       "      <td>45500.0</td>\n",
       "      <td>86000.0</td>\n",
       "      <td>8.733333e+04</td>\n",
       "      <td>8.866667e+04</td>\n",
       "      <td>90000.0</td>\n",
       "      <td>95000.0</td>\n",
       "      <td>100000.0</td>\n",
       "    </tr>\n",
       "    <tr>\n",
       "      <th>XKX</th>\n",
       "      <td>5.403846e+05</td>\n",
       "      <td>562000.0</td>\n",
       "      <td>562000.0</td>\n",
       "      <td>562000.0</td>\n",
       "      <td>5.620000e+05</td>\n",
       "      <td>5.620000e+05</td>\n",
       "      <td>562000.0</td>\n",
       "      <td>562000.0</td>\n",
       "      <td>562000.0</td>\n",
       "    </tr>\n",
       "    <tr>\n",
       "      <th>YEM</th>\n",
       "      <td>1.480000e+06</td>\n",
       "      <td>2280000.0</td>\n",
       "      <td>2980000.0</td>\n",
       "      <td>4350000.0</td>\n",
       "      <td>6.450000e+06</td>\n",
       "      <td>8.310000e+06</td>\n",
       "      <td>11100000.0</td>\n",
       "      <td>11700000.0</td>\n",
       "      <td>13900000.0</td>\n",
       "    </tr>\n",
       "  </tbody>\n",
       "</table>\n",
       "</div>"
      ],
      "text/plain": [
       "               2004       2005       2006       2007          2008  \\\n",
       "iso-3                                                                \n",
       "VUT    1.050000e+04    12700.0    15000.0    26000.0  3.600000e+04   \n",
       "WSM    1.600000e+04    24000.0    45500.0    86000.0  8.733333e+04   \n",
       "XKX    5.403846e+05   562000.0   562000.0   562000.0  5.620000e+05   \n",
       "YEM    1.480000e+06  2280000.0  2980000.0  4350000.0  6.450000e+06   \n",
       "\n",
       "               2009        2010        2011        2012  \n",
       "iso-3                                                    \n",
       "VUT    1.320000e+05    170000.0    137000.0    146000.0  \n",
       "WSM    8.866667e+04     90000.0     95000.0    100000.0  \n",
       "XKX    5.620000e+05    562000.0    562000.0    562000.0  \n",
       "YEM    8.310000e+06  11100000.0  11700000.0  13900000.0  "
      ]
     },
     "execution_count": 200,
     "metadata": {},
     "output_type": "execute_result"
    }
   ],
   "source": [
    "mapped_interpolated_cell_phones_total_data_df_II.loc['VUT':'YEM', '2004':'2012']"
   ]
  },
  {
   "cell_type": "markdown",
   "id": "c15ceed0-5afd-4a63-83c2-a5087102ca82",
   "metadata": {},
   "source": [
    "Looking at the row for WSM, it is clear that the NaNs have been replaced by interpolated values before and after them. The values on the rows above and below tha NaNs of WSM have not influenced the new values."
   ]
  },
  {
   "cell_type": "code",
   "execution_count": 201,
   "id": "cc91d41f-40af-455b-813c-accd9d34256c",
   "metadata": {},
   "outputs": [
    {
     "name": "stdout",
     "output_type": "stream",
     "text": [
      "<class 'pandas.core.frame.DataFrame'>\n",
      "Index: 214 entries, ABW to ZWE\n",
      "Data columns (total 56 columns):\n",
      " #   Column  Non-Null Count  Dtype  \n",
      "---  ------  --------------  -----  \n",
      " 0   1960    214 non-null    float64\n",
      " 1   1965    214 non-null    float64\n",
      " 2   1966    214 non-null    float64\n",
      " 3   1967    214 non-null    float64\n",
      " 4   1968    214 non-null    float64\n",
      " 5   1969    214 non-null    float64\n",
      " 6   1970    214 non-null    float64\n",
      " 7   1971    214 non-null    float64\n",
      " 8   1972    214 non-null    float64\n",
      " 9   1973    214 non-null    float64\n",
      " 10  1974    214 non-null    float64\n",
      " 11  1975    214 non-null    float64\n",
      " 12  1976    214 non-null    float64\n",
      " 13  1977    214 non-null    float64\n",
      " 14  1978    214 non-null    float64\n",
      " 15  1979    214 non-null    float64\n",
      " 16  1980    214 non-null    float64\n",
      " 17  1981    214 non-null    float64\n",
      " 18  1982    214 non-null    float64\n",
      " 19  1983    214 non-null    float64\n",
      " 20  1984    214 non-null    float64\n",
      " 21  1985    214 non-null    float64\n",
      " 22  1986    214 non-null    float64\n",
      " 23  1987    214 non-null    float64\n",
      " 24  1988    214 non-null    float64\n",
      " 25  1989    214 non-null    float64\n",
      " 26  1990    214 non-null    float64\n",
      " 27  1991    214 non-null    float64\n",
      " 28  1992    214 non-null    float64\n",
      " 29  1993    214 non-null    float64\n",
      " 30  1994    214 non-null    float64\n",
      " 31  1995    214 non-null    float64\n",
      " 32  1996    214 non-null    float64\n",
      " 33  1997    214 non-null    float64\n",
      " 34  1998    214 non-null    float64\n",
      " 35  1999    214 non-null    float64\n",
      " 36  2000    214 non-null    float64\n",
      " 37  2001    214 non-null    float64\n",
      " 38  2002    214 non-null    float64\n",
      " 39  2003    214 non-null    float64\n",
      " 40  2004    214 non-null    float64\n",
      " 41  2005    214 non-null    float64\n",
      " 42  2006    214 non-null    float64\n",
      " 43  2007    214 non-null    float64\n",
      " 44  2008    214 non-null    float64\n",
      " 45  2009    214 non-null    float64\n",
      " 46  2010    214 non-null    float64\n",
      " 47  2011    214 non-null    float64\n",
      " 48  2012    214 non-null    float64\n",
      " 49  2013    214 non-null    float64\n",
      " 50  2014    214 non-null    float64\n",
      " 51  2015    214 non-null    float64\n",
      " 52  2016    214 non-null    float64\n",
      " 53  2017    214 non-null    float64\n",
      " 54  2018    214 non-null    float64\n",
      " 55  2019    214 non-null    float64\n",
      "dtypes: float64(56)\n",
      "memory usage: 103.4+ KB\n"
     ]
    }
   ],
   "source": [
    "mapped_interpolated_cell_phones_total_data_df_II.info()"
   ]
  },
  {
   "cell_type": "markdown",
   "id": "300ac33b-720b-4662-8b5c-6b760e4a9dc7",
   "metadata": {},
   "source": [
    "\n",
    "##### There is no NaN in the data frame now.\n"
   ]
  },
  {
   "cell_type": "code",
   "execution_count": 202,
   "id": "151c2afd-7cca-4139-b01e-7ea077f8e0b6",
   "metadata": {},
   "outputs": [],
   "source": [
    "#columns_to_interpolate=['1980', '1981']"
   ]
  },
  {
   "cell_type": "code",
   "execution_count": 203,
   "id": "e35b04c3-35ee-4ab7-986e-eb17323455ef",
   "metadata": {},
   "outputs": [],
   "source": [
    "# mapped_interpolated_cell_phones_total_data_df_II.loc[:,columns_to_interpolate] = mapped_interpolated_cell_phones_total_data_df.loc[:,columns_to_interpolate] .interpolate()"
   ]
  },
  {
   "cell_type": "code",
   "execution_count": 204,
   "id": "0a690743-3f3e-4946-b363-dae4a667c3fe",
   "metadata": {},
   "outputs": [],
   "source": [
    "# mapped_interpolated_cell_phones_total_data_df['1981'].unique()"
   ]
  },
  {
   "cell_type": "code",
   "execution_count": 205,
   "id": "7fa78077-8364-4767-ad40-1f7d8b28cf84",
   "metadata": {},
   "outputs": [],
   "source": [
    "# mapped_interpolated_cell_phones_total_data_df_II['1981'].unique()"
   ]
  },
  {
   "cell_type": "code",
   "execution_count": 206,
   "id": "1eb778e5-7fc8-4815-b563-2708ffec150f",
   "metadata": {},
   "outputs": [],
   "source": [
    "# Check that the interpolation is done row-wise and not column-wise"
   ]
  },
  {
   "cell_type": "code",
   "execution_count": 207,
   "id": "44df3a7a-60b1-4fc8-a2d4-125e36160999",
   "metadata": {},
   "outputs": [],
   "source": [
    "# mapped_interpolated_cell_phones_total_data_df.iloc[10:20,:].index"
   ]
  },
  {
   "cell_type": "code",
   "execution_count": 208,
   "id": "6376359f-806e-42d4-9dd6-d71cb79c856d",
   "metadata": {},
   "outputs": [],
   "source": [
    "# mapped_interpolated_cell_phones_total_data_df.iloc[50:80,:].index"
   ]
  },
  {
   "cell_type": "code",
   "execution_count": 209,
   "id": "c7f019c0-f55a-4691-b6b3-3562aef27425",
   "metadata": {},
   "outputs": [],
   "source": [
    "# mapped_interpolated_cell_phones_total_data_df.index"
   ]
  },
  {
   "cell_type": "code",
   "execution_count": 210,
   "id": "f2de71d1-d09c-43cd-8c1c-9234a4eef71e",
   "metadata": {},
   "outputs": [],
   "source": [
    "# mapped_interpolated_cell_phones_total_data_df.loc['EST':'FRA', '1980':'1982']"
   ]
  },
  {
   "cell_type": "code",
   "execution_count": 211,
   "id": "28ca9ae2-6778-40bb-80e5-2542baf55632",
   "metadata": {},
   "outputs": [],
   "source": [
    "# mapped_interpolated_cell_phones_total_data_df.loc['VNM':'ZAF', '2004':'2012']"
   ]
  },
  {
   "cell_type": "code",
   "execution_count": 212,
   "id": "27311525-7e56-41a2-b81c-769f66933d92",
   "metadata": {},
   "outputs": [],
   "source": [
    "# mapped_interpolated_cell_phones_total_data_df.loc['VNM':'ZAF', '1991':'2009']"
   ]
  },
  {
   "cell_type": "code",
   "execution_count": 213,
   "id": "0cb9892f-5ae3-461b-b912-4a6b7ce8eeb4",
   "metadata": {},
   "outputs": [],
   "source": [
    "# mapped_interpolated_cell_phones_total_data_df.loc['VNM':'ZAF', '1980':'1997']"
   ]
  },
  {
   "cell_type": "code",
   "execution_count": 214,
   "id": "408eef6c-c072-43ea-a82c-c26dc8e3e3a6",
   "metadata": {},
   "outputs": [],
   "source": [
    "# mapped_interpolated_cell_phones_total_data_df_II.loc['VNM':'ZAF', '1980':'1982']"
   ]
  },
  {
   "cell_type": "code",
   "execution_count": 215,
   "id": "01f93712-036c-4f68-a704-0c7c1d235705",
   "metadata": {},
   "outputs": [],
   "source": [
    "# It is hard to tell along which axis interpolation is done, using the data above. Default interpolation axis is None, so set this in the call!!"
   ]
  },
  {
   "cell_type": "code",
   "execution_count": 216,
   "id": "c21d0bbf-3f6b-40e2-911c-38b0cedf7ef1",
   "metadata": {},
   "outputs": [],
   "source": [
    "# mapped_interpolated_cell_phones_total_data_df_II['1982'].unique()"
   ]
  },
  {
   "cell_type": "code",
   "execution_count": 217,
   "id": "703dbd43-a03c-4a4e-8ebe-09e48f6a2648",
   "metadata": {},
   "outputs": [],
   "source": [
    "# columns_to_interpolate_II=['1982', '1983', '1984', '1985', '1986', '1987', '1988', '1989', '1990', '1991', '1992', '1993']"
   ]
  },
  {
   "cell_type": "code",
   "execution_count": 218,
   "id": "11789c6b-1cfd-4694-bf68-5f8e2b230c27",
   "metadata": {},
   "outputs": [],
   "source": [
    "# mapped_interpolated_cell_phones_total_data_df_II.loc[:,columns_to_interpolate_II] = mapped_interpolated_cell_phones_total_data_df.loc[:,columns_to_interpolate_II] .interpolate()"
   ]
  },
  {
   "cell_type": "code",
   "execution_count": 219,
   "id": "d82ce284-0ef2-4c0e-a24b-a4651d9b4f7e",
   "metadata": {},
   "outputs": [],
   "source": [
    "# mapped_interpolated_cell_phones_total_data_df['1982'].unique()"
   ]
  },
  {
   "cell_type": "code",
   "execution_count": 220,
   "id": "a5f8e254-278d-480f-a6b0-9f67d55eb9cb",
   "metadata": {},
   "outputs": [],
   "source": [
    "# mapped_interpolated_cell_phones_total_data_df_II['1982'].unique()"
   ]
  },
  {
   "cell_type": "code",
   "execution_count": 221,
   "id": "5a5a059a-5408-416c-b8b0-272bcc5152e3",
   "metadata": {},
   "outputs": [],
   "source": [
    "# columns_to_interpolate_III=['1994', '1995', '1996', '1997', '1998', '1999', '2000', '2001', '2002', '2003', '2004', '2005']"
   ]
  },
  {
   "cell_type": "code",
   "execution_count": 222,
   "id": "6ad6c945-51db-4a8a-b8f4-03a95e128500",
   "metadata": {},
   "outputs": [],
   "source": [
    "# flags = cell_phones_total_data_df.flags"
   ]
  },
  {
   "cell_type": "code",
   "execution_count": 223,
   "id": "c044392b-8d68-419b-a8be-f9d3697648e9",
   "metadata": {},
   "outputs": [],
   "source": [
    "# flags"
   ]
  },
  {
   "cell_type": "code",
   "execution_count": 224,
   "id": "7e4de67e-4a24-4b23-90c2-34401a9d85ed",
   "metadata": {},
   "outputs": [],
   "source": [
    "# cell_phones_total_data_df.style # gives the whole table"
   ]
  },
  {
   "cell_type": "code",
   "execution_count": 225,
   "id": "ac6519f4-2bdb-4e23-8006-0f421b189c7e",
   "metadata": {},
   "outputs": [],
   "source": [
    "# Some values"
   ]
  },
  {
   "cell_type": "code",
   "execution_count": 226,
   "id": "b7eed366-cee6-41e1-8d43-fb63403fd01b",
   "metadata": {},
   "outputs": [],
   "source": [
    "# cell_phones_total_data_df.iloc[0:4,0:4]"
   ]
  },
  {
   "cell_type": "markdown",
   "id": "b5ec7af2-29c3-4a28-97b4-d480461018ea",
   "metadata": {},
   "source": [
    "\n",
    "#### Create table asked for in the assignment\n"
   ]
  },
  {
   "cell_type": "code",
   "execution_count": 227,
   "id": "0125c657-e799-40c7-b1dd-0bb380a1afed",
   "metadata": {},
   "outputs": [],
   "source": [
    "relevant_iso_3 = ['CHN', 'IND', 'USA', 'IDN', 'BRA']"
   ]
  },
  {
   "cell_type": "code",
   "execution_count": 228,
   "id": "ab53dbf2-b4c1-4d29-8797-6eb06fc81ce7",
   "metadata": {},
   "outputs": [],
   "source": [
    "relevant_columns = ['2015','2016','2017','2018','2019']"
   ]
  },
  {
   "cell_type": "code",
   "execution_count": 229,
   "id": "5b1fb3ca-5723-499a-a86a-24f7c56df9d4",
   "metadata": {},
   "outputs": [
    {
     "data": {
      "text/html": [
       "<div>\n",
       "<style scoped>\n",
       "    .dataframe tbody tr th:only-of-type {\n",
       "        vertical-align: middle;\n",
       "    }\n",
       "\n",
       "    .dataframe tbody tr th {\n",
       "        vertical-align: top;\n",
       "    }\n",
       "\n",
       "    .dataframe thead th {\n",
       "        text-align: right;\n",
       "    }\n",
       "</style>\n",
       "<table border=\"1\" class=\"dataframe\">\n",
       "  <thead>\n",
       "    <tr style=\"text-align: right;\">\n",
       "      <th></th>\n",
       "      <th>2015</th>\n",
       "      <th>2016</th>\n",
       "      <th>2017</th>\n",
       "      <th>2018</th>\n",
       "      <th>2019</th>\n",
       "    </tr>\n",
       "    <tr>\n",
       "      <th>iso-3</th>\n",
       "      <th></th>\n",
       "      <th></th>\n",
       "      <th></th>\n",
       "      <th></th>\n",
       "      <th></th>\n",
       "    </tr>\n",
       "  </thead>\n",
       "  <tbody>\n",
       "    <tr>\n",
       "      <th>CHN</th>\n",
       "      <td>1.290000e+09</td>\n",
       "      <td>1.360000e+09</td>\n",
       "      <td>1.470000e+09</td>\n",
       "      <td>1.650000e+09</td>\n",
       "      <td>1.730000e+09</td>\n",
       "    </tr>\n",
       "    <tr>\n",
       "      <th>IND</th>\n",
       "      <td>1.000000e+09</td>\n",
       "      <td>1.130000e+09</td>\n",
       "      <td>1.170000e+09</td>\n",
       "      <td>1.180000e+09</td>\n",
       "      <td>1.150000e+09</td>\n",
       "    </tr>\n",
       "    <tr>\n",
       "      <th>USA</th>\n",
       "      <td>3.820000e+08</td>\n",
       "      <td>3.960000e+08</td>\n",
       "      <td>4.000000e+08</td>\n",
       "      <td>4.220000e+08</td>\n",
       "      <td>4.220000e+08</td>\n",
       "    </tr>\n",
       "    <tr>\n",
       "      <th>IDN</th>\n",
       "      <td>3.390000e+08</td>\n",
       "      <td>3.860000e+08</td>\n",
       "      <td>4.350000e+08</td>\n",
       "      <td>3.190000e+08</td>\n",
       "      <td>3.450000e+08</td>\n",
       "    </tr>\n",
       "    <tr>\n",
       "      <th>BRA</th>\n",
       "      <td>2.580000e+08</td>\n",
       "      <td>2.440000e+08</td>\n",
       "      <td>2.180000e+08</td>\n",
       "      <td>2.070000e+08</td>\n",
       "      <td>2.070000e+08</td>\n",
       "    </tr>\n",
       "  </tbody>\n",
       "</table>\n",
       "</div>"
      ],
      "text/plain": [
       "               2015          2016          2017          2018          2019\n",
       "iso-3                                                                      \n",
       "CHN    1.290000e+09  1.360000e+09  1.470000e+09  1.650000e+09  1.730000e+09\n",
       "IND    1.000000e+09  1.130000e+09  1.170000e+09  1.180000e+09  1.150000e+09\n",
       "USA    3.820000e+08  3.960000e+08  4.000000e+08  4.220000e+08  4.220000e+08\n",
       "IDN    3.390000e+08  3.860000e+08  4.350000e+08  3.190000e+08  3.450000e+08\n",
       "BRA    2.580000e+08  2.440000e+08  2.180000e+08  2.070000e+08  2.070000e+08"
      ]
     },
     "execution_count": 229,
     "metadata": {},
     "output_type": "execute_result"
    }
   ],
   "source": [
    "mapped_interpolated_cell_phones_total_data_df_II.loc[relevant_iso_3, relevant_columns]"
   ]
  },
  {
   "cell_type": "markdown",
   "id": "85456718-1c21-406a-a3d9-6a862e06735d",
   "metadata": {},
   "source": [
    "\n",
    "##### Function for formatting output as required\n"
   ]
  },
  {
   "cell_type": "code",
   "execution_count": 230,
   "id": "ea252391-c847-404b-b1b3-17f89d074030",
   "metadata": {},
   "outputs": [],
   "source": [
    "def scientific_float_2_decimals(x):\n",
    "    return '{:.2e}'.format(x)"
   ]
  },
  {
   "cell_type": "code",
   "execution_count": 231,
   "id": "8a869ca7-6bcf-4b8f-9eb3-7e3e47145080",
   "metadata": {},
   "outputs": [
    {
     "data": {
      "text/html": [
       "<style type=\"text/css\">\n",
       "</style>\n",
       "<table id=\"T_a6875\">\n",
       "  <thead>\n",
       "    <tr>\n",
       "      <th class=\"blank level0\" >&nbsp;</th>\n",
       "      <th id=\"T_a6875_level0_col0\" class=\"col_heading level0 col0\" >2015</th>\n",
       "      <th id=\"T_a6875_level0_col1\" class=\"col_heading level0 col1\" >2016</th>\n",
       "      <th id=\"T_a6875_level0_col2\" class=\"col_heading level0 col2\" >2017</th>\n",
       "      <th id=\"T_a6875_level0_col3\" class=\"col_heading level0 col3\" >2018</th>\n",
       "      <th id=\"T_a6875_level0_col4\" class=\"col_heading level0 col4\" >2019</th>\n",
       "    </tr>\n",
       "    <tr>\n",
       "      <th class=\"index_name level0\" >iso-3</th>\n",
       "      <th class=\"blank col0\" >&nbsp;</th>\n",
       "      <th class=\"blank col1\" >&nbsp;</th>\n",
       "      <th class=\"blank col2\" >&nbsp;</th>\n",
       "      <th class=\"blank col3\" >&nbsp;</th>\n",
       "      <th class=\"blank col4\" >&nbsp;</th>\n",
       "    </tr>\n",
       "  </thead>\n",
       "  <tbody>\n",
       "    <tr>\n",
       "      <th id=\"T_a6875_level0_row0\" class=\"row_heading level0 row0\" >CHN</th>\n",
       "      <td id=\"T_a6875_row0_col0\" class=\"data row0 col0\" >1.29e+09</td>\n",
       "      <td id=\"T_a6875_row0_col1\" class=\"data row0 col1\" >1.36e+09</td>\n",
       "      <td id=\"T_a6875_row0_col2\" class=\"data row0 col2\" >1.47e+09</td>\n",
       "      <td id=\"T_a6875_row0_col3\" class=\"data row0 col3\" >1.65e+09</td>\n",
       "      <td id=\"T_a6875_row0_col4\" class=\"data row0 col4\" >1.73e+09</td>\n",
       "    </tr>\n",
       "    <tr>\n",
       "      <th id=\"T_a6875_level0_row1\" class=\"row_heading level0 row1\" >IND</th>\n",
       "      <td id=\"T_a6875_row1_col0\" class=\"data row1 col0\" >1.00e+09</td>\n",
       "      <td id=\"T_a6875_row1_col1\" class=\"data row1 col1\" >1.13e+09</td>\n",
       "      <td id=\"T_a6875_row1_col2\" class=\"data row1 col2\" >1.17e+09</td>\n",
       "      <td id=\"T_a6875_row1_col3\" class=\"data row1 col3\" >1.18e+09</td>\n",
       "      <td id=\"T_a6875_row1_col4\" class=\"data row1 col4\" >1.15e+09</td>\n",
       "    </tr>\n",
       "    <tr>\n",
       "      <th id=\"T_a6875_level0_row2\" class=\"row_heading level0 row2\" >USA</th>\n",
       "      <td id=\"T_a6875_row2_col0\" class=\"data row2 col0\" >3.82e+08</td>\n",
       "      <td id=\"T_a6875_row2_col1\" class=\"data row2 col1\" >3.96e+08</td>\n",
       "      <td id=\"T_a6875_row2_col2\" class=\"data row2 col2\" >4.00e+08</td>\n",
       "      <td id=\"T_a6875_row2_col3\" class=\"data row2 col3\" >4.22e+08</td>\n",
       "      <td id=\"T_a6875_row2_col4\" class=\"data row2 col4\" >4.22e+08</td>\n",
       "    </tr>\n",
       "    <tr>\n",
       "      <th id=\"T_a6875_level0_row3\" class=\"row_heading level0 row3\" >IDN</th>\n",
       "      <td id=\"T_a6875_row3_col0\" class=\"data row3 col0\" >3.39e+08</td>\n",
       "      <td id=\"T_a6875_row3_col1\" class=\"data row3 col1\" >3.86e+08</td>\n",
       "      <td id=\"T_a6875_row3_col2\" class=\"data row3 col2\" >4.35e+08</td>\n",
       "      <td id=\"T_a6875_row3_col3\" class=\"data row3 col3\" >3.19e+08</td>\n",
       "      <td id=\"T_a6875_row3_col4\" class=\"data row3 col4\" >3.45e+08</td>\n",
       "    </tr>\n",
       "    <tr>\n",
       "      <th id=\"T_a6875_level0_row4\" class=\"row_heading level0 row4\" >BRA</th>\n",
       "      <td id=\"T_a6875_row4_col0\" class=\"data row4 col0\" >2.58e+08</td>\n",
       "      <td id=\"T_a6875_row4_col1\" class=\"data row4 col1\" >2.44e+08</td>\n",
       "      <td id=\"T_a6875_row4_col2\" class=\"data row4 col2\" >2.18e+08</td>\n",
       "      <td id=\"T_a6875_row4_col3\" class=\"data row4 col3\" >2.07e+08</td>\n",
       "      <td id=\"T_a6875_row4_col4\" class=\"data row4 col4\" >2.07e+08</td>\n",
       "    </tr>\n",
       "  </tbody>\n",
       "</table>\n"
      ],
      "text/plain": [
       "<pandas.io.formats.style.Styler at 0x24da08c4980>"
      ]
     },
     "execution_count": 231,
     "metadata": {},
     "output_type": "execute_result"
    }
   ],
   "source": [
    "# round output to two decimal places\n",
    "mapped_interpolated_cell_phones_total_data_df_II.loc[relevant_iso_3, relevant_columns].style.format(scientific_float_2_decimals)"
   ]
  },
  {
   "cell_type": "markdown",
   "id": "b659cdb7-43b3-442c-ba07-d7f64cd6bbc2",
   "metadata": {},
   "source": [
    "The table above is after interpolation, with implied extrapolation."
   ]
  },
  {
   "cell_type": "code",
   "execution_count": 232,
   "id": "55936c6a-5d1a-4982-bec7-9bb6598531be",
   "metadata": {},
   "outputs": [
    {
     "data": {
      "text/html": [
       "<style type=\"text/css\">\n",
       "</style>\n",
       "<table id=\"T_6e666\">\n",
       "  <thead>\n",
       "    <tr>\n",
       "      <th class=\"blank level0\" >&nbsp;</th>\n",
       "      <th id=\"T_6e666_level0_col0\" class=\"col_heading level0 col0\" >2015</th>\n",
       "      <th id=\"T_6e666_level0_col1\" class=\"col_heading level0 col1\" >2016</th>\n",
       "      <th id=\"T_6e666_level0_col2\" class=\"col_heading level0 col2\" >2017</th>\n",
       "      <th id=\"T_6e666_level0_col3\" class=\"col_heading level0 col3\" >2018</th>\n",
       "      <th id=\"T_6e666_level0_col4\" class=\"col_heading level0 col4\" >2019</th>\n",
       "    </tr>\n",
       "    <tr>\n",
       "      <th class=\"index_name level0\" >iso-3</th>\n",
       "      <th class=\"blank col0\" >&nbsp;</th>\n",
       "      <th class=\"blank col1\" >&nbsp;</th>\n",
       "      <th class=\"blank col2\" >&nbsp;</th>\n",
       "      <th class=\"blank col3\" >&nbsp;</th>\n",
       "      <th class=\"blank col4\" >&nbsp;</th>\n",
       "    </tr>\n",
       "  </thead>\n",
       "  <tbody>\n",
       "    <tr>\n",
       "      <th id=\"T_6e666_level0_row0\" class=\"row_heading level0 row0\" >CHN</th>\n",
       "      <td id=\"T_6e666_row0_col0\" class=\"data row0 col0\" >1.29e+09</td>\n",
       "      <td id=\"T_6e666_row0_col1\" class=\"data row0 col1\" >1.36e+09</td>\n",
       "      <td id=\"T_6e666_row0_col2\" class=\"data row0 col2\" >1.47e+09</td>\n",
       "      <td id=\"T_6e666_row0_col3\" class=\"data row0 col3\" >1.65e+09</td>\n",
       "      <td id=\"T_6e666_row0_col4\" class=\"data row0 col4\" >1.73e+09</td>\n",
       "    </tr>\n",
       "    <tr>\n",
       "      <th id=\"T_6e666_level0_row1\" class=\"row_heading level0 row1\" >IND</th>\n",
       "      <td id=\"T_6e666_row1_col0\" class=\"data row1 col0\" >1.00e+09</td>\n",
       "      <td id=\"T_6e666_row1_col1\" class=\"data row1 col1\" >1.13e+09</td>\n",
       "      <td id=\"T_6e666_row1_col2\" class=\"data row1 col2\" >1.17e+09</td>\n",
       "      <td id=\"T_6e666_row1_col3\" class=\"data row1 col3\" >1.18e+09</td>\n",
       "      <td id=\"T_6e666_row1_col4\" class=\"data row1 col4\" >1.15e+09</td>\n",
       "    </tr>\n",
       "    <tr>\n",
       "      <th id=\"T_6e666_level0_row2\" class=\"row_heading level0 row2\" >USA</th>\n",
       "      <td id=\"T_6e666_row2_col0\" class=\"data row2 col0\" >3.82e+08</td>\n",
       "      <td id=\"T_6e666_row2_col1\" class=\"data row2 col1\" >3.96e+08</td>\n",
       "      <td id=\"T_6e666_row2_col2\" class=\"data row2 col2\" >4.00e+08</td>\n",
       "      <td id=\"T_6e666_row2_col3\" class=\"data row2 col3\" >4.22e+08</td>\n",
       "      <td id=\"T_6e666_row2_col4\" class=\"data row2 col4\" >nan</td>\n",
       "    </tr>\n",
       "    <tr>\n",
       "      <th id=\"T_6e666_level0_row3\" class=\"row_heading level0 row3\" >IDN</th>\n",
       "      <td id=\"T_6e666_row3_col0\" class=\"data row3 col0\" >3.39e+08</td>\n",
       "      <td id=\"T_6e666_row3_col1\" class=\"data row3 col1\" >3.86e+08</td>\n",
       "      <td id=\"T_6e666_row3_col2\" class=\"data row3 col2\" >4.35e+08</td>\n",
       "      <td id=\"T_6e666_row3_col3\" class=\"data row3 col3\" >3.19e+08</td>\n",
       "      <td id=\"T_6e666_row3_col4\" class=\"data row3 col4\" >3.45e+08</td>\n",
       "    </tr>\n",
       "    <tr>\n",
       "      <th id=\"T_6e666_level0_row4\" class=\"row_heading level0 row4\" >BRA</th>\n",
       "      <td id=\"T_6e666_row4_col0\" class=\"data row4 col0\" >2.58e+08</td>\n",
       "      <td id=\"T_6e666_row4_col1\" class=\"data row4 col1\" >2.44e+08</td>\n",
       "      <td id=\"T_6e666_row4_col2\" class=\"data row4 col2\" >2.18e+08</td>\n",
       "      <td id=\"T_6e666_row4_col3\" class=\"data row4 col3\" >2.07e+08</td>\n",
       "      <td id=\"T_6e666_row4_col4\" class=\"data row4 col4\" >nan</td>\n",
       "    </tr>\n",
       "  </tbody>\n",
       "</table>\n"
      ],
      "text/plain": [
       "<pandas.io.formats.style.Styler at 0x24da05bfed0>"
      ]
     },
     "execution_count": 232,
     "metadata": {},
     "output_type": "execute_result"
    }
   ],
   "source": [
    "# round output to two decimal places\n",
    "mapped_interpolated_cell_phones_total_data_df.loc[relevant_iso_3, relevant_columns].style.format(scientific_float_2_decimals)"
   ]
  },
  {
   "cell_type": "markdown",
   "id": "edb6d104-a846-451c-95dd-3b8006d23118",
   "metadata": {},
   "source": [
    "The table above is before interpolation, with string values directly from the .csv file, and then converted to numbers."
   ]
  },
  {
   "cell_type": "code",
   "execution_count": 233,
   "id": "e1a4a0c5-4f2f-4d71-8c2e-0057d7e95e39",
   "metadata": {},
   "outputs": [
    {
     "data": {
      "text/plain": [
       "2018    422M\n",
       "2019     NaN\n",
       "Name: USA, dtype: object"
      ]
     },
     "execution_count": 233,
     "metadata": {},
     "output_type": "execute_result"
    }
   ],
   "source": [
    "cell_phones_total_data_df.loc['USA',['2018','2019']]"
   ]
  },
  {
   "cell_type": "markdown",
   "id": "29338382-d757-4ca2-af41-60edcb9462a7",
   "metadata": {},
   "source": [
    "\n",
    "##### Comment on NaN for USA and BRA in the year 2019.\n"
   ]
  },
  {
   "cell_type": "markdown",
   "id": "34a4970c-cc29-495d-a5a1-b303b947a974",
   "metadata": {},
   "source": [
    "With the chosen interpolation arguments also extrapolation is done. This makes no values for 2019 being NaN. Chosing strict intrapolation, with the argument limit_area='inside', leads to many NaN in the data frame to be unhandled."
   ]
  },
  {
   "cell_type": "markdown",
   "id": "49abc58e-3a1d-4b7f-a5a7-8b3ada5b006f",
   "metadata": {},
   "source": [
    "Even though the assignment have two NaN for 2019 in the required table, I have chosen to extrapolate values, as the alternative with many remaining NaNs is less desirable."
   ]
  },
  {
   "cell_type": "markdown",
   "id": "61257c87-4bc9-4f09-be2c-b7af30dc30c2",
   "metadata": {},
   "source": [
    "\n",
    "#### Write data frame to file\n"
   ]
  },
  {
   "cell_type": "markdown",
   "id": "b08dc763-41b5-423d-9ed9-498de51890ae",
   "metadata": {},
   "source": [
    "In HW4 this data frame will be used, so it is written to file."
   ]
  },
  {
   "cell_type": "code",
   "execution_count": 234,
   "id": "a9081f09-c619-4f75-a5cf-e20476c7ecac",
   "metadata": {},
   "outputs": [],
   "source": [
    "mapped_interpolated_cell_phones_total_data_df_II.to_csv('cleared_cell_phones_total.csv')"
   ]
  },
  {
   "cell_type": "code",
   "execution_count": null,
   "id": "8a5741eb-5dff-423f-ab9c-cacdd537c457",
   "metadata": {},
   "outputs": [],
   "source": []
  },
  {
   "cell_type": "code",
   "execution_count": 235,
   "id": "ad558253-d166-49fb-9d93-ebf47653da14",
   "metadata": {},
   "outputs": [],
   "source": [
    "# relevant_columns = ['iso-3','2015','2016','2017','2018','2019']"
   ]
  },
  {
   "cell_type": "code",
   "execution_count": 236,
   "id": "1bd4473f-96d3-4ad0-9ed5-2d039ad1f159",
   "metadata": {},
   "outputs": [],
   "source": [
    "# cell_phones_relevant_data_df = pd.DataFrame(cell_phones_total_data_df[index=relevant_indexes, column=relevant_columns])"
   ]
  },
  {
   "cell_type": "code",
   "execution_count": 237,
   "id": "e187ad60-838f-4ef5-b52a-8a8366972cbd",
   "metadata": {},
   "outputs": [],
   "source": [
    "# cell_phones_relevant_columns_data_df = cell_phones_total_data_df[relevant_columns]"
   ]
  },
  {
   "cell_type": "code",
   "execution_count": 238,
   "id": "f58e8c3b-6776-4d47-b527-4ece0fb091cc",
   "metadata": {},
   "outputs": [],
   "source": [
    "# cell_phones_relevant_columns_data_df.head()"
   ]
  },
  {
   "cell_type": "code",
   "execution_count": 239,
   "id": "7d91662f-10ac-4b81-98f5-215d0e371d82",
   "metadata": {},
   "outputs": [],
   "source": [
    "# cell_phones_total_data_df.iloc[:5,52:56]"
   ]
  },
  {
   "cell_type": "code",
   "execution_count": 240,
   "id": "7a4731b1-ee48-4400-ab43-635f6500fe9e",
   "metadata": {},
   "outputs": [],
   "source": [
    "# test_cell_phones_data_df = cell_phones_total_data_df.iloc[:5,51:56]"
   ]
  },
  {
   "cell_type": "code",
   "execution_count": 241,
   "id": "abcd0d67-37f8-4b53-82a1-b4739811e4db",
   "metadata": {},
   "outputs": [],
   "source": [
    "# test_cell_phones_data_df "
   ]
  },
  {
   "cell_type": "markdown",
   "id": "5da08d3b-23f0-4567-834f-c9caeafed613",
   "metadata": {},
   "source": [
    "\n",
    "##### Test functions to transform strings to numbers\n"
   ]
  },
  {
   "cell_type": "code",
   "execution_count": 242,
   "id": "236b91ab-b857-49e5-b33f-b42e3d3acc08",
   "metadata": {},
   "outputs": [],
   "source": [
    "# 'BRA'.split('B')"
   ]
  },
  {
   "cell_type": "code",
   "execution_count": 243,
   "id": "95c0e2d1-e201-4e19-842e-52286ea3b279",
   "metadata": {},
   "outputs": [],
   "source": [
    "# '76.1k'.split('k')"
   ]
  },
  {
   "cell_type": "code",
   "execution_count": 244,
   "id": "496cebe5-00e3-473b-bad1-cd7b60f33137",
   "metadata": {},
   "outputs": [],
   "source": [
    "# [number, thousands] = '76.1k'.split('k')"
   ]
  },
  {
   "cell_type": "code",
   "execution_count": 245,
   "id": "ccb02e73-8857-44bf-8f24-1006fa90d2aa",
   "metadata": {},
   "outputs": [],
   "source": [
    "# number"
   ]
  },
  {
   "cell_type": "code",
   "execution_count": 246,
   "id": "c03ee6ed-15b3-488e-8e35-febeeaa6f67e",
   "metadata": {},
   "outputs": [],
   "source": [
    "# type(number)"
   ]
  },
  {
   "cell_type": "code",
   "execution_count": 247,
   "id": "fae829e0-c4fe-4086-92fd-a05ab075563a",
   "metadata": {},
   "outputs": [],
   "source": [
    "# split_number_string('76.1k')"
   ]
  },
  {
   "cell_type": "code",
   "execution_count": 248,
   "id": "671a3f93-c07c-416e-9b4a-1d5535c9176b",
   "metadata": {},
   "outputs": [],
   "source": [
    "# split_number_string('19.7M')"
   ]
  },
  {
   "cell_type": "code",
   "execution_count": 249,
   "id": "bd98db05-7906-4dce-ad07-dc19b3fc2b25",
   "metadata": {},
   "outputs": [],
   "source": [
    "# split_number_string('1.29B')"
   ]
  },
  {
   "cell_type": "code",
   "execution_count": 250,
   "id": "1447c5ec-bcd3-4622-9423-7af76d63e7a5",
   "metadata": {},
   "outputs": [],
   "source": [
    "# suffix_number_strings('1.29B')"
   ]
  },
  {
   "cell_type": "code",
   "execution_count": 251,
   "id": "49a647e7-d904-42e9-9e2a-3401d0c10565",
   "metadata": {},
   "outputs": [],
   "source": [
    "# type('1.29B')"
   ]
  },
  {
   "cell_type": "code",
   "execution_count": 252,
   "id": "dcb8c4f7-ed53-4839-b1ff-11698c72cce1",
   "metadata": {},
   "outputs": [],
   "source": [
    "# suffix_number_strings(np.nan)"
   ]
  },
  {
   "cell_type": "code",
   "execution_count": 253,
   "id": "a6b822af-7d55-4cea-a9ea-dcf66a66b2a5",
   "metadata": {},
   "outputs": [],
   "source": [
    "# sorted_countries = cell_phones_total_data_df['iso-3'].sort_values()"
   ]
  },
  {
   "cell_type": "code",
   "execution_count": 254,
   "id": "c022e6b4-fc0f-40a6-9d2a-67527444de13",
   "metadata": {},
   "outputs": [],
   "source": [
    "# cell_phones_total_data_df.loc['AZE':'CAF',relevant_columns]"
   ]
  },
  {
   "cell_type": "code",
   "execution_count": 255,
   "id": "3dbd9de5-67b8-4b53-a7d8-7500486b306f",
   "metadata": {},
   "outputs": [],
   "source": [
    "# sorted_countries[12:32]"
   ]
  },
  {
   "cell_type": "code",
   "execution_count": 256,
   "id": "f357311c-1af3-488b-9e37-815ea5aec013",
   "metadata": {},
   "outputs": [],
   "source": [
    "# cell_phones_total_data_df.iloc[24].name"
   ]
  },
  {
   "cell_type": "code",
   "execution_count": 257,
   "id": "f30a5f26-8d17-4753-b3f2-85087c2e98a9",
   "metadata": {},
   "outputs": [],
   "source": [
    "# sorted_countries[24]"
   ]
  },
  {
   "cell_type": "code",
   "execution_count": 258,
   "id": "b94b337e-c689-4289-8bea-beaf27cac930",
   "metadata": {},
   "outputs": [],
   "source": [
    "# cell_phones_total_data_df.iloc[27].name"
   ]
  },
  {
   "cell_type": "code",
   "execution_count": 259,
   "id": "adc7f96e-e70b-4c0b-8f88-1b5ac748cfdd",
   "metadata": {},
   "outputs": [],
   "source": [
    "# sorted_countries[27]"
   ]
  },
  {
   "cell_type": "code",
   "execution_count": 260,
   "id": "9d2a4e1f-0dfd-4772-9977-7141ea24be41",
   "metadata": {},
   "outputs": [],
   "source": [
    "# cell_phones_total_data_df['iso-3'].map(suffix_number_strings)"
   ]
  },
  {
   "cell_type": "code",
   "execution_count": 261,
   "id": "e24f6ce4-0817-4fa9-a8cd-c854dbc371c4",
   "metadata": {},
   "outputs": [],
   "source": [
    "# split_number_string(np.nan)"
   ]
  },
  {
   "cell_type": "code",
   "execution_count": 262,
   "id": "589d86f3-b2cb-4e4e-9bfd-1488eacee16d",
   "metadata": {},
   "outputs": [],
   "source": [
    "# test_cell_phones_data_df.apply(split_number_string)"
   ]
  },
  {
   "cell_type": "code",
   "execution_count": 263,
   "id": "c8e9e168-4087-44fd-9b83-96ec3d7d3107",
   "metadata": {},
   "outputs": [],
   "source": [
    "# test_cell_phones_data_df.apply(suffix_number_strings)"
   ]
  },
  {
   "cell_type": "code",
   "execution_count": 264,
   "id": "30c13219-a9fb-490a-b434-9b0775892c17",
   "metadata": {},
   "outputs": [],
   "source": [
    "# mapped_test_cell_phones_data_df = test_cell_phones_data_df.map(suffix_number_strings)"
   ]
  },
  {
   "cell_type": "code",
   "execution_count": 265,
   "id": "d443c46d-e1ea-44e1-bd46-fc7982b2b376",
   "metadata": {},
   "outputs": [],
   "source": [
    "# mapped_test_cell_phones_data_df "
   ]
  },
  {
   "cell_type": "code",
   "execution_count": 266,
   "id": "9dd814cc-44c7-463f-9f49-f5b25cf1bcf1",
   "metadata": {},
   "outputs": [],
   "source": [
    "# mapped_test_cell_phones_data_df.round(2)  # round output to two decimal places"
   ]
  },
  {
   "cell_type": "code",
   "execution_count": 267,
   "id": "2d2b6b0d-6d09-4b32-ae5a-4db020d85cac",
   "metadata": {},
   "outputs": [],
   "source": [
    "# mapped_test_cell_phones_data_df.style \\\n",
    "#                              .format(precision=2) # round output to two decimal places"
   ]
  },
  {
   "cell_type": "code",
   "execution_count": 268,
   "id": "503cb21f-8a7d-4368-92f8-1fd645dc1f4d",
   "metadata": {},
   "outputs": [],
   "source": [
    "# mapped_test_cell_phones_data_df  # round output to two decimal places"
   ]
  },
  {
   "cell_type": "code",
   "execution_count": 269,
   "id": "aa8ecc00-9879-4f4b-8998-f57ea42cd2b2",
   "metadata": {},
   "outputs": [],
   "source": [
    "\n",
    "##### Function for formatting output as required\n"
   ]
  },
  {
   "cell_type": "code",
   "execution_count": 270,
   "id": "53b271eb-ecd8-4c9f-ae1d-c21a325f5073",
   "metadata": {},
   "outputs": [],
   "source": [
    "# def scientific_float_2_decimals(x):\n",
    "#    return '{:.2e}'.format(x)"
   ]
  },
  {
   "cell_type": "code",
   "execution_count": 271,
   "id": "a949de0c-58b1-4f5d-9d7f-137474327e8b",
   "metadata": {},
   "outputs": [],
   "source": [
    "# mapped_test_cell_phones_data_df.to_html(float_format=scientific_float_2_decimals) # round output to two decimal places"
   ]
  },
  {
   "cell_type": "code",
   "execution_count": 272,
   "id": "d6dfd0ce",
   "metadata": {},
   "outputs": [],
   "source": [
    "# mapped_test_cell_phones_data_df.to_html(float_format=format(float,format_spec='.2e')) # round output to two decimal places"
   ]
  },
  {
   "cell_type": "code",
   "execution_count": 273,
   "id": "71905d19-9f8e-4596-81b6-9dcee1180f78",
   "metadata": {},
   "outputs": [],
   "source": [
    "# mapped_test_cell_phones_data_df.to_markdown(floatfmt='.2f') # round output to two decimal places"
   ]
  },
  {
   "cell_type": "code",
   "execution_count": 274,
   "id": "58d04db8-0f74-46e0-9af5-c54df786edcd",
   "metadata": {},
   "outputs": [],
   "source": [
    "# mapped_test_cell_phones_data_df.to_markdown({'floatfmt':('.2f')}) # round output to two decimal places"
   ]
  },
  {
   "cell_type": "code",
   "execution_count": 275,
   "id": "1ebbb092-dc18-47d3-a75a-34341eee5fc6",
   "metadata": {},
   "outputs": [],
   "source": [
    "# cell_phones_total_data_df.iloc[0,51]"
   ]
  },
  {
   "cell_type": "code",
   "execution_count": 276,
   "id": "7d1790ea-d641-47e1-9fb1-401c1e731115",
   "metadata": {},
   "outputs": [],
   "source": [
    "# type(cell_phones_total_data_df.iloc[0,51])"
   ]
  },
  {
   "cell_type": "code",
   "execution_count": 277,
   "id": "4fdfab78-8d10-4f34-86b7-846271641d95",
   "metadata": {},
   "outputs": [],
   "source": [
    "# type(cell_phones_total_data_df.iloc[0,53])"
   ]
  },
  {
   "cell_type": "code",
   "execution_count": 278,
   "id": "5db45af0-218b-4c2d-8cea-bef27caa205c",
   "metadata": {},
   "outputs": [],
   "source": [
    "# cell_phones_relevant_columns_data_df.iloc[0].name"
   ]
  },
  {
   "cell_type": "code",
   "execution_count": 279,
   "id": "54b77a11-4c05-465c-bc8c-e267235fbfab",
   "metadata": {},
   "outputs": [],
   "source": [
    "# type(cell_phones_relevant_columns_data_df.iloc[0].name)"
   ]
  },
  {
   "cell_type": "code",
   "execution_count": 280,
   "id": "e1441484-0c61-453b-95a5-38d7f15059d9",
   "metadata": {},
   "outputs": [],
   "source": [
    "# type(cell_phones_relevant_columns_data_df.iloc[0,1])"
   ]
  },
  {
   "cell_type": "code",
   "execution_count": 281,
   "id": "a9f93362-ea0d-4f3d-9057-b185f9127fb9",
   "metadata": {},
   "outputs": [],
   "source": [
    "# type(cell_phones_relevant_columns_data_df.iloc[0,2])"
   ]
  },
  {
   "cell_type": "code",
   "execution_count": 282,
   "id": "801bdba0-3ec5-49de-9f20-bd02a32f1619",
   "metadata": {},
   "outputs": [],
   "source": [
    "# cell_phones_relevant_data_df = cell_phones_relevant_columns_data_df.loc[\"BRA\"]"
   ]
  },
  {
   "cell_type": "code",
   "execution_count": 283,
   "id": "90599d18-0893-482d-9894-0a9c5a660ed2",
   "metadata": {},
   "outputs": [],
   "source": [
    "# cell_phones_relevant_data_df = cell_phones_relevant_columns_data_df.loc[cell_phones_relevant_columns_data_df[\"iso-3\"]==\"BRA\"]"
   ]
  },
  {
   "cell_type": "code",
   "execution_count": 284,
   "id": "856375f7-fbeb-4497-a4b5-d13b6af6b4c3",
   "metadata": {},
   "outputs": [],
   "source": [
    "# cell_phones_relevant_data_df"
   ]
  },
  {
   "cell_type": "code",
   "execution_count": 285,
   "id": "75c9c9f3-3e7a-469c-98db-d2fb2ab78021",
   "metadata": {},
   "outputs": [],
   "source": [
    "# cell_phones_relevant_data_df_II = cell_phones_relevant_columns_data_df.loc[relevant_iso_3]"
   ]
  },
  {
   "cell_type": "code",
   "execution_count": 286,
   "id": "becedfef-f0ab-4ce2-a0d1-c580301f97fa",
   "metadata": {},
   "outputs": [],
   "source": [
    "# cell_phones_relevant_data_df_II = cell_phones_relevant_columns_data_df.loc[cell_phones_relevant_columns_data_df[\"iso-3\"].isin(relevant_iso_3)]"
   ]
  },
  {
   "cell_type": "code",
   "execution_count": 287,
   "id": "f337fde1-f472-48fc-b983-7ffaa4855e41",
   "metadata": {},
   "outputs": [],
   "source": [
    "# cell_phones_relevant_data_df_II"
   ]
  },
  {
   "cell_type": "code",
   "execution_count": 288,
   "id": "869f286c-82fc-4b51-b750-944d61c3ed49",
   "metadata": {},
   "outputs": [],
   "source": [
    "# mapped_cell_phones_relevant_data_df_II = cell_phones_relevant_data_df_II.map(suffix_number_strings)"
   ]
  },
  {
   "cell_type": "code",
   "execution_count": 289,
   "id": "be5eb0bb-362b-434e-aab1-69f2f95b8fe2",
   "metadata": {},
   "outputs": [],
   "source": [
    "# mapped_cell_phones_relevant_data_df_II "
   ]
  },
  {
   "cell_type": "code",
   "execution_count": 290,
   "id": "7689e519-ce32-40f1-8623-3a4aa0d0d5b3",
   "metadata": {},
   "outputs": [],
   "source": [
    "# mapped_cell_phones_relevant_data_df_II.style.format(scientific_float_2_decimals) # round output to two decimal places"
   ]
  },
  {
   "cell_type": "code",
   "execution_count": 291,
   "id": "2ea5e5fc-b1c3-4a27-92e2-221a9dcabfbf",
   "metadata": {},
   "outputs": [],
   "source": [
    "# mapped_cell_phones_relevant_data_df_II.round(2)  # round output to two decimal places"
   ]
  },
  {
   "cell_type": "code",
   "execution_count": 292,
   "id": "eaf52a26-bc4d-48cf-b615-686a8e13df53",
   "metadata": {},
   "outputs": [],
   "source": [
    "# cell_phones_relevant_data_df_II.index=(\"\",\"\",\"\",\"\",\"\")"
   ]
  },
  {
   "cell_type": "code",
   "execution_count": 293,
   "id": "93909290-5e5b-4c04-a3eb-297c18bf0d9c",
   "metadata": {},
   "outputs": [],
   "source": [
    "# cell_phones_relevant_data_df_II"
   ]
  },
  {
   "cell_type": "code",
   "execution_count": 294,
   "id": "9d018f7f-24e8-4114-8efd-0b32662a011f",
   "metadata": {},
   "outputs": [],
   "source": [
    "# cell_phones_relevant_data_df_II.map(suffix_number_strings)"
   ]
  },
  {
   "cell_type": "code",
   "execution_count": 295,
   "id": "3c0c9038-4ec8-4ebb-9ba3-3b24ad372f02",
   "metadata": {},
   "outputs": [],
   "source": [
    "# cell_phones_relevant_data_df = cell_phones_relevant_columns_data_df.where(cell_phones_relevant_columns_data_df.iloc[:,0]==\"BRA\")"
   ]
  },
  {
   "cell_type": "code",
   "execution_count": 296,
   "id": "36d1f3e3-f926-45c7-b5e8-83e43882d790",
   "metadata": {},
   "outputs": [],
   "source": [
    "# cell_phones_relevant_data_df.iloc[0,1]"
   ]
  },
  {
   "cell_type": "code",
   "execution_count": 297,
   "id": "94123d95-de99-4c0b-a1c7-0e0a21be4855",
   "metadata": {},
   "outputs": [],
   "source": [
    "# cell_phones_relevant_data_df"
   ]
  },
  {
   "cell_type": "code",
   "execution_count": 298,
   "id": "d53f7f04-5bfb-46c8-b405-15ec15cec84f",
   "metadata": {},
   "outputs": [],
   "source": [
    "# cell_phones_relevant_data_df.iloc[1,1].to_numeric()"
   ]
  },
  {
   "cell_type": "code",
   "execution_count": 299,
   "id": "e2373dde-df57-4e43-aff7-d9e792d8a3de",
   "metadata": {},
   "outputs": [],
   "source": [
    "# object."
   ]
  },
  {
   "cell_type": "code",
   "execution_count": 300,
   "id": "0173dd8d-0ba0-461f-9af5-ac557eb957a0",
   "metadata": {},
   "outputs": [],
   "source": [
    "# str(cell_phones_relevant_data_df.iloc[1,1])"
   ]
  },
  {
   "cell_type": "code",
   "execution_count": 301,
   "id": "2ccc42bf-9155-43dc-869c-81ef8b13a9fc",
   "metadata": {},
   "outputs": [],
   "source": [
    "# str.isalnum(cell_phones_relevant_data_df.iloc[1,0])"
   ]
  },
  {
   "cell_type": "code",
   "execution_count": 302,
   "id": "0add6d25-cdf0-4234-9de2-9b8c5891794a",
   "metadata": {},
   "outputs": [],
   "source": [
    "# str.isnumeric(cell_phones_relevant_data_df.iloc[1,0])"
   ]
  },
  {
   "cell_type": "code",
   "execution_count": 303,
   "id": "eff253c5-1549-4fe4-bd09-3cd6b6b5633b",
   "metadata": {},
   "outputs": [],
   "source": [
    "# str(cell_phones_relevant_data_df.iloc[1,0])"
   ]
  },
  {
   "cell_type": "code",
   "execution_count": 304,
   "id": "47a092c4-3ef3-441c-9f79-153c44f1bd45",
   "metadata": {},
   "outputs": [],
   "source": [
    "# print(cell_phones_relevant_data_df.iloc[1,0])"
   ]
  },
  {
   "cell_type": "code",
   "execution_count": 305,
   "id": "3514af59-59f9-4ced-bc44-eee3d0e65166",
   "metadata": {},
   "outputs": [],
   "source": [
    "# print(cell_phones_relevant_data_df.iloc[1,1])"
   ]
  },
  {
   "cell_type": "code",
   "execution_count": 306,
   "id": "acf84eab-6317-489a-aff9-690a1f19426c",
   "metadata": {},
   "outputs": [],
   "source": [
    "# type(cell_phones_relevant_data_df.iloc[1,1])"
   ]
  },
  {
   "cell_type": "code",
   "execution_count": 307,
   "id": "4562e454-b1ed-4bda-96bf-9bc34fc0acee",
   "metadata": {},
   "outputs": [],
   "source": [
    "# cell_phones_relevant_data_df.info()"
   ]
  },
  {
   "cell_type": "code",
   "execution_count": null,
   "id": "78f652b1-4a09-40d9-ad18-33d5d08bfdb9",
   "metadata": {},
   "outputs": [],
   "source": []
  },
  {
   "cell_type": "code",
   "execution_count": null,
   "id": "fa423b0c-995f-424a-8ea7-ba13c8deb744",
   "metadata": {},
   "outputs": [],
   "source": []
  },
  {
   "cell_type": "code",
   "execution_count": null,
   "id": "ed3133ce-b2e7-4dd4-9e27-561cef902609",
   "metadata": {},
   "outputs": [],
   "source": []
  },
  {
   "cell_type": "code",
   "execution_count": null,
   "id": "ff2e8419-2959-4afb-8c87-aec58225c8a0",
   "metadata": {},
   "outputs": [],
   "source": []
  },
  {
   "cell_type": "code",
   "execution_count": null,
   "id": "d765634e-1b92-48dc-9e46-7d05e38ee1ae",
   "metadata": {},
   "outputs": [],
   "source": []
  },
  {
   "cell_type": "code",
   "execution_count": null,
   "id": "b8c30d63-fd18-4d64-8280-ae2fd64d1b67",
   "metadata": {},
   "outputs": [],
   "source": []
  }
 ],
 "metadata": {
  "kernelspec": {
   "display_name": "Python 3 (ipykernel)",
   "language": "python",
   "name": "python3"
  },
  "language_info": {
   "codemirror_mode": {
    "name": "ipython",
    "version": 3
   },
   "file_extension": ".py",
   "mimetype": "text/x-python",
   "name": "python",
   "nbconvert_exporter": "python",
   "pygments_lexer": "ipython3",
   "version": "3.13.0"
  }
 },
 "nbformat": 4,
 "nbformat_minor": 5
}

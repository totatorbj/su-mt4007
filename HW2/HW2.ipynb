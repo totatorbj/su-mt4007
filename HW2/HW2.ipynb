{
 "cells": [
  {
   "cell_type": "markdown",
   "id": "1b6a4765-6225-404d-b27e-888ec126fb7f",
   "metadata": {},
   "source": [
    "## Homework 2"
   ]
  },
  {
   "cell_type": "markdown",
   "id": "fc2974c4-620b-46c5-86b6-4c5fea238240",
   "metadata": {},
   "source": [
    "#### Preparation\n",
    "\n",
    "Some initializations are necessary"
   ]
  },
  {
   "cell_type": "code",
   "execution_count": 1,
   "id": "e1c351ce-bba6-4af8-8546-bd8714562703",
   "metadata": {},
   "outputs": [],
   "source": [
    "import pandas as pd\n",
    "import matplotlib.pyplot as plt\n",
    "import numpy as np"
   ]
  },
  {
   "cell_type": "markdown",
   "id": "3d7b02c8-724f-49dc-a87f-cf430af5a4ab",
   "metadata": {},
   "source": [
    "### Apartment prices"
   ]
  },
  {
   "cell_type": "markdown",
   "id": "a503e534-a413-401f-8ba3-260bc49fceff",
   "metadata": {},
   "source": [
    "Before we read data from file, it is necessary to check the data. Opening the file in Jupyter shows:"
   ]
  },
  {
   "cell_type": "markdown",
   "id": "e1729bf8-1dac-4708-8cfb-9496213bcc14",
   "metadata": {},
   "source": [
    "![Upper left corner of the file opened in Jupyter](Booli_sold-csv.jpg  \"'Delimiter' shows the sep parameter value to use\")<br><br>"
   ]
  },
  {
   "cell_type": "markdown",
   "id": "b0b2e62d-af5a-449e-afd7-eeeed07a5e16",
   "metadata": {},
   "source": [
    "We see that the delimiter is comma, \" , \", and the numbers are integers. The default read method may thus be used, since we do not have to pass any arguments for delimiter or decimal character.<br><br>Reading data from file into data frame is now done."
   ]
  },
  {
   "cell_type": "code",
   "execution_count": 2,
   "id": "134c501f-989c-403c-bc16-6ea44cb9e9cd",
   "metadata": {},
   "outputs": [],
   "source": [
    "apartments_df = pd.read_csv('Booli_sold.csv')"
   ]
  },
  {
   "cell_type": "markdown",
   "id": "406cce91-0d17-4610-a850-b7b9e811d35e",
   "metadata": {},
   "source": [
    "To see some more data than above"
   ]
  },
  {
   "cell_type": "code",
   "execution_count": 3,
   "id": "999d858a-3a43-4bd9-bdb1-e72e51d76343",
   "metadata": {},
   "outputs": [
    {
     "data": {
      "text/html": [
       "<div>\n",
       "<style scoped>\n",
       "    .dataframe tbody tr th:only-of-type {\n",
       "        vertical-align: middle;\n",
       "    }\n",
       "\n",
       "    .dataframe tbody tr th {\n",
       "        vertical-align: top;\n",
       "    }\n",
       "\n",
       "    .dataframe thead th {\n",
       "        text-align: right;\n",
       "    }\n",
       "</style>\n",
       "<table border=\"1\" class=\"dataframe\">\n",
       "  <thead>\n",
       "    <tr style=\"text-align: right;\">\n",
       "      <th></th>\n",
       "      <th>listPrice</th>\n",
       "      <th>rent</th>\n",
       "      <th>livingArea</th>\n",
       "      <th>rooms</th>\n",
       "      <th>published</th>\n",
       "      <th>constructionYear</th>\n",
       "      <th>objectType</th>\n",
       "      <th>booliId</th>\n",
       "      <th>soldDate</th>\n",
       "      <th>soldPrice</th>\n",
       "      <th>...</th>\n",
       "      <th>location.position.latitude</th>\n",
       "      <th>location.position.longitude</th>\n",
       "      <th>location.position.isApproximate</th>\n",
       "      <th>location.region.municipalityName</th>\n",
       "      <th>location.region.countyName</th>\n",
       "      <th>location.distance.ocean</th>\n",
       "      <th>source.name</th>\n",
       "      <th>source.id</th>\n",
       "      <th>source.type</th>\n",
       "      <th>source.url</th>\n",
       "    </tr>\n",
       "  </thead>\n",
       "  <tbody>\n",
       "    <tr>\n",
       "      <th>153</th>\n",
       "      <td>1495000</td>\n",
       "      <td>1388.0</td>\n",
       "      <td>26.0</td>\n",
       "      <td>1.0</td>\n",
       "      <td>2012-10-20 07:36:37</td>\n",
       "      <td>1935.0</td>\n",
       "      <td>Lägenhet</td>\n",
       "      <td>1297784</td>\n",
       "      <td>2012-11-30</td>\n",
       "      <td>1475000</td>\n",
       "      <td>...</td>\n",
       "      <td>59.372272</td>\n",
       "      <td>18.055659</td>\n",
       "      <td>True</td>\n",
       "      <td>Stockholm</td>\n",
       "      <td>Stockholms län</td>\n",
       "      <td>101</td>\n",
       "      <td>Notar</td>\n",
       "      <td>1566</td>\n",
       "      <td>Broker</td>\n",
       "      <td>http://www.notar.se/</td>\n",
       "    </tr>\n",
       "    <tr>\n",
       "      <th>154</th>\n",
       "      <td>2245000</td>\n",
       "      <td>2455.0</td>\n",
       "      <td>50.0</td>\n",
       "      <td>2.0</td>\n",
       "      <td>2012-10-19 15:32:58</td>\n",
       "      <td>1935.0</td>\n",
       "      <td>Lägenhet</td>\n",
       "      <td>1296874</td>\n",
       "      <td>2012-10-27</td>\n",
       "      <td>2245000</td>\n",
       "      <td>...</td>\n",
       "      <td>59.372272</td>\n",
       "      <td>18.055659</td>\n",
       "      <td>True</td>\n",
       "      <td>Stockholm</td>\n",
       "      <td>Stockholms län</td>\n",
       "      <td>101</td>\n",
       "      <td>Notar</td>\n",
       "      <td>1566</td>\n",
       "      <td>Broker</td>\n",
       "      <td>http://www.notar.se/</td>\n",
       "    </tr>\n",
       "    <tr>\n",
       "      <th>155</th>\n",
       "      <td>1450000</td>\n",
       "      <td>1072.0</td>\n",
       "      <td>23.0</td>\n",
       "      <td>1.0</td>\n",
       "      <td>2012-09-14 05:10:08</td>\n",
       "      <td>1936.0</td>\n",
       "      <td>Lägenhet</td>\n",
       "      <td>1270599</td>\n",
       "      <td>2012-10-22</td>\n",
       "      <td>1450000</td>\n",
       "      <td>...</td>\n",
       "      <td>59.371194</td>\n",
       "      <td>18.053552</td>\n",
       "      <td>NaN</td>\n",
       "      <td>Stockholm</td>\n",
       "      <td>Stockholms län</td>\n",
       "      <td>255</td>\n",
       "      <td>Notar</td>\n",
       "      <td>1566</td>\n",
       "      <td>Broker</td>\n",
       "      <td>http://www.notar.se/</td>\n",
       "    </tr>\n",
       "    <tr>\n",
       "      <th>156</th>\n",
       "      <td>2495000</td>\n",
       "      <td>2748.0</td>\n",
       "      <td>56.0</td>\n",
       "      <td>3.0</td>\n",
       "      <td>2012-09-21 12:19:37</td>\n",
       "      <td>1935.0</td>\n",
       "      <td>Lägenhet</td>\n",
       "      <td>1276232</td>\n",
       "      <td>2012-10-09</td>\n",
       "      <td>2200000</td>\n",
       "      <td>...</td>\n",
       "      <td>59.372759</td>\n",
       "      <td>18.054634</td>\n",
       "      <td>True</td>\n",
       "      <td>Stockholm</td>\n",
       "      <td>Stockholms län</td>\n",
       "      <td>70</td>\n",
       "      <td>Notar</td>\n",
       "      <td>1566</td>\n",
       "      <td>Broker</td>\n",
       "      <td>http://www.notar.se/</td>\n",
       "    </tr>\n",
       "    <tr>\n",
       "      <th>157</th>\n",
       "      <td>2300000</td>\n",
       "      <td>2455.0</td>\n",
       "      <td>50.0</td>\n",
       "      <td>2.0</td>\n",
       "      <td>2012-09-16 02:33:35</td>\n",
       "      <td>1935.0</td>\n",
       "      <td>Lägenhet</td>\n",
       "      <td>1272477</td>\n",
       "      <td>2012-10-09</td>\n",
       "      <td>2180000</td>\n",
       "      <td>...</td>\n",
       "      <td>59.372272</td>\n",
       "      <td>18.055659</td>\n",
       "      <td>True</td>\n",
       "      <td>Stockholm</td>\n",
       "      <td>Stockholms län</td>\n",
       "      <td>101</td>\n",
       "      <td>Notar</td>\n",
       "      <td>1566</td>\n",
       "      <td>Broker</td>\n",
       "      <td>http://www.notar.se/</td>\n",
       "    </tr>\n",
       "  </tbody>\n",
       "</table>\n",
       "<p>5 rows × 27 columns</p>\n",
       "</div>"
      ],
      "text/plain": [
       "     listPrice    rent  livingArea  rooms            published  \\\n",
       "153    1495000  1388.0        26.0    1.0  2012-10-20 07:36:37   \n",
       "154    2245000  2455.0        50.0    2.0  2012-10-19 15:32:58   \n",
       "155    1450000  1072.0        23.0    1.0  2012-09-14 05:10:08   \n",
       "156    2495000  2748.0        56.0    3.0  2012-09-21 12:19:37   \n",
       "157    2300000  2455.0        50.0    2.0  2012-09-16 02:33:35   \n",
       "\n",
       "     constructionYear objectType  booliId    soldDate  soldPrice  ...  \\\n",
       "153            1935.0   Lägenhet  1297784  2012-11-30    1475000  ...   \n",
       "154            1935.0   Lägenhet  1296874  2012-10-27    2245000  ...   \n",
       "155            1936.0   Lägenhet  1270599  2012-10-22    1450000  ...   \n",
       "156            1935.0   Lägenhet  1276232  2012-10-09    2200000  ...   \n",
       "157            1935.0   Lägenhet  1272477  2012-10-09    2180000  ...   \n",
       "\n",
       "    location.position.latitude location.position.longitude  \\\n",
       "153                  59.372272                   18.055659   \n",
       "154                  59.372272                   18.055659   \n",
       "155                  59.371194                   18.053552   \n",
       "156                  59.372759                   18.054634   \n",
       "157                  59.372272                   18.055659   \n",
       "\n",
       "     location.position.isApproximate  location.region.municipalityName  \\\n",
       "153                             True                         Stockholm   \n",
       "154                             True                         Stockholm   \n",
       "155                              NaN                         Stockholm   \n",
       "156                             True                         Stockholm   \n",
       "157                             True                         Stockholm   \n",
       "\n",
       "     location.region.countyName  location.distance.ocean source.name  \\\n",
       "153              Stockholms län                      101       Notar   \n",
       "154              Stockholms län                      101       Notar   \n",
       "155              Stockholms län                      255       Notar   \n",
       "156              Stockholms län                       70       Notar   \n",
       "157              Stockholms län                      101       Notar   \n",
       "\n",
       "     source.id  source.type            source.url  \n",
       "153       1566       Broker  http://www.notar.se/  \n",
       "154       1566       Broker  http://www.notar.se/  \n",
       "155       1566       Broker  http://www.notar.se/  \n",
       "156       1566       Broker  http://www.notar.se/  \n",
       "157       1566       Broker  http://www.notar.se/  \n",
       "\n",
       "[5 rows x 27 columns]"
      ]
     },
     "execution_count": 3,
     "metadata": {},
     "output_type": "execute_result"
    }
   ],
   "source": [
    "apartments_df.tail()"
   ]
  },
  {
   "cell_type": "markdown",
   "id": "963fcdbf-8cc5-4a7e-befe-dd47d5add2bf",
   "metadata": {},
   "source": [
    "<br>\n",
    "\n",
    "#### 1. Price per square meter<br>\n",
    "    "
   ]
  },
  {
   "cell_type": "markdown",
   "id": "a580eadc-83cc-4e46-948c-859e2113421b",
   "metadata": {},
   "source": [
    "Before computing a new variable, ppsqm, it is important to see e.g. data types, id numbers and names for the columns. We must know if a division of soldPrice by livingArea is possible without a conversion of data type."
   ]
  },
  {
   "cell_type": "code",
   "execution_count": 4,
   "id": "2a7a6c4a-0dce-4f13-836e-c541e8d92541",
   "metadata": {},
   "outputs": [
    {
     "name": "stdout",
     "output_type": "stream",
     "text": [
      "<class 'pandas.core.frame.DataFrame'>\n",
      "RangeIndex: 158 entries, 0 to 157\n",
      "Data columns (total 27 columns):\n",
      " #   Column                            Non-Null Count  Dtype  \n",
      "---  ------                            --------------  -----  \n",
      " 0   listPrice                         158 non-null    int64  \n",
      " 1   rent                              156 non-null    float64\n",
      " 2   livingArea                        157 non-null    float64\n",
      " 3   rooms                             157 non-null    float64\n",
      " 4   published                         158 non-null    object \n",
      " 5   constructionYear                  144 non-null    float64\n",
      " 6   objectType                        158 non-null    object \n",
      " 7   booliId                           158 non-null    int64  \n",
      " 8   soldDate                          158 non-null    object \n",
      " 9   soldPrice                         158 non-null    int64  \n",
      " 10  soldPriceSource                   158 non-null    object \n",
      " 11  url                               158 non-null    object \n",
      " 12  floor                             118 non-null    float64\n",
      " 13  additionalArea                    28 non-null     float64\n",
      " 14  apartmentNumber                   66 non-null     float64\n",
      " 15  plotArea                          14 non-null     float64\n",
      " 16  location.address.streetAddress    158 non-null    object \n",
      " 17  location.position.latitude        158 non-null    float64\n",
      " 18  location.position.longitude       158 non-null    float64\n",
      " 19  location.position.isApproximate   112 non-null    object \n",
      " 20  location.region.municipalityName  158 non-null    object \n",
      " 21  location.region.countyName        158 non-null    object \n",
      " 22  location.distance.ocean           158 non-null    int64  \n",
      " 23  source.name                       158 non-null    object \n",
      " 24  source.id                         158 non-null    int64  \n",
      " 25  source.type                       158 non-null    object \n",
      " 26  source.url                        158 non-null    object \n",
      "dtypes: float64(10), int64(5), object(12)\n",
      "memory usage: 33.5+ KB\n"
     ]
    }
   ],
   "source": [
    "apartments_df.info()"
   ]
  },
  {
   "cell_type": "markdown",
   "id": "a1becec2-3667-4ac1-9355-f4f6ebd184b7",
   "metadata": {},
   "source": [
    "<br>\n",
    "We see that both soldPrice and livingArea have numeric data types, so there is no need for a conversion.\n",
    "The new variable, ppsqm, is computed and placed as the fourth column in the data frame. Values are rounded to two decimal places."
   ]
  },
  {
   "cell_type": "code",
   "execution_count": 5,
   "id": "fc153003-ec9c-4ee2-9fc4-73809836248e",
   "metadata": {},
   "outputs": [],
   "source": [
    "#apartments_extended_df = apartments_df.insert(3,'ppSqm',round(apartments_df['listPrice'] / apartments_df['livingArea'], 2 ))\n",
    "# apartments_df.insert(3,'ppSqm',round(apartments_df['listPrice'] / apartments_df['livingArea'], 2 ))\n",
    "apartments_df.insert(3,'ppsqm',round(apartments_df['soldPrice'] / apartments_df['livingArea'], 2 ))"
   ]
  },
  {
   "cell_type": "markdown",
   "id": "f2dae4da-3717-4c39-b694-a84ff89ef9a2",
   "metadata": {},
   "source": [
    "We also see that there are 27 columns, not all of them are interesting. Consequently, we can choose a few of them to investigate closer."
   ]
  },
  {
   "cell_type": "code",
   "execution_count": 6,
   "id": "6844e824-6270-487e-b62a-1d3242fd263a",
   "metadata": {},
   "outputs": [],
   "source": [
    "interesting_apartments_columns = ['listPrice', 'rent', 'livingArea', 'ppsqm', 'rooms', 'soldDate', 'soldPrice', 'floor', 'additionalArea']"
   ]
  },
  {
   "cell_type": "markdown",
   "id": "affb5051-2e0d-4b21-8eca-488b6b0103f4",
   "metadata": {},
   "source": [
    "The first five apartments are:"
   ]
  },
  {
   "cell_type": "code",
   "execution_count": 7,
   "id": "54b53a57-9edc-4e22-a404-b820160b28e8",
   "metadata": {},
   "outputs": [
    {
     "data": {
      "text/html": [
       "<div>\n",
       "<style scoped>\n",
       "    .dataframe tbody tr th:only-of-type {\n",
       "        vertical-align: middle;\n",
       "    }\n",
       "\n",
       "    .dataframe tbody tr th {\n",
       "        vertical-align: top;\n",
       "    }\n",
       "\n",
       "    .dataframe thead th {\n",
       "        text-align: right;\n",
       "    }\n",
       "</style>\n",
       "<table border=\"1\" class=\"dataframe\">\n",
       "  <thead>\n",
       "    <tr style=\"text-align: right;\">\n",
       "      <th></th>\n",
       "      <th>listPrice</th>\n",
       "      <th>rent</th>\n",
       "      <th>livingArea</th>\n",
       "      <th>ppsqm</th>\n",
       "      <th>rooms</th>\n",
       "      <th>soldDate</th>\n",
       "      <th>soldPrice</th>\n",
       "      <th>floor</th>\n",
       "      <th>additionalArea</th>\n",
       "    </tr>\n",
       "  </thead>\n",
       "  <tbody>\n",
       "    <tr>\n",
       "      <th>0</th>\n",
       "      <td>3995000</td>\n",
       "      <td>4467.0</td>\n",
       "      <td>73.0</td>\n",
       "      <td>52328.77</td>\n",
       "      <td>3.0</td>\n",
       "      <td>2018-11-08</td>\n",
       "      <td>3820000</td>\n",
       "      <td>NaN</td>\n",
       "      <td>NaN</td>\n",
       "    </tr>\n",
       "    <tr>\n",
       "      <th>1</th>\n",
       "      <td>1995000</td>\n",
       "      <td>1773.0</td>\n",
       "      <td>36.0</td>\n",
       "      <td>65416.67</td>\n",
       "      <td>1.0</td>\n",
       "      <td>2018-10-19</td>\n",
       "      <td>2355000</td>\n",
       "      <td>1.0</td>\n",
       "      <td>0.0</td>\n",
       "    </tr>\n",
       "    <tr>\n",
       "      <th>2</th>\n",
       "      <td>5100000</td>\n",
       "      <td>3839.0</td>\n",
       "      <td>81.0</td>\n",
       "      <td>75432.10</td>\n",
       "      <td>3.0</td>\n",
       "      <td>2018-09-27</td>\n",
       "      <td>6110000</td>\n",
       "      <td>3.0</td>\n",
       "      <td>0.0</td>\n",
       "    </tr>\n",
       "    <tr>\n",
       "      <th>3</th>\n",
       "      <td>5495000</td>\n",
       "      <td>4483.0</td>\n",
       "      <td>107.0</td>\n",
       "      <td>75233.64</td>\n",
       "      <td>4.0</td>\n",
       "      <td>2018-09-06</td>\n",
       "      <td>8050000</td>\n",
       "      <td>3.0</td>\n",
       "      <td>0.0</td>\n",
       "    </tr>\n",
       "    <tr>\n",
       "      <th>4</th>\n",
       "      <td>1995000</td>\n",
       "      <td>1696.0</td>\n",
       "      <td>29.0</td>\n",
       "      <td>82758.62</td>\n",
       "      <td>1.0</td>\n",
       "      <td>2018-06-18</td>\n",
       "      <td>2400000</td>\n",
       "      <td>3.0</td>\n",
       "      <td>NaN</td>\n",
       "    </tr>\n",
       "  </tbody>\n",
       "</table>\n",
       "</div>"
      ],
      "text/plain": [
       "   listPrice    rent  livingArea     ppsqm  rooms    soldDate  soldPrice  \\\n",
       "0    3995000  4467.0        73.0  52328.77    3.0  2018-11-08    3820000   \n",
       "1    1995000  1773.0        36.0  65416.67    1.0  2018-10-19    2355000   \n",
       "2    5100000  3839.0        81.0  75432.10    3.0  2018-09-27    6110000   \n",
       "3    5495000  4483.0       107.0  75233.64    4.0  2018-09-06    8050000   \n",
       "4    1995000  1696.0        29.0  82758.62    1.0  2018-06-18    2400000   \n",
       "\n",
       "   floor  additionalArea  \n",
       "0    NaN             NaN  \n",
       "1    1.0             0.0  \n",
       "2    3.0             0.0  \n",
       "3    3.0             0.0  \n",
       "4    3.0             NaN  "
      ]
     },
     "execution_count": 7,
     "metadata": {},
     "output_type": "execute_result"
    }
   ],
   "source": [
    "apartments_df[interesting_apartments_columns].head()"
   ]
  },
  {
   "cell_type": "markdown",
   "id": "95de425c-2a12-4767-aab5-e76c876b6e08",
   "metadata": {},
   "source": [
    "\n",
    "#### 2. Five most expensive apartments w.r.t. ppsqm\n"
   ]
  },
  {
   "cell_type": "code",
   "execution_count": 8,
   "id": "043acfb3-9028-4160-90ba-4371ddaab9b6",
   "metadata": {},
   "outputs": [],
   "source": [
    "# apartments_df.sort_values(by='ppSqm')"
   ]
  },
  {
   "cell_type": "markdown",
   "id": "bc792d92-edb6-474b-adaa-f368170e3f37",
   "metadata": {},
   "source": [
    "[Show the five highest values, avoiding NaN value]: #"
   ]
  },
  {
   "cell_type": "code",
   "execution_count": 9,
   "id": "13c3cdc9-e043-4285-8a62-3ab9df722f37",
   "metadata": {},
   "outputs": [],
   "source": [
    "# apartments_df.sort_values(by='ppSqm', na_position='first').tail()"
   ]
  },
  {
   "cell_type": "markdown",
   "id": "c15c100e-f0a8-4969-a7a1-44d4b32a8260",
   "metadata": {},
   "source": [
    "There are several ways to find the most expensive apartments, e.g. sort descending and then show the top five apartments. There is also a function that does this directly:"
   ]
  },
  {
   "cell_type": "code",
   "execution_count": 10,
   "id": "a97363e6-b3d0-4519-99e2-5e1808d44825",
   "metadata": {},
   "outputs": [
    {
     "data": {
      "text/html": [
       "<div>\n",
       "<style scoped>\n",
       "    .dataframe tbody tr th:only-of-type {\n",
       "        vertical-align: middle;\n",
       "    }\n",
       "\n",
       "    .dataframe tbody tr th {\n",
       "        vertical-align: top;\n",
       "    }\n",
       "\n",
       "    .dataframe thead th {\n",
       "        text-align: right;\n",
       "    }\n",
       "</style>\n",
       "<table border=\"1\" class=\"dataframe\">\n",
       "  <thead>\n",
       "    <tr style=\"text-align: right;\">\n",
       "      <th></th>\n",
       "      <th>listPrice</th>\n",
       "      <th>rent</th>\n",
       "      <th>livingArea</th>\n",
       "      <th>ppsqm</th>\n",
       "      <th>rooms</th>\n",
       "      <th>soldDate</th>\n",
       "      <th>soldPrice</th>\n",
       "      <th>floor</th>\n",
       "      <th>additionalArea</th>\n",
       "    </tr>\n",
       "  </thead>\n",
       "  <tbody>\n",
       "    <tr>\n",
       "      <th>67</th>\n",
       "      <td>1595000</td>\n",
       "      <td>1464.0</td>\n",
       "      <td>24.0</td>\n",
       "      <td>104166.67</td>\n",
       "      <td>1.0</td>\n",
       "      <td>2016-01-21</td>\n",
       "      <td>2500000</td>\n",
       "      <td>3.0</td>\n",
       "      <td>NaN</td>\n",
       "    </tr>\n",
       "    <tr>\n",
       "      <th>50</th>\n",
       "      <td>1890000</td>\n",
       "      <td>1464.0</td>\n",
       "      <td>24.0</td>\n",
       "      <td>102083.33</td>\n",
       "      <td>1.0</td>\n",
       "      <td>2016-06-21</td>\n",
       "      <td>2450000</td>\n",
       "      <td>3.0</td>\n",
       "      <td>NaN</td>\n",
       "    </tr>\n",
       "    <tr>\n",
       "      <th>54</th>\n",
       "      <td>1795000</td>\n",
       "      <td>1374.0</td>\n",
       "      <td>23.0</td>\n",
       "      <td>100000.00</td>\n",
       "      <td>1.0</td>\n",
       "      <td>2016-04-28</td>\n",
       "      <td>2300000</td>\n",
       "      <td>1.0</td>\n",
       "      <td>NaN</td>\n",
       "    </tr>\n",
       "    <tr>\n",
       "      <th>34</th>\n",
       "      <td>1750000</td>\n",
       "      <td>1144.0</td>\n",
       "      <td>25.0</td>\n",
       "      <td>88400.00</td>\n",
       "      <td>1.0</td>\n",
       "      <td>2017-06-01</td>\n",
       "      <td>2210000</td>\n",
       "      <td>0.0</td>\n",
       "      <td>0.0</td>\n",
       "    </tr>\n",
       "    <tr>\n",
       "      <th>55</th>\n",
       "      <td>1895000</td>\n",
       "      <td>1522.0</td>\n",
       "      <td>26.9</td>\n",
       "      <td>85501.86</td>\n",
       "      <td>1.0</td>\n",
       "      <td>2016-04-19</td>\n",
       "      <td>2300000</td>\n",
       "      <td>2.0</td>\n",
       "      <td>NaN</td>\n",
       "    </tr>\n",
       "  </tbody>\n",
       "</table>\n",
       "</div>"
      ],
      "text/plain": [
       "    listPrice    rent  livingArea      ppsqm  rooms    soldDate  soldPrice  \\\n",
       "67    1595000  1464.0        24.0  104166.67    1.0  2016-01-21    2500000   \n",
       "50    1890000  1464.0        24.0  102083.33    1.0  2016-06-21    2450000   \n",
       "54    1795000  1374.0        23.0  100000.00    1.0  2016-04-28    2300000   \n",
       "34    1750000  1144.0        25.0   88400.00    1.0  2017-06-01    2210000   \n",
       "55    1895000  1522.0        26.9   85501.86    1.0  2016-04-19    2300000   \n",
       "\n",
       "    floor  additionalArea  \n",
       "67    3.0             NaN  \n",
       "50    3.0             NaN  \n",
       "54    1.0             NaN  \n",
       "34    0.0             0.0  \n",
       "55    2.0             NaN  "
      ]
     },
     "execution_count": 10,
     "metadata": {},
     "output_type": "execute_result"
    }
   ],
   "source": [
    "apartments_df[interesting_apartments_columns].nlargest(5,'ppsqm')"
   ]
  },
  {
   "cell_type": "markdown",
   "id": "90e49aa0-9ac2-4fca-a798-b3a98b29c482",
   "metadata": {},
   "source": [
    "\n",
    "#### 3. Average ppsqm\n"
   ]
  },
  {
   "cell_type": "markdown",
   "id": "b8edca9d-28e7-48fe-87d6-6c68eefb3ec4",
   "metadata": {},
   "source": [
    "The average price per square meter is found as:"
   ]
  },
  {
   "cell_type": "code",
   "execution_count": 11,
   "id": "2a92628e-d5b8-4ca3-8e07-97add9704906",
   "metadata": {},
   "outputs": [],
   "source": [
    "average = apartments_df['ppsqm'].mean()"
   ]
  },
  {
   "cell_type": "code",
   "execution_count": 94,
   "id": "210f17bd-0b7f-4f86-86c7-800681028c88",
   "metadata": {},
   "outputs": [
    {
     "name": "stdout",
     "output_type": "stream",
     "text": [
      "\n",
      " The average price in Ekhagen is 58759.38 SEK per square meter. \n",
      "\n"
     ]
    }
   ],
   "source": [
    "print(\"\\n The average price in Ekhagen is \" + str(round(average,2)) + \" SEK per square meter. \\n\")"
   ]
  },
  {
   "cell_type": "markdown",
   "id": "b32857c8-307e-4aef-9fba-e0d46edd4ebc",
   "metadata": {},
   "source": [
    "\n",
    "#### 4. Correlation between price per square meter and living area\n"
   ]
  },
  {
   "cell_type": "markdown",
   "id": "c99c86c2-b619-41c3-9960-f4e3f755091d",
   "metadata": {},
   "source": [
    "It is often said that there is a negative correlation between price per square meter and living area of an apartment. It would be interesting to see if this is valid also for apartments in Ekhagen. \n",
    "                                                                                                                                                                          \n",
    "One way to study this is to make a scatter plot of price per square meter versus living area.                                                                                                                                                                          ."
   ]
  },
  {
   "cell_type": "code",
   "execution_count": 13,
   "id": "70a86ea4-9a06-4a2b-945b-d03b31a2220c",
   "metadata": {},
   "outputs": [
    {
     "data": {
      "image/png": "[encoded data removed]",
      "text/plain": [
       "<Figure size 640x480 with 1 Axes>"
      ]
     },
     "metadata": {},
     "output_type": "display_data"
    }
   ],
   "source": [
    "fig, ax = plt.subplots()\n",
    "# livingArea_asArray = np.asarray(apartments_df['livingArea'])\n",
    "# ppsqm_asArray = np.asarray(apartments_df['ppsqm'])\n",
    "#ax.plot = (livingArea_asArray,ppSqm_asArray)\n",
    "ax.set_title('Price per square meter vs Apartment area')\n",
    "ax.set_xlabel('livingArea')\n",
    "ax.set_ylabel('ppsqm')\n",
    "ax.scatter('livingArea','ppsqm',data=apartments_df);\n",
    "# ax.scatter(apartments_df['livingArea'],apartments_df['ppSqm'])\n",
    "# ax.scatter(livingArea_asArray,ppSqm_asArray)\n",
    "# plt.show()"
   ]
  },
  {
   "cell_type": "markdown",
   "id": "9998f4cc-809f-4db9-b338-702c4098a49d",
   "metadata": {},
   "source": [
    "<br>\n",
    "The overall impression from the plot is that there is a weak negative correlation. If you divide the living area in two bins, you get a more detailed view.\n",
    "It seems that for apartments with a living area less than 70 square meter there in fact is a negative linear correlation, but for larger apartments it is hard to find any correlation at all."
   ]
  },
  {
   "cell_type": "markdown",
   "id": "575d7a3b-188b-44fb-8fd9-c9a0442a778b",
   "metadata": {},
   "source": [
    "To study if this impression holds you may compute the correlation coefficient, R, for the whole data set, and for the two subsets mentioned above."
   ]
  },
  {
   "cell_type": "markdown",
   "id": "fb0edcf2-5f37-4b4e-a71b-caee46ef80fc",
   "metadata": {},
   "source": [
    "First we make a new data frame with the two columns:"
   ]
  },
  {
   "cell_type": "code",
   "execution_count": 14,
   "id": "1cc448b1-0bc2-428b-8d77-e2f797897e55",
   "metadata": {},
   "outputs": [],
   "source": [
    "livingArea_ppsqm_df = pd.DataFrame(data=apartments_df,columns=['livingArea','ppsqm'])"
   ]
  },
  {
   "cell_type": "code",
   "execution_count": 15,
   "id": "8b788d7d-8b70-4926-a951-4eab4ec5cc57",
   "metadata": {},
   "outputs": [
    {
     "data": {
      "text/html": [
       "<div>\n",
       "<style scoped>\n",
       "    .dataframe tbody tr th:only-of-type {\n",
       "        vertical-align: middle;\n",
       "    }\n",
       "\n",
       "    .dataframe tbody tr th {\n",
       "        vertical-align: top;\n",
       "    }\n",
       "\n",
       "    .dataframe thead th {\n",
       "        text-align: right;\n",
       "    }\n",
       "</style>\n",
       "<table border=\"1\" class=\"dataframe\">\n",
       "  <thead>\n",
       "    <tr style=\"text-align: right;\">\n",
       "      <th></th>\n",
       "      <th>livingArea</th>\n",
       "      <th>ppsqm</th>\n",
       "    </tr>\n",
       "  </thead>\n",
       "  <tbody>\n",
       "    <tr>\n",
       "      <th>0</th>\n",
       "      <td>73.0</td>\n",
       "      <td>52328.77</td>\n",
       "    </tr>\n",
       "    <tr>\n",
       "      <th>1</th>\n",
       "      <td>36.0</td>\n",
       "      <td>65416.67</td>\n",
       "    </tr>\n",
       "    <tr>\n",
       "      <th>2</th>\n",
       "      <td>81.0</td>\n",
       "      <td>75432.10</td>\n",
       "    </tr>\n",
       "    <tr>\n",
       "      <th>3</th>\n",
       "      <td>107.0</td>\n",
       "      <td>75233.64</td>\n",
       "    </tr>\n",
       "    <tr>\n",
       "      <th>4</th>\n",
       "      <td>29.0</td>\n",
       "      <td>82758.62</td>\n",
       "    </tr>\n",
       "  </tbody>\n",
       "</table>\n",
       "</div>"
      ],
      "text/plain": [
       "   livingArea     ppsqm\n",
       "0        73.0  52328.77\n",
       "1        36.0  65416.67\n",
       "2        81.0  75432.10\n",
       "3       107.0  75233.64\n",
       "4        29.0  82758.62"
      ]
     },
     "execution_count": 15,
     "metadata": {},
     "output_type": "execute_result"
    }
   ],
   "source": [
    "livingArea_ppsqm_df.head()"
   ]
  },
  {
   "cell_type": "markdown",
   "id": "a637b452-d7d8-4310-a0af-29124b4488c0",
   "metadata": {},
   "source": [
    "We then compute R for the whole data set."
   ]
  },
  {
   "cell_type": "code",
   "execution_count": 16,
   "id": "2f7c77fb-5939-4123-83cc-b0692b18b4e1",
   "metadata": {},
   "outputs": [
    {
     "data": {
      "text/html": [
       "<div>\n",
       "<style scoped>\n",
       "    .dataframe tbody tr th:only-of-type {\n",
       "        vertical-align: middle;\n",
       "    }\n",
       "\n",
       "    .dataframe tbody tr th {\n",
       "        vertical-align: top;\n",
       "    }\n",
       "\n",
       "    .dataframe thead th {\n",
       "        text-align: right;\n",
       "    }\n",
       "</style>\n",
       "<table border=\"1\" class=\"dataframe\">\n",
       "  <thead>\n",
       "    <tr style=\"text-align: right;\">\n",
       "      <th></th>\n",
       "      <th>livingArea</th>\n",
       "      <th>ppsqm</th>\n",
       "    </tr>\n",
       "  </thead>\n",
       "  <tbody>\n",
       "    <tr>\n",
       "      <th>livingArea</th>\n",
       "      <td>1.000</td>\n",
       "      <td>-0.408</td>\n",
       "    </tr>\n",
       "    <tr>\n",
       "      <th>ppsqm</th>\n",
       "      <td>-0.408</td>\n",
       "      <td>1.000</td>\n",
       "    </tr>\n",
       "  </tbody>\n",
       "</table>\n",
       "</div>"
      ],
      "text/plain": [
       "            livingArea  ppsqm\n",
       "livingArea       1.000 -0.408\n",
       "ppsqm           -0.408  1.000"
      ]
     },
     "execution_count": 16,
     "metadata": {},
     "output_type": "execute_result"
    }
   ],
   "source": [
    "round(livingArea_ppsqm_df.corr(),3)"
   ]
  },
  {
   "cell_type": "markdown",
   "id": "29cd2c2a-58a8-49ac-93df-17dd77dedb6b",
   "metadata": {},
   "source": [
    "There is a small negative linear correlation between living area and price per square meter."
   ]
  },
  {
   "cell_type": "markdown",
   "id": "ad8fb758-9436-41b1-8f0b-0882329eeee5",
   "metadata": {},
   "source": [
    "[Ta bort rader med NaN, blir ingen skillnad i R, eftersom corr() tar bort NaN !!]: #"
   ]
  },
  {
   "cell_type": "markdown",
   "id": "a3c1f2a1-a9e4-4a30-a600-5f3caf2c9c63",
   "metadata": {},
   "source": [
    "For apartments up to 70 square meters R is:"
   ]
  },
  {
   "cell_type": "code",
   "execution_count": 17,
   "id": "ff970481-0840-4dc7-b866-1732a1225a5a",
   "metadata": {},
   "outputs": [
    {
     "data": {
      "text/html": [
       "<div>\n",
       "<style scoped>\n",
       "    .dataframe tbody tr th:only-of-type {\n",
       "        vertical-align: middle;\n",
       "    }\n",
       "\n",
       "    .dataframe tbody tr th {\n",
       "        vertical-align: top;\n",
       "    }\n",
       "\n",
       "    .dataframe thead th {\n",
       "        text-align: right;\n",
       "    }\n",
       "</style>\n",
       "<table border=\"1\" class=\"dataframe\">\n",
       "  <thead>\n",
       "    <tr style=\"text-align: right;\">\n",
       "      <th></th>\n",
       "      <th>livingArea</th>\n",
       "      <th>ppsqm</th>\n",
       "    </tr>\n",
       "  </thead>\n",
       "  <tbody>\n",
       "    <tr>\n",
       "      <th>livingArea</th>\n",
       "      <td>1.000</td>\n",
       "      <td>-0.701</td>\n",
       "    </tr>\n",
       "    <tr>\n",
       "      <th>ppsqm</th>\n",
       "      <td>-0.701</td>\n",
       "      <td>1.000</td>\n",
       "    </tr>\n",
       "  </tbody>\n",
       "</table>\n",
       "</div>"
      ],
      "text/plain": [
       "            livingArea  ppsqm\n",
       "livingArea       1.000 -0.701\n",
       "ppsqm           -0.701  1.000"
      ]
     },
     "execution_count": 17,
     "metadata": {},
     "output_type": "execute_result"
    }
   ],
   "source": [
    "round(livingArea_ppsqm_df.where(livingArea_ppsqm_df['livingArea'] < 70).corr(),3)"
   ]
  },
  {
   "cell_type": "markdown",
   "id": "8edca573-1577-49d8-bdb0-a2b1fad34bd8",
   "metadata": {},
   "source": [
    "This confirms the visual impression of a more negative correlation for apartments less than 70 square meters."
   ]
  },
  {
   "cell_type": "markdown",
   "id": "8958d8be-de07-438f-85bb-7b7090ea0ddb",
   "metadata": {},
   "source": [
    "For larger apartments we get:"
   ]
  },
  {
   "cell_type": "code",
   "execution_count": 18,
   "id": "d67bd235-b961-4ef5-aead-359fdebed63f",
   "metadata": {},
   "outputs": [
    {
     "data": {
      "text/html": [
       "<div>\n",
       "<style scoped>\n",
       "    .dataframe tbody tr th:only-of-type {\n",
       "        vertical-align: middle;\n",
       "    }\n",
       "\n",
       "    .dataframe tbody tr th {\n",
       "        vertical-align: top;\n",
       "    }\n",
       "\n",
       "    .dataframe thead th {\n",
       "        text-align: right;\n",
       "    }\n",
       "</style>\n",
       "<table border=\"1\" class=\"dataframe\">\n",
       "  <thead>\n",
       "    <tr style=\"text-align: right;\">\n",
       "      <th></th>\n",
       "      <th>livingArea</th>\n",
       "      <th>ppsqm</th>\n",
       "    </tr>\n",
       "  </thead>\n",
       "  <tbody>\n",
       "    <tr>\n",
       "      <th>livingArea</th>\n",
       "      <td>1.000</td>\n",
       "      <td>0.046</td>\n",
       "    </tr>\n",
       "    <tr>\n",
       "      <th>ppsqm</th>\n",
       "      <td>0.046</td>\n",
       "      <td>1.000</td>\n",
       "    </tr>\n",
       "  </tbody>\n",
       "</table>\n",
       "</div>"
      ],
      "text/plain": [
       "            livingArea  ppsqm\n",
       "livingArea       1.000  0.046\n",
       "ppsqm            0.046  1.000"
      ]
     },
     "execution_count": 18,
     "metadata": {},
     "output_type": "execute_result"
    }
   ],
   "source": [
    "round(livingArea_ppsqm_df.where(livingArea_ppsqm_df['livingArea'] >= 70).corr(),3)"
   ]
  },
  {
   "cell_type": "markdown",
   "id": "7cdfd133-7d70-4d9e-8bbd-83040eb64fdb",
   "metadata": {},
   "source": [
    "So, for larger apartments living area and price per square meter are uncorrelated in the studied data set."
   ]
  },
  {
   "cell_type": "code",
   "execution_count": 19,
   "id": "0aef61b7-40e3-4bb1-881c-4d266d8b957b",
   "metadata": {},
   "outputs": [],
   "source": [
    "# livingArea_ppSqm_df_without_NaN  = livingArea_ppsqm_df.dropna(ignore_index=True) "
   ]
  },
  {
   "cell_type": "code",
   "execution_count": 20,
   "id": "3f76bcda-391d-4606-be87-80e2c52189e0",
   "metadata": {},
   "outputs": [],
   "source": [
    "# livingArea_ppSqm_df_without_NaN"
   ]
  },
  {
   "cell_type": "code",
   "execution_count": 21,
   "id": "989a8767-7181-4eb4-a651-6e08b4dd3ede",
   "metadata": {},
   "outputs": [],
   "source": [
    "# livingArea_ppsqm_df_without_NaN.corr()"
   ]
  },
  {
   "cell_type": "code",
   "execution_count": 22,
   "id": "54552846-7cae-4ab5-8abf-0cfb7b155eed",
   "metadata": {},
   "outputs": [],
   "source": [
    "# To investigate the subsets we first divide the data in two data frames"
   ]
  },
  {
   "cell_type": "code",
   "execution_count": 23,
   "id": "fd10f5e5-5fac-4464-aec0-d68e13117286",
   "metadata": {},
   "outputs": [],
   "source": [
    "# livingArea_ppsqm_df_lt_70_sqm_with_NaN = livingArea_ppsqm_df.where(livingArea_ppsqm_df['livingArea'] < 70).corr()"
   ]
  },
  {
   "cell_type": "code",
   "execution_count": 24,
   "id": "fcf3ddf5-ae0d-46a6-8302-9882f36775ce",
   "metadata": {},
   "outputs": [],
   "source": [
    "# livingArea_ppsqm_df_lt_70_sqm_with_NaN"
   ]
  },
  {
   "cell_type": "code",
   "execution_count": 25,
   "id": "d9f25989-a4c6-401c-a87d-00fd6f4af21b",
   "metadata": {},
   "outputs": [],
   "source": [
    "# livingArea_ppsqm_df_lt_70_sqm_without_NaN = livingArea_ppsqm_df_lt_70_sqm_with_NaN.dropna()"
   ]
  },
  {
   "cell_type": "code",
   "execution_count": 26,
   "id": "f5bafec8-9732-4b61-a6cd-63788948fae1",
   "metadata": {},
   "outputs": [],
   "source": [
    "# round(livingArea_ppsqm_df_lt_70_sqm_without_NaN.corr(),3)"
   ]
  },
  {
   "cell_type": "code",
   "execution_count": 27,
   "id": "11ba8702-429a-4a20-8640-d684ce6cebdf",
   "metadata": {},
   "outputs": [],
   "source": [
    "# livingArea_ppsqm_df_gte_70_sqm = livingArea_ppsqm_df.where(livingArea_ppsqm_df['livingArea'] >= 70).dropna()"
   ]
  },
  {
   "cell_type": "code",
   "execution_count": 28,
   "id": "08392953-7d01-41be-8798-d75408404c23",
   "metadata": {},
   "outputs": [],
   "source": [
    "# livingArea_ppsqm_df_gte_70_sqm"
   ]
  },
  {
   "cell_type": "code",
   "execution_count": 29,
   "id": "ba126036-f75f-4a94-9415-b9b2b9f9e6f6",
   "metadata": {},
   "outputs": [],
   "source": [
    "# round(livingArea_ppsqm_df_gte_70_sqm.corr(),3)"
   ]
  },
  {
   "cell_type": "code",
   "execution_count": 30,
   "id": "7b0aa8e1-9001-4a2e-9cdb-a212e1eac731",
   "metadata": {},
   "outputs": [],
   "source": [
    "# Gör en matris av de två arrayerna, blir komplicerat med NaN-värdeparen (1 eller 2 sådana par)"
   ]
  },
  {
   "cell_type": "code",
   "execution_count": 31,
   "id": "40f117e8-676d-4d1b-828c-43c55877f794",
   "metadata": {},
   "outputs": [],
   "source": [
    "# livingArea_ppSqm_matrix = np.asmatrix([livingArea_asArray,ppSqm_asArray])"
   ]
  },
  {
   "cell_type": "code",
   "execution_count": 32,
   "id": "c1ad678e-60a3-48e4-9e98-b42ab2c456fe",
   "metadata": {},
   "outputs": [],
   "source": [
    "# livingArea_ppSqm_matrix.ndim"
   ]
  },
  {
   "cell_type": "code",
   "execution_count": 33,
   "id": "34abfdce-00a9-4fd4-acaf-6ad4ed7de4ae",
   "metadata": {},
   "outputs": [],
   "source": [
    "# livingArea_ppSqm_matrix.shape"
   ]
  },
  {
   "cell_type": "code",
   "execution_count": 34,
   "id": "ba62883d-ef11-4d53-8df8-4598616a4461",
   "metadata": {},
   "outputs": [],
   "source": [
    "# livingArea_ppSqm_matrix.strides # 8*158 = 1264"
   ]
  },
  {
   "cell_type": "code",
   "execution_count": 35,
   "id": "2195d9c4-cfa6-49d8-9ffa-4691deae10fd",
   "metadata": {},
   "outputs": [],
   "source": [
    "# en_obs = livingArea_ppSqm_matrix[1][0]"
   ]
  },
  {
   "cell_type": "code",
   "execution_count": 36,
   "id": "a1137651-bb81-4d60-816e-e528dbdd33c7",
   "metadata": {},
   "outputs": [],
   "source": [
    "# type(en_obs)"
   ]
  },
  {
   "cell_type": "code",
   "execution_count": 37,
   "id": "60fca898-ea4c-426f-ad63-f6c7634efaf2",
   "metadata": {},
   "outputs": [],
   "source": [
    "# print(en_obs)"
   ]
  },
  {
   "cell_type": "code",
   "execution_count": 38,
   "id": "0c7b3248-02df-44fe-91a9-03a212479333",
   "metadata": {},
   "outputs": [],
   "source": [
    "# en_obs.ndim"
   ]
  },
  {
   "cell_type": "code",
   "execution_count": 39,
   "id": "8988d12f-b6eb-4b46-b994-1a0010e01eb3",
   "metadata": {},
   "outputs": [],
   "source": [
    "# print(en_obs[0,4])"
   ]
  },
  {
   "cell_type": "code",
   "execution_count": 40,
   "id": "f8065690-c3d7-4d6e-99a7-6442b628c7cc",
   "metadata": {},
   "outputs": [],
   "source": [
    "# en_obs.shape"
   ]
  },
  {
   "cell_type": "code",
   "execution_count": 41,
   "id": "4bbada8d-af02-4c1d-917c-9b6a29eea897",
   "metadata": {},
   "outputs": [],
   "source": [
    "# tvaa_obs = livingArea_ppSqm_matrix[...,157]"
   ]
  },
  {
   "cell_type": "code",
   "execution_count": 42,
   "id": "0fc8228d-90bd-4df8-ac19-822174c37796",
   "metadata": {},
   "outputs": [],
   "source": [
    "# type(tvaa_obs)"
   ]
  },
  {
   "cell_type": "code",
   "execution_count": 43,
   "id": "bf6a7720-c43c-4427-b6c9-207e365291ee",
   "metadata": {},
   "outputs": [],
   "source": [
    "# tvaa_obs.ndim"
   ]
  },
  {
   "cell_type": "code",
   "execution_count": 44,
   "id": "45f4ffb3-ff92-41de-98c8-237f650428f7",
   "metadata": {},
   "outputs": [],
   "source": [
    "# tvaa_obs.shape"
   ]
  },
  {
   "cell_type": "code",
   "execution_count": 45,
   "id": "f2930250-4b02-4254-a4ca-db710d23159f",
   "metadata": {},
   "outputs": [],
   "source": [
    "# tvaa_obs"
   ]
  },
  {
   "cell_type": "code",
   "execution_count": 46,
   "id": "b461e879-11ca-4293-a22e-c79110ab5a2a",
   "metadata": {},
   "outputs": [],
   "source": [
    "# livingArea_ppSqm_matrix"
   ]
  },
  {
   "cell_type": "code",
   "execution_count": 47,
   "id": "b2aaba85-e471-4167-b32e-7db8dbcae8a1",
   "metadata": {},
   "outputs": [],
   "source": [
    "# np.corrcoef(livingArea_asArray,ppSqm_asArray)"
   ]
  },
  {
   "cell_type": "code",
   "execution_count": 48,
   "id": "c545e5c1-9c03-49aa-a614-0e82ce1982e3",
   "metadata": {},
   "outputs": [],
   "source": [
    "# apartments_df['livingArea','ppSqm'].corr(method='callable')\n",
    "# np.corrcoef(livingArea_ppSqm_matrix)"
   ]
  },
  {
   "cell_type": "code",
   "execution_count": 49,
   "id": "1ec250ce-3e59-4756-96a6-679f3fc059e1",
   "metadata": {},
   "outputs": [],
   "source": [
    "# ivingArea_asArray "
   ]
  },
  {
   "cell_type": "code",
   "execution_count": 50,
   "id": "ce7c2e0c-6bb3-4ca4-a4dd-aa50b95fb15d",
   "metadata": {},
   "outputs": [],
   "source": [
    "# type(livingArea_asArray)"
   ]
  },
  {
   "cell_type": "code",
   "execution_count": 51,
   "id": "bc66f18d-ebac-4419-bd4b-f566d44314e4",
   "metadata": {},
   "outputs": [],
   "source": [
    "# livingArea_asArray.ndim"
   ]
  },
  {
   "cell_type": "code",
   "execution_count": 52,
   "id": "19ae5f49-b84f-46ad-9efb-45389a564a51",
   "metadata": {},
   "outputs": [],
   "source": [
    "# ppSqm_asArray"
   ]
  },
  {
   "cell_type": "markdown",
   "id": "ead85e6f-0b99-490a-a43a-49eb23d4fabe",
   "metadata": {},
   "source": [
    "\n",
    "### The Swedish Election of 2018\n"
   ]
  },
  {
   "cell_type": "markdown",
   "id": "04d141bc-5e2d-4d80-8f7e-2e76c7b1d8ca",
   "metadata": {},
   "source": [
    "As above, we have to check the data before reading it."
   ]
  },
  {
   "cell_type": "markdown",
   "id": "8a544bda-a6f5-4c4e-8643-aea77b083676",
   "metadata": {},
   "source": [
    "![Upper left corner of the file opened in Jupyter](2018_R_per_kommun-csv-II.jpg  \"'Delimiter' shows the sep parameter value to use\")<br><br>"
   ]
  },
  {
   "cell_type": "markdown",
   "id": "08069778-8b6d-4078-beed-1a5dc3567a27",
   "metadata": {},
   "source": [
    "To read data from file, it is to be noted that the delimiter is semi colon, \" ; \", so the correct value for the sep parameter must be used. We also see that comma, \" , \", is used as decimal character, which has to be given for the corresponding parameter.<br>"
   ]
  },
  {
   "cell_type": "code",
   "execution_count": 53,
   "id": "9451d793-9aaf-4d5d-bbce-807832aa8095",
   "metadata": {},
   "outputs": [],
   "source": [
    "R_per_kommun_df = pd.read_csv('2018_R_per_kommun.csv', sep=';', decimal=',')"
   ]
  },
  {
   "cell_type": "markdown",
   "id": "0f77e49f-1220-4588-984f-811af6095870",
   "metadata": {},
   "source": [
    "To see some more data"
   ]
  },
  {
   "cell_type": "code",
   "execution_count": 54,
   "id": "052b4b9e-7b4f-40ee-a272-0db5f04b1b81",
   "metadata": {},
   "outputs": [
    {
     "data": {
      "text/html": [
       "<div>\n",
       "<style scoped>\n",
       "    .dataframe tbody tr th:only-of-type {\n",
       "        vertical-align: middle;\n",
       "    }\n",
       "\n",
       "    .dataframe tbody tr th {\n",
       "        vertical-align: top;\n",
       "    }\n",
       "\n",
       "    .dataframe thead th {\n",
       "        text-align: right;\n",
       "    }\n",
       "</style>\n",
       "<table border=\"1\" class=\"dataframe\">\n",
       "  <thead>\n",
       "    <tr style=\"text-align: right;\">\n",
       "      <th></th>\n",
       "      <th>LÄNSKOD</th>\n",
       "      <th>KOMMUNKOD</th>\n",
       "      <th>LÄNSNAMN</th>\n",
       "      <th>KOMMUNNAMN</th>\n",
       "      <th>M</th>\n",
       "      <th>C</th>\n",
       "      <th>L</th>\n",
       "      <th>KD</th>\n",
       "      <th>S</th>\n",
       "      <th>V</th>\n",
       "      <th>...</th>\n",
       "      <th>TRP</th>\n",
       "      <th>VL-S</th>\n",
       "      <th>ÖVR</th>\n",
       "      <th>OGEJ</th>\n",
       "      <th>BLANK</th>\n",
       "      <th>OG</th>\n",
       "      <th>RÖSTER GILTIGA</th>\n",
       "      <th>RÖSTANDE</th>\n",
       "      <th>RÖSTBERÄTTIGADE</th>\n",
       "      <th>VALDELTAGANDE</th>\n",
       "    </tr>\n",
       "  </thead>\n",
       "  <tbody>\n",
       "    <tr>\n",
       "      <th>285</th>\n",
       "      <td>25</td>\n",
       "      <td>80</td>\n",
       "      <td>Norrbottens län</td>\n",
       "      <td>Luleå</td>\n",
       "      <td>15.38</td>\n",
       "      <td>7.53</td>\n",
       "      <td>4.37</td>\n",
       "      <td>4.78</td>\n",
       "      <td>38.97</td>\n",
       "      <td>10.47</td>\n",
       "      <td>...</td>\n",
       "      <td>NaN</td>\n",
       "      <td>NaN</td>\n",
       "      <td>0.01</td>\n",
       "      <td>0.03</td>\n",
       "      <td>0.69</td>\n",
       "      <td>0.04</td>\n",
       "      <td>53182</td>\n",
       "      <td>53589</td>\n",
       "      <td>60185</td>\n",
       "      <td>89.04</td>\n",
       "    </tr>\n",
       "    <tr>\n",
       "      <th>286</th>\n",
       "      <td>25</td>\n",
       "      <td>81</td>\n",
       "      <td>Norrbottens län</td>\n",
       "      <td>Piteå</td>\n",
       "      <td>11.82</td>\n",
       "      <td>7.49</td>\n",
       "      <td>2.52</td>\n",
       "      <td>4.80</td>\n",
       "      <td>47.48</td>\n",
       "      <td>10.56</td>\n",
       "      <td>...</td>\n",
       "      <td>NaN</td>\n",
       "      <td>NaN</td>\n",
       "      <td>0.00</td>\n",
       "      <td>0.03</td>\n",
       "      <td>0.61</td>\n",
       "      <td>0.02</td>\n",
       "      <td>29523</td>\n",
       "      <td>29719</td>\n",
       "      <td>33094</td>\n",
       "      <td>89.80</td>\n",
       "    </tr>\n",
       "    <tr>\n",
       "      <th>287</th>\n",
       "      <td>25</td>\n",
       "      <td>82</td>\n",
       "      <td>Norrbottens län</td>\n",
       "      <td>Boden</td>\n",
       "      <td>14.32</td>\n",
       "      <td>6.23</td>\n",
       "      <td>3.61</td>\n",
       "      <td>4.61</td>\n",
       "      <td>41.76</td>\n",
       "      <td>8.10</td>\n",
       "      <td>...</td>\n",
       "      <td>NaN</td>\n",
       "      <td>NaN</td>\n",
       "      <td>0.02</td>\n",
       "      <td>0.03</td>\n",
       "      <td>0.84</td>\n",
       "      <td>0.07</td>\n",
       "      <td>19110</td>\n",
       "      <td>19291</td>\n",
       "      <td>21934</td>\n",
       "      <td>87.95</td>\n",
       "    </tr>\n",
       "    <tr>\n",
       "      <th>288</th>\n",
       "      <td>25</td>\n",
       "      <td>83</td>\n",
       "      <td>Norrbottens län</td>\n",
       "      <td>Haparanda</td>\n",
       "      <td>12.79</td>\n",
       "      <td>9.61</td>\n",
       "      <td>1.86</td>\n",
       "      <td>5.32</td>\n",
       "      <td>36.69</td>\n",
       "      <td>5.91</td>\n",
       "      <td>...</td>\n",
       "      <td>NaN</td>\n",
       "      <td>NaN</td>\n",
       "      <td>NaN</td>\n",
       "      <td>0.04</td>\n",
       "      <td>1.01</td>\n",
       "      <td>0.11</td>\n",
       "      <td>4402</td>\n",
       "      <td>4454</td>\n",
       "      <td>6120</td>\n",
       "      <td>72.78</td>\n",
       "    </tr>\n",
       "    <tr>\n",
       "      <th>289</th>\n",
       "      <td>25</td>\n",
       "      <td>84</td>\n",
       "      <td>Norrbottens län</td>\n",
       "      <td>Kiruna</td>\n",
       "      <td>10.71</td>\n",
       "      <td>5.38</td>\n",
       "      <td>2.51</td>\n",
       "      <td>4.91</td>\n",
       "      <td>38.23</td>\n",
       "      <td>13.46</td>\n",
       "      <td>...</td>\n",
       "      <td>NaN</td>\n",
       "      <td>0.05</td>\n",
       "      <td>0.02</td>\n",
       "      <td>0.16</td>\n",
       "      <td>1.09</td>\n",
       "      <td>0.05</td>\n",
       "      <td>14796</td>\n",
       "      <td>14991</td>\n",
       "      <td>17468</td>\n",
       "      <td>85.82</td>\n",
       "    </tr>\n",
       "  </tbody>\n",
       "</table>\n",
       "<p>5 rows × 45 columns</p>\n",
       "</div>"
      ],
      "text/plain": [
       "     LÄNSKOD  KOMMUNKOD         LÄNSNAMN KOMMUNNAMN      M     C     L    KD  \\\n",
       "285       25         80  Norrbottens län      Luleå  15.38  7.53  4.37  4.78   \n",
       "286       25         81  Norrbottens län      Piteå  11.82  7.49  2.52  4.80   \n",
       "287       25         82  Norrbottens län      Boden  14.32  6.23  3.61  4.61   \n",
       "288       25         83  Norrbottens län  Haparanda  12.79  9.61  1.86  5.32   \n",
       "289       25         84  Norrbottens län     Kiruna  10.71  5.38  2.51  4.91   \n",
       "\n",
       "         S      V  ...  TRP  VL-S   ÖVR  OGEJ  BLANK    OG  RÖSTER GILTIGA  \\\n",
       "285  38.97  10.47  ...  NaN   NaN  0.01  0.03   0.69  0.04           53182   \n",
       "286  47.48  10.56  ...  NaN   NaN  0.00  0.03   0.61  0.02           29523   \n",
       "287  41.76   8.10  ...  NaN   NaN  0.02  0.03   0.84  0.07           19110   \n",
       "288  36.69   5.91  ...  NaN   NaN   NaN  0.04   1.01  0.11            4402   \n",
       "289  38.23  13.46  ...  NaN  0.05  0.02  0.16   1.09  0.05           14796   \n",
       "\n",
       "     RÖSTANDE  RÖSTBERÄTTIGADE  VALDELTAGANDE  \n",
       "285     53589            60185          89.04  \n",
       "286     29719            33094          89.80  \n",
       "287     19291            21934          87.95  \n",
       "288      4454             6120          72.78  \n",
       "289     14991            17468          85.82  \n",
       "\n",
       "[5 rows x 45 columns]"
      ]
     },
     "execution_count": 54,
     "metadata": {},
     "output_type": "execute_result"
    }
   ],
   "source": [
    "R_per_kommun_df.tail()"
   ]
  },
  {
   "cell_type": "markdown",
   "id": "a940602e-660a-49a2-a8d7-8618a01b0e87",
   "metadata": {},
   "source": [
    "<br>\n",
    "To get some info on the data frame structure\n"
   ]
  },
  {
   "cell_type": "code",
   "execution_count": 55,
   "id": "9718a379-531f-4626-ae27-45b693fd146c",
   "metadata": {},
   "outputs": [
    {
     "name": "stdout",
     "output_type": "stream",
     "text": [
      "<class 'pandas.core.frame.DataFrame'>\n",
      "RangeIndex: 290 entries, 0 to 289\n",
      "Data columns (total 45 columns):\n",
      " #   Column           Non-Null Count  Dtype  \n",
      "---  ------           --------------  -----  \n",
      " 0   LÄNSKOD          290 non-null    int64  \n",
      " 1   KOMMUNKOD        290 non-null    int64  \n",
      " 2   LÄNSNAMN         290 non-null    object \n",
      " 3   KOMMUNNAMN       290 non-null    object \n",
      " 4   M                290 non-null    float64\n",
      " 5   C                290 non-null    float64\n",
      " 6   L                290 non-null    float64\n",
      " 7   KD               290 non-null    float64\n",
      " 8   S                290 non-null    float64\n",
      " 9   V                290 non-null    float64\n",
      " 10  MP               290 non-null    float64\n",
      " 11  SD               290 non-null    float64\n",
      " 12  FI               290 non-null    float64\n",
      " 13  AfS              290 non-null    float64\n",
      " 14  BASIP            144 non-null    float64\n",
      " 15  CSIS             10 non-null     float64\n",
      " 16  DD               283 non-null    float64\n",
      " 17  DjuP             239 non-null    float64\n",
      " 18  EAP              26 non-null     float64\n",
      " 19  ENH              277 non-null    float64\n",
      " 20  FHS              1 non-null      float64\n",
      " 21  Gup              1 non-null      float64\n",
      " 22  INI              114 non-null    float64\n",
      " 23  KLP              202 non-null    float64\n",
      " 24  KrVP             228 non-null    float64\n",
      " 25  LPo              281 non-null    float64\n",
      " 26  MED              282 non-null    float64\n",
      " 27  NMR              252 non-null    float64\n",
      " 28  NORRP            14 non-null     float64\n",
      " 29  NYREF            13 non-null     float64\n",
      " 30  PP               280 non-null    float64\n",
      " 31  RNP              2 non-null      float64\n",
      " 32  S-FRP            13 non-null     float64\n",
      " 33  SKP              98 non-null     float64\n",
      " 34  SKÅ              21 non-null     float64\n",
      " 35  TRP              50 non-null     float64\n",
      " 36  VL-S             2 non-null      float64\n",
      " 37  ÖVR              161 non-null    float64\n",
      " 38  OGEJ             252 non-null    float64\n",
      " 39  BLANK            290 non-null    float64\n",
      " 40  OG               270 non-null    float64\n",
      " 41  RÖSTER GILTIGA   290 non-null    int64  \n",
      " 42  RÖSTANDE         290 non-null    int64  \n",
      " 43  RÖSTBERÄTTIGADE  290 non-null    int64  \n",
      " 44  VALDELTAGANDE    290 non-null    float64\n",
      "dtypes: float64(38), int64(5), object(2)\n",
      "memory usage: 102.1+ KB\n"
     ]
    }
   ],
   "source": [
    "R_per_kommun_df.info()"
   ]
  },
  {
   "cell_type": "markdown",
   "id": "615dc72a-9466-4ca3-8061-a956cc738615",
   "metadata": {},
   "source": [
    "<br>\n",
    "We have 45 columns, only some of them are interesting for our investigation. As before, we choose these columns."
   ]
  },
  {
   "cell_type": "code",
   "execution_count": 95,
   "id": "cc3cf3af-7cef-4bf6-b3f1-cb4a6489e1c5",
   "metadata": {},
   "outputs": [],
   "source": [
    "interesting_election_columns = ['LÄNSKOD', 'LÄNSNAMN', 'KOMMUNNAMN', 'M', 'C', 'L', 'KD', 'S', 'V', 'MP', 'SD', 'FI', 'AfS', 'RÖSTER GILTIGA', 'VALDELTAGANDE']"
   ]
  },
  {
   "cell_type": "markdown",
   "id": "6951c082-b204-49ce-86fc-40a4f3f613b1",
   "metadata": {},
   "source": [
    "\n",
    "#### 1. Total number of legitimate votes<br>\n",
    "\n",
    "We have to select the municipalities in the Stockholm region and then sum all \"Röster giltiga\" in these municipalities."
   ]
  },
  {
   "cell_type": "markdown",
   "id": "63590e8b-fe5b-4366-8626-c0f6517f3c7d",
   "metadata": {},
   "source": [
    "For each municipality in Sweden, check if it is located in the Stockholm region."
   ]
  },
  {
   "cell_type": "code",
   "execution_count": 58,
   "id": "36817ccd-bdba-48cf-adbb-deaae455c936",
   "metadata": {},
   "outputs": [],
   "source": [
    "municipalities_in_Stockholm = R_per_kommun_df[interesting_election_columns].loc[R_per_kommun_df.loc[:,'LÄNSKOD'] == 1]"
   ]
  },
  {
   "cell_type": "code",
   "execution_count": 59,
   "id": "9b54d4bf-c52f-4f3b-bd61-3a0c9820f1f4",
   "metadata": {},
   "outputs": [
    {
     "data": {
      "text/html": [
       "<div>\n",
       "<style scoped>\n",
       "    .dataframe tbody tr th:only-of-type {\n",
       "        vertical-align: middle;\n",
       "    }\n",
       "\n",
       "    .dataframe tbody tr th {\n",
       "        vertical-align: top;\n",
       "    }\n",
       "\n",
       "    .dataframe thead th {\n",
       "        text-align: right;\n",
       "    }\n",
       "</style>\n",
       "<table border=\"1\" class=\"dataframe\">\n",
       "  <thead>\n",
       "    <tr style=\"text-align: right;\">\n",
       "      <th></th>\n",
       "      <th>LÄNSKOD</th>\n",
       "      <th>LÄNSNAMN</th>\n",
       "      <th>KOMMUNNAMN</th>\n",
       "      <th>M</th>\n",
       "      <th>C</th>\n",
       "      <th>L</th>\n",
       "      <th>KD</th>\n",
       "      <th>S</th>\n",
       "      <th>V</th>\n",
       "      <th>MP</th>\n",
       "      <th>SD</th>\n",
       "      <th>FI</th>\n",
       "      <th>AfS</th>\n",
       "      <th>RÖSTER GILTIGA</th>\n",
       "      <th>VALDELTAGANDE</th>\n",
       "    </tr>\n",
       "  </thead>\n",
       "  <tbody>\n",
       "    <tr>\n",
       "      <th>0</th>\n",
       "      <td>1</td>\n",
       "      <td>Stockholms län</td>\n",
       "      <td>Upplands Väsby</td>\n",
       "      <td>23.11</td>\n",
       "      <td>6.26</td>\n",
       "      <td>5.66</td>\n",
       "      <td>6.71</td>\n",
       "      <td>26.97</td>\n",
       "      <td>8.01</td>\n",
       "      <td>3.92</td>\n",
       "      <td>18.04</td>\n",
       "      <td>0.37</td>\n",
       "      <td>0.31</td>\n",
       "      <td>25830</td>\n",
       "      <td>84.70</td>\n",
       "    </tr>\n",
       "    <tr>\n",
       "      <th>1</th>\n",
       "      <td>1</td>\n",
       "      <td>Stockholms län</td>\n",
       "      <td>Vallentuna</td>\n",
       "      <td>28.29</td>\n",
       "      <td>10.11</td>\n",
       "      <td>7.73</td>\n",
       "      <td>7.58</td>\n",
       "      <td>18.91</td>\n",
       "      <td>4.47</td>\n",
       "      <td>4.85</td>\n",
       "      <td>16.63</td>\n",
       "      <td>0.27</td>\n",
       "      <td>0.37</td>\n",
       "      <td>20952</td>\n",
       "      <td>90.02</td>\n",
       "    </tr>\n",
       "    <tr>\n",
       "      <th>2</th>\n",
       "      <td>1</td>\n",
       "      <td>Stockholms län</td>\n",
       "      <td>Österåker</td>\n",
       "      <td>29.68</td>\n",
       "      <td>9.35</td>\n",
       "      <td>7.48</td>\n",
       "      <td>7.13</td>\n",
       "      <td>19.71</td>\n",
       "      <td>4.97</td>\n",
       "      <td>4.44</td>\n",
       "      <td>16.09</td>\n",
       "      <td>0.30</td>\n",
       "      <td>0.27</td>\n",
       "      <td>27711</td>\n",
       "      <td>89.26</td>\n",
       "    </tr>\n",
       "    <tr>\n",
       "      <th>3</th>\n",
       "      <td>1</td>\n",
       "      <td>Stockholms län</td>\n",
       "      <td>Värmdö</td>\n",
       "      <td>27.49</td>\n",
       "      <td>9.76</td>\n",
       "      <td>6.40</td>\n",
       "      <td>5.89</td>\n",
       "      <td>20.48</td>\n",
       "      <td>6.02</td>\n",
       "      <td>5.41</td>\n",
       "      <td>17.19</td>\n",
       "      <td>0.36</td>\n",
       "      <td>0.29</td>\n",
       "      <td>28115</td>\n",
       "      <td>90.32</td>\n",
       "    </tr>\n",
       "    <tr>\n",
       "      <th>4</th>\n",
       "      <td>1</td>\n",
       "      <td>Stockholms län</td>\n",
       "      <td>Järfälla</td>\n",
       "      <td>23.96</td>\n",
       "      <td>6.31</td>\n",
       "      <td>6.04</td>\n",
       "      <td>6.29</td>\n",
       "      <td>27.68</td>\n",
       "      <td>8.75</td>\n",
       "      <td>4.54</td>\n",
       "      <td>15.00</td>\n",
       "      <td>0.34</td>\n",
       "      <td>0.33</td>\n",
       "      <td>45654</td>\n",
       "      <td>86.32</td>\n",
       "    </tr>\n",
       "    <tr>\n",
       "      <th>5</th>\n",
       "      <td>1</td>\n",
       "      <td>Stockholms län</td>\n",
       "      <td>Ekerö</td>\n",
       "      <td>28.12</td>\n",
       "      <td>11.24</td>\n",
       "      <td>7.64</td>\n",
       "      <td>7.85</td>\n",
       "      <td>17.17</td>\n",
       "      <td>4.76</td>\n",
       "      <td>5.70</td>\n",
       "      <td>16.21</td>\n",
       "      <td>0.34</td>\n",
       "      <td>0.35</td>\n",
       "      <td>17814</td>\n",
       "      <td>92.16</td>\n",
       "    </tr>\n",
       "    <tr>\n",
       "      <th>6</th>\n",
       "      <td>1</td>\n",
       "      <td>Stockholms län</td>\n",
       "      <td>Huddinge</td>\n",
       "      <td>24.07</td>\n",
       "      <td>7.52</td>\n",
       "      <td>6.14</td>\n",
       "      <td>5.35</td>\n",
       "      <td>26.10</td>\n",
       "      <td>8.63</td>\n",
       "      <td>5.32</td>\n",
       "      <td>15.17</td>\n",
       "      <td>0.49</td>\n",
       "      <td>0.42</td>\n",
       "      <td>61440</td>\n",
       "      <td>84.94</td>\n",
       "    </tr>\n",
       "    <tr>\n",
       "      <th>7</th>\n",
       "      <td>1</td>\n",
       "      <td>Stockholms län</td>\n",
       "      <td>Botkyrka</td>\n",
       "      <td>18.52</td>\n",
       "      <td>5.19</td>\n",
       "      <td>4.39</td>\n",
       "      <td>8.13</td>\n",
       "      <td>32.34</td>\n",
       "      <td>9.85</td>\n",
       "      <td>3.85</td>\n",
       "      <td>16.05</td>\n",
       "      <td>0.44</td>\n",
       "      <td>0.27</td>\n",
       "      <td>45393</td>\n",
       "      <td>78.24</td>\n",
       "    </tr>\n",
       "    <tr>\n",
       "      <th>8</th>\n",
       "      <td>1</td>\n",
       "      <td>Stockholms län</td>\n",
       "      <td>Salem</td>\n",
       "      <td>24.84</td>\n",
       "      <td>7.61</td>\n",
       "      <td>7.58</td>\n",
       "      <td>7.98</td>\n",
       "      <td>23.07</td>\n",
       "      <td>5.98</td>\n",
       "      <td>4.48</td>\n",
       "      <td>16.88</td>\n",
       "      <td>0.32</td>\n",
       "      <td>0.31</td>\n",
       "      <td>9985</td>\n",
       "      <td>87.81</td>\n",
       "    </tr>\n",
       "    <tr>\n",
       "      <th>9</th>\n",
       "      <td>1</td>\n",
       "      <td>Stockholms län</td>\n",
       "      <td>Haninge</td>\n",
       "      <td>22.94</td>\n",
       "      <td>6.06</td>\n",
       "      <td>5.11</td>\n",
       "      <td>5.36</td>\n",
       "      <td>27.29</td>\n",
       "      <td>7.99</td>\n",
       "      <td>3.71</td>\n",
       "      <td>19.89</td>\n",
       "      <td>0.38</td>\n",
       "      <td>0.45</td>\n",
       "      <td>50484</td>\n",
       "      <td>85.06</td>\n",
       "    </tr>\n",
       "    <tr>\n",
       "      <th>10</th>\n",
       "      <td>1</td>\n",
       "      <td>Stockholms län</td>\n",
       "      <td>Tyresö</td>\n",
       "      <td>25.84</td>\n",
       "      <td>7.93</td>\n",
       "      <td>6.94</td>\n",
       "      <td>5.75</td>\n",
       "      <td>23.87</td>\n",
       "      <td>6.37</td>\n",
       "      <td>5.41</td>\n",
       "      <td>16.33</td>\n",
       "      <td>0.38</td>\n",
       "      <td>0.32</td>\n",
       "      <td>30260</td>\n",
       "      <td>90.25</td>\n",
       "    </tr>\n",
       "    <tr>\n",
       "      <th>11</th>\n",
       "      <td>1</td>\n",
       "      <td>Stockholms län</td>\n",
       "      <td>Upplands-Bro</td>\n",
       "      <td>23.16</td>\n",
       "      <td>6.01</td>\n",
       "      <td>5.43</td>\n",
       "      <td>7.54</td>\n",
       "      <td>26.16</td>\n",
       "      <td>6.65</td>\n",
       "      <td>3.25</td>\n",
       "      <td>20.11</td>\n",
       "      <td>0.34</td>\n",
       "      <td>0.43</td>\n",
       "      <td>16366</td>\n",
       "      <td>86.77</td>\n",
       "    </tr>\n",
       "    <tr>\n",
       "      <th>12</th>\n",
       "      <td>1</td>\n",
       "      <td>Stockholms län</td>\n",
       "      <td>Nykvarn</td>\n",
       "      <td>27.24</td>\n",
       "      <td>7.65</td>\n",
       "      <td>4.56</td>\n",
       "      <td>6.06</td>\n",
       "      <td>22.42</td>\n",
       "      <td>3.52</td>\n",
       "      <td>2.98</td>\n",
       "      <td>24.55</td>\n",
       "      <td>0.25</td>\n",
       "      <td>0.37</td>\n",
       "      <td>6847</td>\n",
       "      <td>90.73</td>\n",
       "    </tr>\n",
       "    <tr>\n",
       "      <th>13</th>\n",
       "      <td>1</td>\n",
       "      <td>Stockholms län</td>\n",
       "      <td>Täby</td>\n",
       "      <td>35.97</td>\n",
       "      <td>10.98</td>\n",
       "      <td>10.71</td>\n",
       "      <td>8.31</td>\n",
       "      <td>13.99</td>\n",
       "      <td>3.20</td>\n",
       "      <td>4.11</td>\n",
       "      <td>11.41</td>\n",
       "      <td>0.26</td>\n",
       "      <td>0.33</td>\n",
       "      <td>46386</td>\n",
       "      <td>91.12</td>\n",
       "    </tr>\n",
       "    <tr>\n",
       "      <th>14</th>\n",
       "      <td>1</td>\n",
       "      <td>Stockholms län</td>\n",
       "      <td>Danderyd</td>\n",
       "      <td>41.59</td>\n",
       "      <td>11.28</td>\n",
       "      <td>11.19</td>\n",
       "      <td>10.10</td>\n",
       "      <td>8.04</td>\n",
       "      <td>2.36</td>\n",
       "      <td>3.77</td>\n",
       "      <td>10.33</td>\n",
       "      <td>0.28</td>\n",
       "      <td>0.32</td>\n",
       "      <td>21897</td>\n",
       "      <td>91.92</td>\n",
       "    </tr>\n",
       "    <tr>\n",
       "      <th>15</th>\n",
       "      <td>1</td>\n",
       "      <td>Stockholms län</td>\n",
       "      <td>Sollentuna</td>\n",
       "      <td>28.07</td>\n",
       "      <td>10.18</td>\n",
       "      <td>8.97</td>\n",
       "      <td>7.53</td>\n",
       "      <td>20.85</td>\n",
       "      <td>6.49</td>\n",
       "      <td>5.25</td>\n",
       "      <td>11.24</td>\n",
       "      <td>0.33</td>\n",
       "      <td>0.35</td>\n",
       "      <td>43676</td>\n",
       "      <td>88.58</td>\n",
       "    </tr>\n",
       "    <tr>\n",
       "      <th>16</th>\n",
       "      <td>1</td>\n",
       "      <td>Stockholms län</td>\n",
       "      <td>Stockholm</td>\n",
       "      <td>21.88</td>\n",
       "      <td>9.07</td>\n",
       "      <td>7.85</td>\n",
       "      <td>4.87</td>\n",
       "      <td>23.76</td>\n",
       "      <td>13.12</td>\n",
       "      <td>7.70</td>\n",
       "      <td>9.84</td>\n",
       "      <td>0.71</td>\n",
       "      <td>0.36</td>\n",
       "      <td>611206</td>\n",
       "      <td>87.32</td>\n",
       "    </tr>\n",
       "    <tr>\n",
       "      <th>17</th>\n",
       "      <td>1</td>\n",
       "      <td>Stockholms län</td>\n",
       "      <td>Södertälje</td>\n",
       "      <td>19.81</td>\n",
       "      <td>5.86</td>\n",
       "      <td>4.45</td>\n",
       "      <td>11.17</td>\n",
       "      <td>27.18</td>\n",
       "      <td>7.70</td>\n",
       "      <td>4.51</td>\n",
       "      <td>17.49</td>\n",
       "      <td>0.49</td>\n",
       "      <td>0.35</td>\n",
       "      <td>48273</td>\n",
       "      <td>77.54</td>\n",
       "    </tr>\n",
       "    <tr>\n",
       "      <th>18</th>\n",
       "      <td>1</td>\n",
       "      <td>Stockholms län</td>\n",
       "      <td>Nacka</td>\n",
       "      <td>28.73</td>\n",
       "      <td>12.18</td>\n",
       "      <td>8.41</td>\n",
       "      <td>6.10</td>\n",
       "      <td>19.37</td>\n",
       "      <td>6.54</td>\n",
       "      <td>6.54</td>\n",
       "      <td>10.76</td>\n",
       "      <td>0.41</td>\n",
       "      <td>0.28</td>\n",
       "      <td>64101</td>\n",
       "      <td>90.00</td>\n",
       "    </tr>\n",
       "    <tr>\n",
       "      <th>19</th>\n",
       "      <td>1</td>\n",
       "      <td>Stockholms län</td>\n",
       "      <td>Sundbyberg</td>\n",
       "      <td>22.37</td>\n",
       "      <td>8.05</td>\n",
       "      <td>7.06</td>\n",
       "      <td>5.03</td>\n",
       "      <td>26.60</td>\n",
       "      <td>11.04</td>\n",
       "      <td>5.97</td>\n",
       "      <td>12.24</td>\n",
       "      <td>0.43</td>\n",
       "      <td>0.39</td>\n",
       "      <td>29807</td>\n",
       "      <td>85.63</td>\n",
       "    </tr>\n",
       "    <tr>\n",
       "      <th>20</th>\n",
       "      <td>1</td>\n",
       "      <td>Stockholms län</td>\n",
       "      <td>Solna</td>\n",
       "      <td>23.71</td>\n",
       "      <td>9.03</td>\n",
       "      <td>8.12</td>\n",
       "      <td>5.80</td>\n",
       "      <td>24.00</td>\n",
       "      <td>9.89</td>\n",
       "      <td>6.35</td>\n",
       "      <td>11.30</td>\n",
       "      <td>0.57</td>\n",
       "      <td>0.35</td>\n",
       "      <td>50510</td>\n",
       "      <td>87.43</td>\n",
       "    </tr>\n",
       "    <tr>\n",
       "      <th>21</th>\n",
       "      <td>1</td>\n",
       "      <td>Stockholms län</td>\n",
       "      <td>Lidingö</td>\n",
       "      <td>36.02</td>\n",
       "      <td>11.79</td>\n",
       "      <td>10.78</td>\n",
       "      <td>8.59</td>\n",
       "      <td>12.35</td>\n",
       "      <td>3.50</td>\n",
       "      <td>4.94</td>\n",
       "      <td>10.96</td>\n",
       "      <td>0.25</td>\n",
       "      <td>0.25</td>\n",
       "      <td>31032</td>\n",
       "      <td>90.16</td>\n",
       "    </tr>\n",
       "    <tr>\n",
       "      <th>22</th>\n",
       "      <td>1</td>\n",
       "      <td>Stockholms län</td>\n",
       "      <td>Vaxholm</td>\n",
       "      <td>30.31</td>\n",
       "      <td>13.30</td>\n",
       "      <td>7.76</td>\n",
       "      <td>7.90</td>\n",
       "      <td>16.37</td>\n",
       "      <td>4.70</td>\n",
       "      <td>5.50</td>\n",
       "      <td>13.05</td>\n",
       "      <td>0.30</td>\n",
       "      <td>0.16</td>\n",
       "      <td>8106</td>\n",
       "      <td>92.74</td>\n",
       "    </tr>\n",
       "    <tr>\n",
       "      <th>23</th>\n",
       "      <td>1</td>\n",
       "      <td>Stockholms län</td>\n",
       "      <td>Norrtälje</td>\n",
       "      <td>22.23</td>\n",
       "      <td>9.60</td>\n",
       "      <td>4.74</td>\n",
       "      <td>5.92</td>\n",
       "      <td>26.24</td>\n",
       "      <td>6.21</td>\n",
       "      <td>3.76</td>\n",
       "      <td>19.89</td>\n",
       "      <td>0.35</td>\n",
       "      <td>0.33</td>\n",
       "      <td>41174</td>\n",
       "      <td>87.10</td>\n",
       "    </tr>\n",
       "    <tr>\n",
       "      <th>24</th>\n",
       "      <td>1</td>\n",
       "      <td>Stockholms län</td>\n",
       "      <td>Sigtuna</td>\n",
       "      <td>24.66</td>\n",
       "      <td>6.65</td>\n",
       "      <td>4.93</td>\n",
       "      <td>7.56</td>\n",
       "      <td>25.49</td>\n",
       "      <td>6.39</td>\n",
       "      <td>3.45</td>\n",
       "      <td>19.28</td>\n",
       "      <td>0.31</td>\n",
       "      <td>0.39</td>\n",
       "      <td>25576</td>\n",
       "      <td>82.95</td>\n",
       "    </tr>\n",
       "    <tr>\n",
       "      <th>25</th>\n",
       "      <td>1</td>\n",
       "      <td>Stockholms län</td>\n",
       "      <td>Nynäshamn</td>\n",
       "      <td>21.05</td>\n",
       "      <td>6.44</td>\n",
       "      <td>4.49</td>\n",
       "      <td>5.82</td>\n",
       "      <td>27.28</td>\n",
       "      <td>6.76</td>\n",
       "      <td>3.76</td>\n",
       "      <td>23.08</td>\n",
       "      <td>0.28</td>\n",
       "      <td>0.35</td>\n",
       "      <td>17642</td>\n",
       "      <td>86.46</td>\n",
       "    </tr>\n",
       "  </tbody>\n",
       "</table>\n",
       "</div>"
      ],
      "text/plain": [
       "    LÄNSKOD        LÄNSNAMN      KOMMUNNAMN      M      C      L     KD  \\\n",
       "0         1  Stockholms län  Upplands Väsby  23.11   6.26   5.66   6.71   \n",
       "1         1  Stockholms län      Vallentuna  28.29  10.11   7.73   7.58   \n",
       "2         1  Stockholms län       Österåker  29.68   9.35   7.48   7.13   \n",
       "3         1  Stockholms län          Värmdö  27.49   9.76   6.40   5.89   \n",
       "4         1  Stockholms län        Järfälla  23.96   6.31   6.04   6.29   \n",
       "5         1  Stockholms län           Ekerö  28.12  11.24   7.64   7.85   \n",
       "6         1  Stockholms län        Huddinge  24.07   7.52   6.14   5.35   \n",
       "7         1  Stockholms län        Botkyrka  18.52   5.19   4.39   8.13   \n",
       "8         1  Stockholms län           Salem  24.84   7.61   7.58   7.98   \n",
       "9         1  Stockholms län         Haninge  22.94   6.06   5.11   5.36   \n",
       "10        1  Stockholms län          Tyresö  25.84   7.93   6.94   5.75   \n",
       "11        1  Stockholms län    Upplands-Bro  23.16   6.01   5.43   7.54   \n",
       "12        1  Stockholms län         Nykvarn  27.24   7.65   4.56   6.06   \n",
       "13        1  Stockholms län            Täby  35.97  10.98  10.71   8.31   \n",
       "14        1  Stockholms län        Danderyd  41.59  11.28  11.19  10.10   \n",
       "15        1  Stockholms län      Sollentuna  28.07  10.18   8.97   7.53   \n",
       "16        1  Stockholms län       Stockholm  21.88   9.07   7.85   4.87   \n",
       "17        1  Stockholms län      Södertälje  19.81   5.86   4.45  11.17   \n",
       "18        1  Stockholms län           Nacka  28.73  12.18   8.41   6.10   \n",
       "19        1  Stockholms län      Sundbyberg  22.37   8.05   7.06   5.03   \n",
       "20        1  Stockholms län           Solna  23.71   9.03   8.12   5.80   \n",
       "21        1  Stockholms län         Lidingö  36.02  11.79  10.78   8.59   \n",
       "22        1  Stockholms län         Vaxholm  30.31  13.30   7.76   7.90   \n",
       "23        1  Stockholms län       Norrtälje  22.23   9.60   4.74   5.92   \n",
       "24        1  Stockholms län         Sigtuna  24.66   6.65   4.93   7.56   \n",
       "25        1  Stockholms län       Nynäshamn  21.05   6.44   4.49   5.82   \n",
       "\n",
       "        S      V    MP     SD    FI   AfS  RÖSTER GILTIGA  VALDELTAGANDE  \n",
       "0   26.97   8.01  3.92  18.04  0.37  0.31           25830          84.70  \n",
       "1   18.91   4.47  4.85  16.63  0.27  0.37           20952          90.02  \n",
       "2   19.71   4.97  4.44  16.09  0.30  0.27           27711          89.26  \n",
       "3   20.48   6.02  5.41  17.19  0.36  0.29           28115          90.32  \n",
       "4   27.68   8.75  4.54  15.00  0.34  0.33           45654          86.32  \n",
       "5   17.17   4.76  5.70  16.21  0.34  0.35           17814          92.16  \n",
       "6   26.10   8.63  5.32  15.17  0.49  0.42           61440          84.94  \n",
       "7   32.34   9.85  3.85  16.05  0.44  0.27           45393          78.24  \n",
       "8   23.07   5.98  4.48  16.88  0.32  0.31            9985          87.81  \n",
       "9   27.29   7.99  3.71  19.89  0.38  0.45           50484          85.06  \n",
       "10  23.87   6.37  5.41  16.33  0.38  0.32           30260          90.25  \n",
       "11  26.16   6.65  3.25  20.11  0.34  0.43           16366          86.77  \n",
       "12  22.42   3.52  2.98  24.55  0.25  0.37            6847          90.73  \n",
       "13  13.99   3.20  4.11  11.41  0.26  0.33           46386          91.12  \n",
       "14   8.04   2.36  3.77  10.33  0.28  0.32           21897          91.92  \n",
       "15  20.85   6.49  5.25  11.24  0.33  0.35           43676          88.58  \n",
       "16  23.76  13.12  7.70   9.84  0.71  0.36          611206          87.32  \n",
       "17  27.18   7.70  4.51  17.49  0.49  0.35           48273          77.54  \n",
       "18  19.37   6.54  6.54  10.76  0.41  0.28           64101          90.00  \n",
       "19  26.60  11.04  5.97  12.24  0.43  0.39           29807          85.63  \n",
       "20  24.00   9.89  6.35  11.30  0.57  0.35           50510          87.43  \n",
       "21  12.35   3.50  4.94  10.96  0.25  0.25           31032          90.16  \n",
       "22  16.37   4.70  5.50  13.05  0.30  0.16            8106          92.74  \n",
       "23  26.24   6.21  3.76  19.89  0.35  0.33           41174          87.10  \n",
       "24  25.49   6.39  3.45  19.28  0.31  0.39           25576          82.95  \n",
       "25  27.28   6.76  3.76  23.08  0.28  0.35           17642          86.46  "
      ]
     },
     "execution_count": 59,
     "metadata": {},
     "output_type": "execute_result"
    }
   ],
   "source": [
    "municipalities_in_Stockholm"
   ]
  },
  {
   "cell_type": "code",
   "execution_count": 60,
   "id": "e7ad124a-b22b-4e95-8161-24d75b4a0b04",
   "metadata": {},
   "outputs": [],
   "source": [
    "# is_municipality_in_Stockholm = R_per_kommun_df.loc[:, 'LÄNSKOD'] == 1"
   ]
  },
  {
   "cell_type": "code",
   "execution_count": 61,
   "id": "cd3db3f8-86b7-407f-b4f8-07de12a17c38",
   "metadata": {},
   "outputs": [],
   "source": [
    "# The result is a Series of bool."
   ]
  },
  {
   "cell_type": "code",
   "execution_count": 62,
   "id": "4922b2d2-0bd8-439b-91b9-1d7cbe03cdaf",
   "metadata": {},
   "outputs": [],
   "source": [
    "# is_municipality_in_Stockholm "
   ]
  },
  {
   "cell_type": "code",
   "execution_count": 63,
   "id": "74edd657-2017-4767-883a-f1266248f4ec",
   "metadata": {},
   "outputs": [],
   "source": [
    "# type(is_municipality_in_Stockholm)"
   ]
  },
  {
   "cell_type": "code",
   "execution_count": 64,
   "id": "c2340e21-9fd4-405c-8a1f-8d891a3c8e91",
   "metadata": {},
   "outputs": [],
   "source": [
    "# his Series may be used to select the subset of the data frame that represents municipalities in Stockholm"
   ]
  },
  {
   "cell_type": "code",
   "execution_count": 65,
   "id": "df2b6e08-d258-4282-9baf-d1bb9631fe4f",
   "metadata": {},
   "outputs": [],
   "source": [
    "# municipalities_in_Stockholm = R_per_kommun_df.loc[is_municipality_in_Stockholm]"
   ]
  },
  {
   "cell_type": "code",
   "execution_count": 66,
   "id": "f76cfe1b-1571-47ec-b799-9f0cdf4fb68f",
   "metadata": {},
   "outputs": [],
   "source": [
    "# municipalities_in_Stockholm"
   ]
  },
  {
   "cell_type": "markdown",
   "id": "4e2c1760-3b63-4cd2-a711-d9e9007e2cad",
   "metadata": {},
   "source": [
    "Now, the number of valid votes may be computed by summing the numbers in the column \"RÖSTER GILTIGA\"."
   ]
  },
  {
   "cell_type": "code",
   "execution_count": 67,
   "id": "d2755c03-1970-4c57-bc95-0b81c467149d",
   "metadata": {},
   "outputs": [],
   "source": [
    "# valid_votes = municipalities_in_Stockholm.iloc[:,41].sum()"
   ]
  },
  {
   "cell_type": "code",
   "execution_count": 68,
   "id": "f3539c16-dad1-41ee-b332-05d1a1ae7154",
   "metadata": {},
   "outputs": [],
   "source": [
    "valid_votes = municipalities_in_Stockholm.loc[:,'RÖSTER GILTIGA'].sum()"
   ]
  },
  {
   "cell_type": "markdown",
   "id": "7aeca0ef-4fa0-4509-a269-5129b5f31e7b",
   "metadata": {},
   "source": [
    "To make the number of valid votes more readable we can have a space as thousands separator. Accomplishing this may be done in two steps, first inserting one of the default separators and then replacing this with a space."
   ]
  },
  {
   "cell_type": "code",
   "execution_count": 69,
   "id": "8c9f6427-28da-484f-9965-197662152d5e",
   "metadata": {},
   "outputs": [
    {
     "name": "stdout",
     "output_type": "stream",
     "text": [
      "1 426 237\n"
     ]
    }
   ],
   "source": [
    "print(\"{:,}\".format(valid_votes).replace(',',' '))"
   ]
  },
  {
   "cell_type": "code",
   "execution_count": 70,
   "id": "129e49a7-93fe-4492-af5d-efe10e5ec7a9",
   "metadata": {},
   "outputs": [],
   "source": [
    "# Another way to compute this number is "
   ]
  },
  {
   "cell_type": "code",
   "execution_count": 71,
   "id": "1f603023-8003-42b4-8292-bc00866f0806",
   "metadata": {},
   "outputs": [],
   "source": [
    "# validVotesAlt = municipalities_in_Stockholm.loc[:, \"RÖSTER GILTIGA\"].sum()"
   ]
  },
  {
   "cell_type": "code",
   "execution_count": 72,
   "id": "06221e7c-e542-4f36-8b82-16a8e95ee3c9",
   "metadata": {},
   "outputs": [],
   "source": [
    "# print(validVotesAlt)"
   ]
  },
  {
   "cell_type": "markdown",
   "id": "5b88fe67-8378-4c83-9e32-61d55c364626",
   "metadata": {},
   "source": [
    "\n",
    "#### 2. In which municipality did the social democratic party get the highest voting percent?<Br>\n"
   ]
  },
  {
   "cell_type": "markdown",
   "id": "f95a2664-17b6-4244-a796-11cde744eec6",
   "metadata": {},
   "source": [
    "First we sort all municipalities in Sweden in descending order by percent of votes for the social democratic party, and then show top 5."
   ]
  },
  {
   "cell_type": "code",
   "execution_count": 73,
   "id": "4d4369aa-3145-41ad-a732-f27b7078eb82",
   "metadata": {},
   "outputs": [
    {
     "data": {
      "text/html": [
       "<div>\n",
       "<style scoped>\n",
       "    .dataframe tbody tr th:only-of-type {\n",
       "        vertical-align: middle;\n",
       "    }\n",
       "\n",
       "    .dataframe tbody tr th {\n",
       "        vertical-align: top;\n",
       "    }\n",
       "\n",
       "    .dataframe thead th {\n",
       "        text-align: right;\n",
       "    }\n",
       "</style>\n",
       "<table border=\"1\" class=\"dataframe\">\n",
       "  <thead>\n",
       "    <tr style=\"text-align: right;\">\n",
       "      <th></th>\n",
       "      <th>LÄNSKOD</th>\n",
       "      <th>LÄNSNAMN</th>\n",
       "      <th>KOMMUNNAMN</th>\n",
       "      <th>M</th>\n",
       "      <th>C</th>\n",
       "      <th>L</th>\n",
       "      <th>KD</th>\n",
       "      <th>S</th>\n",
       "      <th>V</th>\n",
       "      <th>MP</th>\n",
       "      <th>SD</th>\n",
       "      <th>FI</th>\n",
       "      <th>AfS</th>\n",
       "      <th>RÖSTER GILTIGA</th>\n",
       "      <th>VALDELTAGANDE</th>\n",
       "    </tr>\n",
       "  </thead>\n",
       "  <tbody>\n",
       "    <tr>\n",
       "      <th>188</th>\n",
       "      <td>17</td>\n",
       "      <td>Värmlands län</td>\n",
       "      <td>Munkfors</td>\n",
       "      <td>8.33</td>\n",
       "      <td>8.12</td>\n",
       "      <td>2.91</td>\n",
       "      <td>3.93</td>\n",
       "      <td>52.18</td>\n",
       "      <td>6.11</td>\n",
       "      <td>1.37</td>\n",
       "      <td>15.43</td>\n",
       "      <td>0.64</td>\n",
       "      <td>0.51</td>\n",
       "      <td>2340</td>\n",
       "      <td>85.13</td>\n",
       "    </tr>\n",
       "    <tr>\n",
       "      <th>286</th>\n",
       "      <td>25</td>\n",
       "      <td>Norrbottens län</td>\n",
       "      <td>Piteå</td>\n",
       "      <td>11.82</td>\n",
       "      <td>7.49</td>\n",
       "      <td>2.52</td>\n",
       "      <td>4.80</td>\n",
       "      <td>47.48</td>\n",
       "      <td>10.56</td>\n",
       "      <td>2.42</td>\n",
       "      <td>11.81</td>\n",
       "      <td>0.40</td>\n",
       "      <td>0.20</td>\n",
       "      <td>29523</td>\n",
       "      <td>89.80</td>\n",
       "    </tr>\n",
       "    <tr>\n",
       "      <th>196</th>\n",
       "      <td>17</td>\n",
       "      <td>Värmlands län</td>\n",
       "      <td>Hagfors</td>\n",
       "      <td>9.27</td>\n",
       "      <td>7.86</td>\n",
       "      <td>2.33</td>\n",
       "      <td>4.51</td>\n",
       "      <td>47.46</td>\n",
       "      <td>8.27</td>\n",
       "      <td>1.34</td>\n",
       "      <td>18.00</td>\n",
       "      <td>0.24</td>\n",
       "      <td>0.22</td>\n",
       "      <td>7607</td>\n",
       "      <td>84.09</td>\n",
       "    </tr>\n",
       "    <tr>\n",
       "      <th>279</th>\n",
       "      <td>25</td>\n",
       "      <td>Norrbottens län</td>\n",
       "      <td>Överkalix</td>\n",
       "      <td>7.81</td>\n",
       "      <td>8.79</td>\n",
       "      <td>2.10</td>\n",
       "      <td>3.44</td>\n",
       "      <td>46.68</td>\n",
       "      <td>10.49</td>\n",
       "      <td>1.07</td>\n",
       "      <td>18.34</td>\n",
       "      <td>0.22</td>\n",
       "      <td>0.40</td>\n",
       "      <td>2241</td>\n",
       "      <td>85.11</td>\n",
       "    </tr>\n",
       "    <tr>\n",
       "      <th>280</th>\n",
       "      <td>25</td>\n",
       "      <td>Norrbottens län</td>\n",
       "      <td>Kalix</td>\n",
       "      <td>11.71</td>\n",
       "      <td>6.42</td>\n",
       "      <td>2.87</td>\n",
       "      <td>3.58</td>\n",
       "      <td>45.37</td>\n",
       "      <td>7.88</td>\n",
       "      <td>2.79</td>\n",
       "      <td>18.37</td>\n",
       "      <td>0.24</td>\n",
       "      <td>0.25</td>\n",
       "      <td>10971</td>\n",
       "      <td>87.04</td>\n",
       "    </tr>\n",
       "  </tbody>\n",
       "</table>\n",
       "</div>"
      ],
      "text/plain": [
       "     LÄNSKOD         LÄNSNAMN KOMMUNNAMN      M     C     L    KD      S  \\\n",
       "188       17    Värmlands län   Munkfors   8.33  8.12  2.91  3.93  52.18   \n",
       "286       25  Norrbottens län      Piteå  11.82  7.49  2.52  4.80  47.48   \n",
       "196       17    Värmlands län    Hagfors   9.27  7.86  2.33  4.51  47.46   \n",
       "279       25  Norrbottens län  Överkalix   7.81  8.79  2.10  3.44  46.68   \n",
       "280       25  Norrbottens län      Kalix  11.71  6.42  2.87  3.58  45.37   \n",
       "\n",
       "         V    MP     SD    FI   AfS  RÖSTER GILTIGA  VALDELTAGANDE  \n",
       "188   6.11  1.37  15.43  0.64  0.51            2340          85.13  \n",
       "286  10.56  2.42  11.81  0.40  0.20           29523          89.80  \n",
       "196   8.27  1.34  18.00  0.24  0.22            7607          84.09  \n",
       "279  10.49  1.07  18.34  0.22  0.40            2241          85.11  \n",
       "280   7.88  2.79  18.37  0.24  0.25           10971          87.04  "
      ]
     },
     "execution_count": 73,
     "metadata": {},
     "output_type": "execute_result"
    }
   ],
   "source": [
    "R_per_kommun_df[interesting_election_columns].sort_values(by=\"S\",ascending=False).head()"
   ]
  },
  {
   "cell_type": "markdown",
   "id": "043b9bbf-ba1e-45e4-a0ee-975f3034a55c",
   "metadata": {},
   "source": [
    "We then choose the name of the first municipality"
   ]
  },
  {
   "cell_type": "code",
   "execution_count": 74,
   "id": "2e1b0538-b04a-45ee-9dab-594d398dad7e",
   "metadata": {},
   "outputs": [],
   "source": [
    "municipality_highest_voting_percent = R_per_kommun_df[interesting_election_columns].sort_values(by=\"S\",ascending=False).iloc[0,2]"
   ]
  },
  {
   "cell_type": "code",
   "execution_count": 96,
   "id": "132bfc36-4b0c-46fc-bb35-4de6ac215476",
   "metadata": {},
   "outputs": [
    {
     "name": "stdout",
     "output_type": "stream",
     "text": [
      "\n",
      " In Munkfors the social democratic party got the highest voting percent, with 52.18 percent. \n",
      "\n"
     ]
    }
   ],
   "source": [
    "print(\"\\n In \" + str(municipality_highest_voting_percent) + \" the social democratic party got the highest voting percent, with \"+ str(R_per_kommun_df['S'].max()) + \" percent. \\n\")"
   ]
  },
  {
   "cell_type": "markdown",
   "id": "fcfd64c5-23c0-4f03-9a16-e9b2453cbb0e",
   "metadata": {},
   "source": [
    "\n",
    "#### 3. Top 3 municipalities on highest participation\n"
   ]
  },
  {
   "cell_type": "code",
   "execution_count": 76,
   "id": "968188f1-8a0f-4bf8-9e53-19d6fafa10c4",
   "metadata": {},
   "outputs": [],
   "source": [
    "# top_three_participation = R_per_kommun_df.sort_values(by=\"VALDELTAGANDE\",ascending=False).iloc[0:3,[3,44]]"
   ]
  },
  {
   "cell_type": "markdown",
   "id": "7d43ab81-50ef-4642-b8a1-87db43c060f2",
   "metadata": {},
   "source": [
    "We can get the top three municipalities by sorting descending on the column VALDELTAGANDE, and then choosing the three first rows and the two interesting columns."
   ]
  },
  {
   "cell_type": "code",
   "execution_count": 77,
   "id": "5c113d0c-d1bf-4371-8d9f-10ef30ef9b48",
   "metadata": {},
   "outputs": [],
   "source": [
    "top_three_participation = R_per_kommun_df[interesting_election_columns].sort_values(by=\"VALDELTAGANDE\",ascending=False).iloc[0:3,[2,14]]"
   ]
  },
  {
   "cell_type": "code",
   "execution_count": 78,
   "id": "27344007-8b0b-4381-9f98-b1b86bd9ef47",
   "metadata": {},
   "outputs": [
    {
     "data": {
      "text/html": [
       "<div>\n",
       "<style scoped>\n",
       "    .dataframe tbody tr th:only-of-type {\n",
       "        vertical-align: middle;\n",
       "    }\n",
       "\n",
       "    .dataframe tbody tr th {\n",
       "        vertical-align: top;\n",
       "    }\n",
       "\n",
       "    .dataframe thead th {\n",
       "        text-align: right;\n",
       "    }\n",
       "</style>\n",
       "<table border=\"1\" class=\"dataframe\">\n",
       "  <thead>\n",
       "    <tr style=\"text-align: right;\">\n",
       "      <th></th>\n",
       "      <th>KOMMUNNAMN</th>\n",
       "      <th>VALDELTAGANDE</th>\n",
       "    </tr>\n",
       "  </thead>\n",
       "  <tbody>\n",
       "    <tr>\n",
       "      <th>103</th>\n",
       "      <td>Lomma</td>\n",
       "      <td>93.86</td>\n",
       "    </tr>\n",
       "    <tr>\n",
       "      <th>59</th>\n",
       "      <td>Habo</td>\n",
       "      <td>93.35</td>\n",
       "    </tr>\n",
       "    <tr>\n",
       "      <th>98</th>\n",
       "      <td>Vellinge</td>\n",
       "      <td>93.13</td>\n",
       "    </tr>\n",
       "  </tbody>\n",
       "</table>\n",
       "</div>"
      ],
      "text/plain": [
       "    KOMMUNNAMN  VALDELTAGANDE\n",
       "103      Lomma          93.86\n",
       "59        Habo          93.35\n",
       "98    Vellinge          93.13"
      ]
     },
     "execution_count": 78,
     "metadata": {},
     "output_type": "execute_result"
    }
   ],
   "source": [
    "top_three_participation"
   ]
  },
  {
   "cell_type": "markdown",
   "id": "87fc9054-f525-4534-b124-aaedb12f97a6",
   "metadata": {},
   "source": [
    "The index labels are not interesting, so we replace them with empty strings."
   ]
  },
  {
   "cell_type": "code",
   "execution_count": 99,
   "id": "416be0a8-2359-4c58-b1c5-ecd7b866a624",
   "metadata": {},
   "outputs": [],
   "source": [
    "# top_three_participation_alt = top_three_participation"
   ]
  },
  {
   "cell_type": "code",
   "execution_count": 100,
   "id": "f118d4a5-680d-450a-a6fc-7194e1e01e4a",
   "metadata": {},
   "outputs": [],
   "source": [
    "# top_three_participation_alt = top_three_participation.index = [\"\",\"\",\"\"]"
   ]
  },
  {
   "cell_type": "code",
   "execution_count": 101,
   "id": "35c770f2-af75-46cf-8ae1-ad62568185b0",
   "metadata": {},
   "outputs": [],
   "source": [
    "top_three_participation.index = [\"\",\"\",\"\"]"
   ]
  },
  {
   "cell_type": "code",
   "execution_count": 102,
   "id": "f6a96878-a9c7-4b8e-81b2-fcecffc801dc",
   "metadata": {},
   "outputs": [
    {
     "data": {
      "text/html": [
       "<div>\n",
       "<style scoped>\n",
       "    .dataframe tbody tr th:only-of-type {\n",
       "        vertical-align: middle;\n",
       "    }\n",
       "\n",
       "    .dataframe tbody tr th {\n",
       "        vertical-align: top;\n",
       "    }\n",
       "\n",
       "    .dataframe thead th {\n",
       "        text-align: right;\n",
       "    }\n",
       "</style>\n",
       "<table border=\"1\" class=\"dataframe\">\n",
       "  <thead>\n",
       "    <tr style=\"text-align: right;\">\n",
       "      <th></th>\n",
       "      <th>KOMMUNNAMN</th>\n",
       "      <th>VALDELTAGANDE</th>\n",
       "    </tr>\n",
       "  </thead>\n",
       "  <tbody>\n",
       "    <tr>\n",
       "      <th></th>\n",
       "      <td>Lomma</td>\n",
       "      <td>93.86</td>\n",
       "    </tr>\n",
       "    <tr>\n",
       "      <th></th>\n",
       "      <td>Habo</td>\n",
       "      <td>93.35</td>\n",
       "    </tr>\n",
       "    <tr>\n",
       "      <th></th>\n",
       "      <td>Vellinge</td>\n",
       "      <td>93.13</td>\n",
       "    </tr>\n",
       "  </tbody>\n",
       "</table>\n",
       "</div>"
      ],
      "text/plain": [
       " KOMMUNNAMN  VALDELTAGANDE\n",
       "      Lomma          93.86\n",
       "       Habo          93.35\n",
       "   Vellinge          93.13"
      ]
     },
     "execution_count": 102,
     "metadata": {},
     "output_type": "execute_result"
    }
   ],
   "source": [
    "top_three_participation"
   ]
  },
  {
   "cell_type": "code",
   "execution_count": 83,
   "id": "1fdc2314-59ad-4297-ba59-a87612258303",
   "metadata": {},
   "outputs": [],
   "source": [
    "# def blank_index(x):\n",
    "#    \"\"\" \n",
    "#    to replace index labels with space\n",
    "#    \"\"\"\n",
    "#    return \" \""
   ]
  },
  {
   "cell_type": "code",
   "execution_count": 84,
   "id": "0a90564d-5acf-4bd1-8879-cafb51c494f8",
   "metadata": {},
   "outputs": [],
   "source": [
    "# top_three_participation.index.map(blank_index)"
   ]
  },
  {
   "cell_type": "code",
   "execution_count": 85,
   "id": "d596c9f2-6589-469b-8f04-5e2c7aa095a4",
   "metadata": {},
   "outputs": [],
   "source": [
    "# top_three_participation.index = top_three_participation.index.map(blank_index)"
   ]
  },
  {
   "cell_type": "code",
   "execution_count": 86,
   "id": "483e43fe-27ea-4b06-9226-81c215fba318",
   "metadata": {},
   "outputs": [],
   "source": [
    "# top_three_participation"
   ]
  },
  {
   "cell_type": "code",
   "execution_count": 87,
   "id": "47f4ad9d-510a-4f44-9167-c654fe6cb9eb",
   "metadata": {},
   "outputs": [],
   "source": [
    "# R_per_kommun_df.sort_values(by=\"VALDELTAGANDE\",ascending=False).iloc[0:3,[3,44]].values"
   ]
  },
  {
   "cell_type": "code",
   "execution_count": 88,
   "id": "c1ea6b59-3ff2-4ed9-9e60-a56c1fda0b35",
   "metadata": {},
   "outputs": [],
   "source": [
    "# print(R_per_kommun_df.sort_values(by=\"VALDELTAGANDE\",ascending=False).iloc[0:3,[3,44]].values)"
   ]
  },
  {
   "cell_type": "code",
   "execution_count": 89,
   "id": "2209b24f-3590-485d-b743-633476d33e09",
   "metadata": {},
   "outputs": [],
   "source": [
    "# R_per_kommun_df.sort_values(by=\"VALDELTAGANDE\",ascending=False).iloc[0:3,:]"
   ]
  },
  {
   "cell_type": "markdown",
   "id": "6c7c3328-169f-412b-a418-93a01c573c85",
   "metadata": {},
   "source": [
    "\n",
    "### Predicting Strokes\n"
   ]
  },
  {
   "cell_type": "markdown",
   "id": "33e15d6a-779e-4cd6-891f-c9915a2a5066",
   "metadata": {},
   "source": [
    "As usual, we check data before reading it."
   ]
  },
  {
   "cell_type": "markdown",
   "id": "ef9b6ffe-ea18-40f2-bf1d-afd490baeb30",
   "metadata": {},
   "source": [
    "![Upper left corner of the file opened in Jupyter](stroke-data-csv-wider.jpg  \"'Delimiter' shows the sep parameter value to use\")"
   ]
  },
  {
   "cell_type": "markdown",
   "id": "149e5ff4-87a4-4f8c-92c4-82dd96c156b6",
   "metadata": {},
   "source": [
    "We see that the delimiter is comma, \" , \", and the decimal character is \".\", so the default method for reading data may be used.<br>"
   ]
  },
  {
   "cell_type": "code",
   "execution_count": 90,
   "id": "9ff88c73-9ef0-4cb3-b8ca-3aba4b311c46",
   "metadata": {},
   "outputs": [],
   "source": [
    "stroke_data_df = pd.read_csv('stroke-data.csv')"
   ]
  },
  {
   "cell_type": "markdown",
   "id": "6dffd3cf-4ccf-4715-841a-aae6d7f461f3",
   "metadata": {},
   "source": [
    "Some more data"
   ]
  },
  {
   "cell_type": "code",
   "execution_count": 108,
   "id": "66202e0b-d7da-4ac7-bd3e-53ca57809362",
   "metadata": {},
   "outputs": [
    {
     "data": {
      "text/html": [
       "<div>\n",
       "<style scoped>\n",
       "    .dataframe tbody tr th:only-of-type {\n",
       "        vertical-align: middle;\n",
       "    }\n",
       "\n",
       "    .dataframe tbody tr th {\n",
       "        vertical-align: top;\n",
       "    }\n",
       "\n",
       "    .dataframe thead th {\n",
       "        text-align: right;\n",
       "    }\n",
       "</style>\n",
       "<table border=\"1\" class=\"dataframe\">\n",
       "  <thead>\n",
       "    <tr style=\"text-align: right;\">\n",
       "      <th></th>\n",
       "      <th>id</th>\n",
       "      <th>gender</th>\n",
       "      <th>age</th>\n",
       "      <th>hypertension</th>\n",
       "      <th>heart_disease</th>\n",
       "      <th>ever_married</th>\n",
       "      <th>work_type</th>\n",
       "      <th>Residence_type</th>\n",
       "      <th>avg_glucose_level</th>\n",
       "      <th>bmi</th>\n",
       "      <th>smoking_status</th>\n",
       "      <th>stroke</th>\n",
       "    </tr>\n",
       "  </thead>\n",
       "  <tbody>\n",
       "    <tr>\n",
       "      <th>5105</th>\n",
       "      <td>18234</td>\n",
       "      <td>Female</td>\n",
       "      <td>80.0</td>\n",
       "      <td>1</td>\n",
       "      <td>0</td>\n",
       "      <td>Yes</td>\n",
       "      <td>Private</td>\n",
       "      <td>Urban</td>\n",
       "      <td>83.75</td>\n",
       "      <td>NaN</td>\n",
       "      <td>never smoked</td>\n",
       "      <td>0</td>\n",
       "    </tr>\n",
       "    <tr>\n",
       "      <th>5106</th>\n",
       "      <td>44873</td>\n",
       "      <td>Female</td>\n",
       "      <td>81.0</td>\n",
       "      <td>0</td>\n",
       "      <td>0</td>\n",
       "      <td>Yes</td>\n",
       "      <td>Self-employed</td>\n",
       "      <td>Urban</td>\n",
       "      <td>125.20</td>\n",
       "      <td>40.0</td>\n",
       "      <td>never smoked</td>\n",
       "      <td>0</td>\n",
       "    </tr>\n",
       "    <tr>\n",
       "      <th>5107</th>\n",
       "      <td>19723</td>\n",
       "      <td>Female</td>\n",
       "      <td>35.0</td>\n",
       "      <td>0</td>\n",
       "      <td>0</td>\n",
       "      <td>Yes</td>\n",
       "      <td>Self-employed</td>\n",
       "      <td>Rural</td>\n",
       "      <td>82.99</td>\n",
       "      <td>30.6</td>\n",
       "      <td>never smoked</td>\n",
       "      <td>0</td>\n",
       "    </tr>\n",
       "    <tr>\n",
       "      <th>5108</th>\n",
       "      <td>37544</td>\n",
       "      <td>Male</td>\n",
       "      <td>51.0</td>\n",
       "      <td>0</td>\n",
       "      <td>0</td>\n",
       "      <td>Yes</td>\n",
       "      <td>Private</td>\n",
       "      <td>Rural</td>\n",
       "      <td>166.29</td>\n",
       "      <td>25.6</td>\n",
       "      <td>formerly smoked</td>\n",
       "      <td>0</td>\n",
       "    </tr>\n",
       "    <tr>\n",
       "      <th>5109</th>\n",
       "      <td>44679</td>\n",
       "      <td>Female</td>\n",
       "      <td>44.0</td>\n",
       "      <td>0</td>\n",
       "      <td>0</td>\n",
       "      <td>Yes</td>\n",
       "      <td>Govt_job</td>\n",
       "      <td>Urban</td>\n",
       "      <td>85.28</td>\n",
       "      <td>26.2</td>\n",
       "      <td>Unknown</td>\n",
       "      <td>0</td>\n",
       "    </tr>\n",
       "  </tbody>\n",
       "</table>\n",
       "</div>"
      ],
      "text/plain": [
       "         id  gender   age  hypertension  heart_disease ever_married  \\\n",
       "5105  18234  Female  80.0             1              0          Yes   \n",
       "5106  44873  Female  81.0             0              0          Yes   \n",
       "5107  19723  Female  35.0             0              0          Yes   \n",
       "5108  37544    Male  51.0             0              0          Yes   \n",
       "5109  44679  Female  44.0             0              0          Yes   \n",
       "\n",
       "          work_type Residence_type  avg_glucose_level   bmi   smoking_status  \\\n",
       "5105        Private          Urban              83.75   NaN     never smoked   \n",
       "5106  Self-employed          Urban             125.20  40.0     never smoked   \n",
       "5107  Self-employed          Rural              82.99  30.6     never smoked   \n",
       "5108        Private          Rural             166.29  25.6  formerly smoked   \n",
       "5109       Govt_job          Urban              85.28  26.2          Unknown   \n",
       "\n",
       "      stroke  \n",
       "5105       0  \n",
       "5106       0  \n",
       "5107       0  \n",
       "5108       0  \n",
       "5109       0  "
      ]
     },
     "execution_count": 108,
     "metadata": {},
     "output_type": "execute_result"
    }
   ],
   "source": [
    "stroke_data_df.tail()"
   ]
  },
  {
   "cell_type": "markdown",
   "id": "7ca63d2c-19b9-4484-bf82-e2468ab397ea",
   "metadata": {},
   "source": [
    "The structure of the data frame is:"
   ]
  },
  {
   "cell_type": "code",
   "execution_count": 109,
   "id": "c451683d-4474-43b2-a2d0-939d25f6e68d",
   "metadata": {},
   "outputs": [
    {
     "name": "stdout",
     "output_type": "stream",
     "text": [
      "<class 'pandas.core.frame.DataFrame'>\n",
      "RangeIndex: 5110 entries, 0 to 5109\n",
      "Data columns (total 12 columns):\n",
      " #   Column             Non-Null Count  Dtype  \n",
      "---  ------             --------------  -----  \n",
      " 0   id                 5110 non-null   int64  \n",
      " 1   gender             5110 non-null   object \n",
      " 2   age                5110 non-null   float64\n",
      " 3   hypertension       5110 non-null   int64  \n",
      " 4   heart_disease      5110 non-null   int64  \n",
      " 5   ever_married       5110 non-null   object \n",
      " 6   work_type          5110 non-null   object \n",
      " 7   Residence_type     5110 non-null   object \n",
      " 8   avg_glucose_level  5110 non-null   float64\n",
      " 9   bmi                4909 non-null   float64\n",
      " 10  smoking_status     5110 non-null   object \n",
      " 11  stroke             5110 non-null   int64  \n",
      "dtypes: float64(3), int64(4), object(5)\n",
      "memory usage: 479.2+ KB\n"
     ]
    }
   ],
   "source": [
    "stroke_data_df.info()"
   ]
  },
  {
   "cell_type": "markdown",
   "id": "dce3b635-7ed1-42e4-ba54-87da11651361",
   "metadata": {},
   "source": [
    "\n",
    "\n",
    "#### An interesting conclusion from the data\n"
   ]
  },
  {
   "cell_type": "markdown",
   "id": "2d5271cf-bdc6-443c-a888-914d24caa02f",
   "metadata": {},
   "source": [
    "It is commonly stated that stroke most often hits older people. A question now is if this is seen also in this data set.\n",
    "\n",
    "One way to investigate this is to make a scatter plot of age and stroke for each individual. \n",
    "As there are more than 5000 observations, some modifications of the plot are needed. To every stroke value is added a random value to make it deviate\n",
    "slightly from 0 or 1. Another change is that the fill color of each observation is made paler, by setting the opaque attribute, alpha, to a low value."
   ]
  },
  {
   "cell_type": "code",
   "execution_count": 113,
   "id": "3517057b-7f8b-4b27-b1da-a9dd64f15de8",
   "metadata": {},
   "outputs": [
    {
     "data": {
      "image/png": "[encoded data removed]",
      "text/plain": [
       "<Figure size 1800x800 with 1 Axes>"
      ]
     },
     "metadata": {},
     "output_type": "display_data"
    }
   ],
   "source": [
    "#plt.rcParams['text.usetex'] = True   # to be able to use LaTex\n",
    "\n",
    "fig, ax = plt.subplots(figsize=(18,8))\n",
    "# livingArea_asArray = np.asarray(apartments_df['livingArea'])\n",
    "# ppSqm_asArray = np.asarray(apartments_df['ppSqm'])\n",
    "#ax.plot = (livingArea_asArray,ppSqm_asArray)\n",
    "#ax.scatter(livingArea_asArray,ppSqm_asArray)\n",
    "ax.set_title('Stroke vs Age')\n",
    "ax.set_ylabel('Stroke')\n",
    "ax.set_xlabel('Age')\n",
    "# ax.legend(\"Stroke: 1 +- 3 s.d. i.e. 0.75 ... 1,25\", \"No stroke: 0 +- 3 s.d. i.e. -0.25 ... 0,25\", loc=(0.2, 0.5))\n",
    "ax.set_xticks(np.arange(0,90,5))\n",
    "rng = np.random.default_rng()\n",
    "noisy_stroke = np.asarray(stroke_data_df['stroke']) + 0.1 * rng.standard_normal(5110)  \n",
    "ax.scatter(np.asarray(stroke_data_df['age']),noisy_stroke, alpha=0.1);\n",
    "ax.text(1, 0.5,'1: person had a stroke \\n \\n \\n \\n \\n0: person had not a stroke ',fontsize=12);\n",
    "# ax.scatter(np.asarray(stroke_data_df['age']),np.asarray(stroke_data_df['stroke']) + , alpha=0.1)\n",
    "# ax.scatter('age', 'stroke', data= stroke_data_df, alpha=0.1)\n",
    "# plt.show()\n",
    "#plt.rcParams['text.usetex'] = False   # to be able to not use LaTex"
   ]
  },
  {
   "cell_type": "markdown",
   "id": "0087e66f-72a6-46f4-8f1f-64cc0223027c",
   "metadata": {},
   "source": [
    "We see that the majority of persons in the study have not suffered from a stroke, but those afflicted are mainly over 55 years old."
   ]
  },
  {
   "cell_type": "code",
   "execution_count": null,
   "id": "d211929d-45a2-410f-b9a3-17ceec4cbab4",
   "metadata": {},
   "outputs": [],
   "source": []
  }
 ],
 "metadata": {
  "kernelspec": {
   "display_name": "Python 3 (ipykernel)",
   "language": "python",
   "name": "python3"
  },
  "language_info": {
   "codemirror_mode": {
    "name": "ipython",
    "version": 3
   },
   "file_extension": ".py",
   "mimetype": "text/x-python",
   "name": "python",
   "nbconvert_exporter": "python",
   "pygments_lexer": "ipython3",
   "version": "3.13.0"
  }
 },
 "nbformat": 4,
 "nbformat_minor": 5
}
